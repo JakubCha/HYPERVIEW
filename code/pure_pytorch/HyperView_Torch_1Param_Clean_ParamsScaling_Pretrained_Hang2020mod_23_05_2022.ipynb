{
 "cells": [
  {
   "cell_type": "code",
   "execution_count": 1,
   "id": "270f1670-a145-441d-85b5-c5896262a5d5",
   "metadata": {
    "tags": []
   },
   "outputs": [],
   "source": [
    "import os\n",
    "from glob import glob\n",
    "import pandas as pd\n",
    "import numpy as np\n",
    "import torch\n",
    "import timm\n",
    "from torch.utils.data import Dataset, DataLoader\n",
    "from torch.utils.data.dataset import random_split\n",
    "from torch import nn, optim\n",
    "from torch.nn import functional as F\n",
    "from torchvision import transforms\n",
    "import torch\n",
    "import matplotlib.pyplot as plt\n",
    "from math import ceil\n",
    "from tqdm.notebook import tqdm\n",
    "import wandb\n",
    "from torch_lr_finder import LRFinder\n",
    "from utils import EarlyStopping\n",
    "import utils\n",
    "import plotly.express as px\n",
    "from scipy import ndimage\n",
    "from pickle import load"
   ]
  },
  {
   "cell_type": "code",
   "execution_count": 2,
   "id": "707e7a39-1543-4071-b32f-f03261397be1",
   "metadata": {},
   "outputs": [],
   "source": [
    "from models.Hang2020_mod import Hang2020, spectral_network, spatial_network"
   ]
  },
  {
   "cell_type": "code",
   "execution_count": 3,
   "id": "1382c3cd-4290-4b7f-806f-198920a1f686",
   "metadata": {
    "tags": []
   },
   "outputs": [
    {
     "name": "stderr",
     "output_type": "stream",
     "text": [
      "Failed to detect the name of this notebook, you can set it manually with the WANDB_NOTEBOOK_NAME environment variable to enable code saving.\n",
      "\u001b[34m\u001b[1mwandb\u001b[0m: Currently logged in as: \u001b[33mjcharyton\u001b[0m (use `wandb login --relogin` to force relogin)\n",
      "\u001b[34m\u001b[1mwandb\u001b[0m: wandb version 0.12.16 is available!  To upgrade, please run:\n",
      "\u001b[34m\u001b[1mwandb\u001b[0m:  $ pip install wandb --upgrade\n"
     ]
    },
    {
     "data": {
      "text/html": [
       "\n",
       "                    Syncing run <strong><a href=\"https://wandb.ai/jcharyton/HyperView-initial/runs/3it2rkfm\" target=\"_blank\">sandy-cosmos-63</a></strong> to <a href=\"https://wandb.ai/jcharyton/HyperView-initial\" target=\"_blank\">Weights & Biases</a> (<a href=\"https://docs.wandb.com/integrations/jupyter.html\" target=\"_blank\">docs</a>).<br/>\n",
       "\n",
       "                "
      ],
      "text/plain": [
       "<IPython.core.display.HTML object>"
      ]
     },
     "metadata": {},
     "output_type": "display_data"
    }
   ],
   "source": [
    "run = wandb.init(project='HyperView-initial', reinit=True)\n",
    "# wandb.init(mode=\"disabled\") # in case of testing code"
   ]
  },
  {
   "cell_type": "markdown",
   "id": "bdc45bc9-94ce-41f5-8e9a-dee4ce53beca",
   "metadata": {
    "tags": []
   },
   "source": [
    "### Paths definition"
   ]
  },
  {
   "cell_type": "code",
   "execution_count": 4,
   "id": "31f3113b-e082-4f61-ae37-e02b0ec9e990",
   "metadata": {},
   "outputs": [],
   "source": [
    "train_data_directory = r'../../train_data'\n",
    "test_data_directory = r'../../test_data'\n",
    "saved_models_directory = r'../../saved_models'\n",
    "submissions_directory = r'../../submissions'"
   ]
  },
  {
   "cell_type": "markdown",
   "id": "f80dc9fe-75d0-4297-b2fe-e50637b59d2b",
   "metadata": {},
   "source": [
    "### Load mean and std values of training dataset"
   ]
  },
  {
   "cell_type": "code",
   "execution_count": 5,
   "id": "d936e375-5279-40c8-90f3-83bdca3a4ff1",
   "metadata": {},
   "outputs": [],
   "source": [
    "means_stds_arrays = np.load(os.path.join(\n",
    "    train_data_directory, 'means_stds_values_training_data.npz'))\n",
    "means = np.array(means_stds_arrays['means'])\n",
    "stds = np.array(means_stds_arrays['stds'])"
   ]
  },
  {
   "cell_type": "markdown",
   "id": "7384d28d-3b5e-4de0-8c00-2771d5dda519",
   "metadata": {},
   "source": [
    "### Load scalers for parameters"
   ]
  },
  {
   "cell_type": "code",
   "execution_count": 6,
   "id": "58b11e80-89f5-4a5f-9530-2ea09cdb2ef9",
   "metadata": {},
   "outputs": [],
   "source": [
    "parameters_scalers = dict()\n",
    "parameters_scalers['P'] = load((open(os.path.join(train_data_directory, 'standard_scaler_P.pkl'), 'rb')))\n",
    "parameters_scalers['K'] = load((open(os.path.join(train_data_directory, 'standard_scaler_K.pkl'), 'rb')))\n",
    "parameters_scalers['Mg'] = load((open(os.path.join(train_data_directory, 'standard_scaler_Mg.pkl'), 'rb')))\n",
    "parameters_scalers['pH'] = load((open(os.path.join(train_data_directory, 'standard_scaler_pH.pkl'), 'rb')))"
   ]
  },
  {
   "cell_type": "code",
   "execution_count": 7,
   "id": "bdf66e15-7a25-46b8-bd5a-a3fd331e8390",
   "metadata": {},
   "outputs": [
    {
     "data": {
      "text/plain": [
       "array([70.30265589])"
      ]
     },
     "execution_count": 7,
     "metadata": {},
     "output_type": "execute_result"
    }
   ],
   "source": [
    "parameters_scalers['P'].mean_"
   ]
  },
  {
   "cell_type": "markdown",
   "id": "69734912-1875-401f-9e0b-7afa7eac153e",
   "metadata": {},
   "source": [
    "### Dataset definition"
   ]
  },
  {
   "cell_type": "code",
   "execution_count": 8,
   "id": "55fc5b6c-09e5-49d5-9211-32d95db7fa30",
   "metadata": {},
   "outputs": [],
   "source": [
    "class HyperViewDataset(Dataset):\n",
    "    def __init__(self, gt_file, img_dir, transform=True, means=None, stds=None, train_transforms=False, parameters_scalers=None):\n",
    "        self.img_dir = img_dir\n",
    "        if gt_file is not None:\n",
    "            self.gt = pd.read_csv(gt_file)[['sample_index', 'P', 'K', 'Mg', 'pH']]\n",
    "        else:\n",
    "            self.gt = None\n",
    "        self.transform = transform  # whether to perform transformation of input data\n",
    "        # whether to perform transformations like on training data\n",
    "        self.train_transforms = train_transforms\n",
    "\n",
    "        if self.train_transforms:\n",
    "            self.training_transforms_composition = transforms.Compose([\n",
    "                transforms.RandomHorizontalFlip(p=0.4), transforms.RandomVerticalFlip(p=0.4)])\n",
    "\n",
    "        self.means = means  # mean values for every band used to normalize data\n",
    "        self.stds = stds  # std values for every band used to normalize data\n",
    "\n",
    "        self.img_files = np.array(\n",
    "            sorted(\n",
    "                glob(os.path.join(img_dir, \"*.npz\")),\n",
    "                key=lambda x: int(os.path.basename(x).replace(\".npz\", \"\")),\n",
    "            )\n",
    "        )\n",
    "\n",
    "        if parameters_scalers is not None:\n",
    "            self.scaler_P = parameters_scalers['P']\n",
    "            self.scaler_K = parameters_scalers['K']\n",
    "            self.scaler_Mg = parameters_scalers['Mg']\n",
    "            self.scaler_pH = parameters_scalers['pH']\n",
    "        else:\n",
    "            self.scaler_P = None\n",
    "            self.scaler_K = None\n",
    "            self.scaler_Mg = None\n",
    "            self.scaler_pH = None\n",
    "\n",
    "    def pad_to_minimum_size(self, min_size, image):\n",
    "        # pads numpy array to defined in `min_size` minimum size of array (w, h)\n",
    "        c, h, w = image.shape\n",
    "        h_diff = (min_size - h)/2\n",
    "        w_diff = (min_size - w)/2\n",
    "\n",
    "        if not h_diff.is_integer():\n",
    "            h_pad1 = int(h_diff - 0.5)\n",
    "            h_pad2 = int(h_diff + 0.5)\n",
    "        else:\n",
    "            h_pad1 = h_pad2 = int(h_diff)\n",
    "\n",
    "        if not w_diff.is_integer():\n",
    "            w_pad1 = int(w_diff - 0.5)\n",
    "            w_pad2 = int(w_diff + 0.5)\n",
    "        else:\n",
    "            w_pad1 = w_pad2 = int(w_diff)\n",
    "\n",
    "        # check if any padding is bigger than zero\n",
    "        if h_pad1+h_pad2+w_pad1+h_pad2 == 0:\n",
    "            return image\n",
    "        else:\n",
    "            return transforms.functional.pad(image, (w_pad1, h_pad1, w_pad2, h_pad2), fill=0)\n",
    "\n",
    "    def __len__(self):\n",
    "        return len(self.img_files)\n",
    "\n",
    "    def __getitem__(self, idx):\n",
    "        # load hyperspectral image to array\n",
    "        img_arr = np.ma.MaskedArray(**np.load(self.img_files[idx]))\n",
    "        img_tensor = torch.as_tensor(img_arr.data, dtype=torch.float)\n",
    "        # Inverting mask is necessary due to masking method in numpy\n",
    "        img_tensor_mask = ~torch.as_tensor(img_arr.mask)\n",
    "        img_masked_tensor = torch.mul(img_tensor, img_tensor_mask)\n",
    "\n",
    "        if self.transform:\n",
    "            img_masked_tensor_transformed = transforms.functional.normalize(\n",
    "                img_masked_tensor, mean=self.means.tolist(), std=self.stds.tolist())\n",
    "            img_masked_tensor_transformed = self.pad_to_minimum_size(\n",
    "                300, img_masked_tensor_transformed)\n",
    "            if self.train_transforms:\n",
    "                img_masked_tensor_transformed = self.training_transforms_composition(\n",
    "                    img_masked_tensor_transformed)\n",
    "            img_result_tensor = img_masked_tensor_transformed\n",
    "        else:\n",
    "            img_result_tensor = img_masked_tensor\n",
    "        # load labels\n",
    "        if self.gt is not None:\n",
    "            P_gt = self.gt.loc[idx, 'P']\n",
    "            K_gt = self.gt.loc[idx, 'K']\n",
    "            Mg_gt = self.gt.loc[idx, 'Mg']\n",
    "            pH_gt = self.gt.loc[idx, 'pH']\n",
    "            sample_index = self.gt.loc[idx, 'sample_index']\n",
    "            \n",
    "            if self.scaler_P is not None:\n",
    "                assert self.scaler_K is not None\n",
    "                assert self.scaler_Mg is not None\n",
    "                assert self.scaler_pH is not None\n",
    "                \n",
    "                P_gt = self.scaler_P.transform(np.array(P_gt).reshape(1, -1))[0][0]\n",
    "                K_gt = self.scaler_K.transform(np.array(K_gt).reshape(1, -1))[0][0]\n",
    "                Mg_gt = self.scaler_Mg.transform(np.array(Mg_gt).reshape(1, -1))[0][0]\n",
    "                pH_gt = self.scaler_pH.transform(np.array(pH_gt).reshape(1, -1))[0][0]\n",
    "                \n",
    "\n",
    "            sample = {'image': img_result_tensor, 'P': P_gt,\n",
    "                      'K': K_gt, 'Mg': Mg_gt, 'pH': pH_gt, 'sample_index': sample_index}\n",
    "        else:\n",
    "            sample = {'image': img_result_tensor}\n",
    "\n",
    "        return sample"
   ]
  },
  {
   "cell_type": "code",
   "execution_count": 9,
   "id": "29db8b86-b4a4-4f29-bea0-f51a2c824031",
   "metadata": {},
   "outputs": [],
   "source": [
    "train_data_whole = HyperViewDataset(os.path.join(train_data_directory, 'train_gt.csv'), os.path.join(\n",
    "    train_data_directory, 'train_data'), True, means, stds, train_transforms=True, parameters_scalers=parameters_scalers)"
   ]
  },
  {
   "cell_type": "code",
   "execution_count": 10,
   "id": "82ad2317-a57a-4b6c-831f-b5c2ed7280cc",
   "metadata": {
    "tags": []
   },
   "outputs": [],
   "source": [
    "train_dataset, validation_dataset = random_split(train_data_whole, [1000, 732], generator=torch.Generator().manual_seed(22))\n",
    "# train_dataset = torch.utils.data.Subset(train_data_whole, list(range(0, 1400)))\n",
    "# validation_dataset = torch.utils.data.Subset(train_data_whole, list(range(1400, len(train_data_whole))))"
   ]
  },
  {
   "cell_type": "markdown",
   "id": "ab1cda9a-39f3-4b58-aea8-79c8dfccf9b1",
   "metadata": {},
   "source": [
    "### Model Definition"
   ]
  },
  {
   "cell_type": "code",
   "execution_count": 11,
   "id": "d148a100-6ad0-439f-a8bc-9ccbdd091852",
   "metadata": {},
   "outputs": [
    {
     "data": {
      "text/plain": [
       "device(type='cuda', index=0)"
      ]
     },
     "execution_count": 11,
     "metadata": {},
     "output_type": "execute_result"
    }
   ],
   "source": [
    "device = torch.device(\"cuda:0\" if torch.cuda.is_available() else \"cpu\")\n",
    "device"
   ]
  },
  {
   "cell_type": "code",
   "execution_count": 12,
   "id": "2cb2cae6-e7ec-4206-9451-14ee6ae07475",
   "metadata": {},
   "outputs": [],
   "source": [
    "BATCH_SIZE = 12\n",
    "EPOCHS = 300"
   ]
  },
  {
   "cell_type": "code",
   "execution_count": 13,
   "id": "9c45de25-2011-4cca-8a1c-a6d30848926d",
   "metadata": {
    "tags": []
   },
   "outputs": [],
   "source": [
    "train_dataloader = DataLoader(\n",
    "    train_dataset, batch_size=BATCH_SIZE, pin_memory=True, drop_last=True, num_workers=4, shuffle=True)\n",
    "validation_dataloader = DataLoader(\n",
    "    validation_dataset, batch_size=BATCH_SIZE, pin_memory=True, drop_last=True, num_workers=4, shuffle=True)"
   ]
  },
  {
   "cell_type": "code",
   "execution_count": 16,
   "id": "05daa204-1486-4ffa-84d3-2a5def7c38d9",
   "metadata": {},
   "outputs": [],
   "source": [
    "model = Hang2020(bands=150, classes=1, pretrained=True).to(device)"
   ]
  },
  {
   "cell_type": "markdown",
   "id": "6184ff00-8fc3-4ce0-8734-fc91aed6edf2",
   "metadata": {
    "tags": []
   },
   "source": [
    "### Overfitting on single batch of data"
   ]
  },
  {
   "cell_type": "code",
   "execution_count": 17,
   "id": "293eff61-d23d-4acc-b235-c30568518e90",
   "metadata": {
    "tags": []
   },
   "outputs": [],
   "source": [
    "loss_func = torch.nn.MSELoss()\n",
    "optimizer = torch.optim.AdamW(model.parameters(), lr=0.01)"
   ]
  },
  {
   "cell_type": "code",
   "execution_count": 18,
   "id": "86fd1f16-c087-48f6-975c-4cacc3da11df",
   "metadata": {
    "tags": []
   },
   "outputs": [],
   "source": [
    "train_data_single_batch = next(iter(train_dataloader))"
   ]
  },
  {
   "cell_type": "code",
   "execution_count": 19,
   "id": "5d6d072d-4b02-410e-9645-c7bfbe14c2b2",
   "metadata": {},
   "outputs": [
    {
     "data": {
      "text/plain": [
       "torch.Size([150, 300, 300])"
      ]
     },
     "execution_count": 19,
     "metadata": {},
     "output_type": "execute_result"
    }
   ],
   "source": [
    "train_data_single_batch['image'][0].shape"
   ]
  },
  {
   "cell_type": "code",
   "execution_count": 20,
   "id": "93d72bc8-ece7-4193-b778-a390a9751a35",
   "metadata": {
    "tags": []
   },
   "outputs": [
    {
     "data": {
      "text/plain": [
       "torch.Size([12, 150, 300, 300])"
      ]
     },
     "execution_count": 20,
     "metadata": {},
     "output_type": "execute_result"
    }
   ],
   "source": [
    "train_data_single_batch['image'].to(device, dtype=torch.float).shape"
   ]
  },
  {
   "cell_type": "code",
   "execution_count": 21,
   "id": "026dc48b-f378-4a85-89ac-954ca3e0926e",
   "metadata": {
    "tags": []
   },
   "outputs": [
    {
     "name": "stderr",
     "output_type": "stream",
     "text": [
      "/home/CENAGIS/jcharyton/.local/lib/python3.7/site-packages/torch/nn/functional.py:1806: UserWarning: nn.functional.sigmoid is deprecated. Use torch.sigmoid instead.\n",
      "  warnings.warn(\"nn.functional.sigmoid is deprecated. Use torch.sigmoid instead.\")\n"
     ]
    }
   ],
   "source": [
    "output = model(train_data_single_batch['image'].to(device, dtype=torch.float)) # we are interested in final values (from las attention layer)"
   ]
  },
  {
   "cell_type": "code",
   "execution_count": 22,
   "id": "701ea6da-9d6e-4563-bc11-a772c2a09d54",
   "metadata": {},
   "outputs": [
    {
     "data": {
      "text/plain": [
       "tensor([[0.1029],\n",
       "        [0.0324],\n",
       "        [0.0942],\n",
       "        [0.1080],\n",
       "        [0.0981],\n",
       "        [0.0924],\n",
       "        [0.0375],\n",
       "        [0.0986],\n",
       "        [0.1041],\n",
       "        [0.0822],\n",
       "        [0.0312],\n",
       "        [0.0919]], device='cuda:0', grad_fn=<AddBackward0>)"
      ]
     },
     "execution_count": 22,
     "metadata": {},
     "output_type": "execute_result"
    }
   ],
   "source": [
    "output"
   ]
  },
  {
   "cell_type": "code",
   "execution_count": 23,
   "id": "6bb696df-6fd5-46ea-9a10-a3cd16136a96",
   "metadata": {},
   "outputs": [
    {
     "data": {
      "text/plain": [
       "torch.Size([12, 1])"
      ]
     },
     "execution_count": 23,
     "metadata": {},
     "output_type": "execute_result"
    }
   ],
   "source": [
    "output.shape"
   ]
  },
  {
   "cell_type": "code",
   "execution_count": 24,
   "id": "faa69993-5f06-481e-ad89-1bc9e41f2ab6",
   "metadata": {
    "tags": []
   },
   "outputs": [
    {
     "data": {
      "text/plain": [
       "tensor([[-1.3833],\n",
       "        [-1.1392],\n",
       "        [ 0.8170],\n",
       "        [ 0.8712],\n",
       "        [-1.4138],\n",
       "        [-0.1187],\n",
       "        [-1.3155],\n",
       "        [-0.1357],\n",
       "        [ 0.8780],\n",
       "        [-0.7053],\n",
       "        [ 1.0068],\n",
       "        [-0.2306]], device='cuda:0', dtype=torch.float64)"
      ]
     },
     "execution_count": 24,
     "metadata": {},
     "output_type": "execute_result"
    }
   ],
   "source": [
    "stacked_gt = train_data_single_batch['P'].unsqueeze(dim=0).permute(1, 0).to(device)\n",
    "stacked_gt"
   ]
  },
  {
   "cell_type": "code",
   "execution_count": 25,
   "id": "33c0e688-f778-45a6-ac50-05811d936cf6",
   "metadata": {},
   "outputs": [
    {
     "data": {
      "text/plain": [
       "tensor(0.9314, device='cuda:0', dtype=torch.float64,\n",
       "       grad_fn=<MseLossBackward0>)"
      ]
     },
     "execution_count": 25,
     "metadata": {},
     "output_type": "execute_result"
    }
   ],
   "source": [
    "loss_func(output, stacked_gt)"
   ]
  },
  {
   "cell_type": "markdown",
   "id": "61320bb8-fbf5-4216-b8c9-38a470fa18cf",
   "metadata": {},
   "source": [
    "#### Sprawdzenie czy inwersja skalowania działa właściwie"
   ]
  },
  {
   "cell_type": "code",
   "execution_count": 26,
   "id": "9e6eed7d-facc-488a-b046-bf0fe9e37729",
   "metadata": {
    "tags": []
   },
   "outputs": [],
   "source": [
    "gt_df = pd.read_csv(os.path.join(train_data_directory, 'train_gt.csv'))[\n",
    "    ['sample_index', 'P', 'K', 'Mg', 'pH']]"
   ]
  },
  {
   "cell_type": "code",
   "execution_count": 27,
   "id": "24495e12-54cb-4eae-b2c8-c80ea2110c95",
   "metadata": {},
   "outputs": [
    {
     "data": {
      "text/plain": [
       "tensor([1731, 1176, 1101,  520,   98,  400, 1148,  101, 1167, 1558, 1606, 1662])"
      ]
     },
     "execution_count": 27,
     "metadata": {},
     "output_type": "execute_result"
    }
   ],
   "source": [
    "train_data_single_batch['sample_index']"
   ]
  },
  {
   "cell_type": "code",
   "execution_count": 28,
   "id": "f432892a-39f5-4e90-a431-e4d554819ad5",
   "metadata": {},
   "outputs": [
    {
     "data": {
      "text/plain": [
       "array([[ 29.5],\n",
       "       [ 36.7],\n",
       "       [ 94.4],\n",
       "       [ 96. ],\n",
       "       [ 28.6],\n",
       "       [ 66.8],\n",
       "       [ 31.5],\n",
       "       [ 66.3],\n",
       "       [ 96.2],\n",
       "       [ 49.5],\n",
       "       [100. ],\n",
       "       [ 63.5]])"
      ]
     },
     "execution_count": 28,
     "metadata": {},
     "output_type": "execute_result"
    }
   ],
   "source": [
    "gt_df.loc[train_data_single_batch['sample_index'], 'P'].values.reshape(-1, 1)"
   ]
  },
  {
   "cell_type": "code",
   "execution_count": 29,
   "id": "38e55cff-a87a-4e28-a0d4-1ead36f735bb",
   "metadata": {},
   "outputs": [
    {
     "data": {
      "text/plain": [
       "StandardScaler()"
      ]
     },
     "execution_count": 29,
     "metadata": {},
     "output_type": "execute_result"
    }
   ],
   "source": [
    "scaler = getattr(train_dataset.dataset, f'scaler_P')\n",
    "scaler"
   ]
  },
  {
   "cell_type": "code",
   "execution_count": 30,
   "id": "29de74fc-4b48-4501-86b3-cb54ee47b8b9",
   "metadata": {},
   "outputs": [
    {
     "data": {
      "text/plain": [
       "array([[ 29.5],\n",
       "       [ 36.7],\n",
       "       [ 94.4],\n",
       "       [ 96. ],\n",
       "       [ 28.6],\n",
       "       [ 66.8],\n",
       "       [ 31.5],\n",
       "       [ 66.3],\n",
       "       [ 96.2],\n",
       "       [ 49.5],\n",
       "       [100. ],\n",
       "       [ 63.5]])"
      ]
     },
     "execution_count": 30,
     "metadata": {},
     "output_type": "execute_result"
    }
   ],
   "source": [
    "scaler.inverse_transform(stacked_gt.cpu())"
   ]
  },
  {
   "cell_type": "code",
   "execution_count": 31,
   "id": "493e0282-45c4-4fc5-b433-83b5001472ec",
   "metadata": {},
   "outputs": [
    {
     "data": {
      "text/plain": [
       "array([[ True],\n",
       "       [ True],\n",
       "       [ True],\n",
       "       [ True],\n",
       "       [ True],\n",
       "       [ True],\n",
       "       [ True],\n",
       "       [ True],\n",
       "       [ True],\n",
       "       [ True],\n",
       "       [ True],\n",
       "       [ True]])"
      ]
     },
     "execution_count": 31,
     "metadata": {},
     "output_type": "execute_result"
    }
   ],
   "source": [
    "scaler.inverse_transform(stacked_gt.cpu()) == gt_df.loc[train_data_single_batch['sample_index'], 'P'].values.reshape(-1, 1)"
   ]
  },
  {
   "cell_type": "markdown",
   "id": "1df0e2a7-aee1-46c9-b4a3-ae1c9cdd12ce",
   "metadata": {},
   "source": [
    "#### Właściwa pętla overfit"
   ]
  },
  {
   "cell_type": "code",
   "execution_count": 32,
   "id": "43f645e1-7231-4d50-adeb-8670d457d5ea",
   "metadata": {},
   "outputs": [
    {
     "name": "stdout",
     "output_type": "stream",
     "text": [
      "epoch: 0, loss: 0.849164605140686, MSE: [0.84916455], MSE from unscaled values: [738.79834]\n",
      "epoch: 10, loss: 0.2709139287471771, MSE: [0.27091393], MSE from unscaled values: [235.70314]\n",
      "epoch: 20, loss: 0.218845933675766, MSE: [0.21884595], MSE from unscaled values: [190.40242]\n",
      "epoch: 30, loss: 0.16382962465286255, MSE: [0.16382961], MSE from unscaled values: [142.5366]\n",
      "epoch: 40, loss: 0.0937298983335495, MSE: [0.09372989], MSE from unscaled values: [81.5478]\n",
      "epoch: 50, loss: 0.09154470264911652, MSE: [0.09154469], MSE from unscaled values: [79.64661]\n",
      "epoch: 60, loss: 0.04959078133106232, MSE: [0.04959078], MSE from unscaled values: [43.14546]\n",
      "epoch: 70, loss: 0.01129663735628128, MSE: [0.01129664], MSE from unscaled values: [9.828408]\n",
      "epoch: 80, loss: 0.0039753420278429985, MSE: [0.00397534], MSE from unscaled values: [3.4586656]\n",
      "epoch: 90, loss: 0.0008636377169750631, MSE: [0.00086364], MSE from unscaled values: [0.7513898]\n",
      "epoch: 100, loss: 0.00030506521579809487, MSE: [0.00030507], MSE from unscaled values: [0.26541486]\n",
      "epoch: 110, loss: 0.00010328386997571215, MSE: [0.00010328], MSE from unscaled values: [0.08986004]\n",
      "epoch: 120, loss: 3.458761784713715e-05, MSE: [3.4587618e-05], MSE from unscaled values: [0.03009232]\n",
      "epoch: 130, loss: 1.6468602552777156e-05, MSE: [1.64686e-05], MSE from unscaled values: [0.0143283]\n",
      "epoch: 140, loss: 7.312949492188636e-06, MSE: [7.312949e-06], MSE from unscaled values: [0.00636247]\n",
      "epoch: 150, loss: 2.2500616978504695e-06, MSE: [2.2500615e-06], MSE from unscaled values: [0.00195767]\n",
      "epoch: 160, loss: 7.18005594535498e-07, MSE: [7.180056e-07], MSE from unscaled values: [0.00062473]\n",
      "epoch: 170, loss: 2.3324139419855783e-07, MSE: [2.332414e-07], MSE from unscaled values: [0.00020293]\n",
      "epoch: 180, loss: 1.0337446099129011e-07, MSE: [1.0337445e-07], MSE from unscaled values: [8.9929825e-05]\n",
      "epoch: 190, loss: 4.4044224267736354e-08, MSE: [4.4044228e-08], MSE from unscaled values: [3.8317492e-05]\n",
      "epoch: 200, loss: 1.57489399299493e-08, MSE: [1.574894e-08], MSE from unscaled values: [1.3700224e-05]\n",
      "epoch: 210, loss: 3.5521203756161412e-09, MSE: [3.5521204e-09], MSE from unscaled values: [3.08999e-06]\n",
      "epoch: 220, loss: 1.8393848666420354e-09, MSE: [1.8393848e-09], MSE from unscaled values: [1.5992482e-06]\n",
      "epoch: 230, loss: 1.5304196798737735e-09, MSE: [1.5304197e-09], MSE from unscaled values: [1.3306259e-06]\n",
      "epoch: 240, loss: 1.7278999342451584e-09, MSE: [1.7278999e-09], MSE from unscaled values: [1.5062554e-06]\n",
      "epoch: 250, loss: 2.01019467738206e-09, MSE: [2.0101947e-09], MSE from unscaled values: [1.7477784e-06]\n",
      "epoch: 260, loss: 1.8742269958238467e-09, MSE: [1.874227e-09], MSE from unscaled values: [1.631363e-06]\n",
      "epoch: 270, loss: 1.6558314719361533e-09, MSE: [1.6558315e-09], MSE from unscaled values: [1.4384483e-06]\n",
      "epoch: 280, loss: 1.5883552251239053e-09, MSE: [1.5883552e-09], MSE from unscaled values: [1.3822331e-06]\n",
      "epoch: 290, loss: 1.550552464202326e-09, MSE: [1.5505525e-09], MSE from unscaled values: [1.3495774e-06]\n",
      "epoch: 300, loss: 1.4403876980040309e-09, MSE: [1.4403877e-09], MSE from unscaled values: [1.2544491e-06]\n"
     ]
    }
   ],
   "source": [
    "img_data_device = train_data_single_batch['image'].to(\n",
    "    device, dtype=torch.float)\n",
    "stacked_gt_device = train_data_single_batch['P'].unsqueeze(dim=0).permute(1, 0).to(device, dtype=torch.float)\n",
    "scaler = getattr(train_dataset.dataset, f'scaler_P')\n",
    "\n",
    "model = Hang2020(bands=150, classes=1, pretrained=True).to(device)\n",
    "\n",
    "optimizer = torch.optim.AdamW(model.parameters(), lr=0.01)\n",
    "loss_func = torch.nn.MSELoss()\n",
    "model.train()\n",
    "\n",
    "for epoch in range(301):\n",
    "\n",
    "    output = model(img_data_device)\n",
    "    loss = loss_func(output, stacked_gt_device)\n",
    "\n",
    "    optimizer.zero_grad()\n",
    "    loss.backward()\n",
    "    optimizer.step()\n",
    "\n",
    "    output_cpu = output.detach().cpu().numpy()\n",
    "    stacked_gt_cpu = stacked_gt_device.cpu().numpy()\n",
    "    \n",
    "    output_cpu_inversed = scaler.inverse_transform(output_cpu)\n",
    "    stacked_gt_cpu_inversed = scaler.inverse_transform(stacked_gt_cpu)\n",
    "\n",
    "    # Calculate MSE for each class\n",
    "    mse_inversed = np.mean((stacked_gt_cpu_inversed - output_cpu_inversed) ** 2, axis=0)\n",
    "    mse = np.mean((stacked_gt_cpu - output_cpu) ** 2, axis=0)\n",
    "\n",
    "    if epoch % 10 == 0:\n",
    "        print(f'epoch: {epoch}, loss: {loss.data.cpu().numpy()}, MSE: {mse}, MSE from unscaled values: {mse_inversed}')"
   ]
  },
  {
   "cell_type": "markdown",
   "id": "c1709bb7-6d88-4a47-a34c-e12d438f37f5",
   "metadata": {},
   "source": [
    "#### Testing models"
   ]
  },
  {
   "cell_type": "code",
   "execution_count": 203,
   "id": "8c647da5-2973-4f11-9c47-41d2d2827efe",
   "metadata": {},
   "outputs": [],
   "source": [
    "#Download weights for resnet18\n",
    "url = \"https://download.pytorch.org/models/resnet18-f37072fd.pth\"\n",
    "state = torch.utils.model_zoo.load_url(url)"
   ]
  },
  {
   "cell_type": "code",
   "execution_count": 214,
   "id": "48f9220d-d89c-4b5c-923b-ff954ef4eb3a",
   "metadata": {},
   "outputs": [],
   "source": [
    "model = spectral_network(bands=150, classes=1, pretrained=True)"
   ]
  },
  {
   "cell_type": "code",
   "execution_count": 215,
   "id": "4a2e7eac-ec89-4d04-a06f-90154e6aedce",
   "metadata": {
    "collapsed": true,
    "jupyter": {
     "outputs_hidden": true
    },
    "tags": []
   },
   "outputs": [
    {
     "data": {
      "text/plain": [
       "spectral_network(\n",
       "  (conv1): conv_module(\n",
       "    (resnet_model): Sequential(\n",
       "      (0): Conv2d(150, 64, kernel_size=(7, 7), stride=(2, 2), padding=(3, 3), bias=False)\n",
       "      (1): BatchNorm2d(64, eps=1e-05, momentum=0.1, affine=True, track_running_stats=True)\n",
       "      (2): ReLU(inplace=True)\n",
       "      (3): MaxPool2d(kernel_size=3, stride=2, padding=1, dilation=1, ceil_mode=False)\n",
       "      (4): Sequential(\n",
       "        (0): BasicBlock(\n",
       "          (conv1): Conv2d(64, 64, kernel_size=(3, 3), stride=(1, 1), padding=(1, 1), bias=False)\n",
       "          (bn1): BatchNorm2d(64, eps=1e-05, momentum=0.1, affine=True, track_running_stats=True)\n",
       "          (relu): ReLU(inplace=True)\n",
       "          (conv2): Conv2d(64, 64, kernel_size=(3, 3), stride=(1, 1), padding=(1, 1), bias=False)\n",
       "          (bn2): BatchNorm2d(64, eps=1e-05, momentum=0.1, affine=True, track_running_stats=True)\n",
       "        )\n",
       "        (1): BasicBlock(\n",
       "          (conv1): Conv2d(64, 64, kernel_size=(3, 3), stride=(1, 1), padding=(1, 1), bias=False)\n",
       "          (bn1): BatchNorm2d(64, eps=1e-05, momentum=0.1, affine=True, track_running_stats=True)\n",
       "          (relu): ReLU(inplace=True)\n",
       "          (conv2): Conv2d(64, 64, kernel_size=(3, 3), stride=(1, 1), padding=(1, 1), bias=False)\n",
       "          (bn2): BatchNorm2d(64, eps=1e-05, momentum=0.1, affine=True, track_running_stats=True)\n",
       "        )\n",
       "      )\n",
       "    )\n",
       "  )\n",
       "  (attention_1): spectral_attention(\n",
       "    (attention_conv1): Conv1d(64, 64, kernel_size=(3,), stride=(1,), padding=same)\n",
       "    (attention_conv2): Conv1d(64, 64, kernel_size=(3,), stride=(1,), padding=same)\n",
       "  )\n",
       "  (classifier1): Classifier(\n",
       "    (fc1): Linear(in_features=64, out_features=1, bias=True)\n",
       "  )\n",
       "  (conv2): conv_module(\n",
       "    (resnet_model): Sequential(\n",
       "      (0): Conv2d(64, 64, kernel_size=(7, 7), stride=(2, 2), padding=(3, 3), bias=False)\n",
       "      (1): BatchNorm2d(64, eps=1e-05, momentum=0.1, affine=True, track_running_stats=True)\n",
       "      (2): ReLU(inplace=True)\n",
       "      (3): MaxPool2d(kernel_size=3, stride=2, padding=1, dilation=1, ceil_mode=False)\n",
       "      (4): Sequential(\n",
       "        (0): BasicBlock(\n",
       "          (conv1): Conv2d(64, 64, kernel_size=(3, 3), stride=(1, 1), padding=(1, 1), bias=False)\n",
       "          (bn1): BatchNorm2d(64, eps=1e-05, momentum=0.1, affine=True, track_running_stats=True)\n",
       "          (relu): ReLU(inplace=True)\n",
       "          (conv2): Conv2d(64, 64, kernel_size=(3, 3), stride=(1, 1), padding=(1, 1), bias=False)\n",
       "          (bn2): BatchNorm2d(64, eps=1e-05, momentum=0.1, affine=True, track_running_stats=True)\n",
       "        )\n",
       "        (1): BasicBlock(\n",
       "          (conv1): Conv2d(64, 64, kernel_size=(3, 3), stride=(1, 1), padding=(1, 1), bias=False)\n",
       "          (bn1): BatchNorm2d(64, eps=1e-05, momentum=0.1, affine=True, track_running_stats=True)\n",
       "          (relu): ReLU(inplace=True)\n",
       "          (conv2): Conv2d(64, 64, kernel_size=(3, 3), stride=(1, 1), padding=(1, 1), bias=False)\n",
       "          (bn2): BatchNorm2d(64, eps=1e-05, momentum=0.1, affine=True, track_running_stats=True)\n",
       "        )\n",
       "      )\n",
       "      (5): Sequential(\n",
       "        (0): BasicBlock(\n",
       "          (conv1): Conv2d(64, 128, kernel_size=(3, 3), stride=(2, 2), padding=(1, 1), bias=False)\n",
       "          (bn1): BatchNorm2d(128, eps=1e-05, momentum=0.1, affine=True, track_running_stats=True)\n",
       "          (relu): ReLU(inplace=True)\n",
       "          (conv2): Conv2d(128, 128, kernel_size=(3, 3), stride=(1, 1), padding=(1, 1), bias=False)\n",
       "          (bn2): BatchNorm2d(128, eps=1e-05, momentum=0.1, affine=True, track_running_stats=True)\n",
       "          (downsample): Sequential(\n",
       "            (0): Conv2d(64, 128, kernel_size=(1, 1), stride=(2, 2), bias=False)\n",
       "            (1): BatchNorm2d(128, eps=1e-05, momentum=0.1, affine=True, track_running_stats=True)\n",
       "          )\n",
       "        )\n",
       "        (1): BasicBlock(\n",
       "          (conv1): Conv2d(128, 128, kernel_size=(3, 3), stride=(1, 1), padding=(1, 1), bias=False)\n",
       "          (bn1): BatchNorm2d(128, eps=1e-05, momentum=0.1, affine=True, track_running_stats=True)\n",
       "          (relu): ReLU(inplace=True)\n",
       "          (conv2): Conv2d(128, 128, kernel_size=(3, 3), stride=(1, 1), padding=(1, 1), bias=False)\n",
       "          (bn2): BatchNorm2d(128, eps=1e-05, momentum=0.1, affine=True, track_running_stats=True)\n",
       "        )\n",
       "      )\n",
       "    )\n",
       "  )\n",
       "  (attention_2): spectral_attention(\n",
       "    (attention_conv1): Conv1d(128, 128, kernel_size=(5,), stride=(1,), padding=same)\n",
       "    (attention_conv2): Conv1d(128, 128, kernel_size=(5,), stride=(1,), padding=same)\n",
       "  )\n",
       "  (classifier2): Classifier(\n",
       "    (fc1): Linear(in_features=128, out_features=1, bias=True)\n",
       "  )\n",
       "  (conv3): conv_module(\n",
       "    (resnet_model): Sequential(\n",
       "      (0): Conv2d(128, 64, kernel_size=(7, 7), stride=(2, 2), padding=(3, 3), bias=False)\n",
       "      (1): BatchNorm2d(64, eps=1e-05, momentum=0.1, affine=True, track_running_stats=True)\n",
       "      (2): ReLU(inplace=True)\n",
       "      (3): MaxPool2d(kernel_size=3, stride=2, padding=1, dilation=1, ceil_mode=False)\n",
       "      (4): Sequential(\n",
       "        (0): BasicBlock(\n",
       "          (conv1): Conv2d(64, 64, kernel_size=(3, 3), stride=(1, 1), padding=(1, 1), bias=False)\n",
       "          (bn1): BatchNorm2d(64, eps=1e-05, momentum=0.1, affine=True, track_running_stats=True)\n",
       "          (relu): ReLU(inplace=True)\n",
       "          (conv2): Conv2d(64, 64, kernel_size=(3, 3), stride=(1, 1), padding=(1, 1), bias=False)\n",
       "          (bn2): BatchNorm2d(64, eps=1e-05, momentum=0.1, affine=True, track_running_stats=True)\n",
       "        )\n",
       "        (1): BasicBlock(\n",
       "          (conv1): Conv2d(64, 64, kernel_size=(3, 3), stride=(1, 1), padding=(1, 1), bias=False)\n",
       "          (bn1): BatchNorm2d(64, eps=1e-05, momentum=0.1, affine=True, track_running_stats=True)\n",
       "          (relu): ReLU(inplace=True)\n",
       "          (conv2): Conv2d(64, 64, kernel_size=(3, 3), stride=(1, 1), padding=(1, 1), bias=False)\n",
       "          (bn2): BatchNorm2d(64, eps=1e-05, momentum=0.1, affine=True, track_running_stats=True)\n",
       "        )\n",
       "      )\n",
       "      (5): Sequential(\n",
       "        (0): BasicBlock(\n",
       "          (conv1): Conv2d(64, 128, kernel_size=(3, 3), stride=(2, 2), padding=(1, 1), bias=False)\n",
       "          (bn1): BatchNorm2d(128, eps=1e-05, momentum=0.1, affine=True, track_running_stats=True)\n",
       "          (relu): ReLU(inplace=True)\n",
       "          (conv2): Conv2d(128, 128, kernel_size=(3, 3), stride=(1, 1), padding=(1, 1), bias=False)\n",
       "          (bn2): BatchNorm2d(128, eps=1e-05, momentum=0.1, affine=True, track_running_stats=True)\n",
       "          (downsample): Sequential(\n",
       "            (0): Conv2d(64, 128, kernel_size=(1, 1), stride=(2, 2), bias=False)\n",
       "            (1): BatchNorm2d(128, eps=1e-05, momentum=0.1, affine=True, track_running_stats=True)\n",
       "          )\n",
       "        )\n",
       "        (1): BasicBlock(\n",
       "          (conv1): Conv2d(128, 128, kernel_size=(3, 3), stride=(1, 1), padding=(1, 1), bias=False)\n",
       "          (bn1): BatchNorm2d(128, eps=1e-05, momentum=0.1, affine=True, track_running_stats=True)\n",
       "          (relu): ReLU(inplace=True)\n",
       "          (conv2): Conv2d(128, 128, kernel_size=(3, 3), stride=(1, 1), padding=(1, 1), bias=False)\n",
       "          (bn2): BatchNorm2d(128, eps=1e-05, momentum=0.1, affine=True, track_running_stats=True)\n",
       "        )\n",
       "      )\n",
       "      (6): Sequential(\n",
       "        (0): BasicBlock(\n",
       "          (conv1): Conv2d(128, 256, kernel_size=(3, 3), stride=(2, 2), padding=(1, 1), bias=False)\n",
       "          (bn1): BatchNorm2d(256, eps=1e-05, momentum=0.1, affine=True, track_running_stats=True)\n",
       "          (relu): ReLU(inplace=True)\n",
       "          (conv2): Conv2d(256, 256, kernel_size=(3, 3), stride=(1, 1), padding=(1, 1), bias=False)\n",
       "          (bn2): BatchNorm2d(256, eps=1e-05, momentum=0.1, affine=True, track_running_stats=True)\n",
       "          (downsample): Sequential(\n",
       "            (0): Conv2d(128, 256, kernel_size=(1, 1), stride=(2, 2), bias=False)\n",
       "            (1): BatchNorm2d(256, eps=1e-05, momentum=0.1, affine=True, track_running_stats=True)\n",
       "          )\n",
       "        )\n",
       "        (1): BasicBlock(\n",
       "          (conv1): Conv2d(256, 256, kernel_size=(3, 3), stride=(1, 1), padding=(1, 1), bias=False)\n",
       "          (bn1): BatchNorm2d(256, eps=1e-05, momentum=0.1, affine=True, track_running_stats=True)\n",
       "          (relu): ReLU(inplace=True)\n",
       "          (conv2): Conv2d(256, 256, kernel_size=(3, 3), stride=(1, 1), padding=(1, 1), bias=False)\n",
       "          (bn2): BatchNorm2d(256, eps=1e-05, momentum=0.1, affine=True, track_running_stats=True)\n",
       "        )\n",
       "      )\n",
       "    )\n",
       "  )\n",
       "  (attention_3): spectral_attention(\n",
       "    (attention_conv1): Conv1d(256, 256, kernel_size=(7,), stride=(1,), padding=same)\n",
       "    (attention_conv2): Conv1d(256, 256, kernel_size=(7,), stride=(1,), padding=same)\n",
       "  )\n",
       "  (classifier3): Classifier(\n",
       "    (fc1): Linear(in_features=256, out_features=1, bias=True)\n",
       "  )\n",
       ")"
      ]
     },
     "execution_count": 215,
     "metadata": {},
     "output_type": "execute_result"
    }
   ],
   "source": [
    "model"
   ]
  },
  {
   "cell_type": "code",
   "execution_count": 216,
   "id": "083575fe-79cf-45ba-810c-72a7dc2872a4",
   "metadata": {},
   "outputs": [
    {
     "data": {
      "text/plain": [
       "True"
      ]
     },
     "execution_count": 216,
     "metadata": {},
     "output_type": "execute_result"
    }
   ],
   "source": [
    "# sanity check if resnet weights in conv1 module were correctly loaded\n",
    "torch.equal(model.conv1.resnet_model[1].weight, state['bn1.weight'])"
   ]
  },
  {
   "cell_type": "code",
   "execution_count": 217,
   "id": "56ee969e-b2d6-4672-9aa0-2ed85ca7a36a",
   "metadata": {
    "collapsed": true,
    "jupyter": {
     "outputs_hidden": true
    },
    "tags": []
   },
   "outputs": [
    {
     "data": {
      "text/plain": [
       "[tensor([[0.0046],\n",
       "         [0.0047],\n",
       "         [0.0146],\n",
       "         [0.0157],\n",
       "         [0.0042],\n",
       "         [0.0061],\n",
       "         [0.0051],\n",
       "         [0.0046],\n",
       "         [0.0048],\n",
       "         [0.0131],\n",
       "         [0.0047],\n",
       "         [0.0122]], grad_fn=<AddmmBackward0>),\n",
       " tensor([[0.0535],\n",
       "         [0.0510],\n",
       "         [0.0434],\n",
       "         [0.0514],\n",
       "         [0.0525],\n",
       "         [0.0520],\n",
       "         [0.0519],\n",
       "         [0.0543],\n",
       "         [0.0522],\n",
       "         [0.0551],\n",
       "         [0.0521],\n",
       "         [0.0529]], grad_fn=<AddmmBackward0>),\n",
       " tensor([[0.0240],\n",
       "         [0.1118],\n",
       "         [0.0501],\n",
       "         [0.0542],\n",
       "         [0.0328],\n",
       "         [0.1285],\n",
       "         [0.0754],\n",
       "         [0.0231],\n",
       "         [0.0412],\n",
       "         [0.0983],\n",
       "         [0.0378],\n",
       "         [0.1808]], grad_fn=<AddmmBackward0>)]"
      ]
     },
     "execution_count": 217,
     "metadata": {},
     "output_type": "execute_result"
    }
   ],
   "source": [
    "model(train_data_single_batch['image'])"
   ]
  },
  {
   "cell_type": "code",
   "execution_count": 223,
   "id": "9cc7fb37-bf1f-44b8-9228-14630c4675cb",
   "metadata": {},
   "outputs": [],
   "source": [
    "model_spatial = spatial_network(bands=150, classes=1, pretrained=True)"
   ]
  },
  {
   "cell_type": "code",
   "execution_count": 225,
   "id": "ff412148-d2f5-48c5-a3d7-886c456b7551",
   "metadata": {},
   "outputs": [
    {
     "data": {
      "text/plain": [
       "True"
      ]
     },
     "execution_count": 225,
     "metadata": {},
     "output_type": "execute_result"
    }
   ],
   "source": [
    "# sanity check if resnet weights in conv1 module were correctly loaded\n",
    "torch.equal(model_spatial.conv1.resnet_model[1].weight, state['bn1.weight'])"
   ]
  },
  {
   "cell_type": "code",
   "execution_count": 224,
   "id": "48ca0041-038b-491c-b8f6-6e72ffe80c37",
   "metadata": {
    "collapsed": true,
    "jupyter": {
     "outputs_hidden": true
    },
    "tags": []
   },
   "outputs": [
    {
     "data": {
      "text/plain": [
       "[tensor([[ 0.1896],\n",
       "         [ 0.2246],\n",
       "         [ 0.1130],\n",
       "         [ 0.3667],\n",
       "         [ 0.2196],\n",
       "         [ 0.5353],\n",
       "         [ 0.2221],\n",
       "         [ 0.2024],\n",
       "         [ 0.5038],\n",
       "         [-0.0584],\n",
       "         [ 0.4996],\n",
       "         [ 0.0577]], grad_fn=<AddmmBackward0>),\n",
       " tensor([[0.1124],\n",
       "         [0.1075],\n",
       "         [0.1057],\n",
       "         [0.1022],\n",
       "         [0.0943],\n",
       "         [0.1809],\n",
       "         [0.1300],\n",
       "         [0.1173],\n",
       "         [0.1011],\n",
       "         [0.0598],\n",
       "         [0.1057],\n",
       "         [0.1255]], grad_fn=<AddmmBackward0>),\n",
       " tensor([[-0.0662],\n",
       "         [-0.0283],\n",
       "         [-0.0368],\n",
       "         [-0.1373],\n",
       "         [-0.0638],\n",
       "         [-0.0842],\n",
       "         [-0.0955],\n",
       "         [-0.0538],\n",
       "         [-0.0973],\n",
       "         [-0.2037],\n",
       "         [-0.0509],\n",
       "         [-0.1636]], grad_fn=<AddmmBackward0>)]"
      ]
     },
     "execution_count": 224,
     "metadata": {},
     "output_type": "execute_result"
    }
   ],
   "source": [
    "model_spatial(train_data_single_batch['image'])"
   ]
  },
  {
   "cell_type": "markdown",
   "id": "9f7e821b-ba10-45f2-b8c8-62e1b57816b1",
   "metadata": {},
   "source": [
    "### Training Definition"
   ]
  },
  {
   "cell_type": "code",
   "execution_count": 14,
   "id": "c71e05fd-b851-4200-8350-e03731ecc589",
   "metadata": {},
   "outputs": [],
   "source": [
    "parameter = 'K'"
   ]
  },
  {
   "cell_type": "code",
   "execution_count": 15,
   "id": "480520a1-ca1c-422f-b520-dce7190e6048",
   "metadata": {},
   "outputs": [
    {
     "data": {
      "text/plain": [
       "'checkpoint_state_dict_Hang2020_23_05_2022_Single_Parameter_Scaled_K'"
      ]
     },
     "execution_count": 15,
     "metadata": {},
     "output_type": "execute_result"
    }
   ],
   "source": [
    "save_name = \"checkpoint_state_dict_Hang2020_23_05_2022_Single_Parameter_Scaled_{}\".format(parameter)\n",
    "save_name"
   ]
  },
  {
   "cell_type": "code",
   "execution_count": 16,
   "id": "a11e1370-4315-4af1-b61a-477d036d6486",
   "metadata": {},
   "outputs": [],
   "source": [
    "model_name = save_name+'.pth'"
   ]
  },
  {
   "cell_type": "code",
   "execution_count": 17,
   "id": "0bd5be2e-f408-44b5-990e-f00b80f5a61a",
   "metadata": {
    "tags": []
   },
   "outputs": [],
   "source": [
    "# save subsets indices to text files\n",
    "np.array(train_dataset.indices).tofile(os.path.join(saved_models_directory, 'DataSubsets_indices', save_name+'_train_indices.txt'), sep='|')\n",
    "np.array(validation_dataset.indices).tofile(os.path.join(saved_models_directory, 'DataSubsets_indices', save_name+'_validation_indices.txt'), sep='|')"
   ]
  },
  {
   "cell_type": "code",
   "execution_count": 18,
   "id": "558c42af-2b45-41f3-9184-577eb2830eea",
   "metadata": {},
   "outputs": [],
   "source": [
    "model = Hang2020(bands=150, classes=1, pretrained=True).to(device)"
   ]
  },
  {
   "cell_type": "code",
   "execution_count": 19,
   "id": "634f4c5f-77f4-4139-8df0-7a0dbdf555b8",
   "metadata": {
    "tags": []
   },
   "outputs": [
    {
     "data": {
      "text/plain": [
       "[]"
      ]
     },
     "execution_count": 19,
     "metadata": {},
     "output_type": "execute_result"
    }
   ],
   "source": [
    "wandb.watch(model, log=\"None\", log_freq=20)"
   ]
  },
  {
   "cell_type": "code",
   "execution_count": 20,
   "id": "ea978104-75da-4a8c-a865-f5ac6c696d67",
   "metadata": {},
   "outputs": [],
   "source": [
    "optimizer = torch.optim.AdamW(model.parameters(), lr=0.01)"
   ]
  },
  {
   "cell_type": "code",
   "execution_count": 21,
   "id": "3fda57be-f914-4822-b681-f613ba7b11b2",
   "metadata": {},
   "outputs": [],
   "source": [
    "loss_func = torch.nn.MSELoss()"
   ]
  },
  {
   "cell_type": "markdown",
   "id": "10d1d174-8dce-42c6-9d24-40956ff633ac",
   "metadata": {
    "tags": []
   },
   "source": [
    "#### Find LR"
   ]
  },
  {
   "cell_type": "code",
   "execution_count": 23,
   "id": "868b12f9-7a9f-4514-ad13-c91ead27cdc2",
   "metadata": {},
   "outputs": [],
   "source": [
    "from torch_lr_finder.lr_finder import TrainDataLoaderIter"
   ]
  },
  {
   "cell_type": "code",
   "execution_count": 24,
   "id": "f0447003-dd8c-4a13-a349-f9476ccf5a66",
   "metadata": {},
   "outputs": [],
   "source": [
    "class CustomTrainIter(TrainDataLoaderIter):\n",
    "    def inputs_labels_from_batch(self, batch_data):\n",
    "        return (torch.as_tensor(batch_data['image'], dtype=torch.float),\n",
    "                torch.as_tensor(batch_data['P'].unsqueeze(dim=0).permute(1, 0), dtype=torch.float))"
   ]
  },
  {
   "cell_type": "code",
   "execution_count": 25,
   "id": "eb184931-2a07-41b4-a17c-b35f8bcc16f3",
   "metadata": {},
   "outputs": [
    {
     "data": {
      "application/vnd.jupyter.widget-view+json": {
       "model_id": "b1256531bc24445ca19453d0dced6161",
       "version_major": 2,
       "version_minor": 0
      },
      "text/plain": [
       "  0%|          | 0/100 [00:00<?, ?it/s]"
      ]
     },
     "metadata": {},
     "output_type": "display_data"
    },
    {
     "name": "stderr",
     "output_type": "stream",
     "text": [
      "/home/CENAGIS/jcharyton/.local/lib/python3.7/site-packages/torch/nn/functional.py:1806: UserWarning: nn.functional.sigmoid is deprecated. Use torch.sigmoid instead.\n",
      "  warnings.warn(\"nn.functional.sigmoid is deprecated. Use torch.sigmoid instead.\")\n"
     ]
    },
    {
     "name": "stdout",
     "output_type": "stream",
     "text": [
      "Stopping early, the loss has diverged\n",
      "Learning rate search finished. See the graph with {finder_name}.plot()\n"
     ]
    }
   ],
   "source": [
    "lr_finder = LRFinder(model, optimizer, loss_func, device=device)\n",
    "lr_finder.range_test(CustomTrainIter(train_dataloader),\n",
    "                     start_lr=0.00001, end_lr=100, num_iter=100)"
   ]
  },
  {
   "cell_type": "code",
   "execution_count": 26,
   "id": "647f2f4e-d144-485d-92b3-b1e7914ab310",
   "metadata": {},
   "outputs": [
    {
     "name": "stdout",
     "output_type": "stream",
     "text": [
      "LR suggestion: steepest gradient\n",
      "Suggested LR: 8.30E-05\n"
     ]
    },
    {
     "data": {
      "image/png": "[encoded data removed]",
      "text/plain": [
       "<Figure size 432x288 with 1 Axes>"
      ]
     },
     "metadata": {
      "needs_background": "light"
     },
     "output_type": "display_data"
    }
   ],
   "source": [
    "lr_finder.plot()\n",
    "lr_finder.reset()"
   ]
  },
  {
   "cell_type": "code",
   "execution_count": 35,
   "id": "ee758767-7e7c-410b-92a3-1b0b719a392c",
   "metadata": {},
   "outputs": [
    {
     "data": {
      "text/plain": [
       "8.3e-05"
      ]
     },
     "execution_count": 35,
     "metadata": {},
     "output_type": "execute_result"
    }
   ],
   "source": [
    "8.30E-05"
   ]
  },
  {
   "cell_type": "markdown",
   "id": "257faf31-7f43-406f-a382-d997f0bb5cb6",
   "metadata": {
    "tags": []
   },
   "source": [
    "### Training"
   ]
  },
  {
   "cell_type": "code",
   "execution_count": 22,
   "id": "ea4809cc-4fe1-4db7-9ade-872ce437a65d",
   "metadata": {},
   "outputs": [],
   "source": [
    "patience_scheduler_overfit = 8\n",
    "scheduler = torch.optim.lr_scheduler.ReduceLROnPlateau(optimizer=optimizer, mode='min',\n",
    "                                                       factor=0.6, patience=patience_scheduler_overfit,\n",
    "                                                       threshold=0.0001, threshold_mode='abs')"
   ]
  },
  {
   "cell_type": "code",
   "execution_count": 23,
   "id": "496f6681-41b1-4382-9b15-34ef4c69e670",
   "metadata": {},
   "outputs": [],
   "source": [
    "early_stopping = utils.EarlyStopping(patience=(2*patience_scheduler_overfit)+3, verbose=True,\n",
    "                                     path=os.path.join(saved_models_directory, 'checkpoint_state_dict.pth'))"
   ]
  },
  {
   "cell_type": "markdown",
   "id": "c3975113-0cc1-4ca4-b515-8d29bc9407d7",
   "metadata": {
    "tags": []
   },
   "source": [
    "#### Logging training informations for W&B"
   ]
  },
  {
   "cell_type": "code",
   "execution_count": 24,
   "id": "d7afd373-eeb3-4e78-9bc0-51be9fded852",
   "metadata": {},
   "outputs": [],
   "source": [
    "config = wandb.config\n",
    "config.model = 'ResHang2020'\n",
    "config.optimizer = 'AdamW'\n",
    "config.loss_function = 'MSELoss'\n",
    "config.learning_rate_start = optimizer.param_groups[0][\"lr\"]\n",
    "# config.momentum = optimizer.param_groups[0][\"momentum\"]\n",
    "config.momentum = None\n",
    "config.weight_decay = optimizer.param_groups[0][\"weight_decay\"]\n",
    "config.scheduler = 'ReduceLROnPlateau'\n",
    "config.scheduler_factor = 0.6\n",
    "config.scheduler_patience = patience_scheduler_overfit\n",
    "config.scheduler_threshold = 0.0001\n",
    "config.batch_size = BATCH_SIZE\n",
    "config.notes = 'ResHang2020 - Hang2020 with modified conv layer to pretrained (on Imagenet) ResNet blocks. Parameter {} SCALED Training split:1000, Validation: 732. Scaled predicted variable'.format(parameter)\n",
    "config.parameter = parameter"
   ]
  },
  {
   "cell_type": "code",
   "execution_count": 25,
   "id": "6a22f51e-eb05-466e-9632-4ddfba9d6ad6",
   "metadata": {},
   "outputs": [],
   "source": [
    "previous_epochs = 0  # how many epochs have been done previously if resuming"
   ]
  },
  {
   "cell_type": "code",
   "execution_count": 26,
   "id": "7233ac28-6fdf-42e7-99e8-8843964e15c6",
   "metadata": {
    "tags": []
   },
   "outputs": [
    {
     "data": {
      "application/vnd.jupyter.widget-view+json": {
       "model_id": "",
       "version_major": 2,
       "version_minor": 0
      },
      "text/plain": [
       "epoch 0 training data:   0%|          | 0/83 [00:00<?, ?it/s]"
      ]
     },
     "metadata": {},
     "output_type": "display_data"
    },
    {
     "name": "stderr",
     "output_type": "stream",
     "text": [
      "/home/CENAGIS/jcharyton/.local/lib/python3.7/site-packages/torch/nn/functional.py:1806: UserWarning: nn.functional.sigmoid is deprecated. Use torch.sigmoid instead.\n",
      "  warnings.warn(\"nn.functional.sigmoid is deprecated. Use torch.sigmoid instead.\")\n"
     ]
    },
    {
     "name": "stdout",
     "output_type": "stream",
     "text": [
      "epoch: 0, LR: 0.01, train loss: 1.046574354171753, train MSE: [1.0465744733810425], train MSE from unscaled values: [4006.712646484375]\n"
     ]
    },
    {
     "data": {
      "application/vnd.jupyter.widget-view+json": {
       "model_id": "",
       "version_major": 2,
       "version_minor": 0
      },
      "text/plain": [
       "epoch 0 validation data:   0%|          | 0/61 [00:00<?, ?it/s]"
      ]
     },
     "metadata": {},
     "output_type": "display_data"
    },
    {
     "name": "stdout",
     "output_type": "stream",
     "text": [
      "epoch: 0, validation loss: 1.1335978507995605, validation MSE: [1.13359797000885], validation MSE from unscaled values: [4339.8740234375]\n",
      "Validation loss decreased (inf --> 1.133598).  Saving model ...\n"
     ]
    },
    {
     "data": {
      "application/vnd.jupyter.widget-view+json": {
       "model_id": "",
       "version_major": 2,
       "version_minor": 0
      },
      "text/plain": [
       "epoch 1 training data:   0%|          | 0/83 [00:00<?, ?it/s]"
      ]
     },
     "metadata": {},
     "output_type": "display_data"
    },
    {
     "name": "stdout",
     "output_type": "stream",
     "text": [
      "epoch: 1, LR: 0.01, train loss: 1.021488904953003, train MSE: [1.0214890241622925], train MSE from unscaled values: [3910.675537109375]\n"
     ]
    },
    {
     "data": {
      "application/vnd.jupyter.widget-view+json": {
       "model_id": "",
       "version_major": 2,
       "version_minor": 0
      },
      "text/plain": [
       "epoch 1 validation data:   0%|          | 0/61 [00:00<?, ?it/s]"
      ]
     },
     "metadata": {},
     "output_type": "display_data"
    },
    {
     "name": "stdout",
     "output_type": "stream",
     "text": [
      "epoch: 1, validation loss: 1.076127290725708, validation MSE: [1.076127290725708], validation MSE from unscaled values: [4119.85302734375]\n",
      "Validation loss decreased (1.133598 --> 1.076127).  Saving model ...\n"
     ]
    },
    {
     "data": {
      "application/vnd.jupyter.widget-view+json": {
       "model_id": "",
       "version_major": 2,
       "version_minor": 0
      },
      "text/plain": [
       "epoch 2 training data:   0%|          | 0/83 [00:00<?, ?it/s]"
      ]
     },
     "metadata": {},
     "output_type": "display_data"
    },
    {
     "name": "stdout",
     "output_type": "stream",
     "text": [
      "epoch: 2, LR: 0.01, train loss: 1.0084900856018066, train MSE: [1.0084900856018066], train MSE from unscaled values: [3860.910400390625]\n"
     ]
    },
    {
     "data": {
      "application/vnd.jupyter.widget-view+json": {
       "model_id": "",
       "version_major": 2,
       "version_minor": 0
      },
      "text/plain": [
       "epoch 2 validation data:   0%|          | 0/61 [00:00<?, ?it/s]"
      ]
     },
     "metadata": {},
     "output_type": "display_data"
    },
    {
     "name": "stdout",
     "output_type": "stream",
     "text": [
      "epoch: 2, validation loss: 0.9453424215316772, validation MSE: [0.9453422427177429], validation MSE from unscaled values: [3619.155517578125]\n",
      "Validation loss decreased (1.076127 --> 0.945342).  Saving model ...\n"
     ]
    },
    {
     "data": {
      "application/vnd.jupyter.widget-view+json": {
       "model_id": "",
       "version_major": 2,
       "version_minor": 0
      },
      "text/plain": [
       "epoch 3 training data:   0%|          | 0/83 [00:00<?, ?it/s]"
      ]
     },
     "metadata": {},
     "output_type": "display_data"
    },
    {
     "name": "stdout",
     "output_type": "stream",
     "text": [
      "epoch: 3, LR: 0.01, train loss: 1.024133324623108, train MSE: [1.024133324623108], train MSE from unscaled values: [3920.798828125]\n"
     ]
    },
    {
     "data": {
      "application/vnd.jupyter.widget-view+json": {
       "model_id": "",
       "version_major": 2,
       "version_minor": 0
      },
      "text/plain": [
       "epoch 3 validation data:   0%|          | 0/61 [00:00<?, ?it/s]"
      ]
     },
     "metadata": {},
     "output_type": "display_data"
    },
    {
     "name": "stdout",
     "output_type": "stream",
     "text": [
      "epoch: 3, validation loss: 0.9293668866157532, validation MSE: [0.929366946220398], validation MSE from unscaled values: [3557.99462890625]\n",
      "Validation loss decreased (0.945342 --> 0.929367).  Saving model ...\n"
     ]
    },
    {
     "data": {
      "application/vnd.jupyter.widget-view+json": {
       "model_id": "",
       "version_major": 2,
       "version_minor": 0
      },
      "text/plain": [
       "epoch 4 training data:   0%|          | 0/83 [00:00<?, ?it/s]"
      ]
     },
     "metadata": {},
     "output_type": "display_data"
    },
    {
     "name": "stdout",
     "output_type": "stream",
     "text": [
      "epoch: 4, LR: 0.01, train loss: 1.0110658407211304, train MSE: [1.0110658407211304], train MSE from unscaled values: [3870.770751953125]\n"
     ]
    },
    {
     "data": {
      "application/vnd.jupyter.widget-view+json": {
       "model_id": "",
       "version_major": 2,
       "version_minor": 0
      },
      "text/plain": [
       "epoch 4 validation data:   0%|          | 0/61 [00:00<?, ?it/s]"
      ]
     },
     "metadata": {},
     "output_type": "display_data"
    },
    {
     "name": "stdout",
     "output_type": "stream",
     "text": [
      "epoch: 4, validation loss: 0.9484047293663025, validation MSE: [0.9484047889709473], validation MSE from unscaled values: [3630.87939453125]\n",
      "EarlyStopping counter: 1 out of 19\n"
     ]
    },
    {
     "data": {
      "application/vnd.jupyter.widget-view+json": {
       "model_id": "",
       "version_major": 2,
       "version_minor": 0
      },
      "text/plain": [
       "epoch 5 training data:   0%|          | 0/83 [00:00<?, ?it/s]"
      ]
     },
     "metadata": {},
     "output_type": "display_data"
    },
    {
     "name": "stdout",
     "output_type": "stream",
     "text": [
      "epoch: 5, LR: 0.01, train loss: 1.001538872718811, train MSE: [1.001538872718811], train MSE from unscaled values: [3834.298095703125]\n"
     ]
    },
    {
     "data": {
      "application/vnd.jupyter.widget-view+json": {
       "model_id": "",
       "version_major": 2,
       "version_minor": 0
      },
      "text/plain": [
       "epoch 5 validation data:   0%|          | 0/61 [00:00<?, ?it/s]"
      ]
     },
     "metadata": {},
     "output_type": "display_data"
    },
    {
     "name": "stdout",
     "output_type": "stream",
     "text": [
      "epoch: 5, validation loss: 0.9419974684715271, validation MSE: [0.9419975280761719], validation MSE from unscaled values: [3606.349609375]\n",
      "EarlyStopping counter: 2 out of 19\n"
     ]
    },
    {
     "data": {
      "application/vnd.jupyter.widget-view+json": {
       "model_id": "",
       "version_major": 2,
       "version_minor": 0
      },
      "text/plain": [
       "epoch 6 training data:   0%|          | 0/83 [00:00<?, ?it/s]"
      ]
     },
     "metadata": {},
     "output_type": "display_data"
    },
    {
     "name": "stdout",
     "output_type": "stream",
     "text": [
      "epoch: 6, LR: 0.01, train loss: 0.9972622990608215, train MSE: [0.9972623586654663], train MSE from unscaled values: [3817.925537109375]\n"
     ]
    },
    {
     "data": {
      "application/vnd.jupyter.widget-view+json": {
       "model_id": "",
       "version_major": 2,
       "version_minor": 0
      },
      "text/plain": [
       "epoch 6 validation data:   0%|          | 0/61 [00:00<?, ?it/s]"
      ]
     },
     "metadata": {},
     "output_type": "display_data"
    },
    {
     "name": "stdout",
     "output_type": "stream",
     "text": [
      "epoch: 6, validation loss: 0.9414393901824951, validation MSE: [0.9414393305778503], validation MSE from unscaled values: [3604.212890625]\n",
      "EarlyStopping counter: 3 out of 19\n"
     ]
    },
    {
     "data": {
      "application/vnd.jupyter.widget-view+json": {
       "model_id": "",
       "version_major": 2,
       "version_minor": 0
      },
      "text/plain": [
       "epoch 7 training data:   0%|          | 0/83 [00:00<?, ?it/s]"
      ]
     },
     "metadata": {},
     "output_type": "display_data"
    },
    {
     "name": "stdout",
     "output_type": "stream",
     "text": [
      "epoch: 7, LR: 0.01, train loss: 0.9989733695983887, train MSE: [0.9989733695983887], train MSE from unscaled values: [3824.476318359375]\n"
     ]
    },
    {
     "data": {
      "application/vnd.jupyter.widget-view+json": {
       "model_id": "",
       "version_major": 2,
       "version_minor": 0
      },
      "text/plain": [
       "epoch 7 validation data:   0%|          | 0/61 [00:00<?, ?it/s]"
      ]
     },
     "metadata": {},
     "output_type": "display_data"
    },
    {
     "name": "stdout",
     "output_type": "stream",
     "text": [
      "epoch: 7, validation loss: 1.0507632493972778, validation MSE: [1.0507633686065674], validation MSE from unscaled values: [4022.749267578125]\n",
      "EarlyStopping counter: 4 out of 19\n"
     ]
    },
    {
     "data": {
      "application/vnd.jupyter.widget-view+json": {
       "model_id": "",
       "version_major": 2,
       "version_minor": 0
      },
      "text/plain": [
       "epoch 8 training data:   0%|          | 0/83 [00:00<?, ?it/s]"
      ]
     },
     "metadata": {},
     "output_type": "display_data"
    },
    {
     "name": "stdout",
     "output_type": "stream",
     "text": [
      "epoch: 8, LR: 0.01, train loss: 1.0106916427612305, train MSE: [1.0106916427612305], train MSE from unscaled values: [3869.33837890625]\n"
     ]
    },
    {
     "data": {
      "application/vnd.jupyter.widget-view+json": {
       "model_id": "",
       "version_major": 2,
       "version_minor": 0
      },
      "text/plain": [
       "epoch 8 validation data:   0%|          | 0/61 [00:00<?, ?it/s]"
      ]
     },
     "metadata": {},
     "output_type": "display_data"
    },
    {
     "name": "stdout",
     "output_type": "stream",
     "text": [
      "epoch: 8, validation loss: 0.9072069525718689, validation MSE: [0.9072070121765137], validation MSE from unscaled values: [3473.157470703125]\n",
      "Validation loss decreased (0.929367 --> 0.907207).  Saving model ...\n"
     ]
    },
    {
     "data": {
      "application/vnd.jupyter.widget-view+json": {
       "model_id": "",
       "version_major": 2,
       "version_minor": 0
      },
      "text/plain": [
       "epoch 9 training data:   0%|          | 0/83 [00:00<?, ?it/s]"
      ]
     },
     "metadata": {},
     "output_type": "display_data"
    },
    {
     "name": "stdout",
     "output_type": "stream",
     "text": [
      "epoch: 9, LR: 0.01, train loss: 0.9921367168426514, train MSE: [0.9921366572380066], train MSE from unscaled values: [3798.302734375]\n"
     ]
    },
    {
     "data": {
      "application/vnd.jupyter.widget-view+json": {
       "model_id": "",
       "version_major": 2,
       "version_minor": 0
      },
      "text/plain": [
       "epoch 9 validation data:   0%|          | 0/61 [00:00<?, ?it/s]"
      ]
     },
     "metadata": {},
     "output_type": "display_data"
    },
    {
     "name": "stdout",
     "output_type": "stream",
     "text": [
      "epoch: 9, validation loss: 0.9033560156822205, validation MSE: [0.9033560752868652], validation MSE from unscaled values: [3458.414306640625]\n",
      "Validation loss decreased (0.907207 --> 0.903356).  Saving model ...\n"
     ]
    },
    {
     "data": {
      "application/vnd.jupyter.widget-view+json": {
       "model_id": "",
       "version_major": 2,
       "version_minor": 0
      },
      "text/plain": [
       "epoch 10 training data:   0%|          | 0/83 [00:00<?, ?it/s]"
      ]
     },
     "metadata": {},
     "output_type": "display_data"
    },
    {
     "name": "stdout",
     "output_type": "stream",
     "text": [
      "epoch: 10, LR: 0.01, train loss: 0.9640514254570007, train MSE: [0.9640514254570007], train MSE from unscaled values: [3690.78125]\n"
     ]
    },
    {
     "data": {
      "application/vnd.jupyter.widget-view+json": {
       "model_id": "",
       "version_major": 2,
       "version_minor": 0
      },
      "text/plain": [
       "epoch 10 validation data:   0%|          | 0/61 [00:00<?, ?it/s]"
      ]
     },
     "metadata": {},
     "output_type": "display_data"
    },
    {
     "name": "stdout",
     "output_type": "stream",
     "text": [
      "epoch: 10, validation loss: 0.9328551888465881, validation MSE: [0.9328552484512329], validation MSE from unscaled values: [3571.34912109375]\n",
      "EarlyStopping counter: 1 out of 19\n"
     ]
    },
    {
     "data": {
      "application/vnd.jupyter.widget-view+json": {
       "model_id": "",
       "version_major": 2,
       "version_minor": 0
      },
      "text/plain": [
       "epoch 11 training data:   0%|          | 0/83 [00:00<?, ?it/s]"
      ]
     },
     "metadata": {},
     "output_type": "display_data"
    },
    {
     "name": "stdout",
     "output_type": "stream",
     "text": [
      "epoch: 11, LR: 0.01, train loss: 0.9854252338409424, train MSE: [0.9854252934455872], train MSE from unscaled values: [3772.60888671875]\n"
     ]
    },
    {
     "data": {
      "application/vnd.jupyter.widget-view+json": {
       "model_id": "",
       "version_major": 2,
       "version_minor": 0
      },
      "text/plain": [
       "epoch 11 validation data:   0%|          | 0/61 [00:00<?, ?it/s]"
      ]
     },
     "metadata": {},
     "output_type": "display_data"
    },
    {
     "name": "stdout",
     "output_type": "stream",
     "text": [
      "epoch: 11, validation loss: 0.9661369323730469, validation MSE: [0.9661369919776917], validation MSE from unscaled values: [3698.765625]\n",
      "EarlyStopping counter: 2 out of 19\n"
     ]
    },
    {
     "data": {
      "application/vnd.jupyter.widget-view+json": {
       "model_id": "",
       "version_major": 2,
       "version_minor": 0
      },
      "text/plain": [
       "epoch 12 training data:   0%|          | 0/83 [00:00<?, ?it/s]"
      ]
     },
     "metadata": {},
     "output_type": "display_data"
    },
    {
     "name": "stdout",
     "output_type": "stream",
     "text": [
      "epoch: 12, LR: 0.01, train loss: 0.9920668005943298, train MSE: [0.9920668005943298], train MSE from unscaled values: [3798.034912109375]\n"
     ]
    },
    {
     "data": {
      "application/vnd.jupyter.widget-view+json": {
       "model_id": "",
       "version_major": 2,
       "version_minor": 0
      },
      "text/plain": [
       "epoch 12 validation data:   0%|          | 0/61 [00:00<?, ?it/s]"
      ]
     },
     "metadata": {},
     "output_type": "display_data"
    },
    {
     "name": "stdout",
     "output_type": "stream",
     "text": [
      "epoch: 12, validation loss: 0.9281411170959473, validation MSE: [0.9281411170959473], validation MSE from unscaled values: [3553.302001953125]\n",
      "EarlyStopping counter: 3 out of 19\n"
     ]
    },
    {
     "data": {
      "application/vnd.jupyter.widget-view+json": {
       "model_id": "",
       "version_major": 2,
       "version_minor": 0
      },
      "text/plain": [
       "epoch 13 training data:   0%|          | 0/83 [00:00<?, ?it/s]"
      ]
     },
     "metadata": {},
     "output_type": "display_data"
    },
    {
     "name": "stdout",
     "output_type": "stream",
     "text": [
      "epoch: 13, LR: 0.01, train loss: 0.9796416163444519, train MSE: [0.9796416759490967], train MSE from unscaled values: [3750.466796875]\n"
     ]
    },
    {
     "data": {
      "application/vnd.jupyter.widget-view+json": {
       "model_id": "",
       "version_major": 2,
       "version_minor": 0
      },
      "text/plain": [
       "epoch 13 validation data:   0%|          | 0/61 [00:00<?, ?it/s]"
      ]
     },
     "metadata": {},
     "output_type": "display_data"
    },
    {
     "name": "stdout",
     "output_type": "stream",
     "text": [
      "epoch: 13, validation loss: 0.9090480804443359, validation MSE: [0.9090481400489807], validation MSE from unscaled values: [3480.2060546875]\n",
      "EarlyStopping counter: 4 out of 19\n"
     ]
    },
    {
     "data": {
      "application/vnd.jupyter.widget-view+json": {
       "model_id": "",
       "version_major": 2,
       "version_minor": 0
      },
      "text/plain": [
       "epoch 14 training data:   0%|          | 0/83 [00:00<?, ?it/s]"
      ]
     },
     "metadata": {},
     "output_type": "display_data"
    },
    {
     "name": "stdout",
     "output_type": "stream",
     "text": [
      "epoch: 14, LR: 0.01, train loss: 0.9630191922187805, train MSE: [0.9630191326141357], train MSE from unscaled values: [3686.829345703125]\n"
     ]
    },
    {
     "data": {
      "application/vnd.jupyter.widget-view+json": {
       "model_id": "",
       "version_major": 2,
       "version_minor": 0
      },
      "text/plain": [
       "epoch 14 validation data:   0%|          | 0/61 [00:00<?, ?it/s]"
      ]
     },
     "metadata": {},
     "output_type": "display_data"
    },
    {
     "name": "stdout",
     "output_type": "stream",
     "text": [
      "epoch: 14, validation loss: 0.9016998410224915, validation MSE: [0.9016998410224915], validation MSE from unscaled values: [3452.07373046875]\n",
      "Validation loss decreased (0.903356 --> 0.901700).  Saving model ...\n"
     ]
    },
    {
     "data": {
      "application/vnd.jupyter.widget-view+json": {
       "model_id": "",
       "version_major": 2,
       "version_minor": 0
      },
      "text/plain": [
       "epoch 15 training data:   0%|          | 0/83 [00:00<?, ?it/s]"
      ]
     },
     "metadata": {},
     "output_type": "display_data"
    },
    {
     "name": "stdout",
     "output_type": "stream",
     "text": [
      "epoch: 15, LR: 0.01, train loss: 0.970344603061676, train MSE: [0.9703445434570312], train MSE from unscaled values: [3714.874267578125]\n"
     ]
    },
    {
     "data": {
      "application/vnd.jupyter.widget-view+json": {
       "model_id": "",
       "version_major": 2,
       "version_minor": 0
      },
      "text/plain": [
       "epoch 15 validation data:   0%|          | 0/61 [00:00<?, ?it/s]"
      ]
     },
     "metadata": {},
     "output_type": "display_data"
    },
    {
     "name": "stdout",
     "output_type": "stream",
     "text": [
      "epoch: 15, validation loss: 0.9212360978126526, validation MSE: [0.9212360978126526], validation MSE from unscaled values: [3526.8662109375]\n",
      "EarlyStopping counter: 1 out of 19\n"
     ]
    },
    {
     "data": {
      "application/vnd.jupyter.widget-view+json": {
       "model_id": "",
       "version_major": 2,
       "version_minor": 0
      },
      "text/plain": [
       "epoch 16 training data:   0%|          | 0/83 [00:00<?, ?it/s]"
      ]
     },
     "metadata": {},
     "output_type": "display_data"
    },
    {
     "name": "stdout",
     "output_type": "stream",
     "text": [
      "epoch: 16, LR: 0.01, train loss: 0.9649609923362732, train MSE: [0.9649609327316284], train MSE from unscaled values: [3694.26318359375]\n"
     ]
    },
    {
     "data": {
      "application/vnd.jupyter.widget-view+json": {
       "model_id": "",
       "version_major": 2,
       "version_minor": 0
      },
      "text/plain": [
       "epoch 16 validation data:   0%|          | 0/61 [00:00<?, ?it/s]"
      ]
     },
     "metadata": {},
     "output_type": "display_data"
    },
    {
     "name": "stdout",
     "output_type": "stream",
     "text": [
      "epoch: 16, validation loss: 0.9337701797485352, validation MSE: [0.9337702393531799], validation MSE from unscaled values: [3574.8525390625]\n",
      "EarlyStopping counter: 2 out of 19\n"
     ]
    },
    {
     "data": {
      "application/vnd.jupyter.widget-view+json": {
       "model_id": "",
       "version_major": 2,
       "version_minor": 0
      },
      "text/plain": [
       "epoch 17 training data:   0%|          | 0/83 [00:00<?, ?it/s]"
      ]
     },
     "metadata": {},
     "output_type": "display_data"
    },
    {
     "name": "stdout",
     "output_type": "stream",
     "text": [
      "epoch: 17, LR: 0.01, train loss: 0.9673035144805908, train MSE: [0.967303454875946], train MSE from unscaled values: [3703.231201171875]\n"
     ]
    },
    {
     "data": {
      "application/vnd.jupyter.widget-view+json": {
       "model_id": "",
       "version_major": 2,
       "version_minor": 0
      },
      "text/plain": [
       "epoch 17 validation data:   0%|          | 0/61 [00:00<?, ?it/s]"
      ]
     },
     "metadata": {},
     "output_type": "display_data"
    },
    {
     "name": "stdout",
     "output_type": "stream",
     "text": [
      "epoch: 17, validation loss: 0.9277696013450623, validation MSE: [0.9277696013450623], validation MSE from unscaled values: [3551.879638671875]\n",
      "EarlyStopping counter: 3 out of 19\n"
     ]
    },
    {
     "data": {
      "application/vnd.jupyter.widget-view+json": {
       "model_id": "",
       "version_major": 2,
       "version_minor": 0
      },
      "text/plain": [
       "epoch 18 training data:   0%|          | 0/83 [00:00<?, ?it/s]"
      ]
     },
     "metadata": {},
     "output_type": "display_data"
    },
    {
     "name": "stdout",
     "output_type": "stream",
     "text": [
      "epoch: 18, LR: 0.01, train loss: 0.9635419249534607, train MSE: [0.9635419845581055], train MSE from unscaled values: [3688.83056640625]\n"
     ]
    },
    {
     "data": {
      "application/vnd.jupyter.widget-view+json": {
       "model_id": "",
       "version_major": 2,
       "version_minor": 0
      },
      "text/plain": [
       "epoch 18 validation data:   0%|          | 0/61 [00:00<?, ?it/s]"
      ]
     },
     "metadata": {},
     "output_type": "display_data"
    },
    {
     "name": "stdout",
     "output_type": "stream",
     "text": [
      "epoch: 18, validation loss: 0.9779114723205566, validation MSE: [0.9779115319252014], validation MSE from unscaled values: [3743.84326171875]\n",
      "EarlyStopping counter: 4 out of 19\n"
     ]
    },
    {
     "data": {
      "application/vnd.jupyter.widget-view+json": {
       "model_id": "",
       "version_major": 2,
       "version_minor": 0
      },
      "text/plain": [
       "epoch 19 training data:   0%|          | 0/83 [00:00<?, ?it/s]"
      ]
     },
     "metadata": {},
     "output_type": "display_data"
    },
    {
     "name": "stdout",
     "output_type": "stream",
     "text": [
      "epoch: 19, LR: 0.01, train loss: 0.966590404510498, train MSE: [0.966590404510498], train MSE from unscaled values: [3700.501220703125]\n"
     ]
    },
    {
     "data": {
      "application/vnd.jupyter.widget-view+json": {
       "model_id": "",
       "version_major": 2,
       "version_minor": 0
      },
      "text/plain": [
       "epoch 19 validation data:   0%|          | 0/61 [00:00<?, ?it/s]"
      ]
     },
     "metadata": {},
     "output_type": "display_data"
    },
    {
     "name": "stdout",
     "output_type": "stream",
     "text": [
      "epoch: 19, validation loss: 0.9034366011619568, validation MSE: [0.9034366011619568], validation MSE from unscaled values: [3458.722900390625]\n",
      "EarlyStopping counter: 5 out of 19\n"
     ]
    },
    {
     "data": {
      "application/vnd.jupyter.widget-view+json": {
       "model_id": "",
       "version_major": 2,
       "version_minor": 0
      },
      "text/plain": [
       "epoch 20 training data:   0%|          | 0/83 [00:00<?, ?it/s]"
      ]
     },
     "metadata": {},
     "output_type": "display_data"
    },
    {
     "name": "stdout",
     "output_type": "stream",
     "text": [
      "epoch: 20, LR: 0.01, train loss: 0.9360606670379639, train MSE: [0.9360607266426086], train MSE from unscaled values: [3583.620849609375]\n"
     ]
    },
    {
     "data": {
      "application/vnd.jupyter.widget-view+json": {
       "model_id": "",
       "version_major": 2,
       "version_minor": 0
      },
      "text/plain": [
       "epoch 20 validation data:   0%|          | 0/61 [00:00<?, ?it/s]"
      ]
     },
     "metadata": {},
     "output_type": "display_data"
    },
    {
     "name": "stdout",
     "output_type": "stream",
     "text": [
      "epoch: 20, validation loss: 0.9426589012145996, validation MSE: [0.9426588416099548], validation MSE from unscaled values: [3608.881591796875]\n",
      "EarlyStopping counter: 6 out of 19\n"
     ]
    },
    {
     "data": {
      "application/vnd.jupyter.widget-view+json": {
       "model_id": "",
       "version_major": 2,
       "version_minor": 0
      },
      "text/plain": [
       "epoch 21 training data:   0%|          | 0/83 [00:00<?, ?it/s]"
      ]
     },
     "metadata": {},
     "output_type": "display_data"
    },
    {
     "name": "stdout",
     "output_type": "stream",
     "text": [
      "epoch: 21, LR: 0.01, train loss: 0.9586699604988098, train MSE: [0.958669900894165], train MSE from unscaled values: [3670.178466796875]\n"
     ]
    },
    {
     "data": {
      "application/vnd.jupyter.widget-view+json": {
       "model_id": "",
       "version_major": 2,
       "version_minor": 0
      },
      "text/plain": [
       "epoch 21 validation data:   0%|          | 0/61 [00:00<?, ?it/s]"
      ]
     },
     "metadata": {},
     "output_type": "display_data"
    },
    {
     "name": "stdout",
     "output_type": "stream",
     "text": [
      "epoch: 21, validation loss: 0.9258951544761658, validation MSE: [0.925895094871521], validation MSE from unscaled values: [3544.703125]\n",
      "EarlyStopping counter: 7 out of 19\n"
     ]
    },
    {
     "data": {
      "application/vnd.jupyter.widget-view+json": {
       "model_id": "",
       "version_major": 2,
       "version_minor": 0
      },
      "text/plain": [
       "epoch 22 training data:   0%|          | 0/83 [00:00<?, ?it/s]"
      ]
     },
     "metadata": {},
     "output_type": "display_data"
    },
    {
     "name": "stdout",
     "output_type": "stream",
     "text": [
      "epoch: 22, LR: 0.01, train loss: 0.947854220867157, train MSE: [0.9478543996810913], train MSE from unscaled values: [3628.771484375]\n"
     ]
    },
    {
     "data": {
      "application/vnd.jupyter.widget-view+json": {
       "model_id": "",
       "version_major": 2,
       "version_minor": 0
      },
      "text/plain": [
       "epoch 22 validation data:   0%|          | 0/61 [00:00<?, ?it/s]"
      ]
     },
     "metadata": {},
     "output_type": "display_data"
    },
    {
     "name": "stdout",
     "output_type": "stream",
     "text": [
      "epoch: 22, validation loss: 0.9065930843353271, validation MSE: [0.9065930247306824], validation MSE from unscaled values: [3470.80712890625]\n",
      "EarlyStopping counter: 8 out of 19\n"
     ]
    },
    {
     "data": {
      "application/vnd.jupyter.widget-view+json": {
       "model_id": "",
       "version_major": 2,
       "version_minor": 0
      },
      "text/plain": [
       "epoch 23 training data:   0%|          | 0/83 [00:00<?, ?it/s]"
      ]
     },
     "metadata": {},
     "output_type": "display_data"
    },
    {
     "name": "stdout",
     "output_type": "stream",
     "text": [
      "epoch: 23, LR: 0.01, train loss: 0.9492977857589722, train MSE: [0.9492977857589722], train MSE from unscaled values: [3634.298095703125]\n"
     ]
    },
    {
     "data": {
      "application/vnd.jupyter.widget-view+json": {
       "model_id": "",
       "version_major": 2,
       "version_minor": 0
      },
      "text/plain": [
       "epoch 23 validation data:   0%|          | 0/61 [00:00<?, ?it/s]"
      ]
     },
     "metadata": {},
     "output_type": "display_data"
    },
    {
     "name": "stdout",
     "output_type": "stream",
     "text": [
      "epoch: 23, validation loss: 0.9809221625328064, validation MSE: [0.980922281742096], validation MSE from unscaled values: [3755.369384765625]\n",
      "EarlyStopping counter: 9 out of 19\n"
     ]
    },
    {
     "data": {
      "application/vnd.jupyter.widget-view+json": {
       "model_id": "",
       "version_major": 2,
       "version_minor": 0
      },
      "text/plain": [
       "epoch 24 training data:   0%|          | 0/83 [00:00<?, ?it/s]"
      ]
     },
     "metadata": {},
     "output_type": "display_data"
    },
    {
     "name": "stdout",
     "output_type": "stream",
     "text": [
      "epoch: 24, LR: 0.006, train loss: 0.9683133363723755, train MSE: [0.9683133959770203], train MSE from unscaled values: [3707.097412109375]\n"
     ]
    },
    {
     "data": {
      "application/vnd.jupyter.widget-view+json": {
       "model_id": "",
       "version_major": 2,
       "version_minor": 0
      },
      "text/plain": [
       "epoch 24 validation data:   0%|          | 0/61 [00:00<?, ?it/s]"
      ]
     },
     "metadata": {},
     "output_type": "display_data"
    },
    {
     "name": "stdout",
     "output_type": "stream",
     "text": [
      "epoch: 24, validation loss: 0.890759289264679, validation MSE: [0.890759289264679], validation MSE from unscaled values: [3410.18896484375]\n",
      "Validation loss decreased (0.901700 --> 0.890759).  Saving model ...\n"
     ]
    },
    {
     "data": {
      "application/vnd.jupyter.widget-view+json": {
       "model_id": "",
       "version_major": 2,
       "version_minor": 0
      },
      "text/plain": [
       "epoch 25 training data:   0%|          | 0/83 [00:00<?, ?it/s]"
      ]
     },
     "metadata": {},
     "output_type": "display_data"
    },
    {
     "name": "stdout",
     "output_type": "stream",
     "text": [
      "epoch: 25, LR: 0.006, train loss: 0.9392027258872986, train MSE: [0.9392027258872986], train MSE from unscaled values: [3595.64990234375]\n"
     ]
    },
    {
     "data": {
      "application/vnd.jupyter.widget-view+json": {
       "model_id": "",
       "version_major": 2,
       "version_minor": 0
      },
      "text/plain": [
       "epoch 25 validation data:   0%|          | 0/61 [00:00<?, ?it/s]"
      ]
     },
     "metadata": {},
     "output_type": "display_data"
    },
    {
     "name": "stdout",
     "output_type": "stream",
     "text": [
      "epoch: 25, validation loss: 0.8536616563796997, validation MSE: [0.8536617159843445], validation MSE from unscaled values: [3268.16455078125]\n",
      "Validation loss decreased (0.890759 --> 0.853662).  Saving model ...\n"
     ]
    },
    {
     "data": {
      "application/vnd.jupyter.widget-view+json": {
       "model_id": "",
       "version_major": 2,
       "version_minor": 0
      },
      "text/plain": [
       "epoch 26 training data:   0%|          | 0/83 [00:00<?, ?it/s]"
      ]
     },
     "metadata": {},
     "output_type": "display_data"
    },
    {
     "name": "stdout",
     "output_type": "stream",
     "text": [
      "epoch: 26, LR: 0.006, train loss: 0.8960506319999695, train MSE: [0.8960508108139038], train MSE from unscaled values: [3430.447021484375]\n"
     ]
    },
    {
     "data": {
      "application/vnd.jupyter.widget-view+json": {
       "model_id": "",
       "version_major": 2,
       "version_minor": 0
      },
      "text/plain": [
       "epoch 26 validation data:   0%|          | 0/61 [00:00<?, ?it/s]"
      ]
     },
     "metadata": {},
     "output_type": "display_data"
    },
    {
     "name": "stdout",
     "output_type": "stream",
     "text": [
      "epoch: 26, validation loss: 0.8948336839675903, validation MSE: [0.8948337435722351], validation MSE from unscaled values: [3425.78759765625]\n",
      "EarlyStopping counter: 1 out of 19\n"
     ]
    },
    {
     "data": {
      "application/vnd.jupyter.widget-view+json": {
       "model_id": "",
       "version_major": 2,
       "version_minor": 0
      },
      "text/plain": [
       "epoch 27 training data:   0%|          | 0/83 [00:00<?, ?it/s]"
      ]
     },
     "metadata": {},
     "output_type": "display_data"
    },
    {
     "name": "stdout",
     "output_type": "stream",
     "text": [
      "epoch: 27, LR: 0.006, train loss: 0.9122275710105896, train MSE: [0.9122275710105896], train MSE from unscaled values: [3492.3779296875]\n"
     ]
    },
    {
     "data": {
      "application/vnd.jupyter.widget-view+json": {
       "model_id": "",
       "version_major": 2,
       "version_minor": 0
      },
      "text/plain": [
       "epoch 27 validation data:   0%|          | 0/61 [00:00<?, ?it/s]"
      ]
     },
     "metadata": {},
     "output_type": "display_data"
    },
    {
     "name": "stdout",
     "output_type": "stream",
     "text": [
      "epoch: 27, validation loss: 0.8803605437278748, validation MSE: [0.8803605437278748], validation MSE from unscaled values: [3370.378173828125]\n",
      "EarlyStopping counter: 2 out of 19\n"
     ]
    },
    {
     "data": {
      "application/vnd.jupyter.widget-view+json": {
       "model_id": "",
       "version_major": 2,
       "version_minor": 0
      },
      "text/plain": [
       "epoch 28 training data:   0%|          | 0/83 [00:00<?, ?it/s]"
      ]
     },
     "metadata": {},
     "output_type": "display_data"
    },
    {
     "name": "stdout",
     "output_type": "stream",
     "text": [
      "epoch: 28, LR: 0.006, train loss: 0.8836894035339355, train MSE: [0.8836893439292908], train MSE from unscaled values: [3383.122314453125]\n"
     ]
    },
    {
     "data": {
      "application/vnd.jupyter.widget-view+json": {
       "model_id": "",
       "version_major": 2,
       "version_minor": 0
      },
      "text/plain": [
       "epoch 28 validation data:   0%|          | 0/61 [00:00<?, ?it/s]"
      ]
     },
     "metadata": {},
     "output_type": "display_data"
    },
    {
     "name": "stdout",
     "output_type": "stream",
     "text": [
      "epoch: 28, validation loss: 0.8671911954879761, validation MSE: [0.8671911954879761], validation MSE from unscaled values: [3319.96044921875]\n",
      "EarlyStopping counter: 3 out of 19\n"
     ]
    },
    {
     "data": {
      "application/vnd.jupyter.widget-view+json": {
       "model_id": "",
       "version_major": 2,
       "version_minor": 0
      },
      "text/plain": [
       "epoch 29 training data:   0%|          | 0/83 [00:00<?, ?it/s]"
      ]
     },
     "metadata": {},
     "output_type": "display_data"
    },
    {
     "name": "stdout",
     "output_type": "stream",
     "text": [
      "epoch: 29, LR: 0.006, train loss: 0.9065528512001038, train MSE: [0.906552791595459], train MSE from unscaled values: [3470.65283203125]\n"
     ]
    },
    {
     "data": {
      "application/vnd.jupyter.widget-view+json": {
       "model_id": "",
       "version_major": 2,
       "version_minor": 0
      },
      "text/plain": [
       "epoch 29 validation data:   0%|          | 0/61 [00:00<?, ?it/s]"
      ]
     },
     "metadata": {},
     "output_type": "display_data"
    },
    {
     "name": "stdout",
     "output_type": "stream",
     "text": [
      "epoch: 29, validation loss: 0.8817145824432373, validation MSE: [0.8817144632339478], validation MSE from unscaled values: [3375.561767578125]\n",
      "EarlyStopping counter: 4 out of 19\n"
     ]
    },
    {
     "data": {
      "application/vnd.jupyter.widget-view+json": {
       "model_id": "",
       "version_major": 2,
       "version_minor": 0
      },
      "text/plain": [
       "epoch 30 training data:   0%|          | 0/83 [00:00<?, ?it/s]"
      ]
     },
     "metadata": {},
     "output_type": "display_data"
    },
    {
     "name": "stdout",
     "output_type": "stream",
     "text": [
      "epoch: 30, LR: 0.006, train loss: 0.9136280417442322, train MSE: [0.9136279821395874], train MSE from unscaled values: [3497.739501953125]\n"
     ]
    },
    {
     "data": {
      "application/vnd.jupyter.widget-view+json": {
       "model_id": "",
       "version_major": 2,
       "version_minor": 0
      },
      "text/plain": [
       "epoch 30 validation data:   0%|          | 0/61 [00:00<?, ?it/s]"
      ]
     },
     "metadata": {},
     "output_type": "display_data"
    },
    {
     "name": "stdout",
     "output_type": "stream",
     "text": [
      "epoch: 30, validation loss: 0.8684945106506348, validation MSE: [0.8684945702552795], validation MSE from unscaled values: [3324.95068359375]\n",
      "EarlyStopping counter: 5 out of 19\n"
     ]
    },
    {
     "data": {
      "application/vnd.jupyter.widget-view+json": {
       "model_id": "",
       "version_major": 2,
       "version_minor": 0
      },
      "text/plain": [
       "epoch 31 training data:   0%|          | 0/83 [00:00<?, ?it/s]"
      ]
     },
     "metadata": {},
     "output_type": "display_data"
    },
    {
     "name": "stdout",
     "output_type": "stream",
     "text": [
      "epoch: 31, LR: 0.006, train loss: 0.8873699903488159, train MSE: [0.8873699903488159], train MSE from unscaled values: [3397.213134765625]\n"
     ]
    },
    {
     "data": {
      "application/vnd.jupyter.widget-view+json": {
       "model_id": "",
       "version_major": 2,
       "version_minor": 0
      },
      "text/plain": [
       "epoch 31 validation data:   0%|          | 0/61 [00:00<?, ?it/s]"
      ]
     },
     "metadata": {},
     "output_type": "display_data"
    },
    {
     "name": "stdout",
     "output_type": "stream",
     "text": [
      "epoch: 31, validation loss: 0.8510307669639587, validation MSE: [0.8510308265686035], validation MSE from unscaled values: [3258.09228515625]\n",
      "Validation loss decreased (0.853662 --> 0.851031).  Saving model ...\n"
     ]
    },
    {
     "data": {
      "application/vnd.jupyter.widget-view+json": {
       "model_id": "",
       "version_major": 2,
       "version_minor": 0
      },
      "text/plain": [
       "epoch 32 training data:   0%|          | 0/83 [00:00<?, ?it/s]"
      ]
     },
     "metadata": {},
     "output_type": "display_data"
    },
    {
     "name": "stdout",
     "output_type": "stream",
     "text": [
      "epoch: 32, LR: 0.006, train loss: 0.8640188574790955, train MSE: [0.8640189170837402], train MSE from unscaled values: [3307.8154296875]\n"
     ]
    },
    {
     "data": {
      "application/vnd.jupyter.widget-view+json": {
       "model_id": "",
       "version_major": 2,
       "version_minor": 0
      },
      "text/plain": [
       "epoch 32 validation data:   0%|          | 0/61 [00:00<?, ?it/s]"
      ]
     },
     "metadata": {},
     "output_type": "display_data"
    },
    {
     "name": "stdout",
     "output_type": "stream",
     "text": [
      "epoch: 32, validation loss: 0.8817567229270935, validation MSE: [0.8817567825317383], validation MSE from unscaled values: [3375.723388671875]\n",
      "EarlyStopping counter: 1 out of 19\n"
     ]
    },
    {
     "data": {
      "application/vnd.jupyter.widget-view+json": {
       "model_id": "",
       "version_major": 2,
       "version_minor": 0
      },
      "text/plain": [
       "epoch 33 training data:   0%|          | 0/83 [00:00<?, ?it/s]"
      ]
     },
     "metadata": {},
     "output_type": "display_data"
    },
    {
     "name": "stdout",
     "output_type": "stream",
     "text": [
      "epoch: 33, LR: 0.006, train loss: 0.8509132266044617, train MSE: [0.8509132862091064], train MSE from unscaled values: [3257.6416015625]\n"
     ]
    },
    {
     "data": {
      "application/vnd.jupyter.widget-view+json": {
       "model_id": "",
       "version_major": 2,
       "version_minor": 0
      },
      "text/plain": [
       "epoch 33 validation data:   0%|          | 0/61 [00:00<?, ?it/s]"
      ]
     },
     "metadata": {},
     "output_type": "display_data"
    },
    {
     "name": "stdout",
     "output_type": "stream",
     "text": [
      "epoch: 33, validation loss: 0.8141738772392273, validation MSE: [0.8141739368438721], validation MSE from unscaled values: [3116.98876953125]\n",
      "Validation loss decreased (0.851031 --> 0.814174).  Saving model ...\n"
     ]
    },
    {
     "data": {
      "application/vnd.jupyter.widget-view+json": {
       "model_id": "",
       "version_major": 2,
       "version_minor": 0
      },
      "text/plain": [
       "epoch 34 training data:   0%|          | 0/83 [00:00<?, ?it/s]"
      ]
     },
     "metadata": {},
     "output_type": "display_data"
    },
    {
     "name": "stdout",
     "output_type": "stream",
     "text": [
      "epoch: 34, LR: 0.006, train loss: 0.8638187646865845, train MSE: [0.863818883895874], train MSE from unscaled values: [3307.050048828125]\n"
     ]
    },
    {
     "data": {
      "application/vnd.jupyter.widget-view+json": {
       "model_id": "",
       "version_major": 2,
       "version_minor": 0
      },
      "text/plain": [
       "epoch 34 validation data:   0%|          | 0/61 [00:00<?, ?it/s]"
      ]
     },
     "metadata": {},
     "output_type": "display_data"
    },
    {
     "name": "stdout",
     "output_type": "stream",
     "text": [
      "epoch: 34, validation loss: 0.8379944562911987, validation MSE: [0.8379945158958435], validation MSE from unscaled values: [3208.183349609375]\n",
      "EarlyStopping counter: 1 out of 19\n"
     ]
    },
    {
     "data": {
      "application/vnd.jupyter.widget-view+json": {
       "model_id": "",
       "version_major": 2,
       "version_minor": 0
      },
      "text/plain": [
       "epoch 35 training data:   0%|          | 0/83 [00:00<?, ?it/s]"
      ]
     },
     "metadata": {},
     "output_type": "display_data"
    },
    {
     "name": "stdout",
     "output_type": "stream",
     "text": [
      "epoch: 35, LR: 0.006, train loss: 0.8525226712226868, train MSE: [0.852522611618042], train MSE from unscaled values: [3263.803466796875]\n"
     ]
    },
    {
     "data": {
      "application/vnd.jupyter.widget-view+json": {
       "model_id": "",
       "version_major": 2,
       "version_minor": 0
      },
      "text/plain": [
       "epoch 35 validation data:   0%|          | 0/61 [00:00<?, ?it/s]"
      ]
     },
     "metadata": {},
     "output_type": "display_data"
    },
    {
     "name": "stdout",
     "output_type": "stream",
     "text": [
      "epoch: 35, validation loss: 0.8777763843536377, validation MSE: [0.8777763247489929], validation MSE from unscaled values: [3360.48486328125]\n",
      "EarlyStopping counter: 2 out of 19\n"
     ]
    },
    {
     "data": {
      "application/vnd.jupyter.widget-view+json": {
       "model_id": "",
       "version_major": 2,
       "version_minor": 0
      },
      "text/plain": [
       "epoch 36 training data:   0%|          | 0/83 [00:00<?, ?it/s]"
      ]
     },
     "metadata": {},
     "output_type": "display_data"
    },
    {
     "name": "stdout",
     "output_type": "stream",
     "text": [
      "epoch: 36, LR: 0.006, train loss: 0.8916621804237366, train MSE: [0.8916621208190918], train MSE from unscaled values: [3413.645263671875]\n"
     ]
    },
    {
     "data": {
      "application/vnd.jupyter.widget-view+json": {
       "model_id": "",
       "version_major": 2,
       "version_minor": 0
      },
      "text/plain": [
       "epoch 36 validation data:   0%|          | 0/61 [00:00<?, ?it/s]"
      ]
     },
     "metadata": {},
     "output_type": "display_data"
    },
    {
     "name": "stdout",
     "output_type": "stream",
     "text": [
      "epoch: 36, validation loss: 0.8719866871833801, validation MSE: [0.8719866871833801], validation MSE from unscaled values: [3338.320068359375]\n",
      "EarlyStopping counter: 3 out of 19\n"
     ]
    },
    {
     "data": {
      "application/vnd.jupyter.widget-view+json": {
       "model_id": "",
       "version_major": 2,
       "version_minor": 0
      },
      "text/plain": [
       "epoch 37 training data:   0%|          | 0/83 [00:00<?, ?it/s]"
      ]
     },
     "metadata": {},
     "output_type": "display_data"
    },
    {
     "name": "stdout",
     "output_type": "stream",
     "text": [
      "epoch: 37, LR: 0.006, train loss: 0.825808048248291, train MSE: [0.8258079886436462], train MSE from unscaled values: [3161.529052734375]\n"
     ]
    },
    {
     "data": {
      "application/vnd.jupyter.widget-view+json": {
       "model_id": "",
       "version_major": 2,
       "version_minor": 0
      },
      "text/plain": [
       "epoch 37 validation data:   0%|          | 0/61 [00:00<?, ?it/s]"
      ]
     },
     "metadata": {},
     "output_type": "display_data"
    },
    {
     "name": "stdout",
     "output_type": "stream",
     "text": [
      "epoch: 37, validation loss: 0.9108608365058899, validation MSE: [0.9108609557151794], validation MSE from unscaled values: [3487.146240234375]\n",
      "EarlyStopping counter: 4 out of 19\n"
     ]
    },
    {
     "data": {
      "application/vnd.jupyter.widget-view+json": {
       "model_id": "",
       "version_major": 2,
       "version_minor": 0
      },
      "text/plain": [
       "epoch 38 training data:   0%|          | 0/83 [00:00<?, ?it/s]"
      ]
     },
     "metadata": {},
     "output_type": "display_data"
    },
    {
     "name": "stdout",
     "output_type": "stream",
     "text": [
      "epoch: 38, LR: 0.006, train loss: 0.833222508430481, train MSE: [0.8332225680351257], train MSE from unscaled values: [3189.914794921875]\n"
     ]
    },
    {
     "data": {
      "application/vnd.jupyter.widget-view+json": {
       "model_id": "",
       "version_major": 2,
       "version_minor": 0
      },
      "text/plain": [
       "epoch 38 validation data:   0%|          | 0/61 [00:00<?, ?it/s]"
      ]
     },
     "metadata": {},
     "output_type": "display_data"
    },
    {
     "name": "stdout",
     "output_type": "stream",
     "text": [
      "epoch: 38, validation loss: 0.8718574047088623, validation MSE: [0.8718574643135071], validation MSE from unscaled values: [3337.82470703125]\n",
      "EarlyStopping counter: 5 out of 19\n"
     ]
    },
    {
     "data": {
      "application/vnd.jupyter.widget-view+json": {
       "model_id": "",
       "version_major": 2,
       "version_minor": 0
      },
      "text/plain": [
       "epoch 39 training data:   0%|          | 0/83 [00:00<?, ?it/s]"
      ]
     },
     "metadata": {},
     "output_type": "display_data"
    },
    {
     "name": "stdout",
     "output_type": "stream",
     "text": [
      "epoch: 39, LR: 0.006, train loss: 0.8500373363494873, train MSE: [0.8500373363494873], train MSE from unscaled values: [3254.2890625]\n"
     ]
    },
    {
     "data": {
      "application/vnd.jupyter.widget-view+json": {
       "model_id": "",
       "version_major": 2,
       "version_minor": 0
      },
      "text/plain": [
       "epoch 39 validation data:   0%|          | 0/61 [00:00<?, ?it/s]"
      ]
     },
     "metadata": {},
     "output_type": "display_data"
    },
    {
     "name": "stdout",
     "output_type": "stream",
     "text": [
      "epoch: 39, validation loss: 0.8610165119171143, validation MSE: [0.861016571521759], validation MSE from unscaled values: [3296.3212890625]\n",
      "EarlyStopping counter: 6 out of 19\n"
     ]
    },
    {
     "data": {
      "application/vnd.jupyter.widget-view+json": {
       "model_id": "",
       "version_major": 2,
       "version_minor": 0
      },
      "text/plain": [
       "epoch 40 training data:   0%|          | 0/83 [00:00<?, ?it/s]"
      ]
     },
     "metadata": {},
     "output_type": "display_data"
    },
    {
     "name": "stdout",
     "output_type": "stream",
     "text": [
      "epoch: 40, LR: 0.006, train loss: 0.8465211987495422, train MSE: [0.8465211987495422], train MSE from unscaled values: [3240.8271484375]\n"
     ]
    },
    {
     "data": {
      "application/vnd.jupyter.widget-view+json": {
       "model_id": "",
       "version_major": 2,
       "version_minor": 0
      },
      "text/plain": [
       "epoch 40 validation data:   0%|          | 0/61 [00:00<?, ?it/s]"
      ]
     },
     "metadata": {},
     "output_type": "display_data"
    },
    {
     "name": "stdout",
     "output_type": "stream",
     "text": [
      "epoch: 40, validation loss: 0.8453667759895325, validation MSE: [0.8453666567802429], validation MSE from unscaled values: [3236.40771484375]\n",
      "EarlyStopping counter: 7 out of 19\n"
     ]
    },
    {
     "data": {
      "application/vnd.jupyter.widget-view+json": {
       "model_id": "",
       "version_major": 2,
       "version_minor": 0
      },
      "text/plain": [
       "epoch 41 training data:   0%|          | 0/83 [00:00<?, ?it/s]"
      ]
     },
     "metadata": {},
     "output_type": "display_data"
    },
    {
     "name": "stdout",
     "output_type": "stream",
     "text": [
      "epoch: 41, LR: 0.006, train loss: 0.8598850965499878, train MSE: [0.859885036945343], train MSE from unscaled values: [3291.989501953125]\n"
     ]
    },
    {
     "data": {
      "application/vnd.jupyter.widget-view+json": {
       "model_id": "",
       "version_major": 2,
       "version_minor": 0
      },
      "text/plain": [
       "epoch 41 validation data:   0%|          | 0/61 [00:00<?, ?it/s]"
      ]
     },
     "metadata": {},
     "output_type": "display_data"
    },
    {
     "name": "stdout",
     "output_type": "stream",
     "text": [
      "epoch: 41, validation loss: 0.811191737651825, validation MSE: [0.8111917972564697], validation MSE from unscaled values: [3105.572265625]\n",
      "Validation loss decreased (0.814174 --> 0.811192).  Saving model ...\n"
     ]
    },
    {
     "data": {
      "application/vnd.jupyter.widget-view+json": {
       "model_id": "",
       "version_major": 2,
       "version_minor": 0
      },
      "text/plain": [
       "epoch 42 training data:   0%|          | 0/83 [00:00<?, ?it/s]"
      ]
     },
     "metadata": {},
     "output_type": "display_data"
    },
    {
     "name": "stdout",
     "output_type": "stream",
     "text": [
      "epoch: 42, LR: 0.006, train loss: 0.8177385926246643, train MSE: [0.8177385330200195], train MSE from unscaled values: [3130.63623046875]\n"
     ]
    },
    {
     "data": {
      "application/vnd.jupyter.widget-view+json": {
       "model_id": "",
       "version_major": 2,
       "version_minor": 0
      },
      "text/plain": [
       "epoch 42 validation data:   0%|          | 0/61 [00:00<?, ?it/s]"
      ]
     },
     "metadata": {},
     "output_type": "display_data"
    },
    {
     "name": "stdout",
     "output_type": "stream",
     "text": [
      "epoch: 42, validation loss: 0.8565143942832947, validation MSE: [0.8565143942832947], validation MSE from unscaled values: [3279.085205078125]\n",
      "EarlyStopping counter: 1 out of 19\n"
     ]
    },
    {
     "data": {
      "application/vnd.jupyter.widget-view+json": {
       "model_id": "",
       "version_major": 2,
       "version_minor": 0
      },
      "text/plain": [
       "epoch 43 training data:   0%|          | 0/83 [00:00<?, ?it/s]"
      ]
     },
     "metadata": {},
     "output_type": "display_data"
    },
    {
     "name": "stdout",
     "output_type": "stream",
     "text": [
      "epoch: 43, LR: 0.006, train loss: 0.8188709020614624, train MSE: [0.8188708424568176], train MSE from unscaled values: [3134.970703125]\n"
     ]
    },
    {
     "data": {
      "application/vnd.jupyter.widget-view+json": {
       "model_id": "",
       "version_major": 2,
       "version_minor": 0
      },
      "text/plain": [
       "epoch 43 validation data:   0%|          | 0/61 [00:00<?, ?it/s]"
      ]
     },
     "metadata": {},
     "output_type": "display_data"
    },
    {
     "name": "stdout",
     "output_type": "stream",
     "text": [
      "epoch: 43, validation loss: 0.9111024141311646, validation MSE: [0.9111024737358093], validation MSE from unscaled values: [3488.0712890625]\n",
      "EarlyStopping counter: 2 out of 19\n"
     ]
    },
    {
     "data": {
      "application/vnd.jupyter.widget-view+json": {
       "model_id": "",
       "version_major": 2,
       "version_minor": 0
      },
      "text/plain": [
       "epoch 44 training data:   0%|          | 0/83 [00:00<?, ?it/s]"
      ]
     },
     "metadata": {},
     "output_type": "display_data"
    },
    {
     "name": "stdout",
     "output_type": "stream",
     "text": [
      "epoch: 44, LR: 0.006, train loss: 0.7783129215240479, train MSE: [0.7783129811286926], train MSE from unscaled values: [2979.698486328125]\n"
     ]
    },
    {
     "data": {
      "application/vnd.jupyter.widget-view+json": {
       "model_id": "",
       "version_major": 2,
       "version_minor": 0
      },
      "text/plain": [
       "epoch 44 validation data:   0%|          | 0/61 [00:00<?, ?it/s]"
      ]
     },
     "metadata": {},
     "output_type": "display_data"
    },
    {
     "name": "stdout",
     "output_type": "stream",
     "text": [
      "epoch: 44, validation loss: 0.8434574007987976, validation MSE: [0.8434575200080872], validation MSE from unscaled values: [3229.09814453125]\n",
      "EarlyStopping counter: 3 out of 19\n"
     ]
    },
    {
     "data": {
      "application/vnd.jupyter.widget-view+json": {
       "model_id": "",
       "version_major": 2,
       "version_minor": 0
      },
      "text/plain": [
       "epoch 45 training data:   0%|          | 0/83 [00:00<?, ?it/s]"
      ]
     },
     "metadata": {},
     "output_type": "display_data"
    },
    {
     "name": "stdout",
     "output_type": "stream",
     "text": [
      "epoch: 45, LR: 0.006, train loss: 0.8007824420928955, train MSE: [0.8007823824882507], train MSE from unscaled values: [3065.720703125]\n"
     ]
    },
    {
     "data": {
      "application/vnd.jupyter.widget-view+json": {
       "model_id": "",
       "version_major": 2,
       "version_minor": 0
      },
      "text/plain": [
       "epoch 45 validation data:   0%|          | 0/61 [00:00<?, ?it/s]"
      ]
     },
     "metadata": {},
     "output_type": "display_data"
    },
    {
     "name": "stdout",
     "output_type": "stream",
     "text": [
      "epoch: 45, validation loss: 0.8935468196868896, validation MSE: [0.8935468196868896], validation MSE from unscaled values: [3420.860595703125]\n",
      "EarlyStopping counter: 4 out of 19\n"
     ]
    },
    {
     "data": {
      "application/vnd.jupyter.widget-view+json": {
       "model_id": "",
       "version_major": 2,
       "version_minor": 0
      },
      "text/plain": [
       "epoch 46 training data:   0%|          | 0/83 [00:00<?, ?it/s]"
      ]
     },
     "metadata": {},
     "output_type": "display_data"
    },
    {
     "name": "stdout",
     "output_type": "stream",
     "text": [
      "epoch: 46, LR: 0.006, train loss: 0.8157679438591003, train MSE: [0.8157678842544556], train MSE from unscaled values: [3123.091064453125]\n"
     ]
    },
    {
     "data": {
      "application/vnd.jupyter.widget-view+json": {
       "model_id": "",
       "version_major": 2,
       "version_minor": 0
      },
      "text/plain": [
       "epoch 46 validation data:   0%|          | 0/61 [00:00<?, ?it/s]"
      ]
     },
     "metadata": {},
     "output_type": "display_data"
    },
    {
     "name": "stdout",
     "output_type": "stream",
     "text": [
      "epoch: 46, validation loss: 0.9001633524894714, validation MSE: [0.9001633524894714], validation MSE from unscaled values: [3446.191650390625]\n",
      "EarlyStopping counter: 5 out of 19\n"
     ]
    },
    {
     "data": {
      "application/vnd.jupyter.widget-view+json": {
       "model_id": "",
       "version_major": 2,
       "version_minor": 0
      },
      "text/plain": [
       "epoch 47 training data:   0%|          | 0/83 [00:00<?, ?it/s]"
      ]
     },
     "metadata": {},
     "output_type": "display_data"
    },
    {
     "name": "stdout",
     "output_type": "stream",
     "text": [
      "epoch: 47, LR: 0.006, train loss: 0.8178398013114929, train MSE: [0.8178398609161377], train MSE from unscaled values: [3131.0234375]\n"
     ]
    },
    {
     "data": {
      "application/vnd.jupyter.widget-view+json": {
       "model_id": "",
       "version_major": 2,
       "version_minor": 0
      },
      "text/plain": [
       "epoch 47 validation data:   0%|          | 0/61 [00:00<?, ?it/s]"
      ]
     },
     "metadata": {},
     "output_type": "display_data"
    },
    {
     "name": "stdout",
     "output_type": "stream",
     "text": [
      "epoch: 47, validation loss: 0.8636780381202698, validation MSE: [0.8636780977249146], validation MSE from unscaled values: [3306.51123046875]\n",
      "EarlyStopping counter: 6 out of 19\n"
     ]
    },
    {
     "data": {
      "application/vnd.jupyter.widget-view+json": {
       "model_id": "",
       "version_major": 2,
       "version_minor": 0
      },
      "text/plain": [
       "epoch 48 training data:   0%|          | 0/83 [00:00<?, ?it/s]"
      ]
     },
     "metadata": {},
     "output_type": "display_data"
    },
    {
     "name": "stdout",
     "output_type": "stream",
     "text": [
      "epoch: 48, LR: 0.006, train loss: 0.8056641221046448, train MSE: [0.8056641817092896], train MSE from unscaled values: [3084.41015625]\n"
     ]
    },
    {
     "data": {
      "application/vnd.jupyter.widget-view+json": {
       "model_id": "",
       "version_major": 2,
       "version_minor": 0
      },
      "text/plain": [
       "epoch 48 validation data:   0%|          | 0/61 [00:00<?, ?it/s]"
      ]
     },
     "metadata": {},
     "output_type": "display_data"
    },
    {
     "name": "stdout",
     "output_type": "stream",
     "text": [
      "epoch: 48, validation loss: 0.8596470952033997, validation MSE: [0.8596471548080444], validation MSE from unscaled values: [3291.07861328125]\n",
      "EarlyStopping counter: 7 out of 19\n"
     ]
    },
    {
     "data": {
      "application/vnd.jupyter.widget-view+json": {
       "model_id": "",
       "version_major": 2,
       "version_minor": 0
      },
      "text/plain": [
       "epoch 49 training data:   0%|          | 0/83 [00:00<?, ?it/s]"
      ]
     },
     "metadata": {},
     "output_type": "display_data"
    },
    {
     "name": "stdout",
     "output_type": "stream",
     "text": [
      "epoch: 49, LR: 0.006, train loss: 0.8143334984779358, train MSE: [0.814333438873291], train MSE from unscaled values: [3117.599853515625]\n"
     ]
    },
    {
     "data": {
      "application/vnd.jupyter.widget-view+json": {
       "model_id": "",
       "version_major": 2,
       "version_minor": 0
      },
      "text/plain": [
       "epoch 49 validation data:   0%|          | 0/61 [00:00<?, ?it/s]"
      ]
     },
     "metadata": {},
     "output_type": "display_data"
    },
    {
     "name": "stdout",
     "output_type": "stream",
     "text": [
      "epoch: 49, validation loss: 0.8654482960700989, validation MSE: [0.8654482960700989], validation MSE from unscaled values: [3313.2880859375]\n",
      "EarlyStopping counter: 8 out of 19\n"
     ]
    },
    {
     "data": {
      "application/vnd.jupyter.widget-view+json": {
       "model_id": "",
       "version_major": 2,
       "version_minor": 0
      },
      "text/plain": [
       "epoch 50 training data:   0%|          | 0/83 [00:00<?, ?it/s]"
      ]
     },
     "metadata": {},
     "output_type": "display_data"
    },
    {
     "name": "stdout",
     "output_type": "stream",
     "text": [
      "epoch: 50, LR: 0.006, train loss: 0.8085529208183289, train MSE: [0.8085529208183289], train MSE from unscaled values: [3095.46923828125]\n"
     ]
    },
    {
     "data": {
      "application/vnd.jupyter.widget-view+json": {
       "model_id": "",
       "version_major": 2,
       "version_minor": 0
      },
      "text/plain": [
       "epoch 50 validation data:   0%|          | 0/61 [00:00<?, ?it/s]"
      ]
     },
     "metadata": {},
     "output_type": "display_data"
    },
    {
     "name": "stdout",
     "output_type": "stream",
     "text": [
      "epoch: 50, validation loss: 0.8235827684402466, validation MSE: [0.8235828876495361], validation MSE from unscaled values: [3153.009765625]\n",
      "EarlyStopping counter: 9 out of 19\n"
     ]
    },
    {
     "data": {
      "application/vnd.jupyter.widget-view+json": {
       "model_id": "",
       "version_major": 2,
       "version_minor": 0
      },
      "text/plain": [
       "epoch 51 training data:   0%|          | 0/83 [00:00<?, ?it/s]"
      ]
     },
     "metadata": {},
     "output_type": "display_data"
    },
    {
     "name": "stdout",
     "output_type": "stream",
     "text": [
      "epoch: 51, LR: 0.0036, train loss: 0.7837919592857361, train MSE: [0.7837919592857361], train MSE from unscaled values: [3000.6748046875]\n"
     ]
    },
    {
     "data": {
      "application/vnd.jupyter.widget-view+json": {
       "model_id": "",
       "version_major": 2,
       "version_minor": 0
      },
      "text/plain": [
       "epoch 51 validation data:   0%|          | 0/61 [00:00<?, ?it/s]"
      ]
     },
     "metadata": {},
     "output_type": "display_data"
    },
    {
     "name": "stdout",
     "output_type": "stream",
     "text": [
      "epoch: 51, validation loss: 0.8380205035209656, validation MSE: [0.8380205631256104], validation MSE from unscaled values: [3208.283447265625]\n",
      "EarlyStopping counter: 10 out of 19\n"
     ]
    },
    {
     "data": {
      "application/vnd.jupyter.widget-view+json": {
       "model_id": "",
       "version_major": 2,
       "version_minor": 0
      },
      "text/plain": [
       "epoch 52 training data:   0%|          | 0/83 [00:00<?, ?it/s]"
      ]
     },
     "metadata": {},
     "output_type": "display_data"
    },
    {
     "name": "stdout",
     "output_type": "stream",
     "text": [
      "epoch: 52, LR: 0.0036, train loss: 0.7463619112968445, train MSE: [0.7463618516921997], train MSE from unscaled values: [2857.377197265625]\n"
     ]
    },
    {
     "data": {
      "application/vnd.jupyter.widget-view+json": {
       "model_id": "",
       "version_major": 2,
       "version_minor": 0
      },
      "text/plain": [
       "epoch 52 validation data:   0%|          | 0/61 [00:00<?, ?it/s]"
      ]
     },
     "metadata": {},
     "output_type": "display_data"
    },
    {
     "name": "stdout",
     "output_type": "stream",
     "text": [
      "epoch: 52, validation loss: 0.8370732069015503, validation MSE: [0.8370731472969055], validation MSE from unscaled values: [3204.65673828125]\n",
      "EarlyStopping counter: 11 out of 19\n"
     ]
    },
    {
     "data": {
      "application/vnd.jupyter.widget-view+json": {
       "model_id": "",
       "version_major": 2,
       "version_minor": 0
      },
      "text/plain": [
       "epoch 53 training data:   0%|          | 0/83 [00:00<?, ?it/s]"
      ]
     },
     "metadata": {},
     "output_type": "display_data"
    },
    {
     "name": "stdout",
     "output_type": "stream",
     "text": [
      "epoch: 53, LR: 0.0036, train loss: 0.7559634447097778, train MSE: [0.7559634447097778], train MSE from unscaled values: [2894.13525390625]\n"
     ]
    },
    {
     "data": {
      "application/vnd.jupyter.widget-view+json": {
       "model_id": "",
       "version_major": 2,
       "version_minor": 0
      },
      "text/plain": [
       "epoch 53 validation data:   0%|          | 0/61 [00:00<?, ?it/s]"
      ]
     },
     "metadata": {},
     "output_type": "display_data"
    },
    {
     "name": "stdout",
     "output_type": "stream",
     "text": [
      "epoch: 53, validation loss: 0.8683927655220032, validation MSE: [0.868392825126648], validation MSE from unscaled values: [3324.56103515625]\n",
      "EarlyStopping counter: 12 out of 19\n"
     ]
    },
    {
     "data": {
      "application/vnd.jupyter.widget-view+json": {
       "model_id": "",
       "version_major": 2,
       "version_minor": 0
      },
      "text/plain": [
       "epoch 54 training data:   0%|          | 0/83 [00:00<?, ?it/s]"
      ]
     },
     "metadata": {},
     "output_type": "display_data"
    },
    {
     "name": "stdout",
     "output_type": "stream",
     "text": [
      "epoch: 54, LR: 0.0036, train loss: 0.7398366928100586, train MSE: [0.7398367524147034], train MSE from unscaled values: [2832.39599609375]\n"
     ]
    },
    {
     "data": {
      "application/vnd.jupyter.widget-view+json": {
       "model_id": "",
       "version_major": 2,
       "version_minor": 0
      },
      "text/plain": [
       "epoch 54 validation data:   0%|          | 0/61 [00:00<?, ?it/s]"
      ]
     },
     "metadata": {},
     "output_type": "display_data"
    },
    {
     "name": "stdout",
     "output_type": "stream",
     "text": [
      "epoch: 54, validation loss: 0.8455871939659119, validation MSE: [0.8455871939659119], validation MSE from unscaled values: [3237.251708984375]\n",
      "EarlyStopping counter: 13 out of 19\n"
     ]
    },
    {
     "data": {
      "application/vnd.jupyter.widget-view+json": {
       "model_id": "",
       "version_major": 2,
       "version_minor": 0
      },
      "text/plain": [
       "epoch 55 training data:   0%|          | 0/83 [00:00<?, ?it/s]"
      ]
     },
     "metadata": {},
     "output_type": "display_data"
    },
    {
     "name": "stdout",
     "output_type": "stream",
     "text": [
      "epoch: 55, LR: 0.0036, train loss: 0.7294376492500305, train MSE: [0.7294375896453857], train MSE from unscaled values: [2792.583984375]\n"
     ]
    },
    {
     "data": {
      "application/vnd.jupyter.widget-view+json": {
       "model_id": "",
       "version_major": 2,
       "version_minor": 0
      },
      "text/plain": [
       "epoch 55 validation data:   0%|          | 0/61 [00:00<?, ?it/s]"
      ]
     },
     "metadata": {},
     "output_type": "display_data"
    },
    {
     "name": "stdout",
     "output_type": "stream",
     "text": [
      "epoch: 55, validation loss: 0.8543741703033447, validation MSE: [0.8543741106987], validation MSE from unscaled values: [3270.8916015625]\n",
      "EarlyStopping counter: 14 out of 19\n"
     ]
    },
    {
     "data": {
      "application/vnd.jupyter.widget-view+json": {
       "model_id": "",
       "version_major": 2,
       "version_minor": 0
      },
      "text/plain": [
       "epoch 56 training data:   0%|          | 0/83 [00:00<?, ?it/s]"
      ]
     },
     "metadata": {},
     "output_type": "display_data"
    },
    {
     "name": "stdout",
     "output_type": "stream",
     "text": [
      "epoch: 56, LR: 0.0036, train loss: 0.729981005191803, train MSE: [0.729981005191803], train MSE from unscaled values: [2794.6640625]\n"
     ]
    },
    {
     "data": {
      "application/vnd.jupyter.widget-view+json": {
       "model_id": "",
       "version_major": 2,
       "version_minor": 0
      },
      "text/plain": [
       "epoch 56 validation data:   0%|          | 0/61 [00:00<?, ?it/s]"
      ]
     },
     "metadata": {},
     "output_type": "display_data"
    },
    {
     "name": "stdout",
     "output_type": "stream",
     "text": [
      "epoch: 56, validation loss: 0.8392110466957092, validation MSE: [0.839211106300354], validation MSE from unscaled values: [3212.841796875]\n",
      "EarlyStopping counter: 15 out of 19\n"
     ]
    },
    {
     "data": {
      "application/vnd.jupyter.widget-view+json": {
       "model_id": "",
       "version_major": 2,
       "version_minor": 0
      },
      "text/plain": [
       "epoch 57 training data:   0%|          | 0/83 [00:00<?, ?it/s]"
      ]
     },
     "metadata": {},
     "output_type": "display_data"
    },
    {
     "name": "stdout",
     "output_type": "stream",
     "text": [
      "epoch: 57, LR: 0.0036, train loss: 0.7384006977081299, train MSE: [0.7384007573127747], train MSE from unscaled values: [2826.898193359375]\n"
     ]
    },
    {
     "data": {
      "application/vnd.jupyter.widget-view+json": {
       "model_id": "",
       "version_major": 2,
       "version_minor": 0
      },
      "text/plain": [
       "epoch 57 validation data:   0%|          | 0/61 [00:00<?, ?it/s]"
      ]
     },
     "metadata": {},
     "output_type": "display_data"
    },
    {
     "name": "stdout",
     "output_type": "stream",
     "text": [
      "epoch: 57, validation loss: 0.9089067578315735, validation MSE: [0.9089066982269287], validation MSE from unscaled values: [3479.66455078125]\n",
      "EarlyStopping counter: 16 out of 19\n"
     ]
    },
    {
     "data": {
      "application/vnd.jupyter.widget-view+json": {
       "model_id": "",
       "version_major": 2,
       "version_minor": 0
      },
      "text/plain": [
       "epoch 58 training data:   0%|          | 0/83 [00:00<?, ?it/s]"
      ]
     },
     "metadata": {},
     "output_type": "display_data"
    },
    {
     "name": "stdout",
     "output_type": "stream",
     "text": [
      "epoch: 58, LR: 0.0036, train loss: 0.7130717635154724, train MSE: [0.7130718231201172], train MSE from unscaled values: [2729.928955078125]\n"
     ]
    },
    {
     "data": {
      "application/vnd.jupyter.widget-view+json": {
       "model_id": "",
       "version_major": 2,
       "version_minor": 0
      },
      "text/plain": [
       "epoch 58 validation data:   0%|          | 0/61 [00:00<?, ?it/s]"
      ]
     },
     "metadata": {},
     "output_type": "display_data"
    },
    {
     "name": "stdout",
     "output_type": "stream",
     "text": [
      "epoch: 58, validation loss: 0.8422499895095825, validation MSE: [0.8422499299049377], validation MSE from unscaled values: [3224.47509765625]\n",
      "EarlyStopping counter: 17 out of 19\n"
     ]
    },
    {
     "data": {
      "application/vnd.jupyter.widget-view+json": {
       "model_id": "",
       "version_major": 2,
       "version_minor": 0
      },
      "text/plain": [
       "epoch 59 training data:   0%|          | 0/83 [00:00<?, ?it/s]"
      ]
     },
     "metadata": {},
     "output_type": "display_data"
    },
    {
     "name": "stdout",
     "output_type": "stream",
     "text": [
      "epoch: 59, LR: 0.0036, train loss: 0.716552197933197, train MSE: [0.7165521383285522], train MSE from unscaled values: [2743.2529296875]\n"
     ]
    },
    {
     "data": {
      "application/vnd.jupyter.widget-view+json": {
       "model_id": "",
       "version_major": 2,
       "version_minor": 0
      },
      "text/plain": [
       "epoch 59 validation data:   0%|          | 0/61 [00:00<?, ?it/s]"
      ]
     },
     "metadata": {},
     "output_type": "display_data"
    },
    {
     "name": "stdout",
     "output_type": "stream",
     "text": [
      "epoch: 59, validation loss: 0.8523281216621399, validation MSE: [0.8523281812667847], validation MSE from unscaled values: [3263.058837890625]\n",
      "EarlyStopping counter: 18 out of 19\n"
     ]
    },
    {
     "data": {
      "application/vnd.jupyter.widget-view+json": {
       "model_id": "",
       "version_major": 2,
       "version_minor": 0
      },
      "text/plain": [
       "epoch 60 training data:   0%|          | 0/83 [00:00<?, ?it/s]"
      ]
     },
     "metadata": {},
     "output_type": "display_data"
    },
    {
     "name": "stdout",
     "output_type": "stream",
     "text": [
      "epoch: 60, LR: 0.00216, train loss: 0.6515153050422668, train MSE: [0.6515152454376221], train MSE from unscaled values: [2494.265625]\n"
     ]
    },
    {
     "data": {
      "application/vnd.jupyter.widget-view+json": {
       "model_id": "",
       "version_major": 2,
       "version_minor": 0
      },
      "text/plain": [
       "epoch 60 validation data:   0%|          | 0/61 [00:00<?, ?it/s]"
      ]
     },
     "metadata": {},
     "output_type": "display_data"
    },
    {
     "name": "stdout",
     "output_type": "stream",
     "text": [
      "epoch: 60, validation loss: 0.8910313248634338, validation MSE: [0.8910313844680786], validation MSE from unscaled values: [3411.230224609375]\n",
      "EarlyStopping counter: 19 out of 19\n",
      "Early stopping\n"
     ]
    }
   ],
   "source": [
    "scaler = getattr(train_dataset.dataset, f'scaler_{parameter}')\n",
    "\n",
    "for epoch in range(previous_epochs, EPOCHS+previous_epochs):\n",
    "    # TRAINING Part\n",
    "    model.train()\n",
    "    train_loss = []\n",
    "    mse_train_list = []\n",
    "    mse_inversed_train_list = []\n",
    "\n",
    "    bar = tqdm(train_dataloader, position=0, leave=False,\n",
    "               desc=f'epoch {epoch} training data')\n",
    "    i = 0\n",
    "    for train_data in bar:  # for each training step\n",
    "        i += 1\n",
    "        img_data_device = train_data['image'].to(device, dtype=torch.float)\n",
    "#         stacked_gt_device = torch.stack((train_data['P'], train_data['K'], train_data['Mg'], train_data['pH'])).transpose(\n",
    "#             0, 1).to(device, dtype=torch.float)\n",
    "        stacked_gt_device = train_data[parameter].unsqueeze(dim=0).permute(1, 0).to(device, dtype=torch.float)\n",
    "\n",
    "        output = model(img_data_device)\n",
    "\n",
    "        loss = loss_func(output, stacked_gt_device)\n",
    "        optimizer.zero_grad()\n",
    "        loss.backward()\n",
    "        optimizer.step()\n",
    "        train_loss.append(loss)\n",
    "\n",
    "        output_cpu = output.detach().cpu().numpy()\n",
    "        stacked_gt_cpu = stacked_gt_device.cpu().numpy()\n",
    "        \n",
    "        output_cpu_inversed = scaler.inverse_transform(output_cpu)\n",
    "        stacked_gt_cpu_inversed = scaler.inverse_transform(stacked_gt_cpu)\n",
    "\n",
    "        # Calculate MSE for each class\n",
    "        mse = np.mean((stacked_gt_cpu - output_cpu) ** 2, axis=0)\n",
    "        mse_inversed = np.mean((stacked_gt_cpu_inversed - output_cpu_inversed) ** 2, axis=0)\n",
    "        mse_train_list.append(mse)\n",
    "        mse_inversed_train_list.append(mse_inversed)\n",
    "        \n",
    "\n",
    "        if i % 10 == 0:  # log every 10 batches\n",
    "            train_log_dict = dict()\n",
    "            train_log_dict['batch_number'] = i\n",
    "            train_log_dict['epoch'] = epoch\n",
    "            train_log_dict['train_batch_loss'] = loss\n",
    "            train_log_dict['train_batch_MSE_{}'.format(parameter)] = mse[0]\n",
    "            wandb.log(train_log_dict)\n",
    "\n",
    "    avg_train_loss = torch.stack(train_loss).mean().item()\n",
    "    avg_train_mse = torch.as_tensor(\n",
    "        np.array(mse_train_list)).mean(axis=0).numpy().tolist()\n",
    "    avg_train_mse_inversed = torch.as_tensor(\n",
    "        np.array(mse_inversed_train_list)).mean(axis=0).numpy().tolist()\n",
    "\n",
    "    print(\n",
    "        f'epoch: {epoch}, LR: {optimizer.param_groups[0][\"lr\"]}, train loss: {avg_train_loss}, train MSE: {avg_train_mse}, train MSE from unscaled values: {avg_train_mse_inversed}')\n",
    "    wandb.log({'epoch': epoch, 'average_train_loss': avg_train_loss, 'average_train_MSE_{}'.format(parameter): avg_train_mse_inversed[0]})\n",
    "\n",
    "    # VALIDATION Part\n",
    "    model.eval()\n",
    "    val_bar = tqdm(validation_dataloader, position=0,\n",
    "                   leave=False, desc=f'epoch {epoch} validation data')\n",
    "    with torch.no_grad():\n",
    "        val_loss = []\n",
    "        mse_val_list = []\n",
    "        mse_inversed_val_list = []\n",
    "        for val_data in val_bar:\n",
    "            img_data_device = val_data['image'].to(device, dtype=torch.float)\n",
    "#             stacked_gt_device = torch.stack((val_data['P'], val_data['K'], val_data['Mg'], val_data['pH'])).transpose(\n",
    "#                 0, 1).to(device, dtype=torch.float)\n",
    "            stacked_gt_device =  val_data[parameter].unsqueeze(dim=0).permute(1, 0).to(device, dtype=torch.float)\n",
    "\n",
    "            output = model(img_data_device)\n",
    "\n",
    "            loss = loss_func(output, stacked_gt_device)\n",
    "            val_loss.append(loss)\n",
    "\n",
    "            output_cpu = output.detach().cpu().numpy()\n",
    "            stacked_gt_cpu = stacked_gt_device.cpu().numpy()\n",
    "            \n",
    "            output_cpu_inversed = scaler.inverse_transform(output_cpu)\n",
    "            stacked_gt_cpu_inversed = scaler.inverse_transform(stacked_gt_cpu)\n",
    "\n",
    "            # Calculate MSE for each class\n",
    "            mse = np.mean((stacked_gt_cpu - output_cpu) ** 2, axis=0)\n",
    "            mse_val_list.append(mse)\n",
    "            mse_inversed = np.mean((stacked_gt_cpu_inversed - output_cpu_inversed) ** 2, axis=0)\n",
    "            mse_inversed_val_list.append(mse_inversed)\n",
    "\n",
    "\n",
    "        avg_val_loss = torch.stack(val_loss).mean().item()\n",
    "        avg_val_mse = torch.as_tensor(\n",
    "            np.array(mse_val_list)).mean(axis=0).numpy().tolist()\n",
    "        avg_val_mse_inversed = torch.as_tensor(\n",
    "            np.array(mse_inversed_val_list)).mean(axis=0).numpy().tolist()\n",
    "\n",
    "        print(f'epoch: {epoch}, validation loss: {avg_val_loss}, validation MSE: {avg_val_mse}, validation MSE from unscaled values: {avg_val_mse_inversed}')\n",
    "        # using MSE from inversed values in W&B logger to make it compatible with previous runs in W&B\n",
    "        wandb.log({'epoch': epoch, 'average_val_loss': avg_val_loss, 'average_validation_MSE_{}'.format(parameter): avg_val_mse_inversed[0]}) \n",
    "\n",
    "        scheduler.step(avg_val_loss)\n",
    "        # early_stopping needs the validation loss to check if it has decresed,\n",
    "        # and if it has, it will make a checkpoint of the current model\n",
    "        early_stopping(avg_val_loss, model)\n",
    "\n",
    "        if early_stopping.early_stop:\n",
    "            print(\"Early stopping\")\n",
    "            break"
   ]
  },
  {
   "cell_type": "markdown",
   "id": "630df441-d9af-44d6-8816-19e2bcc53e57",
   "metadata": {
    "tags": []
   },
   "source": [
    "#### Saving model state dict and loading"
   ]
  },
  {
   "cell_type": "code",
   "execution_count": 27,
   "id": "5aaf13cc-2e25-4bdf-822e-3d365964ca6e",
   "metadata": {},
   "outputs": [],
   "source": [
    "torch.save(model.state_dict(), os.path.join(\n",
    "    saved_models_directory, model_name+f'_EPOCHS_{epoch}.pth'))"
   ]
  },
  {
   "cell_type": "code",
   "execution_count": 28,
   "id": "d6ffb3e2-5cb5-49c2-abfe-5ecaa530087b",
   "metadata": {
    "tags": []
   },
   "outputs": [],
   "source": [
    "# rename checkpoint.pth\n",
    "! mv ../../saved_models/checkpoint_state_dict.pth ../../saved_models/checkpoint_state_dict_Hang2020_23_05_2022_Single_Parameter_Scaled_K.pth"
   ]
  },
  {
   "cell_type": "code",
   "execution_count": 29,
   "id": "3e4dc5ea-7e3a-4ce5-93e6-e6baf9615149",
   "metadata": {},
   "outputs": [
    {
     "data": {
      "text/plain": [
       "<All keys matched successfully>"
      ]
     },
     "execution_count": 29,
     "metadata": {},
     "output_type": "execute_result"
    }
   ],
   "source": [
    "# load saved model\n",
    "modelLoad = Hang2020(bands=150, classes=1).to(device)\n",
    "modelLoad.load_state_dict(torch.load(os.path.join(\n",
    "    saved_models_directory, 'checkpoint_state_dict_Hang2020_23_05_2022_Single_Parameter_Scaled_K.pth')))"
   ]
  },
  {
   "cell_type": "code",
   "execution_count": 30,
   "id": "c1c66db3-7fcf-4410-b51c-ae9706394be0",
   "metadata": {},
   "outputs": [],
   "source": [
    "modelLoad = modelLoad.to(device)"
   ]
  },
  {
   "cell_type": "code",
   "execution_count": null,
   "id": "24afa999-5283-4d5e-8d16-bb5e2d8876ec",
   "metadata": {},
   "outputs": [],
   "source": []
  }
 ],
 "metadata": {
  "kernelspec": {
   "display_name": "Python 3.7",
   "language": "python",
   "name": "python3"
  },
  "language_info": {
   "codemirror_mode": {
    "name": "ipython",
    "version": 3
   },
   "file_extension": ".py",
   "mimetype": "text/x-python",
   "name": "python",
   "nbconvert_exporter": "python",
   "pygments_lexer": "ipython3",
   "version": "3.7.12"
  }
 },
 "nbformat": 4,
 "nbformat_minor": 5
}
