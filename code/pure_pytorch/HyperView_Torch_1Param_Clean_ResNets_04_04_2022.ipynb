{
 "cells": [
  {
   "cell_type": "code",
   "execution_count": 1,
   "id": "270f1670-a145-441d-85b5-c5896262a5d5",
   "metadata": {
    "tags": []
   },
   "outputs": [],
   "source": [
    "import os\n",
    "from glob import glob\n",
    "import pandas as pd\n",
    "import numpy as np\n",
    "import torch\n",
    "import timm\n",
    "from torch.utils.data import Dataset, DataLoader\n",
    "from torch.utils.data.dataset import random_split\n",
    "from torch import nn, optim\n",
    "from torch.nn import functional as F\n",
    "from torchvision import transforms\n",
    "import matplotlib.pyplot as plt\n",
    "from math import ceil\n",
    "from tqdm.notebook import tqdm\n",
    "import wandb\n",
    "from torch_lr_finder import LRFinder\n",
    "from utils import EarlyStopping\n",
    "import utils\n",
    "import plotly.express as px"
   ]
  },
  {
   "cell_type": "code",
   "execution_count": 2,
   "id": "707e7a39-1543-4071-b32f-f03261397be1",
   "metadata": {},
   "outputs": [],
   "source": [
    "from scipy import ndimage"
   ]
  },
  {
   "cell_type": "code",
   "execution_count": 3,
   "id": "1382c3cd-4290-4b7f-806f-198920a1f686",
   "metadata": {
    "tags": []
   },
   "outputs": [
    {
     "name": "stderr",
     "output_type": "stream",
     "text": [
      "Failed to detect the name of this notebook, you can set it manually with the WANDB_NOTEBOOK_NAME environment variable to enable code saving.\n",
      "\u001b[34m\u001b[1mwandb\u001b[0m: Currently logged in as: \u001b[33mjcharyton\u001b[0m (use `wandb login --relogin` to force relogin)\n",
      "\u001b[34m\u001b[1mwandb\u001b[0m: wandb version 0.12.16 is available!  To upgrade, please run:\n",
      "\u001b[34m\u001b[1mwandb\u001b[0m:  $ pip install wandb --upgrade\n"
     ]
    },
    {
     "data": {
      "text/html": [
       "\n",
       "                    Syncing run <strong><a href=\"https://wandb.ai/jcharyton/HyperView-initial/runs/1174cugh\" target=\"_blank\">soft-tree-32</a></strong> to <a href=\"https://wandb.ai/jcharyton/HyperView-initial\" target=\"_blank\">Weights & Biases</a> (<a href=\"https://docs.wandb.com/integrations/jupyter.html\" target=\"_blank\">docs</a>).<br/>\n",
       "\n",
       "                "
      ],
      "text/plain": [
       "<IPython.core.display.HTML object>"
      ]
     },
     "metadata": {},
     "output_type": "display_data"
    }
   ],
   "source": [
    "run = wandb.init(project='HyperView-initial', reinit=True)\n",
    "# wandb.init(mode=\"disabled\") # in case of testing code"
   ]
  },
  {
   "cell_type": "markdown",
   "id": "bdc45bc9-94ce-41f5-8e9a-dee4ce53beca",
   "metadata": {
    "tags": []
   },
   "source": [
    "### Paths definition"
   ]
  },
  {
   "cell_type": "code",
   "execution_count": 4,
   "id": "31f3113b-e082-4f61-ae37-e02b0ec9e990",
   "metadata": {},
   "outputs": [],
   "source": [
    "train_data_directory = r'../../train_data'\n",
    "test_data_directory = r'../../test_data'\n",
    "saved_models_directory = r'../../saved_models'\n",
    "submissions_directory = r'../../submissions'"
   ]
  },
  {
   "cell_type": "markdown",
   "id": "f80dc9fe-75d0-4297-b2fe-e50637b59d2b",
   "metadata": {},
   "source": [
    "### Load mean and std values of training dataset"
   ]
  },
  {
   "cell_type": "code",
   "execution_count": 5,
   "id": "d936e375-5279-40c8-90f3-83bdca3a4ff1",
   "metadata": {},
   "outputs": [],
   "source": [
    "means_stds_arrays = np.load(os.path.join(\n",
    "    train_data_directory, 'means_stds_values_training_data.npz'))\n",
    "means = np.array(means_stds_arrays['means'])\n",
    "stds = np.array(means_stds_arrays['stds'])"
   ]
  },
  {
   "cell_type": "markdown",
   "id": "69734912-1875-401f-9e0b-7afa7eac153e",
   "metadata": {},
   "source": [
    "### Dataset definition"
   ]
  },
  {
   "cell_type": "code",
   "execution_count": 6,
   "id": "55fc5b6c-09e5-49d5-9211-32d95db7fa30",
   "metadata": {},
   "outputs": [],
   "source": [
    "class HyperViewDataset(Dataset):\n",
    "    def __init__(self, gt_file, img_dir, transform=True, means=None, stds=None, train_transforms=False):\n",
    "        self.img_dir = img_dir\n",
    "        if gt_file is not None:\n",
    "            self.gt = pd.read_csv(gt_file)[['sample_index', 'P', 'K', 'Mg', 'pH']]\n",
    "        else:\n",
    "            self.gt = None\n",
    "        self.transform = transform  # whether to perform transformation of input data\n",
    "        # whether to perform transformations like on training data\n",
    "        self.train_transforms = train_transforms\n",
    "\n",
    "        if self.train_transforms:\n",
    "            self.training_transforms_composition = transforms.Compose([\n",
    "                transforms.RandomHorizontalFlip(p=0.4), transforms.RandomVerticalFlip(p=0.4)])\n",
    "\n",
    "        self.means = means  # mean values for every band used to normalize data\n",
    "        self.stds = stds  # std values for every band used to normalize data\n",
    "\n",
    "        self.img_files = np.array(\n",
    "            sorted(\n",
    "                glob(os.path.join(img_dir, \"*.npz\")),\n",
    "                key=lambda x: int(os.path.basename(x).replace(\".npz\", \"\")),\n",
    "            )\n",
    "        )\n",
    "\n",
    "    def pad_to_minimum_size(self, min_size, image):\n",
    "        # pads numpy array to defined in `min_size` minimum size of array (w, h)\n",
    "        c, h, w = image.shape\n",
    "        h_diff = (min_size - h)/2\n",
    "        w_diff = (min_size - w)/2\n",
    "\n",
    "        if not h_diff.is_integer():\n",
    "            h_pad1 = int(h_diff - 0.5)\n",
    "            h_pad2 = int(h_diff + 0.5)\n",
    "        else:\n",
    "            h_pad1 = h_pad2 = int(h_diff)\n",
    "\n",
    "        if not w_diff.is_integer():\n",
    "            w_pad1 = int(w_diff - 0.5)\n",
    "            w_pad2 = int(w_diff + 0.5)\n",
    "        else:\n",
    "            w_pad1 = w_pad2 = int(w_diff)\n",
    "\n",
    "        # check if any padding is bigger than zero\n",
    "        if h_pad1+h_pad2+w_pad1+h_pad2 == 0:\n",
    "            return image\n",
    "        else:\n",
    "            return transforms.functional.pad(image, (w_pad1, h_pad1, w_pad2, h_pad2), fill=0)\n",
    "\n",
    "    def __len__(self):\n",
    "        return len(self.img_files)\n",
    "\n",
    "    def __getitem__(self, idx):\n",
    "        # load hyperspectral image to array\n",
    "        img_arr = np.ma.MaskedArray(**np.load(self.img_files[idx]))\n",
    "        img_tensor = torch.as_tensor(img_arr.data, dtype=torch.float)\n",
    "        # Inverting mask is necessary due to masking method in numpy\n",
    "        img_tensor_mask = ~torch.as_tensor(img_arr.mask)\n",
    "        img_masked_tensor = torch.mul(img_tensor, img_tensor_mask)\n",
    "\n",
    "        if self.transform:\n",
    "            img_masked_tensor_transformed = transforms.functional.normalize(\n",
    "                img_masked_tensor, mean=self.means.tolist(), std=self.stds.tolist())\n",
    "            img_masked_tensor_transformed = self.pad_to_minimum_size(\n",
    "                300, img_masked_tensor_transformed)\n",
    "            if self.train_transforms:\n",
    "                img_masked_tensor_transformed = self.training_transforms_composition(\n",
    "                    img_masked_tensor_transformed)\n",
    "            img_result_tensor = img_masked_tensor_transformed\n",
    "        else:\n",
    "            img_result_tensor = img_masked_tensor\n",
    "        # load labels\n",
    "        if self.gt is not None:\n",
    "            P_gt = self.gt.loc[idx, 'P']\n",
    "            K_gt = self.gt.loc[idx, 'K']\n",
    "            Mg_gt = self.gt.loc[idx, 'Mg']\n",
    "            pH_gt = self.gt.loc[idx, 'pH']\n",
    "            sample_index = self.gt.loc[idx, 'sample_index']\n",
    "\n",
    "            sample = {'image': img_result_tensor, 'P': P_gt,\n",
    "                      'K': K_gt, 'Mg': Mg_gt, 'pH': pH_gt, 'sample_index': sample_index}\n",
    "        else:\n",
    "            sample = {'image': img_result_tensor}\n",
    "\n",
    "        return sample"
   ]
  },
  {
   "cell_type": "code",
   "execution_count": 7,
   "id": "29db8b86-b4a4-4f29-bea0-f51a2c824031",
   "metadata": {},
   "outputs": [],
   "source": [
    "train_data_whole = HyperViewDataset(os.path.join(train_data_directory, 'train_gt.csv'), os.path.join(\n",
    "    train_data_directory, 'train_data'), True, means, stds, train_transforms=True)"
   ]
  },
  {
   "cell_type": "code",
   "execution_count": 8,
   "id": "82ad2317-a57a-4b6c-831f-b5c2ed7280cc",
   "metadata": {},
   "outputs": [],
   "source": [
    "train_dataset, validation_dataset = random_split(train_data_whole, [1000, 732], generator=torch.Generator().manual_seed(22))\n",
    "# train_dataset = torch.utils.data.Subset(train_data_whole, list(range(0, 1400)))\n",
    "# validation_dataset = torch.utils.data.Subset(train_data_whole, list(range(1400, len(train_data_whole))))"
   ]
  },
  {
   "cell_type": "markdown",
   "id": "ab1cda9a-39f3-4b58-aea8-79c8dfccf9b1",
   "metadata": {},
   "source": [
    "### Model Definition"
   ]
  },
  {
   "cell_type": "code",
   "execution_count": 9,
   "id": "7722e05c-848f-4114-b6c0-bb718c705e9e",
   "metadata": {},
   "outputs": [],
   "source": [
    "import torchvision\n",
    "from torchvision import datasets, models, transforms"
   ]
  },
  {
   "cell_type": "code",
   "execution_count": 10,
   "id": "4320d9a1-a6c4-44a5-a5c4-8f9bd8b69e1f",
   "metadata": {},
   "outputs": [],
   "source": [
    "class ResNetCNN(nn.Module):\n",
    "    def __init__(self, pretrained):\n",
    "        super().__init__()\n",
    "        self.resnet_model = models.resnet50(pretrained=False)\n",
    "\n",
    "        self.resnet_model.conv1 = nn.Conv2d(150, 64, kernel_size=(\n",
    "            7, 7), stride=(2, 2), padding=(3, 3), bias=False)\n",
    "        self.resnet_model.fc = nn.Linear(\n",
    "            in_features=2048, out_features=1, bias=True)\n",
    "\n",
    "    def forward(self, x):\n",
    "        x = self.resnet_model(x)\n",
    "#         return {'P': x[0], 'K': x[1], 'Mg': x[2], 'pH': x[3]}\n",
    "        return x"
   ]
  },
  {
   "cell_type": "code",
   "execution_count": 11,
   "id": "d148a100-6ad0-439f-a8bc-9ccbdd091852",
   "metadata": {},
   "outputs": [
    {
     "data": {
      "text/plain": [
       "device(type='cuda', index=0)"
      ]
     },
     "execution_count": 11,
     "metadata": {},
     "output_type": "execute_result"
    }
   ],
   "source": [
    "device = torch.device(\"cuda:0\" if torch.cuda.is_available() else \"cpu\")\n",
    "device"
   ]
  },
  {
   "cell_type": "code",
   "execution_count": 12,
   "id": "2cb2cae6-e7ec-4206-9451-14ee6ae07475",
   "metadata": {},
   "outputs": [],
   "source": [
    "BATCH_SIZE = 12\n",
    "EPOCHS = 300"
   ]
  },
  {
   "cell_type": "code",
   "execution_count": 13,
   "id": "9c45de25-2011-4cca-8a1c-a6d30848926d",
   "metadata": {},
   "outputs": [],
   "source": [
    "train_dataloader = DataLoader(\n",
    "    train_dataset, batch_size=BATCH_SIZE, pin_memory=True, drop_last=True, num_workers=4, shuffle=True)\n",
    "validation_dataloader = DataLoader(\n",
    "    validation_dataset, batch_size=BATCH_SIZE, pin_memory=True, drop_last=True, num_workers=4, shuffle=True)"
   ]
  },
  {
   "cell_type": "markdown",
   "id": "6184ff00-8fc3-4ce0-8734-fc91aed6edf2",
   "metadata": {
    "tags": []
   },
   "source": [
    "### Overfitting on single batch of data"
   ]
  },
  {
   "cell_type": "code",
   "execution_count": 14,
   "id": "8aff7ef7-192e-47b2-a64c-28a07f2db0f8",
   "metadata": {
    "collapsed": true,
    "jupyter": {
     "outputs_hidden": true
    },
    "tags": []
   },
   "outputs": [
    {
     "data": {
      "text/plain": [
       "ResNetCNN(\n",
       "  (resnet_model): ResNet(\n",
       "    (conv1): Conv2d(150, 64, kernel_size=(7, 7), stride=(2, 2), padding=(3, 3), bias=False)\n",
       "    (bn1): BatchNorm2d(64, eps=1e-05, momentum=0.1, affine=True, track_running_stats=True)\n",
       "    (relu): ReLU(inplace=True)\n",
       "    (maxpool): MaxPool2d(kernel_size=3, stride=2, padding=1, dilation=1, ceil_mode=False)\n",
       "    (layer1): Sequential(\n",
       "      (0): Bottleneck(\n",
       "        (conv1): Conv2d(64, 64, kernel_size=(1, 1), stride=(1, 1), bias=False)\n",
       "        (bn1): BatchNorm2d(64, eps=1e-05, momentum=0.1, affine=True, track_running_stats=True)\n",
       "        (conv2): Conv2d(64, 64, kernel_size=(3, 3), stride=(1, 1), padding=(1, 1), bias=False)\n",
       "        (bn2): BatchNorm2d(64, eps=1e-05, momentum=0.1, affine=True, track_running_stats=True)\n",
       "        (conv3): Conv2d(64, 256, kernel_size=(1, 1), stride=(1, 1), bias=False)\n",
       "        (bn3): BatchNorm2d(256, eps=1e-05, momentum=0.1, affine=True, track_running_stats=True)\n",
       "        (relu): ReLU(inplace=True)\n",
       "        (downsample): Sequential(\n",
       "          (0): Conv2d(64, 256, kernel_size=(1, 1), stride=(1, 1), bias=False)\n",
       "          (1): BatchNorm2d(256, eps=1e-05, momentum=0.1, affine=True, track_running_stats=True)\n",
       "        )\n",
       "      )\n",
       "      (1): Bottleneck(\n",
       "        (conv1): Conv2d(256, 64, kernel_size=(1, 1), stride=(1, 1), bias=False)\n",
       "        (bn1): BatchNorm2d(64, eps=1e-05, momentum=0.1, affine=True, track_running_stats=True)\n",
       "        (conv2): Conv2d(64, 64, kernel_size=(3, 3), stride=(1, 1), padding=(1, 1), bias=False)\n",
       "        (bn2): BatchNorm2d(64, eps=1e-05, momentum=0.1, affine=True, track_running_stats=True)\n",
       "        (conv3): Conv2d(64, 256, kernel_size=(1, 1), stride=(1, 1), bias=False)\n",
       "        (bn3): BatchNorm2d(256, eps=1e-05, momentum=0.1, affine=True, track_running_stats=True)\n",
       "        (relu): ReLU(inplace=True)\n",
       "      )\n",
       "      (2): Bottleneck(\n",
       "        (conv1): Conv2d(256, 64, kernel_size=(1, 1), stride=(1, 1), bias=False)\n",
       "        (bn1): BatchNorm2d(64, eps=1e-05, momentum=0.1, affine=True, track_running_stats=True)\n",
       "        (conv2): Conv2d(64, 64, kernel_size=(3, 3), stride=(1, 1), padding=(1, 1), bias=False)\n",
       "        (bn2): BatchNorm2d(64, eps=1e-05, momentum=0.1, affine=True, track_running_stats=True)\n",
       "        (conv3): Conv2d(64, 256, kernel_size=(1, 1), stride=(1, 1), bias=False)\n",
       "        (bn3): BatchNorm2d(256, eps=1e-05, momentum=0.1, affine=True, track_running_stats=True)\n",
       "        (relu): ReLU(inplace=True)\n",
       "      )\n",
       "    )\n",
       "    (layer2): Sequential(\n",
       "      (0): Bottleneck(\n",
       "        (conv1): Conv2d(256, 128, kernel_size=(1, 1), stride=(1, 1), bias=False)\n",
       "        (bn1): BatchNorm2d(128, eps=1e-05, momentum=0.1, affine=True, track_running_stats=True)\n",
       "        (conv2): Conv2d(128, 128, kernel_size=(3, 3), stride=(2, 2), padding=(1, 1), bias=False)\n",
       "        (bn2): BatchNorm2d(128, eps=1e-05, momentum=0.1, affine=True, track_running_stats=True)\n",
       "        (conv3): Conv2d(128, 512, kernel_size=(1, 1), stride=(1, 1), bias=False)\n",
       "        (bn3): BatchNorm2d(512, eps=1e-05, momentum=0.1, affine=True, track_running_stats=True)\n",
       "        (relu): ReLU(inplace=True)\n",
       "        (downsample): Sequential(\n",
       "          (0): Conv2d(256, 512, kernel_size=(1, 1), stride=(2, 2), bias=False)\n",
       "          (1): BatchNorm2d(512, eps=1e-05, momentum=0.1, affine=True, track_running_stats=True)\n",
       "        )\n",
       "      )\n",
       "      (1): Bottleneck(\n",
       "        (conv1): Conv2d(512, 128, kernel_size=(1, 1), stride=(1, 1), bias=False)\n",
       "        (bn1): BatchNorm2d(128, eps=1e-05, momentum=0.1, affine=True, track_running_stats=True)\n",
       "        (conv2): Conv2d(128, 128, kernel_size=(3, 3), stride=(1, 1), padding=(1, 1), bias=False)\n",
       "        (bn2): BatchNorm2d(128, eps=1e-05, momentum=0.1, affine=True, track_running_stats=True)\n",
       "        (conv3): Conv2d(128, 512, kernel_size=(1, 1), stride=(1, 1), bias=False)\n",
       "        (bn3): BatchNorm2d(512, eps=1e-05, momentum=0.1, affine=True, track_running_stats=True)\n",
       "        (relu): ReLU(inplace=True)\n",
       "      )\n",
       "      (2): Bottleneck(\n",
       "        (conv1): Conv2d(512, 128, kernel_size=(1, 1), stride=(1, 1), bias=False)\n",
       "        (bn1): BatchNorm2d(128, eps=1e-05, momentum=0.1, affine=True, track_running_stats=True)\n",
       "        (conv2): Conv2d(128, 128, kernel_size=(3, 3), stride=(1, 1), padding=(1, 1), bias=False)\n",
       "        (bn2): BatchNorm2d(128, eps=1e-05, momentum=0.1, affine=True, track_running_stats=True)\n",
       "        (conv3): Conv2d(128, 512, kernel_size=(1, 1), stride=(1, 1), bias=False)\n",
       "        (bn3): BatchNorm2d(512, eps=1e-05, momentum=0.1, affine=True, track_running_stats=True)\n",
       "        (relu): ReLU(inplace=True)\n",
       "      )\n",
       "      (3): Bottleneck(\n",
       "        (conv1): Conv2d(512, 128, kernel_size=(1, 1), stride=(1, 1), bias=False)\n",
       "        (bn1): BatchNorm2d(128, eps=1e-05, momentum=0.1, affine=True, track_running_stats=True)\n",
       "        (conv2): Conv2d(128, 128, kernel_size=(3, 3), stride=(1, 1), padding=(1, 1), bias=False)\n",
       "        (bn2): BatchNorm2d(128, eps=1e-05, momentum=0.1, affine=True, track_running_stats=True)\n",
       "        (conv3): Conv2d(128, 512, kernel_size=(1, 1), stride=(1, 1), bias=False)\n",
       "        (bn3): BatchNorm2d(512, eps=1e-05, momentum=0.1, affine=True, track_running_stats=True)\n",
       "        (relu): ReLU(inplace=True)\n",
       "      )\n",
       "    )\n",
       "    (layer3): Sequential(\n",
       "      (0): Bottleneck(\n",
       "        (conv1): Conv2d(512, 256, kernel_size=(1, 1), stride=(1, 1), bias=False)\n",
       "        (bn1): BatchNorm2d(256, eps=1e-05, momentum=0.1, affine=True, track_running_stats=True)\n",
       "        (conv2): Conv2d(256, 256, kernel_size=(3, 3), stride=(2, 2), padding=(1, 1), bias=False)\n",
       "        (bn2): BatchNorm2d(256, eps=1e-05, momentum=0.1, affine=True, track_running_stats=True)\n",
       "        (conv3): Conv2d(256, 1024, kernel_size=(1, 1), stride=(1, 1), bias=False)\n",
       "        (bn3): BatchNorm2d(1024, eps=1e-05, momentum=0.1, affine=True, track_running_stats=True)\n",
       "        (relu): ReLU(inplace=True)\n",
       "        (downsample): Sequential(\n",
       "          (0): Conv2d(512, 1024, kernel_size=(1, 1), stride=(2, 2), bias=False)\n",
       "          (1): BatchNorm2d(1024, eps=1e-05, momentum=0.1, affine=True, track_running_stats=True)\n",
       "        )\n",
       "      )\n",
       "      (1): Bottleneck(\n",
       "        (conv1): Conv2d(1024, 256, kernel_size=(1, 1), stride=(1, 1), bias=False)\n",
       "        (bn1): BatchNorm2d(256, eps=1e-05, momentum=0.1, affine=True, track_running_stats=True)\n",
       "        (conv2): Conv2d(256, 256, kernel_size=(3, 3), stride=(1, 1), padding=(1, 1), bias=False)\n",
       "        (bn2): BatchNorm2d(256, eps=1e-05, momentum=0.1, affine=True, track_running_stats=True)\n",
       "        (conv3): Conv2d(256, 1024, kernel_size=(1, 1), stride=(1, 1), bias=False)\n",
       "        (bn3): BatchNorm2d(1024, eps=1e-05, momentum=0.1, affine=True, track_running_stats=True)\n",
       "        (relu): ReLU(inplace=True)\n",
       "      )\n",
       "      (2): Bottleneck(\n",
       "        (conv1): Conv2d(1024, 256, kernel_size=(1, 1), stride=(1, 1), bias=False)\n",
       "        (bn1): BatchNorm2d(256, eps=1e-05, momentum=0.1, affine=True, track_running_stats=True)\n",
       "        (conv2): Conv2d(256, 256, kernel_size=(3, 3), stride=(1, 1), padding=(1, 1), bias=False)\n",
       "        (bn2): BatchNorm2d(256, eps=1e-05, momentum=0.1, affine=True, track_running_stats=True)\n",
       "        (conv3): Conv2d(256, 1024, kernel_size=(1, 1), stride=(1, 1), bias=False)\n",
       "        (bn3): BatchNorm2d(1024, eps=1e-05, momentum=0.1, affine=True, track_running_stats=True)\n",
       "        (relu): ReLU(inplace=True)\n",
       "      )\n",
       "      (3): Bottleneck(\n",
       "        (conv1): Conv2d(1024, 256, kernel_size=(1, 1), stride=(1, 1), bias=False)\n",
       "        (bn1): BatchNorm2d(256, eps=1e-05, momentum=0.1, affine=True, track_running_stats=True)\n",
       "        (conv2): Conv2d(256, 256, kernel_size=(3, 3), stride=(1, 1), padding=(1, 1), bias=False)\n",
       "        (bn2): BatchNorm2d(256, eps=1e-05, momentum=0.1, affine=True, track_running_stats=True)\n",
       "        (conv3): Conv2d(256, 1024, kernel_size=(1, 1), stride=(1, 1), bias=False)\n",
       "        (bn3): BatchNorm2d(1024, eps=1e-05, momentum=0.1, affine=True, track_running_stats=True)\n",
       "        (relu): ReLU(inplace=True)\n",
       "      )\n",
       "      (4): Bottleneck(\n",
       "        (conv1): Conv2d(1024, 256, kernel_size=(1, 1), stride=(1, 1), bias=False)\n",
       "        (bn1): BatchNorm2d(256, eps=1e-05, momentum=0.1, affine=True, track_running_stats=True)\n",
       "        (conv2): Conv2d(256, 256, kernel_size=(3, 3), stride=(1, 1), padding=(1, 1), bias=False)\n",
       "        (bn2): BatchNorm2d(256, eps=1e-05, momentum=0.1, affine=True, track_running_stats=True)\n",
       "        (conv3): Conv2d(256, 1024, kernel_size=(1, 1), stride=(1, 1), bias=False)\n",
       "        (bn3): BatchNorm2d(1024, eps=1e-05, momentum=0.1, affine=True, track_running_stats=True)\n",
       "        (relu): ReLU(inplace=True)\n",
       "      )\n",
       "      (5): Bottleneck(\n",
       "        (conv1): Conv2d(1024, 256, kernel_size=(1, 1), stride=(1, 1), bias=False)\n",
       "        (bn1): BatchNorm2d(256, eps=1e-05, momentum=0.1, affine=True, track_running_stats=True)\n",
       "        (conv2): Conv2d(256, 256, kernel_size=(3, 3), stride=(1, 1), padding=(1, 1), bias=False)\n",
       "        (bn2): BatchNorm2d(256, eps=1e-05, momentum=0.1, affine=True, track_running_stats=True)\n",
       "        (conv3): Conv2d(256, 1024, kernel_size=(1, 1), stride=(1, 1), bias=False)\n",
       "        (bn3): BatchNorm2d(1024, eps=1e-05, momentum=0.1, affine=True, track_running_stats=True)\n",
       "        (relu): ReLU(inplace=True)\n",
       "      )\n",
       "    )\n",
       "    (layer4): Sequential(\n",
       "      (0): Bottleneck(\n",
       "        (conv1): Conv2d(1024, 512, kernel_size=(1, 1), stride=(1, 1), bias=False)\n",
       "        (bn1): BatchNorm2d(512, eps=1e-05, momentum=0.1, affine=True, track_running_stats=True)\n",
       "        (conv2): Conv2d(512, 512, kernel_size=(3, 3), stride=(2, 2), padding=(1, 1), bias=False)\n",
       "        (bn2): BatchNorm2d(512, eps=1e-05, momentum=0.1, affine=True, track_running_stats=True)\n",
       "        (conv3): Conv2d(512, 2048, kernel_size=(1, 1), stride=(1, 1), bias=False)\n",
       "        (bn3): BatchNorm2d(2048, eps=1e-05, momentum=0.1, affine=True, track_running_stats=True)\n",
       "        (relu): ReLU(inplace=True)\n",
       "        (downsample): Sequential(\n",
       "          (0): Conv2d(1024, 2048, kernel_size=(1, 1), stride=(2, 2), bias=False)\n",
       "          (1): BatchNorm2d(2048, eps=1e-05, momentum=0.1, affine=True, track_running_stats=True)\n",
       "        )\n",
       "      )\n",
       "      (1): Bottleneck(\n",
       "        (conv1): Conv2d(2048, 512, kernel_size=(1, 1), stride=(1, 1), bias=False)\n",
       "        (bn1): BatchNorm2d(512, eps=1e-05, momentum=0.1, affine=True, track_running_stats=True)\n",
       "        (conv2): Conv2d(512, 512, kernel_size=(3, 3), stride=(1, 1), padding=(1, 1), bias=False)\n",
       "        (bn2): BatchNorm2d(512, eps=1e-05, momentum=0.1, affine=True, track_running_stats=True)\n",
       "        (conv3): Conv2d(512, 2048, kernel_size=(1, 1), stride=(1, 1), bias=False)\n",
       "        (bn3): BatchNorm2d(2048, eps=1e-05, momentum=0.1, affine=True, track_running_stats=True)\n",
       "        (relu): ReLU(inplace=True)\n",
       "      )\n",
       "      (2): Bottleneck(\n",
       "        (conv1): Conv2d(2048, 512, kernel_size=(1, 1), stride=(1, 1), bias=False)\n",
       "        (bn1): BatchNorm2d(512, eps=1e-05, momentum=0.1, affine=True, track_running_stats=True)\n",
       "        (conv2): Conv2d(512, 512, kernel_size=(3, 3), stride=(1, 1), padding=(1, 1), bias=False)\n",
       "        (bn2): BatchNorm2d(512, eps=1e-05, momentum=0.1, affine=True, track_running_stats=True)\n",
       "        (conv3): Conv2d(512, 2048, kernel_size=(1, 1), stride=(1, 1), bias=False)\n",
       "        (bn3): BatchNorm2d(2048, eps=1e-05, momentum=0.1, affine=True, track_running_stats=True)\n",
       "        (relu): ReLU(inplace=True)\n",
       "      )\n",
       "    )\n",
       "    (avgpool): AdaptiveAvgPool2d(output_size=(1, 1))\n",
       "    (fc): Linear(in_features=2048, out_features=1, bias=True)\n",
       "  )\n",
       ")"
      ]
     },
     "execution_count": 14,
     "metadata": {},
     "output_type": "execute_result"
    }
   ],
   "source": [
    "model = ResNetCNN(pretrained=False)\n",
    "model.to(device)"
   ]
  },
  {
   "cell_type": "code",
   "execution_count": 15,
   "id": "a0abce47-1867-4431-b4b4-3a0c7093f713",
   "metadata": {
    "tags": []
   },
   "outputs": [],
   "source": [
    "loss_func = torch.nn.MSELoss()\n",
    "optimizer = torch.optim.AdamW(model.parameters(), lr=0.01)"
   ]
  },
  {
   "cell_type": "code",
   "execution_count": 16,
   "id": "c20d944a-8f5f-4294-b342-9015feadde1f",
   "metadata": {
    "tags": []
   },
   "outputs": [],
   "source": [
    "train_data_single_batch = next(iter(train_dataloader))"
   ]
  },
  {
   "cell_type": "code",
   "execution_count": 17,
   "id": "8db6d448-4530-44e9-9b8c-e716e6223fd8",
   "metadata": {},
   "outputs": [
    {
     "data": {
      "text/plain": [
       "torch.Size([150, 300, 300])"
      ]
     },
     "execution_count": 17,
     "metadata": {},
     "output_type": "execute_result"
    }
   ],
   "source": [
    "train_data_single_batch['image'][0].shape"
   ]
  },
  {
   "cell_type": "code",
   "execution_count": 18,
   "id": "209e7cc8-4441-4579-a793-64e7f4ce1bf6",
   "metadata": {
    "tags": []
   },
   "outputs": [
    {
     "data": {
      "text/plain": [
       "torch.Size([12, 150, 300, 300])"
      ]
     },
     "execution_count": 18,
     "metadata": {},
     "output_type": "execute_result"
    }
   ],
   "source": [
    "train_data_single_batch['image'].to(device, dtype=torch.float).shape"
   ]
  },
  {
   "cell_type": "code",
   "execution_count": 19,
   "id": "efc305c1-5046-41b5-8531-c8871e4dc0e3",
   "metadata": {},
   "outputs": [],
   "source": [
    "output = model(train_data_single_batch['image'].to(device, dtype=torch.float))"
   ]
  },
  {
   "cell_type": "code",
   "execution_count": 25,
   "id": "c67a0886-00a8-4c03-bf9f-0aab12ec0d2d",
   "metadata": {},
   "outputs": [
    {
     "data": {
      "text/plain": [
       "torch.Size([12, 1])"
      ]
     },
     "execution_count": 25,
     "metadata": {},
     "output_type": "execute_result"
    }
   ],
   "source": [
    "output.shape"
   ]
  },
  {
   "cell_type": "code",
   "execution_count": 20,
   "id": "5464bf25-9f25-42d5-9a16-a6c73900a285",
   "metadata": {
    "tags": []
   },
   "outputs": [
    {
     "data": {
      "text/plain": [
       "tensor([[ 4.5717e-01],\n",
       "        [ 9.2901e-02],\n",
       "        [ 1.2787e-01],\n",
       "        [-4.3980e-04],\n",
       "        [ 4.6487e-01],\n",
       "        [ 2.3853e-02],\n",
       "        [ 2.3165e-01],\n",
       "        [ 7.0853e-01],\n",
       "        [-1.9488e-02],\n",
       "        [-2.5317e-02],\n",
       "        [ 1.8252e-01],\n",
       "        [ 9.2214e-02]], device='cuda:0', grad_fn=<AddmmBackward0>)"
      ]
     },
     "execution_count": 20,
     "metadata": {},
     "output_type": "execute_result"
    }
   ],
   "source": [
    "output"
   ]
  },
  {
   "cell_type": "code",
   "execution_count": 52,
   "id": "58725929-6c73-4133-aa60-6c00fc82fb37",
   "metadata": {
    "tags": []
   },
   "outputs": [
    {
     "data": {
      "text/plain": [
       "tensor([[ 63.3000],\n",
       "        [ 74.5000],\n",
       "        [ 75.5000],\n",
       "        [ 49.5000],\n",
       "        [ 63.3000],\n",
       "        [ 86.3000],\n",
       "        [ 89.5000],\n",
       "        [ 66.3000],\n",
       "        [126.0000],\n",
       "        [ 73.3000],\n",
       "        [135.0000],\n",
       "        [ 46.5000]], device='cuda:0', dtype=torch.float64)"
      ]
     },
     "execution_count": 52,
     "metadata": {},
     "output_type": "execute_result"
    }
   ],
   "source": [
    "stacked_gt = train_data_single_batch['P'].unsqueeze(dim=0).permute(1, 0).to(device)\n",
    "stacked_gt"
   ]
  },
  {
   "cell_type": "code",
   "execution_count": 53,
   "id": "961d4f8e-d7bb-4f28-9355-cfdfae1851a8",
   "metadata": {},
   "outputs": [
    {
     "data": {
      "text/plain": [
       "tensor(6905.5620, device='cuda:0', dtype=torch.float64,\n",
       "       grad_fn=<MseLossBackward0>)"
      ]
     },
     "execution_count": 53,
     "metadata": {},
     "output_type": "execute_result"
    }
   ],
   "source": [
    "loss_func(output, stacked_gt)"
   ]
  },
  {
   "cell_type": "code",
   "execution_count": 54,
   "id": "1f51aaa4-a916-4c14-8420-b1ed3fbeb894",
   "metadata": {},
   "outputs": [
    {
     "name": "stdout",
     "output_type": "stream",
     "text": [
      "epoch: 0, loss: 6906.93359375, MSE: [6906.934]\n",
      "epoch: 10, loss: 649.4104614257812, MSE: [649.4104]\n",
      "epoch: 20, loss: 125.7750473022461, MSE: [125.775055]\n",
      "epoch: 30, loss: 39.52874755859375, MSE: [39.528748]\n",
      "epoch: 40, loss: 6.514745712280273, MSE: [6.514745]\n",
      "epoch: 50, loss: 1.03969407081604, MSE: [1.0396941]\n",
      "epoch: 60, loss: 0.5690298080444336, MSE: [0.5690297]\n",
      "epoch: 70, loss: 0.1840132772922516, MSE: [0.18401329]\n",
      "epoch: 80, loss: 0.023226626217365265, MSE: [0.02322663]\n",
      "epoch: 90, loss: 0.023347478359937668, MSE: [0.02334748]\n",
      "epoch: 100, loss: 0.009478120133280754, MSE: [0.00947812]\n",
      "epoch: 110, loss: 0.002155472058802843, MSE: [0.00215547]\n",
      "epoch: 120, loss: 0.0008449562592431903, MSE: [0.00084496]\n",
      "epoch: 130, loss: 0.0002002881228690967, MSE: [0.00020029]\n",
      "epoch: 140, loss: 0.00011768018885049969, MSE: [0.00011768]\n",
      "epoch: 150, loss: 2.618725920910947e-05, MSE: [2.6187257e-05]\n",
      "epoch: 160, loss: 2.4690303689567372e-05, MSE: [2.4690302e-05]\n",
      "epoch: 170, loss: 1.45680987770902e-05, MSE: [1.4568098e-05]\n",
      "epoch: 180, loss: 9.673072781879455e-06, MSE: [9.673073e-06]\n",
      "epoch: 190, loss: 7.353231012530159e-06, MSE: [7.3532306e-06]\n",
      "epoch: 200, loss: 5.859754310222343e-06, MSE: [5.8597543e-06]\n",
      "epoch: 210, loss: 6.207028491189703e-06, MSE: [6.2070285e-06]\n",
      "epoch: 220, loss: 5.982172297080979e-06, MSE: [5.9821723e-06]\n",
      "epoch: 230, loss: 5.9359035731176846e-06, MSE: [5.935903e-06]\n",
      "epoch: 240, loss: 5.893024990655249e-06, MSE: [5.893025e-06]\n",
      "epoch: 250, loss: 5.688361852662638e-06, MSE: [5.688362e-06]\n",
      "epoch: 260, loss: 5.417448846856132e-06, MSE: [5.417449e-06]\n",
      "epoch: 270, loss: 5.251358288660413e-06, MSE: [5.2513583e-06]\n",
      "epoch: 280, loss: 5.00251553603448e-06, MSE: [5.0025155e-06]\n",
      "epoch: 290, loss: 4.744413217849797e-06, MSE: [4.744413e-06]\n",
      "epoch: 300, loss: 4.660562808567192e-06, MSE: [4.6605624e-06]\n"
     ]
    }
   ],
   "source": [
    "img_data_device = train_data_single_batch['image'].to(\n",
    "    device, dtype=torch.float)\n",
    "stacked_gt_device = train_data_single_batch['P'].unsqueeze(dim=0).permute(1, 0).to(device, dtype=torch.float)\n",
    "\n",
    "model = ResNetCNN(False).to(device)\n",
    "optimizer = torch.optim.AdamW(model.parameters(), lr=0.005)\n",
    "loss_func = torch.nn.MSELoss()\n",
    "\n",
    "for epoch in range(301):\n",
    "    model.train()\n",
    "\n",
    "    output = model(img_data_device)\n",
    "    loss = loss_func(output, stacked_gt_device)\n",
    "\n",
    "    optimizer.zero_grad()\n",
    "    loss.backward()\n",
    "    optimizer.step()\n",
    "\n",
    "    output_cpu = output.detach().cpu().numpy()\n",
    "    stacked_gt_cpu = stacked_gt_device.cpu().numpy()\n",
    "\n",
    "    # Calculate MSE for each class\n",
    "    mse = np.mean((stacked_gt_cpu - output_cpu) ** 2, axis=0)\n",
    "\n",
    "    if epoch % 10 == 0:\n",
    "        print(f'epoch: {epoch}, loss: {loss.data.cpu().numpy()}, MSE: {mse}')"
   ]
  },
  {
   "cell_type": "markdown",
   "id": "9f7e821b-ba10-45f2-b8c8-62e1b57816b1",
   "metadata": {},
   "source": [
    "### Training Definition"
   ]
  },
  {
   "cell_type": "code",
   "execution_count": 14,
   "id": "c71e05fd-b851-4200-8350-e03731ecc589",
   "metadata": {},
   "outputs": [],
   "source": [
    "parameter = 'pH'"
   ]
  },
  {
   "cell_type": "code",
   "execution_count": 15,
   "id": "480520a1-ca1c-422f-b520-dce7190e6048",
   "metadata": {},
   "outputs": [
    {
     "data": {
      "text/plain": [
       "'checkpoint_state_dict_ResNet50_09_05_2022_Single_Parameter_pH'"
      ]
     },
     "execution_count": 15,
     "metadata": {},
     "output_type": "execute_result"
    }
   ],
   "source": [
    "save_name = \"checkpoint_state_dict_ResNet50_09_05_2022_Single_Parameter_{}\".format(parameter)\n",
    "save_name"
   ]
  },
  {
   "cell_type": "code",
   "execution_count": 16,
   "id": "a11e1370-4315-4af1-b61a-477d036d6486",
   "metadata": {},
   "outputs": [],
   "source": [
    "model_name = save_name+'.pth'"
   ]
  },
  {
   "cell_type": "code",
   "execution_count": 17,
   "id": "0bd5be2e-f408-44b5-990e-f00b80f5a61a",
   "metadata": {
    "tags": []
   },
   "outputs": [],
   "source": [
    "# save subsets indices to text files\n",
    "np.array(train_dataset.indices).tofile(os.path.join(saved_models_directory, 'DataSubsets_indices', save_name+'_train_indices.txt'), sep='|')\n",
    "np.array(validation_dataset.indices).tofile(os.path.join(saved_models_directory, 'DataSubsets_indices', save_name+'_validation_indices.txt'), sep='|')"
   ]
  },
  {
   "cell_type": "code",
   "execution_count": 18,
   "id": "558c42af-2b45-41f3-9184-577eb2830eea",
   "metadata": {},
   "outputs": [],
   "source": [
    "model = ResNetCNN(False).to(device)"
   ]
  },
  {
   "cell_type": "code",
   "execution_count": 19,
   "id": "634f4c5f-77f4-4139-8df0-7a0dbdf555b8",
   "metadata": {
    "tags": []
   },
   "outputs": [
    {
     "data": {
      "text/plain": [
       "[]"
      ]
     },
     "execution_count": 19,
     "metadata": {},
     "output_type": "execute_result"
    }
   ],
   "source": [
    "wandb.watch(model, log=\"None\", log_freq=20)"
   ]
  },
  {
   "cell_type": "code",
   "execution_count": 20,
   "id": "ea978104-75da-4a8c-a865-f5ac6c696d67",
   "metadata": {},
   "outputs": [],
   "source": [
    "optimizer = torch.optim.AdamW(model.parameters(), lr=0.01)"
   ]
  },
  {
   "cell_type": "code",
   "execution_count": 21,
   "id": "3fda57be-f914-4822-b681-f613ba7b11b2",
   "metadata": {},
   "outputs": [],
   "source": [
    "loss_func = torch.nn.MSELoss()"
   ]
  },
  {
   "cell_type": "markdown",
   "id": "10d1d174-8dce-42c6-9d24-40956ff633ac",
   "metadata": {
    "tags": []
   },
   "source": [
    "#### Find LR"
   ]
  },
  {
   "cell_type": "code",
   "execution_count": 80,
   "id": "868b12f9-7a9f-4514-ad13-c91ead27cdc2",
   "metadata": {},
   "outputs": [],
   "source": [
    "from torch_lr_finder.lr_finder import TrainDataLoaderIter"
   ]
  },
  {
   "cell_type": "code",
   "execution_count": 81,
   "id": "f0447003-dd8c-4a13-a349-f9476ccf5a66",
   "metadata": {},
   "outputs": [],
   "source": [
    "class CustomTrainIter(TrainDataLoaderIter):\n",
    "    def inputs_labels_from_batch(self, batch_data):\n",
    "        return (torch.as_tensor(batch_data['image'], dtype=torch.float),\n",
    "                torch.as_tensor(batch_data['P'].unsqueeze(dim=0).permute(1, 0), dtype=torch.float))"
   ]
  },
  {
   "cell_type": "code",
   "execution_count": 82,
   "id": "eb184931-2a07-41b4-a17c-b35f8bcc16f3",
   "metadata": {},
   "outputs": [
    {
     "data": {
      "application/vnd.jupyter.widget-view+json": {
       "model_id": "14d88e12438b4bbeb036bdc2b1a65358",
       "version_major": 2,
       "version_minor": 0
      },
      "text/plain": [
       "  0%|          | 0/100 [00:00<?, ?it/s]"
      ]
     },
     "metadata": {},
     "output_type": "display_data"
    },
    {
     "name": "stdout",
     "output_type": "stream",
     "text": [
      "Stopping early, the loss has diverged\n",
      "Learning rate search finished. See the graph with {finder_name}.plot()\n"
     ]
    }
   ],
   "source": [
    "lr_finder = LRFinder(model, optimizer, loss_func, device=device)\n",
    "lr_finder.range_test(CustomTrainIter(train_dataloader),\n",
    "                     start_lr=0.00001, end_lr=100, num_iter=100)"
   ]
  },
  {
   "cell_type": "code",
   "execution_count": 83,
   "id": "647f2f4e-d144-485d-92b3-b1e7914ab310",
   "metadata": {},
   "outputs": [
    {
     "name": "stdout",
     "output_type": "stream",
     "text": [
      "LR suggestion: steepest gradient\n",
      "Suggested LR: 2.15E-03\n"
     ]
    },
    {
     "data": {
      "image/png": "[encoded data removed]",
      "text/plain": [
       "<Figure size 432x288 with 1 Axes>"
      ]
     },
     "metadata": {
      "needs_background": "light"
     },
     "output_type": "display_data"
    }
   ],
   "source": [
    "lr_finder.plot()\n",
    "lr_finder.reset()"
   ]
  },
  {
   "cell_type": "code",
   "execution_count": 84,
   "id": "ee758767-7e7c-410b-92a3-1b0b719a392c",
   "metadata": {},
   "outputs": [
    {
     "data": {
      "text/plain": [
       "0.00215"
      ]
     },
     "execution_count": 84,
     "metadata": {},
     "output_type": "execute_result"
    }
   ],
   "source": [
    "2.15E-03"
   ]
  },
  {
   "cell_type": "markdown",
   "id": "257faf31-7f43-406f-a382-d997f0bb5cb6",
   "metadata": {
    "tags": []
   },
   "source": [
    "### Training"
   ]
  },
  {
   "cell_type": "code",
   "execution_count": 22,
   "id": "ea4809cc-4fe1-4db7-9ade-872ce437a65d",
   "metadata": {},
   "outputs": [],
   "source": [
    "patience_scheduler_overfit = 5\n",
    "scheduler = torch.optim.lr_scheduler.ReduceLROnPlateau(optimizer=optimizer, mode='min',\n",
    "                                                       factor=0.6, patience=patience_scheduler_overfit,\n",
    "                                                       threshold=0.0001, threshold_mode='abs')"
   ]
  },
  {
   "cell_type": "code",
   "execution_count": 23,
   "id": "496f6681-41b1-4382-9b15-34ef4c69e670",
   "metadata": {},
   "outputs": [],
   "source": [
    "early_stopping = utils.EarlyStopping(patience=(2*patience_scheduler_overfit)+3, verbose=True,\n",
    "                                     path=os.path.join(saved_models_directory, 'checkpoint_state_dict.pth'))"
   ]
  },
  {
   "cell_type": "markdown",
   "id": "c3975113-0cc1-4ca4-b515-8d29bc9407d7",
   "metadata": {
    "tags": []
   },
   "source": [
    "#### Logging training informations for W&B"
   ]
  },
  {
   "cell_type": "code",
   "execution_count": 24,
   "id": "d7afd373-eeb3-4e78-9bc0-51be9fded852",
   "metadata": {},
   "outputs": [],
   "source": [
    "config = wandb.config\n",
    "config.model = 'resnet50'\n",
    "config.optimizer = 'AdamW'\n",
    "config.loss_function = 'MSELoss'\n",
    "config.learning_rate_start = optimizer.param_groups[0][\"lr\"]\n",
    "# config.momentum = optimizer.param_groups[0][\"momentum\"]\n",
    "config.momentum = None\n",
    "config.weight_decay = optimizer.param_groups[0][\"weight_decay\"]\n",
    "config.scheduler = 'ReduceLROnPlateau'\n",
    "config.scheduler_factor = 0.6\n",
    "config.scheduler_patience = 5\n",
    "config.scheduler_threshold = 0.0001\n",
    "config.batch_size = BATCH_SIZE\n",
    "config.notes = 'ResNet50 Parameter {} Training split:1000, Validation: 732'.format(parameter)\n",
    "config.parameter = parameter"
   ]
  },
  {
   "cell_type": "code",
   "execution_count": 25,
   "id": "6a22f51e-eb05-466e-9632-4ddfba9d6ad6",
   "metadata": {},
   "outputs": [],
   "source": [
    "previous_epochs = 0  # how many epochs have been done previously if resuming"
   ]
  },
  {
   "cell_type": "code",
   "execution_count": 26,
   "id": "7233ac28-6fdf-42e7-99e8-8843964e15c6",
   "metadata": {
    "tags": []
   },
   "outputs": [
    {
     "data": {
      "application/vnd.jupyter.widget-view+json": {
       "model_id": "",
       "version_major": 2,
       "version_minor": 0
      },
      "text/plain": [
       "epoch 0 training data:   0%|          | 0/83 [00:00<?, ?it/s]"
      ]
     },
     "metadata": {},
     "output_type": "display_data"
    },
    {
     "name": "stdout",
     "output_type": "stream",
     "text": [
      "epoch: 0, LR: 0.01, train loss: 4.422056674957275, train MSE: [4.422056674957275]\n"
     ]
    },
    {
     "data": {
      "application/vnd.jupyter.widget-view+json": {
       "model_id": "",
       "version_major": 2,
       "version_minor": 0
      },
      "text/plain": [
       "epoch 0 validation data:   0%|          | 0/61 [00:00<?, ?it/s]"
      ]
     },
     "metadata": {},
     "output_type": "display_data"
    },
    {
     "name": "stdout",
     "output_type": "stream",
     "text": [
      "epoch: 0, validation loss: 0.1944793164730072, validation MSE: [0.1944793313741684]\n",
      "Validation loss decreased (inf --> 0.194479).  Saving model ...\n"
     ]
    },
    {
     "data": {
      "application/vnd.jupyter.widget-view+json": {
       "model_id": "",
       "version_major": 2,
       "version_minor": 0
      },
      "text/plain": [
       "epoch 1 training data:   0%|          | 0/83 [00:00<?, ?it/s]"
      ]
     },
     "metadata": {},
     "output_type": "display_data"
    },
    {
     "name": "stdout",
     "output_type": "stream",
     "text": [
      "epoch: 1, LR: 0.01, train loss: 0.15095780789852142, train MSE: [0.15095782279968262]\n"
     ]
    },
    {
     "data": {
      "application/vnd.jupyter.widget-view+json": {
       "model_id": "",
       "version_major": 2,
       "version_minor": 0
      },
      "text/plain": [
       "epoch 1 validation data:   0%|          | 0/61 [00:00<?, ?it/s]"
      ]
     },
     "metadata": {},
     "output_type": "display_data"
    },
    {
     "name": "stdout",
     "output_type": "stream",
     "text": [
      "epoch: 1, validation loss: 0.17814508080482483, validation MSE: [0.17814508080482483]\n",
      "Validation loss decreased (0.194479 --> 0.178145).  Saving model ...\n"
     ]
    },
    {
     "data": {
      "application/vnd.jupyter.widget-view+json": {
       "model_id": "",
       "version_major": 2,
       "version_minor": 0
      },
      "text/plain": [
       "epoch 2 training data:   0%|          | 0/83 [00:00<?, ?it/s]"
      ]
     },
     "metadata": {},
     "output_type": "display_data"
    },
    {
     "name": "stdout",
     "output_type": "stream",
     "text": [
      "epoch: 2, LR: 0.01, train loss: 0.13368888199329376, train MSE: [0.13368889689445496]\n"
     ]
    },
    {
     "data": {
      "application/vnd.jupyter.widget-view+json": {
       "model_id": "",
       "version_major": 2,
       "version_minor": 0
      },
      "text/plain": [
       "epoch 2 validation data:   0%|          | 0/61 [00:00<?, ?it/s]"
      ]
     },
     "metadata": {},
     "output_type": "display_data"
    },
    {
     "name": "stdout",
     "output_type": "stream",
     "text": [
      "epoch: 2, validation loss: 0.40638527274131775, validation MSE: [0.40638530254364014]\n",
      "EarlyStopping counter: 1 out of 13\n"
     ]
    },
    {
     "data": {
      "application/vnd.jupyter.widget-view+json": {
       "model_id": "",
       "version_major": 2,
       "version_minor": 0
      },
      "text/plain": [
       "epoch 3 training data:   0%|          | 0/83 [00:00<?, ?it/s]"
      ]
     },
     "metadata": {},
     "output_type": "display_data"
    },
    {
     "name": "stdout",
     "output_type": "stream",
     "text": [
      "epoch: 3, LR: 0.01, train loss: 0.11221041530370712, train MSE: [0.11221041530370712]\n"
     ]
    },
    {
     "data": {
      "application/vnd.jupyter.widget-view+json": {
       "model_id": "",
       "version_major": 2,
       "version_minor": 0
      },
      "text/plain": [
       "epoch 3 validation data:   0%|          | 0/61 [00:00<?, ?it/s]"
      ]
     },
     "metadata": {},
     "output_type": "display_data"
    },
    {
     "name": "stdout",
     "output_type": "stream",
     "text": [
      "epoch: 3, validation loss: 0.07774323225021362, validation MSE: [0.07774323225021362]\n",
      "Validation loss decreased (0.178145 --> 0.077743).  Saving model ...\n"
     ]
    },
    {
     "data": {
      "application/vnd.jupyter.widget-view+json": {
       "model_id": "",
       "version_major": 2,
       "version_minor": 0
      },
      "text/plain": [
       "epoch 4 training data:   0%|          | 0/83 [00:00<?, ?it/s]"
      ]
     },
     "metadata": {},
     "output_type": "display_data"
    },
    {
     "name": "stdout",
     "output_type": "stream",
     "text": [
      "epoch: 4, LR: 0.01, train loss: 0.10959449410438538, train MSE: [0.10959449410438538]\n"
     ]
    },
    {
     "data": {
      "application/vnd.jupyter.widget-view+json": {
       "model_id": "",
       "version_major": 2,
       "version_minor": 0
      },
      "text/plain": [
       "epoch 4 validation data:   0%|          | 0/61 [00:00<?, ?it/s]"
      ]
     },
     "metadata": {},
     "output_type": "display_data"
    },
    {
     "name": "stdout",
     "output_type": "stream",
     "text": [
      "epoch: 4, validation loss: 0.08982399851083755, validation MSE: [0.08982399106025696]\n",
      "EarlyStopping counter: 1 out of 13\n"
     ]
    },
    {
     "data": {
      "application/vnd.jupyter.widget-view+json": {
       "model_id": "",
       "version_major": 2,
       "version_minor": 0
      },
      "text/plain": [
       "epoch 5 training data:   0%|          | 0/83 [00:00<?, ?it/s]"
      ]
     },
     "metadata": {},
     "output_type": "display_data"
    },
    {
     "name": "stdout",
     "output_type": "stream",
     "text": [
      "epoch: 5, LR: 0.01, train loss: 0.09851013123989105, train MSE: [0.09851012378931046]\n"
     ]
    },
    {
     "data": {
      "application/vnd.jupyter.widget-view+json": {
       "model_id": "",
       "version_major": 2,
       "version_minor": 0
      },
      "text/plain": [
       "epoch 5 validation data:   0%|          | 0/61 [00:00<?, ?it/s]"
      ]
     },
     "metadata": {},
     "output_type": "display_data"
    },
    {
     "name": "stdout",
     "output_type": "stream",
     "text": [
      "epoch: 5, validation loss: 0.09874051809310913, validation MSE: [0.09874053299427032]\n",
      "EarlyStopping counter: 2 out of 13\n"
     ]
    },
    {
     "data": {
      "application/vnd.jupyter.widget-view+json": {
       "model_id": "",
       "version_major": 2,
       "version_minor": 0
      },
      "text/plain": [
       "epoch 6 training data:   0%|          | 0/83 [00:00<?, ?it/s]"
      ]
     },
     "metadata": {},
     "output_type": "display_data"
    },
    {
     "name": "stdout",
     "output_type": "stream",
     "text": [
      "epoch: 6, LR: 0.01, train loss: 0.13377869129180908, train MSE: [0.13377869129180908]\n"
     ]
    },
    {
     "data": {
      "application/vnd.jupyter.widget-view+json": {
       "model_id": "",
       "version_major": 2,
       "version_minor": 0
      },
      "text/plain": [
       "epoch 6 validation data:   0%|          | 0/61 [00:00<?, ?it/s]"
      ]
     },
     "metadata": {},
     "output_type": "display_data"
    },
    {
     "name": "stdout",
     "output_type": "stream",
     "text": [
      "epoch: 6, validation loss: 0.1834070086479187, validation MSE: [0.1834070086479187]\n",
      "EarlyStopping counter: 3 out of 13\n"
     ]
    },
    {
     "data": {
      "application/vnd.jupyter.widget-view+json": {
       "model_id": "",
       "version_major": 2,
       "version_minor": 0
      },
      "text/plain": [
       "epoch 7 training data:   0%|          | 0/83 [00:00<?, ?it/s]"
      ]
     },
     "metadata": {},
     "output_type": "display_data"
    },
    {
     "name": "stdout",
     "output_type": "stream",
     "text": [
      "epoch: 7, LR: 0.01, train loss: 0.1457054316997528, train MSE: [0.145705446600914]\n"
     ]
    },
    {
     "data": {
      "application/vnd.jupyter.widget-view+json": {
       "model_id": "",
       "version_major": 2,
       "version_minor": 0
      },
      "text/plain": [
       "epoch 7 validation data:   0%|          | 0/61 [00:00<?, ?it/s]"
      ]
     },
     "metadata": {},
     "output_type": "display_data"
    },
    {
     "name": "stdout",
     "output_type": "stream",
     "text": [
      "epoch: 7, validation loss: 0.2883785367012024, validation MSE: [0.2883785367012024]\n",
      "EarlyStopping counter: 4 out of 13\n"
     ]
    },
    {
     "data": {
      "application/vnd.jupyter.widget-view+json": {
       "model_id": "",
       "version_major": 2,
       "version_minor": 0
      },
      "text/plain": [
       "epoch 8 training data:   0%|          | 0/83 [00:00<?, ?it/s]"
      ]
     },
     "metadata": {},
     "output_type": "display_data"
    },
    {
     "name": "stdout",
     "output_type": "stream",
     "text": [
      "epoch: 8, LR: 0.01, train loss: 0.10427918285131454, train MSE: [0.10427919775247574]\n"
     ]
    },
    {
     "data": {
      "application/vnd.jupyter.widget-view+json": {
       "model_id": "",
       "version_major": 2,
       "version_minor": 0
      },
      "text/plain": [
       "epoch 8 validation data:   0%|          | 0/61 [00:00<?, ?it/s]"
      ]
     },
     "metadata": {},
     "output_type": "display_data"
    },
    {
     "name": "stdout",
     "output_type": "stream",
     "text": [
      "epoch: 8, validation loss: 0.13741189241409302, validation MSE: [0.13741189241409302]\n",
      "EarlyStopping counter: 5 out of 13\n"
     ]
    },
    {
     "data": {
      "application/vnd.jupyter.widget-view+json": {
       "model_id": "",
       "version_major": 2,
       "version_minor": 0
      },
      "text/plain": [
       "epoch 9 training data:   0%|          | 0/83 [00:00<?, ?it/s]"
      ]
     },
     "metadata": {},
     "output_type": "display_data"
    },
    {
     "name": "stdout",
     "output_type": "stream",
     "text": [
      "epoch: 9, LR: 0.01, train loss: 0.1010294035077095, train MSE: [0.1010294109582901]\n"
     ]
    },
    {
     "data": {
      "application/vnd.jupyter.widget-view+json": {
       "model_id": "",
       "version_major": 2,
       "version_minor": 0
      },
      "text/plain": [
       "epoch 9 validation data:   0%|          | 0/61 [00:00<?, ?it/s]"
      ]
     },
     "metadata": {},
     "output_type": "display_data"
    },
    {
     "name": "stdout",
     "output_type": "stream",
     "text": [
      "epoch: 9, validation loss: 2.3387434482574463, validation MSE: [2.3387436866760254]\n",
      "EarlyStopping counter: 6 out of 13\n"
     ]
    },
    {
     "data": {
      "application/vnd.jupyter.widget-view+json": {
       "model_id": "",
       "version_major": 2,
       "version_minor": 0
      },
      "text/plain": [
       "epoch 10 training data:   0%|          | 0/83 [00:00<?, ?it/s]"
      ]
     },
     "metadata": {},
     "output_type": "display_data"
    },
    {
     "name": "stdout",
     "output_type": "stream",
     "text": [
      "epoch: 10, LR: 0.006, train loss: 0.09156691282987595, train MSE: [0.09156691282987595]\n"
     ]
    },
    {
     "data": {
      "application/vnd.jupyter.widget-view+json": {
       "model_id": "",
       "version_major": 2,
       "version_minor": 0
      },
      "text/plain": [
       "epoch 10 validation data:   0%|          | 0/61 [00:00<?, ?it/s]"
      ]
     },
     "metadata": {},
     "output_type": "display_data"
    },
    {
     "name": "stdout",
     "output_type": "stream",
     "text": [
      "epoch: 10, validation loss: 0.15294590592384338, validation MSE: [0.1529458910226822]\n",
      "EarlyStopping counter: 7 out of 13\n"
     ]
    },
    {
     "data": {
      "application/vnd.jupyter.widget-view+json": {
       "model_id": "",
       "version_major": 2,
       "version_minor": 0
      },
      "text/plain": [
       "epoch 11 training data:   0%|          | 0/83 [00:00<?, ?it/s]"
      ]
     },
     "metadata": {},
     "output_type": "display_data"
    },
    {
     "name": "stdout",
     "output_type": "stream",
     "text": [
      "epoch: 11, LR: 0.006, train loss: 0.07171691209077835, train MSE: [0.07171691954135895]\n"
     ]
    },
    {
     "data": {
      "application/vnd.jupyter.widget-view+json": {
       "model_id": "",
       "version_major": 2,
       "version_minor": 0
      },
      "text/plain": [
       "epoch 11 validation data:   0%|          | 0/61 [00:00<?, ?it/s]"
      ]
     },
     "metadata": {},
     "output_type": "display_data"
    },
    {
     "name": "stdout",
     "output_type": "stream",
     "text": [
      "epoch: 11, validation loss: 0.06786881387233734, validation MSE: [0.06786882132291794]\n",
      "Validation loss decreased (0.077743 --> 0.067869).  Saving model ...\n"
     ]
    },
    {
     "data": {
      "application/vnd.jupyter.widget-view+json": {
       "model_id": "",
       "version_major": 2,
       "version_minor": 0
      },
      "text/plain": [
       "epoch 12 training data:   0%|          | 0/83 [00:00<?, ?it/s]"
      ]
     },
     "metadata": {},
     "output_type": "display_data"
    },
    {
     "name": "stdout",
     "output_type": "stream",
     "text": [
      "epoch: 12, LR: 0.006, train loss: 0.09014222025871277, train MSE: [0.09014222025871277]\n"
     ]
    },
    {
     "data": {
      "application/vnd.jupyter.widget-view+json": {
       "model_id": "",
       "version_major": 2,
       "version_minor": 0
      },
      "text/plain": [
       "epoch 12 validation data:   0%|          | 0/61 [00:00<?, ?it/s]"
      ]
     },
     "metadata": {},
     "output_type": "display_data"
    },
    {
     "name": "stdout",
     "output_type": "stream",
     "text": [
      "epoch: 12, validation loss: 0.06324119865894318, validation MSE: [0.06324119865894318]\n",
      "Validation loss decreased (0.067869 --> 0.063241).  Saving model ...\n"
     ]
    },
    {
     "data": {
      "application/vnd.jupyter.widget-view+json": {
       "model_id": "",
       "version_major": 2,
       "version_minor": 0
      },
      "text/plain": [
       "epoch 13 training data:   0%|          | 0/83 [00:00<?, ?it/s]"
      ]
     },
     "metadata": {},
     "output_type": "display_data"
    },
    {
     "name": "stdout",
     "output_type": "stream",
     "text": [
      "epoch: 13, LR: 0.006, train loss: 0.08603756129741669, train MSE: [0.08603756874799728]\n"
     ]
    },
    {
     "data": {
      "application/vnd.jupyter.widget-view+json": {
       "model_id": "",
       "version_major": 2,
       "version_minor": 0
      },
      "text/plain": [
       "epoch 13 validation data:   0%|          | 0/61 [00:00<?, ?it/s]"
      ]
     },
     "metadata": {},
     "output_type": "display_data"
    },
    {
     "name": "stdout",
     "output_type": "stream",
     "text": [
      "epoch: 13, validation loss: 1.2012686729431152, validation MSE: [1.2012686729431152]\n",
      "EarlyStopping counter: 1 out of 13\n"
     ]
    },
    {
     "data": {
      "application/vnd.jupyter.widget-view+json": {
       "model_id": "",
       "version_major": 2,
       "version_minor": 0
      },
      "text/plain": [
       "epoch 14 training data:   0%|          | 0/83 [00:00<?, ?it/s]"
      ]
     },
     "metadata": {},
     "output_type": "display_data"
    },
    {
     "name": "stdout",
     "output_type": "stream",
     "text": [
      "epoch: 14, LR: 0.006, train loss: 0.07986175268888474, train MSE: [0.07986174523830414]\n"
     ]
    },
    {
     "data": {
      "application/vnd.jupyter.widget-view+json": {
       "model_id": "",
       "version_major": 2,
       "version_minor": 0
      },
      "text/plain": [
       "epoch 14 validation data:   0%|          | 0/61 [00:00<?, ?it/s]"
      ]
     },
     "metadata": {},
     "output_type": "display_data"
    },
    {
     "name": "stdout",
     "output_type": "stream",
     "text": [
      "epoch: 14, validation loss: 0.09486096352338791, validation MSE: [0.09486096352338791]\n",
      "EarlyStopping counter: 2 out of 13\n"
     ]
    },
    {
     "data": {
      "application/vnd.jupyter.widget-view+json": {
       "model_id": "",
       "version_major": 2,
       "version_minor": 0
      },
      "text/plain": [
       "epoch 15 training data:   0%|          | 0/83 [00:00<?, ?it/s]"
      ]
     },
     "metadata": {},
     "output_type": "display_data"
    },
    {
     "name": "stdout",
     "output_type": "stream",
     "text": [
      "epoch: 15, LR: 0.006, train loss: 0.08064830303192139, train MSE: [0.08064830303192139]\n"
     ]
    },
    {
     "data": {
      "application/vnd.jupyter.widget-view+json": {
       "model_id": "",
       "version_major": 2,
       "version_minor": 0
      },
      "text/plain": [
       "epoch 15 validation data:   0%|          | 0/61 [00:00<?, ?it/s]"
      ]
     },
     "metadata": {},
     "output_type": "display_data"
    },
    {
     "name": "stdout",
     "output_type": "stream",
     "text": [
      "epoch: 15, validation loss: 0.0876312330365181, validation MSE: [0.0876312330365181]\n",
      "EarlyStopping counter: 3 out of 13\n"
     ]
    },
    {
     "data": {
      "application/vnd.jupyter.widget-view+json": {
       "model_id": "",
       "version_major": 2,
       "version_minor": 0
      },
      "text/plain": [
       "epoch 16 training data:   0%|          | 0/83 [00:00<?, ?it/s]"
      ]
     },
     "metadata": {},
     "output_type": "display_data"
    },
    {
     "name": "stdout",
     "output_type": "stream",
     "text": [
      "epoch: 16, LR: 0.006, train loss: 0.08071199059486389, train MSE: [0.08071199059486389]\n"
     ]
    },
    {
     "data": {
      "application/vnd.jupyter.widget-view+json": {
       "model_id": "",
       "version_major": 2,
       "version_minor": 0
      },
      "text/plain": [
       "epoch 16 validation data:   0%|          | 0/61 [00:00<?, ?it/s]"
      ]
     },
     "metadata": {},
     "output_type": "display_data"
    },
    {
     "name": "stdout",
     "output_type": "stream",
     "text": [
      "epoch: 16, validation loss: 0.9082999229431152, validation MSE: [0.9082999229431152]\n",
      "EarlyStopping counter: 4 out of 13\n"
     ]
    },
    {
     "data": {
      "application/vnd.jupyter.widget-view+json": {
       "model_id": "",
       "version_major": 2,
       "version_minor": 0
      },
      "text/plain": [
       "epoch 17 training data:   0%|          | 0/83 [00:00<?, ?it/s]"
      ]
     },
     "metadata": {},
     "output_type": "display_data"
    },
    {
     "name": "stdout",
     "output_type": "stream",
     "text": [
      "epoch: 17, LR: 0.006, train loss: 0.08214633166790009, train MSE: [0.08214632421731949]\n"
     ]
    },
    {
     "data": {
      "application/vnd.jupyter.widget-view+json": {
       "model_id": "",
       "version_major": 2,
       "version_minor": 0
      },
      "text/plain": [
       "epoch 17 validation data:   0%|          | 0/61 [00:00<?, ?it/s]"
      ]
     },
     "metadata": {},
     "output_type": "display_data"
    },
    {
     "name": "stdout",
     "output_type": "stream",
     "text": [
      "epoch: 17, validation loss: 0.24509066343307495, validation MSE: [0.24509067833423615]\n",
      "EarlyStopping counter: 5 out of 13\n"
     ]
    },
    {
     "data": {
      "application/vnd.jupyter.widget-view+json": {
       "model_id": "",
       "version_major": 2,
       "version_minor": 0
      },
      "text/plain": [
       "epoch 18 training data:   0%|          | 0/83 [00:00<?, ?it/s]"
      ]
     },
     "metadata": {},
     "output_type": "display_data"
    },
    {
     "name": "stdout",
     "output_type": "stream",
     "text": [
      "epoch: 18, LR: 0.006, train loss: 0.09414689987897873, train MSE: [0.09414689987897873]\n"
     ]
    },
    {
     "data": {
      "application/vnd.jupyter.widget-view+json": {
       "model_id": "",
       "version_major": 2,
       "version_minor": 0
      },
      "text/plain": [
       "epoch 18 validation data:   0%|          | 0/61 [00:00<?, ?it/s]"
      ]
     },
     "metadata": {},
     "output_type": "display_data"
    },
    {
     "name": "stdout",
     "output_type": "stream",
     "text": [
      "epoch: 18, validation loss: 0.08422920852899551, validation MSE: [0.08422920107841492]\n",
      "EarlyStopping counter: 6 out of 13\n"
     ]
    },
    {
     "data": {
      "application/vnd.jupyter.widget-view+json": {
       "model_id": "",
       "version_major": 2,
       "version_minor": 0
      },
      "text/plain": [
       "epoch 19 training data:   0%|          | 0/83 [00:00<?, ?it/s]"
      ]
     },
     "metadata": {},
     "output_type": "display_data"
    },
    {
     "name": "stdout",
     "output_type": "stream",
     "text": [
      "epoch: 19, LR: 0.0036, train loss: 0.0778331533074379, train MSE: [0.0778331533074379]\n"
     ]
    },
    {
     "data": {
      "application/vnd.jupyter.widget-view+json": {
       "model_id": "",
       "version_major": 2,
       "version_minor": 0
      },
      "text/plain": [
       "epoch 19 validation data:   0%|          | 0/61 [00:00<?, ?it/s]"
      ]
     },
     "metadata": {},
     "output_type": "display_data"
    },
    {
     "name": "stdout",
     "output_type": "stream",
     "text": [
      "epoch: 19, validation loss: 0.6608378887176514, validation MSE: [0.6608379483222961]\n",
      "EarlyStopping counter: 7 out of 13\n"
     ]
    },
    {
     "data": {
      "application/vnd.jupyter.widget-view+json": {
       "model_id": "",
       "version_major": 2,
       "version_minor": 0
      },
      "text/plain": [
       "epoch 20 training data:   0%|          | 0/83 [00:00<?, ?it/s]"
      ]
     },
     "metadata": {},
     "output_type": "display_data"
    },
    {
     "name": "stdout",
     "output_type": "stream",
     "text": [
      "epoch: 20, LR: 0.0036, train loss: 0.08454535901546478, train MSE: [0.08454535156488419]\n"
     ]
    },
    {
     "data": {
      "application/vnd.jupyter.widget-view+json": {
       "model_id": "",
       "version_major": 2,
       "version_minor": 0
      },
      "text/plain": [
       "epoch 20 validation data:   0%|          | 0/61 [00:00<?, ?it/s]"
      ]
     },
     "metadata": {},
     "output_type": "display_data"
    },
    {
     "name": "stdout",
     "output_type": "stream",
     "text": [
      "epoch: 20, validation loss: 0.873866617679596, validation MSE: [0.8738667368888855]\n",
      "EarlyStopping counter: 8 out of 13\n"
     ]
    },
    {
     "data": {
      "application/vnd.jupyter.widget-view+json": {
       "model_id": "",
       "version_major": 2,
       "version_minor": 0
      },
      "text/plain": [
       "epoch 21 training data:   0%|          | 0/83 [00:00<?, ?it/s]"
      ]
     },
     "metadata": {},
     "output_type": "display_data"
    },
    {
     "name": "stdout",
     "output_type": "stream",
     "text": [
      "epoch: 21, LR: 0.0036, train loss: 0.07444484531879425, train MSE: [0.07444485276937485]\n"
     ]
    },
    {
     "data": {
      "application/vnd.jupyter.widget-view+json": {
       "model_id": "",
       "version_major": 2,
       "version_minor": 0
      },
      "text/plain": [
       "epoch 21 validation data:   0%|          | 0/61 [00:00<?, ?it/s]"
      ]
     },
     "metadata": {},
     "output_type": "display_data"
    },
    {
     "name": "stdout",
     "output_type": "stream",
     "text": [
      "epoch: 21, validation loss: 1.725035548210144, validation MSE: [1.7250356674194336]\n",
      "EarlyStopping counter: 9 out of 13\n"
     ]
    },
    {
     "data": {
      "application/vnd.jupyter.widget-view+json": {
       "model_id": "",
       "version_major": 2,
       "version_minor": 0
      },
      "text/plain": [
       "epoch 22 training data:   0%|          | 0/83 [00:00<?, ?it/s]"
      ]
     },
     "metadata": {},
     "output_type": "display_data"
    },
    {
     "name": "stdout",
     "output_type": "stream",
     "text": [
      "epoch: 22, LR: 0.0036, train loss: 0.0727444589138031, train MSE: [0.0727444589138031]\n"
     ]
    },
    {
     "data": {
      "application/vnd.jupyter.widget-view+json": {
       "model_id": "",
       "version_major": 2,
       "version_minor": 0
      },
      "text/plain": [
       "epoch 22 validation data:   0%|          | 0/61 [00:00<?, ?it/s]"
      ]
     },
     "metadata": {},
     "output_type": "display_data"
    },
    {
     "name": "stdout",
     "output_type": "stream",
     "text": [
      "epoch: 22, validation loss: 0.21244008839130402, validation MSE: [0.21244008839130402]\n",
      "EarlyStopping counter: 10 out of 13\n"
     ]
    },
    {
     "data": {
      "application/vnd.jupyter.widget-view+json": {
       "model_id": "",
       "version_major": 2,
       "version_minor": 0
      },
      "text/plain": [
       "epoch 23 training data:   0%|          | 0/83 [00:00<?, ?it/s]"
      ]
     },
     "metadata": {},
     "output_type": "display_data"
    },
    {
     "name": "stdout",
     "output_type": "stream",
     "text": [
      "epoch: 23, LR: 0.0036, train loss: 0.08303219825029373, train MSE: [0.08303219079971313]\n"
     ]
    },
    {
     "data": {
      "application/vnd.jupyter.widget-view+json": {
       "model_id": "",
       "version_major": 2,
       "version_minor": 0
      },
      "text/plain": [
       "epoch 23 validation data:   0%|          | 0/61 [00:00<?, ?it/s]"
      ]
     },
     "metadata": {},
     "output_type": "display_data"
    },
    {
     "name": "stdout",
     "output_type": "stream",
     "text": [
      "epoch: 23, validation loss: 0.3702903687953949, validation MSE: [0.3702903389930725]\n",
      "EarlyStopping counter: 11 out of 13\n"
     ]
    },
    {
     "data": {
      "application/vnd.jupyter.widget-view+json": {
       "model_id": "",
       "version_major": 2,
       "version_minor": 0
      },
      "text/plain": [
       "epoch 24 training data:   0%|          | 0/83 [00:00<?, ?it/s]"
      ]
     },
     "metadata": {},
     "output_type": "display_data"
    },
    {
     "name": "stdout",
     "output_type": "stream",
     "text": [
      "epoch: 24, LR: 0.0036, train loss: 0.08239685744047165, train MSE: [0.08239686489105225]\n"
     ]
    },
    {
     "data": {
      "application/vnd.jupyter.widget-view+json": {
       "model_id": "",
       "version_major": 2,
       "version_minor": 0
      },
      "text/plain": [
       "epoch 24 validation data:   0%|          | 0/61 [00:00<?, ?it/s]"
      ]
     },
     "metadata": {},
     "output_type": "display_data"
    },
    {
     "name": "stdout",
     "output_type": "stream",
     "text": [
      "epoch: 24, validation loss: 0.11648626625537872, validation MSE: [0.11648625880479813]\n",
      "EarlyStopping counter: 12 out of 13\n"
     ]
    },
    {
     "data": {
      "application/vnd.jupyter.widget-view+json": {
       "model_id": "",
       "version_major": 2,
       "version_minor": 0
      },
      "text/plain": [
       "epoch 25 training data:   0%|          | 0/83 [00:00<?, ?it/s]"
      ]
     },
     "metadata": {},
     "output_type": "display_data"
    },
    {
     "name": "stdout",
     "output_type": "stream",
     "text": [
      "epoch: 25, LR: 0.00216, train loss: 0.07078798115253448, train MSE: [0.07078797370195389]\n"
     ]
    },
    {
     "data": {
      "application/vnd.jupyter.widget-view+json": {
       "model_id": "",
       "version_major": 2,
       "version_minor": 0
      },
      "text/plain": [
       "epoch 25 validation data:   0%|          | 0/61 [00:00<?, ?it/s]"
      ]
     },
     "metadata": {},
     "output_type": "display_data"
    },
    {
     "name": "stdout",
     "output_type": "stream",
     "text": [
      "epoch: 25, validation loss: 0.09018875658512115, validation MSE: [0.09018875658512115]\n",
      "EarlyStopping counter: 13 out of 13\n",
      "Early stopping\n"
     ]
    }
   ],
   "source": [
    "for epoch in range(previous_epochs, EPOCHS+previous_epochs):\n",
    "    # TRAINING Part\n",
    "    model.train()\n",
    "    train_loss = []\n",
    "    mse_train_list = []\n",
    "\n",
    "    bar = tqdm(train_dataloader, position=0, leave=False,\n",
    "               desc=f'epoch {epoch} training data')\n",
    "    i = 0\n",
    "    for train_data in bar:  # for each training step\n",
    "        i += 1\n",
    "        img_data_device = train_data['image'].to(device, dtype=torch.float)\n",
    "#         stacked_gt_device = torch.stack((train_data['P'], train_data['K'], train_data['Mg'], train_data['pH'])).transpose(\n",
    "#             0, 1).to(device, dtype=torch.float)\n",
    "        stacked_gt_device = train_data[parameter].unsqueeze(dim=0).permute(1, 0).to(device, dtype=torch.float)\n",
    "\n",
    "        output = model(img_data_device)\n",
    "\n",
    "        loss = loss_func(output, stacked_gt_device)\n",
    "        optimizer.zero_grad()\n",
    "        loss.backward()\n",
    "        optimizer.step()\n",
    "        train_loss.append(loss)\n",
    "\n",
    "        output_cpu = output.detach().cpu().numpy()\n",
    "        stacked_gt_cpu = stacked_gt_device.cpu().numpy()\n",
    "\n",
    "        # Calculate MSE for each class\n",
    "        mse = np.mean((stacked_gt_cpu - output_cpu) ** 2, axis=0)\n",
    "        mse_train_list.append(mse)\n",
    "\n",
    "        if i % 10 == 0:  # log every 10 batches\n",
    "            train_log_dict = dict()\n",
    "            train_log_dict['batch_number'] = i\n",
    "            train_log_dict['epoch'] = epoch\n",
    "            train_log_dict['train_batch_loss'] = loss\n",
    "            train_log_dict['train_batch_MSE_{}'.format(parameter)] = mse[0]\n",
    "            wandb.log(train_log_dict)\n",
    "\n",
    "    avg_train_loss = torch.stack(train_loss).mean().item()\n",
    "    avg_train_mse = torch.as_tensor(\n",
    "        np.array(mse_train_list)).mean(axis=0).numpy().tolist()\n",
    "\n",
    "    print(\n",
    "        f'epoch: {epoch}, LR: {optimizer.param_groups[0][\"lr\"]}, train loss: {avg_train_loss}, train MSE: {avg_train_mse}')\n",
    "    wandb.log({'epoch': epoch, 'average_train_loss': avg_train_loss, 'average_train_MSE_{}'.format(parameter): avg_train_mse[0]})\n",
    "\n",
    "    # VALIDATION Part\n",
    "    model.eval()\n",
    "    val_bar = tqdm(validation_dataloader, position=0,\n",
    "                   leave=False, desc=f'epoch {epoch} validation data')\n",
    "    with torch.no_grad():\n",
    "        val_loss = []\n",
    "        mse_val_list = []\n",
    "        for val_data in val_bar:\n",
    "            img_data_device = val_data['image'].to(device, dtype=torch.float)\n",
    "#             stacked_gt_device = torch.stack((val_data['P'], val_data['K'], val_data['Mg'], val_data['pH'])).transpose(\n",
    "#                 0, 1).to(device, dtype=torch.float)\n",
    "            stacked_gt_device =  val_data[parameter].unsqueeze(dim=0).permute(1, 0).to(device, dtype=torch.float)\n",
    "\n",
    "            output = model(img_data_device)\n",
    "\n",
    "            loss = loss_func(output, stacked_gt_device)\n",
    "            val_loss.append(loss)\n",
    "\n",
    "            output_cpu = output.detach().cpu().numpy()\n",
    "            stacked_gt_cpu = stacked_gt_device.cpu().numpy()\n",
    "\n",
    "            # Calculate MSE for each class\n",
    "            mse = np.mean((stacked_gt_cpu - output_cpu) ** 2, axis=0)\n",
    "            mse_val_list.append(mse)\n",
    "\n",
    "        avg_val_loss = torch.stack(val_loss).mean().item()\n",
    "        avg_val_mse = torch.as_tensor(\n",
    "            np.array(mse_val_list)).mean(axis=0).numpy().tolist()\n",
    "\n",
    "        print(f'epoch: {epoch}, validation loss: {avg_val_loss}, validation MSE: {avg_val_mse}')\n",
    "        wandb.log({'epoch': epoch, 'average_val_loss': avg_val_loss, 'average_validation_MSE_{}'.format(parameter): avg_val_mse[0]})\n",
    "\n",
    "        scheduler.step(avg_val_loss)\n",
    "        # early_stopping needs the validation loss to check if it has decresed,\n",
    "        # and if it has, it will make a checkpoint of the current model\n",
    "        early_stopping(avg_val_loss, model)\n",
    "\n",
    "        if early_stopping.early_stop:\n",
    "            print(\"Early stopping\")\n",
    "            break"
   ]
  },
  {
   "cell_type": "markdown",
   "id": "630df441-d9af-44d6-8816-19e2bcc53e57",
   "metadata": {},
   "source": [
    "#### Saving model state dict and loading"
   ]
  },
  {
   "cell_type": "code",
   "execution_count": 27,
   "id": "5aaf13cc-2e25-4bdf-822e-3d365964ca6e",
   "metadata": {},
   "outputs": [],
   "source": [
    "torch.save(model.state_dict(), os.path.join(\n",
    "    saved_models_directory, model_name+f'_EPOCHS_{epoch}.pth'))"
   ]
  },
  {
   "cell_type": "code",
   "execution_count": 28,
   "id": "d6ffb3e2-5cb5-49c2-abfe-5ecaa530087b",
   "metadata": {
    "tags": []
   },
   "outputs": [],
   "source": [
    "# rename checkpoint.pth\n",
    "! mv ../../saved_models/checkpoint_state_dict.pth ../../saved_models/checkpoint_state_dict_ResNet50_09_05_2022_Single_Parameter_pH.pth"
   ]
  },
  {
   "cell_type": "code",
   "execution_count": 31,
   "id": "3e4dc5ea-7e3a-4ce5-93e6-e6baf9615149",
   "metadata": {},
   "outputs": [
    {
     "data": {
      "text/plain": [
       "<All keys matched successfully>"
      ]
     },
     "execution_count": 31,
     "metadata": {},
     "output_type": "execute_result"
    }
   ],
   "source": [
    "# load saved model\n",
    "modelLoad = ResNetCNN(False)\n",
    "modelLoad.load_state_dict(torch.load(os.path.join(\n",
    "    saved_models_directory, 'checkpoint_state_dict_ResNet50_09_05_2022_Single_Parameter_pH.pth')))"
   ]
  },
  {
   "cell_type": "code",
   "execution_count": 32,
   "id": "c1c66db3-7fcf-4410-b51c-ae9706394be0",
   "metadata": {},
   "outputs": [],
   "source": [
    "modelLoad = modelLoad.to(device)"
   ]
  },
  {
   "cell_type": "markdown",
   "id": "9c40a5e8-364f-41fb-84bf-e46e17811f53",
   "metadata": {
    "tags": []
   },
   "source": [
    "### Predict test dataset"
   ]
  },
  {
   "cell_type": "code",
   "execution_count": 65,
   "id": "ead3cbb4-030b-4027-b3e3-6e90d52bb089",
   "metadata": {
    "collapsed": true,
    "jupyter": {
     "outputs_hidden": true
    },
    "tags": []
   },
   "outputs": [
    {
     "data": {
      "text/plain": [
       "ResNetCNN(\n",
       "  (resnet_model): ResNet(\n",
       "    (conv1): Conv2d(150, 64, kernel_size=(7, 7), stride=(2, 2), padding=(3, 3), bias=False)\n",
       "    (bn1): BatchNorm2d(64, eps=1e-05, momentum=0.1, affine=True, track_running_stats=True)\n",
       "    (relu): ReLU(inplace=True)\n",
       "    (maxpool): MaxPool2d(kernel_size=3, stride=2, padding=1, dilation=1, ceil_mode=False)\n",
       "    (layer1): Sequential(\n",
       "      (0): Bottleneck(\n",
       "        (conv1): Conv2d(64, 64, kernel_size=(1, 1), stride=(1, 1), bias=False)\n",
       "        (bn1): BatchNorm2d(64, eps=1e-05, momentum=0.1, affine=True, track_running_stats=True)\n",
       "        (conv2): Conv2d(64, 64, kernel_size=(3, 3), stride=(1, 1), padding=(1, 1), bias=False)\n",
       "        (bn2): BatchNorm2d(64, eps=1e-05, momentum=0.1, affine=True, track_running_stats=True)\n",
       "        (conv3): Conv2d(64, 256, kernel_size=(1, 1), stride=(1, 1), bias=False)\n",
       "        (bn3): BatchNorm2d(256, eps=1e-05, momentum=0.1, affine=True, track_running_stats=True)\n",
       "        (relu): ReLU(inplace=True)\n",
       "        (downsample): Sequential(\n",
       "          (0): Conv2d(64, 256, kernel_size=(1, 1), stride=(1, 1), bias=False)\n",
       "          (1): BatchNorm2d(256, eps=1e-05, momentum=0.1, affine=True, track_running_stats=True)\n",
       "        )\n",
       "      )\n",
       "      (1): Bottleneck(\n",
       "        (conv1): Conv2d(256, 64, kernel_size=(1, 1), stride=(1, 1), bias=False)\n",
       "        (bn1): BatchNorm2d(64, eps=1e-05, momentum=0.1, affine=True, track_running_stats=True)\n",
       "        (conv2): Conv2d(64, 64, kernel_size=(3, 3), stride=(1, 1), padding=(1, 1), bias=False)\n",
       "        (bn2): BatchNorm2d(64, eps=1e-05, momentum=0.1, affine=True, track_running_stats=True)\n",
       "        (conv3): Conv2d(64, 256, kernel_size=(1, 1), stride=(1, 1), bias=False)\n",
       "        (bn3): BatchNorm2d(256, eps=1e-05, momentum=0.1, affine=True, track_running_stats=True)\n",
       "        (relu): ReLU(inplace=True)\n",
       "      )\n",
       "      (2): Bottleneck(\n",
       "        (conv1): Conv2d(256, 64, kernel_size=(1, 1), stride=(1, 1), bias=False)\n",
       "        (bn1): BatchNorm2d(64, eps=1e-05, momentum=0.1, affine=True, track_running_stats=True)\n",
       "        (conv2): Conv2d(64, 64, kernel_size=(3, 3), stride=(1, 1), padding=(1, 1), bias=False)\n",
       "        (bn2): BatchNorm2d(64, eps=1e-05, momentum=0.1, affine=True, track_running_stats=True)\n",
       "        (conv3): Conv2d(64, 256, kernel_size=(1, 1), stride=(1, 1), bias=False)\n",
       "        (bn3): BatchNorm2d(256, eps=1e-05, momentum=0.1, affine=True, track_running_stats=True)\n",
       "        (relu): ReLU(inplace=True)\n",
       "      )\n",
       "    )\n",
       "    (layer2): Sequential(\n",
       "      (0): Bottleneck(\n",
       "        (conv1): Conv2d(256, 128, kernel_size=(1, 1), stride=(1, 1), bias=False)\n",
       "        (bn1): BatchNorm2d(128, eps=1e-05, momentum=0.1, affine=True, track_running_stats=True)\n",
       "        (conv2): Conv2d(128, 128, kernel_size=(3, 3), stride=(2, 2), padding=(1, 1), bias=False)\n",
       "        (bn2): BatchNorm2d(128, eps=1e-05, momentum=0.1, affine=True, track_running_stats=True)\n",
       "        (conv3): Conv2d(128, 512, kernel_size=(1, 1), stride=(1, 1), bias=False)\n",
       "        (bn3): BatchNorm2d(512, eps=1e-05, momentum=0.1, affine=True, track_running_stats=True)\n",
       "        (relu): ReLU(inplace=True)\n",
       "        (downsample): Sequential(\n",
       "          (0): Conv2d(256, 512, kernel_size=(1, 1), stride=(2, 2), bias=False)\n",
       "          (1): BatchNorm2d(512, eps=1e-05, momentum=0.1, affine=True, track_running_stats=True)\n",
       "        )\n",
       "      )\n",
       "      (1): Bottleneck(\n",
       "        (conv1): Conv2d(512, 128, kernel_size=(1, 1), stride=(1, 1), bias=False)\n",
       "        (bn1): BatchNorm2d(128, eps=1e-05, momentum=0.1, affine=True, track_running_stats=True)\n",
       "        (conv2): Conv2d(128, 128, kernel_size=(3, 3), stride=(1, 1), padding=(1, 1), bias=False)\n",
       "        (bn2): BatchNorm2d(128, eps=1e-05, momentum=0.1, affine=True, track_running_stats=True)\n",
       "        (conv3): Conv2d(128, 512, kernel_size=(1, 1), stride=(1, 1), bias=False)\n",
       "        (bn3): BatchNorm2d(512, eps=1e-05, momentum=0.1, affine=True, track_running_stats=True)\n",
       "        (relu): ReLU(inplace=True)\n",
       "      )\n",
       "      (2): Bottleneck(\n",
       "        (conv1): Conv2d(512, 128, kernel_size=(1, 1), stride=(1, 1), bias=False)\n",
       "        (bn1): BatchNorm2d(128, eps=1e-05, momentum=0.1, affine=True, track_running_stats=True)\n",
       "        (conv2): Conv2d(128, 128, kernel_size=(3, 3), stride=(1, 1), padding=(1, 1), bias=False)\n",
       "        (bn2): BatchNorm2d(128, eps=1e-05, momentum=0.1, affine=True, track_running_stats=True)\n",
       "        (conv3): Conv2d(128, 512, kernel_size=(1, 1), stride=(1, 1), bias=False)\n",
       "        (bn3): BatchNorm2d(512, eps=1e-05, momentum=0.1, affine=True, track_running_stats=True)\n",
       "        (relu): ReLU(inplace=True)\n",
       "      )\n",
       "      (3): Bottleneck(\n",
       "        (conv1): Conv2d(512, 128, kernel_size=(1, 1), stride=(1, 1), bias=False)\n",
       "        (bn1): BatchNorm2d(128, eps=1e-05, momentum=0.1, affine=True, track_running_stats=True)\n",
       "        (conv2): Conv2d(128, 128, kernel_size=(3, 3), stride=(1, 1), padding=(1, 1), bias=False)\n",
       "        (bn2): BatchNorm2d(128, eps=1e-05, momentum=0.1, affine=True, track_running_stats=True)\n",
       "        (conv3): Conv2d(128, 512, kernel_size=(1, 1), stride=(1, 1), bias=False)\n",
       "        (bn3): BatchNorm2d(512, eps=1e-05, momentum=0.1, affine=True, track_running_stats=True)\n",
       "        (relu): ReLU(inplace=True)\n",
       "      )\n",
       "    )\n",
       "    (layer3): Sequential(\n",
       "      (0): Bottleneck(\n",
       "        (conv1): Conv2d(512, 256, kernel_size=(1, 1), stride=(1, 1), bias=False)\n",
       "        (bn1): BatchNorm2d(256, eps=1e-05, momentum=0.1, affine=True, track_running_stats=True)\n",
       "        (conv2): Conv2d(256, 256, kernel_size=(3, 3), stride=(2, 2), padding=(1, 1), bias=False)\n",
       "        (bn2): BatchNorm2d(256, eps=1e-05, momentum=0.1, affine=True, track_running_stats=True)\n",
       "        (conv3): Conv2d(256, 1024, kernel_size=(1, 1), stride=(1, 1), bias=False)\n",
       "        (bn3): BatchNorm2d(1024, eps=1e-05, momentum=0.1, affine=True, track_running_stats=True)\n",
       "        (relu): ReLU(inplace=True)\n",
       "        (downsample): Sequential(\n",
       "          (0): Conv2d(512, 1024, kernel_size=(1, 1), stride=(2, 2), bias=False)\n",
       "          (1): BatchNorm2d(1024, eps=1e-05, momentum=0.1, affine=True, track_running_stats=True)\n",
       "        )\n",
       "      )\n",
       "      (1): Bottleneck(\n",
       "        (conv1): Conv2d(1024, 256, kernel_size=(1, 1), stride=(1, 1), bias=False)\n",
       "        (bn1): BatchNorm2d(256, eps=1e-05, momentum=0.1, affine=True, track_running_stats=True)\n",
       "        (conv2): Conv2d(256, 256, kernel_size=(3, 3), stride=(1, 1), padding=(1, 1), bias=False)\n",
       "        (bn2): BatchNorm2d(256, eps=1e-05, momentum=0.1, affine=True, track_running_stats=True)\n",
       "        (conv3): Conv2d(256, 1024, kernel_size=(1, 1), stride=(1, 1), bias=False)\n",
       "        (bn3): BatchNorm2d(1024, eps=1e-05, momentum=0.1, affine=True, track_running_stats=True)\n",
       "        (relu): ReLU(inplace=True)\n",
       "      )\n",
       "      (2): Bottleneck(\n",
       "        (conv1): Conv2d(1024, 256, kernel_size=(1, 1), stride=(1, 1), bias=False)\n",
       "        (bn1): BatchNorm2d(256, eps=1e-05, momentum=0.1, affine=True, track_running_stats=True)\n",
       "        (conv2): Conv2d(256, 256, kernel_size=(3, 3), stride=(1, 1), padding=(1, 1), bias=False)\n",
       "        (bn2): BatchNorm2d(256, eps=1e-05, momentum=0.1, affine=True, track_running_stats=True)\n",
       "        (conv3): Conv2d(256, 1024, kernel_size=(1, 1), stride=(1, 1), bias=False)\n",
       "        (bn3): BatchNorm2d(1024, eps=1e-05, momentum=0.1, affine=True, track_running_stats=True)\n",
       "        (relu): ReLU(inplace=True)\n",
       "      )\n",
       "      (3): Bottleneck(\n",
       "        (conv1): Conv2d(1024, 256, kernel_size=(1, 1), stride=(1, 1), bias=False)\n",
       "        (bn1): BatchNorm2d(256, eps=1e-05, momentum=0.1, affine=True, track_running_stats=True)\n",
       "        (conv2): Conv2d(256, 256, kernel_size=(3, 3), stride=(1, 1), padding=(1, 1), bias=False)\n",
       "        (bn2): BatchNorm2d(256, eps=1e-05, momentum=0.1, affine=True, track_running_stats=True)\n",
       "        (conv3): Conv2d(256, 1024, kernel_size=(1, 1), stride=(1, 1), bias=False)\n",
       "        (bn3): BatchNorm2d(1024, eps=1e-05, momentum=0.1, affine=True, track_running_stats=True)\n",
       "        (relu): ReLU(inplace=True)\n",
       "      )\n",
       "      (4): Bottleneck(\n",
       "        (conv1): Conv2d(1024, 256, kernel_size=(1, 1), stride=(1, 1), bias=False)\n",
       "        (bn1): BatchNorm2d(256, eps=1e-05, momentum=0.1, affine=True, track_running_stats=True)\n",
       "        (conv2): Conv2d(256, 256, kernel_size=(3, 3), stride=(1, 1), padding=(1, 1), bias=False)\n",
       "        (bn2): BatchNorm2d(256, eps=1e-05, momentum=0.1, affine=True, track_running_stats=True)\n",
       "        (conv3): Conv2d(256, 1024, kernel_size=(1, 1), stride=(1, 1), bias=False)\n",
       "        (bn3): BatchNorm2d(1024, eps=1e-05, momentum=0.1, affine=True, track_running_stats=True)\n",
       "        (relu): ReLU(inplace=True)\n",
       "      )\n",
       "      (5): Bottleneck(\n",
       "        (conv1): Conv2d(1024, 256, kernel_size=(1, 1), stride=(1, 1), bias=False)\n",
       "        (bn1): BatchNorm2d(256, eps=1e-05, momentum=0.1, affine=True, track_running_stats=True)\n",
       "        (conv2): Conv2d(256, 256, kernel_size=(3, 3), stride=(1, 1), padding=(1, 1), bias=False)\n",
       "        (bn2): BatchNorm2d(256, eps=1e-05, momentum=0.1, affine=True, track_running_stats=True)\n",
       "        (conv3): Conv2d(256, 1024, kernel_size=(1, 1), stride=(1, 1), bias=False)\n",
       "        (bn3): BatchNorm2d(1024, eps=1e-05, momentum=0.1, affine=True, track_running_stats=True)\n",
       "        (relu): ReLU(inplace=True)\n",
       "      )\n",
       "    )\n",
       "    (layer4): Sequential(\n",
       "      (0): Bottleneck(\n",
       "        (conv1): Conv2d(1024, 512, kernel_size=(1, 1), stride=(1, 1), bias=False)\n",
       "        (bn1): BatchNorm2d(512, eps=1e-05, momentum=0.1, affine=True, track_running_stats=True)\n",
       "        (conv2): Conv2d(512, 512, kernel_size=(3, 3), stride=(2, 2), padding=(1, 1), bias=False)\n",
       "        (bn2): BatchNorm2d(512, eps=1e-05, momentum=0.1, affine=True, track_running_stats=True)\n",
       "        (conv3): Conv2d(512, 2048, kernel_size=(1, 1), stride=(1, 1), bias=False)\n",
       "        (bn3): BatchNorm2d(2048, eps=1e-05, momentum=0.1, affine=True, track_running_stats=True)\n",
       "        (relu): ReLU(inplace=True)\n",
       "        (downsample): Sequential(\n",
       "          (0): Conv2d(1024, 2048, kernel_size=(1, 1), stride=(2, 2), bias=False)\n",
       "          (1): BatchNorm2d(2048, eps=1e-05, momentum=0.1, affine=True, track_running_stats=True)\n",
       "        )\n",
       "      )\n",
       "      (1): Bottleneck(\n",
       "        (conv1): Conv2d(2048, 512, kernel_size=(1, 1), stride=(1, 1), bias=False)\n",
       "        (bn1): BatchNorm2d(512, eps=1e-05, momentum=0.1, affine=True, track_running_stats=True)\n",
       "        (conv2): Conv2d(512, 512, kernel_size=(3, 3), stride=(1, 1), padding=(1, 1), bias=False)\n",
       "        (bn2): BatchNorm2d(512, eps=1e-05, momentum=0.1, affine=True, track_running_stats=True)\n",
       "        (conv3): Conv2d(512, 2048, kernel_size=(1, 1), stride=(1, 1), bias=False)\n",
       "        (bn3): BatchNorm2d(2048, eps=1e-05, momentum=0.1, affine=True, track_running_stats=True)\n",
       "        (relu): ReLU(inplace=True)\n",
       "      )\n",
       "      (2): Bottleneck(\n",
       "        (conv1): Conv2d(2048, 512, kernel_size=(1, 1), stride=(1, 1), bias=False)\n",
       "        (bn1): BatchNorm2d(512, eps=1e-05, momentum=0.1, affine=True, track_running_stats=True)\n",
       "        (conv2): Conv2d(512, 512, kernel_size=(3, 3), stride=(1, 1), padding=(1, 1), bias=False)\n",
       "        (bn2): BatchNorm2d(512, eps=1e-05, momentum=0.1, affine=True, track_running_stats=True)\n",
       "        (conv3): Conv2d(512, 2048, kernel_size=(1, 1), stride=(1, 1), bias=False)\n",
       "        (bn3): BatchNorm2d(2048, eps=1e-05, momentum=0.1, affine=True, track_running_stats=True)\n",
       "        (relu): ReLU(inplace=True)\n",
       "      )\n",
       "    )\n",
       "    (avgpool): AdaptiveAvgPool2d(output_size=(1, 1))\n",
       "    (fc): Linear(in_features=2048, out_features=4, bias=True)\n",
       "  )\n",
       ")"
      ]
     },
     "execution_count": 65,
     "metadata": {},
     "output_type": "execute_result"
    }
   ],
   "source": [
    "modelLoad.eval()"
   ]
  },
  {
   "cell_type": "code",
   "execution_count": 66,
   "id": "c9291a88-df06-4f13-a81a-f59bdd2370c6",
   "metadata": {},
   "outputs": [],
   "source": [
    "test_data = HyperViewDataset(None, os.path.join(\n",
    "    test_data_directory), True, means, stds, train_transforms=False)"
   ]
  },
  {
   "cell_type": "code",
   "execution_count": 67,
   "id": "93e1aaa9-81d7-4f54-8932-b0c32781e550",
   "metadata": {},
   "outputs": [],
   "source": [
    "test_dataloader = DataLoader(\n",
    "    test_data, batch_size=BATCH_SIZE, pin_memory=True, drop_last=False, num_workers=4, shuffle=False)"
   ]
  },
  {
   "cell_type": "code",
   "execution_count": 68,
   "id": "67adb2b7-3add-4999-8ead-d5b5e9e34a54",
   "metadata": {},
   "outputs": [
    {
     "data": {
      "text/plain": [
       "1154"
      ]
     },
     "execution_count": 68,
     "metadata": {},
     "output_type": "execute_result"
    }
   ],
   "source": [
    "len(test_data)"
   ]
  },
  {
   "cell_type": "code",
   "execution_count": 69,
   "id": "38cc5f0a-cdd8-4c94-ad66-941f2cbee6fe",
   "metadata": {},
   "outputs": [
    {
     "data": {
      "application/vnd.jupyter.widget-view+json": {
       "model_id": "",
       "version_major": 2,
       "version_minor": 0
      },
      "text/plain": [
       "test data:   0%|          | 0/97 [00:00<?, ?it/s]"
      ]
     },
     "metadata": {},
     "output_type": "display_data"
    }
   ],
   "source": [
    "output_list = []\n",
    "bar = tqdm(test_dataloader, position=0, leave=False, desc=f'test data')\n",
    "for test_data in bar:  # for each test step\n",
    "    img_data_device = test_data['image'].to(device, dtype=torch.float)\n",
    "\n",
    "    output = modelLoad(img_data_device)\n",
    "    output_cpu = output.detach().cpu().numpy()\n",
    "    output_list.append(output_cpu)"
   ]
  },
  {
   "cell_type": "code",
   "execution_count": 70,
   "id": "63aba28f-9c79-4a8d-89d5-b0fc7c1f5515",
   "metadata": {},
   "outputs": [
    {
     "data": {
      "text/html": [
       "<div>\n",
       "<style scoped>\n",
       "    .dataframe tbody tr th:only-of-type {\n",
       "        vertical-align: middle;\n",
       "    }\n",
       "\n",
       "    .dataframe tbody tr th {\n",
       "        vertical-align: top;\n",
       "    }\n",
       "\n",
       "    .dataframe thead th {\n",
       "        text-align: right;\n",
       "    }\n",
       "</style>\n",
       "<table border=\"1\" class=\"dataframe\">\n",
       "  <thead>\n",
       "    <tr style=\"text-align: right;\">\n",
       "      <th></th>\n",
       "      <th>P</th>\n",
       "      <th>K</th>\n",
       "      <th>Mg</th>\n",
       "      <th>pH</th>\n",
       "    </tr>\n",
       "  </thead>\n",
       "  <tbody>\n",
       "    <tr>\n",
       "      <th>0</th>\n",
       "      <td>68.586143</td>\n",
       "      <td>222.838531</td>\n",
       "      <td>171.396500</td>\n",
       "      <td>6.951674</td>\n",
       "    </tr>\n",
       "    <tr>\n",
       "      <th>1</th>\n",
       "      <td>68.586151</td>\n",
       "      <td>222.838547</td>\n",
       "      <td>171.396500</td>\n",
       "      <td>6.951673</td>\n",
       "    </tr>\n",
       "    <tr>\n",
       "      <th>2</th>\n",
       "      <td>68.586159</td>\n",
       "      <td>222.838547</td>\n",
       "      <td>171.396484</td>\n",
       "      <td>6.951674</td>\n",
       "    </tr>\n",
       "    <tr>\n",
       "      <th>3</th>\n",
       "      <td>68.586159</td>\n",
       "      <td>222.838623</td>\n",
       "      <td>171.396469</td>\n",
       "      <td>6.951674</td>\n",
       "    </tr>\n",
       "    <tr>\n",
       "      <th>4</th>\n",
       "      <td>68.586151</td>\n",
       "      <td>222.838516</td>\n",
       "      <td>171.396500</td>\n",
       "      <td>6.951673</td>\n",
       "    </tr>\n",
       "    <tr>\n",
       "      <th>...</th>\n",
       "      <td>...</td>\n",
       "      <td>...</td>\n",
       "      <td>...</td>\n",
       "      <td>...</td>\n",
       "    </tr>\n",
       "    <tr>\n",
       "      <th>1149</th>\n",
       "      <td>67.354424</td>\n",
       "      <td>217.670792</td>\n",
       "      <td>171.512131</td>\n",
       "      <td>6.525923</td>\n",
       "    </tr>\n",
       "    <tr>\n",
       "      <th>1150</th>\n",
       "      <td>68.368927</td>\n",
       "      <td>220.833267</td>\n",
       "      <td>170.940704</td>\n",
       "      <td>6.552281</td>\n",
       "    </tr>\n",
       "    <tr>\n",
       "      <th>1151</th>\n",
       "      <td>69.019394</td>\n",
       "      <td>222.623795</td>\n",
       "      <td>168.086761</td>\n",
       "      <td>6.488876</td>\n",
       "    </tr>\n",
       "    <tr>\n",
       "      <th>1152</th>\n",
       "      <td>68.054962</td>\n",
       "      <td>219.802689</td>\n",
       "      <td>170.666565</td>\n",
       "      <td>6.531305</td>\n",
       "    </tr>\n",
       "    <tr>\n",
       "      <th>1153</th>\n",
       "      <td>73.539017</td>\n",
       "      <td>237.429199</td>\n",
       "      <td>165.856918</td>\n",
       "      <td>6.697351</td>\n",
       "    </tr>\n",
       "  </tbody>\n",
       "</table>\n",
       "<p>1154 rows × 4 columns</p>\n",
       "</div>"
      ],
      "text/plain": [
       "              P           K          Mg        pH\n",
       "0     68.586143  222.838531  171.396500  6.951674\n",
       "1     68.586151  222.838547  171.396500  6.951673\n",
       "2     68.586159  222.838547  171.396484  6.951674\n",
       "3     68.586159  222.838623  171.396469  6.951674\n",
       "4     68.586151  222.838516  171.396500  6.951673\n",
       "...         ...         ...         ...       ...\n",
       "1149  67.354424  217.670792  171.512131  6.525923\n",
       "1150  68.368927  220.833267  170.940704  6.552281\n",
       "1151  69.019394  222.623795  168.086761  6.488876\n",
       "1152  68.054962  219.802689  170.666565  6.531305\n",
       "1153  73.539017  237.429199  165.856918  6.697351\n",
       "\n",
       "[1154 rows x 4 columns]"
      ]
     },
     "execution_count": 70,
     "metadata": {},
     "output_type": "execute_result"
    }
   ],
   "source": [
    "submission = pd.DataFrame(\n",
    "    data=[item for sublist in output_list for item in sublist], columns=[\"P\", \"K\", \"Mg\", \"pH\"])\n",
    "submission"
   ]
  },
  {
   "cell_type": "code",
   "execution_count": 71,
   "id": "fd75c85f-8852-4b10-8bb5-88e56bbbd0ba",
   "metadata": {},
   "outputs": [],
   "source": [
    "submission.to_csv(os.path.join(submissions_directory,\n",
    "                  \"checkpoint_state_dict_ResNet50_07_05_2022.csv\"), index_label=\"sample_index\")"
   ]
  },
  {
   "cell_type": "code",
   "execution_count": null,
   "id": "24afa999-5283-4d5e-8d16-bb5e2d8876ec",
   "metadata": {},
   "outputs": [],
   "source": []
  }
 ],
 "metadata": {
  "kernelspec": {
   "display_name": "Python 3.7",
   "language": "python",
   "name": "python3"
  },
  "language_info": {
   "codemirror_mode": {
    "name": "ipython",
    "version": 3
   },
   "file_extension": ".py",
   "mimetype": "text/x-python",
   "name": "python",
   "nbconvert_exporter": "python",
   "pygments_lexer": "ipython3",
   "version": "3.7.12"
  }
 },
 "nbformat": 4,
 "nbformat_minor": 5
}
