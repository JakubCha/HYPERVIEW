{
 "cells": [
  {
   "cell_type": "code",
   "execution_count": 1,
   "id": "270f1670-a145-441d-85b5-c5896262a5d5",
   "metadata": {
    "tags": []
   },
   "outputs": [],
   "source": [
    "import os\n",
    "from glob import glob\n",
    "import pandas as pd\n",
    "import numpy as np\n",
    "import torch\n",
    "import timm\n",
    "from torch.utils.data import Dataset, DataLoader\n",
    "from torch.utils.data.dataset import random_split\n",
    "from torch import nn, optim\n",
    "from torch.nn import functional as F\n",
    "from torchvision import transforms\n",
    "import matplotlib.pyplot as plt\n",
    "from math import ceil\n",
    "from tqdm.notebook import tqdm\n",
    "import wandb\n",
    "from torch_lr_finder import LRFinder\n",
    "from utils import EarlyStopping\n",
    "import utils\n",
    "import plotly.express as px\n",
    "from math import sqrt, ceil, floor\n",
    "import albumentations as alb"
   ]
  },
  {
   "cell_type": "code",
   "execution_count": 2,
   "id": "707e7a39-1543-4071-b32f-f03261397be1",
   "metadata": {},
   "outputs": [],
   "source": [
    "from scipy import ndimage"
   ]
  },
  {
   "cell_type": "code",
   "execution_count": 3,
   "id": "1382c3cd-4290-4b7f-806f-198920a1f686",
   "metadata": {
    "tags": []
   },
   "outputs": [
    {
     "name": "stderr",
     "output_type": "stream",
     "text": [
      "Failed to detect the name of this notebook, you can set it manually with the WANDB_NOTEBOOK_NAME environment variable to enable code saving.\n"
     ]
    },
    {
     "data": {
      "text/plain": []
     },
     "execution_count": 3,
     "metadata": {},
     "output_type": "execute_result"
    }
   ],
   "source": [
    "# run = wandb.init(project='HyperView-initial', reinit=True)\n",
    "wandb.init(mode=\"disabled\") # in case of testing code"
   ]
  },
  {
   "cell_type": "markdown",
   "id": "bdc45bc9-94ce-41f5-8e9a-dee4ce53beca",
   "metadata": {
    "tags": []
   },
   "source": [
    "### Paths definition"
   ]
  },
  {
   "cell_type": "code",
   "execution_count": 4,
   "id": "31f3113b-e082-4f61-ae37-e02b0ec9e990",
   "metadata": {},
   "outputs": [],
   "source": [
    "train_data_directory = r'../../train_data'\n",
    "test_data_directory = r'../../test_data'\n",
    "saved_models_directory = r'../../saved_models'\n",
    "submissions_directory = r'../../submissions'"
   ]
  },
  {
   "cell_type": "markdown",
   "id": "5ec0f93b-24a0-4506-9b86-cfa44e0cf2a3",
   "metadata": {
    "tags": []
   },
   "source": [
    "### Dataset testing"
   ]
  },
  {
   "cell_type": "code",
   "execution_count": 5,
   "id": "491ae192-a832-478a-b34a-1d4336e8900e",
   "metadata": {},
   "outputs": [],
   "source": [
    "all_files = np.array(\n",
    "    sorted(\n",
    "        glob(os.path.join(train_data_directory, 'train_data', \"*.npz\")),\n",
    "        key=lambda x: int(os.path.basename(x).replace(\".npz\", \"\")),\n",
    "    )\n",
    ")"
   ]
  },
  {
   "cell_type": "code",
   "execution_count": 6,
   "id": "5f4fb93f-2f67-4bc5-840d-943fed29d159",
   "metadata": {},
   "outputs": [
    {
     "data": {
      "text/plain": [
       "array(['../../train_data/train_data/0.npz',\n",
       "       '../../train_data/train_data/1.npz',\n",
       "       '../../train_data/train_data/2.npz', ...,\n",
       "       '../../train_data/train_data/1729.npz',\n",
       "       '../../train_data/train_data/1730.npz',\n",
       "       '../../train_data/train_data/1731.npz'], dtype='<U36')"
      ]
     },
     "execution_count": 6,
     "metadata": {},
     "output_type": "execute_result"
    }
   ],
   "source": [
    "all_files"
   ]
  },
  {
   "cell_type": "code",
   "execution_count": 7,
   "id": "a6ba884a-ab55-4a54-a5dc-38421e1877ee",
   "metadata": {
    "tags": []
   },
   "outputs": [
    {
     "data": {
      "text/plain": [
       "(150, 101, 115)"
      ]
     },
     "execution_count": 7,
     "metadata": {},
     "output_type": "execute_result"
    }
   ],
   "source": [
    "arr = np.ma.MaskedArray(**np.load(all_files[1456]))\n",
    "arr.shape"
   ]
  },
  {
   "cell_type": "code",
   "execution_count": 8,
   "id": "6718c6ef-3698-4576-beed-c47ae93fc3cc",
   "metadata": {},
   "outputs": [
    {
     "data": {
      "text/plain": [
       "(101, 115)"
      ]
     },
     "execution_count": 8,
     "metadata": {},
     "output_type": "execute_result"
    }
   ],
   "source": [
    "arr.mask[0].shape"
   ]
  },
  {
   "cell_type": "code",
   "execution_count": 9,
   "id": "b51b1979-3585-4fb1-8720-352196e5d840",
   "metadata": {},
   "outputs": [
    {
     "data": {
      "text/plain": [
       "array([[ True,  True,  True, ...,  True,  True,  True],\n",
       "       [ True,  True,  True, ...,  True,  True,  True],\n",
       "       [ True,  True,  True, ...,  True,  True,  True],\n",
       "       ...,\n",
       "       [ True, False, False, ...,  True,  True,  True],\n",
       "       [ True,  True,  True, ...,  True,  True,  True],\n",
       "       [ True,  True,  True, ...,  True,  True,  True]])"
      ]
     },
     "execution_count": 9,
     "metadata": {},
     "output_type": "execute_result"
    }
   ],
   "source": [
    "arr.mask[0]"
   ]
  },
  {
   "cell_type": "code",
   "execution_count": 10,
   "id": "f2162a32-fb86-4eb1-94b7-a88fe7a712c4",
   "metadata": {
    "tags": []
   },
   "outputs": [
    {
     "data": {
      "text/plain": [
       "tensor([[[ 404,  427,  399,  ...,  234,  272,  271],\n",
       "         [ 408,  407,  378,  ...,  247,  270,  247],\n",
       "         [ 410,  444,  331,  ...,  265,  265,  261],\n",
       "         ...,\n",
       "         [ 323,  285,  304,  ...,   96,   90,  190],\n",
       "         [ 300,  324,  336,  ...,   76,   82,   89],\n",
       "         [ 299,  331,  319,  ...,   77,   42,   37]],\n",
       "\n",
       "        [[ 406,  424,  405,  ...,  232,  272,  271],\n",
       "         [ 409,  402,  381,  ...,  247,  265,  248],\n",
       "         [ 415,  443,  330,  ...,  262,  269,  256],\n",
       "         ...,\n",
       "         [ 316,  289,  315,  ...,   98,   93,  188],\n",
       "         [ 304,  337,  338,  ...,   76,   79,   91],\n",
       "         [ 302,  331,  322,  ...,   80,   44,   41]],\n",
       "\n",
       "        [[ 396,  424,  400,  ...,  231,  270,  267],\n",
       "         [ 405,  397,  374,  ...,  248,  260,  250],\n",
       "         [ 415,  441,  329,  ...,  257,  267,  251],\n",
       "         ...,\n",
       "         [ 311,  290,  319,  ...,  101,   91,  185],\n",
       "         [ 304,  334,  336,  ...,   75,   80,   92],\n",
       "         [ 298,  328,  322,  ...,   76,   41,   43]],\n",
       "\n",
       "        ...,\n",
       "\n",
       "        [[1568, 1555, 1556,  ..., 1004, 1038, 1030],\n",
       "         [1570, 1557, 1452,  ...,  982, 1023, 1061],\n",
       "         [1416, 1571, 1384,  ..., 1024, 1053, 1069],\n",
       "         ...,\n",
       "         [1215, 1120, 1151,  ...,  733, 1083, 1368],\n",
       "         [1140, 1127, 1167,  ...,  514,  628,  729],\n",
       "         [1126, 1133, 1211,  ...,  388,  342,  542]],\n",
       "\n",
       "        [[1575, 1560, 1562,  ..., 1009, 1042, 1033],\n",
       "         [1577, 1562, 1457,  ...,  987, 1024, 1064],\n",
       "         [1421, 1575, 1391,  ..., 1027, 1056, 1072],\n",
       "         ...,\n",
       "         [1219, 1123, 1153,  ...,  743, 1102, 1383],\n",
       "         [1146, 1129, 1170,  ...,  519,  638,  738],\n",
       "         [1131, 1135, 1215,  ...,  386,  342,  550]],\n",
       "\n",
       "        [[1582, 1565, 1569,  ..., 1015, 1046, 1035],\n",
       "         [1584, 1568, 1463,  ...,  991, 1025, 1066],\n",
       "         [1426, 1580, 1399,  ..., 1031, 1059, 1076],\n",
       "         ...,\n",
       "         [1222, 1127, 1156,  ...,  752, 1121, 1399],\n",
       "         [1151, 1132, 1173,  ...,  524,  647,  747],\n",
       "         [1136, 1138, 1218,  ...,  385,  343,  559]]], dtype=torch.int16)"
      ]
     },
     "execution_count": 10,
     "metadata": {},
     "output_type": "execute_result"
    }
   ],
   "source": [
    "tensor_data = torch.as_tensor(arr.data)\n",
    "tensor_data"
   ]
  },
  {
   "cell_type": "code",
   "execution_count": 11,
   "id": "4912e083-fe72-4865-aa58-f9ef54bf0659",
   "metadata": {},
   "outputs": [
    {
     "data": {
      "text/plain": [
       "torch.Size([150, 101, 115])"
      ]
     },
     "execution_count": 11,
     "metadata": {},
     "output_type": "execute_result"
    }
   ],
   "source": [
    "tensor_data.shape"
   ]
  },
  {
   "cell_type": "code",
   "execution_count": 12,
   "id": "48d9005f-7e99-4bf7-9486-2b7701efaafd",
   "metadata": {
    "tags": []
   },
   "outputs": [
    {
     "data": {
      "text/plain": [
       "tensor([[[False, False, False,  ..., False, False, False],\n",
       "         [False, False, False,  ..., False, False, False],\n",
       "         [False, False, False,  ..., False, False, False],\n",
       "         ...,\n",
       "         [False,  True,  True,  ..., False, False, False],\n",
       "         [False, False, False,  ..., False, False, False],\n",
       "         [False, False, False,  ..., False, False, False]],\n",
       "\n",
       "        [[False, False, False,  ..., False, False, False],\n",
       "         [False, False, False,  ..., False, False, False],\n",
       "         [False, False, False,  ..., False, False, False],\n",
       "         ...,\n",
       "         [False,  True,  True,  ..., False, False, False],\n",
       "         [False, False, False,  ..., False, False, False],\n",
       "         [False, False, False,  ..., False, False, False]],\n",
       "\n",
       "        [[False, False, False,  ..., False, False, False],\n",
       "         [False, False, False,  ..., False, False, False],\n",
       "         [False, False, False,  ..., False, False, False],\n",
       "         ...,\n",
       "         [False,  True,  True,  ..., False, False, False],\n",
       "         [False, False, False,  ..., False, False, False],\n",
       "         [False, False, False,  ..., False, False, False]],\n",
       "\n",
       "        ...,\n",
       "\n",
       "        [[False, False, False,  ..., False, False, False],\n",
       "         [False, False, False,  ..., False, False, False],\n",
       "         [False, False, False,  ..., False, False, False],\n",
       "         ...,\n",
       "         [False,  True,  True,  ..., False, False, False],\n",
       "         [False, False, False,  ..., False, False, False],\n",
       "         [False, False, False,  ..., False, False, False]],\n",
       "\n",
       "        [[False, False, False,  ..., False, False, False],\n",
       "         [False, False, False,  ..., False, False, False],\n",
       "         [False, False, False,  ..., False, False, False],\n",
       "         ...,\n",
       "         [False,  True,  True,  ..., False, False, False],\n",
       "         [False, False, False,  ..., False, False, False],\n",
       "         [False, False, False,  ..., False, False, False]],\n",
       "\n",
       "        [[False, False, False,  ..., False, False, False],\n",
       "         [False, False, False,  ..., False, False, False],\n",
       "         [False, False, False,  ..., False, False, False],\n",
       "         ...,\n",
       "         [False,  True,  True,  ..., False, False, False],\n",
       "         [False, False, False,  ..., False, False, False],\n",
       "         [False, False, False,  ..., False, False, False]]])"
      ]
     },
     "execution_count": 12,
     "metadata": {},
     "output_type": "execute_result"
    }
   ],
   "source": [
    "tensor_mask_bool = ~torch.as_tensor(arr.mask)\n",
    "tensor_mask_bool"
   ]
  },
  {
   "cell_type": "code",
   "execution_count": 13,
   "id": "c20f9135-d2db-4b46-a3f0-366be5f07d49",
   "metadata": {},
   "outputs": [],
   "source": [
    "tensor_mask_bool_array = tensor_mask_bool.cpu().numpy()"
   ]
  },
  {
   "cell_type": "code",
   "execution_count": 14,
   "id": "9e4a86fd-a2d9-4c9f-99af-2074446bd2ca",
   "metadata": {},
   "outputs": [
    {
     "data": {
      "text/plain": [
       "torch.Size([150, 101, 115])"
      ]
     },
     "execution_count": 14,
     "metadata": {},
     "output_type": "execute_result"
    }
   ],
   "source": [
    "tensor_mask_bool.shape"
   ]
  },
  {
   "cell_type": "code",
   "execution_count": 15,
   "id": "5877670d-793e-4278-a2b3-f8280c273a3c",
   "metadata": {
    "tags": []
   },
   "outputs": [
    {
     "data": {
      "text/plain": [
       "tensor([[[   0,    0,    0,  ...,    0,    0,    0],\n",
       "         [   0,    0,    0,  ...,    0,    0,    0],\n",
       "         [   0,    0,    0,  ...,    0,    0,    0],\n",
       "         ...,\n",
       "         [   0,  285,  304,  ...,    0,    0,    0],\n",
       "         [   0,    0,    0,  ...,    0,    0,    0],\n",
       "         [   0,    0,    0,  ...,    0,    0,    0]],\n",
       "\n",
       "        [[   0,    0,    0,  ...,    0,    0,    0],\n",
       "         [   0,    0,    0,  ...,    0,    0,    0],\n",
       "         [   0,    0,    0,  ...,    0,    0,    0],\n",
       "         ...,\n",
       "         [   0,  289,  315,  ...,    0,    0,    0],\n",
       "         [   0,    0,    0,  ...,    0,    0,    0],\n",
       "         [   0,    0,    0,  ...,    0,    0,    0]],\n",
       "\n",
       "        [[   0,    0,    0,  ...,    0,    0,    0],\n",
       "         [   0,    0,    0,  ...,    0,    0,    0],\n",
       "         [   0,    0,    0,  ...,    0,    0,    0],\n",
       "         ...,\n",
       "         [   0,  290,  319,  ...,    0,    0,    0],\n",
       "         [   0,    0,    0,  ...,    0,    0,    0],\n",
       "         [   0,    0,    0,  ...,    0,    0,    0]],\n",
       "\n",
       "        ...,\n",
       "\n",
       "        [[   0,    0,    0,  ...,    0,    0,    0],\n",
       "         [   0,    0,    0,  ...,    0,    0,    0],\n",
       "         [   0,    0,    0,  ...,    0,    0,    0],\n",
       "         ...,\n",
       "         [   0, 1120, 1151,  ...,    0,    0,    0],\n",
       "         [   0,    0,    0,  ...,    0,    0,    0],\n",
       "         [   0,    0,    0,  ...,    0,    0,    0]],\n",
       "\n",
       "        [[   0,    0,    0,  ...,    0,    0,    0],\n",
       "         [   0,    0,    0,  ...,    0,    0,    0],\n",
       "         [   0,    0,    0,  ...,    0,    0,    0],\n",
       "         ...,\n",
       "         [   0, 1123, 1153,  ...,    0,    0,    0],\n",
       "         [   0,    0,    0,  ...,    0,    0,    0],\n",
       "         [   0,    0,    0,  ...,    0,    0,    0]],\n",
       "\n",
       "        [[   0,    0,    0,  ...,    0,    0,    0],\n",
       "         [   0,    0,    0,  ...,    0,    0,    0],\n",
       "         [   0,    0,    0,  ...,    0,    0,    0],\n",
       "         ...,\n",
       "         [   0, 1127, 1156,  ...,    0,    0,    0],\n",
       "         [   0,    0,    0,  ...,    0,    0,    0],\n",
       "         [   0,    0,    0,  ...,    0,    0,    0]]], dtype=torch.int16)"
      ]
     },
     "execution_count": 15,
     "metadata": {},
     "output_type": "execute_result"
    }
   ],
   "source": [
    "tensor_data_masked = torch.mul(tensor_data, tensor_mask_bool)\n",
    "tensor_data_masked"
   ]
  },
  {
   "cell_type": "code",
   "execution_count": 16,
   "id": "fa509541-7d9b-437b-a2f4-7923d7b1f7fb",
   "metadata": {},
   "outputs": [],
   "source": [
    "tensor_data_masked_array = tensor_data_masked.cpu().numpy()"
   ]
  },
  {
   "cell_type": "code",
   "execution_count": 17,
   "id": "7afee94c-8f56-41ad-89c7-eaa5ee85cd85",
   "metadata": {
    "tags": []
   },
   "outputs": [
    {
     "data": {
      "image/png": "[encoded data removed]",
      "text/plain": [
       "<Figure size 720x720 with 4 Axes>"
      ]
     },
     "metadata": {
      "needs_background": "light"
     },
     "output_type": "display_data"
    }
   ],
   "source": [
    "fig, axs = plt.subplots(2, 2, figsize=(10, 10))\n",
    "\n",
    "axs[0, 0].imshow(tensor_mask_bool_array[0, :, :].data)\n",
    "axs[0, 1].imshow(tensor_data[0, :, :])\n",
    "\n",
    "axs[1, 0].imshow(tensor_data_masked_array[0, :, :])\n",
    "plt.suptitle(f'Representation of band', fontsize=15)\n",
    "plt.show()"
   ]
  },
  {
   "cell_type": "markdown",
   "id": "5189211e-cf64-4a74-bb3e-52142a1a5666",
   "metadata": {},
   "source": [
    "### Random crop"
   ]
  },
  {
   "cell_type": "code",
   "execution_count": 154,
   "id": "05ccb89e-5fb2-49b6-9cd9-36676e491f3c",
   "metadata": {},
   "outputs": [],
   "source": [
    "from albumentations.augmentations.crops.functional import random_crop as functional_random_crop\n",
    "import random"
   ]
  },
  {
   "cell_type": "code",
   "execution_count": 30,
   "id": "14ef48ad-b122-4ce4-95e4-164cf5fe67be",
   "metadata": {
    "tags": []
   },
   "outputs": [
    {
     "data": {
      "text/plain": [
       "(150, 101, 115)"
      ]
     },
     "execution_count": 30,
     "metadata": {},
     "output_type": "execute_result"
    }
   ],
   "source": [
    "tensor_data_masked_array.shape"
   ]
  },
  {
   "cell_type": "code",
   "execution_count": 152,
   "id": "3f846eba-abe6-4657-ae7c-72c20e851d59",
   "metadata": {},
   "outputs": [
    {
     "name": "stdout",
     "output_type": "stream",
     "text": [
      "1\n"
     ]
    }
   ],
   "source": [
    "i = 0\n",
    "empty = True\n",
    "while empty:\n",
    "    i += 1\n",
    "    print(i)\n",
    "    cropped = np.transpose(random_crop(np.transpose(tensor_data_masked_array, (1,2,0)), 11, 11, random.random(), random.random()), (2,0,1))\n",
    "    if np.count_nonzero(cropped[0]) > 60:\n",
    "        empty=False"
   ]
  },
  {
   "cell_type": "code",
   "execution_count": 153,
   "id": "a94bbd3f-b3ef-420b-873b-9ec91f9f93ef",
   "metadata": {},
   "outputs": [
    {
     "data": {
      "text/plain": [
       "119"
      ]
     },
     "execution_count": 153,
     "metadata": {},
     "output_type": "execute_result"
    }
   ],
   "source": [
    "np.count_nonzero(cropped[0])"
   ]
  },
  {
   "cell_type": "code",
   "execution_count": 104,
   "id": "993d63dd-d264-484d-83cb-7fddc214189d",
   "metadata": {},
   "outputs": [
    {
     "data": {
      "text/plain": [
       "(150, 11, 11)"
      ]
     },
     "execution_count": 104,
     "metadata": {},
     "output_type": "execute_result"
    }
   ],
   "source": [
    "cropped.shape"
   ]
  },
  {
   "cell_type": "code",
   "execution_count": 105,
   "id": "6c57d40d-7dd9-41c9-bef6-e5a1963feee7",
   "metadata": {},
   "outputs": [
    {
     "data": {
      "image/png": "[encoded data removed]",
      "text/plain": [
       "<Figure size 720x720 with 4 Axes>"
      ]
     },
     "metadata": {
      "needs_background": "light"
     },
     "output_type": "display_data"
    }
   ],
   "source": [
    "fig, axs = plt.subplots(2, 2, figsize=(10, 10))\n",
    "\n",
    "axs[0, 0].imshow(tensor_mask_bool_array[0, :, :].data)\n",
    "axs[0, 1].imshow(tensor_data[0, :, :])\n",
    "\n",
    "axs[1, 0].imshow(tensor_data_masked_array[0, :, :])\n",
    "axs[1, 1].imshow(cropped[0, :, :])\n",
    "plt.suptitle(f'Representation of band', fontsize=15)\n",
    "plt.show()"
   ]
  },
  {
   "cell_type": "code",
   "execution_count": null,
   "id": "f9b87303-9495-4516-a6cd-25a37d945ef3",
   "metadata": {},
   "outputs": [],
   "source": []
  },
  {
   "cell_type": "markdown",
   "id": "a04e236c-7a92-449c-81c8-7ed43256a2bf",
   "metadata": {},
   "source": [
    "### Padding to minimum size"
   ]
  },
  {
   "cell_type": "code",
   "execution_count": 41,
   "id": "52844ad8-752b-46e6-99f8-033e65b21e62",
   "metadata": {},
   "outputs": [],
   "source": [
    "def pad_to_minimum_size(min_size, image):\n",
    "    c, h, w = image.shape\n",
    "    h_diff = (min_size - h)/2\n",
    "    w_diff = (min_size - w)/2\n",
    "    print(h_diff, w_diff)\n",
    "\n",
    "    if not h_diff.is_integer():\n",
    "        h_pad1 = int(h_diff - 0.5)\n",
    "        h_pad2 = int(h_diff + 0.5)\n",
    "    else:\n",
    "        h_pad1 = h_pad2 = int(h_diff)\n",
    "\n",
    "    if not w_diff.is_integer():\n",
    "        w_pad1 = int(w_diff - 0.5)\n",
    "        w_pad2 = int(w_diff + 0.5)\n",
    "    else:\n",
    "        w_pad1 = w_pad2 = int(w_diff)\n",
    "\n",
    "    print(h_pad1, h_pad2, w_pad1, w_pad2)\n",
    "    # check if any padding is bigger than zero\n",
    "    if h_pad1+h_pad2+w_pad1+h_pad2 == 0:\n",
    "        return image\n",
    "    else:\n",
    "        return transforms.functional.pad(image, (w_pad1, h_pad1, w_pad2, h_pad2), fill=0)"
   ]
  },
  {
   "cell_type": "code",
   "execution_count": 42,
   "id": "fbacb084-e4c0-4645-a04c-da9e0defda86",
   "metadata": {
    "tags": []
   },
   "outputs": [
    {
     "name": "stdout",
     "output_type": "stream",
     "text": [
      "144.5 144.5\n",
      "144 145 144 145\n"
     ]
    },
    {
     "data": {
      "text/plain": [
       "torch.Size([150, 300, 300])"
      ]
     },
     "execution_count": 42,
     "metadata": {},
     "output_type": "execute_result"
    }
   ],
   "source": [
    "pad_to_minimum_size(300, tensor_data_masked).shape"
   ]
  },
  {
   "cell_type": "code",
   "execution_count": 43,
   "id": "5841efa4-2fbc-4dcc-8776-90664841d5f8",
   "metadata": {},
   "outputs": [
    {
     "data": {
      "text/plain": [
       "tensor([[False, False, False, False,  True,  True,  True,  True, False, False,\n",
       "         False],\n",
       "        [False, False, False,  True,  True,  True,  True,  True,  True, False,\n",
       "         False],\n",
       "        [False, False,  True,  True,  True,  True,  True,  True,  True,  True,\n",
       "         False],\n",
       "        [False,  True,  True,  True,  True,  True,  True,  True,  True,  True,\n",
       "          True],\n",
       "        [False,  True,  True,  True,  True,  True,  True,  True,  True,  True,\n",
       "          True],\n",
       "        [False,  True,  True,  True,  True,  True,  True,  True,  True,  True,\n",
       "          True],\n",
       "        [False,  True,  True,  True,  True,  True,  True,  True,  True,  True,\n",
       "          True],\n",
       "        [False, False,  True,  True,  True,  True,  True,  True,  True,  True,\n",
       "         False],\n",
       "        [False, False,  True,  True,  True,  True,  True,  True,  True,  True,\n",
       "         False],\n",
       "        [False, False, False, False,  True,  True,  True,  True, False, False,\n",
       "         False],\n",
       "        [False, False, False, False, False, False, False, False, False, False,\n",
       "         False]])"
      ]
     },
     "execution_count": 43,
     "metadata": {},
     "output_type": "execute_result"
    }
   ],
   "source": [
    "tensor_mask_bool[0]"
   ]
  },
  {
   "cell_type": "code",
   "execution_count": 44,
   "id": "5671b028-adec-45e7-8c7f-1284708bd56c",
   "metadata": {
    "tags": []
   },
   "outputs": [
    {
     "name": "stdout",
     "output_type": "stream",
     "text": [
      "144.5 144.5\n",
      "144 145 144 145\n"
     ]
    },
    {
     "data": {
      "text/plain": [
       "torch.Size([150, 300, 300])"
      ]
     },
     "execution_count": 44,
     "metadata": {},
     "output_type": "execute_result"
    }
   ],
   "source": [
    "padded_mask = pad_to_minimum_size(300, tensor_mask_bool)\n",
    "padded_mask.shape"
   ]
  },
  {
   "cell_type": "markdown",
   "id": "82ce3c54-d263-4d46-9827-0edb78150681",
   "metadata": {},
   "source": [
    "### Cropping from image center (center of mass, not center defined by image size)"
   ]
  },
  {
   "cell_type": "code",
   "execution_count": 45,
   "id": "3013fff3-aac7-4fa4-83f1-255870e845a9",
   "metadata": {},
   "outputs": [
    {
     "data": {
      "text/plain": [
       "(149, 150)"
      ]
     },
     "execution_count": 45,
     "metadata": {},
     "output_type": "execute_result"
    }
   ],
   "source": [
    "xcenter, ycenter = ndimage.center_of_mass(padded_mask.cpu().numpy()[0])\n",
    "xcenter = round(xcenter)\n",
    "ycenter = round(ycenter)\n",
    "xcenter, ycenter"
   ]
  },
  {
   "cell_type": "code",
   "execution_count": 46,
   "id": "b705f068-a712-430a-be24-88ec92911afc",
   "metadata": {},
   "outputs": [
    {
     "data": {
      "image/png": "[encoded data removed]",
      "text/plain": [
       "<Figure size 720x720 with 4 Axes>"
      ]
     },
     "metadata": {
      "needs_background": "light"
     },
     "output_type": "display_data"
    }
   ],
   "source": [
    "fig, axs = plt.subplots(2, 2, figsize=(10, 10))\n",
    "\n",
    "axs[0, 0].imshow(padded_mask.cpu().numpy()[0, :, :].data)\n",
    "axs[0, 1].imshow(padded_mask.cpu().numpy()[0, :, :])\n",
    "\n",
    "axs[1, 0].imshow(padded_mask.cpu().numpy()[0, xcenter -\n",
    "                 3:xcenter+3, ycenter-3:ycenter+3].data)\n",
    "axs[1, 1].imshow(padded_mask.cpu().numpy()[\n",
    "                 0, xcenter-3:xcenter+3, ycenter-3:ycenter+3])\n",
    "plt.suptitle(f'Representation of band', fontsize=15)\n",
    "plt.show()"
   ]
  },
  {
   "cell_type": "code",
   "execution_count": 47,
   "id": "3ad48128-7674-4148-99c6-8a0b73b632e5",
   "metadata": {},
   "outputs": [
    {
     "data": {
      "text/plain": [
       "array([[ True,  True,  True,  True,  True,  True],\n",
       "       [ True,  True,  True,  True,  True,  True],\n",
       "       [ True,  True,  True,  True,  True,  True],\n",
       "       [ True,  True,  True,  True,  True,  True],\n",
       "       [ True,  True,  True,  True,  True,  True],\n",
       "       [ True,  True,  True,  True,  True,  True]])"
      ]
     },
     "execution_count": 47,
     "metadata": {},
     "output_type": "execute_result"
    }
   ],
   "source": [
    "padded_mask.cpu().numpy()[0, xcenter-3:xcenter+3, ycenter-3:ycenter+3]"
   ]
  },
  {
   "cell_type": "markdown",
   "id": "f80dc9fe-75d0-4297-b2fe-e50637b59d2b",
   "metadata": {},
   "source": [
    "### Load mean and std values of training dataset"
   ]
  },
  {
   "cell_type": "code",
   "execution_count": 48,
   "id": "d936e375-5279-40c8-90f3-83bdca3a4ff1",
   "metadata": {},
   "outputs": [],
   "source": [
    "means_stds_arrays = np.load(os.path.join(\n",
    "    train_data_directory, 'means_stds_values_training_data.npz'))\n",
    "means = np.array(means_stds_arrays['means'])\n",
    "stds = np.array(means_stds_arrays['stds'])"
   ]
  },
  {
   "cell_type": "code",
   "execution_count": 68,
   "id": "16b6be99-4759-44f4-a3d6-b3ae594eab86",
   "metadata": {},
   "outputs": [
    {
     "data": {
      "text/plain": [
       "array([ 380.69796802,  380.21821851,  375.3940629 ,  382.71272947,\n",
       "        391.81669256,  410.10678125,  420.41193138,  421.08248316,\n",
       "        423.20969611,  425.81389112,  430.95761155,  439.05738586,\n",
       "        445.26178594,  461.91868367,  477.43015924,  485.56633886,\n",
       "        495.79435244,  506.11479424,  516.21051538,  516.61082525,\n",
       "        524.84494072,  540.76026153,  564.61822547,  591.09354295,\n",
       "        605.75960043,  614.83378331,  627.6840351 ,  635.5344616 ,\n",
       "        647.94085424,  656.72806681,  668.8680145 ,  677.99659314,\n",
       "        684.74873347,  688.01498046,  688.04223336,  688.97582589,\n",
       "        696.23302946,  701.02919897,  709.25500755,  718.55036443,\n",
       "        728.37434222,  733.84572864,  738.39068489,  741.44088322,\n",
       "        748.6318281 ,  756.17877348,  760.00557153,  759.43438242,\n",
       "        762.72246294,  767.03586947,  773.64687428,  778.32746172,\n",
       "        780.86499286,  780.77923217,  785.33772712,  790.63138794,\n",
       "        796.5748069 ,  811.86655394,  819.21326698,  815.95279252,\n",
       "        808.08316084,  798.0183667 ,  791.93114379,  789.99291146,\n",
       "        794.90947471,  788.23352936,  784.56121853,  789.41557873,\n",
       "        801.03432447,  834.42034146,  878.79275192,  929.25097568,\n",
       "        978.53916882, 1020.14793366, 1052.82700822, 1082.13647202,\n",
       "       1121.25565811, 1157.24963655, 1193.23372855, 1229.22170396,\n",
       "       1265.19884073, 1301.18186913, 1336.51850108, 1373.45106016,\n",
       "       1409.30746412, 1445.39315184, 1481.40714473, 1515.3905494 ,\n",
       "       1545.13473697, 1569.15800659, 1587.19371118, 1600.24564662,\n",
       "       1611.14798072, 1618.41598076, 1624.41471945, 1636.82407674,\n",
       "       1651.08853781, 1666.08876785, 1680.96981672, 1694.38137773,\n",
       "       1705.19789911, 1712.94946349, 1718.21456108, 1722.91158693,\n",
       "       1730.55035833, 1737.5987783 , 1742.553785  , 1748.50198962,\n",
       "       1754.68598155, 1760.65398336, 1766.62671079, 1772.59518591,\n",
       "       1778.5659733 , 1784.53430772, 1789.99348763, 1797.68676526,\n",
       "       1801.18511645, 1807.4375041 , 1813.39441893, 1824.09520685,\n",
       "       1830.7658762 , 1820.10371424, 1812.44708525, 1817.1196886 ,\n",
       "       1820.98295153, 1824.24790772, 1824.15426843, 1825.12159493,\n",
       "       1818.28913537, 1813.98123371, 1807.43855948, 1815.27490685,\n",
       "       1835.43317399, 1843.91947547, 1846.37682203, 1852.26043741,\n",
       "       1854.83899713, 1857.76872349, 1859.67764696, 1861.18154735,\n",
       "       1860.3290276 , 1862.85021456, 1864.37379423, 1866.0593395 ,\n",
       "       1867.85901734, 1869.81049395, 1871.76716847, 1873.23682754,\n",
       "       1874.24103488, 1875.27787769])"
      ]
     },
     "execution_count": 68,
     "metadata": {},
     "output_type": "execute_result"
    }
   ],
   "source": [
    "means"
   ]
  },
  {
   "cell_type": "code",
   "execution_count": 49,
   "id": "9bce3a11-f779-4c34-8385-f11812ee5ed4",
   "metadata": {
    "tags": []
   },
   "outputs": [
    {
     "data": {
      "text/plain": [
       "tensor([[[-10.0814, -10.0814, -10.0814,  ..., -10.0814, -10.0814, -10.0814],\n",
       "         [-10.0814, -10.0814, -10.0814,  ...,   1.3321, -10.0814, -10.0814],\n",
       "         [-10.0814, -10.0814,   0.5906,  ...,   1.0143,   1.0673, -10.0814],\n",
       "         ...,\n",
       "         [-10.0814, -10.0814,   1.0937,  ...,   1.2791,   1.2526, -10.0814],\n",
       "         [-10.0814, -10.0814, -10.0814,  ..., -10.0814, -10.0814, -10.0814],\n",
       "         [-10.0814, -10.0814, -10.0814,  ..., -10.0814, -10.0814, -10.0814]],\n",
       "\n",
       "        [[-10.0445, -10.0445, -10.0445,  ..., -10.0445, -10.0445, -10.0445],\n",
       "         [-10.0445, -10.0445, -10.0445,  ...,   1.1830, -10.0445, -10.0445],\n",
       "         [-10.0445, -10.0445,   0.3641,  ...,   0.9717,   0.7868, -10.0445],\n",
       "         ...,\n",
       "         [-10.0445, -10.0445,   0.9717,  ...,   1.1302,   1.1302, -10.0445],\n",
       "         [-10.0445, -10.0445, -10.0445,  ..., -10.0445, -10.0445, -10.0445],\n",
       "         [-10.0445, -10.0445, -10.0445,  ..., -10.0445, -10.0445, -10.0445]],\n",
       "\n",
       "        [[ -9.9486,  -9.9486,  -9.9486,  ...,  -9.9486,  -9.9486,  -9.9486],\n",
       "         [ -9.9486,  -9.9486,  -9.9486,  ...,   1.2351,  -9.9486,  -9.9486],\n",
       "         [ -9.9486,  -9.9486,   0.3606,  ...,   0.9966,   0.8641,  -9.9486],\n",
       "         ...,\n",
       "         [ -9.9486,  -9.9486,   0.9966,  ...,   1.0496,   1.2881,  -9.9486],\n",
       "         [ -9.9486,  -9.9486,  -9.9486,  ...,  -9.9486,  -9.9486,  -9.9486],\n",
       "         [ -9.9486,  -9.9486,  -9.9486,  ...,  -9.9486,  -9.9486,  -9.9486]],\n",
       "\n",
       "        ...,\n",
       "\n",
       "        [[ -9.8661,  -9.8661,  -9.8661,  ...,  -9.8661,  -9.8661,  -9.8661],\n",
       "         [ -9.8661,  -9.8661,  -9.8661,  ...,  -3.7565,  -9.8661,  -9.8661],\n",
       "         [ -9.8661,  -9.8661,  -3.6459,  ...,  -3.7407,  -3.8671,  -9.8661],\n",
       "         ...,\n",
       "         [ -9.8661,  -9.8661,  -3.4563,  ...,  -3.5090,  -3.5142,  -9.8661],\n",
       "         [ -9.8661,  -9.8661,  -9.8661,  ...,  -9.8661,  -9.8661,  -9.8661],\n",
       "         [ -9.8661,  -9.8661,  -9.8661,  ...,  -9.8661,  -9.8661,  -9.8661]],\n",
       "\n",
       "        [[ -9.9108,  -9.9108,  -9.9108,  ...,  -9.9108,  -9.9108,  -9.9108],\n",
       "         [ -9.9108,  -9.9108,  -9.9108,  ...,  -3.7768,  -9.9108,  -9.9108],\n",
       "         [ -9.9108,  -9.9108,  -3.6552,  ...,  -3.7504,  -3.8773,  -9.9108],\n",
       "         ...,\n",
       "         [ -9.9108,  -9.9108,  -3.4701,  ...,  -3.5124,  -3.5283,  -9.9108],\n",
       "         [ -9.9108,  -9.9108,  -9.9108,  ...,  -9.9108,  -9.9108,  -9.9108],\n",
       "         [ -9.9108,  -9.9108,  -9.9108,  ...,  -9.9108,  -9.9108,  -9.9108]],\n",
       "\n",
       "        [[ -9.9569,  -9.9569,  -9.9569,  ...,  -9.9569,  -9.9569,  -9.9569],\n",
       "         [ -9.9569,  -9.9569,  -9.9569,  ...,  -3.7925,  -9.9569,  -9.9569],\n",
       "         [ -9.9569,  -9.9569,  -3.6704,  ...,  -3.7659,  -3.8934,  -9.9569],\n",
       "         ...,\n",
       "         [ -9.9569,  -9.9569,  -3.4792,  ...,  -3.5217,  -3.5376,  -9.9569],\n",
       "         [ -9.9569,  -9.9569,  -9.9569,  ...,  -9.9569,  -9.9569,  -9.9569],\n",
       "         [ -9.9569,  -9.9569,  -9.9569,  ...,  -9.9569,  -9.9569,  -9.9569]]])"
      ]
     },
     "execution_count": 49,
     "metadata": {},
     "output_type": "execute_result"
    }
   ],
   "source": [
    "tensor_data_masked_normalized = transforms.functional.normalize(torch.as_tensor(\n",
    "    tensor_data_masked, dtype=torch.float), mean=means.tolist(), std=stds.tolist())\n",
    "tensor_data_masked_normalized"
   ]
  },
  {
   "cell_type": "code",
   "execution_count": 72,
   "id": "8a2776f5-950d-492c-9384-74ce178f46c7",
   "metadata": {},
   "outputs": [
    {
     "data": {
      "text/plain": [
       "(tensor(-2.9002), tensor(5.3355))"
      ]
     },
     "execution_count": 72,
     "metadata": {},
     "output_type": "execute_result"
    }
   ],
   "source": [
    "band = 1\n",
    "tensor_data_masked_normalized[band].mean(), tensor_data_masked_normalized[band].std()"
   ]
  },
  {
   "cell_type": "markdown",
   "id": "0ab91e25-bba3-4392-86ac-3f4c7e3f90b2",
   "metadata": {},
   "source": [
    "### Ground Truth"
   ]
  },
  {
   "cell_type": "code",
   "execution_count": 6,
   "id": "73d23c72-f9c9-4afe-99c9-48259b1f2f80",
   "metadata": {},
   "outputs": [],
   "source": [
    "temp_gt = pd.read_csv(os.path.join(train_data_directory, 'train_gt.csv'))[\n",
    "    ['sample_index', 'P', 'K', 'Mg', 'pH']]"
   ]
  },
  {
   "cell_type": "code",
   "execution_count": 7,
   "id": "748084b4-b993-42d2-92fd-074f314e1625",
   "metadata": {
    "tags": []
   },
   "outputs": [
    {
     "data": {
      "text/html": [
       "<div>\n",
       "<style scoped>\n",
       "    .dataframe tbody tr th:only-of-type {\n",
       "        vertical-align: middle;\n",
       "    }\n",
       "\n",
       "    .dataframe tbody tr th {\n",
       "        vertical-align: top;\n",
       "    }\n",
       "\n",
       "    .dataframe thead th {\n",
       "        text-align: right;\n",
       "    }\n",
       "</style>\n",
       "<table border=\"1\" class=\"dataframe\">\n",
       "  <thead>\n",
       "    <tr style=\"text-align: right;\">\n",
       "      <th></th>\n",
       "      <th>sample_index</th>\n",
       "      <th>P</th>\n",
       "      <th>K</th>\n",
       "      <th>Mg</th>\n",
       "      <th>pH</th>\n",
       "    </tr>\n",
       "  </thead>\n",
       "  <tbody>\n",
       "    <tr>\n",
       "      <th>0</th>\n",
       "      <td>0</td>\n",
       "      <td>45.1</td>\n",
       "      <td>188.0</td>\n",
       "      <td>179.0</td>\n",
       "      <td>7.2</td>\n",
       "    </tr>\n",
       "    <tr>\n",
       "      <th>1</th>\n",
       "      <td>1</td>\n",
       "      <td>44.8</td>\n",
       "      <td>205.0</td>\n",
       "      <td>188.0</td>\n",
       "      <td>7.0</td>\n",
       "    </tr>\n",
       "    <tr>\n",
       "      <th>2</th>\n",
       "      <td>2</td>\n",
       "      <td>44.4</td>\n",
       "      <td>207.0</td>\n",
       "      <td>145.0</td>\n",
       "      <td>6.8</td>\n",
       "    </tr>\n",
       "    <tr>\n",
       "      <th>3</th>\n",
       "      <td>3</td>\n",
       "      <td>46.5</td>\n",
       "      <td>204.0</td>\n",
       "      <td>143.0</td>\n",
       "      <td>6.8</td>\n",
       "    </tr>\n",
       "    <tr>\n",
       "      <th>4</th>\n",
       "      <td>4</td>\n",
       "      <td>52.0</td>\n",
       "      <td>212.0</td>\n",
       "      <td>167.0</td>\n",
       "      <td>6.7</td>\n",
       "    </tr>\n",
       "    <tr>\n",
       "      <th>...</th>\n",
       "      <td>...</td>\n",
       "      <td>...</td>\n",
       "      <td>...</td>\n",
       "      <td>...</td>\n",
       "      <td>...</td>\n",
       "    </tr>\n",
       "    <tr>\n",
       "      <th>1727</th>\n",
       "      <td>1727</td>\n",
       "      <td>40.8</td>\n",
       "      <td>133.0</td>\n",
       "      <td>132.0</td>\n",
       "      <td>6.2</td>\n",
       "    </tr>\n",
       "    <tr>\n",
       "      <th>1728</th>\n",
       "      <td>1728</td>\n",
       "      <td>42.7</td>\n",
       "      <td>192.0</td>\n",
       "      <td>126.0</td>\n",
       "      <td>6.5</td>\n",
       "    </tr>\n",
       "    <tr>\n",
       "      <th>1729</th>\n",
       "      <td>1729</td>\n",
       "      <td>39.4</td>\n",
       "      <td>180.0</td>\n",
       "      <td>122.0</td>\n",
       "      <td>6.5</td>\n",
       "    </tr>\n",
       "    <tr>\n",
       "      <th>1730</th>\n",
       "      <td>1730</td>\n",
       "      <td>37.3</td>\n",
       "      <td>162.0</td>\n",
       "      <td>127.0</td>\n",
       "      <td>6.5</td>\n",
       "    </tr>\n",
       "    <tr>\n",
       "      <th>1731</th>\n",
       "      <td>1731</td>\n",
       "      <td>29.5</td>\n",
       "      <td>146.0</td>\n",
       "      <td>133.0</td>\n",
       "      <td>6.3</td>\n",
       "    </tr>\n",
       "  </tbody>\n",
       "</table>\n",
       "<p>1732 rows × 5 columns</p>\n",
       "</div>"
      ],
      "text/plain": [
       "      sample_index     P      K     Mg   pH\n",
       "0                0  45.1  188.0  179.0  7.2\n",
       "1                1  44.8  205.0  188.0  7.0\n",
       "2                2  44.4  207.0  145.0  6.8\n",
       "3                3  46.5  204.0  143.0  6.8\n",
       "4                4  52.0  212.0  167.0  6.7\n",
       "...            ...   ...    ...    ...  ...\n",
       "1727          1727  40.8  133.0  132.0  6.2\n",
       "1728          1728  42.7  192.0  126.0  6.5\n",
       "1729          1729  39.4  180.0  122.0  6.5\n",
       "1730          1730  37.3  162.0  127.0  6.5\n",
       "1731          1731  29.5  146.0  133.0  6.3\n",
       "\n",
       "[1732 rows x 5 columns]"
      ]
     },
     "execution_count": 7,
     "metadata": {},
     "output_type": "execute_result"
    }
   ],
   "source": [
    "temp_gt"
   ]
  },
  {
   "cell_type": "code",
   "execution_count": 12,
   "id": "178ddd17-5d6b-4a96-808d-2ab1a6e817bd",
   "metadata": {},
   "outputs": [
    {
     "data": {
      "text/plain": [
       "44.8"
      ]
     },
     "execution_count": 12,
     "metadata": {},
     "output_type": "execute_result"
    }
   ],
   "source": [
    "temp_gt.loc[1, 'P']"
   ]
  },
  {
   "cell_type": "markdown",
   "id": "69734912-1875-401f-9e0b-7afa7eac153e",
   "metadata": {},
   "source": [
    "### Dataset definition"
   ]
  },
  {
   "cell_type": "code",
   "execution_count": 6,
   "id": "55fc5b6c-09e5-49d5-9211-32d95db7fa30",
   "metadata": {},
   "outputs": [],
   "source": [
    "class HyperViewDataset(Dataset):\n",
    "    def __init__(self, gt_file, img_dir, transform=True, means=None, stds=None, train_transforms=False):\n",
    "        self.img_dir = img_dir\n",
    "        if gt_file is not None:\n",
    "            self.gt = pd.read_csv(gt_file)[['sample_index', 'P', 'K', 'Mg', 'pH']]\n",
    "        else:\n",
    "            self.gt = None\n",
    "        self.transform = transform  # whether to perform transformation of input data\n",
    "        # whether to perform transformations like on training data\n",
    "        self.train_transforms = train_transforms\n",
    "\n",
    "        if self.train_transforms:\n",
    "            self.training_transforms_composition = transforms.Compose([\n",
    "                transforms.RandomHorizontalFlip(p=0.4), transforms.RandomVerticalFlip(p=0.4)])\n",
    "\n",
    "        self.means = means  # mean values for every band used to normalize data\n",
    "        self.stds = stds  # std values for every band used to normalize data\n",
    "\n",
    "        self.img_files = np.array(\n",
    "            sorted(\n",
    "                glob(os.path.join(img_dir, \"*.npz\")),\n",
    "                key=lambda x: int(os.path.basename(x).replace(\".npz\", \"\")),\n",
    "            )\n",
    "        )\n",
    "\n",
    "    def pad_to_minimum_size(self, min_size, image):\n",
    "        # pads numpy array to defined in `min_size` minimum size of array (w, h)\n",
    "        c, h, w = image.shape\n",
    "        h_diff = (min_size - h)/2\n",
    "        w_diff = (min_size - w)/2\n",
    "\n",
    "        if not h_diff.is_integer():\n",
    "            h_pad1 = int(h_diff - 0.5)\n",
    "            h_pad2 = int(h_diff + 0.5)\n",
    "        else:\n",
    "            h_pad1 = h_pad2 = int(h_diff)\n",
    "\n",
    "        if not w_diff.is_integer():\n",
    "            w_pad1 = int(w_diff - 0.5)\n",
    "            w_pad2 = int(w_diff + 0.5)\n",
    "        else:\n",
    "            w_pad1 = w_pad2 = int(w_diff)\n",
    "\n",
    "        # check if any padding is bigger than zero\n",
    "        if h_pad1+h_pad2+w_pad1+h_pad2 == 0:\n",
    "            return image\n",
    "        else:\n",
    "            return transforms.functional.pad(image, (w_pad1, h_pad1, w_pad2, h_pad2), fill=0)\n",
    "\n",
    "    def __len__(self):\n",
    "        return len(self.img_files)\n",
    "\n",
    "    def __getitem__(self, idx):\n",
    "        # load hyperspectral image to array\n",
    "        img_arr = np.ma.MaskedArray(**np.load(self.img_files[idx]))\n",
    "        img_tensor = torch.as_tensor(img_arr.data, dtype=torch.float)\n",
    "        # Inverting mask is necessary due to masking method in numpy\n",
    "        img_tensor_mask = ~torch.as_tensor(img_arr.mask)\n",
    "        img_masked_tensor = torch.mul(img_tensor, img_tensor_mask)\n",
    "\n",
    "        if self.transform:\n",
    "            img_masked_tensor_transformed = transforms.functional.normalize(\n",
    "                img_masked_tensor, mean=self.means.tolist(), std=self.stds.tolist())\n",
    "            img_masked_tensor_transformed = self.pad_to_minimum_size(\n",
    "                300, img_masked_tensor_transformed)\n",
    "            if self.train_transforms:\n",
    "                img_masked_tensor_transformed = self.training_transforms_composition(\n",
    "                    img_masked_tensor_transformed)\n",
    "            img_result_tensor = img_masked_tensor_transformed\n",
    "        else:\n",
    "            img_result_tensor = img_masked_tensor\n",
    "        # load labels\n",
    "        if self.gt is not None:\n",
    "            P_gt = self.gt.loc[idx, 'P']\n",
    "            K_gt = self.gt.loc[idx, 'K']\n",
    "            Mg_gt = self.gt.loc[idx, 'Mg']\n",
    "            pH_gt = self.gt.loc[idx, 'pH']\n",
    "            sample_index = self.gt.loc[idx, 'sample_index']\n",
    "\n",
    "            sample = {'image': img_result_tensor, 'P': P_gt,\n",
    "                      'K': K_gt, 'Mg': Mg_gt, 'pH': pH_gt, 'sample_index': sample_index}\n",
    "        else:\n",
    "            sample = {'image': img_result_tensor}\n",
    "\n",
    "        return sample"
   ]
  },
  {
   "cell_type": "code",
   "execution_count": 7,
   "id": "29db8b86-b4a4-4f29-bea0-f51a2c824031",
   "metadata": {},
   "outputs": [],
   "source": [
    "train_data_whole = HyperViewDataset(os.path.join(train_data_directory, 'train_gt.csv'), os.path.join(\n",
    "    train_data_directory, 'train_data'), True, means, stds, train_transforms=True)"
   ]
  },
  {
   "cell_type": "code",
   "execution_count": 8,
   "id": "82ad2317-a57a-4b6c-831f-b5c2ed7280cc",
   "metadata": {},
   "outputs": [],
   "source": [
    "train_dataset, validation_dataset = random_split(train_data_whole, [1400, 332], generator=torch.Generator().manual_seed(22))\n",
    "# train_dataset = torch.utils.data.Subset(train_data_whole, list(range(0, 1400)))\n",
    "# validation_dataset = torch.utils.data.Subset(train_data_whole, list(range(1400, len(train_data_whole))))"
   ]
  },
  {
   "cell_type": "markdown",
   "id": "ab1cda9a-39f3-4b58-aea8-79c8dfccf9b1",
   "metadata": {},
   "source": [
    "### Model Definition"
   ]
  },
  {
   "cell_type": "code",
   "execution_count": 9,
   "id": "7722e05c-848f-4114-b6c0-bb718c705e9e",
   "metadata": {},
   "outputs": [],
   "source": [
    "import torchvision\n",
    "from torchvision import datasets, models, transforms"
   ]
  },
  {
   "cell_type": "code",
   "execution_count": 10,
   "id": "4320d9a1-a6c4-44a5-a5c4-8f9bd8b69e1f",
   "metadata": {},
   "outputs": [],
   "source": [
    "class ResNetCNN(nn.Module):\n",
    "    def __init__(self, pretrained):\n",
    "        super().__init__()\n",
    "        self.resnet_model = models.resnet50(pretrained=False)\n",
    "\n",
    "        self.resnet_model.conv1 = nn.Conv2d(150, 64, kernel_size=(\n",
    "            7, 7), stride=(2, 2), padding=(3, 3), bias=False)\n",
    "        self.resnet_model.fc = nn.Linear(\n",
    "            in_features=2048, out_features=4, bias=True)\n",
    "\n",
    "    def forward(self, x):\n",
    "        x = self.resnet_model(x)\n",
    "#         return {'P': x[0], 'K': x[1], 'Mg': x[2], 'pH': x[3]}\n",
    "        return x"
   ]
  },
  {
   "cell_type": "code",
   "execution_count": 11,
   "id": "d148a100-6ad0-439f-a8bc-9ccbdd091852",
   "metadata": {},
   "outputs": [
    {
     "data": {
      "text/plain": [
       "device(type='cuda', index=0)"
      ]
     },
     "execution_count": 11,
     "metadata": {},
     "output_type": "execute_result"
    }
   ],
   "source": [
    "device = torch.device(\"cuda:0\" if torch.cuda.is_available() else \"cpu\")\n",
    "device"
   ]
  },
  {
   "cell_type": "code",
   "execution_count": 12,
   "id": "2cb2cae6-e7ec-4206-9451-14ee6ae07475",
   "metadata": {},
   "outputs": [],
   "source": [
    "BATCH_SIZE = 12\n",
    "EPOCHS = 300"
   ]
  },
  {
   "cell_type": "code",
   "execution_count": 13,
   "id": "9c45de25-2011-4cca-8a1c-a6d30848926d",
   "metadata": {},
   "outputs": [],
   "source": [
    "train_dataloader = DataLoader(\n",
    "    train_dataset, batch_size=BATCH_SIZE, pin_memory=True, drop_last=True, num_workers=4, shuffle=True)\n",
    "validation_dataloader = DataLoader(\n",
    "    validation_dataset, batch_size=BATCH_SIZE, pin_memory=True, drop_last=True, num_workers=4, shuffle=True)"
   ]
  },
  {
   "cell_type": "markdown",
   "id": "6184ff00-8fc3-4ce0-8734-fc91aed6edf2",
   "metadata": {
    "tags": []
   },
   "source": [
    "### Overfitting on single batch of data"
   ]
  },
  {
   "cell_type": "code",
   "execution_count": 14,
   "id": "8aff7ef7-192e-47b2-a64c-28a07f2db0f8",
   "metadata": {
    "collapsed": true,
    "jupyter": {
     "outputs_hidden": true
    },
    "tags": []
   },
   "outputs": [
    {
     "data": {
      "text/plain": [
       "ResNetCNN(\n",
       "  (resnet_model): ResNet(\n",
       "    (conv1): Conv2d(150, 64, kernel_size=(7, 7), stride=(2, 2), padding=(3, 3), bias=False)\n",
       "    (bn1): BatchNorm2d(64, eps=1e-05, momentum=0.1, affine=True, track_running_stats=True)\n",
       "    (relu): ReLU(inplace=True)\n",
       "    (maxpool): MaxPool2d(kernel_size=3, stride=2, padding=1, dilation=1, ceil_mode=False)\n",
       "    (layer1): Sequential(\n",
       "      (0): Bottleneck(\n",
       "        (conv1): Conv2d(64, 64, kernel_size=(1, 1), stride=(1, 1), bias=False)\n",
       "        (bn1): BatchNorm2d(64, eps=1e-05, momentum=0.1, affine=True, track_running_stats=True)\n",
       "        (conv2): Conv2d(64, 64, kernel_size=(3, 3), stride=(1, 1), padding=(1, 1), bias=False)\n",
       "        (bn2): BatchNorm2d(64, eps=1e-05, momentum=0.1, affine=True, track_running_stats=True)\n",
       "        (conv3): Conv2d(64, 256, kernel_size=(1, 1), stride=(1, 1), bias=False)\n",
       "        (bn3): BatchNorm2d(256, eps=1e-05, momentum=0.1, affine=True, track_running_stats=True)\n",
       "        (relu): ReLU(inplace=True)\n",
       "        (downsample): Sequential(\n",
       "          (0): Conv2d(64, 256, kernel_size=(1, 1), stride=(1, 1), bias=False)\n",
       "          (1): BatchNorm2d(256, eps=1e-05, momentum=0.1, affine=True, track_running_stats=True)\n",
       "        )\n",
       "      )\n",
       "      (1): Bottleneck(\n",
       "        (conv1): Conv2d(256, 64, kernel_size=(1, 1), stride=(1, 1), bias=False)\n",
       "        (bn1): BatchNorm2d(64, eps=1e-05, momentum=0.1, affine=True, track_running_stats=True)\n",
       "        (conv2): Conv2d(64, 64, kernel_size=(3, 3), stride=(1, 1), padding=(1, 1), bias=False)\n",
       "        (bn2): BatchNorm2d(64, eps=1e-05, momentum=0.1, affine=True, track_running_stats=True)\n",
       "        (conv3): Conv2d(64, 256, kernel_size=(1, 1), stride=(1, 1), bias=False)\n",
       "        (bn3): BatchNorm2d(256, eps=1e-05, momentum=0.1, affine=True, track_running_stats=True)\n",
       "        (relu): ReLU(inplace=True)\n",
       "      )\n",
       "      (2): Bottleneck(\n",
       "        (conv1): Conv2d(256, 64, kernel_size=(1, 1), stride=(1, 1), bias=False)\n",
       "        (bn1): BatchNorm2d(64, eps=1e-05, momentum=0.1, affine=True, track_running_stats=True)\n",
       "        (conv2): Conv2d(64, 64, kernel_size=(3, 3), stride=(1, 1), padding=(1, 1), bias=False)\n",
       "        (bn2): BatchNorm2d(64, eps=1e-05, momentum=0.1, affine=True, track_running_stats=True)\n",
       "        (conv3): Conv2d(64, 256, kernel_size=(1, 1), stride=(1, 1), bias=False)\n",
       "        (bn3): BatchNorm2d(256, eps=1e-05, momentum=0.1, affine=True, track_running_stats=True)\n",
       "        (relu): ReLU(inplace=True)\n",
       "      )\n",
       "    )\n",
       "    (layer2): Sequential(\n",
       "      (0): Bottleneck(\n",
       "        (conv1): Conv2d(256, 128, kernel_size=(1, 1), stride=(1, 1), bias=False)\n",
       "        (bn1): BatchNorm2d(128, eps=1e-05, momentum=0.1, affine=True, track_running_stats=True)\n",
       "        (conv2): Conv2d(128, 128, kernel_size=(3, 3), stride=(2, 2), padding=(1, 1), bias=False)\n",
       "        (bn2): BatchNorm2d(128, eps=1e-05, momentum=0.1, affine=True, track_running_stats=True)\n",
       "        (conv3): Conv2d(128, 512, kernel_size=(1, 1), stride=(1, 1), bias=False)\n",
       "        (bn3): BatchNorm2d(512, eps=1e-05, momentum=0.1, affine=True, track_running_stats=True)\n",
       "        (relu): ReLU(inplace=True)\n",
       "        (downsample): Sequential(\n",
       "          (0): Conv2d(256, 512, kernel_size=(1, 1), stride=(2, 2), bias=False)\n",
       "          (1): BatchNorm2d(512, eps=1e-05, momentum=0.1, affine=True, track_running_stats=True)\n",
       "        )\n",
       "      )\n",
       "      (1): Bottleneck(\n",
       "        (conv1): Conv2d(512, 128, kernel_size=(1, 1), stride=(1, 1), bias=False)\n",
       "        (bn1): BatchNorm2d(128, eps=1e-05, momentum=0.1, affine=True, track_running_stats=True)\n",
       "        (conv2): Conv2d(128, 128, kernel_size=(3, 3), stride=(1, 1), padding=(1, 1), bias=False)\n",
       "        (bn2): BatchNorm2d(128, eps=1e-05, momentum=0.1, affine=True, track_running_stats=True)\n",
       "        (conv3): Conv2d(128, 512, kernel_size=(1, 1), stride=(1, 1), bias=False)\n",
       "        (bn3): BatchNorm2d(512, eps=1e-05, momentum=0.1, affine=True, track_running_stats=True)\n",
       "        (relu): ReLU(inplace=True)\n",
       "      )\n",
       "      (2): Bottleneck(\n",
       "        (conv1): Conv2d(512, 128, kernel_size=(1, 1), stride=(1, 1), bias=False)\n",
       "        (bn1): BatchNorm2d(128, eps=1e-05, momentum=0.1, affine=True, track_running_stats=True)\n",
       "        (conv2): Conv2d(128, 128, kernel_size=(3, 3), stride=(1, 1), padding=(1, 1), bias=False)\n",
       "        (bn2): BatchNorm2d(128, eps=1e-05, momentum=0.1, affine=True, track_running_stats=True)\n",
       "        (conv3): Conv2d(128, 512, kernel_size=(1, 1), stride=(1, 1), bias=False)\n",
       "        (bn3): BatchNorm2d(512, eps=1e-05, momentum=0.1, affine=True, track_running_stats=True)\n",
       "        (relu): ReLU(inplace=True)\n",
       "      )\n",
       "      (3): Bottleneck(\n",
       "        (conv1): Conv2d(512, 128, kernel_size=(1, 1), stride=(1, 1), bias=False)\n",
       "        (bn1): BatchNorm2d(128, eps=1e-05, momentum=0.1, affine=True, track_running_stats=True)\n",
       "        (conv2): Conv2d(128, 128, kernel_size=(3, 3), stride=(1, 1), padding=(1, 1), bias=False)\n",
       "        (bn2): BatchNorm2d(128, eps=1e-05, momentum=0.1, affine=True, track_running_stats=True)\n",
       "        (conv3): Conv2d(128, 512, kernel_size=(1, 1), stride=(1, 1), bias=False)\n",
       "        (bn3): BatchNorm2d(512, eps=1e-05, momentum=0.1, affine=True, track_running_stats=True)\n",
       "        (relu): ReLU(inplace=True)\n",
       "      )\n",
       "    )\n",
       "    (layer3): Sequential(\n",
       "      (0): Bottleneck(\n",
       "        (conv1): Conv2d(512, 256, kernel_size=(1, 1), stride=(1, 1), bias=False)\n",
       "        (bn1): BatchNorm2d(256, eps=1e-05, momentum=0.1, affine=True, track_running_stats=True)\n",
       "        (conv2): Conv2d(256, 256, kernel_size=(3, 3), stride=(2, 2), padding=(1, 1), bias=False)\n",
       "        (bn2): BatchNorm2d(256, eps=1e-05, momentum=0.1, affine=True, track_running_stats=True)\n",
       "        (conv3): Conv2d(256, 1024, kernel_size=(1, 1), stride=(1, 1), bias=False)\n",
       "        (bn3): BatchNorm2d(1024, eps=1e-05, momentum=0.1, affine=True, track_running_stats=True)\n",
       "        (relu): ReLU(inplace=True)\n",
       "        (downsample): Sequential(\n",
       "          (0): Conv2d(512, 1024, kernel_size=(1, 1), stride=(2, 2), bias=False)\n",
       "          (1): BatchNorm2d(1024, eps=1e-05, momentum=0.1, affine=True, track_running_stats=True)\n",
       "        )\n",
       "      )\n",
       "      (1): Bottleneck(\n",
       "        (conv1): Conv2d(1024, 256, kernel_size=(1, 1), stride=(1, 1), bias=False)\n",
       "        (bn1): BatchNorm2d(256, eps=1e-05, momentum=0.1, affine=True, track_running_stats=True)\n",
       "        (conv2): Conv2d(256, 256, kernel_size=(3, 3), stride=(1, 1), padding=(1, 1), bias=False)\n",
       "        (bn2): BatchNorm2d(256, eps=1e-05, momentum=0.1, affine=True, track_running_stats=True)\n",
       "        (conv3): Conv2d(256, 1024, kernel_size=(1, 1), stride=(1, 1), bias=False)\n",
       "        (bn3): BatchNorm2d(1024, eps=1e-05, momentum=0.1, affine=True, track_running_stats=True)\n",
       "        (relu): ReLU(inplace=True)\n",
       "      )\n",
       "      (2): Bottleneck(\n",
       "        (conv1): Conv2d(1024, 256, kernel_size=(1, 1), stride=(1, 1), bias=False)\n",
       "        (bn1): BatchNorm2d(256, eps=1e-05, momentum=0.1, affine=True, track_running_stats=True)\n",
       "        (conv2): Conv2d(256, 256, kernel_size=(3, 3), stride=(1, 1), padding=(1, 1), bias=False)\n",
       "        (bn2): BatchNorm2d(256, eps=1e-05, momentum=0.1, affine=True, track_running_stats=True)\n",
       "        (conv3): Conv2d(256, 1024, kernel_size=(1, 1), stride=(1, 1), bias=False)\n",
       "        (bn3): BatchNorm2d(1024, eps=1e-05, momentum=0.1, affine=True, track_running_stats=True)\n",
       "        (relu): ReLU(inplace=True)\n",
       "      )\n",
       "      (3): Bottleneck(\n",
       "        (conv1): Conv2d(1024, 256, kernel_size=(1, 1), stride=(1, 1), bias=False)\n",
       "        (bn1): BatchNorm2d(256, eps=1e-05, momentum=0.1, affine=True, track_running_stats=True)\n",
       "        (conv2): Conv2d(256, 256, kernel_size=(3, 3), stride=(1, 1), padding=(1, 1), bias=False)\n",
       "        (bn2): BatchNorm2d(256, eps=1e-05, momentum=0.1, affine=True, track_running_stats=True)\n",
       "        (conv3): Conv2d(256, 1024, kernel_size=(1, 1), stride=(1, 1), bias=False)\n",
       "        (bn3): BatchNorm2d(1024, eps=1e-05, momentum=0.1, affine=True, track_running_stats=True)\n",
       "        (relu): ReLU(inplace=True)\n",
       "      )\n",
       "      (4): Bottleneck(\n",
       "        (conv1): Conv2d(1024, 256, kernel_size=(1, 1), stride=(1, 1), bias=False)\n",
       "        (bn1): BatchNorm2d(256, eps=1e-05, momentum=0.1, affine=True, track_running_stats=True)\n",
       "        (conv2): Conv2d(256, 256, kernel_size=(3, 3), stride=(1, 1), padding=(1, 1), bias=False)\n",
       "        (bn2): BatchNorm2d(256, eps=1e-05, momentum=0.1, affine=True, track_running_stats=True)\n",
       "        (conv3): Conv2d(256, 1024, kernel_size=(1, 1), stride=(1, 1), bias=False)\n",
       "        (bn3): BatchNorm2d(1024, eps=1e-05, momentum=0.1, affine=True, track_running_stats=True)\n",
       "        (relu): ReLU(inplace=True)\n",
       "      )\n",
       "      (5): Bottleneck(\n",
       "        (conv1): Conv2d(1024, 256, kernel_size=(1, 1), stride=(1, 1), bias=False)\n",
       "        (bn1): BatchNorm2d(256, eps=1e-05, momentum=0.1, affine=True, track_running_stats=True)\n",
       "        (conv2): Conv2d(256, 256, kernel_size=(3, 3), stride=(1, 1), padding=(1, 1), bias=False)\n",
       "        (bn2): BatchNorm2d(256, eps=1e-05, momentum=0.1, affine=True, track_running_stats=True)\n",
       "        (conv3): Conv2d(256, 1024, kernel_size=(1, 1), stride=(1, 1), bias=False)\n",
       "        (bn3): BatchNorm2d(1024, eps=1e-05, momentum=0.1, affine=True, track_running_stats=True)\n",
       "        (relu): ReLU(inplace=True)\n",
       "      )\n",
       "    )\n",
       "    (layer4): Sequential(\n",
       "      (0): Bottleneck(\n",
       "        (conv1): Conv2d(1024, 512, kernel_size=(1, 1), stride=(1, 1), bias=False)\n",
       "        (bn1): BatchNorm2d(512, eps=1e-05, momentum=0.1, affine=True, track_running_stats=True)\n",
       "        (conv2): Conv2d(512, 512, kernel_size=(3, 3), stride=(2, 2), padding=(1, 1), bias=False)\n",
       "        (bn2): BatchNorm2d(512, eps=1e-05, momentum=0.1, affine=True, track_running_stats=True)\n",
       "        (conv3): Conv2d(512, 2048, kernel_size=(1, 1), stride=(1, 1), bias=False)\n",
       "        (bn3): BatchNorm2d(2048, eps=1e-05, momentum=0.1, affine=True, track_running_stats=True)\n",
       "        (relu): ReLU(inplace=True)\n",
       "        (downsample): Sequential(\n",
       "          (0): Conv2d(1024, 2048, kernel_size=(1, 1), stride=(2, 2), bias=False)\n",
       "          (1): BatchNorm2d(2048, eps=1e-05, momentum=0.1, affine=True, track_running_stats=True)\n",
       "        )\n",
       "      )\n",
       "      (1): Bottleneck(\n",
       "        (conv1): Conv2d(2048, 512, kernel_size=(1, 1), stride=(1, 1), bias=False)\n",
       "        (bn1): BatchNorm2d(512, eps=1e-05, momentum=0.1, affine=True, track_running_stats=True)\n",
       "        (conv2): Conv2d(512, 512, kernel_size=(3, 3), stride=(1, 1), padding=(1, 1), bias=False)\n",
       "        (bn2): BatchNorm2d(512, eps=1e-05, momentum=0.1, affine=True, track_running_stats=True)\n",
       "        (conv3): Conv2d(512, 2048, kernel_size=(1, 1), stride=(1, 1), bias=False)\n",
       "        (bn3): BatchNorm2d(2048, eps=1e-05, momentum=0.1, affine=True, track_running_stats=True)\n",
       "        (relu): ReLU(inplace=True)\n",
       "      )\n",
       "      (2): Bottleneck(\n",
       "        (conv1): Conv2d(2048, 512, kernel_size=(1, 1), stride=(1, 1), bias=False)\n",
       "        (bn1): BatchNorm2d(512, eps=1e-05, momentum=0.1, affine=True, track_running_stats=True)\n",
       "        (conv2): Conv2d(512, 512, kernel_size=(3, 3), stride=(1, 1), padding=(1, 1), bias=False)\n",
       "        (bn2): BatchNorm2d(512, eps=1e-05, momentum=0.1, affine=True, track_running_stats=True)\n",
       "        (conv3): Conv2d(512, 2048, kernel_size=(1, 1), stride=(1, 1), bias=False)\n",
       "        (bn3): BatchNorm2d(2048, eps=1e-05, momentum=0.1, affine=True, track_running_stats=True)\n",
       "        (relu): ReLU(inplace=True)\n",
       "      )\n",
       "    )\n",
       "    (avgpool): AdaptiveAvgPool2d(output_size=(1, 1))\n",
       "    (fc): Linear(in_features=2048, out_features=4, bias=True)\n",
       "  )\n",
       ")"
      ]
     },
     "execution_count": 14,
     "metadata": {},
     "output_type": "execute_result"
    }
   ],
   "source": [
    "model = ResNetCNN(pretrained=False)\n",
    "model.to(device)"
   ]
  },
  {
   "cell_type": "code",
   "execution_count": 196,
   "id": "a0abce47-1867-4431-b4b4-3a0c7093f713",
   "metadata": {
    "tags": []
   },
   "outputs": [],
   "source": [
    "loss_func = torch.nn.MSELoss()\n",
    "optimizer = torch.optim.AdamW(model.parameters(), lr=0.01)"
   ]
  },
  {
   "cell_type": "code",
   "execution_count": 197,
   "id": "c20d944a-8f5f-4294-b342-9015feadde1f",
   "metadata": {
    "tags": []
   },
   "outputs": [],
   "source": [
    "train_data_single_batch = next(iter(train_dataloader))"
   ]
  },
  {
   "cell_type": "code",
   "execution_count": 52,
   "id": "ae9916b5-d6b1-4abd-a984-f0b846c0dac7",
   "metadata": {
    "collapsed": true,
    "jupyter": {
     "outputs_hidden": true
    },
    "tags": []
   },
   "outputs": [
    {
     "data": {
      "text/plain": [
       "{'image': tensor([[[[0., 0., 0.,  ..., 0., 0., 0.],\n",
       "           [0., 0., 0.,  ..., 0., 0., 0.],\n",
       "           [0., 0., 0.,  ..., 0., 0., 0.],\n",
       "           ...,\n",
       "           [0., 0., 0.,  ..., 0., 0., 0.],\n",
       "           [0., 0., 0.,  ..., 0., 0., 0.],\n",
       "           [0., 0., 0.,  ..., 0., 0., 0.]],\n",
       " \n",
       "          [[0., 0., 0.,  ..., 0., 0., 0.],\n",
       "           [0., 0., 0.,  ..., 0., 0., 0.],\n",
       "           [0., 0., 0.,  ..., 0., 0., 0.],\n",
       "           ...,\n",
       "           [0., 0., 0.,  ..., 0., 0., 0.],\n",
       "           [0., 0., 0.,  ..., 0., 0., 0.],\n",
       "           [0., 0., 0.,  ..., 0., 0., 0.]],\n",
       " \n",
       "          [[0., 0., 0.,  ..., 0., 0., 0.],\n",
       "           [0., 0., 0.,  ..., 0., 0., 0.],\n",
       "           [0., 0., 0.,  ..., 0., 0., 0.],\n",
       "           ...,\n",
       "           [0., 0., 0.,  ..., 0., 0., 0.],\n",
       "           [0., 0., 0.,  ..., 0., 0., 0.],\n",
       "           [0., 0., 0.,  ..., 0., 0., 0.]],\n",
       " \n",
       "          ...,\n",
       " \n",
       "          [[0., 0., 0.,  ..., 0., 0., 0.],\n",
       "           [0., 0., 0.,  ..., 0., 0., 0.],\n",
       "           [0., 0., 0.,  ..., 0., 0., 0.],\n",
       "           ...,\n",
       "           [0., 0., 0.,  ..., 0., 0., 0.],\n",
       "           [0., 0., 0.,  ..., 0., 0., 0.],\n",
       "           [0., 0., 0.,  ..., 0., 0., 0.]],\n",
       " \n",
       "          [[0., 0., 0.,  ..., 0., 0., 0.],\n",
       "           [0., 0., 0.,  ..., 0., 0., 0.],\n",
       "           [0., 0., 0.,  ..., 0., 0., 0.],\n",
       "           ...,\n",
       "           [0., 0., 0.,  ..., 0., 0., 0.],\n",
       "           [0., 0., 0.,  ..., 0., 0., 0.],\n",
       "           [0., 0., 0.,  ..., 0., 0., 0.]],\n",
       " \n",
       "          [[0., 0., 0.,  ..., 0., 0., 0.],\n",
       "           [0., 0., 0.,  ..., 0., 0., 0.],\n",
       "           [0., 0., 0.,  ..., 0., 0., 0.],\n",
       "           ...,\n",
       "           [0., 0., 0.,  ..., 0., 0., 0.],\n",
       "           [0., 0., 0.,  ..., 0., 0., 0.],\n",
       "           [0., 0., 0.,  ..., 0., 0., 0.]]],\n",
       " \n",
       " \n",
       "         [[[0., 0., 0.,  ..., 0., 0., 0.],\n",
       "           [0., 0., 0.,  ..., 0., 0., 0.],\n",
       "           [0., 0., 0.,  ..., 0., 0., 0.],\n",
       "           ...,\n",
       "           [0., 0., 0.,  ..., 0., 0., 0.],\n",
       "           [0., 0., 0.,  ..., 0., 0., 0.],\n",
       "           [0., 0., 0.,  ..., 0., 0., 0.]],\n",
       " \n",
       "          [[0., 0., 0.,  ..., 0., 0., 0.],\n",
       "           [0., 0., 0.,  ..., 0., 0., 0.],\n",
       "           [0., 0., 0.,  ..., 0., 0., 0.],\n",
       "           ...,\n",
       "           [0., 0., 0.,  ..., 0., 0., 0.],\n",
       "           [0., 0., 0.,  ..., 0., 0., 0.],\n",
       "           [0., 0., 0.,  ..., 0., 0., 0.]],\n",
       " \n",
       "          [[0., 0., 0.,  ..., 0., 0., 0.],\n",
       "           [0., 0., 0.,  ..., 0., 0., 0.],\n",
       "           [0., 0., 0.,  ..., 0., 0., 0.],\n",
       "           ...,\n",
       "           [0., 0., 0.,  ..., 0., 0., 0.],\n",
       "           [0., 0., 0.,  ..., 0., 0., 0.],\n",
       "           [0., 0., 0.,  ..., 0., 0., 0.]],\n",
       " \n",
       "          ...,\n",
       " \n",
       "          [[0., 0., 0.,  ..., 0., 0., 0.],\n",
       "           [0., 0., 0.,  ..., 0., 0., 0.],\n",
       "           [0., 0., 0.,  ..., 0., 0., 0.],\n",
       "           ...,\n",
       "           [0., 0., 0.,  ..., 0., 0., 0.],\n",
       "           [0., 0., 0.,  ..., 0., 0., 0.],\n",
       "           [0., 0., 0.,  ..., 0., 0., 0.]],\n",
       " \n",
       "          [[0., 0., 0.,  ..., 0., 0., 0.],\n",
       "           [0., 0., 0.,  ..., 0., 0., 0.],\n",
       "           [0., 0., 0.,  ..., 0., 0., 0.],\n",
       "           ...,\n",
       "           [0., 0., 0.,  ..., 0., 0., 0.],\n",
       "           [0., 0., 0.,  ..., 0., 0., 0.],\n",
       "           [0., 0., 0.,  ..., 0., 0., 0.]],\n",
       " \n",
       "          [[0., 0., 0.,  ..., 0., 0., 0.],\n",
       "           [0., 0., 0.,  ..., 0., 0., 0.],\n",
       "           [0., 0., 0.,  ..., 0., 0., 0.],\n",
       "           ...,\n",
       "           [0., 0., 0.,  ..., 0., 0., 0.],\n",
       "           [0., 0., 0.,  ..., 0., 0., 0.],\n",
       "           [0., 0., 0.,  ..., 0., 0., 0.]]],\n",
       " \n",
       " \n",
       "         [[[0., 0., 0.,  ..., 0., 0., 0.],\n",
       "           [0., 0., 0.,  ..., 0., 0., 0.],\n",
       "           [0., 0., 0.,  ..., 0., 0., 0.],\n",
       "           ...,\n",
       "           [0., 0., 0.,  ..., 0., 0., 0.],\n",
       "           [0., 0., 0.,  ..., 0., 0., 0.],\n",
       "           [0., 0., 0.,  ..., 0., 0., 0.]],\n",
       " \n",
       "          [[0., 0., 0.,  ..., 0., 0., 0.],\n",
       "           [0., 0., 0.,  ..., 0., 0., 0.],\n",
       "           [0., 0., 0.,  ..., 0., 0., 0.],\n",
       "           ...,\n",
       "           [0., 0., 0.,  ..., 0., 0., 0.],\n",
       "           [0., 0., 0.,  ..., 0., 0., 0.],\n",
       "           [0., 0., 0.,  ..., 0., 0., 0.]],\n",
       " \n",
       "          [[0., 0., 0.,  ..., 0., 0., 0.],\n",
       "           [0., 0., 0.,  ..., 0., 0., 0.],\n",
       "           [0., 0., 0.,  ..., 0., 0., 0.],\n",
       "           ...,\n",
       "           [0., 0., 0.,  ..., 0., 0., 0.],\n",
       "           [0., 0., 0.,  ..., 0., 0., 0.],\n",
       "           [0., 0., 0.,  ..., 0., 0., 0.]],\n",
       " \n",
       "          ...,\n",
       " \n",
       "          [[0., 0., 0.,  ..., 0., 0., 0.],\n",
       "           [0., 0., 0.,  ..., 0., 0., 0.],\n",
       "           [0., 0., 0.,  ..., 0., 0., 0.],\n",
       "           ...,\n",
       "           [0., 0., 0.,  ..., 0., 0., 0.],\n",
       "           [0., 0., 0.,  ..., 0., 0., 0.],\n",
       "           [0., 0., 0.,  ..., 0., 0., 0.]],\n",
       " \n",
       "          [[0., 0., 0.,  ..., 0., 0., 0.],\n",
       "           [0., 0., 0.,  ..., 0., 0., 0.],\n",
       "           [0., 0., 0.,  ..., 0., 0., 0.],\n",
       "           ...,\n",
       "           [0., 0., 0.,  ..., 0., 0., 0.],\n",
       "           [0., 0., 0.,  ..., 0., 0., 0.],\n",
       "           [0., 0., 0.,  ..., 0., 0., 0.]],\n",
       " \n",
       "          [[0., 0., 0.,  ..., 0., 0., 0.],\n",
       "           [0., 0., 0.,  ..., 0., 0., 0.],\n",
       "           [0., 0., 0.,  ..., 0., 0., 0.],\n",
       "           ...,\n",
       "           [0., 0., 0.,  ..., 0., 0., 0.],\n",
       "           [0., 0., 0.,  ..., 0., 0., 0.],\n",
       "           [0., 0., 0.,  ..., 0., 0., 0.]]],\n",
       " \n",
       " \n",
       "         ...,\n",
       " \n",
       " \n",
       "         [[[0., 0., 0.,  ..., 0., 0., 0.],\n",
       "           [0., 0., 0.,  ..., 0., 0., 0.],\n",
       "           [0., 0., 0.,  ..., 0., 0., 0.],\n",
       "           ...,\n",
       "           [0., 0., 0.,  ..., 0., 0., 0.],\n",
       "           [0., 0., 0.,  ..., 0., 0., 0.],\n",
       "           [0., 0., 0.,  ..., 0., 0., 0.]],\n",
       " \n",
       "          [[0., 0., 0.,  ..., 0., 0., 0.],\n",
       "           [0., 0., 0.,  ..., 0., 0., 0.],\n",
       "           [0., 0., 0.,  ..., 0., 0., 0.],\n",
       "           ...,\n",
       "           [0., 0., 0.,  ..., 0., 0., 0.],\n",
       "           [0., 0., 0.,  ..., 0., 0., 0.],\n",
       "           [0., 0., 0.,  ..., 0., 0., 0.]],\n",
       " \n",
       "          [[0., 0., 0.,  ..., 0., 0., 0.],\n",
       "           [0., 0., 0.,  ..., 0., 0., 0.],\n",
       "           [0., 0., 0.,  ..., 0., 0., 0.],\n",
       "           ...,\n",
       "           [0., 0., 0.,  ..., 0., 0., 0.],\n",
       "           [0., 0., 0.,  ..., 0., 0., 0.],\n",
       "           [0., 0., 0.,  ..., 0., 0., 0.]],\n",
       " \n",
       "          ...,\n",
       " \n",
       "          [[0., 0., 0.,  ..., 0., 0., 0.],\n",
       "           [0., 0., 0.,  ..., 0., 0., 0.],\n",
       "           [0., 0., 0.,  ..., 0., 0., 0.],\n",
       "           ...,\n",
       "           [0., 0., 0.,  ..., 0., 0., 0.],\n",
       "           [0., 0., 0.,  ..., 0., 0., 0.],\n",
       "           [0., 0., 0.,  ..., 0., 0., 0.]],\n",
       " \n",
       "          [[0., 0., 0.,  ..., 0., 0., 0.],\n",
       "           [0., 0., 0.,  ..., 0., 0., 0.],\n",
       "           [0., 0., 0.,  ..., 0., 0., 0.],\n",
       "           ...,\n",
       "           [0., 0., 0.,  ..., 0., 0., 0.],\n",
       "           [0., 0., 0.,  ..., 0., 0., 0.],\n",
       "           [0., 0., 0.,  ..., 0., 0., 0.]],\n",
       " \n",
       "          [[0., 0., 0.,  ..., 0., 0., 0.],\n",
       "           [0., 0., 0.,  ..., 0., 0., 0.],\n",
       "           [0., 0., 0.,  ..., 0., 0., 0.],\n",
       "           ...,\n",
       "           [0., 0., 0.,  ..., 0., 0., 0.],\n",
       "           [0., 0., 0.,  ..., 0., 0., 0.],\n",
       "           [0., 0., 0.,  ..., 0., 0., 0.]]],\n",
       " \n",
       " \n",
       "         [[[0., 0., 0.,  ..., 0., 0., 0.],\n",
       "           [0., 0., 0.,  ..., 0., 0., 0.],\n",
       "           [0., 0., 0.,  ..., 0., 0., 0.],\n",
       "           ...,\n",
       "           [0., 0., 0.,  ..., 0., 0., 0.],\n",
       "           [0., 0., 0.,  ..., 0., 0., 0.],\n",
       "           [0., 0., 0.,  ..., 0., 0., 0.]],\n",
       " \n",
       "          [[0., 0., 0.,  ..., 0., 0., 0.],\n",
       "           [0., 0., 0.,  ..., 0., 0., 0.],\n",
       "           [0., 0., 0.,  ..., 0., 0., 0.],\n",
       "           ...,\n",
       "           [0., 0., 0.,  ..., 0., 0., 0.],\n",
       "           [0., 0., 0.,  ..., 0., 0., 0.],\n",
       "           [0., 0., 0.,  ..., 0., 0., 0.]],\n",
       " \n",
       "          [[0., 0., 0.,  ..., 0., 0., 0.],\n",
       "           [0., 0., 0.,  ..., 0., 0., 0.],\n",
       "           [0., 0., 0.,  ..., 0., 0., 0.],\n",
       "           ...,\n",
       "           [0., 0., 0.,  ..., 0., 0., 0.],\n",
       "           [0., 0., 0.,  ..., 0., 0., 0.],\n",
       "           [0., 0., 0.,  ..., 0., 0., 0.]],\n",
       " \n",
       "          ...,\n",
       " \n",
       "          [[0., 0., 0.,  ..., 0., 0., 0.],\n",
       "           [0., 0., 0.,  ..., 0., 0., 0.],\n",
       "           [0., 0., 0.,  ..., 0., 0., 0.],\n",
       "           ...,\n",
       "           [0., 0., 0.,  ..., 0., 0., 0.],\n",
       "           [0., 0., 0.,  ..., 0., 0., 0.],\n",
       "           [0., 0., 0.,  ..., 0., 0., 0.]],\n",
       " \n",
       "          [[0., 0., 0.,  ..., 0., 0., 0.],\n",
       "           [0., 0., 0.,  ..., 0., 0., 0.],\n",
       "           [0., 0., 0.,  ..., 0., 0., 0.],\n",
       "           ...,\n",
       "           [0., 0., 0.,  ..., 0., 0., 0.],\n",
       "           [0., 0., 0.,  ..., 0., 0., 0.],\n",
       "           [0., 0., 0.,  ..., 0., 0., 0.]],\n",
       " \n",
       "          [[0., 0., 0.,  ..., 0., 0., 0.],\n",
       "           [0., 0., 0.,  ..., 0., 0., 0.],\n",
       "           [0., 0., 0.,  ..., 0., 0., 0.],\n",
       "           ...,\n",
       "           [0., 0., 0.,  ..., 0., 0., 0.],\n",
       "           [0., 0., 0.,  ..., 0., 0., 0.],\n",
       "           [0., 0., 0.,  ..., 0., 0., 0.]]],\n",
       " \n",
       " \n",
       "         [[[0., 0., 0.,  ..., 0., 0., 0.],\n",
       "           [0., 0., 0.,  ..., 0., 0., 0.],\n",
       "           [0., 0., 0.,  ..., 0., 0., 0.],\n",
       "           ...,\n",
       "           [0., 0., 0.,  ..., 0., 0., 0.],\n",
       "           [0., 0., 0.,  ..., 0., 0., 0.],\n",
       "           [0., 0., 0.,  ..., 0., 0., 0.]],\n",
       " \n",
       "          [[0., 0., 0.,  ..., 0., 0., 0.],\n",
       "           [0., 0., 0.,  ..., 0., 0., 0.],\n",
       "           [0., 0., 0.,  ..., 0., 0., 0.],\n",
       "           ...,\n",
       "           [0., 0., 0.,  ..., 0., 0., 0.],\n",
       "           [0., 0., 0.,  ..., 0., 0., 0.],\n",
       "           [0., 0., 0.,  ..., 0., 0., 0.]],\n",
       " \n",
       "          [[0., 0., 0.,  ..., 0., 0., 0.],\n",
       "           [0., 0., 0.,  ..., 0., 0., 0.],\n",
       "           [0., 0., 0.,  ..., 0., 0., 0.],\n",
       "           ...,\n",
       "           [0., 0., 0.,  ..., 0., 0., 0.],\n",
       "           [0., 0., 0.,  ..., 0., 0., 0.],\n",
       "           [0., 0., 0.,  ..., 0., 0., 0.]],\n",
       " \n",
       "          ...,\n",
       " \n",
       "          [[0., 0., 0.,  ..., 0., 0., 0.],\n",
       "           [0., 0., 0.,  ..., 0., 0., 0.],\n",
       "           [0., 0., 0.,  ..., 0., 0., 0.],\n",
       "           ...,\n",
       "           [0., 0., 0.,  ..., 0., 0., 0.],\n",
       "           [0., 0., 0.,  ..., 0., 0., 0.],\n",
       "           [0., 0., 0.,  ..., 0., 0., 0.]],\n",
       " \n",
       "          [[0., 0., 0.,  ..., 0., 0., 0.],\n",
       "           [0., 0., 0.,  ..., 0., 0., 0.],\n",
       "           [0., 0., 0.,  ..., 0., 0., 0.],\n",
       "           ...,\n",
       "           [0., 0., 0.,  ..., 0., 0., 0.],\n",
       "           [0., 0., 0.,  ..., 0., 0., 0.],\n",
       "           [0., 0., 0.,  ..., 0., 0., 0.]],\n",
       " \n",
       "          [[0., 0., 0.,  ..., 0., 0., 0.],\n",
       "           [0., 0., 0.,  ..., 0., 0., 0.],\n",
       "           [0., 0., 0.,  ..., 0., 0., 0.],\n",
       "           ...,\n",
       "           [0., 0., 0.,  ..., 0., 0., 0.],\n",
       "           [0., 0., 0.,  ..., 0., 0., 0.],\n",
       "           [0., 0., 0.,  ..., 0., 0., 0.]]]]),\n",
       " 'P': tensor([ 78.2000,  49.9000,  70.1000,  63.6000,  70.2000,  60.2000,  60.4000,\n",
       "          90.2000,  47.5000,  49.8000,  60.6000, 121.0000], dtype=torch.float64),\n",
       " 'K': tensor([262., 221., 230., 264., 270., 183., 189., 316., 239., 168., 192., 221.],\n",
       "        dtype=torch.float64),\n",
       " 'Mg': tensor([140., 230., 158., 134., 190., 176., 117., 141., 286., 164., 135., 201.],\n",
       "        dtype=torch.float64),\n",
       " 'pH': tensor([6.7000, 6.6000, 6.8000, 6.8000, 6.9000, 6.6000, 7.1000, 6.7000, 6.5000,\n",
       "         6.9000, 6.7000, 6.4000], dtype=torch.float64)}"
      ]
     },
     "execution_count": 52,
     "metadata": {},
     "output_type": "execute_result"
    }
   ],
   "source": [
    "train_data_single_batch"
   ]
  },
  {
   "cell_type": "code",
   "execution_count": 198,
   "id": "8db6d448-4530-44e9-9b8c-e716e6223fd8",
   "metadata": {},
   "outputs": [
    {
     "data": {
      "text/plain": [
       "torch.Size([150, 300, 300])"
      ]
     },
     "execution_count": 198,
     "metadata": {},
     "output_type": "execute_result"
    }
   ],
   "source": [
    "train_data_single_batch['image'][0].shape"
   ]
  },
  {
   "cell_type": "code",
   "execution_count": 199,
   "id": "209e7cc8-4441-4579-a793-64e7f4ce1bf6",
   "metadata": {
    "tags": []
   },
   "outputs": [
    {
     "data": {
      "text/plain": [
       "torch.Size([12, 150, 300, 300])"
      ]
     },
     "execution_count": 199,
     "metadata": {},
     "output_type": "execute_result"
    }
   ],
   "source": [
    "train_data_single_batch['image'].to(device, dtype=torch.float).shape"
   ]
  },
  {
   "cell_type": "code",
   "execution_count": 200,
   "id": "efc305c1-5046-41b5-8531-c8871e4dc0e3",
   "metadata": {},
   "outputs": [],
   "source": [
    "output = model(train_data_single_batch['image'].to(device, dtype=torch.float))"
   ]
  },
  {
   "cell_type": "code",
   "execution_count": 201,
   "id": "5464bf25-9f25-42d5-9a16-a6c73900a285",
   "metadata": {},
   "outputs": [
    {
     "data": {
      "text/plain": [
       "tensor([[-0.4664, -0.2055,  0.3345, -1.5900],\n",
       "        [-0.2442,  0.0653,  0.2953, -1.4492],\n",
       "        [-0.0528, -0.0550,  0.1245, -0.1731],\n",
       "        [-0.2713, -0.0392,  0.3000, -1.2935],\n",
       "        [-0.3082,  0.0754,  0.2444, -0.9583],\n",
       "        [-0.1899, -0.0305,  0.1322, -0.4086],\n",
       "        [-0.1597, -0.0359,  0.1535, -0.2933],\n",
       "        [-0.0522, -0.0395,  0.1124, -0.1884],\n",
       "        [-0.3373,  0.0148,  0.3089, -0.9856],\n",
       "        [-0.3547, -0.2934,  0.3404, -1.4583],\n",
       "        [-0.1024,  0.0166,  0.1095, -0.3071],\n",
       "        [-0.0861, -0.0361,  0.1426, -0.1916]], device='cuda:0',\n",
       "       grad_fn=<AddmmBackward0>)"
      ]
     },
     "execution_count": 201,
     "metadata": {},
     "output_type": "execute_result"
    }
   ],
   "source": [
    "output"
   ]
  },
  {
   "cell_type": "code",
   "execution_count": 202,
   "id": "58725929-6c73-4133-aa60-6c00fc82fb37",
   "metadata": {},
   "outputs": [
    {
     "data": {
      "text/plain": [
       "tensor([[ 57.2000, 208.0000,  48.5000,  51.2000, 104.0000, 141.0000,  74.1000,\n",
       "          42.9000,  47.0000,  75.8000,  35.0000,  27.6000],\n",
       "        [244.0000, 292.0000, 235.0000, 190.0000, 351.0000, 437.0000, 186.0000,\n",
       "         218.0000, 176.0000, 180.0000, 169.0000, 233.0000],\n",
       "        [160.0000, 208.0000, 133.0000, 188.0000, 146.0000, 141.0000, 130.0000,\n",
       "         112.0000, 170.0000, 148.0000, 142.0000, 250.0000],\n",
       "        [  6.6000,   6.6000,   7.1600,   6.7000,   6.7000,   7.2000,   6.7000,\n",
       "           6.9700,   6.9000,   6.8000,   7.0000,   6.5800]],\n",
       "       dtype=torch.float64)"
      ]
     },
     "execution_count": 202,
     "metadata": {},
     "output_type": "execute_result"
    }
   ],
   "source": [
    "stacked_gt = torch.stack((train_data_single_batch['P'], train_data_single_batch['K'],\n",
    "                         train_data_single_batch['Mg'], train_data_single_batch['pH']))\n",
    "stacked_gt"
   ]
  },
  {
   "cell_type": "code",
   "execution_count": 203,
   "id": "77692788-e75c-4323-9993-2a467c0ab6f3",
   "metadata": {},
   "outputs": [
    {
     "data": {
      "text/plain": [
       "tensor([[ 57.2000, 244.0000, 160.0000,   6.6000],\n",
       "        [208.0000, 292.0000, 208.0000,   6.6000],\n",
       "        [ 48.5000, 235.0000, 133.0000,   7.1600],\n",
       "        [ 51.2000, 190.0000, 188.0000,   6.7000],\n",
       "        [104.0000, 351.0000, 146.0000,   6.7000],\n",
       "        [141.0000, 437.0000, 141.0000,   7.2000],\n",
       "        [ 74.1000, 186.0000, 130.0000,   6.7000],\n",
       "        [ 42.9000, 218.0000, 112.0000,   6.9700],\n",
       "        [ 47.0000, 176.0000, 170.0000,   6.9000],\n",
       "        [ 75.8000, 180.0000, 148.0000,   6.8000],\n",
       "        [ 35.0000, 169.0000, 142.0000,   7.0000],\n",
       "        [ 27.6000, 233.0000, 250.0000,   6.5800]], device='cuda:0',\n",
       "       dtype=torch.float64)"
      ]
     },
     "execution_count": 203,
     "metadata": {},
     "output_type": "execute_result"
    }
   ],
   "source": [
    "stacked_gt = stacked_gt.transpose(0, 1).to(device)\n",
    "stacked_gt"
   ]
  },
  {
   "cell_type": "code",
   "execution_count": 204,
   "id": "961d4f8e-d7bb-4f28-9355-cfdfae1851a8",
   "metadata": {},
   "outputs": [
    {
     "data": {
      "text/plain": [
       "tensor(25096.1607, device='cuda:0', dtype=torch.float64,\n",
       "       grad_fn=<MseLossBackward0>)"
      ]
     },
     "execution_count": 204,
     "metadata": {},
     "output_type": "execute_result"
    }
   ],
   "source": [
    "loss_func(output, stacked_gt)"
   ]
  },
  {
   "cell_type": "code",
   "execution_count": 205,
   "id": "1f51aaa4-a916-4c14-8420-b1ed3fbeb894",
   "metadata": {},
   "outputs": [
    {
     "name": "stdout",
     "output_type": "stream",
     "text": [
      "epoch: 0, loss: 25049.25, MSE: [8.3881738e+03 6.4772438e+04 2.6999900e+04 3.6478886e+01]\n",
      "epoch: 10, loss: 2959.900390625, MSE: [2316.6626   7644.844    1860.1621     17.931849]\n",
      "epoch: 50, loss: 463.47625732421875, MSE: [648.7326     507.7489     696.54         0.88362616]\n",
      "epoch: 60, loss: 343.34857177734375, MSE: [6.9604865e+02 4.1850992e+02 2.5825461e+02 5.8104426e-01]\n",
      "epoch: 70, loss: 252.3623504638672, MSE: [6.8544745e+02 1.4383578e+02 1.7975159e+02 4.1455284e-01]\n",
      "epoch: 80, loss: 90.53755187988281, MSE: [251.21724     60.79799     49.649136     0.48583004]\n",
      "epoch: 90, loss: 101.4475326538086, MSE: [2.1145128e+02 7.0920326e+01 1.2322817e+02 1.9033308e-01]\n",
      "epoch: 100, loss: 34.72819519042969, MSE: [40.46098    50.554916   47.801815    0.09506875]\n",
      "epoch: 110, loss: 28.47444725036621, MSE: [37.168743  62.162693  14.490933   0.0754094]\n",
      "epoch: 120, loss: 11.710805892944336, MSE: [16.96544    19.652523   10.161715    0.06354145]\n",
      "epoch: 130, loss: 5.4802703857421875, MSE: [6.6728063  9.371006   5.850168   0.02710105]\n",
      "epoch: 140, loss: 2.5108513832092285, MSE: [3.1336858  3.8949215  2.9929857  0.02181199]\n",
      "epoch: 150, loss: 1.2938684225082397, MSE: [1.842246   1.5856133  1.7255273  0.02208677]\n",
      "epoch: 160, loss: 0.7279067039489746, MSE: [1.2617496  0.80377036 0.82409763 0.02200918]\n",
      "epoch: 170, loss: 0.31995874643325806, MSE: [0.4444771  0.58604866 0.22902982 0.02027928]\n",
      "epoch: 180, loss: 0.11827877163887024, MSE: [0.1721021  0.20158297 0.08100775 0.01842225]\n",
      "epoch: 190, loss: 0.03439319133758545, MSE: [0.05926803 0.03686635 0.02442511 0.01701327]\n",
      "epoch: 200, loss: 0.009728730656206608, MSE: [0.00998956 0.00844172 0.00514014 0.01534351]\n",
      "epoch: 210, loss: 0.004647284746170044, MSE: [0.00169168 0.00228175 0.00087663 0.01373908]\n",
      "epoch: 220, loss: 0.003652042243629694, MSE: [0.00091979 0.00081222 0.00073922 0.01213694]\n",
      "epoch: 230, loss: 0.0031556375324726105, MSE: [0.00047343 0.00115248 0.00020964 0.010787  ]\n",
      "epoch: 240, loss: 0.002622963860630989, MSE: [0.00019305 0.00041748 0.00025258 0.00962875]\n",
      "epoch: 250, loss: 0.0022711975034326315, MSE: [4.4797529e-05 1.9735620e-04 1.4597533e-04 8.6966604e-03]\n",
      "epoch: 260, loss: 0.0020268457010388374, MSE: [2.2042665e-05 8.7654451e-05 6.2951956e-05 7.9347333e-03]\n",
      "epoch: 270, loss: 0.0018535424023866653, MSE: [2.5272484e-05 5.7085166e-05 4.1774008e-05 7.2900378e-03]\n",
      "epoch: 280, loss: 0.0017096421215683222, MSE: [2.4692223e-05 4.6021090e-05 3.4647703e-05 6.7332070e-03]\n",
      "epoch: 290, loss: 0.00158605701290071, MSE: [2.6643718e-05 4.1843294e-05 3.1386113e-05 6.2443544e-03]\n",
      "epoch: 300, loss: 0.0014743392821401358, MSE: [2.3847000e-05 3.8491504e-05 2.6157848e-05 5.8088605e-03]\n"
     ]
    }
   ],
   "source": [
    "img_data_device = train_data_single_batch['image'].to(\n",
    "    device, dtype=torch.float)\n",
    "stacked_gt_device = torch.stack((train_data_single_batch['P'], train_data_single_batch['K'], train_data_single_batch['Mg'], train_data_single_batch['pH'])).transpose(0, 1).to(device,\n",
    "                                                                                                                                                                               dtype=torch.float)\n",
    "\n",
    "model = ResNetCNN(False).to(device)\n",
    "optimizer = torch.optim.AdamW(model.parameters(), lr=0.005)\n",
    "loss_func = torch.nn.MSELoss()\n",
    "\n",
    "for epoch in range(301):\n",
    "    model.train()\n",
    "\n",
    "    output = model(img_data_device)\n",
    "    loss = loss_func(output, stacked_gt_device)\n",
    "\n",
    "    optimizer.zero_grad()\n",
    "    loss.backward()\n",
    "    optimizer.step()\n",
    "\n",
    "    output_cpu = output.detach().cpu().numpy()\n",
    "    stacked_gt_cpu = stacked_gt_device.cpu().numpy()\n",
    "\n",
    "    # Calculate MSE for each class\n",
    "    mse = np.mean((stacked_gt_cpu - output_cpu) ** 2, axis=0)\n",
    "\n",
    "    if epoch % 10 == 0:\n",
    "        print(f'epoch: {epoch}, loss: {loss.data.cpu().numpy()}, MSE: {mse}')"
   ]
  },
  {
   "cell_type": "markdown",
   "id": "9f7e821b-ba10-45f2-b8c8-62e1b57816b1",
   "metadata": {},
   "source": [
    "### Training"
   ]
  },
  {
   "cell_type": "code",
   "execution_count": 15,
   "id": "480520a1-ca1c-422f-b520-dce7190e6048",
   "metadata": {},
   "outputs": [],
   "source": [
    "save_name = \"checkpoint_state_dict_ResNet50_07_05_2022\""
   ]
  },
  {
   "cell_type": "code",
   "execution_count": 16,
   "id": "a11e1370-4315-4af1-b61a-477d036d6486",
   "metadata": {},
   "outputs": [],
   "source": [
    "model_name = save_name+'.pth'"
   ]
  },
  {
   "cell_type": "code",
   "execution_count": 17,
   "id": "0bd5be2e-f408-44b5-990e-f00b80f5a61a",
   "metadata": {
    "tags": []
   },
   "outputs": [],
   "source": [
    "# save subsets indices to text files\n",
    "np.array(train_dataset.indices).tofile(os.path.join(saved_models_directory, 'DataSubsets_indices', save_name+'_train_indices.txt'), sep='|')\n",
    "np.array(validation_dataset.indices).tofile(os.path.join(saved_models_directory, 'DataSubsets_indices', save_name+'_validation_indices.txt'), sep='|')"
   ]
  },
  {
   "cell_type": "code",
   "execution_count": 18,
   "id": "558c42af-2b45-41f3-9184-577eb2830eea",
   "metadata": {},
   "outputs": [],
   "source": [
    "model = ResNetCNN(False).to(device)"
   ]
  },
  {
   "cell_type": "code",
   "execution_count": 19,
   "id": "634f4c5f-77f4-4139-8df0-7a0dbdf555b8",
   "metadata": {
    "tags": []
   },
   "outputs": [
    {
     "data": {
      "text/plain": [
       "[]"
      ]
     },
     "execution_count": 19,
     "metadata": {},
     "output_type": "execute_result"
    }
   ],
   "source": [
    "wandb.watch(model, log=\"None\", log_freq=20)"
   ]
  },
  {
   "cell_type": "code",
   "execution_count": 20,
   "id": "ea978104-75da-4a8c-a865-f5ac6c696d67",
   "metadata": {},
   "outputs": [],
   "source": [
    "optimizer = torch.optim.AdamW(model.parameters(), lr=0.01)"
   ]
  },
  {
   "cell_type": "code",
   "execution_count": 21,
   "id": "3fda57be-f914-4822-b681-f613ba7b11b2",
   "metadata": {},
   "outputs": [],
   "source": [
    "loss_func = torch.nn.MSELoss()"
   ]
  },
  {
   "cell_type": "markdown",
   "id": "10d1d174-8dce-42c6-9d24-40956ff633ac",
   "metadata": {
    "tags": []
   },
   "source": [
    "#### Find LR"
   ]
  },
  {
   "cell_type": "code",
   "execution_count": 48,
   "id": "868b12f9-7a9f-4514-ad13-c91ead27cdc2",
   "metadata": {},
   "outputs": [],
   "source": [
    "from torch_lr_finder.lr_finder import TrainDataLoaderIter"
   ]
  },
  {
   "cell_type": "code",
   "execution_count": 49,
   "id": "f0447003-dd8c-4a13-a349-f9476ccf5a66",
   "metadata": {},
   "outputs": [],
   "source": [
    "class CustomTrainIter(TrainDataLoaderIter):\n",
    "    def inputs_labels_from_batch(self, batch_data):\n",
    "        return (torch.as_tensor(batch_data['image'], dtype=torch.float),\n",
    "                torch.as_tensor(torch.stack((batch_data['P'], batch_data['K'], batch_data['Mg'], batch_data['pH'])).transpose(0, 1), dtype=torch.float))"
   ]
  },
  {
   "cell_type": "code",
   "execution_count": 50,
   "id": "eb184931-2a07-41b4-a17c-b35f8bcc16f3",
   "metadata": {},
   "outputs": [
    {
     "data": {
      "application/vnd.jupyter.widget-view+json": {
       "model_id": "12c461f4f4cb41c388c69d9b619ad8b1",
       "version_major": 2,
       "version_minor": 0
      },
      "text/plain": [
       "  0%|          | 0/100 [00:00<?, ?it/s]"
      ]
     },
     "metadata": {},
     "output_type": "display_data"
    },
    {
     "name": "stdout",
     "output_type": "stream",
     "text": [
      "Stopping early, the loss has diverged\n",
      "Learning rate search finished. See the graph with {finder_name}.plot()\n"
     ]
    }
   ],
   "source": [
    "lr_finder = LRFinder(model, optimizer, loss_func, device=device)\n",
    "lr_finder.range_test(CustomTrainIter(train_dataloader),\n",
    "                     start_lr=0.00001, end_lr=100, num_iter=100)"
   ]
  },
  {
   "cell_type": "code",
   "execution_count": 51,
   "id": "647f2f4e-d144-485d-92b3-b1e7914ab310",
   "metadata": {},
   "outputs": [
    {
     "name": "stdout",
     "output_type": "stream",
     "text": [
      "LR suggestion: steepest gradient\n",
      "Suggested LR: 6.73E-03\n"
     ]
    },
    {
     "data": {
      "image/png": "[encoded data removed]",
      "text/plain": [
       "<Figure size 432x288 with 1 Axes>"
      ]
     },
     "metadata": {
      "needs_background": "light"
     },
     "output_type": "display_data"
    }
   ],
   "source": [
    "lr_finder.plot()\n",
    "lr_finder.reset()"
   ]
  },
  {
   "cell_type": "code",
   "execution_count": 46,
   "id": "ee758767-7e7c-410b-92a3-1b0b719a392c",
   "metadata": {},
   "outputs": [
    {
     "data": {
      "text/plain": [
       "0.00673"
      ]
     },
     "execution_count": 46,
     "metadata": {},
     "output_type": "execute_result"
    }
   ],
   "source": [
    "6.73E-03"
   ]
  },
  {
   "cell_type": "markdown",
   "id": "257faf31-7f43-406f-a382-d997f0bb5cb6",
   "metadata": {
    "tags": []
   },
   "source": [
    "#### Continue training"
   ]
  },
  {
   "cell_type": "code",
   "execution_count": 22,
   "id": "ea4809cc-4fe1-4db7-9ade-872ce437a65d",
   "metadata": {},
   "outputs": [],
   "source": [
    "patience_scheduler_overfit = 5\n",
    "scheduler = torch.optim.lr_scheduler.ReduceLROnPlateau(optimizer=optimizer, mode='min',\n",
    "                                                       factor=0.6, patience=patience_scheduler_overfit,\n",
    "                                                       threshold=0.0001, threshold_mode='abs')"
   ]
  },
  {
   "cell_type": "code",
   "execution_count": 23,
   "id": "496f6681-41b1-4382-9b15-34ef4c69e670",
   "metadata": {},
   "outputs": [],
   "source": [
    "early_stopping = utils.EarlyStopping(patience=(2*patience_scheduler_overfit)+3, verbose=True,\n",
    "                                     path=os.path.join(saved_models_directory, 'checkpoint_state_dict.pth'))"
   ]
  },
  {
   "cell_type": "code",
   "execution_count": 24,
   "id": "d7afd373-eeb3-4e78-9bc0-51be9fded852",
   "metadata": {},
   "outputs": [],
   "source": [
    "config = wandb.config\n",
    "config.model = 'resnet50'\n",
    "config.optimizer = 'AdamW'\n",
    "config.learning_rate_start = optimizer.param_groups[0][\"lr\"]\n",
    "# config.momentum = optimizer.param_groups[0][\"momentum\"]\n",
    "config.momentum = None\n",
    "config.weight_decay = optimizer.param_groups[0][\"weight_decay\"]\n",
    "config.scheduler = 'ReduceLROnPlateau'\n",
    "config.scheduler_factor = 0.6\n",
    "config.scheduler_patience = 5\n",
    "config.scheduler_threshold = 0.0001\n",
    "config.batch_size = BATCH_SIZE\n",
    "config.notes = 'Restarting best model'"
   ]
  },
  {
   "cell_type": "code",
   "execution_count": 25,
   "id": "6a22f51e-eb05-466e-9632-4ddfba9d6ad6",
   "metadata": {},
   "outputs": [],
   "source": [
    "previous_epochs = 0  # how many epochs have been done previously if resuming"
   ]
  },
  {
   "cell_type": "code",
   "execution_count": 26,
   "id": "7233ac28-6fdf-42e7-99e8-8843964e15c6",
   "metadata": {
    "tags": []
   },
   "outputs": [
    {
     "data": {
      "application/vnd.jupyter.widget-view+json": {
       "model_id": "",
       "version_major": 2,
       "version_minor": 0
      },
      "text/plain": [
       "epoch 0 training data:   0%|          | 0/116 [00:00<?, ?it/s]"
      ]
     },
     "metadata": {},
     "output_type": "display_data"
    },
    {
     "name": "stdout",
     "output_type": "stream",
     "text": [
      "epoch: 0, LR: 0.01, train loss: 2242.281005859375, train MSE: [1183.9449462890625, 5485.93310546875, 2287.150146484375, 12.096457481384277]\n"
     ]
    },
    {
     "data": {
      "application/vnd.jupyter.widget-view+json": {
       "model_id": "",
       "version_major": 2,
       "version_minor": 0
      },
      "text/plain": [
       "epoch 0 validation data:   0%|          | 0/27 [00:00<?, ?it/s]"
      ]
     },
     "metadata": {},
     "output_type": "display_data"
    },
    {
     "name": "stdout",
     "output_type": "stream",
     "text": [
      "epoch: 0, validation loss: 1480.076416015625, validation MSE: [822.9300537109375, 3305.822998046875, 1791.4796142578125, 0.07237640768289566]\n",
      "Validation loss decreased (inf --> 1480.076416).  Saving model ...\n"
     ]
    },
    {
     "data": {
      "application/vnd.jupyter.widget-view+json": {
       "model_id": "",
       "version_major": 2,
       "version_minor": 0
      },
      "text/plain": [
       "epoch 1 training data:   0%|          | 0/116 [00:00<?, ?it/s]"
      ]
     },
     "metadata": {},
     "output_type": "display_data"
    },
    {
     "name": "stdout",
     "output_type": "stream",
     "text": [
      "epoch: 1, LR: 0.01, train loss: 1712.588623046875, train MSE: [987.874755859375, 4213.18896484375, 1648.919189453125, 0.37118223309516907]\n"
     ]
    },
    {
     "data": {
      "application/vnd.jupyter.widget-view+json": {
       "model_id": "",
       "version_major": 2,
       "version_minor": 0
      },
      "text/plain": [
       "epoch 1 validation data:   0%|          | 0/27 [00:00<?, ?it/s]"
      ]
     },
     "metadata": {},
     "output_type": "display_data"
    },
    {
     "name": "stdout",
     "output_type": "stream",
     "text": [
      "epoch: 1, validation loss: 2982.488525390625, validation MSE: [852.58203125, 6144.67138671875, 4925.861328125, 6.838492393493652]\n",
      "EarlyStopping counter: 1 out of 13\n"
     ]
    },
    {
     "data": {
      "application/vnd.jupyter.widget-view+json": {
       "model_id": "",
       "version_major": 2,
       "version_minor": 0
      },
      "text/plain": [
       "epoch 2 training data:   0%|          | 0/116 [00:00<?, ?it/s]"
      ]
     },
     "metadata": {},
     "output_type": "display_data"
    },
    {
     "name": "stdout",
     "output_type": "stream",
     "text": [
      "epoch: 2, LR: 0.01, train loss: 1720.3585205078125, train MSE: [989.7230834960938, 4198.41650390625, 1693.14990234375, 0.14442408084869385]\n"
     ]
    },
    {
     "data": {
      "application/vnd.jupyter.widget-view+json": {
       "model_id": "",
       "version_major": 2,
       "version_minor": 0
      },
      "text/plain": [
       "epoch 2 validation data:   0%|          | 0/27 [00:00<?, ?it/s]"
      ]
     },
     "metadata": {},
     "output_type": "display_data"
    },
    {
     "name": "stdout",
     "output_type": "stream",
     "text": [
      "epoch: 2, validation loss: 1452.3963623046875, validation MSE: [840.604736328125, 3211.156494140625, 1757.7373046875, 0.08682674914598465]\n",
      "Validation loss decreased (1480.076416 --> 1452.396362).  Saving model ...\n"
     ]
    },
    {
     "data": {
      "application/vnd.jupyter.widget-view+json": {
       "model_id": "",
       "version_major": 2,
       "version_minor": 0
      },
      "text/plain": [
       "epoch 3 training data:   0%|          | 0/116 [00:00<?, ?it/s]"
      ]
     },
     "metadata": {},
     "output_type": "display_data"
    },
    {
     "name": "stdout",
     "output_type": "stream",
     "text": [
      "epoch: 3, LR: 0.01, train loss: 1712.0439453125, train MSE: [1013.0595092773438, 4172.84619140625, 1662.0872802734375, 0.1822534203529358]\n"
     ]
    },
    {
     "data": {
      "application/vnd.jupyter.widget-view+json": {
       "model_id": "",
       "version_major": 2,
       "version_minor": 0
      },
      "text/plain": [
       "epoch 3 validation data:   0%|          | 0/27 [00:00<?, ?it/s]"
      ]
     },
     "metadata": {},
     "output_type": "display_data"
    },
    {
     "name": "stdout",
     "output_type": "stream",
     "text": [
      "epoch: 3, validation loss: 1487.1767578125, validation MSE: [795.1141357421875, 3374.31884765625, 1779.1229248046875, 0.1508188396692276]\n",
      "EarlyStopping counter: 1 out of 13\n"
     ]
    },
    {
     "data": {
      "application/vnd.jupyter.widget-view+json": {
       "model_id": "",
       "version_major": 2,
       "version_minor": 0
      },
      "text/plain": [
       "epoch 4 training data:   0%|          | 0/116 [00:00<?, ?it/s]"
      ]
     },
     "metadata": {},
     "output_type": "display_data"
    },
    {
     "name": "stdout",
     "output_type": "stream",
     "text": [
      "epoch: 4, LR: 0.01, train loss: 1679.3402099609375, train MSE: [969.0289306640625, 4103.8759765625, 1644.26953125, 0.185860738158226]\n"
     ]
    },
    {
     "data": {
      "application/vnd.jupyter.widget-view+json": {
       "model_id": "",
       "version_major": 2,
       "version_minor": 0
      },
      "text/plain": [
       "epoch 4 validation data:   0%|          | 0/27 [00:00<?, ?it/s]"
      ]
     },
     "metadata": {},
     "output_type": "display_data"
    },
    {
     "name": "stdout",
     "output_type": "stream",
     "text": [
      "epoch: 4, validation loss: 1364.417724609375, validation MSE: [747.0888061523438, 3001.94091796875, 1708.5579833984375, 0.08277592062950134]\n",
      "Validation loss decreased (1452.396362 --> 1364.417725).  Saving model ...\n"
     ]
    },
    {
     "data": {
      "application/vnd.jupyter.widget-view+json": {
       "model_id": "",
       "version_major": 2,
       "version_minor": 0
      },
      "text/plain": [
       "epoch 5 training data:   0%|          | 0/116 [00:00<?, ?it/s]"
      ]
     },
     "metadata": {},
     "output_type": "display_data"
    },
    {
     "name": "stdout",
     "output_type": "stream",
     "text": [
      "epoch: 5, LR: 0.01, train loss: 1685.849365234375, train MSE: [964.3289794921875, 4125.85400390625, 1653.0562744140625, 0.15826469659805298]\n"
     ]
    },
    {
     "data": {
      "application/vnd.jupyter.widget-view+json": {
       "model_id": "",
       "version_major": 2,
       "version_minor": 0
      },
      "text/plain": [
       "epoch 5 validation data:   0%|          | 0/27 [00:00<?, ?it/s]"
      ]
     },
     "metadata": {},
     "output_type": "display_data"
    },
    {
     "name": "stdout",
     "output_type": "stream",
     "text": [
      "epoch: 5, validation loss: 1471.8599853515625, validation MSE: [914.4652709960938, 3256.908447265625, 1716.00439453125, 0.06125029921531677]\n",
      "EarlyStopping counter: 1 out of 13\n"
     ]
    },
    {
     "data": {
      "application/vnd.jupyter.widget-view+json": {
       "model_id": "",
       "version_major": 2,
       "version_minor": 0
      },
      "text/plain": [
       "epoch 6 training data:   0%|          | 0/116 [00:00<?, ?it/s]"
      ]
     },
     "metadata": {},
     "output_type": "display_data"
    },
    {
     "name": "stdout",
     "output_type": "stream",
     "text": [
      "epoch: 6, LR: 0.01, train loss: 1682.4102783203125, train MSE: [980.544189453125, 4083.974365234375, 1664.973876953125, 0.14840325713157654]\n"
     ]
    },
    {
     "data": {
      "application/vnd.jupyter.widget-view+json": {
       "model_id": "",
       "version_major": 2,
       "version_minor": 0
      },
      "text/plain": [
       "epoch 6 validation data:   0%|          | 0/27 [00:00<?, ?it/s]"
      ]
     },
     "metadata": {},
     "output_type": "display_data"
    },
    {
     "name": "stdout",
     "output_type": "stream",
     "text": [
      "epoch: 6, validation loss: 1567.3082275390625, validation MSE: [773.1585693359375, 3761.145751953125, 1734.754638671875, 0.17344188690185547]\n",
      "EarlyStopping counter: 2 out of 13\n"
     ]
    },
    {
     "data": {
      "application/vnd.jupyter.widget-view+json": {
       "model_id": "",
       "version_major": 2,
       "version_minor": 0
      },
      "text/plain": [
       "epoch 7 training data:   0%|          | 0/116 [00:00<?, ?it/s]"
      ]
     },
     "metadata": {},
     "output_type": "display_data"
    },
    {
     "name": "stdout",
     "output_type": "stream",
     "text": [
      "epoch: 7, LR: 0.01, train loss: 1648.248291015625, train MSE: [949.6590576171875, 4011.49951171875, 1631.708251953125, 0.12591415643692017]\n"
     ]
    },
    {
     "data": {
      "application/vnd.jupyter.widget-view+json": {
       "model_id": "",
       "version_major": 2,
       "version_minor": 0
      },
      "text/plain": [
       "epoch 7 validation data:   0%|          | 0/27 [00:00<?, ?it/s]"
      ]
     },
     "metadata": {},
     "output_type": "display_data"
    },
    {
     "name": "stdout",
     "output_type": "stream",
     "text": [
      "epoch: 7, validation loss: 1413.9979248046875, validation MSE: [771.8239135742188, 3217.07470703125, 1667.0145263671875, 0.07835603505373001]\n",
      "EarlyStopping counter: 3 out of 13\n"
     ]
    },
    {
     "data": {
      "application/vnd.jupyter.widget-view+json": {
       "model_id": "",
       "version_major": 2,
       "version_minor": 0
      },
      "text/plain": [
       "epoch 8 training data:   0%|          | 0/116 [00:00<?, ?it/s]"
      ]
     },
     "metadata": {},
     "output_type": "display_data"
    },
    {
     "name": "stdout",
     "output_type": "stream",
     "text": [
      "epoch: 8, LR: 0.01, train loss: 1656.2855224609375, train MSE: [934.228759765625, 4030.577392578125, 1660.203857421875, 0.13230173289775848]\n"
     ]
    },
    {
     "data": {
      "application/vnd.jupyter.widget-view+json": {
       "model_id": "",
       "version_major": 2,
       "version_minor": 0
      },
      "text/plain": [
       "epoch 8 validation data:   0%|          | 0/27 [00:00<?, ?it/s]"
      ]
     },
     "metadata": {},
     "output_type": "display_data"
    },
    {
     "name": "stdout",
     "output_type": "stream",
     "text": [
      "epoch: 8, validation loss: 1430.3118896484375, validation MSE: [851.2210693359375, 3145.423095703125, 1724.45947265625, 0.14369675517082214]\n",
      "EarlyStopping counter: 4 out of 13\n"
     ]
    },
    {
     "data": {
      "application/vnd.jupyter.widget-view+json": {
       "model_id": "",
       "version_major": 2,
       "version_minor": 0
      },
      "text/plain": [
       "epoch 9 training data:   0%|          | 0/116 [00:00<?, ?it/s]"
      ]
     },
     "metadata": {},
     "output_type": "display_data"
    },
    {
     "name": "stdout",
     "output_type": "stream",
     "text": [
      "epoch: 9, LR: 0.01, train loss: 1669.6209716796875, train MSE: [933.6954345703125, 4057.33349609375, 1687.3062744140625, 0.14815673232078552]\n"
     ]
    },
    {
     "data": {
      "application/vnd.jupyter.widget-view+json": {
       "model_id": "",
       "version_major": 2,
       "version_minor": 0
      },
      "text/plain": [
       "epoch 9 validation data:   0%|          | 0/27 [00:00<?, ?it/s]"
      ]
     },
     "metadata": {},
     "output_type": "display_data"
    },
    {
     "name": "stdout",
     "output_type": "stream",
     "text": [
      "epoch: 9, validation loss: 1340.1187744140625, validation MSE: [737.0031127929688, 2883.676025390625, 1739.72216796875, 0.07336197793483734]\n",
      "Validation loss decreased (1364.417725 --> 1340.118774).  Saving model ...\n"
     ]
    },
    {
     "data": {
      "application/vnd.jupyter.widget-view+json": {
       "model_id": "",
       "version_major": 2,
       "version_minor": 0
      },
      "text/plain": [
       "epoch 10 training data:   0%|          | 0/116 [00:00<?, ?it/s]"
      ]
     },
     "metadata": {},
     "output_type": "display_data"
    },
    {
     "name": "stdout",
     "output_type": "stream",
     "text": [
      "epoch: 10, LR: 0.01, train loss: 1653.5560302734375, train MSE: [938.8171997070312, 4044.92041015625, 1630.347900390625, 0.1384664624929428]\n"
     ]
    },
    {
     "data": {
      "application/vnd.jupyter.widget-view+json": {
       "model_id": "",
       "version_major": 2,
       "version_minor": 0
      },
      "text/plain": [
       "epoch 10 validation data:   0%|          | 0/27 [00:00<?, ?it/s]"
      ]
     },
     "metadata": {},
     "output_type": "display_data"
    },
    {
     "name": "stdout",
     "output_type": "stream",
     "text": [
      "epoch: 10, validation loss: 1397.4990234375, validation MSE: [780.7199096679688, 3100.144287109375, 1709.0150146484375, 0.11655367910861969]\n",
      "EarlyStopping counter: 1 out of 13\n"
     ]
    },
    {
     "data": {
      "application/vnd.jupyter.widget-view+json": {
       "model_id": "",
       "version_major": 2,
       "version_minor": 0
      },
      "text/plain": [
       "epoch 11 training data:   0%|          | 0/116 [00:00<?, ?it/s]"
      ]
     },
     "metadata": {},
     "output_type": "display_data"
    },
    {
     "name": "stdout",
     "output_type": "stream",
     "text": [
      "epoch: 11, LR: 0.01, train loss: 1632.968505859375, train MSE: [919.0573120117188, 3989.10498046875, 1623.568115234375, 0.14296355843544006]\n"
     ]
    },
    {
     "data": {
      "application/vnd.jupyter.widget-view+json": {
       "model_id": "",
       "version_major": 2,
       "version_minor": 0
      },
      "text/plain": [
       "epoch 11 validation data:   0%|          | 0/27 [00:00<?, ?it/s]"
      ]
     },
     "metadata": {},
     "output_type": "display_data"
    },
    {
     "name": "stdout",
     "output_type": "stream",
     "text": [
      "epoch: 11, validation loss: 1587.85400390625, validation MSE: [724.103759765625, 3392.514404296875, 2234.471923828125, 0.32537099719047546]\n",
      "EarlyStopping counter: 2 out of 13\n"
     ]
    },
    {
     "data": {
      "application/vnd.jupyter.widget-view+json": {
       "model_id": "",
       "version_major": 2,
       "version_minor": 0
      },
      "text/plain": [
       "epoch 12 training data:   0%|          | 0/116 [00:00<?, ?it/s]"
      ]
     },
     "metadata": {},
     "output_type": "display_data"
    },
    {
     "name": "stdout",
     "output_type": "stream",
     "text": [
      "epoch: 12, LR: 0.01, train loss: 1689.0479736328125, train MSE: [995.1234130859375, 4118.42041015625, 1642.536376953125, 0.11066311597824097]\n"
     ]
    },
    {
     "data": {
      "application/vnd.jupyter.widget-view+json": {
       "model_id": "",
       "version_major": 2,
       "version_minor": 0
      },
      "text/plain": [
       "epoch 12 validation data:   0%|          | 0/27 [00:00<?, ?it/s]"
      ]
     },
     "metadata": {},
     "output_type": "display_data"
    },
    {
     "name": "stdout",
     "output_type": "stream",
     "text": [
      "epoch: 12, validation loss: 1401.72314453125, validation MSE: [727.984130859375, 3183.177734375, 1695.6317138671875, 0.09883726388216019]\n",
      "EarlyStopping counter: 3 out of 13\n"
     ]
    },
    {
     "data": {
      "application/vnd.jupyter.widget-view+json": {
       "model_id": "",
       "version_major": 2,
       "version_minor": 0
      },
      "text/plain": [
       "epoch 13 training data:   0%|          | 0/116 [00:00<?, ?it/s]"
      ]
     },
     "metadata": {},
     "output_type": "display_data"
    },
    {
     "name": "stdout",
     "output_type": "stream",
     "text": [
      "epoch: 13, LR: 0.01, train loss: 1657.7191162109375, train MSE: [954.4739379882812, 4087.031982421875, 1589.2255859375, 0.14484678208827972]\n"
     ]
    },
    {
     "data": {
      "application/vnd.jupyter.widget-view+json": {
       "model_id": "",
       "version_major": 2,
       "version_minor": 0
      },
      "text/plain": [
       "epoch 13 validation data:   0%|          | 0/27 [00:00<?, ?it/s]"
      ]
     },
     "metadata": {},
     "output_type": "display_data"
    },
    {
     "name": "stdout",
     "output_type": "stream",
     "text": [
      "epoch: 13, validation loss: 1426.0118408203125, validation MSE: [740.250244140625, 3284.822998046875, 1678.8739013671875, 0.10031567513942719]\n",
      "EarlyStopping counter: 4 out of 13\n"
     ]
    },
    {
     "data": {
      "application/vnd.jupyter.widget-view+json": {
       "model_id": "",
       "version_major": 2,
       "version_minor": 0
      },
      "text/plain": [
       "epoch 14 training data:   0%|          | 0/116 [00:00<?, ?it/s]"
      ]
     },
     "metadata": {},
     "output_type": "display_data"
    },
    {
     "name": "stdout",
     "output_type": "stream",
     "text": [
      "epoch: 14, LR: 0.01, train loss: 1662.1380615234375, train MSE: [952.1953735351562, 4121.49951171875, 1574.7542724609375, 0.10261215269565582]\n"
     ]
    },
    {
     "data": {
      "application/vnd.jupyter.widget-view+json": {
       "model_id": "",
       "version_major": 2,
       "version_minor": 0
      },
      "text/plain": [
       "epoch 14 validation data:   0%|          | 0/27 [00:00<?, ?it/s]"
      ]
     },
     "metadata": {},
     "output_type": "display_data"
    },
    {
     "name": "stdout",
     "output_type": "stream",
     "text": [
      "epoch: 14, validation loss: 1456.2672119140625, validation MSE: [737.1004028320312, 3176.13330078125, 1911.6041259765625, 0.23129528760910034]\n",
      "EarlyStopping counter: 5 out of 13\n"
     ]
    },
    {
     "data": {
      "application/vnd.jupyter.widget-view+json": {
       "model_id": "",
       "version_major": 2,
       "version_minor": 0
      },
      "text/plain": [
       "epoch 15 training data:   0%|          | 0/116 [00:00<?, ?it/s]"
      ]
     },
     "metadata": {},
     "output_type": "display_data"
    },
    {
     "name": "stdout",
     "output_type": "stream",
     "text": [
      "epoch: 15, LR: 0.01, train loss: 1664.2901611328125, train MSE: [967.5792236328125, 4095.9775390625, 1593.481689453125, 0.12177078425884247]\n"
     ]
    },
    {
     "data": {
      "application/vnd.jupyter.widget-view+json": {
       "model_id": "",
       "version_major": 2,
       "version_minor": 0
      },
      "text/plain": [
       "epoch 15 validation data:   0%|          | 0/27 [00:00<?, ?it/s]"
      ]
     },
     "metadata": {},
     "output_type": "display_data"
    },
    {
     "name": "stdout",
     "output_type": "stream",
     "text": [
      "epoch: 15, validation loss: 1522.3570556640625, validation MSE: [785.2161254882812, 3345.464111328125, 1958.651611328125, 0.09570594877004623]\n",
      "EarlyStopping counter: 6 out of 13\n"
     ]
    },
    {
     "data": {
      "application/vnd.jupyter.widget-view+json": {
       "model_id": "",
       "version_major": 2,
       "version_minor": 0
      },
      "text/plain": [
       "epoch 16 training data:   0%|          | 0/116 [00:00<?, ?it/s]"
      ]
     },
     "metadata": {},
     "output_type": "display_data"
    },
    {
     "name": "stdout",
     "output_type": "stream",
     "text": [
      "epoch: 16, LR: 0.006, train loss: 1653.74951171875, train MSE: [925.2386474609375, 4122.1005859375, 1567.55517578125, 0.10312819480895996]\n"
     ]
    },
    {
     "data": {
      "application/vnd.jupyter.widget-view+json": {
       "model_id": "",
       "version_major": 2,
       "version_minor": 0
      },
      "text/plain": [
       "epoch 16 validation data:   0%|          | 0/27 [00:00<?, ?it/s]"
      ]
     },
     "metadata": {},
     "output_type": "display_data"
    },
    {
     "name": "stdout",
     "output_type": "stream",
     "text": [
      "epoch: 16, validation loss: 1443.4664306640625, validation MSE: [870.7778930664062, 3174.967041015625, 1728.038818359375, 0.08179616928100586]\n",
      "EarlyStopping counter: 7 out of 13\n"
     ]
    },
    {
     "data": {
      "application/vnd.jupyter.widget-view+json": {
       "model_id": "",
       "version_major": 2,
       "version_minor": 0
      },
      "text/plain": [
       "epoch 17 training data:   0%|          | 0/116 [00:00<?, ?it/s]"
      ]
     },
     "metadata": {},
     "output_type": "display_data"
    },
    {
     "name": "stdout",
     "output_type": "stream",
     "text": [
      "epoch: 17, LR: 0.006, train loss: 1650.8709716796875, train MSE: [922.9281005859375, 4091.71630859375, 1588.7369384765625, 0.10194140672683716]\n"
     ]
    },
    {
     "data": {
      "application/vnd.jupyter.widget-view+json": {
       "model_id": "",
       "version_major": 2,
       "version_minor": 0
      },
      "text/plain": [
       "epoch 17 validation data:   0%|          | 0/27 [00:00<?, ?it/s]"
      ]
     },
     "metadata": {},
     "output_type": "display_data"
    },
    {
     "name": "stdout",
     "output_type": "stream",
     "text": [
      "epoch: 17, validation loss: 1421.160400390625, validation MSE: [726.66796875, 3223.666015625, 1734.218017578125, 0.08940892666578293]\n",
      "EarlyStopping counter: 8 out of 13\n"
     ]
    },
    {
     "data": {
      "application/vnd.jupyter.widget-view+json": {
       "model_id": "",
       "version_major": 2,
       "version_minor": 0
      },
      "text/plain": [
       "epoch 18 training data:   0%|          | 0/116 [00:00<?, ?it/s]"
      ]
     },
     "metadata": {},
     "output_type": "display_data"
    },
    {
     "name": "stdout",
     "output_type": "stream",
     "text": [
      "epoch: 18, LR: 0.006, train loss: 1614.5352783203125, train MSE: [905.7802124023438, 3995.8681640625, 1556.38525390625, 0.10728596150875092]\n"
     ]
    },
    {
     "data": {
      "application/vnd.jupyter.widget-view+json": {
       "model_id": "",
       "version_major": 2,
       "version_minor": 0
      },
      "text/plain": [
       "epoch 18 validation data:   0%|          | 0/27 [00:00<?, ?it/s]"
      ]
     },
     "metadata": {},
     "output_type": "display_data"
    },
    {
     "name": "stdout",
     "output_type": "stream",
     "text": [
      "epoch: 18, validation loss: 1422.32568359375, validation MSE: [787.6986694335938, 3116.57177734375, 1784.95703125, 0.0745558813214302]\n",
      "EarlyStopping counter: 9 out of 13\n"
     ]
    },
    {
     "data": {
      "application/vnd.jupyter.widget-view+json": {
       "model_id": "",
       "version_major": 2,
       "version_minor": 0
      },
      "text/plain": [
       "epoch 19 training data:   0%|          | 0/116 [00:00<?, ?it/s]"
      ]
     },
     "metadata": {},
     "output_type": "display_data"
    },
    {
     "name": "stdout",
     "output_type": "stream",
     "text": [
      "epoch: 19, LR: 0.006, train loss: 1638.2835693359375, train MSE: [921.0559692382812, 4052.375732421875, 1579.5947265625, 0.10718114674091339]\n"
     ]
    },
    {
     "data": {
      "application/vnd.jupyter.widget-view+json": {
       "model_id": "",
       "version_major": 2,
       "version_minor": 0
      },
      "text/plain": [
       "epoch 19 validation data:   0%|          | 0/27 [00:00<?, ?it/s]"
      ]
     },
     "metadata": {},
     "output_type": "display_data"
    },
    {
     "name": "stdout",
     "output_type": "stream",
     "text": [
      "epoch: 19, validation loss: 1430.271728515625, validation MSE: [747.5641479492188, 3137.1435546875, 1836.3134765625, 0.06586241722106934]\n",
      "EarlyStopping counter: 10 out of 13\n"
     ]
    },
    {
     "data": {
      "application/vnd.jupyter.widget-view+json": {
       "model_id": "",
       "version_major": 2,
       "version_minor": 0
      },
      "text/plain": [
       "epoch 20 training data:   0%|          | 0/116 [00:00<?, ?it/s]"
      ]
     },
     "metadata": {},
     "output_type": "display_data"
    },
    {
     "name": "stdout",
     "output_type": "stream",
     "text": [
      "epoch: 20, LR: 0.006, train loss: 1627.862060546875, train MSE: [914.6932983398438, 4002.599609375, 1594.0587158203125, 0.09652826935052872]\n"
     ]
    },
    {
     "data": {
      "application/vnd.jupyter.widget-view+json": {
       "model_id": "",
       "version_major": 2,
       "version_minor": 0
      },
      "text/plain": [
       "epoch 20 validation data:   0%|          | 0/27 [00:00<?, ?it/s]"
      ]
     },
     "metadata": {},
     "output_type": "display_data"
    },
    {
     "name": "stdout",
     "output_type": "stream",
     "text": [
      "epoch: 20, validation loss: 1454.6578369140625, validation MSE: [755.2455444335938, 3305.404052734375, 1757.9208984375, 0.061397965997457504]\n",
      "EarlyStopping counter: 11 out of 13\n"
     ]
    },
    {
     "data": {
      "application/vnd.jupyter.widget-view+json": {
       "model_id": "",
       "version_major": 2,
       "version_minor": 0
      },
      "text/plain": [
       "epoch 21 training data:   0%|          | 0/116 [00:00<?, ?it/s]"
      ]
     },
     "metadata": {},
     "output_type": "display_data"
    },
    {
     "name": "stdout",
     "output_type": "stream",
     "text": [
      "epoch: 21, LR: 0.006, train loss: 1652.8497314453125, train MSE: [929.9100952148438, 4086.681396484375, 1594.687744140625, 0.11934269964694977]\n"
     ]
    },
    {
     "data": {
      "application/vnd.jupyter.widget-view+json": {
       "model_id": "",
       "version_major": 2,
       "version_minor": 0
      },
      "text/plain": [
       "epoch 21 validation data:   0%|          | 0/27 [00:00<?, ?it/s]"
      ]
     },
     "metadata": {},
     "output_type": "display_data"
    },
    {
     "name": "stdout",
     "output_type": "stream",
     "text": [
      "epoch: 21, validation loss: 1396.21533203125, validation MSE: [715.7069091796875, 3152.411376953125, 1716.6658935546875, 0.07678817957639694]\n",
      "EarlyStopping counter: 12 out of 13\n"
     ]
    },
    {
     "data": {
      "application/vnd.jupyter.widget-view+json": {
       "model_id": "",
       "version_major": 2,
       "version_minor": 0
      },
      "text/plain": [
       "epoch 22 training data:   0%|          | 0/116 [00:00<?, ?it/s]"
      ]
     },
     "metadata": {},
     "output_type": "display_data"
    },
    {
     "name": "stdout",
     "output_type": "stream",
     "text": [
      "epoch: 22, LR: 0.0036, train loss: 1597.28369140625, train MSE: [920.7592163085938, 3921.6904296875, 1546.5921630859375, 0.09308852255344391]\n"
     ]
    },
    {
     "data": {
      "application/vnd.jupyter.widget-view+json": {
       "model_id": "",
       "version_major": 2,
       "version_minor": 0
      },
      "text/plain": [
       "epoch 22 validation data:   0%|          | 0/27 [00:00<?, ?it/s]"
      ]
     },
     "metadata": {},
     "output_type": "display_data"
    },
    {
     "name": "stdout",
     "output_type": "stream",
     "text": [
      "epoch: 22, validation loss: 1364.86767578125, validation MSE: [713.2686157226562, 3053.2080078125, 1692.926513671875, 0.06699811667203903]\n",
      "EarlyStopping counter: 13 out of 13\n",
      "Early stopping\n"
     ]
    }
   ],
   "source": [
    "for epoch in range(previous_epochs, EPOCHS+previous_epochs):\n",
    "    # TRAINING Part\n",
    "    model.train()\n",
    "    train_loss = []\n",
    "    mse_train_list = []\n",
    "\n",
    "    bar = tqdm(train_dataloader, position=0, leave=False,\n",
    "               desc=f'epoch {epoch} training data')\n",
    "    i = 0\n",
    "    for train_data in bar:  # for each training step\n",
    "        i += 1\n",
    "        img_data_device = train_data['image'].to(device, dtype=torch.float)\n",
    "        stacked_gt_device = torch.stack((train_data['P'], train_data['K'], train_data['Mg'], train_data['pH'])).transpose(\n",
    "            0, 1).to(device, dtype=torch.float)\n",
    "\n",
    "        output = model(img_data_device)\n",
    "\n",
    "        loss = loss_func(output, stacked_gt_device)\n",
    "        optimizer.zero_grad()\n",
    "        loss.backward()\n",
    "        optimizer.step()\n",
    "        train_loss.append(loss)\n",
    "\n",
    "        output_cpu = output.detach().cpu().numpy()\n",
    "        stacked_gt_cpu = stacked_gt_device.cpu().numpy()\n",
    "\n",
    "        # Calculate MSE for each class\n",
    "        mse = np.mean((stacked_gt_cpu - output_cpu) ** 2, axis=0)\n",
    "        mse_train_list.append(mse)\n",
    "\n",
    "        if i % 10 == 0:  # log every 10 batches\n",
    "            train_log_dict = dict()\n",
    "            train_log_dict['batch_number'] = i\n",
    "            train_log_dict['epoch'] = epoch\n",
    "            train_log_dict['train_batch_loss'] = loss\n",
    "            train_log_dict['train_batch_MSE_P'] = mse[0]\n",
    "            train_log_dict['train_batch_MSE_K'] = mse[1]\n",
    "            train_log_dict['train_batch_MSE_Mg'] = mse[2]\n",
    "            train_log_dict['train_batch_MSE_pH'] = mse[3]\n",
    "            wandb.log(train_log_dict)\n",
    "\n",
    "    avg_train_loss = torch.stack(train_loss).mean().item()\n",
    "    avg_train_mse = torch.as_tensor(\n",
    "        np.array(mse_train_list)).mean(axis=0).numpy().tolist()\n",
    "\n",
    "    print(\n",
    "        f'epoch: {epoch}, LR: {optimizer.param_groups[0][\"lr\"]}, train loss: {avg_train_loss}, train MSE: {avg_train_mse}')\n",
    "    wandb.log({'epoch': epoch, 'average_train_loss': avg_train_loss, 'average_train_MSE_P': avg_train_mse[0], 'average_train_MSE_K': avg_train_mse[1],\n",
    "              'average_train_MSE_Mg': avg_train_mse[2], 'average_train_MSE_pH': avg_train_mse[3]})\n",
    "\n",
    "    # VALIDATION Part\n",
    "    model.eval()\n",
    "    val_bar = tqdm(validation_dataloader, position=0,\n",
    "                   leave=False, desc=f'epoch {epoch} validation data')\n",
    "    with torch.no_grad():\n",
    "        val_loss = []\n",
    "        mse_val_list = []\n",
    "        for val_data in val_bar:\n",
    "            img_data_device = val_data['image'].to(device, dtype=torch.float)\n",
    "            stacked_gt_device = torch.stack((val_data['P'], val_data['K'], val_data['Mg'], val_data['pH'])).transpose(\n",
    "                0, 1).to(device, dtype=torch.float)\n",
    "\n",
    "            output = model(img_data_device)\n",
    "\n",
    "            loss = loss_func(output, stacked_gt_device)\n",
    "            val_loss.append(loss)\n",
    "\n",
    "            output_cpu = output.detach().cpu().numpy()\n",
    "            stacked_gt_cpu = stacked_gt_device.cpu().numpy()\n",
    "\n",
    "            # Calculate MSE for each class\n",
    "            mse = np.mean((stacked_gt_cpu - output_cpu) ** 2, axis=0)\n",
    "            mse_val_list.append(mse)\n",
    "\n",
    "        avg_val_loss = torch.stack(val_loss).mean().item()\n",
    "        avg_val_mse = torch.as_tensor(\n",
    "            np.array(mse_val_list)).mean(axis=0).numpy().tolist()\n",
    "\n",
    "        print(f'epoch: {epoch}, validation loss: {avg_val_loss}, validation MSE: {avg_val_mse}')\n",
    "        wandb.log({'epoch': epoch, 'average_val_loss': avg_val_loss, 'average_val_MSE_P': avg_val_mse[0], 'average_val_MSE_K': avg_val_mse[1],\n",
    "                   'average_val_MSE_Mh': avg_val_mse[2], 'average_val_MSE_pH': avg_val_mse[3]})\n",
    "\n",
    "        scheduler.step(avg_val_loss)\n",
    "        # early_stopping needs the validation loss to check if it has decresed,\n",
    "        # and if it has, it will make a checkpoint of the current model\n",
    "        early_stopping(avg_val_loss, model)\n",
    "\n",
    "        if early_stopping.early_stop:\n",
    "            print(\"Early stopping\")\n",
    "            break"
   ]
  },
  {
   "cell_type": "code",
   "execution_count": 27,
   "id": "5aaf13cc-2e25-4bdf-822e-3d365964ca6e",
   "metadata": {},
   "outputs": [],
   "source": [
    "torch.save(model.state_dict(), os.path.join(\n",
    "    saved_models_directory, model_name+f'_EPOCHS_{epoch}.pth'))"
   ]
  },
  {
   "cell_type": "code",
   "execution_count": 28,
   "id": "d6ffb3e2-5cb5-49c2-abfe-5ecaa530087b",
   "metadata": {
    "tags": []
   },
   "outputs": [],
   "source": [
    "# rename checkpoint.pth\n",
    "! mv ../../saved_models/checkpoint_state_dict.pth ../../saved_models/checkpoint_state_dict_ResNet50_07_05_2022.pth"
   ]
  },
  {
   "cell_type": "code",
   "execution_count": 29,
   "id": "3e4dc5ea-7e3a-4ce5-93e6-e6baf9615149",
   "metadata": {
    "tags": []
   },
   "outputs": [
    {
     "data": {
      "text/plain": [
       "<All keys matched successfully>"
      ]
     },
     "execution_count": 29,
     "metadata": {},
     "output_type": "execute_result"
    }
   ],
   "source": [
    "# load saved model\n",
    "modelLoad = ResNetCNN(False)\n",
    "modelLoad.load_state_dict(torch.load(os.path.join(\n",
    "    saved_models_directory, 'checkpoint_state_dict_ResNet50_07_05_2022.pth')))"
   ]
  },
  {
   "cell_type": "code",
   "execution_count": 30,
   "id": "c1c66db3-7fcf-4410-b51c-ae9706394be0",
   "metadata": {},
   "outputs": [],
   "source": [
    "modelLoad = modelLoad.to(device)"
   ]
  },
  {
   "cell_type": "markdown",
   "id": "9c40a5e8-364f-41fb-84bf-e46e17811f53",
   "metadata": {
    "tags": []
   },
   "source": [
    "### Predict test dataset"
   ]
  },
  {
   "cell_type": "code",
   "execution_count": 65,
   "id": "ead3cbb4-030b-4027-b3e3-6e90d52bb089",
   "metadata": {
    "collapsed": true,
    "jupyter": {
     "outputs_hidden": true
    },
    "tags": []
   },
   "outputs": [
    {
     "data": {
      "text/plain": [
       "ResNetCNN(\n",
       "  (resnet_model): ResNet(\n",
       "    (conv1): Conv2d(150, 64, kernel_size=(7, 7), stride=(2, 2), padding=(3, 3), bias=False)\n",
       "    (bn1): BatchNorm2d(64, eps=1e-05, momentum=0.1, affine=True, track_running_stats=True)\n",
       "    (relu): ReLU(inplace=True)\n",
       "    (maxpool): MaxPool2d(kernel_size=3, stride=2, padding=1, dilation=1, ceil_mode=False)\n",
       "    (layer1): Sequential(\n",
       "      (0): Bottleneck(\n",
       "        (conv1): Conv2d(64, 64, kernel_size=(1, 1), stride=(1, 1), bias=False)\n",
       "        (bn1): BatchNorm2d(64, eps=1e-05, momentum=0.1, affine=True, track_running_stats=True)\n",
       "        (conv2): Conv2d(64, 64, kernel_size=(3, 3), stride=(1, 1), padding=(1, 1), bias=False)\n",
       "        (bn2): BatchNorm2d(64, eps=1e-05, momentum=0.1, affine=True, track_running_stats=True)\n",
       "        (conv3): Conv2d(64, 256, kernel_size=(1, 1), stride=(1, 1), bias=False)\n",
       "        (bn3): BatchNorm2d(256, eps=1e-05, momentum=0.1, affine=True, track_running_stats=True)\n",
       "        (relu): ReLU(inplace=True)\n",
       "        (downsample): Sequential(\n",
       "          (0): Conv2d(64, 256, kernel_size=(1, 1), stride=(1, 1), bias=False)\n",
       "          (1): BatchNorm2d(256, eps=1e-05, momentum=0.1, affine=True, track_running_stats=True)\n",
       "        )\n",
       "      )\n",
       "      (1): Bottleneck(\n",
       "        (conv1): Conv2d(256, 64, kernel_size=(1, 1), stride=(1, 1), bias=False)\n",
       "        (bn1): BatchNorm2d(64, eps=1e-05, momentum=0.1, affine=True, track_running_stats=True)\n",
       "        (conv2): Conv2d(64, 64, kernel_size=(3, 3), stride=(1, 1), padding=(1, 1), bias=False)\n",
       "        (bn2): BatchNorm2d(64, eps=1e-05, momentum=0.1, affine=True, track_running_stats=True)\n",
       "        (conv3): Conv2d(64, 256, kernel_size=(1, 1), stride=(1, 1), bias=False)\n",
       "        (bn3): BatchNorm2d(256, eps=1e-05, momentum=0.1, affine=True, track_running_stats=True)\n",
       "        (relu): ReLU(inplace=True)\n",
       "      )\n",
       "      (2): Bottleneck(\n",
       "        (conv1): Conv2d(256, 64, kernel_size=(1, 1), stride=(1, 1), bias=False)\n",
       "        (bn1): BatchNorm2d(64, eps=1e-05, momentum=0.1, affine=True, track_running_stats=True)\n",
       "        (conv2): Conv2d(64, 64, kernel_size=(3, 3), stride=(1, 1), padding=(1, 1), bias=False)\n",
       "        (bn2): BatchNorm2d(64, eps=1e-05, momentum=0.1, affine=True, track_running_stats=True)\n",
       "        (conv3): Conv2d(64, 256, kernel_size=(1, 1), stride=(1, 1), bias=False)\n",
       "        (bn3): BatchNorm2d(256, eps=1e-05, momentum=0.1, affine=True, track_running_stats=True)\n",
       "        (relu): ReLU(inplace=True)\n",
       "      )\n",
       "    )\n",
       "    (layer2): Sequential(\n",
       "      (0): Bottleneck(\n",
       "        (conv1): Conv2d(256, 128, kernel_size=(1, 1), stride=(1, 1), bias=False)\n",
       "        (bn1): BatchNorm2d(128, eps=1e-05, momentum=0.1, affine=True, track_running_stats=True)\n",
       "        (conv2): Conv2d(128, 128, kernel_size=(3, 3), stride=(2, 2), padding=(1, 1), bias=False)\n",
       "        (bn2): BatchNorm2d(128, eps=1e-05, momentum=0.1, affine=True, track_running_stats=True)\n",
       "        (conv3): Conv2d(128, 512, kernel_size=(1, 1), stride=(1, 1), bias=False)\n",
       "        (bn3): BatchNorm2d(512, eps=1e-05, momentum=0.1, affine=True, track_running_stats=True)\n",
       "        (relu): ReLU(inplace=True)\n",
       "        (downsample): Sequential(\n",
       "          (0): Conv2d(256, 512, kernel_size=(1, 1), stride=(2, 2), bias=False)\n",
       "          (1): BatchNorm2d(512, eps=1e-05, momentum=0.1, affine=True, track_running_stats=True)\n",
       "        )\n",
       "      )\n",
       "      (1): Bottleneck(\n",
       "        (conv1): Conv2d(512, 128, kernel_size=(1, 1), stride=(1, 1), bias=False)\n",
       "        (bn1): BatchNorm2d(128, eps=1e-05, momentum=0.1, affine=True, track_running_stats=True)\n",
       "        (conv2): Conv2d(128, 128, kernel_size=(3, 3), stride=(1, 1), padding=(1, 1), bias=False)\n",
       "        (bn2): BatchNorm2d(128, eps=1e-05, momentum=0.1, affine=True, track_running_stats=True)\n",
       "        (conv3): Conv2d(128, 512, kernel_size=(1, 1), stride=(1, 1), bias=False)\n",
       "        (bn3): BatchNorm2d(512, eps=1e-05, momentum=0.1, affine=True, track_running_stats=True)\n",
       "        (relu): ReLU(inplace=True)\n",
       "      )\n",
       "      (2): Bottleneck(\n",
       "        (conv1): Conv2d(512, 128, kernel_size=(1, 1), stride=(1, 1), bias=False)\n",
       "        (bn1): BatchNorm2d(128, eps=1e-05, momentum=0.1, affine=True, track_running_stats=True)\n",
       "        (conv2): Conv2d(128, 128, kernel_size=(3, 3), stride=(1, 1), padding=(1, 1), bias=False)\n",
       "        (bn2): BatchNorm2d(128, eps=1e-05, momentum=0.1, affine=True, track_running_stats=True)\n",
       "        (conv3): Conv2d(128, 512, kernel_size=(1, 1), stride=(1, 1), bias=False)\n",
       "        (bn3): BatchNorm2d(512, eps=1e-05, momentum=0.1, affine=True, track_running_stats=True)\n",
       "        (relu): ReLU(inplace=True)\n",
       "      )\n",
       "      (3): Bottleneck(\n",
       "        (conv1): Conv2d(512, 128, kernel_size=(1, 1), stride=(1, 1), bias=False)\n",
       "        (bn1): BatchNorm2d(128, eps=1e-05, momentum=0.1, affine=True, track_running_stats=True)\n",
       "        (conv2): Conv2d(128, 128, kernel_size=(3, 3), stride=(1, 1), padding=(1, 1), bias=False)\n",
       "        (bn2): BatchNorm2d(128, eps=1e-05, momentum=0.1, affine=True, track_running_stats=True)\n",
       "        (conv3): Conv2d(128, 512, kernel_size=(1, 1), stride=(1, 1), bias=False)\n",
       "        (bn3): BatchNorm2d(512, eps=1e-05, momentum=0.1, affine=True, track_running_stats=True)\n",
       "        (relu): ReLU(inplace=True)\n",
       "      )\n",
       "    )\n",
       "    (layer3): Sequential(\n",
       "      (0): Bottleneck(\n",
       "        (conv1): Conv2d(512, 256, kernel_size=(1, 1), stride=(1, 1), bias=False)\n",
       "        (bn1): BatchNorm2d(256, eps=1e-05, momentum=0.1, affine=True, track_running_stats=True)\n",
       "        (conv2): Conv2d(256, 256, kernel_size=(3, 3), stride=(2, 2), padding=(1, 1), bias=False)\n",
       "        (bn2): BatchNorm2d(256, eps=1e-05, momentum=0.1, affine=True, track_running_stats=True)\n",
       "        (conv3): Conv2d(256, 1024, kernel_size=(1, 1), stride=(1, 1), bias=False)\n",
       "        (bn3): BatchNorm2d(1024, eps=1e-05, momentum=0.1, affine=True, track_running_stats=True)\n",
       "        (relu): ReLU(inplace=True)\n",
       "        (downsample): Sequential(\n",
       "          (0): Conv2d(512, 1024, kernel_size=(1, 1), stride=(2, 2), bias=False)\n",
       "          (1): BatchNorm2d(1024, eps=1e-05, momentum=0.1, affine=True, track_running_stats=True)\n",
       "        )\n",
       "      )\n",
       "      (1): Bottleneck(\n",
       "        (conv1): Conv2d(1024, 256, kernel_size=(1, 1), stride=(1, 1), bias=False)\n",
       "        (bn1): BatchNorm2d(256, eps=1e-05, momentum=0.1, affine=True, track_running_stats=True)\n",
       "        (conv2): Conv2d(256, 256, kernel_size=(3, 3), stride=(1, 1), padding=(1, 1), bias=False)\n",
       "        (bn2): BatchNorm2d(256, eps=1e-05, momentum=0.1, affine=True, track_running_stats=True)\n",
       "        (conv3): Conv2d(256, 1024, kernel_size=(1, 1), stride=(1, 1), bias=False)\n",
       "        (bn3): BatchNorm2d(1024, eps=1e-05, momentum=0.1, affine=True, track_running_stats=True)\n",
       "        (relu): ReLU(inplace=True)\n",
       "      )\n",
       "      (2): Bottleneck(\n",
       "        (conv1): Conv2d(1024, 256, kernel_size=(1, 1), stride=(1, 1), bias=False)\n",
       "        (bn1): BatchNorm2d(256, eps=1e-05, momentum=0.1, affine=True, track_running_stats=True)\n",
       "        (conv2): Conv2d(256, 256, kernel_size=(3, 3), stride=(1, 1), padding=(1, 1), bias=False)\n",
       "        (bn2): BatchNorm2d(256, eps=1e-05, momentum=0.1, affine=True, track_running_stats=True)\n",
       "        (conv3): Conv2d(256, 1024, kernel_size=(1, 1), stride=(1, 1), bias=False)\n",
       "        (bn3): BatchNorm2d(1024, eps=1e-05, momentum=0.1, affine=True, track_running_stats=True)\n",
       "        (relu): ReLU(inplace=True)\n",
       "      )\n",
       "      (3): Bottleneck(\n",
       "        (conv1): Conv2d(1024, 256, kernel_size=(1, 1), stride=(1, 1), bias=False)\n",
       "        (bn1): BatchNorm2d(256, eps=1e-05, momentum=0.1, affine=True, track_running_stats=True)\n",
       "        (conv2): Conv2d(256, 256, kernel_size=(3, 3), stride=(1, 1), padding=(1, 1), bias=False)\n",
       "        (bn2): BatchNorm2d(256, eps=1e-05, momentum=0.1, affine=True, track_running_stats=True)\n",
       "        (conv3): Conv2d(256, 1024, kernel_size=(1, 1), stride=(1, 1), bias=False)\n",
       "        (bn3): BatchNorm2d(1024, eps=1e-05, momentum=0.1, affine=True, track_running_stats=True)\n",
       "        (relu): ReLU(inplace=True)\n",
       "      )\n",
       "      (4): Bottleneck(\n",
       "        (conv1): Conv2d(1024, 256, kernel_size=(1, 1), stride=(1, 1), bias=False)\n",
       "        (bn1): BatchNorm2d(256, eps=1e-05, momentum=0.1, affine=True, track_running_stats=True)\n",
       "        (conv2): Conv2d(256, 256, kernel_size=(3, 3), stride=(1, 1), padding=(1, 1), bias=False)\n",
       "        (bn2): BatchNorm2d(256, eps=1e-05, momentum=0.1, affine=True, track_running_stats=True)\n",
       "        (conv3): Conv2d(256, 1024, kernel_size=(1, 1), stride=(1, 1), bias=False)\n",
       "        (bn3): BatchNorm2d(1024, eps=1e-05, momentum=0.1, affine=True, track_running_stats=True)\n",
       "        (relu): ReLU(inplace=True)\n",
       "      )\n",
       "      (5): Bottleneck(\n",
       "        (conv1): Conv2d(1024, 256, kernel_size=(1, 1), stride=(1, 1), bias=False)\n",
       "        (bn1): BatchNorm2d(256, eps=1e-05, momentum=0.1, affine=True, track_running_stats=True)\n",
       "        (conv2): Conv2d(256, 256, kernel_size=(3, 3), stride=(1, 1), padding=(1, 1), bias=False)\n",
       "        (bn2): BatchNorm2d(256, eps=1e-05, momentum=0.1, affine=True, track_running_stats=True)\n",
       "        (conv3): Conv2d(256, 1024, kernel_size=(1, 1), stride=(1, 1), bias=False)\n",
       "        (bn3): BatchNorm2d(1024, eps=1e-05, momentum=0.1, affine=True, track_running_stats=True)\n",
       "        (relu): ReLU(inplace=True)\n",
       "      )\n",
       "    )\n",
       "    (layer4): Sequential(\n",
       "      (0): Bottleneck(\n",
       "        (conv1): Conv2d(1024, 512, kernel_size=(1, 1), stride=(1, 1), bias=False)\n",
       "        (bn1): BatchNorm2d(512, eps=1e-05, momentum=0.1, affine=True, track_running_stats=True)\n",
       "        (conv2): Conv2d(512, 512, kernel_size=(3, 3), stride=(2, 2), padding=(1, 1), bias=False)\n",
       "        (bn2): BatchNorm2d(512, eps=1e-05, momentum=0.1, affine=True, track_running_stats=True)\n",
       "        (conv3): Conv2d(512, 2048, kernel_size=(1, 1), stride=(1, 1), bias=False)\n",
       "        (bn3): BatchNorm2d(2048, eps=1e-05, momentum=0.1, affine=True, track_running_stats=True)\n",
       "        (relu): ReLU(inplace=True)\n",
       "        (downsample): Sequential(\n",
       "          (0): Conv2d(1024, 2048, kernel_size=(1, 1), stride=(2, 2), bias=False)\n",
       "          (1): BatchNorm2d(2048, eps=1e-05, momentum=0.1, affine=True, track_running_stats=True)\n",
       "        )\n",
       "      )\n",
       "      (1): Bottleneck(\n",
       "        (conv1): Conv2d(2048, 512, kernel_size=(1, 1), stride=(1, 1), bias=False)\n",
       "        (bn1): BatchNorm2d(512, eps=1e-05, momentum=0.1, affine=True, track_running_stats=True)\n",
       "        (conv2): Conv2d(512, 512, kernel_size=(3, 3), stride=(1, 1), padding=(1, 1), bias=False)\n",
       "        (bn2): BatchNorm2d(512, eps=1e-05, momentum=0.1, affine=True, track_running_stats=True)\n",
       "        (conv3): Conv2d(512, 2048, kernel_size=(1, 1), stride=(1, 1), bias=False)\n",
       "        (bn3): BatchNorm2d(2048, eps=1e-05, momentum=0.1, affine=True, track_running_stats=True)\n",
       "        (relu): ReLU(inplace=True)\n",
       "      )\n",
       "      (2): Bottleneck(\n",
       "        (conv1): Conv2d(2048, 512, kernel_size=(1, 1), stride=(1, 1), bias=False)\n",
       "        (bn1): BatchNorm2d(512, eps=1e-05, momentum=0.1, affine=True, track_running_stats=True)\n",
       "        (conv2): Conv2d(512, 512, kernel_size=(3, 3), stride=(1, 1), padding=(1, 1), bias=False)\n",
       "        (bn2): BatchNorm2d(512, eps=1e-05, momentum=0.1, affine=True, track_running_stats=True)\n",
       "        (conv3): Conv2d(512, 2048, kernel_size=(1, 1), stride=(1, 1), bias=False)\n",
       "        (bn3): BatchNorm2d(2048, eps=1e-05, momentum=0.1, affine=True, track_running_stats=True)\n",
       "        (relu): ReLU(inplace=True)\n",
       "      )\n",
       "    )\n",
       "    (avgpool): AdaptiveAvgPool2d(output_size=(1, 1))\n",
       "    (fc): Linear(in_features=2048, out_features=4, bias=True)\n",
       "  )\n",
       ")"
      ]
     },
     "execution_count": 65,
     "metadata": {},
     "output_type": "execute_result"
    }
   ],
   "source": [
    "modelLoad.eval()"
   ]
  },
  {
   "cell_type": "code",
   "execution_count": 66,
   "id": "c9291a88-df06-4f13-a81a-f59bdd2370c6",
   "metadata": {},
   "outputs": [],
   "source": [
    "test_data = HyperViewDataset(None, os.path.join(\n",
    "    test_data_directory), True, means, stds, train_transforms=False)"
   ]
  },
  {
   "cell_type": "code",
   "execution_count": 67,
   "id": "93e1aaa9-81d7-4f54-8932-b0c32781e550",
   "metadata": {},
   "outputs": [],
   "source": [
    "test_dataloader = DataLoader(\n",
    "    test_data, batch_size=BATCH_SIZE, pin_memory=True, drop_last=False, num_workers=4, shuffle=False)"
   ]
  },
  {
   "cell_type": "code",
   "execution_count": 68,
   "id": "67adb2b7-3add-4999-8ead-d5b5e9e34a54",
   "metadata": {},
   "outputs": [
    {
     "data": {
      "text/plain": [
       "1154"
      ]
     },
     "execution_count": 68,
     "metadata": {},
     "output_type": "execute_result"
    }
   ],
   "source": [
    "len(test_data)"
   ]
  },
  {
   "cell_type": "code",
   "execution_count": 69,
   "id": "38cc5f0a-cdd8-4c94-ad66-941f2cbee6fe",
   "metadata": {},
   "outputs": [
    {
     "data": {
      "application/vnd.jupyter.widget-view+json": {
       "model_id": "",
       "version_major": 2,
       "version_minor": 0
      },
      "text/plain": [
       "test data:   0%|          | 0/97 [00:00<?, ?it/s]"
      ]
     },
     "metadata": {},
     "output_type": "display_data"
    }
   ],
   "source": [
    "output_list = []\n",
    "bar = tqdm(test_dataloader, position=0, leave=False, desc=f'test data')\n",
    "for test_data in bar:  # for each test step\n",
    "    img_data_device = test_data['image'].to(device, dtype=torch.float)\n",
    "\n",
    "    output = modelLoad(img_data_device)\n",
    "    output_cpu = output.detach().cpu().numpy()\n",
    "    output_list.append(output_cpu)"
   ]
  },
  {
   "cell_type": "code",
   "execution_count": 70,
   "id": "63aba28f-9c79-4a8d-89d5-b0fc7c1f5515",
   "metadata": {},
   "outputs": [
    {
     "data": {
      "text/html": [
       "<div>\n",
       "<style scoped>\n",
       "    .dataframe tbody tr th:only-of-type {\n",
       "        vertical-align: middle;\n",
       "    }\n",
       "\n",
       "    .dataframe tbody tr th {\n",
       "        vertical-align: top;\n",
       "    }\n",
       "\n",
       "    .dataframe thead th {\n",
       "        text-align: right;\n",
       "    }\n",
       "</style>\n",
       "<table border=\"1\" class=\"dataframe\">\n",
       "  <thead>\n",
       "    <tr style=\"text-align: right;\">\n",
       "      <th></th>\n",
       "      <th>P</th>\n",
       "      <th>K</th>\n",
       "      <th>Mg</th>\n",
       "      <th>pH</th>\n",
       "    </tr>\n",
       "  </thead>\n",
       "  <tbody>\n",
       "    <tr>\n",
       "      <th>0</th>\n",
       "      <td>68.586143</td>\n",
       "      <td>222.838531</td>\n",
       "      <td>171.396500</td>\n",
       "      <td>6.951674</td>\n",
       "    </tr>\n",
       "    <tr>\n",
       "      <th>1</th>\n",
       "      <td>68.586151</td>\n",
       "      <td>222.838547</td>\n",
       "      <td>171.396500</td>\n",
       "      <td>6.951673</td>\n",
       "    </tr>\n",
       "    <tr>\n",
       "      <th>2</th>\n",
       "      <td>68.586159</td>\n",
       "      <td>222.838547</td>\n",
       "      <td>171.396484</td>\n",
       "      <td>6.951674</td>\n",
       "    </tr>\n",
       "    <tr>\n",
       "      <th>3</th>\n",
       "      <td>68.586159</td>\n",
       "      <td>222.838623</td>\n",
       "      <td>171.396469</td>\n",
       "      <td>6.951674</td>\n",
       "    </tr>\n",
       "    <tr>\n",
       "      <th>4</th>\n",
       "      <td>68.586151</td>\n",
       "      <td>222.838516</td>\n",
       "      <td>171.396500</td>\n",
       "      <td>6.951673</td>\n",
       "    </tr>\n",
       "    <tr>\n",
       "      <th>...</th>\n",
       "      <td>...</td>\n",
       "      <td>...</td>\n",
       "      <td>...</td>\n",
       "      <td>...</td>\n",
       "    </tr>\n",
       "    <tr>\n",
       "      <th>1149</th>\n",
       "      <td>67.354424</td>\n",
       "      <td>217.670792</td>\n",
       "      <td>171.512131</td>\n",
       "      <td>6.525923</td>\n",
       "    </tr>\n",
       "    <tr>\n",
       "      <th>1150</th>\n",
       "      <td>68.368927</td>\n",
       "      <td>220.833267</td>\n",
       "      <td>170.940704</td>\n",
       "      <td>6.552281</td>\n",
       "    </tr>\n",
       "    <tr>\n",
       "      <th>1151</th>\n",
       "      <td>69.019394</td>\n",
       "      <td>222.623795</td>\n",
       "      <td>168.086761</td>\n",
       "      <td>6.488876</td>\n",
       "    </tr>\n",
       "    <tr>\n",
       "      <th>1152</th>\n",
       "      <td>68.054962</td>\n",
       "      <td>219.802689</td>\n",
       "      <td>170.666565</td>\n",
       "      <td>6.531305</td>\n",
       "    </tr>\n",
       "    <tr>\n",
       "      <th>1153</th>\n",
       "      <td>73.539017</td>\n",
       "      <td>237.429199</td>\n",
       "      <td>165.856918</td>\n",
       "      <td>6.697351</td>\n",
       "    </tr>\n",
       "  </tbody>\n",
       "</table>\n",
       "<p>1154 rows × 4 columns</p>\n",
       "</div>"
      ],
      "text/plain": [
       "              P           K          Mg        pH\n",
       "0     68.586143  222.838531  171.396500  6.951674\n",
       "1     68.586151  222.838547  171.396500  6.951673\n",
       "2     68.586159  222.838547  171.396484  6.951674\n",
       "3     68.586159  222.838623  171.396469  6.951674\n",
       "4     68.586151  222.838516  171.396500  6.951673\n",
       "...         ...         ...         ...       ...\n",
       "1149  67.354424  217.670792  171.512131  6.525923\n",
       "1150  68.368927  220.833267  170.940704  6.552281\n",
       "1151  69.019394  222.623795  168.086761  6.488876\n",
       "1152  68.054962  219.802689  170.666565  6.531305\n",
       "1153  73.539017  237.429199  165.856918  6.697351\n",
       "\n",
       "[1154 rows x 4 columns]"
      ]
     },
     "execution_count": 70,
     "metadata": {},
     "output_type": "execute_result"
    }
   ],
   "source": [
    "submission = pd.DataFrame(\n",
    "    data=[item for sublist in output_list for item in sublist], columns=[\"P\", \"K\", \"Mg\", \"pH\"])\n",
    "submission"
   ]
  },
  {
   "cell_type": "code",
   "execution_count": 71,
   "id": "fd75c85f-8852-4b10-8bb5-88e56bbbd0ba",
   "metadata": {},
   "outputs": [],
   "source": [
    "submission.to_csv(os.path.join(submissions_directory,\n",
    "                  \"checkpoint_state_dict_ResNet50_07_05_2022.csv\"), index_label=\"sample_index\")"
   ]
  },
  {
   "cell_type": "markdown",
   "id": "3994bd14-88bf-4646-9b53-410312d2f5a6",
   "metadata": {},
   "source": [
    "### Error Analysis - concept"
   ]
  },
  {
   "cell_type": "code",
   "execution_count": 31,
   "id": "0e651a2c-87a1-4c5c-9216-974896683bb0",
   "metadata": {},
   "outputs": [],
   "source": [
    "# Creating DataLoaders again and turning shuffle off to prevent indices mixing places\n",
    "train_dataloader = DataLoader(\n",
    "    train_dataset, batch_size=BATCH_SIZE, pin_memory=True, drop_last=True, num_workers=4, shuffle=False)\n",
    "validation_dataloader = DataLoader(\n",
    "    validation_dataset, batch_size=BATCH_SIZE, pin_memory=True, drop_last=True, num_workers=4, shuffle=False)"
   ]
  },
  {
   "cell_type": "code",
   "execution_count": 32,
   "id": "87f94e0f-9445-47be-a1cf-02e18157f418",
   "metadata": {},
   "outputs": [],
   "source": [
    "gt = pd.read_csv(os.path.join(train_data_directory, 'train_gt.csv'))[\n",
    "    ['sample_index', 'P', 'K', 'Mg', 'pH']]"
   ]
  },
  {
   "cell_type": "code",
   "execution_count": 33,
   "id": "57ae9959-0991-44a6-857b-838e746fce37",
   "metadata": {
    "tags": []
   },
   "outputs": [
    {
     "data": {
      "application/vnd.jupyter.widget-view+json": {
       "model_id": "",
       "version_major": 2,
       "version_minor": 0
      },
      "text/plain": [
       "validation data:   0%|          | 0/27 [00:00<?, ?it/s]"
      ]
     },
     "metadata": {},
     "output_type": "display_data"
    }
   ],
   "source": [
    "modelLoad.eval()\n",
    "validation_output_list = []\n",
    "bar = tqdm(validation_dataloader, position=0,\n",
    "           leave=False, desc=f'validation data')\n",
    "for val_data in bar:  # for each test step\n",
    "    img_data_device = val_data['image'].to(device, dtype=torch.float)\n",
    "\n",
    "    output = modelLoad(img_data_device)\n",
    "    output_cpu = output.detach().cpu().numpy()\n",
    "    validation_output_list.append(output_cpu)"
   ]
  },
  {
   "cell_type": "code",
   "execution_count": 34,
   "id": "129b2296-023c-47c5-81cc-ce5414fc0c39",
   "metadata": {},
   "outputs": [
    {
     "data": {
      "application/vnd.jupyter.widget-view+json": {
       "model_id": "",
       "version_major": 2,
       "version_minor": 0
      },
      "text/plain": [
       "training data:   0%|          | 0/116 [00:00<?, ?it/s]"
      ]
     },
     "metadata": {},
     "output_type": "display_data"
    }
   ],
   "source": [
    "training_output_list = []\n",
    "bar = tqdm(train_dataloader, position=0,\n",
    "           leave=False, desc=f'training data')\n",
    "for train_data in bar:  # for each test step\n",
    "    img_data_device = train_data['image'].to(device, dtype=torch.float)\n",
    "\n",
    "    output = modelLoad(img_data_device)\n",
    "    output_cpu = output.detach().cpu().numpy()\n",
    "    training_output_list.append(output_cpu)"
   ]
  },
  {
   "cell_type": "code",
   "execution_count": 35,
   "id": "59919ded-0bc0-4f05-87c3-a60390a5f40d",
   "metadata": {},
   "outputs": [
    {
     "data": {
      "text/plain": [
       "array([[ 68.586174 , 222.83858  , 171.39645  ,   6.9516473],\n",
       "       [ 71.35007  , 230.40096  , 170.05447  ,   6.710253 ],\n",
       "       [ 68.58577  , 222.83638  , 171.39665  ,   6.9515557],\n",
       "       ...,\n",
       "       [ 68.58614  , 222.83855  , 171.3965   ,   6.951674 ],\n",
       "       [ 68.58615  , 222.83855  , 171.3965   ,   6.951673 ],\n",
       "       [ 70.83487  , 229.05513  , 180.178    ,   6.8011003]],\n",
       "      dtype=float32)"
      ]
     },
     "execution_count": 35,
     "metadata": {},
     "output_type": "execute_result"
    }
   ],
   "source": [
    "training_output_list_flat = np.array(\n",
    "    [item for sublist in training_output_list for item in sublist])\n",
    "training_output_list_flat"
   ]
  },
  {
   "cell_type": "code",
   "execution_count": 36,
   "id": "347f3d71-3d7e-400e-9bf2-a9d62e5409a7",
   "metadata": {},
   "outputs": [],
   "source": [
    "training_output_P = training_output_list_flat[:, 0]\n",
    "training_output_K = training_output_list_flat[:, 1]\n",
    "training_output_Mg = training_output_list_flat[:, 2]\n",
    "training_output_pH = training_output_list_flat[:, 3]"
   ]
  },
  {
   "cell_type": "code",
   "execution_count": 37,
   "id": "b4c61b3b-0f81-4704-99c3-1148f1995a73",
   "metadata": {},
   "outputs": [
    {
     "data": {
      "text/plain": [
       "1392"
      ]
     },
     "execution_count": 37,
     "metadata": {},
     "output_type": "execute_result"
    }
   ],
   "source": [
    "number_of_predictions = training_output_P.shape[0]\n",
    "number_of_predictions"
   ]
  },
  {
   "cell_type": "code",
   "execution_count": 38,
   "id": "aee7782a-f5d0-47ec-a2b5-48d60840434e",
   "metadata": {},
   "outputs": [],
   "source": [
    "train_truth_P = np.array(gt.loc[train_dataset.indices]['P'])[:number_of_predictions]\n",
    "train_truth_K = np.array(gt.loc[train_dataset.indices]['K'])[:number_of_predictions]\n",
    "train_truth_Mg = np.array(gt.loc[train_dataset.indices]['Mg'])[:number_of_predictions]\n",
    "train_truth_pH = np.array(gt.loc[train_dataset.indices]['pH'])[:number_of_predictions]"
   ]
  },
  {
   "cell_type": "code",
   "execution_count": 39,
   "id": "f919ecb2-704e-436f-96ad-50a9e28dd217",
   "metadata": {},
   "outputs": [],
   "source": [
    "train_df = pd.DataFrame(np.array([training_output_P, training_output_K, training_output_Mg, training_output_pH,\n",
    "                                 train_truth_P, train_truth_K, train_truth_Mg, train_truth_pH]).T, columns=['output_P', 'output_K', 'output_Mg', 'output_pH',\n",
    "                                                                                                              'truth_P', 'truth_K', 'truth_Mg', 'truth_pH'])\n",
    "train_df['split'] = 'train'"
   ]
  },
  {
   "cell_type": "code",
   "execution_count": 40,
   "id": "aeb1a4fe-7cc5-4afe-9c19-de5a07ebb4b2",
   "metadata": {},
   "outputs": [
    {
     "data": {
      "text/html": [
       "<div>\n",
       "<style scoped>\n",
       "    .dataframe tbody tr th:only-of-type {\n",
       "        vertical-align: middle;\n",
       "    }\n",
       "\n",
       "    .dataframe tbody tr th {\n",
       "        vertical-align: top;\n",
       "    }\n",
       "\n",
       "    .dataframe thead th {\n",
       "        text-align: right;\n",
       "    }\n",
       "</style>\n",
       "<table border=\"1\" class=\"dataframe\">\n",
       "  <thead>\n",
       "    <tr style=\"text-align: right;\">\n",
       "      <th></th>\n",
       "      <th>output_P</th>\n",
       "      <th>output_K</th>\n",
       "      <th>output_Mg</th>\n",
       "      <th>output_pH</th>\n",
       "      <th>truth_P</th>\n",
       "      <th>truth_K</th>\n",
       "      <th>truth_Mg</th>\n",
       "      <th>truth_pH</th>\n",
       "      <th>split</th>\n",
       "    </tr>\n",
       "  </thead>\n",
       "  <tbody>\n",
       "    <tr>\n",
       "      <th>0</th>\n",
       "      <td>68.586174</td>\n",
       "      <td>222.838577</td>\n",
       "      <td>171.396454</td>\n",
       "      <td>6.951647</td>\n",
       "      <td>35.0</td>\n",
       "      <td>147.0</td>\n",
       "      <td>146.0</td>\n",
       "      <td>6.40</td>\n",
       "      <td>train</td>\n",
       "    </tr>\n",
       "    <tr>\n",
       "      <th>1</th>\n",
       "      <td>71.350067</td>\n",
       "      <td>230.400955</td>\n",
       "      <td>170.054474</td>\n",
       "      <td>6.710253</td>\n",
       "      <td>90.2</td>\n",
       "      <td>316.0</td>\n",
       "      <td>141.0</td>\n",
       "      <td>6.70</td>\n",
       "      <td>train</td>\n",
       "    </tr>\n",
       "    <tr>\n",
       "      <th>2</th>\n",
       "      <td>68.585770</td>\n",
       "      <td>222.836380</td>\n",
       "      <td>171.396652</td>\n",
       "      <td>6.951556</td>\n",
       "      <td>45.7</td>\n",
       "      <td>224.0</td>\n",
       "      <td>221.0</td>\n",
       "      <td>6.70</td>\n",
       "      <td>train</td>\n",
       "    </tr>\n",
       "    <tr>\n",
       "      <th>3</th>\n",
       "      <td>69.123749</td>\n",
       "      <td>223.477951</td>\n",
       "      <td>177.343658</td>\n",
       "      <td>6.705151</td>\n",
       "      <td>66.3</td>\n",
       "      <td>194.0</td>\n",
       "      <td>149.0</td>\n",
       "      <td>6.50</td>\n",
       "      <td>train</td>\n",
       "    </tr>\n",
       "    <tr>\n",
       "      <th>4</th>\n",
       "      <td>68.918533</td>\n",
       "      <td>222.987427</td>\n",
       "      <td>175.491287</td>\n",
       "      <td>6.690170</td>\n",
       "      <td>56.1</td>\n",
       "      <td>142.0</td>\n",
       "      <td>135.0</td>\n",
       "      <td>6.70</td>\n",
       "      <td>train</td>\n",
       "    </tr>\n",
       "    <tr>\n",
       "      <th>...</th>\n",
       "      <td>...</td>\n",
       "      <td>...</td>\n",
       "      <td>...</td>\n",
       "      <td>...</td>\n",
       "      <td>...</td>\n",
       "      <td>...</td>\n",
       "      <td>...</td>\n",
       "      <td>...</td>\n",
       "      <td>...</td>\n",
       "    </tr>\n",
       "    <tr>\n",
       "      <th>1387</th>\n",
       "      <td>68.586159</td>\n",
       "      <td>222.838730</td>\n",
       "      <td>171.396469</td>\n",
       "      <td>6.951678</td>\n",
       "      <td>43.6</td>\n",
       "      <td>176.0</td>\n",
       "      <td>91.3</td>\n",
       "      <td>7.00</td>\n",
       "      <td>train</td>\n",
       "    </tr>\n",
       "    <tr>\n",
       "      <th>1388</th>\n",
       "      <td>68.586151</td>\n",
       "      <td>222.838547</td>\n",
       "      <td>171.396500</td>\n",
       "      <td>6.951675</td>\n",
       "      <td>44.2</td>\n",
       "      <td>202.0</td>\n",
       "      <td>129.0</td>\n",
       "      <td>6.80</td>\n",
       "      <td>train</td>\n",
       "    </tr>\n",
       "    <tr>\n",
       "      <th>1389</th>\n",
       "      <td>68.586143</td>\n",
       "      <td>222.838547</td>\n",
       "      <td>171.396500</td>\n",
       "      <td>6.951674</td>\n",
       "      <td>81.6</td>\n",
       "      <td>259.0</td>\n",
       "      <td>161.0</td>\n",
       "      <td>6.90</td>\n",
       "      <td>train</td>\n",
       "    </tr>\n",
       "    <tr>\n",
       "      <th>1390</th>\n",
       "      <td>68.586151</td>\n",
       "      <td>222.838547</td>\n",
       "      <td>171.396500</td>\n",
       "      <td>6.951673</td>\n",
       "      <td>44.2</td>\n",
       "      <td>174.0</td>\n",
       "      <td>96.5</td>\n",
       "      <td>6.55</td>\n",
       "      <td>train</td>\n",
       "    </tr>\n",
       "    <tr>\n",
       "      <th>1391</th>\n",
       "      <td>70.834869</td>\n",
       "      <td>229.055130</td>\n",
       "      <td>180.177994</td>\n",
       "      <td>6.801100</td>\n",
       "      <td>189.0</td>\n",
       "      <td>248.0</td>\n",
       "      <td>197.0</td>\n",
       "      <td>6.50</td>\n",
       "      <td>train</td>\n",
       "    </tr>\n",
       "  </tbody>\n",
       "</table>\n",
       "<p>1392 rows × 9 columns</p>\n",
       "</div>"
      ],
      "text/plain": [
       "       output_P    output_K   output_Mg  output_pH  truth_P  truth_K  \\\n",
       "0     68.586174  222.838577  171.396454   6.951647     35.0    147.0   \n",
       "1     71.350067  230.400955  170.054474   6.710253     90.2    316.0   \n",
       "2     68.585770  222.836380  171.396652   6.951556     45.7    224.0   \n",
       "3     69.123749  223.477951  177.343658   6.705151     66.3    194.0   \n",
       "4     68.918533  222.987427  175.491287   6.690170     56.1    142.0   \n",
       "...         ...         ...         ...        ...      ...      ...   \n",
       "1387  68.586159  222.838730  171.396469   6.951678     43.6    176.0   \n",
       "1388  68.586151  222.838547  171.396500   6.951675     44.2    202.0   \n",
       "1389  68.586143  222.838547  171.396500   6.951674     81.6    259.0   \n",
       "1390  68.586151  222.838547  171.396500   6.951673     44.2    174.0   \n",
       "1391  70.834869  229.055130  180.177994   6.801100    189.0    248.0   \n",
       "\n",
       "      truth_Mg  truth_pH  split  \n",
       "0        146.0      6.40  train  \n",
       "1        141.0      6.70  train  \n",
       "2        221.0      6.70  train  \n",
       "3        149.0      6.50  train  \n",
       "4        135.0      6.70  train  \n",
       "...        ...       ...    ...  \n",
       "1387      91.3      7.00  train  \n",
       "1388     129.0      6.80  train  \n",
       "1389     161.0      6.90  train  \n",
       "1390      96.5      6.55  train  \n",
       "1391     197.0      6.50  train  \n",
       "\n",
       "[1392 rows x 9 columns]"
      ]
     },
     "execution_count": 40,
     "metadata": {},
     "output_type": "execute_result"
    }
   ],
   "source": [
    "train_df"
   ]
  },
  {
   "cell_type": "code",
   "execution_count": 41,
   "id": "d30f400d-e98b-4d3c-b6e4-6ff1b726dfa3",
   "metadata": {
    "tags": []
   },
   "outputs": [
    {
     "data": {
      "text/plain": [
       "array([[ 68.67605  , 221.88498  , 168.7109   ,   6.523797 ],\n",
       "       [ 66.62621  , 215.48517  , 172.42503  ,   6.4989853],\n",
       "       [ 68.365456 , 220.84023  , 172.12456  ,   6.5779047],\n",
       "       ...,\n",
       "       [ 68.68002  , 222.01817  , 173.63876  ,   6.6194277],\n",
       "       [ 68.58615  , 222.83855  , 171.39648  ,   6.9516745],\n",
       "       [ 73.52599  , 237.02492  , 168.00871  ,   6.7474103]],\n",
       "      dtype=float32)"
      ]
     },
     "execution_count": 41,
     "metadata": {},
     "output_type": "execute_result"
    }
   ],
   "source": [
    "validation_output_list_flat = np.array(\n",
    "    [item for sublist in validation_output_list for item in sublist])\n",
    "validation_output_list_flat"
   ]
  },
  {
   "cell_type": "code",
   "execution_count": 42,
   "id": "05e52825-3f1d-469b-a182-94ddef885a59",
   "metadata": {},
   "outputs": [],
   "source": [
    "validation_output_P = validation_output_list_flat[:, 0]\n",
    "validation_output_K = validation_output_list_flat[:, 1]\n",
    "validation_output_Mg = validation_output_list_flat[:, 2]\n",
    "validation_output_pH = validation_output_list_flat[:, 3]"
   ]
  },
  {
   "cell_type": "code",
   "execution_count": 43,
   "id": "ff2eae1d-d739-4d84-a3a9-1bf9f565c2aa",
   "metadata": {},
   "outputs": [
    {
     "data": {
      "text/plain": [
       "324"
      ]
     },
     "execution_count": 43,
     "metadata": {},
     "output_type": "execute_result"
    }
   ],
   "source": [
    "number_of_predictions = validation_output_K.shape[0]\n",
    "number_of_predictions"
   ]
  },
  {
   "cell_type": "code",
   "execution_count": 44,
   "id": "8c52c16a-3720-4d16-9165-782774fb8b2a",
   "metadata": {},
   "outputs": [],
   "source": [
    "validation_truth_P = np.array(gt.loc[validation_dataset.indices]['P'])[:number_of_predictions]\n",
    "validation_truth_K = np.array(gt.loc[validation_dataset.indices]['K'])[:number_of_predictions]\n",
    "validation_truth_Mg = np.array(gt.loc[validation_dataset.indices]['Mg'])[:number_of_predictions]\n",
    "validation_truth_pH = np.array(gt.loc[validation_dataset.indices]['pH'])[:number_of_predictions]"
   ]
  },
  {
   "cell_type": "code",
   "execution_count": 45,
   "id": "35587dc5-19c2-4bf1-8360-f35afbdd51c7",
   "metadata": {},
   "outputs": [],
   "source": [
    "validation_df = pd.DataFrame(np.array([validation_output_P, validation_output_K, validation_output_Mg, validation_output_pH,\n",
    "                                 validation_truth_P, validation_truth_K, validation_truth_Mg, validation_truth_pH]).T, columns=['output_P', 'output_K', 'output_Mg', 'output_pH',\n",
    "                                                                                                              'truth_P', 'truth_K', 'truth_Mg', 'truth_pH'])\n",
    "validation_df['split'] = 'valid'"
   ]
  },
  {
   "cell_type": "code",
   "execution_count": 46,
   "id": "78b7072c-e961-491f-98aa-c55bf7d77daa",
   "metadata": {},
   "outputs": [
    {
     "data": {
      "text/html": [
       "<div>\n",
       "<style scoped>\n",
       "    .dataframe tbody tr th:only-of-type {\n",
       "        vertical-align: middle;\n",
       "    }\n",
       "\n",
       "    .dataframe tbody tr th {\n",
       "        vertical-align: top;\n",
       "    }\n",
       "\n",
       "    .dataframe thead th {\n",
       "        text-align: right;\n",
       "    }\n",
       "</style>\n",
       "<table border=\"1\" class=\"dataframe\">\n",
       "  <thead>\n",
       "    <tr style=\"text-align: right;\">\n",
       "      <th></th>\n",
       "      <th>output_P</th>\n",
       "      <th>output_K</th>\n",
       "      <th>output_Mg</th>\n",
       "      <th>output_pH</th>\n",
       "      <th>truth_P</th>\n",
       "      <th>truth_K</th>\n",
       "      <th>truth_Mg</th>\n",
       "      <th>truth_pH</th>\n",
       "      <th>split</th>\n",
       "    </tr>\n",
       "  </thead>\n",
       "  <tbody>\n",
       "    <tr>\n",
       "      <th>0</th>\n",
       "      <td>68.676048</td>\n",
       "      <td>221.884979</td>\n",
       "      <td>168.710907</td>\n",
       "      <td>6.523797</td>\n",
       "      <td>87.2</td>\n",
       "      <td>285.0</td>\n",
       "      <td>154.0</td>\n",
       "      <td>6.8</td>\n",
       "      <td>valid</td>\n",
       "    </tr>\n",
       "    <tr>\n",
       "      <th>1</th>\n",
       "      <td>66.626213</td>\n",
       "      <td>215.485168</td>\n",
       "      <td>172.425034</td>\n",
       "      <td>6.498985</td>\n",
       "      <td>78.6</td>\n",
       "      <td>252.0</td>\n",
       "      <td>158.0</td>\n",
       "      <td>6.8</td>\n",
       "      <td>valid</td>\n",
       "    </tr>\n",
       "    <tr>\n",
       "      <th>2</th>\n",
       "      <td>68.365456</td>\n",
       "      <td>220.840225</td>\n",
       "      <td>172.124557</td>\n",
       "      <td>6.577905</td>\n",
       "      <td>87.4</td>\n",
       "      <td>241.0</td>\n",
       "      <td>172.0</td>\n",
       "      <td>6.6</td>\n",
       "      <td>valid</td>\n",
       "    </tr>\n",
       "    <tr>\n",
       "      <th>3</th>\n",
       "      <td>68.586143</td>\n",
       "      <td>222.838501</td>\n",
       "      <td>171.396515</td>\n",
       "      <td>6.951674</td>\n",
       "      <td>28.2</td>\n",
       "      <td>209.0</td>\n",
       "      <td>271.0</td>\n",
       "      <td>6.8</td>\n",
       "      <td>valid</td>\n",
       "    </tr>\n",
       "    <tr>\n",
       "      <th>4</th>\n",
       "      <td>79.494965</td>\n",
       "      <td>255.878677</td>\n",
       "      <td>158.485077</td>\n",
       "      <td>7.031728</td>\n",
       "      <td>74.7</td>\n",
       "      <td>216.0</td>\n",
       "      <td>131.0</td>\n",
       "      <td>6.8</td>\n",
       "      <td>valid</td>\n",
       "    </tr>\n",
       "    <tr>\n",
       "      <th>...</th>\n",
       "      <td>...</td>\n",
       "      <td>...</td>\n",
       "      <td>...</td>\n",
       "      <td>...</td>\n",
       "      <td>...</td>\n",
       "      <td>...</td>\n",
       "      <td>...</td>\n",
       "      <td>...</td>\n",
       "      <td>...</td>\n",
       "    </tr>\n",
       "    <tr>\n",
       "      <th>319</th>\n",
       "      <td>68.586151</td>\n",
       "      <td>222.838547</td>\n",
       "      <td>171.396484</td>\n",
       "      <td>6.951674</td>\n",
       "      <td>32.1</td>\n",
       "      <td>192.0</td>\n",
       "      <td>242.0</td>\n",
       "      <td>7.0</td>\n",
       "      <td>valid</td>\n",
       "    </tr>\n",
       "    <tr>\n",
       "      <th>320</th>\n",
       "      <td>80.122482</td>\n",
       "      <td>257.373627</td>\n",
       "      <td>155.709625</td>\n",
       "      <td>7.044796</td>\n",
       "      <td>74.9</td>\n",
       "      <td>202.0</td>\n",
       "      <td>129.0</td>\n",
       "      <td>7.0</td>\n",
       "      <td>valid</td>\n",
       "    </tr>\n",
       "    <tr>\n",
       "      <th>321</th>\n",
       "      <td>68.680023</td>\n",
       "      <td>222.018173</td>\n",
       "      <td>173.638763</td>\n",
       "      <td>6.619428</td>\n",
       "      <td>46.5</td>\n",
       "      <td>139.0</td>\n",
       "      <td>176.0</td>\n",
       "      <td>6.9</td>\n",
       "      <td>valid</td>\n",
       "    </tr>\n",
       "    <tr>\n",
       "      <th>322</th>\n",
       "      <td>68.586151</td>\n",
       "      <td>222.838547</td>\n",
       "      <td>171.396484</td>\n",
       "      <td>6.951674</td>\n",
       "      <td>62.8</td>\n",
       "      <td>207.0</td>\n",
       "      <td>147.0</td>\n",
       "      <td>7.1</td>\n",
       "      <td>valid</td>\n",
       "    </tr>\n",
       "    <tr>\n",
       "      <th>323</th>\n",
       "      <td>73.525993</td>\n",
       "      <td>237.024918</td>\n",
       "      <td>168.008713</td>\n",
       "      <td>6.747410</td>\n",
       "      <td>43.8</td>\n",
       "      <td>197.0</td>\n",
       "      <td>216.0</td>\n",
       "      <td>6.4</td>\n",
       "      <td>valid</td>\n",
       "    </tr>\n",
       "  </tbody>\n",
       "</table>\n",
       "<p>324 rows × 9 columns</p>\n",
       "</div>"
      ],
      "text/plain": [
       "      output_P    output_K   output_Mg  output_pH  truth_P  truth_K  truth_Mg  \\\n",
       "0    68.676048  221.884979  168.710907   6.523797     87.2    285.0     154.0   \n",
       "1    66.626213  215.485168  172.425034   6.498985     78.6    252.0     158.0   \n",
       "2    68.365456  220.840225  172.124557   6.577905     87.4    241.0     172.0   \n",
       "3    68.586143  222.838501  171.396515   6.951674     28.2    209.0     271.0   \n",
       "4    79.494965  255.878677  158.485077   7.031728     74.7    216.0     131.0   \n",
       "..         ...         ...         ...        ...      ...      ...       ...   \n",
       "319  68.586151  222.838547  171.396484   6.951674     32.1    192.0     242.0   \n",
       "320  80.122482  257.373627  155.709625   7.044796     74.9    202.0     129.0   \n",
       "321  68.680023  222.018173  173.638763   6.619428     46.5    139.0     176.0   \n",
       "322  68.586151  222.838547  171.396484   6.951674     62.8    207.0     147.0   \n",
       "323  73.525993  237.024918  168.008713   6.747410     43.8    197.0     216.0   \n",
       "\n",
       "     truth_pH  split  \n",
       "0         6.8  valid  \n",
       "1         6.8  valid  \n",
       "2         6.6  valid  \n",
       "3         6.8  valid  \n",
       "4         6.8  valid  \n",
       "..        ...    ...  \n",
       "319       7.0  valid  \n",
       "320       7.0  valid  \n",
       "321       6.9  valid  \n",
       "322       7.1  valid  \n",
       "323       6.4  valid  \n",
       "\n",
       "[324 rows x 9 columns]"
      ]
     },
     "execution_count": 46,
     "metadata": {},
     "output_type": "execute_result"
    }
   ],
   "source": [
    "validation_df"
   ]
  },
  {
   "cell_type": "code",
   "execution_count": 47,
   "id": "2077240c-a8ad-4990-8b36-84647a716edc",
   "metadata": {},
   "outputs": [],
   "source": [
    "whole_df = pd.concat([train_df, validation_df])"
   ]
  },
  {
   "cell_type": "code",
   "execution_count": 48,
   "id": "6ee96951-3140-4e45-8b1d-16fb98a86217",
   "metadata": {},
   "outputs": [],
   "source": [
    "whole_df['resid_P'] = whole_df['truth_P'] - whole_df['output_P']\n",
    "whole_df['resid_K'] = whole_df['truth_K'] - whole_df['output_K']\n",
    "whole_df['resid_Mg'] = whole_df['truth_Mg'] - whole_df['output_Mg']\n",
    "whole_df['resid_pH'] = whole_df['truth_pH'] - whole_df['output_pH']"
   ]
  },
  {
   "cell_type": "code",
   "execution_count": 57,
   "id": "14b50758-ef61-40e6-8458-db2206a19d94",
   "metadata": {},
   "outputs": [],
   "source": [
    "fig = px.scatter(\n",
    "    whole_df, x='truth_P', y='output_P', opacity=0.65,\n",
    "    trendline='ols',\n",
    "    marginal_x='histogram', marginal_y='histogram',\n",
    "    color='split'\n",
    ")\n",
    "fig.write_html(\"plots/Scatter_P_prediction_truth_histogram.html\")"
   ]
  },
  {
   "cell_type": "code",
   "execution_count": 58,
   "id": "a95060da-c5e4-40cd-8a67-fb863aa02550",
   "metadata": {},
   "outputs": [],
   "source": [
    "fig = px.scatter(\n",
    "    whole_df, x='truth_K', y='output_K', opacity=0.65,\n",
    "    trendline='ols',\n",
    "    marginal_x='histogram', marginal_y='histogram',\n",
    "    color='split'\n",
    ")\n",
    "fig.write_html(\"plots/Scatter_K_prediction_truth_histogram.html\")"
   ]
  },
  {
   "cell_type": "code",
   "execution_count": 59,
   "id": "033ea106-8460-4f9a-9536-d39d246bee2c",
   "metadata": {},
   "outputs": [],
   "source": [
    "fig = px.scatter(\n",
    "    whole_df, x='truth_Mg', y='output_Mg', opacity=0.65,\n",
    "    trendline='ols',\n",
    "    marginal_x='histogram', marginal_y='histogram',\n",
    "    color='split'\n",
    ")\n",
    "fig.write_html(\"plots/Scatter_Mg_prediction_truth_histogram.html\")"
   ]
  },
  {
   "cell_type": "code",
   "execution_count": 60,
   "id": "87515d30-f05c-4a08-9408-773ef1c67aa9",
   "metadata": {},
   "outputs": [],
   "source": [
    "fig = px.scatter(\n",
    "    whole_df, x='truth_pH', y='output_pH', opacity=0.65,\n",
    "    trendline='ols',\n",
    "    marginal_x='histogram', marginal_y='histogram',\n",
    "    color='split'\n",
    ")\n",
    "fig.write_html(\"plots/Scatter_pH_prediction_truth_histogram.html\")"
   ]
  },
  {
   "cell_type": "code",
   "execution_count": 61,
   "id": "9449cb2b-658f-4878-90b5-c5d86891ba09",
   "metadata": {},
   "outputs": [],
   "source": [
    "fig = px.scatter(\n",
    "    whole_df, x='output_P', y='resid_P',\n",
    "    marginal_y='violin',\n",
    "    color='split', trendline='ols'\n",
    ")\n",
    "fig.write_html(\"plots/Scatter_P_output_residual_violin.html\")"
   ]
  },
  {
   "cell_type": "code",
   "execution_count": 62,
   "id": "ec068087-524d-40f2-8597-4bde3cdb33cb",
   "metadata": {},
   "outputs": [],
   "source": [
    "fig = px.scatter(\n",
    "    whole_df, x='output_K', y='resid_K',\n",
    "    marginal_y='violin',\n",
    "    color='split', trendline='ols'\n",
    ")\n",
    "fig.write_html(\"plots/Scatter_K_output_residual_violin.html\")"
   ]
  },
  {
   "cell_type": "code",
   "execution_count": 63,
   "id": "b5ed1c83-7586-4268-a097-0f33cdf6902e",
   "metadata": {},
   "outputs": [],
   "source": [
    "fig = px.scatter(\n",
    "    whole_df, x='output_Mg', y='resid_Mg',\n",
    "    marginal_y='violin',\n",
    "    color='split', trendline='ols'\n",
    ")\n",
    "fig.write_html(\"plots/Scatter_Mg_output_residual_violin.html\")"
   ]
  },
  {
   "cell_type": "code",
   "execution_count": 64,
   "id": "adbd2825-d362-4e3a-b0b8-9ad76e5e5c98",
   "metadata": {},
   "outputs": [],
   "source": [
    "fig = px.scatter(\n",
    "    whole_df, x='output_pH', y='resid_pH',\n",
    "    marginal_y='violin',\n",
    "    color='split', trendline='ols'\n",
    ")\n",
    "fig.write_html(\"plots/Scatter_pH_output_residual_violin.html\")"
   ]
  },
  {
   "cell_type": "code",
   "execution_count": null,
   "id": "24afa999-5283-4d5e-8d16-bb5e2d8876ec",
   "metadata": {},
   "outputs": [],
   "source": []
  }
 ],
 "metadata": {
  "kernelspec": {
   "display_name": "Python 3.7",
   "language": "python",
   "name": "python3"
  },
  "language_info": {
   "codemirror_mode": {
    "name": "ipython",
    "version": 3
   },
   "file_extension": ".py",
   "mimetype": "text/x-python",
   "name": "python",
   "nbconvert_exporter": "python",
   "pygments_lexer": "ipython3",
   "version": "3.7.12"
  }
 },
 "nbformat": 4,
 "nbformat_minor": 5
}
