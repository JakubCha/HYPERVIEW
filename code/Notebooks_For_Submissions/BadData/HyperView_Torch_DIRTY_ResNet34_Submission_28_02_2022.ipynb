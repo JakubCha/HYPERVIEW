{
 "cells": [
  {
   "cell_type": "code",
   "execution_count": 1,
   "id": "270f1670-a145-441d-85b5-c5896262a5d5",
   "metadata": {},
   "outputs": [],
   "source": [
    "import os\n",
    "from glob import glob\n",
    "import pandas as pd\n",
    "import numpy as np\n",
    "import torch\n",
    "from torch.utils.data import Dataset, DataLoader\n",
    "from torch.utils.data.dataset import random_split\n",
    "from torch import nn, optim\n",
    "from torch.nn import functional as F\n",
    "from torchvision import transforms\n",
    "import matplotlib.pyplot as plt\n",
    "from math import ceil\n",
    "from tqdm.notebook import tqdm\n",
    "import wandb\n",
    "from torch_lr_finder import LRFinder\n",
    "from utils import EarlyStopping"
   ]
  },
  {
   "cell_type": "code",
   "execution_count": 25,
   "id": "1382c3cd-4290-4b7f-806f-198920a1f686",
   "metadata": {
    "tags": []
   },
   "outputs": [
    {
     "data": {
      "text/html": [
       "Finishing last run (ID:357z0dgq) before initializing another..."
      ],
      "text/plain": [
       "<IPython.core.display.HTML object>"
      ]
     },
     "metadata": {},
     "output_type": "display_data"
    },
    {
     "data": {
      "text/html": [
       "<br/>Waiting for W&B process to finish, PID 47600... <strong style=\"color:green\">(success).</strong>"
      ],
      "text/plain": [
       "<IPython.core.display.HTML object>"
      ]
     },
     "metadata": {},
     "output_type": "display_data"
    },
    {
     "data": {
      "application/vnd.jupyter.widget-view+json": {
       "model_id": "",
       "version_major": 2,
       "version_minor": 0
      },
      "text/plain": [
       "VBox(children=(Label(value=' 0.00MB of 0.00MB uploaded (0.00MB deduped)\\r'), FloatProgress(value=1.0, max=1.0)…"
      ]
     },
     "metadata": {},
     "output_type": "display_data"
    },
    {
     "data": {
      "text/html": [
       "<style>\n",
       "    table.wandb td:nth-child(1) { padding: 0 10px; text-align: right }\n",
       "    .wandb-row { display: flex; flex-direction: row; flex-wrap: wrap; width: 100% }\n",
       "    .wandb-col { display: flex; flex-direction: column; flex-basis: 100%; flex: 1; padding: 10px; }\n",
       "    </style>\n",
       "<div class=\"wandb-row\"><div class=\"wandb-col\">\n",
       "<h3>Run history:</h3><br/><table class=\"wandb\"><tr><td>average_train_MSE_K</td><td>█▁▁▁▁</td></tr><tr><td>average_train_MSE_Mg</td><td>█▁▁▁▁</td></tr><tr><td>average_train_MSE_P</td><td>█▁▁▁▁</td></tr><tr><td>average_train_MSE_pH</td><td>█▁▁▁▁</td></tr><tr><td>average_train_loss</td><td>█▁▁▁▁</td></tr><tr><td>average_val_MSE_K</td><td>▃▃▁█▄</td></tr><tr><td>average_val_MSE_Mh</td><td>▁▃▆▆█</td></tr><tr><td>average_val_MSE_P</td><td>▁▃▃█▇</td></tr><tr><td>average_val_MSE_pH</td><td>█▁▂▁▁</td></tr><tr><td>average_val_loss</td><td>▁▃▃█▇</td></tr><tr><td>batch_number</td><td>▁▃▅▆█▁▃▅▆█▁▃▅▆█▁▃▅▆█▁▃▅▆█</td></tr><tr><td>epoch</td><td>▁▁▁▁▁▁▁▃▃▃▃▃▃▃▅▅▅▅▅▅▅▆▆▆▆▆▆▆███████</td></tr><tr><td>train_batch_MSE_K</td><td>▆▁▂█▁▃▁▂█▁▃▁▂█▂▃▁▂█▂▃▁▂▇▁</td></tr><tr><td>train_batch_MSE_Mg</td><td>█▁▁▂▃▆▂▁▂▂▆▁▁▂▂▆▁▁▁▂▅▂▂▂▂</td></tr><tr><td>train_batch_MSE_P</td><td>█▃▃▂▁▅▁▁▂▁▅▁▁▂▁▅▁▁▂▁▅▁▁▂▁</td></tr><tr><td>train_batch_MSE_pH</td><td>█▂▃▁▂▁▁▁▁▁▁▁▁▁▁▁▁▁▁▁▁▁▁▁▁</td></tr><tr><td>train_batch_loss</td><td>█▂▂▆▂▅▁▂▆▁▄▁▂▆▂▄▁▂▆▁▄▁▂▆▁</td></tr></table><br/></div><div class=\"wandb-col\">\n",
       "<h3>Run summary:</h3><br/><table class=\"wandb\"><tr><td>average_train_MSE_K</td><td>3912.69238</td></tr><tr><td>average_train_MSE_Mg</td><td>1588.96875</td></tr><tr><td>average_train_MSE_P</td><td>859.08478</td></tr><tr><td>average_train_MSE_pH</td><td>0.15089</td></tr><tr><td>average_train_loss</td><td>1590.22424</td></tr><tr><td>average_val_MSE_K</td><td>3538.09204</td></tr><tr><td>average_val_MSE_Mh</td><td>1966.42883</td></tr><tr><td>average_val_MSE_P</td><td>1176.03857</td></tr><tr><td>average_val_MSE_pH</td><td>0.09489</td></tr><tr><td>average_val_loss</td><td>1670.1637</td></tr><tr><td>batch_number</td><td>50</td></tr><tr><td>epoch</td><td>4</td></tr><tr><td>train_batch_MSE_K</td><td>2526.32056</td></tr><tr><td>train_batch_MSE_Mg</td><td>1246.47437</td></tr><tr><td>train_batch_MSE_P</td><td>494.0618</td></tr><tr><td>train_batch_MSE_pH</td><td>0.09737</td></tr><tr><td>train_batch_loss</td><td>1066.73853</td></tr></table>\n",
       "</div></div>\n",
       "Synced 5 W&B file(s), 0 media file(s), 0 artifact file(s) and 0 other file(s)\n",
       "<br/>Synced <strong style=\"color:#cdcd00\">revived-sound-9</strong>: <a href=\"https://wandb.ai/jcharyton/HyperView-initial/runs/357z0dgq\" target=\"_blank\">https://wandb.ai/jcharyton/HyperView-initial/runs/357z0dgq</a><br/>\n",
       "Find logs at: <code>./wandb/run-20220227_192702-357z0dgq/logs</code><br/>\n"
      ],
      "text/plain": [
       "<IPython.core.display.HTML object>"
      ]
     },
     "metadata": {},
     "output_type": "display_data"
    },
    {
     "data": {
      "text/html": [
       "Successfully finished last run (ID:357z0dgq). Initializing new run:<br/>"
      ],
      "text/plain": [
       "<IPython.core.display.HTML object>"
      ]
     },
     "metadata": {},
     "output_type": "display_data"
    },
    {
     "data": {
      "text/html": [
       "\n",
       "                    Syncing run <strong><a href=\"https://wandb.ai/jcharyton/HyperView-initial/runs/3q4t8qsm\" target=\"_blank\">valiant-surf-10</a></strong> to <a href=\"https://wandb.ai/jcharyton/HyperView-initial\" target=\"_blank\">Weights & Biases</a> (<a href=\"https://docs.wandb.com/integrations/jupyter.html\" target=\"_blank\">docs</a>).<br/>\n",
       "\n",
       "                "
      ],
      "text/plain": [
       "<IPython.core.display.HTML object>"
      ]
     },
     "metadata": {},
     "output_type": "display_data"
    }
   ],
   "source": [
    "run = wandb.init(project='HyperView-initial', reinit=True)\n",
    "# wandb.init(mode=\"disabled\") # in case of testing code"
   ]
  },
  {
   "cell_type": "markdown",
   "id": "bdc45bc9-94ce-41f5-8e9a-dee4ce53beca",
   "metadata": {
    "tags": []
   },
   "source": [
    "### Paths definition"
   ]
  },
  {
   "cell_type": "code",
   "execution_count": 59,
   "id": "31f3113b-e082-4f61-ae37-e02b0ec9e990",
   "metadata": {},
   "outputs": [],
   "source": [
    "train_data_directory = r'train_data'\n",
    "test_data_directory = r'test_data'\n",
    "saved_models_directory = r'saved_models'\n",
    "submissions_directory = r'submissions'"
   ]
  },
  {
   "cell_type": "markdown",
   "id": "5ec0f93b-24a0-4506-9b86-cfa44e0cf2a3",
   "metadata": {},
   "source": [
    "### Dataset testing"
   ]
  },
  {
   "cell_type": "code",
   "execution_count": 34,
   "id": "491ae192-a832-478a-b34a-1d4336e8900e",
   "metadata": {},
   "outputs": [],
   "source": [
    "all_files = np.array(\n",
    "    sorted(\n",
    "        glob(os.path.join(train_data_directory, 'train_data', \"*.npz\")),\n",
    "        key=lambda x: int(os.path.basename(x).replace(\".npz\", \"\")),\n",
    "    )\n",
    ")"
   ]
  },
  {
   "cell_type": "code",
   "execution_count": 4,
   "id": "5f4fb93f-2f67-4bc5-840d-943fed29d159",
   "metadata": {},
   "outputs": [
    {
     "data": {
      "text/plain": [
       "array(['train_data/train_data/0.npz', 'train_data/train_data/1.npz',\n",
       "       'train_data/train_data/2.npz', ...,\n",
       "       'train_data/train_data/1729.npz', 'train_data/train_data/1730.npz',\n",
       "       'train_data/train_data/1731.npz'], dtype='<U30')"
      ]
     },
     "execution_count": 4,
     "metadata": {},
     "output_type": "execute_result"
    }
   ],
   "source": [
    "all_files"
   ]
  },
  {
   "cell_type": "code",
   "execution_count": 64,
   "id": "a6ba884a-ab55-4a54-a5dc-38421e1877ee",
   "metadata": {
    "tags": []
   },
   "outputs": [
    {
     "data": {
      "text/plain": [
       "(150, 93, 115)"
      ]
     },
     "execution_count": 64,
     "metadata": {},
     "output_type": "execute_result"
    }
   ],
   "source": [
    "arr = np.ma.MaskedArray(**np.load(all_files[1454]))\n",
    "arr.shape"
   ]
  },
  {
   "cell_type": "code",
   "execution_count": 80,
   "id": "eadf7208-b266-43de-96ab-499d18f282ab",
   "metadata": {},
   "outputs": [
    {
     "data": {
      "text/plain": [
       "(93, 115)"
      ]
     },
     "execution_count": 80,
     "metadata": {},
     "output_type": "execute_result"
    }
   ],
   "source": [
    "arr.shape[1], arr.shape[2]"
   ]
  },
  {
   "cell_type": "code",
   "execution_count": 71,
   "id": "fddd7e2f-572c-417b-b421-9d247c9f3b17",
   "metadata": {},
   "outputs": [
    {
     "data": {
      "image/png": "[encoded data removed]",
      "text/plain": [
       "<Figure size 720x360 with 2 Axes>"
      ]
     },
     "metadata": {
      "needs_background": "light"
     },
     "output_type": "display_data"
    }
   ],
   "source": [
    "fig, axs = plt.subplots(1, 2, figsize=(10, 5))\n",
    "band_id = 145\n",
    "\n",
    "axs[0].imshow(arr[band_id,:,:].data)\n",
    "axs[1].imshow(arr[band_id,:,:])\n",
    "plt.suptitle(f'Representation of band', fontsize=15)\n",
    "plt.show()"
   ]
  },
  {
   "cell_type": "code",
   "execution_count": 65,
   "id": "f2162a32-fb86-4eb1-94b7-a88fe7a712c4",
   "metadata": {
    "collapsed": true,
    "jupyter": {
     "outputs_hidden": true
    },
    "tags": []
   },
   "outputs": [
    {
     "data": {
      "text/plain": [
       "tensor([[[ 275,  268,  279,  ...,  309,  338,  281],\n",
       "         [ 250,  261,  276,  ...,  357,  336,  365],\n",
       "         [ 243,  251,  251,  ...,  337,  295,  304],\n",
       "         ...,\n",
       "         [ 363,  359,  354,  ...,  268,  275,  268],\n",
       "         [ 381,  345,  378,  ...,  295,  284,  287],\n",
       "         [ 398,  428,  424,  ...,  297,  296,  318]],\n",
       "\n",
       "        [[ 271,  270,  274,  ...,  308,  342,  283],\n",
       "         [ 255,  262,  277,  ...,  357,  338,  372],\n",
       "         [ 250,  251,  250,  ...,  338,  295,  301],\n",
       "         ...,\n",
       "         [ 366,  359,  360,  ...,  264,  269,  265],\n",
       "         [ 377,  351,  384,  ...,  296,  283,  288],\n",
       "         [ 402,  434,  433,  ...,  296,  302,  315]],\n",
       "\n",
       "        [[ 266,  267,  264,  ...,  299,  341,  280],\n",
       "         [ 254,  261,  275,  ...,  353,  331,  375],\n",
       "         [ 251,  246,  249,  ...,  334,  289,  302],\n",
       "         ...,\n",
       "         [ 365,  356,  357,  ...,  258,  266,  257],\n",
       "         [ 378,  348,  380,  ...,  292,  279,  284],\n",
       "         [ 403,  432,  427,  ...,  296,  299,  319]],\n",
       "\n",
       "        ...,\n",
       "\n",
       "        [[1057, 1040, 1029,  ..., 1439, 1391, 1216],\n",
       "         [ 975, 1055, 1074,  ..., 1409, 1296, 1392],\n",
       "         [1007,  963, 1066,  ..., 1315, 1222, 1271],\n",
       "         ...,\n",
       "         [1447, 1445, 1461,  ..., 1071, 1104, 1069],\n",
       "         [1467, 1472, 1657,  ..., 1188, 1145, 1150],\n",
       "         [1769, 1793, 1620,  ..., 1205, 1204, 1186]],\n",
       "\n",
       "        [[1060, 1044, 1033,  ..., 1447, 1394, 1223],\n",
       "         [ 980, 1060, 1079,  ..., 1414, 1299, 1393],\n",
       "         [1010,  967, 1069,  ..., 1320, 1228, 1277],\n",
       "         ...,\n",
       "         [1451, 1450, 1467,  ..., 1073, 1105, 1072],\n",
       "         [1469, 1480, 1667,  ..., 1193, 1146, 1152],\n",
       "         [1769, 1801, 1616,  ..., 1210, 1209, 1188]],\n",
       "\n",
       "        [[1063, 1047, 1038,  ..., 1455, 1397, 1230],\n",
       "         [ 984, 1064, 1084,  ..., 1420, 1302, 1395],\n",
       "         [1014,  972, 1072,  ..., 1325, 1234, 1284],\n",
       "         ...,\n",
       "         [1455, 1455, 1473,  ..., 1076, 1107, 1076],\n",
       "         [1471, 1487, 1678,  ..., 1199, 1148, 1153],\n",
       "         [1769, 1808, 1612,  ..., 1215, 1213, 1191]]], dtype=torch.int16)"
      ]
     },
     "execution_count": 65,
     "metadata": {},
     "output_type": "execute_result"
    }
   ],
   "source": [
    "tensor_data = torch.as_tensor(arr)\n",
    "tensor_data"
   ]
  },
  {
   "cell_type": "code",
   "execution_count": 66,
   "id": "4912e083-fe72-4865-aa58-f9ef54bf0659",
   "metadata": {},
   "outputs": [
    {
     "data": {
      "text/plain": [
       "torch.Size([150, 93, 115])"
      ]
     },
     "execution_count": 66,
     "metadata": {},
     "output_type": "execute_result"
    }
   ],
   "source": [
    "tensor_data.shape"
   ]
  },
  {
   "cell_type": "code",
   "execution_count": 67,
   "id": "48d9005f-7e99-4bf7-9486-2b7701efaafd",
   "metadata": {
    "collapsed": true,
    "jupyter": {
     "outputs_hidden": true
    },
    "tags": []
   },
   "outputs": [
    {
     "data": {
      "text/plain": [
       "tensor([[[ True,  True,  True,  ...,  True,  True,  True],\n",
       "         [ True,  True,  True,  ...,  True,  True,  True],\n",
       "         [ True,  True,  True,  ...,  True,  True,  True],\n",
       "         ...,\n",
       "         [ True, False, False,  ...,  True,  True,  True],\n",
       "         [ True, False,  True,  ...,  True,  True,  True],\n",
       "         [ True,  True,  True,  ...,  True,  True,  True]],\n",
       "\n",
       "        [[ True,  True,  True,  ...,  True,  True,  True],\n",
       "         [ True,  True,  True,  ...,  True,  True,  True],\n",
       "         [ True,  True,  True,  ...,  True,  True,  True],\n",
       "         ...,\n",
       "         [ True, False, False,  ...,  True,  True,  True],\n",
       "         [ True, False,  True,  ...,  True,  True,  True],\n",
       "         [ True,  True,  True,  ...,  True,  True,  True]],\n",
       "\n",
       "        [[ True,  True,  True,  ...,  True,  True,  True],\n",
       "         [ True,  True,  True,  ...,  True,  True,  True],\n",
       "         [ True,  True,  True,  ...,  True,  True,  True],\n",
       "         ...,\n",
       "         [ True, False, False,  ...,  True,  True,  True],\n",
       "         [ True, False,  True,  ...,  True,  True,  True],\n",
       "         [ True,  True,  True,  ...,  True,  True,  True]],\n",
       "\n",
       "        ...,\n",
       "\n",
       "        [[ True,  True,  True,  ...,  True,  True,  True],\n",
       "         [ True,  True,  True,  ...,  True,  True,  True],\n",
       "         [ True,  True,  True,  ...,  True,  True,  True],\n",
       "         ...,\n",
       "         [ True, False, False,  ...,  True,  True,  True],\n",
       "         [ True, False,  True,  ...,  True,  True,  True],\n",
       "         [ True,  True,  True,  ...,  True,  True,  True]],\n",
       "\n",
       "        [[ True,  True,  True,  ...,  True,  True,  True],\n",
       "         [ True,  True,  True,  ...,  True,  True,  True],\n",
       "         [ True,  True,  True,  ...,  True,  True,  True],\n",
       "         ...,\n",
       "         [ True, False, False,  ...,  True,  True,  True],\n",
       "         [ True, False,  True,  ...,  True,  True,  True],\n",
       "         [ True,  True,  True,  ...,  True,  True,  True]],\n",
       "\n",
       "        [[ True,  True,  True,  ...,  True,  True,  True],\n",
       "         [ True,  True,  True,  ...,  True,  True,  True],\n",
       "         [ True,  True,  True,  ...,  True,  True,  True],\n",
       "         ...,\n",
       "         [ True, False, False,  ...,  True,  True,  True],\n",
       "         [ True, False,  True,  ...,  True,  True,  True],\n",
       "         [ True,  True,  True,  ...,  True,  True,  True]]])"
      ]
     },
     "execution_count": 67,
     "metadata": {},
     "output_type": "execute_result"
    }
   ],
   "source": [
    "tensor_mask_bool = torch.as_tensor(arr.mask)\n",
    "tensor_mask_bool"
   ]
  },
  {
   "cell_type": "code",
   "execution_count": 73,
   "id": "9e4a86fd-a2d9-4c9f-99af-2074446bd2ca",
   "metadata": {},
   "outputs": [
    {
     "data": {
      "text/plain": [
       "torch.Size([150, 93, 115])"
      ]
     },
     "execution_count": 73,
     "metadata": {},
     "output_type": "execute_result"
    }
   ],
   "source": [
    "tensor_mask_bool.shape"
   ]
  },
  {
   "cell_type": "code",
   "execution_count": 177,
   "id": "5877670d-793e-4278-a2b3-f8280c273a3c",
   "metadata": {
    "collapsed": true,
    "jupyter": {
     "outputs_hidden": true
    },
    "tags": []
   },
   "outputs": [
    {
     "data": {
      "text/plain": [
       "tensor([[[ 275,  268,  279,  ...,  309,  338,  281],\n",
       "         [ 250,  261,  276,  ...,  357,  336,  365],\n",
       "         [ 243,  251,  251,  ...,  337,  295,  304],\n",
       "         ...,\n",
       "         [ 363,    0,    0,  ...,  268,  275,  268],\n",
       "         [ 381,    0,  378,  ...,  295,  284,  287],\n",
       "         [ 398,  428,  424,  ...,  297,  296,  318]],\n",
       "\n",
       "        [[ 271,  270,  274,  ...,  308,  342,  283],\n",
       "         [ 255,  262,  277,  ...,  357,  338,  372],\n",
       "         [ 250,  251,  250,  ...,  338,  295,  301],\n",
       "         ...,\n",
       "         [ 366,    0,    0,  ...,  264,  269,  265],\n",
       "         [ 377,    0,  384,  ...,  296,  283,  288],\n",
       "         [ 402,  434,  433,  ...,  296,  302,  315]],\n",
       "\n",
       "        [[ 266,  267,  264,  ...,  299,  341,  280],\n",
       "         [ 254,  261,  275,  ...,  353,  331,  375],\n",
       "         [ 251,  246,  249,  ...,  334,  289,  302],\n",
       "         ...,\n",
       "         [ 365,    0,    0,  ...,  258,  266,  257],\n",
       "         [ 378,    0,  380,  ...,  292,  279,  284],\n",
       "         [ 403,  432,  427,  ...,  296,  299,  319]],\n",
       "\n",
       "        ...,\n",
       "\n",
       "        [[1057, 1040, 1029,  ..., 1439, 1391, 1216],\n",
       "         [ 975, 1055, 1074,  ..., 1409, 1296, 1392],\n",
       "         [1007,  963, 1066,  ..., 1315, 1222, 1271],\n",
       "         ...,\n",
       "         [1447,    0,    0,  ..., 1071, 1104, 1069],\n",
       "         [1467,    0, 1657,  ..., 1188, 1145, 1150],\n",
       "         [1769, 1793, 1620,  ..., 1205, 1204, 1186]],\n",
       "\n",
       "        [[1060, 1044, 1033,  ..., 1447, 1394, 1223],\n",
       "         [ 980, 1060, 1079,  ..., 1414, 1299, 1393],\n",
       "         [1010,  967, 1069,  ..., 1320, 1228, 1277],\n",
       "         ...,\n",
       "         [1451,    0,    0,  ..., 1073, 1105, 1072],\n",
       "         [1469,    0, 1667,  ..., 1193, 1146, 1152],\n",
       "         [1769, 1801, 1616,  ..., 1210, 1209, 1188]],\n",
       "\n",
       "        [[1063, 1047, 1038,  ..., 1455, 1397, 1230],\n",
       "         [ 984, 1064, 1084,  ..., 1420, 1302, 1395],\n",
       "         [1014,  972, 1072,  ..., 1325, 1234, 1284],\n",
       "         ...,\n",
       "         [1455,    0,    0,  ..., 1076, 1107, 1076],\n",
       "         [1471,    0, 1678,  ..., 1199, 1148, 1153],\n",
       "         [1769, 1808, 1612,  ..., 1215, 1213, 1191]]], dtype=torch.int16)"
      ]
     },
     "execution_count": 177,
     "metadata": {},
     "output_type": "execute_result"
    }
   ],
   "source": [
    "tensor_data_masked = torch.mul(tensor_data, tensor_mask_bool)\n",
    "tensor_data_masked"
   ]
  },
  {
   "cell_type": "code",
   "execution_count": 178,
   "id": "85bad99e-104e-4fb7-8d89-06e4522fec4a",
   "metadata": {},
   "outputs": [
    {
     "data": {
      "text/plain": [
       "torch.Size([150, 93, 115])"
      ]
     },
     "execution_count": 178,
     "metadata": {},
     "output_type": "execute_result"
    }
   ],
   "source": [
    "tensor_data_masked.shape"
   ]
  },
  {
   "cell_type": "code",
   "execution_count": 285,
   "id": "52844ad8-752b-46e6-99f8-033e65b21e62",
   "metadata": {},
   "outputs": [],
   "source": [
    "def pad_to_minimum_size(min_size, image):\n",
    "        c, h, w = image.shape\n",
    "        h_diff = (min_size - h)/2\n",
    "        w_diff = (min_size - w)/2\n",
    "        print(h_diff, w_diff)\n",
    "        \n",
    "        if not h_diff.is_integer():\n",
    "            h_pad1 = int(h_diff - 0.5)\n",
    "            h_pad2 = int(h_diff + 0.5)\n",
    "        else:\n",
    "            h_pad1 = h_pad2 = int(h_diff)\n",
    "\n",
    "        if not w_diff.is_integer():\n",
    "            w_pad1 = int(w_diff - 0.5)\n",
    "            w_pad2 = int(w_diff + 0.5)\n",
    "        else:\n",
    "            w_pad1 = w_pad2 = int(w_diff)\n",
    "        \n",
    "        print(h_pad1, h_pad2, w_pad1, w_pad2)\n",
    "        # check if any padding is bigger than zero\n",
    "        if h_pad1+h_pad2+w_pad1+h_pad2 == 0:\n",
    "            return image\n",
    "        else:\n",
    "            return transforms.functional.pad(image, (w_pad1, h_pad1, w_pad2, h_pad2), fill=0)\n",
    "    "
   ]
  },
  {
   "cell_type": "code",
   "execution_count": 286,
   "id": "fbacb084-e4c0-4645-a04c-da9e0defda86",
   "metadata": {},
   "outputs": [
    {
     "name": "stdout",
     "output_type": "stream",
     "text": [
      "103.5 92.5\n",
      "103 104 92 93\n"
     ]
    },
    {
     "data": {
      "text/plain": [
       "torch.Size([150, 300, 300])"
      ]
     },
     "execution_count": 286,
     "metadata": {},
     "output_type": "execute_result"
    }
   ],
   "source": [
    "pad_to_minimum_size(300, tensor_data_masked).shape"
   ]
  },
  {
   "cell_type": "markdown",
   "id": "f80dc9fe-75d0-4297-b2fe-e50637b59d2b",
   "metadata": {},
   "source": [
    "### Load mean and std values of training dataset"
   ]
  },
  {
   "cell_type": "code",
   "execution_count": 5,
   "id": "d936e375-5279-40c8-90f3-83bdca3a4ff1",
   "metadata": {},
   "outputs": [],
   "source": [
    "means_stds_arrays = np.load(os.path.join(train_data_directory, 'means_stds_values_training_data.npz'))\n",
    "means = np.array(means_stds_arrays['means'])\n",
    "stds = np.array(means_stds_arrays['stds'])"
   ]
  },
  {
   "cell_type": "code",
   "execution_count": 425,
   "id": "9bce3a11-f779-4c34-8385-f11812ee5ed4",
   "metadata": {
    "collapsed": true,
    "jupyter": {
     "outputs_hidden": true
    },
    "tags": []
   },
   "outputs": [
    {
     "data": {
      "text/plain": [
       "tensor([[[-2.7990e+00, -2.9844e+00, -2.6931e+00,  ..., -1.8987e+00,\n",
       "          -1.1307e+00, -2.6401e+00],\n",
       "         [-3.4611e+00, -3.1698e+00, -2.7725e+00,  ..., -6.2756e-01,\n",
       "          -1.1837e+00, -4.1570e-01],\n",
       "         [-3.6464e+00, -3.4346e+00, -3.4346e+00,  ..., -1.1572e+00,\n",
       "          -2.2694e+00, -2.0311e+00],\n",
       "         ...,\n",
       "         [-4.6867e-01, -1.0081e+01, -1.0081e+01,  ..., -2.9844e+00,\n",
       "          -2.7990e+00, -2.9844e+00],\n",
       "         [ 7.9982e-03, -1.0081e+01, -7.1446e-02,  ..., -2.2694e+00,\n",
       "          -2.5607e+00, -2.4813e+00],\n",
       "         [ 4.5818e-01,  1.2526e+00,  1.1467e+00,  ..., -2.2164e+00,\n",
       "          -2.2429e+00, -1.6603e+00]],\n",
       "\n",
       "        [[-2.8853e+00, -2.9117e+00, -2.8061e+00,  ..., -1.9079e+00,\n",
       "          -1.0096e+00, -2.5683e+00],\n",
       "         [-3.3080e+00, -3.1231e+00, -2.7268e+00,  ..., -6.1338e-01,\n",
       "          -1.1153e+00, -2.1711e-01],\n",
       "         [-3.4401e+00, -3.4137e+00, -3.4401e+00,  ..., -1.1153e+00,\n",
       "          -2.2513e+00, -2.0928e+00],\n",
       "         ...,\n",
       "         [-3.7562e-01, -1.0045e+01, -1.0045e+01,  ..., -3.0702e+00,\n",
       "          -2.9381e+00, -3.0438e+00],\n",
       "         [-8.5019e-02, -1.0045e+01,  9.9906e-02,  ..., -2.2249e+00,\n",
       "          -2.5683e+00, -2.4362e+00],\n",
       "         [ 5.7543e-01,  1.4208e+00,  1.3944e+00,  ..., -2.2249e+00,\n",
       "          -2.0664e+00, -1.7229e+00]],\n",
       "\n",
       "        [[-2.8991e+00, -2.8726e+00, -2.9521e+00,  ..., -2.0246e+00,\n",
       "          -9.1150e-01, -2.5281e+00],\n",
       "         [-3.2171e+00, -3.0316e+00, -2.6606e+00,  ..., -5.9348e-01,\n",
       "          -1.1765e+00, -1.0444e-02],\n",
       "         [-3.2967e+00, -3.4292e+00, -3.3497e+00,  ..., -1.0970e+00,\n",
       "          -2.2896e+00, -1.9451e+00],\n",
       "         ...,\n",
       "         [-2.7546e-01, -9.9486e+00, -9.9486e+00,  ..., -3.1111e+00,\n",
       "          -2.8991e+00, -3.1376e+00],\n",
       "         [ 6.9061e-02, -9.9486e+00,  1.2206e-01,  ..., -2.2101e+00,\n",
       "          -2.5546e+00, -2.4221e+00],\n",
       "         [ 7.3160e-01,  1.5002e+00,  1.3676e+00,  ..., -2.1041e+00,\n",
       "          -2.0246e+00, -1.4945e+00]],\n",
       "\n",
       "        ...,\n",
       "\n",
       "        [[-4.2990e+00, -4.3885e+00, -4.4465e+00,  ..., -2.2871e+00,\n",
       "          -2.5399e+00, -3.4616e+00],\n",
       "         [-4.7309e+00, -4.3095e+00, -4.2095e+00,  ..., -2.4451e+00,\n",
       "          -3.0402e+00, -2.5346e+00],\n",
       "         [-4.5623e+00, -4.7941e+00, -4.2516e+00,  ..., -2.9402e+00,\n",
       "          -3.4300e+00, -3.1719e+00],\n",
       "         ...,\n",
       "         [-2.2449e+00, -9.8661e+00, -9.8661e+00,  ..., -4.2253e+00,\n",
       "          -4.0515e+00, -4.2358e+00],\n",
       "         [-2.1396e+00, -9.8661e+00, -1.1389e+00,  ..., -3.6090e+00,\n",
       "          -3.8355e+00, -3.8092e+00],\n",
       "         [-5.4900e-01, -4.2260e-01, -1.3338e+00,  ..., -3.5195e+00,\n",
       "          -3.5248e+00, -3.6196e+00]],\n",
       "\n",
       "        [[-4.3056e+00, -4.3902e+00, -4.4484e+00,  ..., -2.2592e+00,\n",
       "          -2.5395e+00, -3.4437e+00],\n",
       "         [-4.7286e+00, -4.3056e+00, -4.2051e+00,  ..., -2.4337e+00,\n",
       "          -3.0418e+00, -2.5447e+00],\n",
       "         [-4.5700e+00, -4.7974e+00, -4.2580e+00,  ..., -2.9308e+00,\n",
       "          -3.4172e+00, -3.1581e+00],\n",
       "         ...,\n",
       "         [-2.2380e+00, -9.9108e+00, -9.9108e+00,  ..., -4.2369e+00,\n",
       "          -4.0677e+00, -4.2422e+00],\n",
       "         [-2.1429e+00, -9.9108e+00, -1.0959e+00,  ..., -3.6023e+00,\n",
       "          -3.8508e+00, -3.8191e+00],\n",
       "         [-5.5650e-01, -3.8729e-01, -1.3655e+00,  ..., -3.5124e+00,\n",
       "          -3.5177e+00, -3.6288e+00]],\n",
       "\n",
       "        [[-4.3128e+00, -4.3978e+00, -4.4456e+00,  ..., -2.2315e+00,\n",
       "          -2.5394e+00, -3.4261e+00],\n",
       "         [-4.7323e+00, -4.3075e+00, -4.2013e+00,  ..., -2.4173e+00,\n",
       "          -3.0438e+00, -2.5501e+00],\n",
       "         [-4.5730e+00, -4.7960e+00, -4.2650e+00,  ..., -2.9217e+00,\n",
       "          -3.4049e+00, -3.1394e+00],\n",
       "         ...,\n",
       "         [-2.2315e+00, -9.9569e+00, -9.9569e+00,  ..., -4.2438e+00,\n",
       "          -4.0792e+00, -4.2438e+00],\n",
       "         [-2.1465e+00, -9.9569e+00, -1.0475e+00,  ..., -3.5907e+00,\n",
       "          -3.8615e+00, -3.8350e+00],\n",
       "         [-5.6429e-01, -3.5722e-01, -1.3979e+00,  ..., -3.5058e+00,\n",
       "          -3.5164e+00, -3.6332e+00]]])"
      ]
     },
     "execution_count": 425,
     "metadata": {},
     "output_type": "execute_result"
    }
   ],
   "source": [
    "tensor_data_masked_normalized = transforms.functional.normalize(torch.as_tensor(tensor_data_masked, dtype=torch.float), mean=means.tolist(), std=stds.tolist())\n",
    "tensor_data_masked_normalized"
   ]
  },
  {
   "cell_type": "code",
   "execution_count": 20,
   "id": "73d23c72-f9c9-4afe-99c9-48259b1f2f80",
   "metadata": {},
   "outputs": [],
   "source": [
    "temp_gt = pd.read_csv(os.path.join(train_data_directory, 'train_gt.csv'))[['P','K','Mg','pH']]"
   ]
  },
  {
   "cell_type": "code",
   "execution_count": 22,
   "id": "748084b4-b993-42d2-92fd-074f314e1625",
   "metadata": {
    "collapsed": true,
    "jupyter": {
     "outputs_hidden": true
    },
    "tags": []
   },
   "outputs": [
    {
     "data": {
      "text/html": [
       "<div>\n",
       "<style scoped>\n",
       "    .dataframe tbody tr th:only-of-type {\n",
       "        vertical-align: middle;\n",
       "    }\n",
       "\n",
       "    .dataframe tbody tr th {\n",
       "        vertical-align: top;\n",
       "    }\n",
       "\n",
       "    .dataframe thead th {\n",
       "        text-align: right;\n",
       "    }\n",
       "</style>\n",
       "<table border=\"1\" class=\"dataframe\">\n",
       "  <thead>\n",
       "    <tr style=\"text-align: right;\">\n",
       "      <th></th>\n",
       "      <th>P</th>\n",
       "      <th>K</th>\n",
       "      <th>Mg</th>\n",
       "      <th>pH</th>\n",
       "    </tr>\n",
       "  </thead>\n",
       "  <tbody>\n",
       "    <tr>\n",
       "      <th>0</th>\n",
       "      <td>45.1</td>\n",
       "      <td>188.0</td>\n",
       "      <td>179.0</td>\n",
       "      <td>7.2</td>\n",
       "    </tr>\n",
       "    <tr>\n",
       "      <th>1</th>\n",
       "      <td>44.8</td>\n",
       "      <td>205.0</td>\n",
       "      <td>188.0</td>\n",
       "      <td>7.0</td>\n",
       "    </tr>\n",
       "    <tr>\n",
       "      <th>2</th>\n",
       "      <td>44.4</td>\n",
       "      <td>207.0</td>\n",
       "      <td>145.0</td>\n",
       "      <td>6.8</td>\n",
       "    </tr>\n",
       "    <tr>\n",
       "      <th>3</th>\n",
       "      <td>46.5</td>\n",
       "      <td>204.0</td>\n",
       "      <td>143.0</td>\n",
       "      <td>6.8</td>\n",
       "    </tr>\n",
       "    <tr>\n",
       "      <th>4</th>\n",
       "      <td>52.0</td>\n",
       "      <td>212.0</td>\n",
       "      <td>167.0</td>\n",
       "      <td>6.7</td>\n",
       "    </tr>\n",
       "    <tr>\n",
       "      <th>...</th>\n",
       "      <td>...</td>\n",
       "      <td>...</td>\n",
       "      <td>...</td>\n",
       "      <td>...</td>\n",
       "    </tr>\n",
       "    <tr>\n",
       "      <th>1727</th>\n",
       "      <td>40.8</td>\n",
       "      <td>133.0</td>\n",
       "      <td>132.0</td>\n",
       "      <td>6.2</td>\n",
       "    </tr>\n",
       "    <tr>\n",
       "      <th>1728</th>\n",
       "      <td>42.7</td>\n",
       "      <td>192.0</td>\n",
       "      <td>126.0</td>\n",
       "      <td>6.5</td>\n",
       "    </tr>\n",
       "    <tr>\n",
       "      <th>1729</th>\n",
       "      <td>39.4</td>\n",
       "      <td>180.0</td>\n",
       "      <td>122.0</td>\n",
       "      <td>6.5</td>\n",
       "    </tr>\n",
       "    <tr>\n",
       "      <th>1730</th>\n",
       "      <td>37.3</td>\n",
       "      <td>162.0</td>\n",
       "      <td>127.0</td>\n",
       "      <td>6.5</td>\n",
       "    </tr>\n",
       "    <tr>\n",
       "      <th>1731</th>\n",
       "      <td>29.5</td>\n",
       "      <td>146.0</td>\n",
       "      <td>133.0</td>\n",
       "      <td>6.3</td>\n",
       "    </tr>\n",
       "  </tbody>\n",
       "</table>\n",
       "<p>1732 rows × 4 columns</p>\n",
       "</div>"
      ],
      "text/plain": [
       "         P      K     Mg   pH\n",
       "0     45.1  188.0  179.0  7.2\n",
       "1     44.8  205.0  188.0  7.0\n",
       "2     44.4  207.0  145.0  6.8\n",
       "3     46.5  204.0  143.0  6.8\n",
       "4     52.0  212.0  167.0  6.7\n",
       "...    ...    ...    ...  ...\n",
       "1727  40.8  133.0  132.0  6.2\n",
       "1728  42.7  192.0  126.0  6.5\n",
       "1729  39.4  180.0  122.0  6.5\n",
       "1730  37.3  162.0  127.0  6.5\n",
       "1731  29.5  146.0  133.0  6.3\n",
       "\n",
       "[1732 rows x 4 columns]"
      ]
     },
     "execution_count": 22,
     "metadata": {},
     "output_type": "execute_result"
    }
   ],
   "source": [
    "temp_gt"
   ]
  },
  {
   "cell_type": "code",
   "execution_count": 25,
   "id": "178ddd17-5d6b-4a96-808d-2ab1a6e817bd",
   "metadata": {},
   "outputs": [
    {
     "data": {
      "text/plain": [
       "44.8"
      ]
     },
     "execution_count": 25,
     "metadata": {},
     "output_type": "execute_result"
    }
   ],
   "source": [
    "temp_gt.loc[1, 'P']"
   ]
  },
  {
   "cell_type": "markdown",
   "id": "69734912-1875-401f-9e0b-7afa7eac153e",
   "metadata": {},
   "source": [
    "### Dataset definition"
   ]
  },
  {
   "cell_type": "code",
   "execution_count": 36,
   "id": "55fc5b6c-09e5-49d5-9211-32d95db7fa30",
   "metadata": {},
   "outputs": [],
   "source": [
    "class HyperViewDataset(Dataset):\n",
    "    def __init__(self, gt_file, img_dir, transform=None, means=None, stds=None):\n",
    "        self.img_dir = img_dir\n",
    "        if gt_file is not None:\n",
    "            self.gt = pd.read_csv(gt_file)[['P','K','Mg','pH']]\n",
    "        else:\n",
    "            self.gt = None\n",
    "        self.transform = transform # whether to perform transformation of input data\n",
    "        self.means = means # mean values for every band used to normalize data\n",
    "        self.stds = stds # std values for every band used to normalize data\n",
    "        \n",
    "        self.img_files = np.array(\n",
    "            sorted(\n",
    "                glob(os.path.join(img_dir, \"*.npz\")),\n",
    "                key=lambda x: int(os.path.basename(x).replace(\".npz\", \"\")),\n",
    "            )\n",
    "        )\n",
    "    \n",
    "    def pad_to_minimum_size(self, min_size, image):\n",
    "        # pads numpy array to defined in `min_size` minimum size of array (w, h)\n",
    "        c, h, w = image.shape\n",
    "        h_diff = (min_size - h)/2\n",
    "        w_diff = (min_size - w)/2\n",
    "        \n",
    "        if not h_diff.is_integer():\n",
    "            h_pad1 = int(h_diff - 0.5)\n",
    "            h_pad2 = int(h_diff + 0.5)\n",
    "        else:\n",
    "            h_pad1 = h_pad2 = int(h_diff)\n",
    "\n",
    "        if not w_diff.is_integer():\n",
    "            w_pad1 = int(w_diff - 0.5)\n",
    "            w_pad2 = int(w_diff + 0.5)\n",
    "        else:\n",
    "            w_pad1 = w_pad2 = int(w_diff)\n",
    "        \n",
    "        # check if any padding is bigger than zero\n",
    "        if h_pad1+h_pad2+w_pad1+h_pad2 == 0:\n",
    "            return image\n",
    "        else:\n",
    "            return transforms.functional.pad(image, (w_pad1, h_pad1, w_pad2, h_pad2), fill=0)\n",
    "    \n",
    "    def __len__(self):\n",
    "        return len(self.img_files)\n",
    "    \n",
    "    def __getitem__(self, idx):\n",
    "        # load hyperspectral image to array\n",
    "        img_arr = np.ma.MaskedArray(**np.load(self.img_files[idx]))\n",
    "        img_tensor = torch.as_tensor(img_arr.data, dtype=torch.float)\n",
    "        img_tensor_mask = torch.as_tensor(img_arr.mask)\n",
    "        img_masked_tensor = torch.mul(img_tensor, img_tensor_mask)\n",
    "        \n",
    "        if self.transform:\n",
    "            img_masked_tensor_normalized = transforms.functional.normalize(img_masked_tensor, mean=self.means.tolist(), std=self.stds.tolist())\n",
    "            img_masked_tensor_normalized_padded = self.pad_to_minimum_size(300, img_masked_tensor_normalized)\n",
    "            img_result_tensor = img_masked_tensor_normalized_padded\n",
    "        else:\n",
    "            img_result_tensor = img_masked_tensor\n",
    "        # load labels\n",
    "        if self.gt is not None:\n",
    "            P_gt = self.gt.loc[idx, 'P']\n",
    "            K_gt = self.gt.loc[idx, 'K']\n",
    "            Mg_gt = self.gt.loc[idx, 'Mg']\n",
    "            pH_gt = self.gt.loc[idx, 'pH']\n",
    "\n",
    "            sample = {'image': img_result_tensor, 'P': P_gt, 'K': K_gt, 'Mg': Mg_gt, 'pH': pH_gt}\n",
    "        else:\n",
    "            sample = {'image': img_result_tensor}\n",
    "        \n",
    "        return sample"
   ]
  },
  {
   "cell_type": "code",
   "execution_count": 37,
   "id": "29db8b86-b4a4-4f29-bea0-f51a2c824031",
   "metadata": {},
   "outputs": [],
   "source": [
    "train_data_whole = HyperViewDataset(os.path.join(train_data_directory, 'train_gt.csv'), os.path.join(train_data_directory, 'train_data'), True, means, stds)"
   ]
  },
  {
   "cell_type": "code",
   "execution_count": 38,
   "id": "82ad2317-a57a-4b6c-831f-b5c2ed7280cc",
   "metadata": {},
   "outputs": [],
   "source": [
    "train_dataset, validation_dataset = random_split(train_data_whole, [1400, 332])"
   ]
  },
  {
   "cell_type": "markdown",
   "id": "ab1cda9a-39f3-4b58-aea8-79c8dfccf9b1",
   "metadata": {},
   "source": [
    "### Model Definition"
   ]
  },
  {
   "cell_type": "code",
   "execution_count": 9,
   "id": "7722e05c-848f-4114-b6c0-bb718c705e9e",
   "metadata": {},
   "outputs": [],
   "source": [
    "from torchvision import datasets, models, transforms"
   ]
  },
  {
   "cell_type": "code",
   "execution_count": 10,
   "id": "809d1c7b-f82b-46c4-b238-c85ebceec1d0",
   "metadata": {},
   "outputs": [],
   "source": [
    "class ResNetCNN(nn.Module):\n",
    "    def __init__(self, pretrained):\n",
    "        super().__init__()\n",
    "        self.resnet_model = models.resnet34(pretrained=False)\n",
    "        \n",
    "        self.resnet_model.conv1 = nn.Conv2d(150, 64, kernel_size=(7, 7), stride=(2, 2), padding=(3, 3), bias=False)\n",
    "        self.resnet_model.fc = nn.Linear(512, 4, bias=True)\n",
    "        \n",
    "    def forward(self, x):\n",
    "        x = self.resnet_model(x)\n",
    "#         return {'P': x[0], 'K': x[1], 'Mg': x[2], 'pH': x[3]}\n",
    "        return x"
   ]
  },
  {
   "cell_type": "code",
   "execution_count": 11,
   "id": "d148a100-6ad0-439f-a8bc-9ccbdd091852",
   "metadata": {},
   "outputs": [
    {
     "data": {
      "text/plain": [
       "device(type='cuda', index=0)"
      ]
     },
     "execution_count": 11,
     "metadata": {},
     "output_type": "execute_result"
    }
   ],
   "source": [
    "device = torch.device(\"cuda:0\" if torch.cuda.is_available() else \"cpu\")\n",
    "device"
   ]
  },
  {
   "cell_type": "code",
   "execution_count": 24,
   "id": "2cb2cae6-e7ec-4206-9451-14ee6ae07475",
   "metadata": {},
   "outputs": [],
   "source": [
    "BATCH_SIZE = 12\n",
    "EPOCHS = 300"
   ]
  },
  {
   "cell_type": "code",
   "execution_count": 28,
   "id": "9c45de25-2011-4cca-8a1c-a6d30848926d",
   "metadata": {},
   "outputs": [],
   "source": [
    "train_dataloader = DataLoader(train_dataset, batch_size=BATCH_SIZE, pin_memory=True, drop_last=True, num_workers=2)\n",
    "validation_dataloader = DataLoader(validation_dataset, batch_size=BATCH_SIZE, pin_memory=True, drop_last=True, num_workers=2)"
   ]
  },
  {
   "cell_type": "markdown",
   "id": "6184ff00-8fc3-4ce0-8734-fc91aed6edf2",
   "metadata": {
    "tags": []
   },
   "source": [
    "### Overfitting on single batch of data"
   ]
  },
  {
   "cell_type": "code",
   "execution_count": 19,
   "id": "c20d944a-8f5f-4294-b342-9015feadde1f",
   "metadata": {},
   "outputs": [],
   "source": [
    "train_data_single_batch = next(iter(train_dataloader))"
   ]
  },
  {
   "cell_type": "code",
   "execution_count": 20,
   "id": "ae9916b5-d6b1-4abd-a984-f0b846c0dac7",
   "metadata": {
    "collapsed": true,
    "jupyter": {
     "outputs_hidden": true
    },
    "tags": []
   },
   "outputs": [
    {
     "data": {
      "text/plain": [
       "{'image': tensor([[[[0., 0., 0.,  ..., 0., 0., 0.],\n",
       "           [0., 0., 0.,  ..., 0., 0., 0.],\n",
       "           [0., 0., 0.,  ..., 0., 0., 0.],\n",
       "           ...,\n",
       "           [0., 0., 0.,  ..., 0., 0., 0.],\n",
       "           [0., 0., 0.,  ..., 0., 0., 0.],\n",
       "           [0., 0., 0.,  ..., 0., 0., 0.]],\n",
       " \n",
       "          [[0., 0., 0.,  ..., 0., 0., 0.],\n",
       "           [0., 0., 0.,  ..., 0., 0., 0.],\n",
       "           [0., 0., 0.,  ..., 0., 0., 0.],\n",
       "           ...,\n",
       "           [0., 0., 0.,  ..., 0., 0., 0.],\n",
       "           [0., 0., 0.,  ..., 0., 0., 0.],\n",
       "           [0., 0., 0.,  ..., 0., 0., 0.]],\n",
       " \n",
       "          [[0., 0., 0.,  ..., 0., 0., 0.],\n",
       "           [0., 0., 0.,  ..., 0., 0., 0.],\n",
       "           [0., 0., 0.,  ..., 0., 0., 0.],\n",
       "           ...,\n",
       "           [0., 0., 0.,  ..., 0., 0., 0.],\n",
       "           [0., 0., 0.,  ..., 0., 0., 0.],\n",
       "           [0., 0., 0.,  ..., 0., 0., 0.]],\n",
       " \n",
       "          ...,\n",
       " \n",
       "          [[0., 0., 0.,  ..., 0., 0., 0.],\n",
       "           [0., 0., 0.,  ..., 0., 0., 0.],\n",
       "           [0., 0., 0.,  ..., 0., 0., 0.],\n",
       "           ...,\n",
       "           [0., 0., 0.,  ..., 0., 0., 0.],\n",
       "           [0., 0., 0.,  ..., 0., 0., 0.],\n",
       "           [0., 0., 0.,  ..., 0., 0., 0.]],\n",
       " \n",
       "          [[0., 0., 0.,  ..., 0., 0., 0.],\n",
       "           [0., 0., 0.,  ..., 0., 0., 0.],\n",
       "           [0., 0., 0.,  ..., 0., 0., 0.],\n",
       "           ...,\n",
       "           [0., 0., 0.,  ..., 0., 0., 0.],\n",
       "           [0., 0., 0.,  ..., 0., 0., 0.],\n",
       "           [0., 0., 0.,  ..., 0., 0., 0.]],\n",
       " \n",
       "          [[0., 0., 0.,  ..., 0., 0., 0.],\n",
       "           [0., 0., 0.,  ..., 0., 0., 0.],\n",
       "           [0., 0., 0.,  ..., 0., 0., 0.],\n",
       "           ...,\n",
       "           [0., 0., 0.,  ..., 0., 0., 0.],\n",
       "           [0., 0., 0.,  ..., 0., 0., 0.],\n",
       "           [0., 0., 0.,  ..., 0., 0., 0.]]],\n",
       " \n",
       " \n",
       "         [[[0., 0., 0.,  ..., 0., 0., 0.],\n",
       "           [0., 0., 0.,  ..., 0., 0., 0.],\n",
       "           [0., 0., 0.,  ..., 0., 0., 0.],\n",
       "           ...,\n",
       "           [0., 0., 0.,  ..., 0., 0., 0.],\n",
       "           [0., 0., 0.,  ..., 0., 0., 0.],\n",
       "           [0., 0., 0.,  ..., 0., 0., 0.]],\n",
       " \n",
       "          [[0., 0., 0.,  ..., 0., 0., 0.],\n",
       "           [0., 0., 0.,  ..., 0., 0., 0.],\n",
       "           [0., 0., 0.,  ..., 0., 0., 0.],\n",
       "           ...,\n",
       "           [0., 0., 0.,  ..., 0., 0., 0.],\n",
       "           [0., 0., 0.,  ..., 0., 0., 0.],\n",
       "           [0., 0., 0.,  ..., 0., 0., 0.]],\n",
       " \n",
       "          [[0., 0., 0.,  ..., 0., 0., 0.],\n",
       "           [0., 0., 0.,  ..., 0., 0., 0.],\n",
       "           [0., 0., 0.,  ..., 0., 0., 0.],\n",
       "           ...,\n",
       "           [0., 0., 0.,  ..., 0., 0., 0.],\n",
       "           [0., 0., 0.,  ..., 0., 0., 0.],\n",
       "           [0., 0., 0.,  ..., 0., 0., 0.]],\n",
       " \n",
       "          ...,\n",
       " \n",
       "          [[0., 0., 0.,  ..., 0., 0., 0.],\n",
       "           [0., 0., 0.,  ..., 0., 0., 0.],\n",
       "           [0., 0., 0.,  ..., 0., 0., 0.],\n",
       "           ...,\n",
       "           [0., 0., 0.,  ..., 0., 0., 0.],\n",
       "           [0., 0., 0.,  ..., 0., 0., 0.],\n",
       "           [0., 0., 0.,  ..., 0., 0., 0.]],\n",
       " \n",
       "          [[0., 0., 0.,  ..., 0., 0., 0.],\n",
       "           [0., 0., 0.,  ..., 0., 0., 0.],\n",
       "           [0., 0., 0.,  ..., 0., 0., 0.],\n",
       "           ...,\n",
       "           [0., 0., 0.,  ..., 0., 0., 0.],\n",
       "           [0., 0., 0.,  ..., 0., 0., 0.],\n",
       "           [0., 0., 0.,  ..., 0., 0., 0.]],\n",
       " \n",
       "          [[0., 0., 0.,  ..., 0., 0., 0.],\n",
       "           [0., 0., 0.,  ..., 0., 0., 0.],\n",
       "           [0., 0., 0.,  ..., 0., 0., 0.],\n",
       "           ...,\n",
       "           [0., 0., 0.,  ..., 0., 0., 0.],\n",
       "           [0., 0., 0.,  ..., 0., 0., 0.],\n",
       "           [0., 0., 0.,  ..., 0., 0., 0.]]],\n",
       " \n",
       " \n",
       "         [[[0., 0., 0.,  ..., 0., 0., 0.],\n",
       "           [0., 0., 0.,  ..., 0., 0., 0.],\n",
       "           [0., 0., 0.,  ..., 0., 0., 0.],\n",
       "           ...,\n",
       "           [0., 0., 0.,  ..., 0., 0., 0.],\n",
       "           [0., 0., 0.,  ..., 0., 0., 0.],\n",
       "           [0., 0., 0.,  ..., 0., 0., 0.]],\n",
       " \n",
       "          [[0., 0., 0.,  ..., 0., 0., 0.],\n",
       "           [0., 0., 0.,  ..., 0., 0., 0.],\n",
       "           [0., 0., 0.,  ..., 0., 0., 0.],\n",
       "           ...,\n",
       "           [0., 0., 0.,  ..., 0., 0., 0.],\n",
       "           [0., 0., 0.,  ..., 0., 0., 0.],\n",
       "           [0., 0., 0.,  ..., 0., 0., 0.]],\n",
       " \n",
       "          [[0., 0., 0.,  ..., 0., 0., 0.],\n",
       "           [0., 0., 0.,  ..., 0., 0., 0.],\n",
       "           [0., 0., 0.,  ..., 0., 0., 0.],\n",
       "           ...,\n",
       "           [0., 0., 0.,  ..., 0., 0., 0.],\n",
       "           [0., 0., 0.,  ..., 0., 0., 0.],\n",
       "           [0., 0., 0.,  ..., 0., 0., 0.]],\n",
       " \n",
       "          ...,\n",
       " \n",
       "          [[0., 0., 0.,  ..., 0., 0., 0.],\n",
       "           [0., 0., 0.,  ..., 0., 0., 0.],\n",
       "           [0., 0., 0.,  ..., 0., 0., 0.],\n",
       "           ...,\n",
       "           [0., 0., 0.,  ..., 0., 0., 0.],\n",
       "           [0., 0., 0.,  ..., 0., 0., 0.],\n",
       "           [0., 0., 0.,  ..., 0., 0., 0.]],\n",
       " \n",
       "          [[0., 0., 0.,  ..., 0., 0., 0.],\n",
       "           [0., 0., 0.,  ..., 0., 0., 0.],\n",
       "           [0., 0., 0.,  ..., 0., 0., 0.],\n",
       "           ...,\n",
       "           [0., 0., 0.,  ..., 0., 0., 0.],\n",
       "           [0., 0., 0.,  ..., 0., 0., 0.],\n",
       "           [0., 0., 0.,  ..., 0., 0., 0.]],\n",
       " \n",
       "          [[0., 0., 0.,  ..., 0., 0., 0.],\n",
       "           [0., 0., 0.,  ..., 0., 0., 0.],\n",
       "           [0., 0., 0.,  ..., 0., 0., 0.],\n",
       "           ...,\n",
       "           [0., 0., 0.,  ..., 0., 0., 0.],\n",
       "           [0., 0., 0.,  ..., 0., 0., 0.],\n",
       "           [0., 0., 0.,  ..., 0., 0., 0.]]],\n",
       " \n",
       " \n",
       "         ...,\n",
       " \n",
       " \n",
       "         [[[0., 0., 0.,  ..., 0., 0., 0.],\n",
       "           [0., 0., 0.,  ..., 0., 0., 0.],\n",
       "           [0., 0., 0.,  ..., 0., 0., 0.],\n",
       "           ...,\n",
       "           [0., 0., 0.,  ..., 0., 0., 0.],\n",
       "           [0., 0., 0.,  ..., 0., 0., 0.],\n",
       "           [0., 0., 0.,  ..., 0., 0., 0.]],\n",
       " \n",
       "          [[0., 0., 0.,  ..., 0., 0., 0.],\n",
       "           [0., 0., 0.,  ..., 0., 0., 0.],\n",
       "           [0., 0., 0.,  ..., 0., 0., 0.],\n",
       "           ...,\n",
       "           [0., 0., 0.,  ..., 0., 0., 0.],\n",
       "           [0., 0., 0.,  ..., 0., 0., 0.],\n",
       "           [0., 0., 0.,  ..., 0., 0., 0.]],\n",
       " \n",
       "          [[0., 0., 0.,  ..., 0., 0., 0.],\n",
       "           [0., 0., 0.,  ..., 0., 0., 0.],\n",
       "           [0., 0., 0.,  ..., 0., 0., 0.],\n",
       "           ...,\n",
       "           [0., 0., 0.,  ..., 0., 0., 0.],\n",
       "           [0., 0., 0.,  ..., 0., 0., 0.],\n",
       "           [0., 0., 0.,  ..., 0., 0., 0.]],\n",
       " \n",
       "          ...,\n",
       " \n",
       "          [[0., 0., 0.,  ..., 0., 0., 0.],\n",
       "           [0., 0., 0.,  ..., 0., 0., 0.],\n",
       "           [0., 0., 0.,  ..., 0., 0., 0.],\n",
       "           ...,\n",
       "           [0., 0., 0.,  ..., 0., 0., 0.],\n",
       "           [0., 0., 0.,  ..., 0., 0., 0.],\n",
       "           [0., 0., 0.,  ..., 0., 0., 0.]],\n",
       " \n",
       "          [[0., 0., 0.,  ..., 0., 0., 0.],\n",
       "           [0., 0., 0.,  ..., 0., 0., 0.],\n",
       "           [0., 0., 0.,  ..., 0., 0., 0.],\n",
       "           ...,\n",
       "           [0., 0., 0.,  ..., 0., 0., 0.],\n",
       "           [0., 0., 0.,  ..., 0., 0., 0.],\n",
       "           [0., 0., 0.,  ..., 0., 0., 0.]],\n",
       " \n",
       "          [[0., 0., 0.,  ..., 0., 0., 0.],\n",
       "           [0., 0., 0.,  ..., 0., 0., 0.],\n",
       "           [0., 0., 0.,  ..., 0., 0., 0.],\n",
       "           ...,\n",
       "           [0., 0., 0.,  ..., 0., 0., 0.],\n",
       "           [0., 0., 0.,  ..., 0., 0., 0.],\n",
       "           [0., 0., 0.,  ..., 0., 0., 0.]]],\n",
       " \n",
       " \n",
       "         [[[0., 0., 0.,  ..., 0., 0., 0.],\n",
       "           [0., 0., 0.,  ..., 0., 0., 0.],\n",
       "           [0., 0., 0.,  ..., 0., 0., 0.],\n",
       "           ...,\n",
       "           [0., 0., 0.,  ..., 0., 0., 0.],\n",
       "           [0., 0., 0.,  ..., 0., 0., 0.],\n",
       "           [0., 0., 0.,  ..., 0., 0., 0.]],\n",
       " \n",
       "          [[0., 0., 0.,  ..., 0., 0., 0.],\n",
       "           [0., 0., 0.,  ..., 0., 0., 0.],\n",
       "           [0., 0., 0.,  ..., 0., 0., 0.],\n",
       "           ...,\n",
       "           [0., 0., 0.,  ..., 0., 0., 0.],\n",
       "           [0., 0., 0.,  ..., 0., 0., 0.],\n",
       "           [0., 0., 0.,  ..., 0., 0., 0.]],\n",
       " \n",
       "          [[0., 0., 0.,  ..., 0., 0., 0.],\n",
       "           [0., 0., 0.,  ..., 0., 0., 0.],\n",
       "           [0., 0., 0.,  ..., 0., 0., 0.],\n",
       "           ...,\n",
       "           [0., 0., 0.,  ..., 0., 0., 0.],\n",
       "           [0., 0., 0.,  ..., 0., 0., 0.],\n",
       "           [0., 0., 0.,  ..., 0., 0., 0.]],\n",
       " \n",
       "          ...,\n",
       " \n",
       "          [[0., 0., 0.,  ..., 0., 0., 0.],\n",
       "           [0., 0., 0.,  ..., 0., 0., 0.],\n",
       "           [0., 0., 0.,  ..., 0., 0., 0.],\n",
       "           ...,\n",
       "           [0., 0., 0.,  ..., 0., 0., 0.],\n",
       "           [0., 0., 0.,  ..., 0., 0., 0.],\n",
       "           [0., 0., 0.,  ..., 0., 0., 0.]],\n",
       " \n",
       "          [[0., 0., 0.,  ..., 0., 0., 0.],\n",
       "           [0., 0., 0.,  ..., 0., 0., 0.],\n",
       "           [0., 0., 0.,  ..., 0., 0., 0.],\n",
       "           ...,\n",
       "           [0., 0., 0.,  ..., 0., 0., 0.],\n",
       "           [0., 0., 0.,  ..., 0., 0., 0.],\n",
       "           [0., 0., 0.,  ..., 0., 0., 0.]],\n",
       " \n",
       "          [[0., 0., 0.,  ..., 0., 0., 0.],\n",
       "           [0., 0., 0.,  ..., 0., 0., 0.],\n",
       "           [0., 0., 0.,  ..., 0., 0., 0.],\n",
       "           ...,\n",
       "           [0., 0., 0.,  ..., 0., 0., 0.],\n",
       "           [0., 0., 0.,  ..., 0., 0., 0.],\n",
       "           [0., 0., 0.,  ..., 0., 0., 0.]]],\n",
       " \n",
       " \n",
       "         [[[0., 0., 0.,  ..., 0., 0., 0.],\n",
       "           [0., 0., 0.,  ..., 0., 0., 0.],\n",
       "           [0., 0., 0.,  ..., 0., 0., 0.],\n",
       "           ...,\n",
       "           [0., 0., 0.,  ..., 0., 0., 0.],\n",
       "           [0., 0., 0.,  ..., 0., 0., 0.],\n",
       "           [0., 0., 0.,  ..., 0., 0., 0.]],\n",
       " \n",
       "          [[0., 0., 0.,  ..., 0., 0., 0.],\n",
       "           [0., 0., 0.,  ..., 0., 0., 0.],\n",
       "           [0., 0., 0.,  ..., 0., 0., 0.],\n",
       "           ...,\n",
       "           [0., 0., 0.,  ..., 0., 0., 0.],\n",
       "           [0., 0., 0.,  ..., 0., 0., 0.],\n",
       "           [0., 0., 0.,  ..., 0., 0., 0.]],\n",
       " \n",
       "          [[0., 0., 0.,  ..., 0., 0., 0.],\n",
       "           [0., 0., 0.,  ..., 0., 0., 0.],\n",
       "           [0., 0., 0.,  ..., 0., 0., 0.],\n",
       "           ...,\n",
       "           [0., 0., 0.,  ..., 0., 0., 0.],\n",
       "           [0., 0., 0.,  ..., 0., 0., 0.],\n",
       "           [0., 0., 0.,  ..., 0., 0., 0.]],\n",
       " \n",
       "          ...,\n",
       " \n",
       "          [[0., 0., 0.,  ..., 0., 0., 0.],\n",
       "           [0., 0., 0.,  ..., 0., 0., 0.],\n",
       "           [0., 0., 0.,  ..., 0., 0., 0.],\n",
       "           ...,\n",
       "           [0., 0., 0.,  ..., 0., 0., 0.],\n",
       "           [0., 0., 0.,  ..., 0., 0., 0.],\n",
       "           [0., 0., 0.,  ..., 0., 0., 0.]],\n",
       " \n",
       "          [[0., 0., 0.,  ..., 0., 0., 0.],\n",
       "           [0., 0., 0.,  ..., 0., 0., 0.],\n",
       "           [0., 0., 0.,  ..., 0., 0., 0.],\n",
       "           ...,\n",
       "           [0., 0., 0.,  ..., 0., 0., 0.],\n",
       "           [0., 0., 0.,  ..., 0., 0., 0.],\n",
       "           [0., 0., 0.,  ..., 0., 0., 0.]],\n",
       " \n",
       "          [[0., 0., 0.,  ..., 0., 0., 0.],\n",
       "           [0., 0., 0.,  ..., 0., 0., 0.],\n",
       "           [0., 0., 0.,  ..., 0., 0., 0.],\n",
       "           ...,\n",
       "           [0., 0., 0.,  ..., 0., 0., 0.],\n",
       "           [0., 0., 0.,  ..., 0., 0., 0.],\n",
       "           [0., 0., 0.,  ..., 0., 0., 0.]]]]),\n",
       " 'P': tensor([ 43.6000,  65.1000,  76.9000,  79.2000,  41.0000,  67.4000,  58.3000,\n",
       "         117.0000], dtype=torch.float64),\n",
       " 'K': tensor([295., 258., 198., 228., 293., 199., 201., 423.], dtype=torch.float64),\n",
       " 'Mg': tensor([153., 108., 145., 119., 132., 149., 198., 146.], dtype=torch.float64),\n",
       " 'pH': tensor([6.3000, 6.8000, 6.6000, 7.1300, 6.8000, 7.1000, 7.2000, 7.2000],\n",
       "        dtype=torch.float64)}"
      ]
     },
     "execution_count": 20,
     "metadata": {},
     "output_type": "execute_result"
    }
   ],
   "source": [
    "train_data_single_batch"
   ]
  },
  {
   "cell_type": "code",
   "execution_count": 21,
   "id": "8db6d448-4530-44e9-9b8c-e716e6223fd8",
   "metadata": {},
   "outputs": [
    {
     "data": {
      "text/plain": [
       "torch.Size([150, 300, 300])"
      ]
     },
     "execution_count": 21,
     "metadata": {},
     "output_type": "execute_result"
    }
   ],
   "source": [
    "train_data_single_batch['image'][0].shape"
   ]
  },
  {
   "cell_type": "code",
   "execution_count": 463,
   "id": "209e7cc8-4441-4579-a793-64e7f4ce1bf6",
   "metadata": {},
   "outputs": [
    {
     "data": {
      "text/plain": [
       "torch.Size([8, 150, 300, 300])"
      ]
     },
     "execution_count": 463,
     "metadata": {},
     "output_type": "execute_result"
    }
   ],
   "source": [
    "train_data_single_batch['image'].to(device, dtype=torch.float).shape"
   ]
  },
  {
   "cell_type": "code",
   "execution_count": 464,
   "id": "efc305c1-5046-41b5-8531-c8871e4dc0e3",
   "metadata": {},
   "outputs": [],
   "source": [
    "output = modelResNetCNN(train_data_single_batch['image'].to(device, dtype=torch.float))"
   ]
  },
  {
   "cell_type": "code",
   "execution_count": 465,
   "id": "5464bf25-9f25-42d5-9a16-a6c73900a285",
   "metadata": {},
   "outputs": [
    {
     "data": {
      "text/plain": [
       "tensor([[ 77.9738, 298.0117, 173.9782,   6.5970],\n",
       "        [ 64.6926, 165.9923, 151.9960,   6.5672],\n",
       "        [ 25.0137, 247.9812, 171.0289,   6.5973],\n",
       "        [ 37.6087, 191.0036, 152.9605,   6.7541],\n",
       "        [101.0079, 308.9837, 152.0241,   6.8512],\n",
       "        [ 82.3947, 232.9995, 161.9893,   6.8195],\n",
       "        [121.0051, 241.9958,  57.0968,   7.0230],\n",
       "        [ 78.8475, 189.9610,  81.0190,   6.7596]], device='cuda:0',\n",
       "       grad_fn=<AddmmBackward0>)"
      ]
     },
     "execution_count": 465,
     "metadata": {},
     "output_type": "execute_result"
    }
   ],
   "source": [
    "output"
   ]
  },
  {
   "cell_type": "code",
   "execution_count": 466,
   "id": "58725929-6c73-4133-aa60-6c00fc82fb37",
   "metadata": {},
   "outputs": [
    {
     "data": {
      "text/plain": [
       "tensor([[ 78.0000,  64.7000,  25.0000,  37.6000, 101.0000,  82.4000, 121.0000,\n",
       "          78.8000],\n",
       "        [298.0000, 166.0000, 248.0000, 191.0000, 309.0000, 233.0000, 242.0000,\n",
       "         190.0000],\n",
       "        [174.0000, 152.0000, 171.0000, 153.0000, 152.0000, 162.0000,  57.1000,\n",
       "          81.0000],\n",
       "        [  6.4000,   6.6000,   6.7000,   6.6000,   7.0000,   6.8000,   6.8300,\n",
       "           7.1000]], dtype=torch.float64)"
      ]
     },
     "execution_count": 466,
     "metadata": {},
     "output_type": "execute_result"
    }
   ],
   "source": [
    "stacked_gt = torch.stack((train_data_single_batch['P'], train_data_single_batch['K'], train_data_single_batch['Mg'], train_data_single_batch['pH']))\n",
    "stacked_gt"
   ]
  },
  {
   "cell_type": "code",
   "execution_count": 467,
   "id": "77692788-e75c-4323-9993-2a467c0ab6f3",
   "metadata": {},
   "outputs": [],
   "source": [
    "stacked_gt = stacked_gt.transpose(0, 1).to(device)"
   ]
  },
  {
   "cell_type": "code",
   "execution_count": 468,
   "id": "b45e2527-37da-4ab6-8791-e3c8c0f697c9",
   "metadata": {},
   "outputs": [
    {
     "data": {
      "text/plain": [
       "tensor([[ 78.0000, 298.0000, 174.0000,   6.4000],\n",
       "        [ 64.7000, 166.0000, 152.0000,   6.6000],\n",
       "        [ 25.0000, 248.0000, 171.0000,   6.7000],\n",
       "        [ 37.6000, 191.0000, 153.0000,   6.6000],\n",
       "        [101.0000, 309.0000, 152.0000,   7.0000],\n",
       "        [ 82.4000, 233.0000, 162.0000,   6.8000],\n",
       "        [121.0000, 242.0000,  57.1000,   6.8300],\n",
       "        [ 78.8000, 190.0000,  81.0000,   7.1000]], device='cuda:0',\n",
       "       dtype=torch.float64)"
      ]
     },
     "execution_count": 468,
     "metadata": {},
     "output_type": "execute_result"
    }
   ],
   "source": [
    "stacked_gt"
   ]
  },
  {
   "cell_type": "code",
   "execution_count": 469,
   "id": "961d4f8e-d7bb-4f28-9355-cfdfae1851a8",
   "metadata": {},
   "outputs": [
    {
     "data": {
      "text/plain": [
       "tensor(0.0081, device='cuda:0', dtype=torch.float64,\n",
       "       grad_fn=<MseLossBackward0>)"
      ]
     },
     "execution_count": 469,
     "metadata": {},
     "output_type": "execute_result"
    }
   ],
   "source": [
    "loss_func(output, stacked_gt)"
   ]
  },
  {
   "cell_type": "code",
   "execution_count": 22,
   "id": "1f51aaa4-a916-4c14-8420-b1ed3fbeb894",
   "metadata": {},
   "outputs": [
    {
     "name": "stdout",
     "output_type": "stream",
     "text": [
      "epoch: 0, loss: 25068.59375, MSE: [5.1818486e+03 7.3724484e+04 2.1317166e+04 5.0878441e+01]\n",
      "epoch: 10, loss: 8498.189453125, MSE: [9.9344537e+02 3.0511973e+04 2.4821572e+03 5.1810579e+00]\n",
      "epoch: 20, loss: 1943.198486328125, MSE: [ 560.27057  3929.0535   3276.4155      7.054283]\n",
      "epoch: 30, loss: 929.8078002929688, MSE: [ 612.38464  1902.7195   1200.2067      3.920496]\n",
      "epoch: 40, loss: 2129.715576171875, MSE: [7.9544196e+02 6.6813291e+03 1.0411436e+03 9.4775909e-01]\n",
      "epoch: 50, loss: 625.610595703125, MSE: [4.2386243e+02 1.0506796e+03 1.0277257e+03 1.7471790e-01]\n",
      "epoch: 60, loss: 330.2525634765625, MSE: [2.7662155e+02 2.1674701e+02 8.2739667e+02 2.4512239e-01]\n",
      "epoch: 70, loss: 231.21075439453125, MSE: [2.4271884e+02 9.6238701e+01 5.8572644e+02 1.5911290e-01]\n",
      "epoch: 80, loss: 211.90435791015625, MSE: [2.5378592e+02 7.1360870e+01 5.2231055e+02 1.6007546e-01]\n",
      "epoch: 90, loss: 199.3742218017578, MSE: [2.3856584e+02 6.5869728e+01 4.9299261e+02 6.8759516e-02]\n",
      "epoch: 100, loss: 190.64602661132812, MSE: [1.9372899e+02 8.4626976e+01 4.8409808e+02 1.3004829e-01]\n",
      "epoch: 110, loss: 176.74913024902344, MSE: [1.7120007e+02 7.4374489e+01 4.6126486e+02 1.5707803e-01]\n",
      "epoch: 120, loss: 167.61282348632812, MSE: [1.4177975e+02 7.6635612e+01 4.5186432e+02 1.7158793e-01]\n",
      "epoch: 130, loss: 158.96824645996094, MSE: [1.2213731e+02 7.5259659e+01 4.3826828e+02 2.0775245e-01]\n",
      "epoch: 140, loss: 150.90960693359375, MSE: [1.0091296e+02 7.7130547e+01 4.2536465e+02 2.3031949e-01]\n",
      "epoch: 150, loss: 157.45021057128906, MSE: [8.7831505e+01 1.3022461e+02 4.1159579e+02 1.4892092e-01]\n",
      "epoch: 160, loss: 143.59112548828125, MSE: [6.8880844e+01 8.3692764e+01 4.2165479e+02 1.3612758e-01]\n",
      "epoch: 170, loss: 126.40694427490234, MSE: [2.8744808e+01 8.7331764e+01 3.8935754e+02 1.9365445e-01]\n",
      "epoch: 180, loss: 110.24209594726562, MSE: [1.3431175e+01 9.5367523e+01 3.3202954e+02 1.4015794e-01]\n",
      "epoch: 190, loss: 94.69993591308594, MSE: [1.8230059e+01 1.0591660e+02 2.5449158e+02 1.6151161e-01]\n",
      "epoch: 200, loss: 254.710693359375, MSE: [1.7013812e+02 2.3852878e+02 6.0988342e+02 2.9236031e-01]\n",
      "epoch: 210, loss: 55.22589874267578, MSE: [ 48.82558     45.43866    126.492355     0.14698866]\n",
      "epoch: 220, loss: 21.378089904785156, MSE: [21.536057   41.202755   22.475933    0.29762292]\n",
      "epoch: 230, loss: 11.504291534423828, MSE: [13.733903   10.022071   22.035885    0.22530645]\n",
      "epoch: 240, loss: 4.443436622619629, MSE: [9.164629  3.2549798 5.1947074 0.1594289]\n",
      "epoch: 250, loss: 1.8861992359161377, MSE: [4.969673   0.7425837  1.7074089  0.12513229]\n",
      "epoch: 260, loss: 0.9828413724899292, MSE: [2.4655626  0.6074585  0.77865434 0.07969021]\n",
      "epoch: 270, loss: 0.39909738302230835, MSE: [1.273638   0.16844317 0.10507535 0.04923306]\n",
      "epoch: 280, loss: 0.15208101272583008, MSE: [0.3923967  0.09041409 0.09323901 0.03227428]\n",
      "epoch: 290, loss: 0.048175349831581116, MSE: [0.10589591 0.04316066 0.02165878 0.02198602]\n"
     ]
    }
   ],
   "source": [
    "img_data_device = train_data_single_batch['image'].to(device, dtype=torch.float)\n",
    "stacked_gt_device = torch.stack((train_data_single_batch['P'], train_data_single_batch['K'], train_data_single_batch['Mg'], train_data_single_batch['pH'])).transpose(0,1).to(device, \n",
    "    dtype=torch.float)\n",
    "\n",
    "modelResNetCNN = ResNetCNN(False).to(device)\n",
    "optimizer = torch.optim.AdamW(modelResNetCNN.parameters(), lr=0.01)\n",
    "loss_func = torch.nn.MSELoss()\n",
    "\n",
    "for epoch in range(300):\n",
    "    modelResNetCNN.train()\n",
    "    \n",
    "    output = modelResNetCNN(img_data_device)\n",
    "    loss = loss_func(output, stacked_gt_device)\n",
    "    \n",
    "    optimizer.zero_grad()\n",
    "    loss.backward()\n",
    "    optimizer.step()\n",
    "        \n",
    "    output_cpu = output.detach().cpu().numpy()\n",
    "    stacked_gt_cpu = stacked_gt_device.cpu().numpy()\n",
    "\n",
    "    # Calculate MSE for each class\n",
    "    mse = np.mean((stacked_gt_cpu - output_cpu) ** 2, axis=0)\n",
    "    \n",
    "    if epoch%10 == 0:\n",
    "        print(f'epoch: {epoch}, loss: {loss.data.cpu().numpy()}, MSE: {mse}')"
   ]
  },
  {
   "cell_type": "markdown",
   "id": "9f7e821b-ba10-45f2-b8c8-62e1b57816b1",
   "metadata": {},
   "source": [
    "### Training"
   ]
  },
  {
   "cell_type": "code",
   "execution_count": 29,
   "id": "a11e1370-4315-4af1-b61a-477d036d6486",
   "metadata": {},
   "outputs": [],
   "source": [
    "model_name = 'Resnet34_BATCHSIZE_12_AdamW_LR_0_0179_ReduceLROnPlateau_Factor0_2_Threshold_0_0001'"
   ]
  },
  {
   "cell_type": "code",
   "execution_count": 30,
   "id": "558c42af-2b45-41f3-9184-577eb2830eea",
   "metadata": {},
   "outputs": [],
   "source": [
    "modelResNetCNN = ResNetCNN(False).to(device)"
   ]
  },
  {
   "cell_type": "code",
   "execution_count": 31,
   "id": "634f4c5f-77f4-4139-8df0-7a0dbdf555b8",
   "metadata": {
    "tags": []
   },
   "outputs": [
    {
     "data": {
      "text/plain": [
       "[]"
      ]
     },
     "execution_count": 31,
     "metadata": {},
     "output_type": "execute_result"
    }
   ],
   "source": [
    "wandb.watch(modelResNetCNN, log=\"None\", log_freq=20)"
   ]
  },
  {
   "cell_type": "code",
   "execution_count": 32,
   "id": "ea978104-75da-4a8c-a865-f5ac6c696d67",
   "metadata": {},
   "outputs": [],
   "source": [
    "optimizer = torch.optim.AdamW(modelResNetCNN.parameters(), lr=0.0179)"
   ]
  },
  {
   "cell_type": "code",
   "execution_count": 33,
   "id": "3fda57be-f914-4822-b681-f613ba7b11b2",
   "metadata": {},
   "outputs": [],
   "source": [
    "loss_func = torch.nn.MSELoss()"
   ]
  },
  {
   "cell_type": "markdown",
   "id": "10d1d174-8dce-42c6-9d24-40956ff633ac",
   "metadata": {
    "jp-MarkdownHeadingCollapsed": true,
    "tags": []
   },
   "source": [
    "#### Find LR"
   ]
  },
  {
   "cell_type": "code",
   "execution_count": 27,
   "id": "0d5b6c64-236b-47ec-b101-194d5f6c7253",
   "metadata": {},
   "outputs": [],
   "source": [
    "from torch_lr_finder.lr_finder import TrainDataLoaderIter"
   ]
  },
  {
   "cell_type": "code",
   "execution_count": 28,
   "id": "995d2c36-4182-4efc-a326-39e28b0c86aa",
   "metadata": {},
   "outputs": [],
   "source": [
    "class CustomTrainIter(TrainDataLoaderIter):\n",
    "    def inputs_labels_from_batch(self, batch_data):\n",
    "        return (torch.as_tensor(batch_data['image'], dtype=torch.float), \n",
    "                torch.as_tensor(torch.stack((batch_data['P'], batch_data['K'], batch_data['Mg'], batch_data['pH'])).transpose(0,1), dtype=torch.float))"
   ]
  },
  {
   "cell_type": "code",
   "execution_count": 29,
   "id": "3fe4a841-b4d5-4a31-ba1e-077d8cfc0081",
   "metadata": {},
   "outputs": [
    {
     "data": {
      "application/vnd.jupyter.widget-view+json": {
       "model_id": "ec3ccdeb6b66478b98e05d96999f89b7",
       "version_major": 2,
       "version_minor": 0
      },
      "text/plain": [
       "  0%|          | 0/100 [00:00<?, ?it/s]"
      ]
     },
     "metadata": {},
     "output_type": "display_data"
    },
    {
     "name": "stdout",
     "output_type": "stream",
     "text": [
      "Stopping early, the loss has diverged\n",
      "Learning rate search finished. See the graph with {finder_name}.plot()\n"
     ]
    }
   ],
   "source": [
    "lr_finder = LRFinder(modelResNetCNN, optimizer, loss_func, device=device)\n",
    "lr_finder.range_test(CustomTrainIter(train_dataloader), start_lr=0.00001, end_lr=100, num_iter=100)"
   ]
  },
  {
   "cell_type": "code",
   "execution_count": 30,
   "id": "6bdd0c45-afd2-4bd0-8d47-729520307623",
   "metadata": {},
   "outputs": [
    {
     "name": "stdout",
     "output_type": "stream",
     "text": [
      "LR suggestion: steepest gradient\n",
      "Suggested LR: 1.79E-02\n"
     ]
    },
    {
     "data": {
      "image/png": "[encoded data removed]",
      "text/plain": [
       "<Figure size 432x288 with 1 Axes>"
      ]
     },
     "metadata": {
      "needs_background": "light"
     },
     "output_type": "display_data"
    }
   ],
   "source": [
    "lr_finder.plot()\n",
    "lr_finder.reset()"
   ]
  },
  {
   "cell_type": "markdown",
   "id": "257faf31-7f43-406f-a382-d997f0bb5cb6",
   "metadata": {},
   "source": [
    "#### Continue training"
   ]
  },
  {
   "cell_type": "code",
   "execution_count": 34,
   "id": "ea4809cc-4fe1-4db7-9ade-872ce437a65d",
   "metadata": {},
   "outputs": [],
   "source": [
    "patience_scheduler_overfit = 6\n",
    "scheduler = torch.optim.lr_scheduler.ReduceLROnPlateau(optimizer=optimizer, mode='min',\n",
    "                                                       factor=0.2, patience = patience_scheduler_overfit,\n",
    "                                                       threshold=0.0001, threshold_mode='abs')"
   ]
  },
  {
   "cell_type": "code",
   "execution_count": 35,
   "id": "496f6681-41b1-4382-9b15-34ef4c69e670",
   "metadata": {},
   "outputs": [],
   "source": [
    "early_stopping = EarlyStopping(patience=(2*patience_scheduler_overfit)+3, verbose=True,\n",
    "                               path=os.path.join(saved_models_directory, 'checkpoint_state_dict.pth'))"
   ]
  },
  {
   "cell_type": "code",
   "execution_count": 36,
   "id": "d7afd373-eeb3-4e78-9bc0-51be9fded852",
   "metadata": {},
   "outputs": [],
   "source": [
    "config = wandb.config\n",
    "config.optimizer =  'AdamW'\n",
    "config.learning_rate_start = optimizer.param_groups[0][\"lr\"]\n",
    "# config.momentum = optimizer.param_groups[0][\"momentum\"]\n",
    "config.momentum = None\n",
    "config.weight_decay = optimizer.param_groups[0][\"weight_decay\"]\n",
    "config.scheduler =  'ReduceLROnPlateau'\n",
    "config.scheduler_factor =  0.2\n",
    "config.scheduler_patience =  5\n",
    "config.scheduler_threshold =  0.0001\n",
    "config.batch_size = BATCH_SIZE"
   ]
  },
  {
   "cell_type": "code",
   "execution_count": 37,
   "id": "6a22f51e-eb05-466e-9632-4ddfba9d6ad6",
   "metadata": {},
   "outputs": [],
   "source": [
    "previous_epochs = 0 # how many epochs have been done previously if resuming"
   ]
  },
  {
   "cell_type": "code",
   "execution_count": 38,
   "id": "7233ac28-6fdf-42e7-99e8-8843964e15c6",
   "metadata": {
    "tags": []
   },
   "outputs": [
    {
     "data": {
      "application/vnd.jupyter.widget-view+json": {
       "model_id": "",
       "version_major": 2,
       "version_minor": 0
      },
      "text/plain": [
       "epoch 0 training data:   0%|          | 0/116 [00:00<?, ?it/s]"
      ]
     },
     "metadata": {},
     "output_type": "display_data"
    },
    {
     "name": "stdout",
     "output_type": "stream",
     "text": [
      "epoch: 0, LR: 0.0179, train loss: 2543.665283203125, train MSE: [1117.4708251953125, 6291.53515625, 2761.7353515625, 3.921243906021118]\n"
     ]
    },
    {
     "data": {
      "application/vnd.jupyter.widget-view+json": {
       "model_id": "",
       "version_major": 2,
       "version_minor": 0
      },
      "text/plain": [
       "epoch 0 validation data:   0%|          | 0/27 [00:00<?, ?it/s]"
      ]
     },
     "metadata": {},
     "output_type": "display_data"
    },
    {
     "name": "stdout",
     "output_type": "stream",
     "text": [
      "epoch: 0, validation loss: 1609.790771484375, validation MSE: [1096.86572265625, 3584.8642578125, 1757.2911376953125, 0.1418648362159729]\n",
      "Validation loss decreased (inf --> 1609.790771).  Saving model ...\n"
     ]
    },
    {
     "data": {
      "application/vnd.jupyter.widget-view+json": {
       "model_id": "",
       "version_major": 2,
       "version_minor": 0
      },
      "text/plain": [
       "epoch 1 training data:   0%|          | 0/116 [00:00<?, ?it/s]"
      ]
     },
     "metadata": {},
     "output_type": "display_data"
    },
    {
     "name": "stdout",
     "output_type": "stream",
     "text": [
      "epoch: 1, LR: 0.0179, train loss: 1627.10107421875, train MSE: [864.2564086914062, 4050.583251953125, 1593.4000244140625, 0.16381625831127167]\n"
     ]
    },
    {
     "data": {
      "application/vnd.jupyter.widget-view+json": {
       "model_id": "",
       "version_major": 2,
       "version_minor": 0
      },
      "text/plain": [
       "epoch 1 validation data:   0%|          | 0/27 [00:00<?, ?it/s]"
      ]
     },
     "metadata": {},
     "output_type": "display_data"
    },
    {
     "name": "stdout",
     "output_type": "stream",
     "text": [
      "epoch: 1, validation loss: 1652.1064453125, validation MSE: [1111.7388916015625, 3752.7373046875, 1742.953125, 0.9961733222007751]\n",
      "EarlyStopping counter: 1 out of 15\n"
     ]
    },
    {
     "data": {
      "application/vnd.jupyter.widget-view+json": {
       "model_id": "",
       "version_major": 2,
       "version_minor": 0
      },
      "text/plain": [
       "epoch 2 training data:   0%|          | 0/116 [00:00<?, ?it/s]"
      ]
     },
     "metadata": {},
     "output_type": "display_data"
    },
    {
     "name": "stdout",
     "output_type": "stream",
     "text": [
      "epoch: 2, LR: 0.0179, train loss: 1624.78857421875, train MSE: [874.4116821289062, 4036.84326171875, 1587.677978515625, 0.22042514383792877]\n"
     ]
    },
    {
     "data": {
      "application/vnd.jupyter.widget-view+json": {
       "model_id": "",
       "version_major": 2,
       "version_minor": 0
      },
      "text/plain": [
       "epoch 2 validation data:   0%|          | 0/27 [00:00<?, ?it/s]"
      ]
     },
     "metadata": {},
     "output_type": "display_data"
    },
    {
     "name": "stdout",
     "output_type": "stream",
     "text": [
      "epoch: 2, validation loss: 1750.577880859375, validation MSE: [1143.41552734375, 4061.617431640625, 1796.7227783203125, 0.555298388004303]\n",
      "EarlyStopping counter: 2 out of 15\n"
     ]
    },
    {
     "data": {
      "application/vnd.jupyter.widget-view+json": {
       "model_id": "",
       "version_major": 2,
       "version_minor": 0
      },
      "text/plain": [
       "epoch 3 training data:   0%|          | 0/116 [00:00<?, ?it/s]"
      ]
     },
     "metadata": {},
     "output_type": "display_data"
    },
    {
     "name": "stdout",
     "output_type": "stream",
     "text": [
      "epoch: 3, LR: 0.0179, train loss: 1626.9119873046875, train MSE: [873.525146484375, 4038.140869140625, 1595.7333984375, 0.24868234992027283]\n"
     ]
    },
    {
     "data": {
      "application/vnd.jupyter.widget-view+json": {
       "model_id": "",
       "version_major": 2,
       "version_minor": 0
      },
      "text/plain": [
       "epoch 3 validation data:   0%|          | 0/27 [00:00<?, ?it/s]"
      ]
     },
     "metadata": {},
     "output_type": "display_data"
    },
    {
     "name": "stdout",
     "output_type": "stream",
     "text": [
      "epoch: 3, validation loss: 1605.7213134765625, validation MSE: [1099.416259765625, 3672.192626953125, 1649.875732421875, 1.4007481336593628]\n",
      "Validation loss decreased (1609.790771 --> 1605.721313).  Saving model ...\n"
     ]
    },
    {
     "data": {
      "application/vnd.jupyter.widget-view+json": {
       "model_id": "",
       "version_major": 2,
       "version_minor": 0
      },
      "text/plain": [
       "epoch 4 training data:   0%|          | 0/116 [00:00<?, ?it/s]"
      ]
     },
     "metadata": {},
     "output_type": "display_data"
    },
    {
     "name": "stdout",
     "output_type": "stream",
     "text": [
      "epoch: 4, LR: 0.0179, train loss: 1624.6395263671875, train MSE: [871.4733276367188, 4021.185302734375, 1605.675537109375, 0.22355757653713226]\n"
     ]
    },
    {
     "data": {
      "application/vnd.jupyter.widget-view+json": {
       "model_id": "",
       "version_major": 2,
       "version_minor": 0
      },
      "text/plain": [
       "epoch 4 validation data:   0%|          | 0/27 [00:00<?, ?it/s]"
      ]
     },
     "metadata": {},
     "output_type": "display_data"
    },
    {
     "name": "stdout",
     "output_type": "stream",
     "text": [
      "epoch: 4, validation loss: 1654.42626953125, validation MSE: [1109.3717041015625, 3753.942138671875, 1753.9071044921875, 0.4834617078304291]\n",
      "EarlyStopping counter: 1 out of 15\n"
     ]
    },
    {
     "data": {
      "application/vnd.jupyter.widget-view+json": {
       "model_id": "",
       "version_major": 2,
       "version_minor": 0
      },
      "text/plain": [
       "epoch 5 training data:   0%|          | 0/116 [00:00<?, ?it/s]"
      ]
     },
     "metadata": {},
     "output_type": "display_data"
    },
    {
     "name": "stdout",
     "output_type": "stream",
     "text": [
      "epoch: 5, LR: 0.0179, train loss: 1623.6700439453125, train MSE: [871.18896484375, 4027.338134765625, 1595.9521484375, 0.20048488676548004]\n"
     ]
    },
    {
     "data": {
      "application/vnd.jupyter.widget-view+json": {
       "model_id": "",
       "version_major": 2,
       "version_minor": 0
      },
      "text/plain": [
       "epoch 5 validation data:   0%|          | 0/27 [00:00<?, ?it/s]"
      ]
     },
     "metadata": {},
     "output_type": "display_data"
    },
    {
     "name": "stdout",
     "output_type": "stream",
     "text": [
      "epoch: 5, validation loss: 1920.0098876953125, validation MSE: [1188.9385986328125, 4633.43359375, 1857.4520263671875, 0.21513155102729797]\n",
      "EarlyStopping counter: 2 out of 15\n"
     ]
    },
    {
     "data": {
      "application/vnd.jupyter.widget-view+json": {
       "model_id": "",
       "version_major": 2,
       "version_minor": 0
      },
      "text/plain": [
       "epoch 6 training data:   0%|          | 0/116 [00:00<?, ?it/s]"
      ]
     },
     "metadata": {},
     "output_type": "display_data"
    },
    {
     "name": "stdout",
     "output_type": "stream",
     "text": [
      "epoch: 6, LR: 0.0179, train loss: 1612.9154052734375, train MSE: [870.8483276367188, 3988.13427734375, 1592.464599609375, 0.21426349878311157]\n"
     ]
    },
    {
     "data": {
      "application/vnd.jupyter.widget-view+json": {
       "model_id": "",
       "version_major": 2,
       "version_minor": 0
      },
      "text/plain": [
       "epoch 6 validation data:   0%|          | 0/27 [00:00<?, ?it/s]"
      ]
     },
     "metadata": {},
     "output_type": "display_data"
    },
    {
     "name": "stdout",
     "output_type": "stream",
     "text": [
      "epoch: 6, validation loss: 1617.539306640625, validation MSE: [1134.2816162109375, 3567.223876953125, 1768.537353515625, 0.11447831988334656]\n",
      "EarlyStopping counter: 3 out of 15\n"
     ]
    },
    {
     "data": {
      "application/vnd.jupyter.widget-view+json": {
       "model_id": "",
       "version_major": 2,
       "version_minor": 0
      },
      "text/plain": [
       "epoch 7 training data:   0%|          | 0/116 [00:00<?, ?it/s]"
      ]
     },
     "metadata": {},
     "output_type": "display_data"
    },
    {
     "name": "stdout",
     "output_type": "stream",
     "text": [
      "epoch: 7, LR: 0.0179, train loss: 1612.5693359375, train MSE: [873.623046875, 3982.28125, 1594.125732421875, 0.24681617319583893]\n"
     ]
    },
    {
     "data": {
      "application/vnd.jupyter.widget-view+json": {
       "model_id": "",
       "version_major": 2,
       "version_minor": 0
      },
      "text/plain": [
       "epoch 7 validation data:   0%|          | 0/27 [00:00<?, ?it/s]"
      ]
     },
     "metadata": {},
     "output_type": "display_data"
    },
    {
     "name": "stdout",
     "output_type": "stream",
     "text": [
      "epoch: 7, validation loss: 1955.140380859375, validation MSE: [1166.0545654296875, 4858.2509765625, 1796.0994873046875, 0.15585185587406158]\n",
      "EarlyStopping counter: 4 out of 15\n"
     ]
    },
    {
     "data": {
      "application/vnd.jupyter.widget-view+json": {
       "model_id": "",
       "version_major": 2,
       "version_minor": 0
      },
      "text/plain": [
       "epoch 8 training data:   0%|          | 0/116 [00:00<?, ?it/s]"
      ]
     },
     "metadata": {},
     "output_type": "display_data"
    },
    {
     "name": "stdout",
     "output_type": "stream",
     "text": [
      "epoch: 8, LR: 0.0179, train loss: 1624.174560546875, train MSE: [866.2962036132812, 4044.68994140625, 1585.4896240234375, 0.22234126925468445]\n"
     ]
    },
    {
     "data": {
      "application/vnd.jupyter.widget-view+json": {
       "model_id": "",
       "version_major": 2,
       "version_minor": 0
      },
      "text/plain": [
       "epoch 8 validation data:   0%|          | 0/27 [00:00<?, ?it/s]"
      ]
     },
     "metadata": {},
     "output_type": "display_data"
    },
    {
     "name": "stdout",
     "output_type": "stream",
     "text": [
      "epoch: 8, validation loss: 1701.97119140625, validation MSE: [1125.6724853515625, 3894.16455078125, 1787.9776611328125, 0.0702156350016594]\n",
      "EarlyStopping counter: 5 out of 15\n"
     ]
    },
    {
     "data": {
      "application/vnd.jupyter.widget-view+json": {
       "model_id": "",
       "version_major": 2,
       "version_minor": 0
      },
      "text/plain": [
       "epoch 9 training data:   0%|          | 0/116 [00:00<?, ?it/s]"
      ]
     },
     "metadata": {},
     "output_type": "display_data"
    },
    {
     "name": "stdout",
     "output_type": "stream",
     "text": [
      "epoch: 9, LR: 0.0179, train loss: 1618.6654052734375, train MSE: [869.5302124023438, 4006.05810546875, 1598.83984375, 0.23315784335136414]\n"
     ]
    },
    {
     "data": {
      "application/vnd.jupyter.widget-view+json": {
       "model_id": "",
       "version_major": 2,
       "version_minor": 0
      },
      "text/plain": [
       "epoch 9 validation data:   0%|          | 0/27 [00:00<?, ?it/s]"
      ]
     },
     "metadata": {},
     "output_type": "display_data"
    },
    {
     "name": "stdout",
     "output_type": "stream",
     "text": [
      "epoch: 9, validation loss: 1580.1754150390625, validation MSE: [1090.968994140625, 3565.799072265625, 1663.5787353515625, 0.354067862033844]\n",
      "Validation loss decreased (1605.721313 --> 1580.175415).  Saving model ...\n"
     ]
    },
    {
     "data": {
      "application/vnd.jupyter.widget-view+json": {
       "model_id": "",
       "version_major": 2,
       "version_minor": 0
      },
      "text/plain": [
       "epoch 10 training data:   0%|          | 0/116 [00:00<?, ?it/s]"
      ]
     },
     "metadata": {},
     "output_type": "display_data"
    },
    {
     "name": "stdout",
     "output_type": "stream",
     "text": [
      "epoch: 10, LR: 0.0179, train loss: 1605.9420166015625, train MSE: [866.803466796875, 3969.00732421875, 1587.7520751953125, 0.20529073476791382]\n"
     ]
    },
    {
     "data": {
      "application/vnd.jupyter.widget-view+json": {
       "model_id": "",
       "version_major": 2,
       "version_minor": 0
      },
      "text/plain": [
       "epoch 10 validation data:   0%|          | 0/27 [00:00<?, ?it/s]"
      ]
     },
     "metadata": {},
     "output_type": "display_data"
    },
    {
     "name": "stdout",
     "output_type": "stream",
     "text": [
      "epoch: 10, validation loss: 1662.6793212890625, validation MSE: [1117.20458984375, 3867.391845703125, 1665.720947265625, 0.3990301489830017]\n",
      "EarlyStopping counter: 1 out of 15\n"
     ]
    },
    {
     "data": {
      "application/vnd.jupyter.widget-view+json": {
       "model_id": "",
       "version_major": 2,
       "version_minor": 0
      },
      "text/plain": [
       "epoch 11 training data:   0%|          | 0/116 [00:00<?, ?it/s]"
      ]
     },
     "metadata": {},
     "output_type": "display_data"
    },
    {
     "name": "stdout",
     "output_type": "stream",
     "text": [
      "epoch: 11, LR: 0.0179, train loss: 1603.8912353515625, train MSE: [863.9996337890625, 3964.861083984375, 1586.49853515625, 0.2061401903629303]\n"
     ]
    },
    {
     "data": {
      "application/vnd.jupyter.widget-view+json": {
       "model_id": "",
       "version_major": 2,
       "version_minor": 0
      },
      "text/plain": [
       "epoch 11 validation data:   0%|          | 0/27 [00:00<?, ?it/s]"
      ]
     },
     "metadata": {},
     "output_type": "display_data"
    },
    {
     "name": "stdout",
     "output_type": "stream",
     "text": [
      "epoch: 11, validation loss: 1594.2222900390625, validation MSE: [1096.103759765625, 3629.704345703125, 1650.576416015625, 0.5043301582336426]\n",
      "EarlyStopping counter: 2 out of 15\n"
     ]
    },
    {
     "data": {
      "application/vnd.jupyter.widget-view+json": {
       "model_id": "",
       "version_major": 2,
       "version_minor": 0
      },
      "text/plain": [
       "epoch 12 training data:   0%|          | 0/116 [00:00<?, ?it/s]"
      ]
     },
     "metadata": {},
     "output_type": "display_data"
    },
    {
     "name": "stdout",
     "output_type": "stream",
     "text": [
      "epoch: 12, LR: 0.0179, train loss: 1617.092529296875, train MSE: [867.6895751953125, 4013.431884765625, 1587.0701904296875, 0.17810457944869995]\n"
     ]
    },
    {
     "data": {
      "application/vnd.jupyter.widget-view+json": {
       "model_id": "",
       "version_major": 2,
       "version_minor": 0
      },
      "text/plain": [
       "epoch 12 validation data:   0%|          | 0/27 [00:00<?, ?it/s]"
      ]
     },
     "metadata": {},
     "output_type": "display_data"
    },
    {
     "name": "stdout",
     "output_type": "stream",
     "text": [
      "epoch: 12, validation loss: 1628.784423828125, validation MSE: [1095.546142578125, 3685.0302734375, 1734.3179931640625, 0.24264632165431976]\n",
      "EarlyStopping counter: 3 out of 15\n"
     ]
    },
    {
     "data": {
      "application/vnd.jupyter.widget-view+json": {
       "model_id": "",
       "version_major": 2,
       "version_minor": 0
      },
      "text/plain": [
       "epoch 13 training data:   0%|          | 0/116 [00:00<?, ?it/s]"
      ]
     },
     "metadata": {},
     "output_type": "display_data"
    },
    {
     "name": "stdout",
     "output_type": "stream",
     "text": [
      "epoch: 13, LR: 0.0179, train loss: 1609.576904296875, train MSE: [862.9016723632812, 3975.0078125, 1600.20556640625, 0.1921859234571457]\n"
     ]
    },
    {
     "data": {
      "application/vnd.jupyter.widget-view+json": {
       "model_id": "",
       "version_major": 2,
       "version_minor": 0
      },
      "text/plain": [
       "epoch 13 validation data:   0%|          | 0/27 [00:00<?, ?it/s]"
      ]
     },
     "metadata": {},
     "output_type": "display_data"
    },
    {
     "name": "stdout",
     "output_type": "stream",
     "text": [
      "epoch: 13, validation loss: 1744.290771484375, validation MSE: [1122.9365234375, 4117.80126953125, 1735.9932861328125, 0.43140891194343567]\n",
      "EarlyStopping counter: 4 out of 15\n"
     ]
    },
    {
     "data": {
      "application/vnd.jupyter.widget-view+json": {
       "model_id": "",
       "version_major": 2,
       "version_minor": 0
      },
      "text/plain": [
       "epoch 14 training data:   0%|          | 0/116 [00:00<?, ?it/s]"
      ]
     },
     "metadata": {},
     "output_type": "display_data"
    },
    {
     "name": "stdout",
     "output_type": "stream",
     "text": [
      "epoch: 14, LR: 0.0179, train loss: 1609.53759765625, train MSE: [862.338134765625, 3977.549560546875, 1598.065185546875, 0.19738441705703735]\n"
     ]
    },
    {
     "data": {
      "application/vnd.jupyter.widget-view+json": {
       "model_id": "",
       "version_major": 2,
       "version_minor": 0
      },
      "text/plain": [
       "epoch 14 validation data:   0%|          | 0/27 [00:00<?, ?it/s]"
      ]
     },
     "metadata": {},
     "output_type": "display_data"
    },
    {
     "name": "stdout",
     "output_type": "stream",
     "text": [
      "epoch: 14, validation loss: 1610.3304443359375, validation MSE: [1085.0126953125, 3488.09521484375, 1867.7342529296875, 0.47960928082466125]\n",
      "EarlyStopping counter: 5 out of 15\n"
     ]
    },
    {
     "data": {
      "application/vnd.jupyter.widget-view+json": {
       "model_id": "",
       "version_major": 2,
       "version_minor": 0
      },
      "text/plain": [
       "epoch 15 training data:   0%|          | 0/116 [00:00<?, ?it/s]"
      ]
     },
     "metadata": {},
     "output_type": "display_data"
    },
    {
     "name": "stdout",
     "output_type": "stream",
     "text": [
      "epoch: 15, LR: 0.0179, train loss: 1605.9737548828125, train MSE: [859.4620971679688, 3962.08251953125, 1602.15771484375, 0.19285184144973755]\n"
     ]
    },
    {
     "data": {
      "application/vnd.jupyter.widget-view+json": {
       "model_id": "",
       "version_major": 2,
       "version_minor": 0
      },
      "text/plain": [
       "epoch 15 validation data:   0%|          | 0/27 [00:00<?, ?it/s]"
      ]
     },
     "metadata": {},
     "output_type": "display_data"
    },
    {
     "name": "stdout",
     "output_type": "stream",
     "text": [
      "epoch: 15, validation loss: 1631.4635009765625, validation MSE: [1110.4541015625, 3695.511962890625, 1719.6627197265625, 0.22578974068164825]\n",
      "EarlyStopping counter: 6 out of 15\n"
     ]
    },
    {
     "data": {
      "application/vnd.jupyter.widget-view+json": {
       "model_id": "",
       "version_major": 2,
       "version_minor": 0
      },
      "text/plain": [
       "epoch 16 training data:   0%|          | 0/116 [00:00<?, ?it/s]"
      ]
     },
     "metadata": {},
     "output_type": "display_data"
    },
    {
     "name": "stdout",
     "output_type": "stream",
     "text": [
      "epoch: 16, LR: 0.0179, train loss: 1597.708251953125, train MSE: [858.6156616210938, 3935.79345703125, 1596.240966796875, 0.18251118063926697]\n"
     ]
    },
    {
     "data": {
      "application/vnd.jupyter.widget-view+json": {
       "model_id": "",
       "version_major": 2,
       "version_minor": 0
      },
      "text/plain": [
       "epoch 16 validation data:   0%|          | 0/27 [00:00<?, ?it/s]"
      ]
     },
     "metadata": {},
     "output_type": "display_data"
    },
    {
     "name": "stdout",
     "output_type": "stream",
     "text": [
      "epoch: 16, validation loss: 1808.7850341796875, validation MSE: [1102.560791015625, 3473.722900390625, 2658.5625, 0.29307615756988525]\n",
      "EarlyStopping counter: 7 out of 15\n"
     ]
    },
    {
     "data": {
      "application/vnd.jupyter.widget-view+json": {
       "model_id": "",
       "version_major": 2,
       "version_minor": 0
      },
      "text/plain": [
       "epoch 17 training data:   0%|          | 0/116 [00:00<?, ?it/s]"
      ]
     },
     "metadata": {},
     "output_type": "display_data"
    },
    {
     "name": "stdout",
     "output_type": "stream",
     "text": [
      "epoch: 17, LR: 0.00358, train loss: 1529.911865234375, train MSE: [823.5535888671875, 3749.190673828125, 1546.822509765625, 0.08066480606794357]\n"
     ]
    },
    {
     "data": {
      "application/vnd.jupyter.widget-view+json": {
       "model_id": "",
       "version_major": 2,
       "version_minor": 0
      },
      "text/plain": [
       "epoch 17 validation data:   0%|          | 0/27 [00:00<?, ?it/s]"
      ]
     },
     "metadata": {},
     "output_type": "display_data"
    },
    {
     "name": "stdout",
     "output_type": "stream",
     "text": [
      "epoch: 17, validation loss: 1527.9324951171875, validation MSE: [1093.2117919921875, 3344.385498046875, 1674.0645751953125, 0.06798665970563889]\n",
      "Validation loss decreased (1580.175415 --> 1527.932495).  Saving model ...\n"
     ]
    },
    {
     "data": {
      "application/vnd.jupyter.widget-view+json": {
       "model_id": "",
       "version_major": 2,
       "version_minor": 0
      },
      "text/plain": [
       "epoch 18 training data:   0%|          | 0/116 [00:00<?, ?it/s]"
      ]
     },
     "metadata": {},
     "output_type": "display_data"
    },
    {
     "name": "stdout",
     "output_type": "stream",
     "text": [
      "epoch: 18, LR: 0.00358, train loss: 1498.0858154296875, train MSE: [819.95263671875, 3636.671142578125, 1535.634033203125, 0.08535894006490707]\n"
     ]
    },
    {
     "data": {
      "application/vnd.jupyter.widget-view+json": {
       "model_id": "",
       "version_major": 2,
       "version_minor": 0
      },
      "text/plain": [
       "epoch 18 validation data:   0%|          | 0/27 [00:00<?, ?it/s]"
      ]
     },
     "metadata": {},
     "output_type": "display_data"
    },
    {
     "name": "stdout",
     "output_type": "stream",
     "text": [
      "epoch: 18, validation loss: 1519.0640869140625, validation MSE: [1094.5938720703125, 3321.088623046875, 1660.50439453125, 0.06955524533987045]\n",
      "Validation loss decreased (1527.932495 --> 1519.064087).  Saving model ...\n"
     ]
    },
    {
     "data": {
      "application/vnd.jupyter.widget-view+json": {
       "model_id": "",
       "version_major": 2,
       "version_minor": 0
      },
      "text/plain": [
       "epoch 19 training data:   0%|          | 0/116 [00:00<?, ?it/s]"
      ]
     },
     "metadata": {},
     "output_type": "display_data"
    },
    {
     "name": "stdout",
     "output_type": "stream",
     "text": [
      "epoch: 19, LR: 0.00358, train loss: 1477.286865234375, train MSE: [818.3132934570312, 3568.632568359375, 1522.108642578125, 0.09268929064273834]\n"
     ]
    },
    {
     "data": {
      "application/vnd.jupyter.widget-view+json": {
       "model_id": "",
       "version_major": 2,
       "version_minor": 0
      },
      "text/plain": [
       "epoch 19 validation data:   0%|          | 0/27 [00:00<?, ?it/s]"
      ]
     },
     "metadata": {},
     "output_type": "display_data"
    },
    {
     "name": "stdout",
     "output_type": "stream",
     "text": [
      "epoch: 19, validation loss: 1515.1649169921875, validation MSE: [1093.797119140625, 3312.064208984375, 1654.72119140625, 0.0767182782292366]\n",
      "Validation loss decreased (1519.064087 --> 1515.164917).  Saving model ...\n"
     ]
    },
    {
     "data": {
      "application/vnd.jupyter.widget-view+json": {
       "model_id": "",
       "version_major": 2,
       "version_minor": 0
      },
      "text/plain": [
       "epoch 20 training data:   0%|          | 0/116 [00:00<?, ?it/s]"
      ]
     },
     "metadata": {},
     "output_type": "display_data"
    },
    {
     "name": "stdout",
     "output_type": "stream",
     "text": [
      "epoch: 20, LR: 0.00358, train loss: 1463.054931640625, train MSE: [816.667724609375, 3521.415771484375, 1514.044677734375, 0.09115003794431686]\n"
     ]
    },
    {
     "data": {
      "application/vnd.jupyter.widget-view+json": {
       "model_id": "",
       "version_major": 2,
       "version_minor": 0
      },
      "text/plain": [
       "epoch 20 validation data:   0%|          | 0/27 [00:00<?, ?it/s]"
      ]
     },
     "metadata": {},
     "output_type": "display_data"
    },
    {
     "name": "stdout",
     "output_type": "stream",
     "text": [
      "epoch: 20, validation loss: 1635.2149658203125, validation MSE: [1104.0548095703125, 3670.3544921875, 1766.3653564453125, 0.08487127721309662]\n",
      "EarlyStopping counter: 1 out of 15\n"
     ]
    },
    {
     "data": {
      "application/vnd.jupyter.widget-view+json": {
       "model_id": "",
       "version_major": 2,
       "version_minor": 0
      },
      "text/plain": [
       "epoch 21 training data:   0%|          | 0/116 [00:00<?, ?it/s]"
      ]
     },
     "metadata": {},
     "output_type": "display_data"
    },
    {
     "name": "stdout",
     "output_type": "stream",
     "text": [
      "epoch: 21, LR: 0.00358, train loss: 1442.361572265625, train MSE: [814.238525390625, 3447.0966796875, 1508.01904296875, 0.09162641316652298]\n"
     ]
    },
    {
     "data": {
      "application/vnd.jupyter.widget-view+json": {
       "model_id": "",
       "version_major": 2,
       "version_minor": 0
      },
      "text/plain": [
       "epoch 21 validation data:   0%|          | 0/27 [00:00<?, ?it/s]"
      ]
     },
     "metadata": {},
     "output_type": "display_data"
    },
    {
     "name": "stdout",
     "output_type": "stream",
     "text": [
      "epoch: 21, validation loss: 1502.5133056640625, validation MSE: [1102.75830078125, 3282.792236328125, 1624.4210205078125, 0.08159943670034409]\n",
      "Validation loss decreased (1515.164917 --> 1502.513306).  Saving model ...\n"
     ]
    },
    {
     "data": {
      "application/vnd.jupyter.widget-view+json": {
       "model_id": "",
       "version_major": 2,
       "version_minor": 0
      },
      "text/plain": [
       "epoch 22 training data:   0%|          | 0/116 [00:00<?, ?it/s]"
      ]
     },
     "metadata": {},
     "output_type": "display_data"
    },
    {
     "name": "stdout",
     "output_type": "stream",
     "text": [
      "epoch: 22, LR: 0.00358, train loss: 1432.73193359375, train MSE: [814.3631591796875, 3412.73193359375, 1503.73974609375, 0.09272719919681549]\n"
     ]
    },
    {
     "data": {
      "application/vnd.jupyter.widget-view+json": {
       "model_id": "",
       "version_major": 2,
       "version_minor": 0
      },
      "text/plain": [
       "epoch 22 validation data:   0%|          | 0/27 [00:00<?, ?it/s]"
      ]
     },
     "metadata": {},
     "output_type": "display_data"
    },
    {
     "name": "stdout",
     "output_type": "stream",
     "text": [
      "epoch: 22, validation loss: 1647.830078125, validation MSE: [1117.4063720703125, 3823.5751953125, 1650.228759765625, 0.10870388150215149]\n",
      "EarlyStopping counter: 1 out of 15\n"
     ]
    },
    {
     "data": {
      "application/vnd.jupyter.widget-view+json": {
       "model_id": "",
       "version_major": 2,
       "version_minor": 0
      },
      "text/plain": [
       "epoch 23 training data:   0%|          | 0/116 [00:00<?, ?it/s]"
      ]
     },
     "metadata": {},
     "output_type": "display_data"
    },
    {
     "name": "stdout",
     "output_type": "stream",
     "text": [
      "epoch: 23, LR: 0.00358, train loss: 1414.448486328125, train MSE: [812.4243774414062, 3340.970947265625, 1504.303466796875, 0.0954226404428482]\n"
     ]
    },
    {
     "data": {
      "application/vnd.jupyter.widget-view+json": {
       "model_id": "",
       "version_major": 2,
       "version_minor": 0
      },
      "text/plain": [
       "epoch 23 validation data:   0%|          | 0/27 [00:00<?, ?it/s]"
      ]
     },
     "metadata": {},
     "output_type": "display_data"
    },
    {
     "name": "stdout",
     "output_type": "stream",
     "text": [
      "epoch: 23, validation loss: 1608.1649169921875, validation MSE: [1113.3602294921875, 3693.364013671875, 1625.796630859375, 0.13907934725284576]\n",
      "EarlyStopping counter: 2 out of 15\n"
     ]
    },
    {
     "data": {
      "application/vnd.jupyter.widget-view+json": {
       "model_id": "",
       "version_major": 2,
       "version_minor": 0
      },
      "text/plain": [
       "epoch 24 training data:   0%|          | 0/116 [00:00<?, ?it/s]"
      ]
     },
     "metadata": {},
     "output_type": "display_data"
    },
    {
     "name": "stdout",
     "output_type": "stream",
     "text": [
      "epoch: 24, LR: 0.00358, train loss: 1401.2095947265625, train MSE: [812.495361328125, 3289.15966796875, 1503.08837890625, 0.09468946605920792]\n"
     ]
    },
    {
     "data": {
      "application/vnd.jupyter.widget-view+json": {
       "model_id": "",
       "version_major": 2,
       "version_minor": 0
      },
      "text/plain": [
       "epoch 24 validation data:   0%|          | 0/27 [00:00<?, ?it/s]"
      ]
     },
     "metadata": {},
     "output_type": "display_data"
    },
    {
     "name": "stdout",
     "output_type": "stream",
     "text": [
      "epoch: 24, validation loss: 1467.250732421875, validation MSE: [1095.625732421875, 3101.195068359375, 1672.1036376953125, 0.078031025826931]\n",
      "Validation loss decreased (1502.513306 --> 1467.250732).  Saving model ...\n"
     ]
    },
    {
     "data": {
      "application/vnd.jupyter.widget-view+json": {
       "model_id": "",
       "version_major": 2,
       "version_minor": 0
      },
      "text/plain": [
       "epoch 25 training data:   0%|          | 0/116 [00:00<?, ?it/s]"
      ]
     },
     "metadata": {},
     "output_type": "display_data"
    },
    {
     "name": "stdout",
     "output_type": "stream",
     "text": [
      "epoch: 25, LR: 0.00358, train loss: 1388.7127685546875, train MSE: [812.3182983398438, 3244.448974609375, 1497.991943359375, 0.09236357361078262]\n"
     ]
    },
    {
     "data": {
      "application/vnd.jupyter.widget-view+json": {
       "model_id": "",
       "version_major": 2,
       "version_minor": 0
      },
      "text/plain": [
       "epoch 25 validation data:   0%|          | 0/27 [00:00<?, ?it/s]"
      ]
     },
     "metadata": {},
     "output_type": "display_data"
    },
    {
     "name": "stdout",
     "output_type": "stream",
     "text": [
      "epoch: 25, validation loss: 1459.6031494140625, validation MSE: [1099.9100341796875, 3106.049072265625, 1632.3607177734375, 0.09244083613157272]\n",
      "Validation loss decreased (1467.250732 --> 1459.603149).  Saving model ...\n"
     ]
    },
    {
     "data": {
      "application/vnd.jupyter.widget-view+json": {
       "model_id": "",
       "version_major": 2,
       "version_minor": 0
      },
      "text/plain": [
       "epoch 26 training data:   0%|          | 0/116 [00:00<?, ?it/s]"
      ]
     },
     "metadata": {},
     "output_type": "display_data"
    },
    {
     "name": "stdout",
     "output_type": "stream",
     "text": [
      "epoch: 26, LR: 0.00358, train loss: 1380.552001953125, train MSE: [811.5904541015625, 3214.06787109375, 1496.4560546875, 0.09287381172180176]\n"
     ]
    },
    {
     "data": {
      "application/vnd.jupyter.widget-view+json": {
       "model_id": "",
       "version_major": 2,
       "version_minor": 0
      },
      "text/plain": [
       "epoch 26 validation data:   0%|          | 0/27 [00:00<?, ?it/s]"
      ]
     },
     "metadata": {},
     "output_type": "display_data"
    },
    {
     "name": "stdout",
     "output_type": "stream",
     "text": [
      "epoch: 26, validation loss: 1533.1973876953125, validation MSE: [1117.644775390625, 3397.8857421875, 1617.08544921875, 0.17291663587093353]\n",
      "EarlyStopping counter: 1 out of 15\n"
     ]
    },
    {
     "data": {
      "application/vnd.jupyter.widget-view+json": {
       "model_id": "",
       "version_major": 2,
       "version_minor": 0
      },
      "text/plain": [
       "epoch 27 training data:   0%|          | 0/116 [00:00<?, ?it/s]"
      ]
     },
     "metadata": {},
     "output_type": "display_data"
    },
    {
     "name": "stdout",
     "output_type": "stream",
     "text": [
      "epoch: 27, LR: 0.00358, train loss: 1371.6546630859375, train MSE: [811.0831909179688, 3178.042236328125, 1497.400146484375, 0.09316042065620422]\n"
     ]
    },
    {
     "data": {
      "application/vnd.jupyter.widget-view+json": {
       "model_id": "",
       "version_major": 2,
       "version_minor": 0
      },
      "text/plain": [
       "epoch 27 validation data:   0%|          | 0/27 [00:00<?, ?it/s]"
      ]
     },
     "metadata": {},
     "output_type": "display_data"
    },
    {
     "name": "stdout",
     "output_type": "stream",
     "text": [
      "epoch: 27, validation loss: 1777.50146484375, validation MSE: [1147.940185546875, 4323.80615234375, 1638.037353515625, 0.22154048085212708]\n",
      "EarlyStopping counter: 2 out of 15\n"
     ]
    },
    {
     "data": {
      "application/vnd.jupyter.widget-view+json": {
       "model_id": "",
       "version_major": 2,
       "version_minor": 0
      },
      "text/plain": [
       "epoch 28 training data:   0%|          | 0/116 [00:00<?, ?it/s]"
      ]
     },
     "metadata": {},
     "output_type": "display_data"
    },
    {
     "name": "stdout",
     "output_type": "stream",
     "text": [
      "epoch: 28, LR: 0.00358, train loss: 1354.9888916015625, train MSE: [808.3138427734375, 3119.47900390625, 1492.07373046875, 0.08926139771938324]\n"
     ]
    },
    {
     "data": {
      "application/vnd.jupyter.widget-view+json": {
       "model_id": "",
       "version_major": 2,
       "version_minor": 0
      },
      "text/plain": [
       "epoch 28 validation data:   0%|          | 0/27 [00:00<?, ?it/s]"
      ]
     },
     "metadata": {},
     "output_type": "display_data"
    },
    {
     "name": "stdout",
     "output_type": "stream",
     "text": [
      "epoch: 28, validation loss: 1513.2520751953125, validation MSE: [1111.0870361328125, 3327.769775390625, 1614.0419921875, 0.10942992568016052]\n",
      "EarlyStopping counter: 3 out of 15\n"
     ]
    },
    {
     "data": {
      "application/vnd.jupyter.widget-view+json": {
       "model_id": "",
       "version_major": 2,
       "version_minor": 0
      },
      "text/plain": [
       "epoch 29 training data:   0%|          | 0/116 [00:00<?, ?it/s]"
      ]
     },
     "metadata": {},
     "output_type": "display_data"
    },
    {
     "name": "stdout",
     "output_type": "stream",
     "text": [
      "epoch: 29, LR: 0.00358, train loss: 1342.7772216796875, train MSE: [805.06494140625, 3073.1474609375, 1492.8065185546875, 0.08957268297672272]\n"
     ]
    },
    {
     "data": {
      "application/vnd.jupyter.widget-view+json": {
       "model_id": "",
       "version_major": 2,
       "version_minor": 0
      },
      "text/plain": [
       "epoch 29 validation data:   0%|          | 0/27 [00:00<?, ?it/s]"
      ]
     },
     "metadata": {},
     "output_type": "display_data"
    },
    {
     "name": "stdout",
     "output_type": "stream",
     "text": [
      "epoch: 29, validation loss: 1597.2174072265625, validation MSE: [1105.140869140625, 3673.867431640625, 1609.7791748046875, 0.08220135420560837]\n",
      "EarlyStopping counter: 4 out of 15\n"
     ]
    },
    {
     "data": {
      "application/vnd.jupyter.widget-view+json": {
       "model_id": "",
       "version_major": 2,
       "version_minor": 0
      },
      "text/plain": [
       "epoch 30 training data:   0%|          | 0/116 [00:00<?, ?it/s]"
      ]
     },
     "metadata": {},
     "output_type": "display_data"
    },
    {
     "name": "stdout",
     "output_type": "stream",
     "text": [
      "epoch: 30, LR: 0.00358, train loss: 1327.2191162109375, train MSE: [804.4993896484375, 3014.304443359375, 1489.981689453125, 0.09080730378627777]\n"
     ]
    },
    {
     "data": {
      "application/vnd.jupyter.widget-view+json": {
       "model_id": "",
       "version_major": 2,
       "version_minor": 0
      },
      "text/plain": [
       "epoch 30 validation data:   0%|          | 0/27 [00:00<?, ?it/s]"
      ]
     },
     "metadata": {},
     "output_type": "display_data"
    },
    {
     "name": "stdout",
     "output_type": "stream",
     "text": [
      "epoch: 30, validation loss: 1568.3270263671875, validation MSE: [1103.7271728515625, 3554.3759765625, 1615.1217041015625, 0.08311347663402557]\n",
      "EarlyStopping counter: 5 out of 15\n"
     ]
    },
    {
     "data": {
      "application/vnd.jupyter.widget-view+json": {
       "model_id": "",
       "version_major": 2,
       "version_minor": 0
      },
      "text/plain": [
       "epoch 31 training data:   0%|          | 0/116 [00:00<?, ?it/s]"
      ]
     },
     "metadata": {},
     "output_type": "display_data"
    },
    {
     "name": "stdout",
     "output_type": "stream",
     "text": [
      "epoch: 31, LR: 0.00358, train loss: 1317.5537109375, train MSE: [803.2417602539062, 2975.99072265625, 1490.8897705078125, 0.0923711284995079]\n"
     ]
    },
    {
     "data": {
      "application/vnd.jupyter.widget-view+json": {
       "model_id": "",
       "version_major": 2,
       "version_minor": 0
      },
      "text/plain": [
       "epoch 31 validation data:   0%|          | 0/27 [00:00<?, ?it/s]"
      ]
     },
     "metadata": {},
     "output_type": "display_data"
    },
    {
     "name": "stdout",
     "output_type": "stream",
     "text": [
      "epoch: 31, validation loss: 1551.751708984375, validation MSE: [1106.2236328125, 3485.617431640625, 1615.0806884765625, 0.08451777696609497]\n",
      "EarlyStopping counter: 6 out of 15\n"
     ]
    },
    {
     "data": {
      "application/vnd.jupyter.widget-view+json": {
       "model_id": "",
       "version_major": 2,
       "version_minor": 0
      },
      "text/plain": [
       "epoch 32 training data:   0%|          | 0/116 [00:00<?, ?it/s]"
      ]
     },
     "metadata": {},
     "output_type": "display_data"
    },
    {
     "name": "stdout",
     "output_type": "stream",
     "text": [
      "epoch: 32, LR: 0.00358, train loss: 1306.3316650390625, train MSE: [803.5431518554688, 2933.095703125, 1488.590087890625, 0.09776849299669266]\n"
     ]
    },
    {
     "data": {
      "application/vnd.jupyter.widget-view+json": {
       "model_id": "",
       "version_major": 2,
       "version_minor": 0
      },
      "text/plain": [
       "epoch 32 validation data:   0%|          | 0/27 [00:00<?, ?it/s]"
      ]
     },
     "metadata": {},
     "output_type": "display_data"
    },
    {
     "name": "stdout",
     "output_type": "stream",
     "text": [
      "epoch: 32, validation loss: 1651.452880859375, validation MSE: [1112.215087890625, 3859.983154296875, 1633.509521484375, 0.1030815914273262]\n",
      "EarlyStopping counter: 7 out of 15\n"
     ]
    },
    {
     "data": {
      "application/vnd.jupyter.widget-view+json": {
       "model_id": "",
       "version_major": 2,
       "version_minor": 0
      },
      "text/plain": [
       "epoch 33 training data:   0%|          | 0/116 [00:00<?, ?it/s]"
      ]
     },
     "metadata": {},
     "output_type": "display_data"
    },
    {
     "name": "stdout",
     "output_type": "stream",
     "text": [
      "epoch: 33, LR: 0.0007160000000000001, train loss: 1253.214599609375, train MSE: [790.1558837890625, 2741.474853515625, 1481.1536865234375, 0.07347960025072098]\n"
     ]
    },
    {
     "data": {
      "application/vnd.jupyter.widget-view+json": {
       "model_id": "",
       "version_major": 2,
       "version_minor": 0
      },
      "text/plain": [
       "epoch 33 validation data:   0%|          | 0/27 [00:00<?, ?it/s]"
      ]
     },
     "metadata": {},
     "output_type": "display_data"
    },
    {
     "name": "stdout",
     "output_type": "stream",
     "text": [
      "epoch: 33, validation loss: 1469.05712890625, validation MSE: [1098.46142578125, 3154.3818359375, 1623.321044921875, 0.06403004378080368]\n",
      "EarlyStopping counter: 8 out of 15\n"
     ]
    },
    {
     "data": {
      "application/vnd.jupyter.widget-view+json": {
       "model_id": "",
       "version_major": 2,
       "version_minor": 0
      },
      "text/plain": [
       "epoch 34 training data:   0%|          | 0/116 [00:00<?, ?it/s]"
      ]
     },
     "metadata": {},
     "output_type": "display_data"
    },
    {
     "name": "stdout",
     "output_type": "stream",
     "text": [
      "epoch: 34, LR: 0.0007160000000000001, train loss: 1235.0843505859375, train MSE: [788.0333862304688, 2676.841064453125, 1475.3919677734375, 0.07090088725090027]\n"
     ]
    },
    {
     "data": {
      "application/vnd.jupyter.widget-view+json": {
       "model_id": "",
       "version_major": 2,
       "version_minor": 0
      },
      "text/plain": [
       "epoch 34 validation data:   0%|          | 0/27 [00:00<?, ?it/s]"
      ]
     },
     "metadata": {},
     "output_type": "display_data"
    },
    {
     "name": "stdout",
     "output_type": "stream",
     "text": [
      "epoch: 34, validation loss: 1477.0567626953125, validation MSE: [1100.438720703125, 3186.88427734375, 1620.83935546875, 0.06423426419496536]\n",
      "EarlyStopping counter: 9 out of 15\n"
     ]
    },
    {
     "data": {
      "application/vnd.jupyter.widget-view+json": {
       "model_id": "",
       "version_major": 2,
       "version_minor": 0
      },
      "text/plain": [
       "epoch 35 training data:   0%|          | 0/116 [00:00<?, ?it/s]"
      ]
     },
     "metadata": {},
     "output_type": "display_data"
    },
    {
     "name": "stdout",
     "output_type": "stream",
     "text": [
      "epoch: 35, LR: 0.0007160000000000001, train loss: 1222.9093017578125, train MSE: [785.858154296875, 2630.511962890625, 1475.1961669921875, 0.0713152065873146]\n"
     ]
    },
    {
     "data": {
      "application/vnd.jupyter.widget-view+json": {
       "model_id": "",
       "version_major": 2,
       "version_minor": 0
      },
      "text/plain": [
       "epoch 35 validation data:   0%|          | 0/27 [00:00<?, ?it/s]"
      ]
     },
     "metadata": {},
     "output_type": "display_data"
    },
    {
     "name": "stdout",
     "output_type": "stream",
     "text": [
      "epoch: 35, validation loss: 1475.1680908203125, validation MSE: [1100.3319091796875, 3182.742431640625, 1617.533447265625, 0.06449800729751587]\n",
      "EarlyStopping counter: 10 out of 15\n"
     ]
    },
    {
     "data": {
      "application/vnd.jupyter.widget-view+json": {
       "model_id": "",
       "version_major": 2,
       "version_minor": 0
      },
      "text/plain": [
       "epoch 36 training data:   0%|          | 0/116 [00:00<?, ?it/s]"
      ]
     },
     "metadata": {},
     "output_type": "display_data"
    },
    {
     "name": "stdout",
     "output_type": "stream",
     "text": [
      "epoch: 36, LR: 0.0007160000000000001, train loss: 1211.56640625, train MSE: [784.1121215820312, 2588.050048828125, 1474.03125, 0.07180097699165344]\n"
     ]
    },
    {
     "data": {
      "application/vnd.jupyter.widget-view+json": {
       "model_id": "",
       "version_major": 2,
       "version_minor": 0
      },
      "text/plain": [
       "epoch 36 validation data:   0%|          | 0/27 [00:00<?, ?it/s]"
      ]
     },
     "metadata": {},
     "output_type": "display_data"
    },
    {
     "name": "stdout",
     "output_type": "stream",
     "text": [
      "epoch: 36, validation loss: 1474.0504150390625, validation MSE: [1101.2281494140625, 3180.26513671875, 1614.6434326171875, 0.06474991142749786]\n",
      "EarlyStopping counter: 11 out of 15\n"
     ]
    },
    {
     "data": {
      "application/vnd.jupyter.widget-view+json": {
       "model_id": "",
       "version_major": 2,
       "version_minor": 0
      },
      "text/plain": [
       "epoch 37 training data:   0%|          | 0/116 [00:00<?, ?it/s]"
      ]
     },
     "metadata": {},
     "output_type": "display_data"
    },
    {
     "name": "stdout",
     "output_type": "stream",
     "text": [
      "epoch: 37, LR: 0.0007160000000000001, train loss: 1201.4591064453125, train MSE: [782.50927734375, 2549.765869140625, 1473.48876953125, 0.07216258347034454]\n"
     ]
    },
    {
     "data": {
      "application/vnd.jupyter.widget-view+json": {
       "model_id": "",
       "version_major": 2,
       "version_minor": 0
      },
      "text/plain": [
       "epoch 37 validation data:   0%|          | 0/27 [00:00<?, ?it/s]"
      ]
     },
     "metadata": {},
     "output_type": "display_data"
    },
    {
     "name": "stdout",
     "output_type": "stream",
     "text": [
      "epoch: 37, validation loss: 1473.52978515625, validation MSE: [1101.991943359375, 3180.41748046875, 1611.6446533203125, 0.06495633721351624]\n",
      "EarlyStopping counter: 12 out of 15\n"
     ]
    },
    {
     "data": {
      "application/vnd.jupyter.widget-view+json": {
       "model_id": "",
       "version_major": 2,
       "version_minor": 0
      },
      "text/plain": [
       "epoch 38 training data:   0%|          | 0/116 [00:00<?, ?it/s]"
      ]
     },
     "metadata": {},
     "output_type": "display_data"
    },
    {
     "name": "stdout",
     "output_type": "stream",
     "text": [
      "epoch: 38, LR: 0.0007160000000000001, train loss: 1191.4744873046875, train MSE: [780.7930908203125, 2512.12255859375, 1472.9102783203125, 0.07232020795345306]\n"
     ]
    },
    {
     "data": {
      "application/vnd.jupyter.widget-view+json": {
       "model_id": "",
       "version_major": 2,
       "version_minor": 0
      },
      "text/plain": [
       "epoch 38 validation data:   0%|          | 0/27 [00:00<?, ?it/s]"
      ]
     },
     "metadata": {},
     "output_type": "display_data"
    },
    {
     "name": "stdout",
     "output_type": "stream",
     "text": [
      "epoch: 38, validation loss: 1476.0126953125, validation MSE: [1103.14013671875, 3190.636474609375, 1610.209228515625, 0.06520507484674454]\n",
      "EarlyStopping counter: 13 out of 15\n"
     ]
    },
    {
     "data": {
      "application/vnd.jupyter.widget-view+json": {
       "model_id": "",
       "version_major": 2,
       "version_minor": 0
      },
      "text/plain": [
       "epoch 39 training data:   0%|          | 0/116 [00:00<?, ?it/s]"
      ]
     },
     "metadata": {},
     "output_type": "display_data"
    },
    {
     "name": "stdout",
     "output_type": "stream",
     "text": [
      "epoch: 39, LR: 0.0007160000000000001, train loss: 1182.359619140625, train MSE: [779.2562866210938, 2477.932861328125, 1472.1766357421875, 0.07236048579216003]\n"
     ]
    },
    {
     "data": {
      "application/vnd.jupyter.widget-view+json": {
       "model_id": "",
       "version_major": 2,
       "version_minor": 0
      },
      "text/plain": [
       "epoch 39 validation data:   0%|          | 0/27 [00:00<?, ?it/s]"
      ]
     },
     "metadata": {},
     "output_type": "display_data"
    },
    {
     "name": "stdout",
     "output_type": "stream",
     "text": [
      "epoch: 39, validation loss: 1473.6728515625, validation MSE: [1103.677978515625, 3183.466796875, 1607.4818115234375, 0.06550506502389908]\n",
      "EarlyStopping counter: 14 out of 15\n"
     ]
    },
    {
     "data": {
      "application/vnd.jupyter.widget-view+json": {
       "model_id": "",
       "version_major": 2,
       "version_minor": 0
      },
      "text/plain": [
       "epoch 40 training data:   0%|          | 0/116 [00:00<?, ?it/s]"
      ]
     },
     "metadata": {},
     "output_type": "display_data"
    },
    {
     "name": "stdout",
     "output_type": "stream",
     "text": [
      "epoch: 40, LR: 0.0001432, train loss: 1173.239501953125, train MSE: [776.2185668945312, 2449.751708984375, 1466.9222412109375, 0.06477794051170349]\n"
     ]
    },
    {
     "data": {
      "application/vnd.jupyter.widget-view+json": {
       "model_id": "",
       "version_major": 2,
       "version_minor": 0
      },
      "text/plain": [
       "epoch 40 validation data:   0%|          | 0/27 [00:00<?, ?it/s]"
      ]
     },
     "metadata": {},
     "output_type": "display_data"
    },
    {
     "name": "stdout",
     "output_type": "stream",
     "text": [
      "epoch: 40, validation loss: 1487.535400390625, validation MSE: [1099.2901611328125, 3240.614013671875, 1610.1712646484375, 0.06619714945554733]\n",
      "EarlyStopping counter: 15 out of 15\n",
      "Early stopping\n"
     ]
    }
   ],
   "source": [
    "for epoch in range(previous_epochs, EPOCHS+previous_epochs):\n",
    "    # TRAINING Part\n",
    "    modelResNetCNN.train()\n",
    "    train_loss = []\n",
    "    mse_train_list = []\n",
    "    \n",
    "    bar = tqdm(train_dataloader, position=0, leave=False, desc=f'epoch {epoch} training data')\n",
    "    i = 0\n",
    "    for train_data in bar: # for each training step\n",
    "        i += 1\n",
    "        img_data_device = train_data['image'].to(device, dtype=torch.float)\n",
    "        stacked_gt_device = torch.stack((train_data['P'], train_data['K'], train_data['Mg'], train_data['pH'])).transpose(0,1).to(device, dtype=torch.float)\n",
    "        \n",
    "        output = modelResNetCNN(img_data_device)\n",
    "        \n",
    "        loss = loss_func(output, stacked_gt_device)\n",
    "        optimizer.zero_grad()\n",
    "        loss.backward()\n",
    "        optimizer.step()\n",
    "        train_loss.append(loss)\n",
    "        \n",
    "        output_cpu = output.detach().cpu().numpy()\n",
    "        stacked_gt_cpu = stacked_gt_device.cpu().numpy()\n",
    "        \n",
    "        # Calculate MSE for each class\n",
    "        mse = np.mean((stacked_gt_cpu - output_cpu) ** 2, axis=0)\n",
    "        mse_train_list.append(mse)\n",
    "        \n",
    "        if i % 10 == 0: # log every 10 batches\n",
    "            train_log_dict = dict()\n",
    "            train_log_dict['batch_number'] = i\n",
    "            train_log_dict['epoch'] = epoch\n",
    "            train_log_dict['train_batch_loss'] = loss \n",
    "            train_log_dict['train_batch_MSE_P'] = mse[0]\n",
    "            train_log_dict['train_batch_MSE_K'] = mse[1]\n",
    "            train_log_dict['train_batch_MSE_Mg'] = mse[2]\n",
    "            train_log_dict['train_batch_MSE_pH'] = mse[3]\n",
    "            wandb.log(train_log_dict)\n",
    "    \n",
    "    avg_train_loss = torch.stack(train_loss).mean().item()\n",
    "    avg_train_mse = torch.as_tensor(np.array(mse_train_list)).mean(axis=0).numpy().tolist()\n",
    "    \n",
    "    print(f'epoch: {epoch}, LR: {optimizer.param_groups[0][\"lr\"]}, train loss: {avg_train_loss}, train MSE: {avg_train_mse}')\n",
    "    wandb.log({'epoch': epoch, 'average_train_loss':avg_train_loss, 'average_train_MSE_P': avg_train_mse[0], 'average_train_MSE_K': avg_train_mse[1],\n",
    "              'average_train_MSE_Mg': avg_train_mse[2], 'average_train_MSE_pH': avg_train_mse[3]})\n",
    "    \n",
    "    # VALIDATION Part\n",
    "    modelResNetCNN.eval()\n",
    "    val_bar = tqdm(validation_dataloader, position=0, leave=False, desc=f'epoch {epoch} validation data')\n",
    "    with torch.no_grad():\n",
    "        val_loss = []\n",
    "        mse_val_list = []\n",
    "        for val_data in val_bar:\n",
    "            img_data_device = val_data['image'].to(device, dtype=torch.float)\n",
    "            stacked_gt_device = torch.stack((val_data['P'], val_data['K'], val_data['Mg'], val_data['pH'])).transpose(0,1).to(device, dtype=torch.float)\n",
    "            \n",
    "            output = modelResNetCNN(img_data_device)\n",
    "            \n",
    "            loss = loss_func(output, stacked_gt_device)\n",
    "            val_loss.append(loss)\n",
    "            \n",
    "            output_cpu = output.detach().cpu().numpy()\n",
    "            stacked_gt_cpu = stacked_gt_device.cpu().numpy()\n",
    "\n",
    "            # Calculate MSE for each class\n",
    "            mse = np.mean((stacked_gt_cpu - output_cpu) ** 2, axis=0)\n",
    "            mse_val_list.append(mse)\n",
    "        \n",
    "        avg_val_loss = torch.stack(val_loss).mean().item()\n",
    "        avg_val_mse = torch.as_tensor(np.array(mse_val_list)).mean(axis=0).numpy().tolist()\n",
    "        \n",
    "        print(f'epoch: {epoch}, validation loss: {avg_val_loss}, validation MSE: {avg_val_mse}')\n",
    "        wandb.log({'epoch': epoch, 'average_val_loss': avg_val_loss, 'average_val_MSE_P': avg_val_mse[0], 'average_val_MSE_K': avg_val_mse[1], \n",
    "                   'average_val_MSE_Mh': avg_val_mse[2], 'average_val_MSE_pH': avg_val_mse[3]})\n",
    "        \n",
    "        scheduler.step(avg_val_loss)\n",
    "        # early_stopping needs the validation loss to check if it has decresed, \n",
    "        # and if it has, it will make a checkpoint of the current model\n",
    "        early_stopping(avg_val_loss, modelResNetCNN)\n",
    "\n",
    "        if early_stopping.early_stop:\n",
    "            print(\"Early stopping\")\n",
    "            break\n"
   ]
  },
  {
   "cell_type": "code",
   "execution_count": 39,
   "id": "5aaf13cc-2e25-4bdf-822e-3d365964ca6e",
   "metadata": {},
   "outputs": [],
   "source": [
    "torch.save(modelResNetCNN.state_dict(), os.path.join(saved_models_directory, model_name+f'_EPOCHS_{epoch}.pth'))"
   ]
  },
  {
   "cell_type": "code",
   "execution_count": 13,
   "id": "3e4dc5ea-7e3a-4ce5-93e6-e6baf9615149",
   "metadata": {},
   "outputs": [
    {
     "data": {
      "text/plain": [
       "<All keys matched successfully>"
      ]
     },
     "execution_count": 13,
     "metadata": {},
     "output_type": "execute_result"
    }
   ],
   "source": [
    "# load saved model\n",
    "modelResNetCNNLoad = ResNetCNN(False)\n",
    "modelResNetCNNLoad.load_state_dict(torch.load(os.path.join(saved_models_directory, 'Resnet34_BATCHSIZE_12_AdamW_LR_0_0179_ReduceLROnPlateau_Factor0_2_Threshold_0_0001_EPOCHS_40.pth')))"
   ]
  },
  {
   "cell_type": "code",
   "execution_count": 14,
   "id": "c1c66db3-7fcf-4410-b51c-ae9706394be0",
   "metadata": {},
   "outputs": [],
   "source": [
    "modelResNetCNNLoad = modelResNetCNNLoad.to(device)"
   ]
  },
  {
   "cell_type": "markdown",
   "id": "9c40a5e8-364f-41fb-84bf-e46e17811f53",
   "metadata": {},
   "source": [
    "### Predict test dataset"
   ]
  },
  {
   "cell_type": "code",
   "execution_count": 15,
   "id": "ead3cbb4-030b-4027-b3e3-6e90d52bb089",
   "metadata": {
    "collapsed": true,
    "jupyter": {
     "outputs_hidden": true
    },
    "tags": []
   },
   "outputs": [
    {
     "data": {
      "text/plain": [
       "ResNetCNN(\n",
       "  (resnet_model): ResNet(\n",
       "    (conv1): Conv2d(150, 64, kernel_size=(7, 7), stride=(2, 2), padding=(3, 3), bias=False)\n",
       "    (bn1): BatchNorm2d(64, eps=1e-05, momentum=0.1, affine=True, track_running_stats=True)\n",
       "    (relu): ReLU(inplace=True)\n",
       "    (maxpool): MaxPool2d(kernel_size=3, stride=2, padding=1, dilation=1, ceil_mode=False)\n",
       "    (layer1): Sequential(\n",
       "      (0): BasicBlock(\n",
       "        (conv1): Conv2d(64, 64, kernel_size=(3, 3), stride=(1, 1), padding=(1, 1), bias=False)\n",
       "        (bn1): BatchNorm2d(64, eps=1e-05, momentum=0.1, affine=True, track_running_stats=True)\n",
       "        (relu): ReLU(inplace=True)\n",
       "        (conv2): Conv2d(64, 64, kernel_size=(3, 3), stride=(1, 1), padding=(1, 1), bias=False)\n",
       "        (bn2): BatchNorm2d(64, eps=1e-05, momentum=0.1, affine=True, track_running_stats=True)\n",
       "      )\n",
       "      (1): BasicBlock(\n",
       "        (conv1): Conv2d(64, 64, kernel_size=(3, 3), stride=(1, 1), padding=(1, 1), bias=False)\n",
       "        (bn1): BatchNorm2d(64, eps=1e-05, momentum=0.1, affine=True, track_running_stats=True)\n",
       "        (relu): ReLU(inplace=True)\n",
       "        (conv2): Conv2d(64, 64, kernel_size=(3, 3), stride=(1, 1), padding=(1, 1), bias=False)\n",
       "        (bn2): BatchNorm2d(64, eps=1e-05, momentum=0.1, affine=True, track_running_stats=True)\n",
       "      )\n",
       "      (2): BasicBlock(\n",
       "        (conv1): Conv2d(64, 64, kernel_size=(3, 3), stride=(1, 1), padding=(1, 1), bias=False)\n",
       "        (bn1): BatchNorm2d(64, eps=1e-05, momentum=0.1, affine=True, track_running_stats=True)\n",
       "        (relu): ReLU(inplace=True)\n",
       "        (conv2): Conv2d(64, 64, kernel_size=(3, 3), stride=(1, 1), padding=(1, 1), bias=False)\n",
       "        (bn2): BatchNorm2d(64, eps=1e-05, momentum=0.1, affine=True, track_running_stats=True)\n",
       "      )\n",
       "    )\n",
       "    (layer2): Sequential(\n",
       "      (0): BasicBlock(\n",
       "        (conv1): Conv2d(64, 128, kernel_size=(3, 3), stride=(2, 2), padding=(1, 1), bias=False)\n",
       "        (bn1): BatchNorm2d(128, eps=1e-05, momentum=0.1, affine=True, track_running_stats=True)\n",
       "        (relu): ReLU(inplace=True)\n",
       "        (conv2): Conv2d(128, 128, kernel_size=(3, 3), stride=(1, 1), padding=(1, 1), bias=False)\n",
       "        (bn2): BatchNorm2d(128, eps=1e-05, momentum=0.1, affine=True, track_running_stats=True)\n",
       "        (downsample): Sequential(\n",
       "          (0): Conv2d(64, 128, kernel_size=(1, 1), stride=(2, 2), bias=False)\n",
       "          (1): BatchNorm2d(128, eps=1e-05, momentum=0.1, affine=True, track_running_stats=True)\n",
       "        )\n",
       "      )\n",
       "      (1): BasicBlock(\n",
       "        (conv1): Conv2d(128, 128, kernel_size=(3, 3), stride=(1, 1), padding=(1, 1), bias=False)\n",
       "        (bn1): BatchNorm2d(128, eps=1e-05, momentum=0.1, affine=True, track_running_stats=True)\n",
       "        (relu): ReLU(inplace=True)\n",
       "        (conv2): Conv2d(128, 128, kernel_size=(3, 3), stride=(1, 1), padding=(1, 1), bias=False)\n",
       "        (bn2): BatchNorm2d(128, eps=1e-05, momentum=0.1, affine=True, track_running_stats=True)\n",
       "      )\n",
       "      (2): BasicBlock(\n",
       "        (conv1): Conv2d(128, 128, kernel_size=(3, 3), stride=(1, 1), padding=(1, 1), bias=False)\n",
       "        (bn1): BatchNorm2d(128, eps=1e-05, momentum=0.1, affine=True, track_running_stats=True)\n",
       "        (relu): ReLU(inplace=True)\n",
       "        (conv2): Conv2d(128, 128, kernel_size=(3, 3), stride=(1, 1), padding=(1, 1), bias=False)\n",
       "        (bn2): BatchNorm2d(128, eps=1e-05, momentum=0.1, affine=True, track_running_stats=True)\n",
       "      )\n",
       "      (3): BasicBlock(\n",
       "        (conv1): Conv2d(128, 128, kernel_size=(3, 3), stride=(1, 1), padding=(1, 1), bias=False)\n",
       "        (bn1): BatchNorm2d(128, eps=1e-05, momentum=0.1, affine=True, track_running_stats=True)\n",
       "        (relu): ReLU(inplace=True)\n",
       "        (conv2): Conv2d(128, 128, kernel_size=(3, 3), stride=(1, 1), padding=(1, 1), bias=False)\n",
       "        (bn2): BatchNorm2d(128, eps=1e-05, momentum=0.1, affine=True, track_running_stats=True)\n",
       "      )\n",
       "    )\n",
       "    (layer3): Sequential(\n",
       "      (0): BasicBlock(\n",
       "        (conv1): Conv2d(128, 256, kernel_size=(3, 3), stride=(2, 2), padding=(1, 1), bias=False)\n",
       "        (bn1): BatchNorm2d(256, eps=1e-05, momentum=0.1, affine=True, track_running_stats=True)\n",
       "        (relu): ReLU(inplace=True)\n",
       "        (conv2): Conv2d(256, 256, kernel_size=(3, 3), stride=(1, 1), padding=(1, 1), bias=False)\n",
       "        (bn2): BatchNorm2d(256, eps=1e-05, momentum=0.1, affine=True, track_running_stats=True)\n",
       "        (downsample): Sequential(\n",
       "          (0): Conv2d(128, 256, kernel_size=(1, 1), stride=(2, 2), bias=False)\n",
       "          (1): BatchNorm2d(256, eps=1e-05, momentum=0.1, affine=True, track_running_stats=True)\n",
       "        )\n",
       "      )\n",
       "      (1): BasicBlock(\n",
       "        (conv1): Conv2d(256, 256, kernel_size=(3, 3), stride=(1, 1), padding=(1, 1), bias=False)\n",
       "        (bn1): BatchNorm2d(256, eps=1e-05, momentum=0.1, affine=True, track_running_stats=True)\n",
       "        (relu): ReLU(inplace=True)\n",
       "        (conv2): Conv2d(256, 256, kernel_size=(3, 3), stride=(1, 1), padding=(1, 1), bias=False)\n",
       "        (bn2): BatchNorm2d(256, eps=1e-05, momentum=0.1, affine=True, track_running_stats=True)\n",
       "      )\n",
       "      (2): BasicBlock(\n",
       "        (conv1): Conv2d(256, 256, kernel_size=(3, 3), stride=(1, 1), padding=(1, 1), bias=False)\n",
       "        (bn1): BatchNorm2d(256, eps=1e-05, momentum=0.1, affine=True, track_running_stats=True)\n",
       "        (relu): ReLU(inplace=True)\n",
       "        (conv2): Conv2d(256, 256, kernel_size=(3, 3), stride=(1, 1), padding=(1, 1), bias=False)\n",
       "        (bn2): BatchNorm2d(256, eps=1e-05, momentum=0.1, affine=True, track_running_stats=True)\n",
       "      )\n",
       "      (3): BasicBlock(\n",
       "        (conv1): Conv2d(256, 256, kernel_size=(3, 3), stride=(1, 1), padding=(1, 1), bias=False)\n",
       "        (bn1): BatchNorm2d(256, eps=1e-05, momentum=0.1, affine=True, track_running_stats=True)\n",
       "        (relu): ReLU(inplace=True)\n",
       "        (conv2): Conv2d(256, 256, kernel_size=(3, 3), stride=(1, 1), padding=(1, 1), bias=False)\n",
       "        (bn2): BatchNorm2d(256, eps=1e-05, momentum=0.1, affine=True, track_running_stats=True)\n",
       "      )\n",
       "      (4): BasicBlock(\n",
       "        (conv1): Conv2d(256, 256, kernel_size=(3, 3), stride=(1, 1), padding=(1, 1), bias=False)\n",
       "        (bn1): BatchNorm2d(256, eps=1e-05, momentum=0.1, affine=True, track_running_stats=True)\n",
       "        (relu): ReLU(inplace=True)\n",
       "        (conv2): Conv2d(256, 256, kernel_size=(3, 3), stride=(1, 1), padding=(1, 1), bias=False)\n",
       "        (bn2): BatchNorm2d(256, eps=1e-05, momentum=0.1, affine=True, track_running_stats=True)\n",
       "      )\n",
       "      (5): BasicBlock(\n",
       "        (conv1): Conv2d(256, 256, kernel_size=(3, 3), stride=(1, 1), padding=(1, 1), bias=False)\n",
       "        (bn1): BatchNorm2d(256, eps=1e-05, momentum=0.1, affine=True, track_running_stats=True)\n",
       "        (relu): ReLU(inplace=True)\n",
       "        (conv2): Conv2d(256, 256, kernel_size=(3, 3), stride=(1, 1), padding=(1, 1), bias=False)\n",
       "        (bn2): BatchNorm2d(256, eps=1e-05, momentum=0.1, affine=True, track_running_stats=True)\n",
       "      )\n",
       "    )\n",
       "    (layer4): Sequential(\n",
       "      (0): BasicBlock(\n",
       "        (conv1): Conv2d(256, 512, kernel_size=(3, 3), stride=(2, 2), padding=(1, 1), bias=False)\n",
       "        (bn1): BatchNorm2d(512, eps=1e-05, momentum=0.1, affine=True, track_running_stats=True)\n",
       "        (relu): ReLU(inplace=True)\n",
       "        (conv2): Conv2d(512, 512, kernel_size=(3, 3), stride=(1, 1), padding=(1, 1), bias=False)\n",
       "        (bn2): BatchNorm2d(512, eps=1e-05, momentum=0.1, affine=True, track_running_stats=True)\n",
       "        (downsample): Sequential(\n",
       "          (0): Conv2d(256, 512, kernel_size=(1, 1), stride=(2, 2), bias=False)\n",
       "          (1): BatchNorm2d(512, eps=1e-05, momentum=0.1, affine=True, track_running_stats=True)\n",
       "        )\n",
       "      )\n",
       "      (1): BasicBlock(\n",
       "        (conv1): Conv2d(512, 512, kernel_size=(3, 3), stride=(1, 1), padding=(1, 1), bias=False)\n",
       "        (bn1): BatchNorm2d(512, eps=1e-05, momentum=0.1, affine=True, track_running_stats=True)\n",
       "        (relu): ReLU(inplace=True)\n",
       "        (conv2): Conv2d(512, 512, kernel_size=(3, 3), stride=(1, 1), padding=(1, 1), bias=False)\n",
       "        (bn2): BatchNorm2d(512, eps=1e-05, momentum=0.1, affine=True, track_running_stats=True)\n",
       "      )\n",
       "      (2): BasicBlock(\n",
       "        (conv1): Conv2d(512, 512, kernel_size=(3, 3), stride=(1, 1), padding=(1, 1), bias=False)\n",
       "        (bn1): BatchNorm2d(512, eps=1e-05, momentum=0.1, affine=True, track_running_stats=True)\n",
       "        (relu): ReLU(inplace=True)\n",
       "        (conv2): Conv2d(512, 512, kernel_size=(3, 3), stride=(1, 1), padding=(1, 1), bias=False)\n",
       "        (bn2): BatchNorm2d(512, eps=1e-05, momentum=0.1, affine=True, track_running_stats=True)\n",
       "      )\n",
       "    )\n",
       "    (avgpool): AdaptiveAvgPool2d(output_size=(1, 1))\n",
       "    (fc): Linear(in_features=512, out_features=4, bias=True)\n",
       "  )\n",
       ")"
      ]
     },
     "execution_count": 15,
     "metadata": {},
     "output_type": "execute_result"
    }
   ],
   "source": [
    "modelResNetCNNLoad.eval()"
   ]
  },
  {
   "cell_type": "code",
   "execution_count": 53,
   "id": "c9291a88-df06-4f13-a81a-f59bdd2370c6",
   "metadata": {},
   "outputs": [],
   "source": [
    "test_data = HyperViewDataset(None, os.path.join(test_data_directory), True, means, stds)"
   ]
  },
  {
   "cell_type": "code",
   "execution_count": 54,
   "id": "93e1aaa9-81d7-4f54-8932-b0c32781e550",
   "metadata": {},
   "outputs": [],
   "source": [
    "test_dataloader = DataLoader(test_data, batch_size=BATCH_SIZE, pin_memory=True, drop_last=False, num_workers=2)"
   ]
  },
  {
   "cell_type": "code",
   "execution_count": 55,
   "id": "67adb2b7-3add-4999-8ead-d5b5e9e34a54",
   "metadata": {},
   "outputs": [
    {
     "data": {
      "text/plain": [
       "1154"
      ]
     },
     "execution_count": 55,
     "metadata": {},
     "output_type": "execute_result"
    }
   ],
   "source": [
    "len(test_data)"
   ]
  },
  {
   "cell_type": "code",
   "execution_count": 56,
   "id": "38cc5f0a-cdd8-4c94-ad66-941f2cbee6fe",
   "metadata": {},
   "outputs": [
    {
     "data": {
      "application/vnd.jupyter.widget-view+json": {
       "model_id": "",
       "version_major": 2,
       "version_minor": 0
      },
      "text/plain": [
       "test data:   0%|          | 0/97 [00:00<?, ?it/s]"
      ]
     },
     "metadata": {},
     "output_type": "display_data"
    }
   ],
   "source": [
    "output_list = []\n",
    "bar = tqdm(test_dataloader, position=0, leave=False, desc=f'test data')\n",
    "for test_data in bar: # for each test step\n",
    "        img_data_device = test_data['image'].to(device, dtype=torch.float)\n",
    "        \n",
    "        output = modelResNetCNNLoad(img_data_device)\n",
    "        output_cpu = output.detach().cpu().numpy()\n",
    "        output_list.append(output_cpu)\n",
    "        "
   ]
  },
  {
   "cell_type": "code",
   "execution_count": 58,
   "id": "63aba28f-9c79-4a8d-89d5-b0fc7c1f5515",
   "metadata": {},
   "outputs": [
    {
     "data": {
      "text/html": [
       "<div>\n",
       "<style scoped>\n",
       "    .dataframe tbody tr th:only-of-type {\n",
       "        vertical-align: middle;\n",
       "    }\n",
       "\n",
       "    .dataframe tbody tr th {\n",
       "        vertical-align: top;\n",
       "    }\n",
       "\n",
       "    .dataframe thead th {\n",
       "        text-align: right;\n",
       "    }\n",
       "</style>\n",
       "<table border=\"1\" class=\"dataframe\">\n",
       "  <thead>\n",
       "    <tr style=\"text-align: right;\">\n",
       "      <th></th>\n",
       "      <th>P</th>\n",
       "      <th>K</th>\n",
       "      <th>Mg</th>\n",
       "      <th>pH</th>\n",
       "    </tr>\n",
       "  </thead>\n",
       "  <tbody>\n",
       "    <tr>\n",
       "      <th>0</th>\n",
       "      <td>67.674049</td>\n",
       "      <td>203.802261</td>\n",
       "      <td>155.572266</td>\n",
       "      <td>6.912084</td>\n",
       "    </tr>\n",
       "    <tr>\n",
       "      <th>1</th>\n",
       "      <td>66.023201</td>\n",
       "      <td>194.629227</td>\n",
       "      <td>153.540726</td>\n",
       "      <td>6.911245</td>\n",
       "    </tr>\n",
       "    <tr>\n",
       "      <th>2</th>\n",
       "      <td>68.582397</td>\n",
       "      <td>208.561356</td>\n",
       "      <td>156.918381</td>\n",
       "      <td>6.918377</td>\n",
       "    </tr>\n",
       "    <tr>\n",
       "      <th>3</th>\n",
       "      <td>68.500656</td>\n",
       "      <td>207.910339</td>\n",
       "      <td>157.033295</td>\n",
       "      <td>6.921059</td>\n",
       "    </tr>\n",
       "    <tr>\n",
       "      <th>4</th>\n",
       "      <td>68.640045</td>\n",
       "      <td>209.180618</td>\n",
       "      <td>156.651962</td>\n",
       "      <td>6.914848</td>\n",
       "    </tr>\n",
       "    <tr>\n",
       "      <th>...</th>\n",
       "      <td>...</td>\n",
       "      <td>...</td>\n",
       "      <td>...</td>\n",
       "      <td>...</td>\n",
       "    </tr>\n",
       "    <tr>\n",
       "      <th>1149</th>\n",
       "      <td>63.796196</td>\n",
       "      <td>201.463745</td>\n",
       "      <td>161.244812</td>\n",
       "      <td>6.743029</td>\n",
       "    </tr>\n",
       "    <tr>\n",
       "      <th>1150</th>\n",
       "      <td>62.784832</td>\n",
       "      <td>192.566422</td>\n",
       "      <td>162.392410</td>\n",
       "      <td>6.756444</td>\n",
       "    </tr>\n",
       "    <tr>\n",
       "      <th>1151</th>\n",
       "      <td>67.758553</td>\n",
       "      <td>219.024200</td>\n",
       "      <td>174.421295</td>\n",
       "      <td>6.706740</td>\n",
       "    </tr>\n",
       "    <tr>\n",
       "      <th>1152</th>\n",
       "      <td>67.297882</td>\n",
       "      <td>219.260147</td>\n",
       "      <td>168.761765</td>\n",
       "      <td>6.687490</td>\n",
       "    </tr>\n",
       "    <tr>\n",
       "      <th>1153</th>\n",
       "      <td>64.191490</td>\n",
       "      <td>199.048248</td>\n",
       "      <td>160.931778</td>\n",
       "      <td>6.636422</td>\n",
       "    </tr>\n",
       "  </tbody>\n",
       "</table>\n",
       "<p>1154 rows × 4 columns</p>\n",
       "</div>"
      ],
      "text/plain": [
       "              P           K          Mg        pH\n",
       "0     67.674049  203.802261  155.572266  6.912084\n",
       "1     66.023201  194.629227  153.540726  6.911245\n",
       "2     68.582397  208.561356  156.918381  6.918377\n",
       "3     68.500656  207.910339  157.033295  6.921059\n",
       "4     68.640045  209.180618  156.651962  6.914848\n",
       "...         ...         ...         ...       ...\n",
       "1149  63.796196  201.463745  161.244812  6.743029\n",
       "1150  62.784832  192.566422  162.392410  6.756444\n",
       "1151  67.758553  219.024200  174.421295  6.706740\n",
       "1152  67.297882  219.260147  168.761765  6.687490\n",
       "1153  64.191490  199.048248  160.931778  6.636422\n",
       "\n",
       "[1154 rows x 4 columns]"
      ]
     },
     "execution_count": 58,
     "metadata": {},
     "output_type": "execute_result"
    }
   ],
   "source": [
    "submission = pd.DataFrame(data = [item for sublist in output_list for item in sublist], columns=[\"P\", \"K\", \"Mg\", \"pH\"])\n",
    "submission"
   ]
  },
  {
   "cell_type": "code",
   "execution_count": 61,
   "id": "fd75c85f-8852-4b10-8bb5-88e56bbbd0ba",
   "metadata": {},
   "outputs": [],
   "source": [
    "submission.to_csv(os.path.join(submissions_directory, \"submission_28_02_2022.csv\"), index_label=\"sample_index\")"
   ]
  },
  {
   "cell_type": "code",
   "execution_count": null,
   "id": "ea7546e7-bd9b-4b51-b2ae-2d00fdb30e51",
   "metadata": {},
   "outputs": [],
   "source": []
  }
 ],
 "metadata": {
  "kernelspec": {
   "display_name": "Python 3.7",
   "language": "python",
   "name": "python3"
  },
  "language_info": {
   "codemirror_mode": {
    "name": "ipython",
    "version": 3
   },
   "file_extension": ".py",
   "mimetype": "text/x-python",
   "name": "python",
   "nbconvert_exporter": "python",
   "pygments_lexer": "ipython3",
   "version": "3.7.12"
  }
 },
 "nbformat": 4,
 "nbformat_minor": 5
}
