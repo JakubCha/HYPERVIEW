{
 "cells": [
  {
   "cell_type": "code",
   "execution_count": 22,
   "id": "270f1670-a145-441d-85b5-c5896262a5d5",
   "metadata": {
    "tags": []
   },
   "outputs": [],
   "source": [
    "import os\n",
    "from glob import glob\n",
    "import pandas as pd\n",
    "import numpy as np\n",
    "import torch\n",
    "from torch.utils.data import Dataset, DataLoader\n",
    "from torch.utils.data.dataset import random_split\n",
    "from torch import nn, optim\n",
    "from torch.nn import functional as F\n",
    "from torchvision import transforms\n",
    "import matplotlib.pyplot as plt\n",
    "from math import ceil\n",
    "from tqdm.notebook import tqdm\n",
    "import wandb\n",
    "from torch_lr_finder import LRFinder\n",
    "from utils import EarlyStopping\n",
    "import utils"
   ]
  },
  {
   "cell_type": "code",
   "execution_count": 11,
   "id": "707e7a39-1543-4071-b32f-f03261397be1",
   "metadata": {},
   "outputs": [],
   "source": [
    "from scipy import ndimage"
   ]
  },
  {
   "cell_type": "code",
   "execution_count": 142,
   "id": "1382c3cd-4290-4b7f-806f-198920a1f686",
   "metadata": {
    "tags": []
   },
   "outputs": [
    {
     "name": "stderr",
     "output_type": "stream",
     "text": [
      "Failed to detect the name of this notebook, you can set it manually with the WANDB_NOTEBOOK_NAME environment variable to enable code saving.\n",
      "\u001b[34m\u001b[1mwandb\u001b[0m: Currently logged in as: \u001b[33mjcharyton\u001b[0m (use `wandb login --relogin` to force relogin)\n",
      "\u001b[34m\u001b[1mwandb\u001b[0m: wandb version 0.12.11 is available!  To upgrade, please run:\n",
      "\u001b[34m\u001b[1mwandb\u001b[0m:  $ pip install wandb --upgrade\n"
     ]
    },
    {
     "data": {
      "text/html": [
       "\n",
       "                    Syncing run <strong><a href=\"https://wandb.ai/jcharyton/HyperView-initial/runs/2fkqprgw\" target=\"_blank\">swift-eon-15</a></strong> to <a href=\"https://wandb.ai/jcharyton/HyperView-initial\" target=\"_blank\">Weights & Biases</a> (<a href=\"https://docs.wandb.com/integrations/jupyter.html\" target=\"_blank\">docs</a>).<br/>\n",
       "\n",
       "                "
      ],
      "text/plain": [
       "<IPython.core.display.HTML object>"
      ]
     },
     "metadata": {},
     "output_type": "display_data"
    }
   ],
   "source": [
    "run = wandb.init(project='HyperView-initial', reinit=True)\n",
    "# wandb.init(mode=\"disabled\") # in case of testing code"
   ]
  },
  {
   "cell_type": "markdown",
   "id": "bdc45bc9-94ce-41f5-8e9a-dee4ce53beca",
   "metadata": {
    "tags": []
   },
   "source": [
    "### Paths definition"
   ]
  },
  {
   "cell_type": "code",
   "execution_count": 2,
   "id": "31f3113b-e082-4f61-ae37-e02b0ec9e990",
   "metadata": {},
   "outputs": [],
   "source": [
    "train_data_directory = r'train_data'\n",
    "test_data_directory = r'test_data'\n",
    "saved_models_directory = r'saved_models'\n",
    "submissions_directory = r'submissions'"
   ]
  },
  {
   "cell_type": "markdown",
   "id": "5ec0f93b-24a0-4506-9b86-cfa44e0cf2a3",
   "metadata": {
    "tags": []
   },
   "source": [
    "### Dataset testing"
   ]
  },
  {
   "cell_type": "code",
   "execution_count": 3,
   "id": "491ae192-a832-478a-b34a-1d4336e8900e",
   "metadata": {},
   "outputs": [],
   "source": [
    "all_files = np.array(\n",
    "    sorted(\n",
    "        glob(os.path.join(train_data_directory, 'train_data', \"*.npz\")),\n",
    "        key=lambda x: int(os.path.basename(x).replace(\".npz\", \"\")),\n",
    "    )\n",
    ")"
   ]
  },
  {
   "cell_type": "code",
   "execution_count": 4,
   "id": "5f4fb93f-2f67-4bc5-840d-943fed29d159",
   "metadata": {},
   "outputs": [
    {
     "data": {
      "text/plain": [
       "array(['train_data/train_data/0.npz', 'train_data/train_data/1.npz',\n",
       "       'train_data/train_data/2.npz', ...,\n",
       "       'train_data/train_data/1729.npz', 'train_data/train_data/1730.npz',\n",
       "       'train_data/train_data/1731.npz'], dtype='<U30')"
      ]
     },
     "execution_count": 4,
     "metadata": {},
     "output_type": "execute_result"
    }
   ],
   "source": [
    "all_files"
   ]
  },
  {
   "cell_type": "code",
   "execution_count": 15,
   "id": "a6ba884a-ab55-4a54-a5dc-38421e1877ee",
   "metadata": {
    "tags": []
   },
   "outputs": [
    {
     "data": {
      "text/plain": [
       "(150, 11, 11)"
      ]
     },
     "execution_count": 15,
     "metadata": {},
     "output_type": "execute_result"
    }
   ],
   "source": [
    "arr = np.ma.MaskedArray(**np.load(all_files[2]))\n",
    "arr.shape"
   ]
  },
  {
   "cell_type": "code",
   "execution_count": 16,
   "id": "6718c6ef-3698-4576-beed-c47ae93fc3cc",
   "metadata": {},
   "outputs": [
    {
     "data": {
      "text/plain": [
       "(11, 11)"
      ]
     },
     "execution_count": 16,
     "metadata": {},
     "output_type": "execute_result"
    }
   ],
   "source": [
    "arr.mask[0].shape"
   ]
  },
  {
   "cell_type": "code",
   "execution_count": 17,
   "id": "b51b1979-3585-4fb1-8720-352196e5d840",
   "metadata": {},
   "outputs": [
    {
     "data": {
      "text/plain": [
       "array([[ True,  True,  True,  True, False, False, False, False,  True,\n",
       "         True,  True],\n",
       "       [ True,  True,  True, False, False, False, False, False, False,\n",
       "         True,  True],\n",
       "       [ True,  True, False, False, False, False, False, False, False,\n",
       "        False,  True],\n",
       "       [ True, False, False, False, False, False, False, False, False,\n",
       "        False, False],\n",
       "       [ True, False, False, False, False, False, False, False, False,\n",
       "        False, False],\n",
       "       [ True, False, False, False, False, False, False, False, False,\n",
       "        False, False],\n",
       "       [ True, False, False, False, False, False, False, False, False,\n",
       "        False, False],\n",
       "       [ True,  True, False, False, False, False, False, False, False,\n",
       "        False,  True],\n",
       "       [ True,  True, False, False, False, False, False, False, False,\n",
       "        False,  True],\n",
       "       [ True,  True,  True,  True, False, False, False, False,  True,\n",
       "         True,  True],\n",
       "       [ True,  True,  True,  True,  True,  True,  True,  True,  True,\n",
       "         True,  True]])"
      ]
     },
     "execution_count": 17,
     "metadata": {},
     "output_type": "execute_result"
    }
   ],
   "source": [
    "arr.mask[0]"
   ]
  },
  {
   "cell_type": "code",
   "execution_count": 23,
   "id": "c38f4ab9-70e4-4832-ab0c-c091a414c083",
   "metadata": {},
   "outputs": [
    {
     "data": {
      "text/plain": [
       "(6, 4)"
      ]
     },
     "execution_count": 23,
     "metadata": {},
     "output_type": "execute_result"
    }
   ],
   "source": [
    "xcenter, ycenter = ndimage.center_of_mass(arr.mask[0])\n",
    "xcenter = round(xcenter)\n",
    "ycenter = round(ycenter)\n",
    "xcenter, ycenter"
   ]
  },
  {
   "cell_type": "code",
   "execution_count": 26,
   "id": "14f6cda8-0eff-4dc0-8a9f-14df8fba0927",
   "metadata": {},
   "outputs": [
    {
     "data": {
      "text/plain": [
       "(11, 11)"
      ]
     },
     "execution_count": 26,
     "metadata": {},
     "output_type": "execute_result"
    }
   ],
   "source": [
    "arr.mask[0].shape"
   ]
  },
  {
   "cell_type": "code",
   "execution_count": 38,
   "id": "ec49a601-cce3-45d0-848f-8586ada58c93",
   "metadata": {},
   "outputs": [
    {
     "data": {
      "text/plain": [
       "(6, 6)"
      ]
     },
     "execution_count": 38,
     "metadata": {},
     "output_type": "execute_result"
    }
   ],
   "source": [
    "arr.mask[0][xcenter-3:xcenter+3, ycenter-3:ycenter+3].shape"
   ]
  },
  {
   "cell_type": "code",
   "execution_count": 80,
   "id": "eadf7208-b266-43de-96ab-499d18f282ab",
   "metadata": {},
   "outputs": [
    {
     "data": {
      "text/plain": [
       "(93, 115)"
      ]
     },
     "execution_count": 80,
     "metadata": {},
     "output_type": "execute_result"
    }
   ],
   "source": [
    "arr.shape[1], arr.shape[2]"
   ]
  },
  {
   "cell_type": "code",
   "execution_count": 35,
   "id": "fddd7e2f-572c-417b-b421-9d247c9f3b17",
   "metadata": {
    "tags": []
   },
   "outputs": [
    {
     "data": {
      "image/png": "[encoded data removed]",
      "text/plain": [
       "<Figure size 720x720 with 4 Axes>"
      ]
     },
     "metadata": {
      "needs_background": "light"
     },
     "output_type": "display_data"
    }
   ],
   "source": [
    "fig, axs = plt.subplots(2, 2, figsize=(10, 10))\n",
    "band_id = 145\n",
    "\n",
    "axs[0,0].imshow(arr[band_id,:,:].data)\n",
    "axs[0,1].imshow(arr[band_id,:,:])\n",
    "\n",
    "axs[1,0].imshow(arr[band_id,xcenter-3:xcenter+3,ycenter-3:ycenter+3].data)\n",
    "axs[1,1].imshow(arr[band_id,xcenter-3:xcenter+3,ycenter-3:ycenter+3])\n",
    "plt.suptitle(f'Representation of band', fontsize=15)\n",
    "plt.show()"
   ]
  },
  {
   "cell_type": "code",
   "execution_count": 39,
   "id": "f2162a32-fb86-4eb1-94b7-a88fe7a712c4",
   "metadata": {
    "collapsed": true,
    "jupyter": {
     "outputs_hidden": true
    },
    "tags": []
   },
   "outputs": [
    {
     "data": {
      "text/plain": [
       "tensor([[[ 415,  417,  426,  ...,  449,  437,  469],\n",
       "         [ 400,  404,  412,  ...,  431,  422,  417],\n",
       "         [ 413,  423,  403,  ...,  419,  421,  444],\n",
       "         ...,\n",
       "         [ 427,  434,  422,  ...,  429,  428,  446],\n",
       "         [ 414,  430,  441,  ...,  467,  440,  440],\n",
       "         [ 430,  417,  427,  ...,  438,  444,  420]],\n",
       "\n",
       "        [[ 405,  416,  427,  ...,  448,  437,  471],\n",
       "         [ 411,  412,  409,  ...,  425,  422,  424],\n",
       "         [ 412,  422,  394,  ...,  417,  410,  440],\n",
       "         ...,\n",
       "         [ 423,  428,  417,  ...,  423,  423,  440],\n",
       "         [ 418,  431,  432,  ...,  453,  435,  437],\n",
       "         [ 427,  415,  419,  ...,  433,  434,  426]],\n",
       "\n",
       "        [[ 402,  421,  416,  ...,  448,  439,  467],\n",
       "         [ 408,  399,  401,  ...,  422,  418,  421],\n",
       "         [ 406,  409,  389,  ...,  413,  408,  424],\n",
       "         ...,\n",
       "         [ 414,  420,  413,  ...,  415,  424,  433],\n",
       "         [ 409,  423,  427,  ...,  441,  428,  428],\n",
       "         [ 420,  418,  409,  ...,  433,  427,  428]],\n",
       "\n",
       "        ...,\n",
       "\n",
       "        [[1262, 1239, 1288,  ..., 1241, 1238, 1323],\n",
       "         [1191, 1199, 1156,  ..., 1160, 1118, 1127],\n",
       "         [1186, 1210, 1181,  ..., 1163, 1139, 1176],\n",
       "         ...,\n",
       "         [1237, 1202, 1217,  ..., 1207, 1206, 1188],\n",
       "         [1186, 1187, 1225,  ..., 1208, 1179, 1199],\n",
       "         [1209, 1197, 1146,  ..., 1202, 1180, 1188]],\n",
       "\n",
       "        [[1263, 1242, 1290,  ..., 1242, 1240, 1322],\n",
       "         [1193, 1201, 1159,  ..., 1160, 1121, 1129],\n",
       "         [1188, 1211, 1183,  ..., 1165, 1141, 1176],\n",
       "         ...,\n",
       "         [1237, 1206, 1218,  ..., 1210, 1207, 1191],\n",
       "         [1187, 1189, 1226,  ..., 1209, 1182, 1200],\n",
       "         [1209, 1199, 1148,  ..., 1203, 1182, 1189]],\n",
       "\n",
       "        [[1265, 1245, 1293,  ..., 1243, 1242, 1322],\n",
       "         [1196, 1203, 1161,  ..., 1161, 1124, 1130],\n",
       "         [1190, 1211, 1184,  ..., 1166, 1142, 1177],\n",
       "         ...,\n",
       "         [1237, 1209, 1220,  ..., 1212, 1209, 1194],\n",
       "         [1189, 1191, 1227,  ..., 1211, 1184, 1201],\n",
       "         [1210, 1201, 1151,  ..., 1205, 1184, 1191]]], dtype=torch.int16)"
      ]
     },
     "execution_count": 39,
     "metadata": {},
     "output_type": "execute_result"
    }
   ],
   "source": [
    "tensor_data = torch.as_tensor(arr)\n",
    "tensor_data"
   ]
  },
  {
   "cell_type": "code",
   "execution_count": 42,
   "id": "4912e083-fe72-4865-aa58-f9ef54bf0659",
   "metadata": {},
   "outputs": [
    {
     "data": {
      "text/plain": [
       "torch.Size([150, 11, 11])"
      ]
     },
     "execution_count": 42,
     "metadata": {},
     "output_type": "execute_result"
    }
   ],
   "source": [
    "tensor_data.shape"
   ]
  },
  {
   "cell_type": "code",
   "execution_count": 90,
   "id": "48d9005f-7e99-4bf7-9486-2b7701efaafd",
   "metadata": {
    "collapsed": true,
    "jupyter": {
     "outputs_hidden": true
    },
    "tags": []
   },
   "outputs": [
    {
     "data": {
      "text/plain": [
       "tensor([[[False, False, False,  ..., False, False, False],\n",
       "         [False, False, False,  ...,  True, False, False],\n",
       "         [False, False,  True,  ...,  True,  True, False],\n",
       "         ...,\n",
       "         [False, False,  True,  ...,  True,  True, False],\n",
       "         [False, False, False,  ..., False, False, False],\n",
       "         [False, False, False,  ..., False, False, False]],\n",
       "\n",
       "        [[False, False, False,  ..., False, False, False],\n",
       "         [False, False, False,  ...,  True, False, False],\n",
       "         [False, False,  True,  ...,  True,  True, False],\n",
       "         ...,\n",
       "         [False, False,  True,  ...,  True,  True, False],\n",
       "         [False, False, False,  ..., False, False, False],\n",
       "         [False, False, False,  ..., False, False, False]],\n",
       "\n",
       "        [[False, False, False,  ..., False, False, False],\n",
       "         [False, False, False,  ...,  True, False, False],\n",
       "         [False, False,  True,  ...,  True,  True, False],\n",
       "         ...,\n",
       "         [False, False,  True,  ...,  True,  True, False],\n",
       "         [False, False, False,  ..., False, False, False],\n",
       "         [False, False, False,  ..., False, False, False]],\n",
       "\n",
       "        ...,\n",
       "\n",
       "        [[False, False, False,  ..., False, False, False],\n",
       "         [False, False, False,  ...,  True, False, False],\n",
       "         [False, False,  True,  ...,  True,  True, False],\n",
       "         ...,\n",
       "         [False, False,  True,  ...,  True,  True, False],\n",
       "         [False, False, False,  ..., False, False, False],\n",
       "         [False, False, False,  ..., False, False, False]],\n",
       "\n",
       "        [[False, False, False,  ..., False, False, False],\n",
       "         [False, False, False,  ...,  True, False, False],\n",
       "         [False, False,  True,  ...,  True,  True, False],\n",
       "         ...,\n",
       "         [False, False,  True,  ...,  True,  True, False],\n",
       "         [False, False, False,  ..., False, False, False],\n",
       "         [False, False, False,  ..., False, False, False]],\n",
       "\n",
       "        [[False, False, False,  ..., False, False, False],\n",
       "         [False, False, False,  ...,  True, False, False],\n",
       "         [False, False,  True,  ...,  True,  True, False],\n",
       "         ...,\n",
       "         [False, False,  True,  ...,  True,  True, False],\n",
       "         [False, False, False,  ..., False, False, False],\n",
       "         [False, False, False,  ..., False, False, False]]])"
      ]
     },
     "execution_count": 90,
     "metadata": {},
     "output_type": "execute_result"
    }
   ],
   "source": [
    "tensor_mask_bool = ~torch.as_tensor(arr.mask)\n",
    "tensor_mask_bool"
   ]
  },
  {
   "cell_type": "code",
   "execution_count": 75,
   "id": "c20f9135-d2db-4b46-a3f0-366be5f07d49",
   "metadata": {},
   "outputs": [],
   "source": [
    "tensor_mask_bool_array = tensor_mask_bool.cpu().numpy()"
   ]
  },
  {
   "cell_type": "code",
   "execution_count": 76,
   "id": "9e4a86fd-a2d9-4c9f-99af-2074446bd2ca",
   "metadata": {},
   "outputs": [
    {
     "data": {
      "text/plain": [
       "torch.Size([150, 11, 11])"
      ]
     },
     "execution_count": 76,
     "metadata": {},
     "output_type": "execute_result"
    }
   ],
   "source": [
    "tensor_mask_bool.shape"
   ]
  },
  {
   "cell_type": "code",
   "execution_count": 77,
   "id": "5877670d-793e-4278-a2b3-f8280c273a3c",
   "metadata": {
    "collapsed": true,
    "jupyter": {
     "outputs_hidden": true
    },
    "tags": []
   },
   "outputs": [
    {
     "data": {
      "text/plain": [
       "tensor([[[   0,    0,    0,  ...,    0,    0,    0],\n",
       "         [   0,    0,    0,  ...,  431,    0,    0],\n",
       "         [   0,    0,  403,  ...,  419,  421,    0],\n",
       "         ...,\n",
       "         [   0,    0,  422,  ...,  429,  428,    0],\n",
       "         [   0,    0,    0,  ...,    0,    0,    0],\n",
       "         [   0,    0,    0,  ...,    0,    0,    0]],\n",
       "\n",
       "        [[   0,    0,    0,  ...,    0,    0,    0],\n",
       "         [   0,    0,    0,  ...,  425,    0,    0],\n",
       "         [   0,    0,  394,  ...,  417,  410,    0],\n",
       "         ...,\n",
       "         [   0,    0,  417,  ...,  423,  423,    0],\n",
       "         [   0,    0,    0,  ...,    0,    0,    0],\n",
       "         [   0,    0,    0,  ...,    0,    0,    0]],\n",
       "\n",
       "        [[   0,    0,    0,  ...,    0,    0,    0],\n",
       "         [   0,    0,    0,  ...,  422,    0,    0],\n",
       "         [   0,    0,  389,  ...,  413,  408,    0],\n",
       "         ...,\n",
       "         [   0,    0,  413,  ...,  415,  424,    0],\n",
       "         [   0,    0,    0,  ...,    0,    0,    0],\n",
       "         [   0,    0,    0,  ...,    0,    0,    0]],\n",
       "\n",
       "        ...,\n",
       "\n",
       "        [[   0,    0,    0,  ...,    0,    0,    0],\n",
       "         [   0,    0,    0,  ..., 1160,    0,    0],\n",
       "         [   0,    0, 1181,  ..., 1163, 1139,    0],\n",
       "         ...,\n",
       "         [   0,    0, 1217,  ..., 1207, 1206,    0],\n",
       "         [   0,    0,    0,  ...,    0,    0,    0],\n",
       "         [   0,    0,    0,  ...,    0,    0,    0]],\n",
       "\n",
       "        [[   0,    0,    0,  ...,    0,    0,    0],\n",
       "         [   0,    0,    0,  ..., 1160,    0,    0],\n",
       "         [   0,    0, 1183,  ..., 1165, 1141,    0],\n",
       "         ...,\n",
       "         [   0,    0, 1218,  ..., 1210, 1207,    0],\n",
       "         [   0,    0,    0,  ...,    0,    0,    0],\n",
       "         [   0,    0,    0,  ...,    0,    0,    0]],\n",
       "\n",
       "        [[   0,    0,    0,  ...,    0,    0,    0],\n",
       "         [   0,    0,    0,  ..., 1161,    0,    0],\n",
       "         [   0,    0, 1184,  ..., 1166, 1142,    0],\n",
       "         ...,\n",
       "         [   0,    0, 1220,  ..., 1212, 1209,    0],\n",
       "         [   0,    0,    0,  ...,    0,    0,    0],\n",
       "         [   0,    0,    0,  ...,    0,    0,    0]]], dtype=torch.int16)"
      ]
     },
     "execution_count": 77,
     "metadata": {},
     "output_type": "execute_result"
    }
   ],
   "source": [
    "tensor_data_masked = torch.mul(tensor_data, tensor_mask_bool)\n",
    "tensor_data_masked"
   ]
  },
  {
   "cell_type": "code",
   "execution_count": 78,
   "id": "fa509541-7d9b-437b-a2f4-7923d7b1f7fb",
   "metadata": {},
   "outputs": [],
   "source": [
    "tensor_data_masked_array = tensor_data_masked.cpu().numpy()"
   ]
  },
  {
   "cell_type": "code",
   "execution_count": 79,
   "id": "7afee94c-8f56-41ad-89c7-eaa5ee85cd85",
   "metadata": {},
   "outputs": [
    {
     "data": {
      "image/png": "[encoded data removed]",
      "text/plain": [
       "<Figure size 720x720 with 4 Axes>"
      ]
     },
     "metadata": {
      "needs_background": "light"
     },
     "output_type": "display_data"
    }
   ],
   "source": [
    "fig, axs = plt.subplots(2, 2, figsize=(10, 10))\n",
    "\n",
    "axs[0,0].imshow(tensor_mask_bool_array[0,:,:].data)\n",
    "axs[0,1].imshow(arr[0,:,:])\n",
    "\n",
    "axs[1,0].imshow(tensor_data_masked_array[0,:,:])\n",
    "plt.suptitle(f'Representation of band', fontsize=15)\n",
    "plt.show()"
   ]
  },
  {
   "cell_type": "code",
   "execution_count": 46,
   "id": "85bad99e-104e-4fb7-8d89-06e4522fec4a",
   "metadata": {},
   "outputs": [
    {
     "data": {
      "text/plain": [
       "torch.Size([150, 11, 11])"
      ]
     },
     "execution_count": 46,
     "metadata": {},
     "output_type": "execute_result"
    }
   ],
   "source": [
    "tensor_data_masked.shape"
   ]
  },
  {
   "cell_type": "code",
   "execution_count": 47,
   "id": "52844ad8-752b-46e6-99f8-033e65b21e62",
   "metadata": {},
   "outputs": [],
   "source": [
    "def pad_to_minimum_size(min_size, image):\n",
    "        c, h, w = image.shape\n",
    "        h_diff = (min_size - h)/2\n",
    "        w_diff = (min_size - w)/2\n",
    "        print(h_diff, w_diff)\n",
    "        \n",
    "        if not h_diff.is_integer():\n",
    "            h_pad1 = int(h_diff - 0.5)\n",
    "            h_pad2 = int(h_diff + 0.5)\n",
    "        else:\n",
    "            h_pad1 = h_pad2 = int(h_diff)\n",
    "\n",
    "        if not w_diff.is_integer():\n",
    "            w_pad1 = int(w_diff - 0.5)\n",
    "            w_pad2 = int(w_diff + 0.5)\n",
    "        else:\n",
    "            w_pad1 = w_pad2 = int(w_diff)\n",
    "        \n",
    "        print(h_pad1, h_pad2, w_pad1, w_pad2)\n",
    "        # check if any padding is bigger than zero\n",
    "        if h_pad1+h_pad2+w_pad1+h_pad2 == 0:\n",
    "            return image\n",
    "        else:\n",
    "            return transforms.functional.pad(image, (w_pad1, h_pad1, w_pad2, h_pad2), fill=0)\n",
    "    "
   ]
  },
  {
   "cell_type": "code",
   "execution_count": 48,
   "id": "fbacb084-e4c0-4645-a04c-da9e0defda86",
   "metadata": {
    "tags": []
   },
   "outputs": [
    {
     "name": "stdout",
     "output_type": "stream",
     "text": [
      "144.5 144.5\n",
      "144 145 144 145\n"
     ]
    },
    {
     "data": {
      "text/plain": [
       "torch.Size([150, 300, 300])"
      ]
     },
     "execution_count": 48,
     "metadata": {},
     "output_type": "execute_result"
    }
   ],
   "source": [
    "pad_to_minimum_size(300, tensor_data_masked).shape"
   ]
  },
  {
   "cell_type": "code",
   "execution_count": 80,
   "id": "5841efa4-2fbc-4dcc-8776-90664841d5f8",
   "metadata": {},
   "outputs": [
    {
     "data": {
      "text/plain": [
       "tensor([[False, False, False, False,  True,  True,  True,  True, False, False,\n",
       "         False],\n",
       "        [False, False, False,  True,  True,  True,  True,  True,  True, False,\n",
       "         False],\n",
       "        [False, False,  True,  True,  True,  True,  True,  True,  True,  True,\n",
       "         False],\n",
       "        [False,  True,  True,  True,  True,  True,  True,  True,  True,  True,\n",
       "          True],\n",
       "        [False,  True,  True,  True,  True,  True,  True,  True,  True,  True,\n",
       "          True],\n",
       "        [False,  True,  True,  True,  True,  True,  True,  True,  True,  True,\n",
       "          True],\n",
       "        [False,  True,  True,  True,  True,  True,  True,  True,  True,  True,\n",
       "          True],\n",
       "        [False, False,  True,  True,  True,  True,  True,  True,  True,  True,\n",
       "         False],\n",
       "        [False, False,  True,  True,  True,  True,  True,  True,  True,  True,\n",
       "         False],\n",
       "        [False, False, False, False,  True,  True,  True,  True, False, False,\n",
       "         False],\n",
       "        [False, False, False, False, False, False, False, False, False, False,\n",
       "         False]])"
      ]
     },
     "execution_count": 80,
     "metadata": {},
     "output_type": "execute_result"
    }
   ],
   "source": [
    "tensor_mask_bool[0]"
   ]
  },
  {
   "cell_type": "code",
   "execution_count": 81,
   "id": "5671b028-adec-45e7-8c7f-1284708bd56c",
   "metadata": {
    "tags": []
   },
   "outputs": [
    {
     "name": "stdout",
     "output_type": "stream",
     "text": [
      "144.5 144.5\n",
      "144 145 144 145\n"
     ]
    },
    {
     "data": {
      "text/plain": [
       "torch.Size([150, 300, 300])"
      ]
     },
     "execution_count": 81,
     "metadata": {},
     "output_type": "execute_result"
    }
   ],
   "source": [
    "padded_mask = pad_to_minimum_size(300, tensor_mask_bool)\n",
    "padded_mask.shape"
   ]
  },
  {
   "cell_type": "code",
   "execution_count": 82,
   "id": "3013fff3-aac7-4fa4-83f1-255870e845a9",
   "metadata": {},
   "outputs": [
    {
     "data": {
      "text/plain": [
       "(149, 150)"
      ]
     },
     "execution_count": 82,
     "metadata": {},
     "output_type": "execute_result"
    }
   ],
   "source": [
    "xcenter, ycenter = ndimage.center_of_mass(padded_mask.cpu().numpy()[0])\n",
    "xcenter = round(xcenter)\n",
    "ycenter = round(ycenter)\n",
    "xcenter, ycenter"
   ]
  },
  {
   "cell_type": "code",
   "execution_count": 83,
   "id": "b705f068-a712-430a-be24-88ec92911afc",
   "metadata": {},
   "outputs": [
    {
     "data": {
      "image/png": "[encoded data removed]",
      "text/plain": [
       "<Figure size 720x720 with 4 Axes>"
      ]
     },
     "metadata": {
      "needs_background": "light"
     },
     "output_type": "display_data"
    }
   ],
   "source": [
    "fig, axs = plt.subplots(2, 2, figsize=(10, 10))\n",
    "\n",
    "axs[0,0].imshow(padded_mask.cpu().numpy()[0,:,:].data)\n",
    "axs[0,1].imshow(padded_mask.cpu().numpy()[0,:,:])\n",
    "\n",
    "axs[1,0].imshow(padded_mask.cpu().numpy()[0,xcenter-3:xcenter+3,ycenter-3:ycenter+3].data)\n",
    "axs[1,1].imshow(padded_mask.cpu().numpy()[0,xcenter-3:xcenter+3,ycenter-3:ycenter+3])\n",
    "plt.suptitle(f'Representation of band', fontsize=15)\n",
    "plt.show()"
   ]
  },
  {
   "cell_type": "code",
   "execution_count": 84,
   "id": "3ad48128-7674-4148-99c6-8a0b73b632e5",
   "metadata": {},
   "outputs": [
    {
     "data": {
      "text/plain": [
       "array([[ True,  True,  True,  True,  True,  True],\n",
       "       [ True,  True,  True,  True,  True,  True],\n",
       "       [ True,  True,  True,  True,  True,  True],\n",
       "       [ True,  True,  True,  True,  True,  True],\n",
       "       [ True,  True,  True,  True,  True,  True],\n",
       "       [ True,  True,  True,  True,  True,  True]])"
      ]
     },
     "execution_count": 84,
     "metadata": {},
     "output_type": "execute_result"
    }
   ],
   "source": [
    "padded_mask.cpu().numpy()[0,xcenter-3:xcenter+3,ycenter-3:ycenter+3]"
   ]
  },
  {
   "cell_type": "markdown",
   "id": "f80dc9fe-75d0-4297-b2fe-e50637b59d2b",
   "metadata": {},
   "source": [
    "### Load mean and std values of training dataset"
   ]
  },
  {
   "cell_type": "code",
   "execution_count": 85,
   "id": "d936e375-5279-40c8-90f3-83bdca3a4ff1",
   "metadata": {},
   "outputs": [],
   "source": [
    "means_stds_arrays = np.load(os.path.join(train_data_directory, 'means_stds_values_training_data.npz'))\n",
    "means = np.array(means_stds_arrays['means'])\n",
    "stds = np.array(means_stds_arrays['stds'])"
   ]
  },
  {
   "cell_type": "code",
   "execution_count": 86,
   "id": "9bce3a11-f779-4c34-8385-f11812ee5ed4",
   "metadata": {
    "collapsed": true,
    "jupyter": {
     "outputs_hidden": true
    },
    "tags": []
   },
   "outputs": [
    {
     "data": {
      "text/plain": [
       "tensor([[[-10.0814, -10.0814, -10.0814,  ..., -10.0814, -10.0814, -10.0814],\n",
       "         [-10.0814, -10.0814, -10.0814,  ...,   1.3321, -10.0814, -10.0814],\n",
       "         [-10.0814, -10.0814,   0.5906,  ...,   1.0143,   1.0673, -10.0814],\n",
       "         ...,\n",
       "         [-10.0814, -10.0814,   1.0937,  ...,   1.2791,   1.2526, -10.0814],\n",
       "         [-10.0814, -10.0814, -10.0814,  ..., -10.0814, -10.0814, -10.0814],\n",
       "         [-10.0814, -10.0814, -10.0814,  ..., -10.0814, -10.0814, -10.0814]],\n",
       "\n",
       "        [[-10.0445, -10.0445, -10.0445,  ..., -10.0445, -10.0445, -10.0445],\n",
       "         [-10.0445, -10.0445, -10.0445,  ...,   1.1830, -10.0445, -10.0445],\n",
       "         [-10.0445, -10.0445,   0.3641,  ...,   0.9717,   0.7868, -10.0445],\n",
       "         ...,\n",
       "         [-10.0445, -10.0445,   0.9717,  ...,   1.1302,   1.1302, -10.0445],\n",
       "         [-10.0445, -10.0445, -10.0445,  ..., -10.0445, -10.0445, -10.0445],\n",
       "         [-10.0445, -10.0445, -10.0445,  ..., -10.0445, -10.0445, -10.0445]],\n",
       "\n",
       "        [[ -9.9486,  -9.9486,  -9.9486,  ...,  -9.9486,  -9.9486,  -9.9486],\n",
       "         [ -9.9486,  -9.9486,  -9.9486,  ...,   1.2351,  -9.9486,  -9.9486],\n",
       "         [ -9.9486,  -9.9486,   0.3606,  ...,   0.9966,   0.8641,  -9.9486],\n",
       "         ...,\n",
       "         [ -9.9486,  -9.9486,   0.9966,  ...,   1.0496,   1.2881,  -9.9486],\n",
       "         [ -9.9486,  -9.9486,  -9.9486,  ...,  -9.9486,  -9.9486,  -9.9486],\n",
       "         [ -9.9486,  -9.9486,  -9.9486,  ...,  -9.9486,  -9.9486,  -9.9486]],\n",
       "\n",
       "        ...,\n",
       "\n",
       "        [[ -9.8661,  -9.8661,  -9.8661,  ...,  -9.8661,  -9.8661,  -9.8661],\n",
       "         [ -9.8661,  -9.8661,  -9.8661,  ...,  -3.7565,  -9.8661,  -9.8661],\n",
       "         [ -9.8661,  -9.8661,  -3.6459,  ...,  -3.7407,  -3.8671,  -9.8661],\n",
       "         ...,\n",
       "         [ -9.8661,  -9.8661,  -3.4563,  ...,  -3.5090,  -3.5142,  -9.8661],\n",
       "         [ -9.8661,  -9.8661,  -9.8661,  ...,  -9.8661,  -9.8661,  -9.8661],\n",
       "         [ -9.8661,  -9.8661,  -9.8661,  ...,  -9.8661,  -9.8661,  -9.8661]],\n",
       "\n",
       "        [[ -9.9108,  -9.9108,  -9.9108,  ...,  -9.9108,  -9.9108,  -9.9108],\n",
       "         [ -9.9108,  -9.9108,  -9.9108,  ...,  -3.7768,  -9.9108,  -9.9108],\n",
       "         [ -9.9108,  -9.9108,  -3.6552,  ...,  -3.7504,  -3.8773,  -9.9108],\n",
       "         ...,\n",
       "         [ -9.9108,  -9.9108,  -3.4701,  ...,  -3.5124,  -3.5283,  -9.9108],\n",
       "         [ -9.9108,  -9.9108,  -9.9108,  ...,  -9.9108,  -9.9108,  -9.9108],\n",
       "         [ -9.9108,  -9.9108,  -9.9108,  ...,  -9.9108,  -9.9108,  -9.9108]],\n",
       "\n",
       "        [[ -9.9569,  -9.9569,  -9.9569,  ...,  -9.9569,  -9.9569,  -9.9569],\n",
       "         [ -9.9569,  -9.9569,  -9.9569,  ...,  -3.7925,  -9.9569,  -9.9569],\n",
       "         [ -9.9569,  -9.9569,  -3.6704,  ...,  -3.7659,  -3.8934,  -9.9569],\n",
       "         ...,\n",
       "         [ -9.9569,  -9.9569,  -3.4792,  ...,  -3.5217,  -3.5376,  -9.9569],\n",
       "         [ -9.9569,  -9.9569,  -9.9569,  ...,  -9.9569,  -9.9569,  -9.9569],\n",
       "         [ -9.9569,  -9.9569,  -9.9569,  ...,  -9.9569,  -9.9569,  -9.9569]]])"
      ]
     },
     "execution_count": 86,
     "metadata": {},
     "output_type": "execute_result"
    }
   ],
   "source": [
    "tensor_data_masked_normalized = transforms.functional.normalize(torch.as_tensor(tensor_data_masked, dtype=torch.float), mean=means.tolist(), std=stds.tolist())\n",
    "tensor_data_masked_normalized"
   ]
  },
  {
   "cell_type": "code",
   "execution_count": 87,
   "id": "73d23c72-f9c9-4afe-99c9-48259b1f2f80",
   "metadata": {},
   "outputs": [],
   "source": [
    "temp_gt = pd.read_csv(os.path.join(train_data_directory, 'train_gt.csv'))[['P','K','Mg','pH']]"
   ]
  },
  {
   "cell_type": "code",
   "execution_count": 88,
   "id": "748084b4-b993-42d2-92fd-074f314e1625",
   "metadata": {
    "collapsed": true,
    "jupyter": {
     "outputs_hidden": true
    },
    "tags": []
   },
   "outputs": [
    {
     "data": {
      "text/html": [
       "<div>\n",
       "<style scoped>\n",
       "    .dataframe tbody tr th:only-of-type {\n",
       "        vertical-align: middle;\n",
       "    }\n",
       "\n",
       "    .dataframe tbody tr th {\n",
       "        vertical-align: top;\n",
       "    }\n",
       "\n",
       "    .dataframe thead th {\n",
       "        text-align: right;\n",
       "    }\n",
       "</style>\n",
       "<table border=\"1\" class=\"dataframe\">\n",
       "  <thead>\n",
       "    <tr style=\"text-align: right;\">\n",
       "      <th></th>\n",
       "      <th>P</th>\n",
       "      <th>K</th>\n",
       "      <th>Mg</th>\n",
       "      <th>pH</th>\n",
       "    </tr>\n",
       "  </thead>\n",
       "  <tbody>\n",
       "    <tr>\n",
       "      <th>0</th>\n",
       "      <td>45.1</td>\n",
       "      <td>188.0</td>\n",
       "      <td>179.0</td>\n",
       "      <td>7.2</td>\n",
       "    </tr>\n",
       "    <tr>\n",
       "      <th>1</th>\n",
       "      <td>44.8</td>\n",
       "      <td>205.0</td>\n",
       "      <td>188.0</td>\n",
       "      <td>7.0</td>\n",
       "    </tr>\n",
       "    <tr>\n",
       "      <th>2</th>\n",
       "      <td>44.4</td>\n",
       "      <td>207.0</td>\n",
       "      <td>145.0</td>\n",
       "      <td>6.8</td>\n",
       "    </tr>\n",
       "    <tr>\n",
       "      <th>3</th>\n",
       "      <td>46.5</td>\n",
       "      <td>204.0</td>\n",
       "      <td>143.0</td>\n",
       "      <td>6.8</td>\n",
       "    </tr>\n",
       "    <tr>\n",
       "      <th>4</th>\n",
       "      <td>52.0</td>\n",
       "      <td>212.0</td>\n",
       "      <td>167.0</td>\n",
       "      <td>6.7</td>\n",
       "    </tr>\n",
       "    <tr>\n",
       "      <th>...</th>\n",
       "      <td>...</td>\n",
       "      <td>...</td>\n",
       "      <td>...</td>\n",
       "      <td>...</td>\n",
       "    </tr>\n",
       "    <tr>\n",
       "      <th>1727</th>\n",
       "      <td>40.8</td>\n",
       "      <td>133.0</td>\n",
       "      <td>132.0</td>\n",
       "      <td>6.2</td>\n",
       "    </tr>\n",
       "    <tr>\n",
       "      <th>1728</th>\n",
       "      <td>42.7</td>\n",
       "      <td>192.0</td>\n",
       "      <td>126.0</td>\n",
       "      <td>6.5</td>\n",
       "    </tr>\n",
       "    <tr>\n",
       "      <th>1729</th>\n",
       "      <td>39.4</td>\n",
       "      <td>180.0</td>\n",
       "      <td>122.0</td>\n",
       "      <td>6.5</td>\n",
       "    </tr>\n",
       "    <tr>\n",
       "      <th>1730</th>\n",
       "      <td>37.3</td>\n",
       "      <td>162.0</td>\n",
       "      <td>127.0</td>\n",
       "      <td>6.5</td>\n",
       "    </tr>\n",
       "    <tr>\n",
       "      <th>1731</th>\n",
       "      <td>29.5</td>\n",
       "      <td>146.0</td>\n",
       "      <td>133.0</td>\n",
       "      <td>6.3</td>\n",
       "    </tr>\n",
       "  </tbody>\n",
       "</table>\n",
       "<p>1732 rows × 4 columns</p>\n",
       "</div>"
      ],
      "text/plain": [
       "         P      K     Mg   pH\n",
       "0     45.1  188.0  179.0  7.2\n",
       "1     44.8  205.0  188.0  7.0\n",
       "2     44.4  207.0  145.0  6.8\n",
       "3     46.5  204.0  143.0  6.8\n",
       "4     52.0  212.0  167.0  6.7\n",
       "...    ...    ...    ...  ...\n",
       "1727  40.8  133.0  132.0  6.2\n",
       "1728  42.7  192.0  126.0  6.5\n",
       "1729  39.4  180.0  122.0  6.5\n",
       "1730  37.3  162.0  127.0  6.5\n",
       "1731  29.5  146.0  133.0  6.3\n",
       "\n",
       "[1732 rows x 4 columns]"
      ]
     },
     "execution_count": 88,
     "metadata": {},
     "output_type": "execute_result"
    }
   ],
   "source": [
    "temp_gt"
   ]
  },
  {
   "cell_type": "code",
   "execution_count": 89,
   "id": "178ddd17-5d6b-4a96-808d-2ab1a6e817bd",
   "metadata": {},
   "outputs": [
    {
     "data": {
      "text/plain": [
       "44.8"
      ]
     },
     "execution_count": 89,
     "metadata": {},
     "output_type": "execute_result"
    }
   ],
   "source": [
    "temp_gt.loc[1, 'P']"
   ]
  },
  {
   "cell_type": "markdown",
   "id": "69734912-1875-401f-9e0b-7afa7eac153e",
   "metadata": {},
   "source": [
    "### Dataset definition"
   ]
  },
  {
   "cell_type": "code",
   "execution_count": 105,
   "id": "55fc5b6c-09e5-49d5-9211-32d95db7fa30",
   "metadata": {},
   "outputs": [],
   "source": [
    "class HyperViewDataset(Dataset):\n",
    "    def __init__(self, gt_file, img_dir, transform=True, means=None, stds=None, train_transforms=False):\n",
    "        self.img_dir = img_dir\n",
    "        if gt_file is not None:\n",
    "            self.gt = pd.read_csv(gt_file)[['P','K','Mg','pH']]\n",
    "        else:\n",
    "            self.gt = None\n",
    "        self.transform = transform # whether to perform transformation of input data\n",
    "        self.train_transforms = train_transforms # whether to perform transformations like on training data\n",
    "        \n",
    "        if self.train_transforms:\n",
    "            self.training_transforms_composition = transforms.Compose([\n",
    "                transforms.RandomHorizontalFlip(p=0.4), transforms.RandomVerticalFlip(p=0.4)])\n",
    "        \n",
    "        self.means = means # mean values for every band used to normalize data\n",
    "        self.stds = stds # std values for every band used to normalize data\n",
    "        \n",
    "        self.img_files = np.array(\n",
    "            sorted(\n",
    "                glob(os.path.join(img_dir, \"*.npz\")),\n",
    "                key=lambda x: int(os.path.basename(x).replace(\".npz\", \"\")),\n",
    "            )\n",
    "        )\n",
    "    \n",
    "    def pad_to_minimum_size(self, min_size, image):\n",
    "        # pads numpy array to defined in `min_size` minimum size of array (w, h)\n",
    "        c, h, w = image.shape\n",
    "        h_diff = (min_size - h)/2\n",
    "        w_diff = (min_size - w)/2\n",
    "        \n",
    "        if not h_diff.is_integer():\n",
    "            h_pad1 = int(h_diff - 0.5)\n",
    "            h_pad2 = int(h_diff + 0.5)\n",
    "        else:\n",
    "            h_pad1 = h_pad2 = int(h_diff)\n",
    "\n",
    "        if not w_diff.is_integer():\n",
    "            w_pad1 = int(w_diff - 0.5)\n",
    "            w_pad2 = int(w_diff + 0.5)\n",
    "        else:\n",
    "            w_pad1 = w_pad2 = int(w_diff)\n",
    "        \n",
    "        # check if any padding is bigger than zero\n",
    "        if h_pad1+h_pad2+w_pad1+h_pad2 == 0:\n",
    "            return image\n",
    "        else:\n",
    "            return transforms.functional.pad(image, (w_pad1, h_pad1, w_pad2, h_pad2), fill=0)\n",
    "    \n",
    "    def __len__(self):\n",
    "        return len(self.img_files)\n",
    "    \n",
    "    def __getitem__(self, idx):\n",
    "        # load hyperspectral image to array\n",
    "        img_arr = np.ma.MaskedArray(**np.load(self.img_files[idx]))\n",
    "        img_tensor = torch.as_tensor(img_arr.data, dtype=torch.float) \n",
    "        img_tensor_mask = ~torch.as_tensor(img_arr.mask) # Inverting mask is necessary due to masking method in numpy\n",
    "        img_masked_tensor = torch.mul(img_tensor, img_tensor_mask)\n",
    "        \n",
    "        if self.transform:\n",
    "            img_masked_tensor_transformed = transforms.functional.normalize(img_masked_tensor, mean=self.means.tolist(), std=self.stds.tolist())\n",
    "            img_masked_tensor_transformed = self.pad_to_minimum_size(300, img_masked_tensor_transformed)\n",
    "            if self.train_transforms:\n",
    "                img_masked_tensor_transformed = self.training_transforms_composition(img_masked_tensor_transformed)\n",
    "            img_result_tensor = img_masked_tensor_transformed\n",
    "        else:\n",
    "            img_result_tensor = img_masked_tensor\n",
    "        # load labels\n",
    "        if self.gt is not None:\n",
    "            P_gt = self.gt.loc[idx, 'P']\n",
    "            K_gt = self.gt.loc[idx, 'K']\n",
    "            Mg_gt = self.gt.loc[idx, 'Mg']\n",
    "            pH_gt = self.gt.loc[idx, 'pH']\n",
    "\n",
    "            sample = {'image': img_result_tensor, 'P': P_gt, 'K': K_gt, 'Mg': Mg_gt, 'pH': pH_gt}\n",
    "        else:\n",
    "            sample = {'image': img_result_tensor}\n",
    "        \n",
    "        return sample"
   ]
  },
  {
   "cell_type": "code",
   "execution_count": 116,
   "id": "29db8b86-b4a4-4f29-bea0-f51a2c824031",
   "metadata": {},
   "outputs": [],
   "source": [
    "train_data_whole = HyperViewDataset(os.path.join(train_data_directory, 'train_gt.csv'), os.path.join(train_data_directory, 'train_data'), True, means, stds, train_transforms=True)"
   ]
  },
  {
   "cell_type": "code",
   "execution_count": 117,
   "id": "82ad2317-a57a-4b6c-831f-b5c2ed7280cc",
   "metadata": {},
   "outputs": [],
   "source": [
    "train_dataset, validation_dataset = random_split(train_data_whole, [1400, 332])"
   ]
  },
  {
   "cell_type": "markdown",
   "id": "ab1cda9a-39f3-4b58-aea8-79c8dfccf9b1",
   "metadata": {},
   "source": [
    "### Model Definition"
   ]
  },
  {
   "cell_type": "code",
   "execution_count": 118,
   "id": "7722e05c-848f-4114-b6c0-bb718c705e9e",
   "metadata": {},
   "outputs": [],
   "source": [
    "import torchvision\n",
    "from torchvision import datasets, models, transforms"
   ]
  },
  {
   "cell_type": "code",
   "execution_count": 119,
   "id": "4320d9a1-a6c4-44a5-a5c4-8f9bd8b69e1f",
   "metadata": {},
   "outputs": [],
   "source": [
    "class ResNetCNN(nn.Module):\n",
    "    def __init__(self, pretrained):\n",
    "        super().__init__()\n",
    "        self.resnet_model = models.resnet50(pretrained=False)\n",
    "        \n",
    "        self.resnet_model.conv1 = nn.Conv2d(150, 64, kernel_size=(7, 7), stride=(2, 2), padding=(3, 3), bias=False)\n",
    "        self.resnet_model.fc = nn.Linear(2048, 4, bias=True)\n",
    "        \n",
    "    def forward(self, x):\n",
    "        x = self.resnet_model(x)\n",
    "#         return {'P': x[0], 'K': x[1], 'Mg': x[2], 'pH': x[3]}\n",
    "        return x"
   ]
  },
  {
   "cell_type": "code",
   "execution_count": 120,
   "id": "d148a100-6ad0-439f-a8bc-9ccbdd091852",
   "metadata": {},
   "outputs": [
    {
     "data": {
      "text/plain": [
       "device(type='cuda', index=0)"
      ]
     },
     "execution_count": 120,
     "metadata": {},
     "output_type": "execute_result"
    }
   ],
   "source": [
    "device = torch.device(\"cuda:0\" if torch.cuda.is_available() else \"cpu\")\n",
    "device"
   ]
  },
  {
   "cell_type": "code",
   "execution_count": 121,
   "id": "2cb2cae6-e7ec-4206-9451-14ee6ae07475",
   "metadata": {},
   "outputs": [],
   "source": [
    "BATCH_SIZE = 12\n",
    "EPOCHS = 300"
   ]
  },
  {
   "cell_type": "code",
   "execution_count": 122,
   "id": "9c45de25-2011-4cca-8a1c-a6d30848926d",
   "metadata": {},
   "outputs": [],
   "source": [
    "train_dataloader = DataLoader(train_dataset, batch_size=BATCH_SIZE, pin_memory=True, drop_last=True, num_workers=4)\n",
    "validation_dataloader = DataLoader(validation_dataset, batch_size=BATCH_SIZE, pin_memory=True, drop_last=True, num_workers=4)"
   ]
  },
  {
   "cell_type": "markdown",
   "id": "6184ff00-8fc3-4ce0-8734-fc91aed6edf2",
   "metadata": {
    "tags": []
   },
   "source": [
    "### Overfitting on single batch of data"
   ]
  },
  {
   "cell_type": "code",
   "execution_count": 123,
   "id": "8aff7ef7-192e-47b2-a64c-28a07f2db0f8",
   "metadata": {
    "collapsed": true,
    "jupyter": {
     "outputs_hidden": true
    },
    "tags": []
   },
   "outputs": [
    {
     "data": {
      "text/plain": [
       "ResNetCNN(\n",
       "  (resnet_model): ResNet(\n",
       "    (conv1): Conv2d(150, 64, kernel_size=(7, 7), stride=(2, 2), padding=(3, 3), bias=False)\n",
       "    (bn1): BatchNorm2d(64, eps=1e-05, momentum=0.1, affine=True, track_running_stats=True)\n",
       "    (relu): ReLU(inplace=True)\n",
       "    (maxpool): MaxPool2d(kernel_size=3, stride=2, padding=1, dilation=1, ceil_mode=False)\n",
       "    (layer1): Sequential(\n",
       "      (0): Bottleneck(\n",
       "        (conv1): Conv2d(64, 64, kernel_size=(1, 1), stride=(1, 1), bias=False)\n",
       "        (bn1): BatchNorm2d(64, eps=1e-05, momentum=0.1, affine=True, track_running_stats=True)\n",
       "        (conv2): Conv2d(64, 64, kernel_size=(3, 3), stride=(1, 1), padding=(1, 1), bias=False)\n",
       "        (bn2): BatchNorm2d(64, eps=1e-05, momentum=0.1, affine=True, track_running_stats=True)\n",
       "        (conv3): Conv2d(64, 256, kernel_size=(1, 1), stride=(1, 1), bias=False)\n",
       "        (bn3): BatchNorm2d(256, eps=1e-05, momentum=0.1, affine=True, track_running_stats=True)\n",
       "        (relu): ReLU(inplace=True)\n",
       "        (downsample): Sequential(\n",
       "          (0): Conv2d(64, 256, kernel_size=(1, 1), stride=(1, 1), bias=False)\n",
       "          (1): BatchNorm2d(256, eps=1e-05, momentum=0.1, affine=True, track_running_stats=True)\n",
       "        )\n",
       "      )\n",
       "      (1): Bottleneck(\n",
       "        (conv1): Conv2d(256, 64, kernel_size=(1, 1), stride=(1, 1), bias=False)\n",
       "        (bn1): BatchNorm2d(64, eps=1e-05, momentum=0.1, affine=True, track_running_stats=True)\n",
       "        (conv2): Conv2d(64, 64, kernel_size=(3, 3), stride=(1, 1), padding=(1, 1), bias=False)\n",
       "        (bn2): BatchNorm2d(64, eps=1e-05, momentum=0.1, affine=True, track_running_stats=True)\n",
       "        (conv3): Conv2d(64, 256, kernel_size=(1, 1), stride=(1, 1), bias=False)\n",
       "        (bn3): BatchNorm2d(256, eps=1e-05, momentum=0.1, affine=True, track_running_stats=True)\n",
       "        (relu): ReLU(inplace=True)\n",
       "      )\n",
       "      (2): Bottleneck(\n",
       "        (conv1): Conv2d(256, 64, kernel_size=(1, 1), stride=(1, 1), bias=False)\n",
       "        (bn1): BatchNorm2d(64, eps=1e-05, momentum=0.1, affine=True, track_running_stats=True)\n",
       "        (conv2): Conv2d(64, 64, kernel_size=(3, 3), stride=(1, 1), padding=(1, 1), bias=False)\n",
       "        (bn2): BatchNorm2d(64, eps=1e-05, momentum=0.1, affine=True, track_running_stats=True)\n",
       "        (conv3): Conv2d(64, 256, kernel_size=(1, 1), stride=(1, 1), bias=False)\n",
       "        (bn3): BatchNorm2d(256, eps=1e-05, momentum=0.1, affine=True, track_running_stats=True)\n",
       "        (relu): ReLU(inplace=True)\n",
       "      )\n",
       "    )\n",
       "    (layer2): Sequential(\n",
       "      (0): Bottleneck(\n",
       "        (conv1): Conv2d(256, 128, kernel_size=(1, 1), stride=(1, 1), bias=False)\n",
       "        (bn1): BatchNorm2d(128, eps=1e-05, momentum=0.1, affine=True, track_running_stats=True)\n",
       "        (conv2): Conv2d(128, 128, kernel_size=(3, 3), stride=(2, 2), padding=(1, 1), bias=False)\n",
       "        (bn2): BatchNorm2d(128, eps=1e-05, momentum=0.1, affine=True, track_running_stats=True)\n",
       "        (conv3): Conv2d(128, 512, kernel_size=(1, 1), stride=(1, 1), bias=False)\n",
       "        (bn3): BatchNorm2d(512, eps=1e-05, momentum=0.1, affine=True, track_running_stats=True)\n",
       "        (relu): ReLU(inplace=True)\n",
       "        (downsample): Sequential(\n",
       "          (0): Conv2d(256, 512, kernel_size=(1, 1), stride=(2, 2), bias=False)\n",
       "          (1): BatchNorm2d(512, eps=1e-05, momentum=0.1, affine=True, track_running_stats=True)\n",
       "        )\n",
       "      )\n",
       "      (1): Bottleneck(\n",
       "        (conv1): Conv2d(512, 128, kernel_size=(1, 1), stride=(1, 1), bias=False)\n",
       "        (bn1): BatchNorm2d(128, eps=1e-05, momentum=0.1, affine=True, track_running_stats=True)\n",
       "        (conv2): Conv2d(128, 128, kernel_size=(3, 3), stride=(1, 1), padding=(1, 1), bias=False)\n",
       "        (bn2): BatchNorm2d(128, eps=1e-05, momentum=0.1, affine=True, track_running_stats=True)\n",
       "        (conv3): Conv2d(128, 512, kernel_size=(1, 1), stride=(1, 1), bias=False)\n",
       "        (bn3): BatchNorm2d(512, eps=1e-05, momentum=0.1, affine=True, track_running_stats=True)\n",
       "        (relu): ReLU(inplace=True)\n",
       "      )\n",
       "      (2): Bottleneck(\n",
       "        (conv1): Conv2d(512, 128, kernel_size=(1, 1), stride=(1, 1), bias=False)\n",
       "        (bn1): BatchNorm2d(128, eps=1e-05, momentum=0.1, affine=True, track_running_stats=True)\n",
       "        (conv2): Conv2d(128, 128, kernel_size=(3, 3), stride=(1, 1), padding=(1, 1), bias=False)\n",
       "        (bn2): BatchNorm2d(128, eps=1e-05, momentum=0.1, affine=True, track_running_stats=True)\n",
       "        (conv3): Conv2d(128, 512, kernel_size=(1, 1), stride=(1, 1), bias=False)\n",
       "        (bn3): BatchNorm2d(512, eps=1e-05, momentum=0.1, affine=True, track_running_stats=True)\n",
       "        (relu): ReLU(inplace=True)\n",
       "      )\n",
       "      (3): Bottleneck(\n",
       "        (conv1): Conv2d(512, 128, kernel_size=(1, 1), stride=(1, 1), bias=False)\n",
       "        (bn1): BatchNorm2d(128, eps=1e-05, momentum=0.1, affine=True, track_running_stats=True)\n",
       "        (conv2): Conv2d(128, 128, kernel_size=(3, 3), stride=(1, 1), padding=(1, 1), bias=False)\n",
       "        (bn2): BatchNorm2d(128, eps=1e-05, momentum=0.1, affine=True, track_running_stats=True)\n",
       "        (conv3): Conv2d(128, 512, kernel_size=(1, 1), stride=(1, 1), bias=False)\n",
       "        (bn3): BatchNorm2d(512, eps=1e-05, momentum=0.1, affine=True, track_running_stats=True)\n",
       "        (relu): ReLU(inplace=True)\n",
       "      )\n",
       "    )\n",
       "    (layer3): Sequential(\n",
       "      (0): Bottleneck(\n",
       "        (conv1): Conv2d(512, 256, kernel_size=(1, 1), stride=(1, 1), bias=False)\n",
       "        (bn1): BatchNorm2d(256, eps=1e-05, momentum=0.1, affine=True, track_running_stats=True)\n",
       "        (conv2): Conv2d(256, 256, kernel_size=(3, 3), stride=(2, 2), padding=(1, 1), bias=False)\n",
       "        (bn2): BatchNorm2d(256, eps=1e-05, momentum=0.1, affine=True, track_running_stats=True)\n",
       "        (conv3): Conv2d(256, 1024, kernel_size=(1, 1), stride=(1, 1), bias=False)\n",
       "        (bn3): BatchNorm2d(1024, eps=1e-05, momentum=0.1, affine=True, track_running_stats=True)\n",
       "        (relu): ReLU(inplace=True)\n",
       "        (downsample): Sequential(\n",
       "          (0): Conv2d(512, 1024, kernel_size=(1, 1), stride=(2, 2), bias=False)\n",
       "          (1): BatchNorm2d(1024, eps=1e-05, momentum=0.1, affine=True, track_running_stats=True)\n",
       "        )\n",
       "      )\n",
       "      (1): Bottleneck(\n",
       "        (conv1): Conv2d(1024, 256, kernel_size=(1, 1), stride=(1, 1), bias=False)\n",
       "        (bn1): BatchNorm2d(256, eps=1e-05, momentum=0.1, affine=True, track_running_stats=True)\n",
       "        (conv2): Conv2d(256, 256, kernel_size=(3, 3), stride=(1, 1), padding=(1, 1), bias=False)\n",
       "        (bn2): BatchNorm2d(256, eps=1e-05, momentum=0.1, affine=True, track_running_stats=True)\n",
       "        (conv3): Conv2d(256, 1024, kernel_size=(1, 1), stride=(1, 1), bias=False)\n",
       "        (bn3): BatchNorm2d(1024, eps=1e-05, momentum=0.1, affine=True, track_running_stats=True)\n",
       "        (relu): ReLU(inplace=True)\n",
       "      )\n",
       "      (2): Bottleneck(\n",
       "        (conv1): Conv2d(1024, 256, kernel_size=(1, 1), stride=(1, 1), bias=False)\n",
       "        (bn1): BatchNorm2d(256, eps=1e-05, momentum=0.1, affine=True, track_running_stats=True)\n",
       "        (conv2): Conv2d(256, 256, kernel_size=(3, 3), stride=(1, 1), padding=(1, 1), bias=False)\n",
       "        (bn2): BatchNorm2d(256, eps=1e-05, momentum=0.1, affine=True, track_running_stats=True)\n",
       "        (conv3): Conv2d(256, 1024, kernel_size=(1, 1), stride=(1, 1), bias=False)\n",
       "        (bn3): BatchNorm2d(1024, eps=1e-05, momentum=0.1, affine=True, track_running_stats=True)\n",
       "        (relu): ReLU(inplace=True)\n",
       "      )\n",
       "      (3): Bottleneck(\n",
       "        (conv1): Conv2d(1024, 256, kernel_size=(1, 1), stride=(1, 1), bias=False)\n",
       "        (bn1): BatchNorm2d(256, eps=1e-05, momentum=0.1, affine=True, track_running_stats=True)\n",
       "        (conv2): Conv2d(256, 256, kernel_size=(3, 3), stride=(1, 1), padding=(1, 1), bias=False)\n",
       "        (bn2): BatchNorm2d(256, eps=1e-05, momentum=0.1, affine=True, track_running_stats=True)\n",
       "        (conv3): Conv2d(256, 1024, kernel_size=(1, 1), stride=(1, 1), bias=False)\n",
       "        (bn3): BatchNorm2d(1024, eps=1e-05, momentum=0.1, affine=True, track_running_stats=True)\n",
       "        (relu): ReLU(inplace=True)\n",
       "      )\n",
       "      (4): Bottleneck(\n",
       "        (conv1): Conv2d(1024, 256, kernel_size=(1, 1), stride=(1, 1), bias=False)\n",
       "        (bn1): BatchNorm2d(256, eps=1e-05, momentum=0.1, affine=True, track_running_stats=True)\n",
       "        (conv2): Conv2d(256, 256, kernel_size=(3, 3), stride=(1, 1), padding=(1, 1), bias=False)\n",
       "        (bn2): BatchNorm2d(256, eps=1e-05, momentum=0.1, affine=True, track_running_stats=True)\n",
       "        (conv3): Conv2d(256, 1024, kernel_size=(1, 1), stride=(1, 1), bias=False)\n",
       "        (bn3): BatchNorm2d(1024, eps=1e-05, momentum=0.1, affine=True, track_running_stats=True)\n",
       "        (relu): ReLU(inplace=True)\n",
       "      )\n",
       "      (5): Bottleneck(\n",
       "        (conv1): Conv2d(1024, 256, kernel_size=(1, 1), stride=(1, 1), bias=False)\n",
       "        (bn1): BatchNorm2d(256, eps=1e-05, momentum=0.1, affine=True, track_running_stats=True)\n",
       "        (conv2): Conv2d(256, 256, kernel_size=(3, 3), stride=(1, 1), padding=(1, 1), bias=False)\n",
       "        (bn2): BatchNorm2d(256, eps=1e-05, momentum=0.1, affine=True, track_running_stats=True)\n",
       "        (conv3): Conv2d(256, 1024, kernel_size=(1, 1), stride=(1, 1), bias=False)\n",
       "        (bn3): BatchNorm2d(1024, eps=1e-05, momentum=0.1, affine=True, track_running_stats=True)\n",
       "        (relu): ReLU(inplace=True)\n",
       "      )\n",
       "    )\n",
       "    (layer4): Sequential(\n",
       "      (0): Bottleneck(\n",
       "        (conv1): Conv2d(1024, 512, kernel_size=(1, 1), stride=(1, 1), bias=False)\n",
       "        (bn1): BatchNorm2d(512, eps=1e-05, momentum=0.1, affine=True, track_running_stats=True)\n",
       "        (conv2): Conv2d(512, 512, kernel_size=(3, 3), stride=(2, 2), padding=(1, 1), bias=False)\n",
       "        (bn2): BatchNorm2d(512, eps=1e-05, momentum=0.1, affine=True, track_running_stats=True)\n",
       "        (conv3): Conv2d(512, 2048, kernel_size=(1, 1), stride=(1, 1), bias=False)\n",
       "        (bn3): BatchNorm2d(2048, eps=1e-05, momentum=0.1, affine=True, track_running_stats=True)\n",
       "        (relu): ReLU(inplace=True)\n",
       "        (downsample): Sequential(\n",
       "          (0): Conv2d(1024, 2048, kernel_size=(1, 1), stride=(2, 2), bias=False)\n",
       "          (1): BatchNorm2d(2048, eps=1e-05, momentum=0.1, affine=True, track_running_stats=True)\n",
       "        )\n",
       "      )\n",
       "      (1): Bottleneck(\n",
       "        (conv1): Conv2d(2048, 512, kernel_size=(1, 1), stride=(1, 1), bias=False)\n",
       "        (bn1): BatchNorm2d(512, eps=1e-05, momentum=0.1, affine=True, track_running_stats=True)\n",
       "        (conv2): Conv2d(512, 512, kernel_size=(3, 3), stride=(1, 1), padding=(1, 1), bias=False)\n",
       "        (bn2): BatchNorm2d(512, eps=1e-05, momentum=0.1, affine=True, track_running_stats=True)\n",
       "        (conv3): Conv2d(512, 2048, kernel_size=(1, 1), stride=(1, 1), bias=False)\n",
       "        (bn3): BatchNorm2d(2048, eps=1e-05, momentum=0.1, affine=True, track_running_stats=True)\n",
       "        (relu): ReLU(inplace=True)\n",
       "      )\n",
       "      (2): Bottleneck(\n",
       "        (conv1): Conv2d(2048, 512, kernel_size=(1, 1), stride=(1, 1), bias=False)\n",
       "        (bn1): BatchNorm2d(512, eps=1e-05, momentum=0.1, affine=True, track_running_stats=True)\n",
       "        (conv2): Conv2d(512, 512, kernel_size=(3, 3), stride=(1, 1), padding=(1, 1), bias=False)\n",
       "        (bn2): BatchNorm2d(512, eps=1e-05, momentum=0.1, affine=True, track_running_stats=True)\n",
       "        (conv3): Conv2d(512, 2048, kernel_size=(1, 1), stride=(1, 1), bias=False)\n",
       "        (bn3): BatchNorm2d(2048, eps=1e-05, momentum=0.1, affine=True, track_running_stats=True)\n",
       "        (relu): ReLU(inplace=True)\n",
       "      )\n",
       "    )\n",
       "    (avgpool): AdaptiveAvgPool2d(output_size=(1, 1))\n",
       "    (fc): Linear(in_features=2048, out_features=4, bias=True)\n",
       "  )\n",
       ")"
      ]
     },
     "execution_count": 123,
     "metadata": {},
     "output_type": "execute_result"
    }
   ],
   "source": [
    "model = ResNetCNN(pretrained=False)\n",
    "model.to(device)"
   ]
  },
  {
   "cell_type": "code",
   "execution_count": 124,
   "id": "a0abce47-1867-4431-b4b4-3a0c7093f713",
   "metadata": {
    "tags": []
   },
   "outputs": [],
   "source": [
    "loss_func = torch.nn.MSELoss()\n",
    "optimizer = torch.optim.AdamW(model.parameters(), lr=0.01)"
   ]
  },
  {
   "cell_type": "code",
   "execution_count": 125,
   "id": "c20d944a-8f5f-4294-b342-9015feadde1f",
   "metadata": {
    "tags": []
   },
   "outputs": [],
   "source": [
    "train_data_single_batch = next(iter(train_dataloader))"
   ]
  },
  {
   "cell_type": "code",
   "execution_count": 126,
   "id": "ae9916b5-d6b1-4abd-a984-f0b846c0dac7",
   "metadata": {
    "collapsed": true,
    "jupyter": {
     "outputs_hidden": true
    },
    "tags": []
   },
   "outputs": [
    {
     "data": {
      "text/plain": [
       "{'image': tensor([[[[0., 0., 0.,  ..., 0., 0., 0.],\n",
       "           [0., 0., 0.,  ..., 0., 0., 0.],\n",
       "           [0., 0., 0.,  ..., 0., 0., 0.],\n",
       "           ...,\n",
       "           [0., 0., 0.,  ..., 0., 0., 0.],\n",
       "           [0., 0., 0.,  ..., 0., 0., 0.],\n",
       "           [0., 0., 0.,  ..., 0., 0., 0.]],\n",
       " \n",
       "          [[0., 0., 0.,  ..., 0., 0., 0.],\n",
       "           [0., 0., 0.,  ..., 0., 0., 0.],\n",
       "           [0., 0., 0.,  ..., 0., 0., 0.],\n",
       "           ...,\n",
       "           [0., 0., 0.,  ..., 0., 0., 0.],\n",
       "           [0., 0., 0.,  ..., 0., 0., 0.],\n",
       "           [0., 0., 0.,  ..., 0., 0., 0.]],\n",
       " \n",
       "          [[0., 0., 0.,  ..., 0., 0., 0.],\n",
       "           [0., 0., 0.,  ..., 0., 0., 0.],\n",
       "           [0., 0., 0.,  ..., 0., 0., 0.],\n",
       "           ...,\n",
       "           [0., 0., 0.,  ..., 0., 0., 0.],\n",
       "           [0., 0., 0.,  ..., 0., 0., 0.],\n",
       "           [0., 0., 0.,  ..., 0., 0., 0.]],\n",
       " \n",
       "          ...,\n",
       " \n",
       "          [[0., 0., 0.,  ..., 0., 0., 0.],\n",
       "           [0., 0., 0.,  ..., 0., 0., 0.],\n",
       "           [0., 0., 0.,  ..., 0., 0., 0.],\n",
       "           ...,\n",
       "           [0., 0., 0.,  ..., 0., 0., 0.],\n",
       "           [0., 0., 0.,  ..., 0., 0., 0.],\n",
       "           [0., 0., 0.,  ..., 0., 0., 0.]],\n",
       " \n",
       "          [[0., 0., 0.,  ..., 0., 0., 0.],\n",
       "           [0., 0., 0.,  ..., 0., 0., 0.],\n",
       "           [0., 0., 0.,  ..., 0., 0., 0.],\n",
       "           ...,\n",
       "           [0., 0., 0.,  ..., 0., 0., 0.],\n",
       "           [0., 0., 0.,  ..., 0., 0., 0.],\n",
       "           [0., 0., 0.,  ..., 0., 0., 0.]],\n",
       " \n",
       "          [[0., 0., 0.,  ..., 0., 0., 0.],\n",
       "           [0., 0., 0.,  ..., 0., 0., 0.],\n",
       "           [0., 0., 0.,  ..., 0., 0., 0.],\n",
       "           ...,\n",
       "           [0., 0., 0.,  ..., 0., 0., 0.],\n",
       "           [0., 0., 0.,  ..., 0., 0., 0.],\n",
       "           [0., 0., 0.,  ..., 0., 0., 0.]]],\n",
       " \n",
       " \n",
       "         [[[0., 0., 0.,  ..., 0., 0., 0.],\n",
       "           [0., 0., 0.,  ..., 0., 0., 0.],\n",
       "           [0., 0., 0.,  ..., 0., 0., 0.],\n",
       "           ...,\n",
       "           [0., 0., 0.,  ..., 0., 0., 0.],\n",
       "           [0., 0., 0.,  ..., 0., 0., 0.],\n",
       "           [0., 0., 0.,  ..., 0., 0., 0.]],\n",
       " \n",
       "          [[0., 0., 0.,  ..., 0., 0., 0.],\n",
       "           [0., 0., 0.,  ..., 0., 0., 0.],\n",
       "           [0., 0., 0.,  ..., 0., 0., 0.],\n",
       "           ...,\n",
       "           [0., 0., 0.,  ..., 0., 0., 0.],\n",
       "           [0., 0., 0.,  ..., 0., 0., 0.],\n",
       "           [0., 0., 0.,  ..., 0., 0., 0.]],\n",
       " \n",
       "          [[0., 0., 0.,  ..., 0., 0., 0.],\n",
       "           [0., 0., 0.,  ..., 0., 0., 0.],\n",
       "           [0., 0., 0.,  ..., 0., 0., 0.],\n",
       "           ...,\n",
       "           [0., 0., 0.,  ..., 0., 0., 0.],\n",
       "           [0., 0., 0.,  ..., 0., 0., 0.],\n",
       "           [0., 0., 0.,  ..., 0., 0., 0.]],\n",
       " \n",
       "          ...,\n",
       " \n",
       "          [[0., 0., 0.,  ..., 0., 0., 0.],\n",
       "           [0., 0., 0.,  ..., 0., 0., 0.],\n",
       "           [0., 0., 0.,  ..., 0., 0., 0.],\n",
       "           ...,\n",
       "           [0., 0., 0.,  ..., 0., 0., 0.],\n",
       "           [0., 0., 0.,  ..., 0., 0., 0.],\n",
       "           [0., 0., 0.,  ..., 0., 0., 0.]],\n",
       " \n",
       "          [[0., 0., 0.,  ..., 0., 0., 0.],\n",
       "           [0., 0., 0.,  ..., 0., 0., 0.],\n",
       "           [0., 0., 0.,  ..., 0., 0., 0.],\n",
       "           ...,\n",
       "           [0., 0., 0.,  ..., 0., 0., 0.],\n",
       "           [0., 0., 0.,  ..., 0., 0., 0.],\n",
       "           [0., 0., 0.,  ..., 0., 0., 0.]],\n",
       " \n",
       "          [[0., 0., 0.,  ..., 0., 0., 0.],\n",
       "           [0., 0., 0.,  ..., 0., 0., 0.],\n",
       "           [0., 0., 0.,  ..., 0., 0., 0.],\n",
       "           ...,\n",
       "           [0., 0., 0.,  ..., 0., 0., 0.],\n",
       "           [0., 0., 0.,  ..., 0., 0., 0.],\n",
       "           [0., 0., 0.,  ..., 0., 0., 0.]]],\n",
       " \n",
       " \n",
       "         [[[0., 0., 0.,  ..., 0., 0., 0.],\n",
       "           [0., 0., 0.,  ..., 0., 0., 0.],\n",
       "           [0., 0., 0.,  ..., 0., 0., 0.],\n",
       "           ...,\n",
       "           [0., 0., 0.,  ..., 0., 0., 0.],\n",
       "           [0., 0., 0.,  ..., 0., 0., 0.],\n",
       "           [0., 0., 0.,  ..., 0., 0., 0.]],\n",
       " \n",
       "          [[0., 0., 0.,  ..., 0., 0., 0.],\n",
       "           [0., 0., 0.,  ..., 0., 0., 0.],\n",
       "           [0., 0., 0.,  ..., 0., 0., 0.],\n",
       "           ...,\n",
       "           [0., 0., 0.,  ..., 0., 0., 0.],\n",
       "           [0., 0., 0.,  ..., 0., 0., 0.],\n",
       "           [0., 0., 0.,  ..., 0., 0., 0.]],\n",
       " \n",
       "          [[0., 0., 0.,  ..., 0., 0., 0.],\n",
       "           [0., 0., 0.,  ..., 0., 0., 0.],\n",
       "           [0., 0., 0.,  ..., 0., 0., 0.],\n",
       "           ...,\n",
       "           [0., 0., 0.,  ..., 0., 0., 0.],\n",
       "           [0., 0., 0.,  ..., 0., 0., 0.],\n",
       "           [0., 0., 0.,  ..., 0., 0., 0.]],\n",
       " \n",
       "          ...,\n",
       " \n",
       "          [[0., 0., 0.,  ..., 0., 0., 0.],\n",
       "           [0., 0., 0.,  ..., 0., 0., 0.],\n",
       "           [0., 0., 0.,  ..., 0., 0., 0.],\n",
       "           ...,\n",
       "           [0., 0., 0.,  ..., 0., 0., 0.],\n",
       "           [0., 0., 0.,  ..., 0., 0., 0.],\n",
       "           [0., 0., 0.,  ..., 0., 0., 0.]],\n",
       " \n",
       "          [[0., 0., 0.,  ..., 0., 0., 0.],\n",
       "           [0., 0., 0.,  ..., 0., 0., 0.],\n",
       "           [0., 0., 0.,  ..., 0., 0., 0.],\n",
       "           ...,\n",
       "           [0., 0., 0.,  ..., 0., 0., 0.],\n",
       "           [0., 0., 0.,  ..., 0., 0., 0.],\n",
       "           [0., 0., 0.,  ..., 0., 0., 0.]],\n",
       " \n",
       "          [[0., 0., 0.,  ..., 0., 0., 0.],\n",
       "           [0., 0., 0.,  ..., 0., 0., 0.],\n",
       "           [0., 0., 0.,  ..., 0., 0., 0.],\n",
       "           ...,\n",
       "           [0., 0., 0.,  ..., 0., 0., 0.],\n",
       "           [0., 0., 0.,  ..., 0., 0., 0.],\n",
       "           [0., 0., 0.,  ..., 0., 0., 0.]]],\n",
       " \n",
       " \n",
       "         ...,\n",
       " \n",
       " \n",
       "         [[[0., 0., 0.,  ..., 0., 0., 0.],\n",
       "           [0., 0., 0.,  ..., 0., 0., 0.],\n",
       "           [0., 0., 0.,  ..., 0., 0., 0.],\n",
       "           ...,\n",
       "           [0., 0., 0.,  ..., 0., 0., 0.],\n",
       "           [0., 0., 0.,  ..., 0., 0., 0.],\n",
       "           [0., 0., 0.,  ..., 0., 0., 0.]],\n",
       " \n",
       "          [[0., 0., 0.,  ..., 0., 0., 0.],\n",
       "           [0., 0., 0.,  ..., 0., 0., 0.],\n",
       "           [0., 0., 0.,  ..., 0., 0., 0.],\n",
       "           ...,\n",
       "           [0., 0., 0.,  ..., 0., 0., 0.],\n",
       "           [0., 0., 0.,  ..., 0., 0., 0.],\n",
       "           [0., 0., 0.,  ..., 0., 0., 0.]],\n",
       " \n",
       "          [[0., 0., 0.,  ..., 0., 0., 0.],\n",
       "           [0., 0., 0.,  ..., 0., 0., 0.],\n",
       "           [0., 0., 0.,  ..., 0., 0., 0.],\n",
       "           ...,\n",
       "           [0., 0., 0.,  ..., 0., 0., 0.],\n",
       "           [0., 0., 0.,  ..., 0., 0., 0.],\n",
       "           [0., 0., 0.,  ..., 0., 0., 0.]],\n",
       " \n",
       "          ...,\n",
       " \n",
       "          [[0., 0., 0.,  ..., 0., 0., 0.],\n",
       "           [0., 0., 0.,  ..., 0., 0., 0.],\n",
       "           [0., 0., 0.,  ..., 0., 0., 0.],\n",
       "           ...,\n",
       "           [0., 0., 0.,  ..., 0., 0., 0.],\n",
       "           [0., 0., 0.,  ..., 0., 0., 0.],\n",
       "           [0., 0., 0.,  ..., 0., 0., 0.]],\n",
       " \n",
       "          [[0., 0., 0.,  ..., 0., 0., 0.],\n",
       "           [0., 0., 0.,  ..., 0., 0., 0.],\n",
       "           [0., 0., 0.,  ..., 0., 0., 0.],\n",
       "           ...,\n",
       "           [0., 0., 0.,  ..., 0., 0., 0.],\n",
       "           [0., 0., 0.,  ..., 0., 0., 0.],\n",
       "           [0., 0., 0.,  ..., 0., 0., 0.]],\n",
       " \n",
       "          [[0., 0., 0.,  ..., 0., 0., 0.],\n",
       "           [0., 0., 0.,  ..., 0., 0., 0.],\n",
       "           [0., 0., 0.,  ..., 0., 0., 0.],\n",
       "           ...,\n",
       "           [0., 0., 0.,  ..., 0., 0., 0.],\n",
       "           [0., 0., 0.,  ..., 0., 0., 0.],\n",
       "           [0., 0., 0.,  ..., 0., 0., 0.]]],\n",
       " \n",
       " \n",
       "         [[[0., 0., 0.,  ..., 0., 0., 0.],\n",
       "           [0., 0., 0.,  ..., 0., 0., 0.],\n",
       "           [0., 0., 0.,  ..., 0., 0., 0.],\n",
       "           ...,\n",
       "           [0., 0., 0.,  ..., 0., 0., 0.],\n",
       "           [0., 0., 0.,  ..., 0., 0., 0.],\n",
       "           [0., 0., 0.,  ..., 0., 0., 0.]],\n",
       " \n",
       "          [[0., 0., 0.,  ..., 0., 0., 0.],\n",
       "           [0., 0., 0.,  ..., 0., 0., 0.],\n",
       "           [0., 0., 0.,  ..., 0., 0., 0.],\n",
       "           ...,\n",
       "           [0., 0., 0.,  ..., 0., 0., 0.],\n",
       "           [0., 0., 0.,  ..., 0., 0., 0.],\n",
       "           [0., 0., 0.,  ..., 0., 0., 0.]],\n",
       " \n",
       "          [[0., 0., 0.,  ..., 0., 0., 0.],\n",
       "           [0., 0., 0.,  ..., 0., 0., 0.],\n",
       "           [0., 0., 0.,  ..., 0., 0., 0.],\n",
       "           ...,\n",
       "           [0., 0., 0.,  ..., 0., 0., 0.],\n",
       "           [0., 0., 0.,  ..., 0., 0., 0.],\n",
       "           [0., 0., 0.,  ..., 0., 0., 0.]],\n",
       " \n",
       "          ...,\n",
       " \n",
       "          [[0., 0., 0.,  ..., 0., 0., 0.],\n",
       "           [0., 0., 0.,  ..., 0., 0., 0.],\n",
       "           [0., 0., 0.,  ..., 0., 0., 0.],\n",
       "           ...,\n",
       "           [0., 0., 0.,  ..., 0., 0., 0.],\n",
       "           [0., 0., 0.,  ..., 0., 0., 0.],\n",
       "           [0., 0., 0.,  ..., 0., 0., 0.]],\n",
       " \n",
       "          [[0., 0., 0.,  ..., 0., 0., 0.],\n",
       "           [0., 0., 0.,  ..., 0., 0., 0.],\n",
       "           [0., 0., 0.,  ..., 0., 0., 0.],\n",
       "           ...,\n",
       "           [0., 0., 0.,  ..., 0., 0., 0.],\n",
       "           [0., 0., 0.,  ..., 0., 0., 0.],\n",
       "           [0., 0., 0.,  ..., 0., 0., 0.]],\n",
       " \n",
       "          [[0., 0., 0.,  ..., 0., 0., 0.],\n",
       "           [0., 0., 0.,  ..., 0., 0., 0.],\n",
       "           [0., 0., 0.,  ..., 0., 0., 0.],\n",
       "           ...,\n",
       "           [0., 0., 0.,  ..., 0., 0., 0.],\n",
       "           [0., 0., 0.,  ..., 0., 0., 0.],\n",
       "           [0., 0., 0.,  ..., 0., 0., 0.]]],\n",
       " \n",
       " \n",
       "         [[[0., 0., 0.,  ..., 0., 0., 0.],\n",
       "           [0., 0., 0.,  ..., 0., 0., 0.],\n",
       "           [0., 0., 0.,  ..., 0., 0., 0.],\n",
       "           ...,\n",
       "           [0., 0., 0.,  ..., 0., 0., 0.],\n",
       "           [0., 0., 0.,  ..., 0., 0., 0.],\n",
       "           [0., 0., 0.,  ..., 0., 0., 0.]],\n",
       " \n",
       "          [[0., 0., 0.,  ..., 0., 0., 0.],\n",
       "           [0., 0., 0.,  ..., 0., 0., 0.],\n",
       "           [0., 0., 0.,  ..., 0., 0., 0.],\n",
       "           ...,\n",
       "           [0., 0., 0.,  ..., 0., 0., 0.],\n",
       "           [0., 0., 0.,  ..., 0., 0., 0.],\n",
       "           [0., 0., 0.,  ..., 0., 0., 0.]],\n",
       " \n",
       "          [[0., 0., 0.,  ..., 0., 0., 0.],\n",
       "           [0., 0., 0.,  ..., 0., 0., 0.],\n",
       "           [0., 0., 0.,  ..., 0., 0., 0.],\n",
       "           ...,\n",
       "           [0., 0., 0.,  ..., 0., 0., 0.],\n",
       "           [0., 0., 0.,  ..., 0., 0., 0.],\n",
       "           [0., 0., 0.,  ..., 0., 0., 0.]],\n",
       " \n",
       "          ...,\n",
       " \n",
       "          [[0., 0., 0.,  ..., 0., 0., 0.],\n",
       "           [0., 0., 0.,  ..., 0., 0., 0.],\n",
       "           [0., 0., 0.,  ..., 0., 0., 0.],\n",
       "           ...,\n",
       "           [0., 0., 0.,  ..., 0., 0., 0.],\n",
       "           [0., 0., 0.,  ..., 0., 0., 0.],\n",
       "           [0., 0., 0.,  ..., 0., 0., 0.]],\n",
       " \n",
       "          [[0., 0., 0.,  ..., 0., 0., 0.],\n",
       "           [0., 0., 0.,  ..., 0., 0., 0.],\n",
       "           [0., 0., 0.,  ..., 0., 0., 0.],\n",
       "           ...,\n",
       "           [0., 0., 0.,  ..., 0., 0., 0.],\n",
       "           [0., 0., 0.,  ..., 0., 0., 0.],\n",
       "           [0., 0., 0.,  ..., 0., 0., 0.]],\n",
       " \n",
       "          [[0., 0., 0.,  ..., 0., 0., 0.],\n",
       "           [0., 0., 0.,  ..., 0., 0., 0.],\n",
       "           [0., 0., 0.,  ..., 0., 0., 0.],\n",
       "           ...,\n",
       "           [0., 0., 0.,  ..., 0., 0., 0.],\n",
       "           [0., 0., 0.,  ..., 0., 0., 0.],\n",
       "           [0., 0., 0.,  ..., 0., 0., 0.]]]]),\n",
       " 'P': tensor([96.0000, 78.2000, 67.5000, 36.7000, 52.4000, 84.0000, 44.3000, 66.9000,\n",
       "         44.5000, 57.3000, 27.8000, 46.0000], dtype=torch.float64),\n",
       " 'K': tensor([190., 262., 189., 333., 139., 210., 188., 176., 204., 231., 237., 195.],\n",
       "        dtype=torch.float64),\n",
       " 'Mg': tensor([105., 140., 129., 209., 141., 120., 137., 115., 176., 240., 173., 201.],\n",
       "        dtype=torch.float64),\n",
       " 'pH': tensor([6.3000, 6.7000, 6.5000, 6.6000, 6.7000, 7.3000, 6.7000, 7.3000, 6.7000,\n",
       "         6.8000, 6.9000, 7.0000], dtype=torch.float64)}"
      ]
     },
     "execution_count": 126,
     "metadata": {},
     "output_type": "execute_result"
    }
   ],
   "source": [
    "train_data_single_batch"
   ]
  },
  {
   "cell_type": "code",
   "execution_count": 127,
   "id": "8db6d448-4530-44e9-9b8c-e716e6223fd8",
   "metadata": {},
   "outputs": [
    {
     "data": {
      "text/plain": [
       "torch.Size([150, 300, 300])"
      ]
     },
     "execution_count": 127,
     "metadata": {},
     "output_type": "execute_result"
    }
   ],
   "source": [
    "train_data_single_batch['image'][0].shape"
   ]
  },
  {
   "cell_type": "code",
   "execution_count": 128,
   "id": "209e7cc8-4441-4579-a793-64e7f4ce1bf6",
   "metadata": {
    "tags": []
   },
   "outputs": [
    {
     "data": {
      "text/plain": [
       "torch.Size([12, 150, 300, 300])"
      ]
     },
     "execution_count": 128,
     "metadata": {},
     "output_type": "execute_result"
    }
   ],
   "source": [
    "train_data_single_batch['image'].to(device, dtype=torch.float).shape"
   ]
  },
  {
   "cell_type": "code",
   "execution_count": 129,
   "id": "efc305c1-5046-41b5-8531-c8871e4dc0e3",
   "metadata": {},
   "outputs": [],
   "source": [
    "output = model(train_data_single_batch['image'].to(device, dtype=torch.float))"
   ]
  },
  {
   "cell_type": "code",
   "execution_count": 130,
   "id": "5464bf25-9f25-42d5-9a16-a6c73900a285",
   "metadata": {},
   "outputs": [
    {
     "data": {
      "text/plain": [
       "tensor([[ 0.2348, -0.0808, -0.1019,  0.2218],\n",
       "        [ 0.2904, -0.2684,  0.0649,  0.3380],\n",
       "        [ 0.6069, -0.6332,  0.5487,  0.6868],\n",
       "        [ 0.5204, -0.9087,  0.7720,  0.8268],\n",
       "        [ 0.6301, -0.5861,  0.5630,  0.5244],\n",
       "        [ 0.5373, -0.5591,  0.4630,  0.5560],\n",
       "        [ 0.4915, -0.4245,  0.4707,  0.4758],\n",
       "        [ 0.2472, -0.1076, -0.0116,  0.2186],\n",
       "        [ 0.2036, -0.1250,  0.0275,  0.2731],\n",
       "        [ 0.2418, -0.1367,  0.0090,  0.2947],\n",
       "        [ 0.3697, -0.5276,  0.3968,  0.4650],\n",
       "        [ 0.5993, -1.0284,  0.7817,  0.6514]], device='cuda:0',\n",
       "       grad_fn=<AddmmBackward0>)"
      ]
     },
     "execution_count": 130,
     "metadata": {},
     "output_type": "execute_result"
    }
   ],
   "source": [
    "output"
   ]
  },
  {
   "cell_type": "code",
   "execution_count": 131,
   "id": "58725929-6c73-4133-aa60-6c00fc82fb37",
   "metadata": {},
   "outputs": [
    {
     "data": {
      "text/plain": [
       "tensor([[ 96.0000,  78.2000,  67.5000,  36.7000,  52.4000,  84.0000,  44.3000,\n",
       "          66.9000,  44.5000,  57.3000,  27.8000,  46.0000],\n",
       "        [190.0000, 262.0000, 189.0000, 333.0000, 139.0000, 210.0000, 188.0000,\n",
       "         176.0000, 204.0000, 231.0000, 237.0000, 195.0000],\n",
       "        [105.0000, 140.0000, 129.0000, 209.0000, 141.0000, 120.0000, 137.0000,\n",
       "         115.0000, 176.0000, 240.0000, 173.0000, 201.0000],\n",
       "        [  6.3000,   6.7000,   6.5000,   6.6000,   6.7000,   7.3000,   6.7000,\n",
       "           7.3000,   6.7000,   6.8000,   6.9000,   7.0000]],\n",
       "       dtype=torch.float64)"
      ]
     },
     "execution_count": 131,
     "metadata": {},
     "output_type": "execute_result"
    }
   ],
   "source": [
    "stacked_gt = torch.stack((train_data_single_batch['P'], train_data_single_batch['K'], train_data_single_batch['Mg'], train_data_single_batch['pH']))\n",
    "stacked_gt"
   ]
  },
  {
   "cell_type": "code",
   "execution_count": 132,
   "id": "77692788-e75c-4323-9993-2a467c0ab6f3",
   "metadata": {},
   "outputs": [],
   "source": [
    "stacked_gt = stacked_gt.transpose(0, 1).to(device)"
   ]
  },
  {
   "cell_type": "code",
   "execution_count": 133,
   "id": "b45e2527-37da-4ab6-8791-e3c8c0f697c9",
   "metadata": {},
   "outputs": [
    {
     "data": {
      "text/plain": [
       "tensor([[ 96.0000, 190.0000, 105.0000,   6.3000],\n",
       "        [ 78.2000, 262.0000, 140.0000,   6.7000],\n",
       "        [ 67.5000, 189.0000, 129.0000,   6.5000],\n",
       "        [ 36.7000, 333.0000, 209.0000,   6.6000],\n",
       "        [ 52.4000, 139.0000, 141.0000,   6.7000],\n",
       "        [ 84.0000, 210.0000, 120.0000,   7.3000],\n",
       "        [ 44.3000, 188.0000, 137.0000,   6.7000],\n",
       "        [ 66.9000, 176.0000, 115.0000,   7.3000],\n",
       "        [ 44.5000, 204.0000, 176.0000,   6.7000],\n",
       "        [ 57.3000, 231.0000, 240.0000,   6.8000],\n",
       "        [ 27.8000, 237.0000, 173.0000,   6.9000],\n",
       "        [ 46.0000, 195.0000, 201.0000,   7.0000]], device='cuda:0',\n",
       "       dtype=torch.float64)"
      ]
     },
     "execution_count": 133,
     "metadata": {},
     "output_type": "execute_result"
    }
   ],
   "source": [
    "stacked_gt"
   ]
  },
  {
   "cell_type": "code",
   "execution_count": 134,
   "id": "961d4f8e-d7bb-4f28-9355-cfdfae1851a8",
   "metadata": {},
   "outputs": [
    {
     "data": {
      "text/plain": [
       "tensor(19437.4972, device='cuda:0', dtype=torch.float64,\n",
       "       grad_fn=<MseLossBackward0>)"
      ]
     },
     "execution_count": 134,
     "metadata": {},
     "output_type": "execute_result"
    }
   ],
   "source": [
    "loss_func(output, stacked_gt)"
   ]
  },
  {
   "cell_type": "code",
   "execution_count": 139,
   "id": "1f51aaa4-a916-4c14-8420-b1ed3fbeb894",
   "metadata": {},
   "outputs": [
    {
     "name": "stdout",
     "output_type": "stream",
     "text": [
      "epoch: 0, loss: 19460.16796875, MSE: [ 3752.0625   47597.203    26442.916       48.486233]\n",
      "epoch: 10, loss: 1025.81689453125, MSE: [ 548.375    1910.8319   1628.3885     15.671758]\n",
      "epoch: 20, loss: 560.198486328125, MSE: [ 525.3868     430.9927    1282.1996       2.2149282]\n",
      "epoch: 30, loss: 472.72723388671875, MSE: [ 437.1727     315.16217   1137.0692       1.5048118]\n",
      "epoch: 40, loss: 331.90521240234375, MSE: [338.59842   385.29288   602.52295     1.2064289]\n",
      "epoch: 50, loss: 304.9484558105469, MSE: [2.5606287e+02 3.2660849e+02 6.3667987e+02 4.4253489e-01]\n",
      "epoch: 60, loss: 287.89044189453125, MSE: [2.1335658e+02 3.1384702e+02 6.2417340e+02 1.8471634e-01]\n",
      "epoch: 70, loss: 278.62835693359375, MSE: [1.7550581e+02 3.6083719e+02 5.7799561e+02 1.7479730e-01]\n",
      "epoch: 80, loss: 266.0010681152344, MSE: [1.2881911e+02 3.8505103e+02 5.4997113e+02 1.6299759e-01]\n",
      "epoch: 90, loss: 291.44793701171875, MSE: [8.7194557e+01 6.2935663e+02 4.4903711e+02 2.0336662e-01]\n",
      "epoch: 100, loss: 241.65411376953125, MSE: [7.4633270e+01 3.7873291e+02 5.1302789e+02 2.2249478e-01]\n",
      "epoch: 110, loss: 221.83602905273438, MSE: [4.4519009e+01 2.9560538e+02 5.4695404e+02 2.6564363e-01]\n",
      "epoch: 120, loss: 190.458251953125, MSE: [5.3222198e+01 2.5944785e+02 4.4897958e+02 1.8325509e-01]\n",
      "epoch: 130, loss: 154.24343872070312, MSE: [8.6715630e+01 1.8157161e+02 3.4858151e+02 1.0497313e-01]\n",
      "epoch: 140, loss: 137.13589477539062, MSE: [1.3362993e+02 2.8063272e+02 1.3412036e+02 1.6054291e-01]\n",
      "epoch: 150, loss: 114.32682800292969, MSE: [9.0034325e+01 1.5030859e+02 2.1677370e+02 1.9071467e-01]\n",
      "epoch: 160, loss: 79.99920654296875, MSE: [ 75.65527  191.27763   52.78661    0.277288]\n",
      "epoch: 170, loss: 40.57609939575195, MSE: [68.45858    26.210648   67.517975    0.11717484]\n",
      "epoch: 180, loss: 14.694042205810547, MSE: [30.025988  17.877157  10.770493   0.1025267]\n",
      "epoch: 190, loss: 7.9319167137146, MSE: [20.27537     4.583643    6.768944    0.09970924]\n",
      "epoch: 200, loss: 5.09304666519165, MSE: [16.193806    2.5763092   1.5104426   0.09162936]\n",
      "epoch: 210, loss: 2.9636611938476562, MSE: [10.27456     0.5499648   0.944896    0.08522504]\n",
      "epoch: 220, loss: 1.3433032035827637, MSE: [4.738051   0.30019906 0.2524909  0.0824711 ]\n",
      "epoch: 230, loss: 0.5398640632629395, MSE: [1.7864709  0.12365582 0.17186654 0.07746284]\n",
      "epoch: 240, loss: 0.17360639572143555, MSE: [0.39601204 0.1228188  0.10365622 0.0719385 ]\n",
      "epoch: 250, loss: 0.06605541706085205, MSE: [0.10580652 0.01794034 0.07306407 0.06741073]\n",
      "epoch: 260, loss: 0.03289291262626648, MSE: [0.02268622 0.01184369 0.03374209 0.06329965]\n",
      "epoch: 270, loss: 0.020006053149700165, MSE: [0.01080336 0.00345315 0.00544265 0.06032505]\n",
      "epoch: 280, loss: 0.015548106282949448, MSE: [0.0031949  0.00064996 0.00082337 0.05752419]\n",
      "epoch: 290, loss: 0.013999192975461483, MSE: [0.00054644 0.00030472 0.00026539 0.05488022]\n",
      "epoch: 300, loss: 0.013173718005418777, MSE: [1.7850952e-04 7.5016018e-05 1.0342281e-04 5.2337926e-02]\n"
     ]
    }
   ],
   "source": [
    "img_data_device = train_data_single_batch['image'].to(device, dtype=torch.float)\n",
    "stacked_gt_device = torch.stack((train_data_single_batch['P'], train_data_single_batch['K'], train_data_single_batch['Mg'], train_data_single_batch['pH'])).transpose(0,1).to(device, \n",
    "    dtype=torch.float)\n",
    "\n",
    "model = ResNetCNN(False).to(device)\n",
    "optimizer = torch.optim.AdamW(model.parameters(), lr=0.005)\n",
    "loss_func = torch.nn.MSELoss()\n",
    "\n",
    "for epoch in range(301):\n",
    "    model.train()\n",
    "    \n",
    "    output = model(img_data_device)\n",
    "    loss = loss_func(output, stacked_gt_device)\n",
    "    \n",
    "    optimizer.zero_grad()\n",
    "    loss.backward()\n",
    "    optimizer.step()\n",
    "        \n",
    "    output_cpu = output.detach().cpu().numpy()\n",
    "    stacked_gt_cpu = stacked_gt_device.cpu().numpy()\n",
    "\n",
    "    # Calculate MSE for each class\n",
    "    mse = np.mean((stacked_gt_cpu - output_cpu) ** 2, axis=0)\n",
    "    \n",
    "    if epoch%10 == 0:\n",
    "        print(f'epoch: {epoch}, loss: {loss.data.cpu().numpy()}, MSE: {mse}')"
   ]
  },
  {
   "cell_type": "markdown",
   "id": "9f7e821b-ba10-45f2-b8c8-62e1b57816b1",
   "metadata": {},
   "source": [
    "### Training"
   ]
  },
  {
   "cell_type": "code",
   "execution_count": 143,
   "id": "a11e1370-4315-4af1-b61a-477d036d6486",
   "metadata": {},
   "outputs": [],
   "source": [
    "model_name = 'Proper_Data_resnet50_BATCHSIZE_12_AdamW_LR_0_01_ReduceLROnPlateau_Factor0_6_Threshold_0_0001'"
   ]
  },
  {
   "cell_type": "code",
   "execution_count": 144,
   "id": "558c42af-2b45-41f3-9184-577eb2830eea",
   "metadata": {},
   "outputs": [],
   "source": [
    "model = ResNetCNN(False).to(device)"
   ]
  },
  {
   "cell_type": "code",
   "execution_count": 145,
   "id": "634f4c5f-77f4-4139-8df0-7a0dbdf555b8",
   "metadata": {
    "tags": []
   },
   "outputs": [
    {
     "data": {
      "text/plain": [
       "[]"
      ]
     },
     "execution_count": 145,
     "metadata": {},
     "output_type": "execute_result"
    }
   ],
   "source": [
    "wandb.watch(model, log=\"None\", log_freq=20)"
   ]
  },
  {
   "cell_type": "code",
   "execution_count": 148,
   "id": "ea978104-75da-4a8c-a865-f5ac6c696d67",
   "metadata": {},
   "outputs": [],
   "source": [
    "optimizer = torch.optim.AdamW(model.parameters(), lr=0.01)"
   ]
  },
  {
   "cell_type": "code",
   "execution_count": 149,
   "id": "3fda57be-f914-4822-b681-f613ba7b11b2",
   "metadata": {},
   "outputs": [],
   "source": [
    "loss_func = torch.nn.MSELoss()"
   ]
  },
  {
   "cell_type": "markdown",
   "id": "10d1d174-8dce-42c6-9d24-40956ff633ac",
   "metadata": {
    "tags": []
   },
   "source": [
    "#### Find LR"
   ]
  },
  {
   "cell_type": "code",
   "execution_count": 150,
   "id": "868b12f9-7a9f-4514-ad13-c91ead27cdc2",
   "metadata": {},
   "outputs": [],
   "source": [
    "from torch_lr_finder.lr_finder import TrainDataLoaderIter"
   ]
  },
  {
   "cell_type": "code",
   "execution_count": 151,
   "id": "f0447003-dd8c-4a13-a349-f9476ccf5a66",
   "metadata": {},
   "outputs": [],
   "source": [
    "class CustomTrainIter(TrainDataLoaderIter):\n",
    "    def inputs_labels_from_batch(self, batch_data):\n",
    "        return (torch.as_tensor(batch_data['image'], dtype=torch.float), \n",
    "                torch.as_tensor(torch.stack((batch_data['P'], batch_data['K'], batch_data['Mg'], batch_data['pH'])).transpose(0,1), dtype=torch.float))"
   ]
  },
  {
   "cell_type": "code",
   "execution_count": 152,
   "id": "eb184931-2a07-41b4-a17c-b35f8bcc16f3",
   "metadata": {},
   "outputs": [
    {
     "data": {
      "application/vnd.jupyter.widget-view+json": {
       "model_id": "6f73caff42d544f0bfea37d8c436e73f",
       "version_major": 2,
       "version_minor": 0
      },
      "text/plain": [
       "  0%|          | 0/100 [00:00<?, ?it/s]"
      ]
     },
     "metadata": {},
     "output_type": "display_data"
    },
    {
     "name": "stdout",
     "output_type": "stream",
     "text": [
      "Stopping early, the loss has diverged\n",
      "Learning rate search finished. See the graph with {finder_name}.plot()\n"
     ]
    }
   ],
   "source": [
    "lr_finder = LRFinder(model, optimizer, loss_func, device=device)\n",
    "lr_finder.range_test(CustomTrainIter(train_dataloader), start_lr=0.00001, end_lr=100, num_iter=100)"
   ]
  },
  {
   "cell_type": "code",
   "execution_count": 153,
   "id": "647f2f4e-d144-485d-92b3-b1e7914ab310",
   "metadata": {},
   "outputs": [
    {
     "name": "stdout",
     "output_type": "stream",
     "text": [
      "LR suggestion: steepest gradient\n",
      "Suggested LR: 5.72E-03\n"
     ]
    },
    {
     "data": {
      "image/png": "[encoded data removed]",
      "text/plain": [
       "<Figure size 432x288 with 1 Axes>"
      ]
     },
     "metadata": {
      "needs_background": "light"
     },
     "output_type": "display_data"
    }
   ],
   "source": [
    "lr_finder.plot()\n",
    "lr_finder.reset()"
   ]
  },
  {
   "cell_type": "code",
   "execution_count": 159,
   "id": "ee758767-7e7c-410b-92a3-1b0b719a392c",
   "metadata": {},
   "outputs": [
    {
     "data": {
      "text/plain": [
       "0.00572"
      ]
     },
     "execution_count": 159,
     "metadata": {},
     "output_type": "execute_result"
    }
   ],
   "source": [
    "5.72E-03"
   ]
  },
  {
   "cell_type": "markdown",
   "id": "257faf31-7f43-406f-a382-d997f0bb5cb6",
   "metadata": {
    "tags": []
   },
   "source": [
    "#### Continue training"
   ]
  },
  {
   "cell_type": "code",
   "execution_count": 160,
   "id": "ea4809cc-4fe1-4db7-9ade-872ce437a65d",
   "metadata": {},
   "outputs": [],
   "source": [
    "patience_scheduler_overfit = 5\n",
    "scheduler = torch.optim.lr_scheduler.ReduceLROnPlateau(optimizer=optimizer, mode='min',\n",
    "                                                       factor=0.6, patience = patience_scheduler_overfit,\n",
    "                                                       threshold=0.0001, threshold_mode='abs')"
   ]
  },
  {
   "cell_type": "code",
   "execution_count": 161,
   "id": "496f6681-41b1-4382-9b15-34ef4c69e670",
   "metadata": {},
   "outputs": [],
   "source": [
    "early_stopping = utils.EarlyStopping(patience=(2*patience_scheduler_overfit)+3, verbose=True,\n",
    "                               path=os.path.join(saved_models_directory, 'checkpoint_state_dict.pth'))"
   ]
  },
  {
   "cell_type": "code",
   "execution_count": 162,
   "id": "d7afd373-eeb3-4e78-9bc0-51be9fded852",
   "metadata": {},
   "outputs": [],
   "source": [
    "config = wandb.config\n",
    "config.model = 'resnet50'\n",
    "config.optimizer =  'AdamW'\n",
    "config.learning_rate_start = optimizer.param_groups[0][\"lr\"]\n",
    "# config.momentum = optimizer.param_groups[0][\"momentum\"]\n",
    "config.momentum = None\n",
    "config.weight_decay = optimizer.param_groups[0][\"weight_decay\"]\n",
    "config.scheduler =  'ReduceLROnPlateau'\n",
    "config.scheduler_factor =  0.6\n",
    "config.scheduler_patience =  5\n",
    "config.scheduler_threshold =  0.0001\n",
    "config.batch_size = BATCH_SIZE\n",
    "config.notes = 'Proper data after mask fix.'"
   ]
  },
  {
   "cell_type": "code",
   "execution_count": 163,
   "id": "6a22f51e-eb05-466e-9632-4ddfba9d6ad6",
   "metadata": {},
   "outputs": [],
   "source": [
    "previous_epochs = 0 # how many epochs have been done previously if resuming"
   ]
  },
  {
   "cell_type": "code",
   "execution_count": 164,
   "id": "7233ac28-6fdf-42e7-99e8-8843964e15c6",
   "metadata": {
    "tags": []
   },
   "outputs": [
    {
     "data": {
      "application/vnd.jupyter.widget-view+json": {
       "model_id": "",
       "version_major": 2,
       "version_minor": 0
      },
      "text/plain": [
       "epoch 0 training data:   0%|          | 0/116 [00:00<?, ?it/s]"
      ]
     },
     "metadata": {},
     "output_type": "display_data"
    },
    {
     "name": "stdout",
     "output_type": "stream",
     "text": [
      "epoch: 0, LR: 0.01, train loss: 2352.13720703125, train MSE: [1261.6715087890625, 5669.75732421875, 2468.3291015625, 8.790243148803711]\n"
     ]
    },
    {
     "data": {
      "application/vnd.jupyter.widget-view+json": {
       "model_id": "",
       "version_major": 2,
       "version_minor": 0
      },
      "text/plain": [
       "epoch 0 validation data:   0%|          | 0/27 [00:00<?, ?it/s]"
      ]
     },
     "metadata": {},
     "output_type": "display_data"
    },
    {
     "name": "stdout",
     "output_type": "stream",
     "text": [
      "epoch: 0, validation loss: 1333.250244140625, validation MSE: [769.3485107421875, 3222.719970703125, 1340.70263671875, 0.2294091135263443]\n",
      "Validation loss decreased (inf --> 1333.250244).  Saving model ...\n"
     ]
    },
    {
     "data": {
      "application/vnd.jupyter.widget-view+json": {
       "model_id": "",
       "version_major": 2,
       "version_minor": 0
      },
      "text/plain": [
       "epoch 1 training data:   0%|          | 0/116 [00:00<?, ?it/s]"
      ]
     },
     "metadata": {},
     "output_type": "display_data"
    },
    {
     "name": "stdout",
     "output_type": "stream",
     "text": [
      "epoch: 1, LR: 0.01, train loss: 1691.8419189453125, train MSE: [968.7906494140625, 4048.744873046875, 1749.6241455078125, 0.2078319638967514]\n"
     ]
    },
    {
     "data": {
      "application/vnd.jupyter.widget-view+json": {
       "model_id": "",
       "version_major": 2,
       "version_minor": 0
      },
      "text/plain": [
       "epoch 1 validation data:   0%|          | 0/27 [00:00<?, ?it/s]"
      ]
     },
     "metadata": {},
     "output_type": "display_data"
    },
    {
     "name": "stdout",
     "output_type": "stream",
     "text": [
      "epoch: 1, validation loss: 1287.188720703125, validation MSE: [719.584716796875, 3031.2412109375, 1397.7137451171875, 0.21445401012897491]\n",
      "Validation loss decreased (1333.250244 --> 1287.188721).  Saving model ...\n"
     ]
    },
    {
     "data": {
      "application/vnd.jupyter.widget-view+json": {
       "model_id": "",
       "version_major": 2,
       "version_minor": 0
      },
      "text/plain": [
       "epoch 2 training data:   0%|          | 0/116 [00:00<?, ?it/s]"
      ]
     },
     "metadata": {},
     "output_type": "display_data"
    },
    {
     "name": "stdout",
     "output_type": "stream",
     "text": [
      "epoch: 2, LR: 0.01, train loss: 1686.92822265625, train MSE: [975.2186889648438, 4018.952392578125, 1753.2928466796875, 0.24862141907215118]\n"
     ]
    },
    {
     "data": {
      "application/vnd.jupyter.widget-view+json": {
       "model_id": "",
       "version_major": 2,
       "version_minor": 0
      },
      "text/plain": [
       "epoch 2 validation data:   0%|          | 0/27 [00:00<?, ?it/s]"
      ]
     },
     "metadata": {},
     "output_type": "display_data"
    },
    {
     "name": "stdout",
     "output_type": "stream",
     "text": [
      "epoch: 2, validation loss: 1290.2958984375, validation MSE: [700.6502685546875, 3055.86572265625, 1404.586669921875, 0.08123062551021576]\n",
      "EarlyStopping counter: 1 out of 13\n"
     ]
    },
    {
     "data": {
      "application/vnd.jupyter.widget-view+json": {
       "model_id": "",
       "version_major": 2,
       "version_minor": 0
      },
      "text/plain": [
       "epoch 3 training data:   0%|          | 0/116 [00:00<?, ?it/s]"
      ]
     },
     "metadata": {},
     "output_type": "display_data"
    },
    {
     "name": "stdout",
     "output_type": "stream",
     "text": [
      "epoch: 3, LR: 0.01, train loss: 1663.1783447265625, train MSE: [968.4693603515625, 3951.222412109375, 1732.8111572265625, 0.2103593498468399]\n"
     ]
    },
    {
     "data": {
      "application/vnd.jupyter.widget-view+json": {
       "model_id": "",
       "version_major": 2,
       "version_minor": 0
      },
      "text/plain": [
       "epoch 3 validation data:   0%|          | 0/27 [00:00<?, ?it/s]"
      ]
     },
     "metadata": {},
     "output_type": "display_data"
    },
    {
     "name": "stdout",
     "output_type": "stream",
     "text": [
      "epoch: 3, validation loss: 1336.8118896484375, validation MSE: [731.475830078125, 3240.045166015625, 1375.6241455078125, 0.10261306166648865]\n",
      "EarlyStopping counter: 2 out of 13\n"
     ]
    },
    {
     "data": {
      "application/vnd.jupyter.widget-view+json": {
       "model_id": "",
       "version_major": 2,
       "version_minor": 0
      },
      "text/plain": [
       "epoch 4 training data:   0%|          | 0/116 [00:00<?, ?it/s]"
      ]
     },
     "metadata": {},
     "output_type": "display_data"
    },
    {
     "name": "stdout",
     "output_type": "stream",
     "text": [
      "epoch: 4, LR: 0.01, train loss: 1669.5994873046875, train MSE: [976.012939453125, 3985.872802734375, 1716.2921142578125, 0.22028516232967377]\n"
     ]
    },
    {
     "data": {
      "application/vnd.jupyter.widget-view+json": {
       "model_id": "",
       "version_major": 2,
       "version_minor": 0
      },
      "text/plain": [
       "epoch 4 validation data:   0%|          | 0/27 [00:00<?, ?it/s]"
      ]
     },
     "metadata": {},
     "output_type": "display_data"
    },
    {
     "name": "stdout",
     "output_type": "stream",
     "text": [
      "epoch: 4, validation loss: 1337.4429931640625, validation MSE: [732.0747680664062, 3272.560791015625, 1344.2860107421875, 0.8504877686500549]\n",
      "EarlyStopping counter: 3 out of 13\n"
     ]
    },
    {
     "data": {
      "application/vnd.jupyter.widget-view+json": {
       "model_id": "",
       "version_major": 2,
       "version_minor": 0
      },
      "text/plain": [
       "epoch 5 training data:   0%|          | 0/116 [00:00<?, ?it/s]"
      ]
     },
     "metadata": {},
     "output_type": "display_data"
    },
    {
     "name": "stdout",
     "output_type": "stream",
     "text": [
      "epoch: 5, LR: 0.01, train loss: 1653.4881591796875, train MSE: [966.8953247070312, 3935.003662109375, 1711.8359375, 0.21708150207996368]\n"
     ]
    },
    {
     "data": {
      "application/vnd.jupyter.widget-view+json": {
       "model_id": "",
       "version_major": 2,
       "version_minor": 0
      },
      "text/plain": [
       "epoch 5 validation data:   0%|          | 0/27 [00:00<?, ?it/s]"
      ]
     },
     "metadata": {},
     "output_type": "display_data"
    },
    {
     "name": "stdout",
     "output_type": "stream",
     "text": [
      "epoch: 5, validation loss: 1285.1861572265625, validation MSE: [717.40478515625, 3097.567138671875, 1325.5335693359375, 0.23901861906051636]\n",
      "Validation loss decreased (1287.188721 --> 1285.186157).  Saving model ...\n"
     ]
    },
    {
     "data": {
      "application/vnd.jupyter.widget-view+json": {
       "model_id": "",
       "version_major": 2,
       "version_minor": 0
      },
      "text/plain": [
       "epoch 6 training data:   0%|          | 0/116 [00:00<?, ?it/s]"
      ]
     },
     "metadata": {},
     "output_type": "display_data"
    },
    {
     "name": "stdout",
     "output_type": "stream",
     "text": [
      "epoch: 6, LR: 0.01, train loss: 1660.7659912109375, train MSE: [966.1392822265625, 3964.494140625, 1712.2503662109375, 0.18026621639728546]\n"
     ]
    },
    {
     "data": {
      "application/vnd.jupyter.widget-view+json": {
       "model_id": "",
       "version_major": 2,
       "version_minor": 0
      },
      "text/plain": [
       "epoch 6 validation data:   0%|          | 0/27 [00:00<?, ?it/s]"
      ]
     },
     "metadata": {},
     "output_type": "display_data"
    },
    {
     "name": "stdout",
     "output_type": "stream",
     "text": [
      "epoch: 6, validation loss: 1233.187744140625, validation MSE: [670.3176879882812, 2945.075439453125, 1317.2734375, 0.08446202427148819]\n",
      "Validation loss decreased (1285.186157 --> 1233.187744).  Saving model ...\n"
     ]
    },
    {
     "data": {
      "application/vnd.jupyter.widget-view+json": {
       "model_id": "",
       "version_major": 2,
       "version_minor": 0
      },
      "text/plain": [
       "epoch 7 training data:   0%|          | 0/116 [00:00<?, ?it/s]"
      ]
     },
     "metadata": {},
     "output_type": "display_data"
    },
    {
     "name": "stdout",
     "output_type": "stream",
     "text": [
      "epoch: 7, LR: 0.01, train loss: 1657.4189453125, train MSE: [961.7968139648438, 3967.525146484375, 1700.1976318359375, 0.15603843331336975]\n"
     ]
    },
    {
     "data": {
      "application/vnd.jupyter.widget-view+json": {
       "model_id": "",
       "version_major": 2,
       "version_minor": 0
      },
      "text/plain": [
       "epoch 7 validation data:   0%|          | 0/27 [00:00<?, ?it/s]"
      ]
     },
     "metadata": {},
     "output_type": "display_data"
    },
    {
     "name": "stdout",
     "output_type": "stream",
     "text": [
      "epoch: 7, validation loss: 1421.9063720703125, validation MSE: [748.330810546875, 3600.630126953125, 1338.3531494140625, 0.3113895058631897]\n",
      "EarlyStopping counter: 1 out of 13\n"
     ]
    },
    {
     "data": {
      "application/vnd.jupyter.widget-view+json": {
       "model_id": "",
       "version_major": 2,
       "version_minor": 0
      },
      "text/plain": [
       "epoch 8 training data:   0%|          | 0/116 [00:00<?, ?it/s]"
      ]
     },
     "metadata": {},
     "output_type": "display_data"
    },
    {
     "name": "stdout",
     "output_type": "stream",
     "text": [
      "epoch: 8, LR: 0.01, train loss: 1667.83740234375, train MSE: [960.1514282226562, 4028.1904296875, 1682.8631591796875, 0.14452289044857025]\n"
     ]
    },
    {
     "data": {
      "application/vnd.jupyter.widget-view+json": {
       "model_id": "",
       "version_major": 2,
       "version_minor": 0
      },
      "text/plain": [
       "epoch 8 validation data:   0%|          | 0/27 [00:00<?, ?it/s]"
      ]
     },
     "metadata": {},
     "output_type": "display_data"
    },
    {
     "name": "stdout",
     "output_type": "stream",
     "text": [
      "epoch: 8, validation loss: 1264.946533203125, validation MSE: [663.300048828125, 3076.644775390625, 1319.7833251953125, 0.05840365216135979]\n",
      "EarlyStopping counter: 2 out of 13\n"
     ]
    },
    {
     "data": {
      "application/vnd.jupyter.widget-view+json": {
       "model_id": "",
       "version_major": 2,
       "version_minor": 0
      },
      "text/plain": [
       "epoch 9 training data:   0%|          | 0/116 [00:00<?, ?it/s]"
      ]
     },
     "metadata": {},
     "output_type": "display_data"
    },
    {
     "name": "stdout",
     "output_type": "stream",
     "text": [
      "epoch: 9, LR: 0.01, train loss: 1646.0875244140625, train MSE: [955.1336059570312, 3929.36962890625, 1699.69580078125, 0.1513826549053192]\n"
     ]
    },
    {
     "data": {
      "application/vnd.jupyter.widget-view+json": {
       "model_id": "",
       "version_major": 2,
       "version_minor": 0
      },
      "text/plain": [
       "epoch 9 validation data:   0%|          | 0/27 [00:00<?, ?it/s]"
      ]
     },
     "metadata": {},
     "output_type": "display_data"
    },
    {
     "name": "stdout",
     "output_type": "stream",
     "text": [
      "epoch: 9, validation loss: 1277.02978515625, validation MSE: [670.6549682617188, 3090.064208984375, 1347.239990234375, 0.16005955636501312]\n",
      "EarlyStopping counter: 3 out of 13\n"
     ]
    },
    {
     "data": {
      "application/vnd.jupyter.widget-view+json": {
       "model_id": "",
       "version_major": 2,
       "version_minor": 0
      },
      "text/plain": [
       "epoch 10 training data:   0%|          | 0/116 [00:00<?, ?it/s]"
      ]
     },
     "metadata": {},
     "output_type": "display_data"
    },
    {
     "name": "stdout",
     "output_type": "stream",
     "text": [
      "epoch: 10, LR: 0.01, train loss: 1668.0684814453125, train MSE: [955.2772827148438, 4025.9833984375, 1690.87841796875, 0.1336018443107605]\n"
     ]
    },
    {
     "data": {
      "application/vnd.jupyter.widget-view+json": {
       "model_id": "",
       "version_major": 2,
       "version_minor": 0
      },
      "text/plain": [
       "epoch 10 validation data:   0%|          | 0/27 [00:00<?, ?it/s]"
      ]
     },
     "metadata": {},
     "output_type": "display_data"
    },
    {
     "name": "stdout",
     "output_type": "stream",
     "text": [
      "epoch: 10, validation loss: 1289.0543212890625, validation MSE: [675.443603515625, 3139.392333984375, 1341.28759765625, 0.0936574786901474]\n",
      "EarlyStopping counter: 4 out of 13\n"
     ]
    },
    {
     "data": {
      "application/vnd.jupyter.widget-view+json": {
       "model_id": "",
       "version_major": 2,
       "version_minor": 0
      },
      "text/plain": [
       "epoch 11 training data:   0%|          | 0/116 [00:00<?, ?it/s]"
      ]
     },
     "metadata": {},
     "output_type": "display_data"
    },
    {
     "name": "stdout",
     "output_type": "stream",
     "text": [
      "epoch: 11, LR: 0.01, train loss: 1657.13916015625, train MSE: [953.1100463867188, 3981.502197265625, 1693.8182373046875, 0.1266758292913437]\n"
     ]
    },
    {
     "data": {
      "application/vnd.jupyter.widget-view+json": {
       "model_id": "",
       "version_major": 2,
       "version_minor": 0
      },
      "text/plain": [
       "epoch 11 validation data:   0%|          | 0/27 [00:00<?, ?it/s]"
      ]
     },
     "metadata": {},
     "output_type": "display_data"
    },
    {
     "name": "stdout",
     "output_type": "stream",
     "text": [
      "epoch: 11, validation loss: 1269.7091064453125, validation MSE: [664.2022094726562, 3062.88720703125, 1351.676513671875, 0.07017318159341812]\n",
      "EarlyStopping counter: 5 out of 13\n"
     ]
    },
    {
     "data": {
      "application/vnd.jupyter.widget-view+json": {
       "model_id": "",
       "version_major": 2,
       "version_minor": 0
      },
      "text/plain": [
       "epoch 12 training data:   0%|          | 0/116 [00:00<?, ?it/s]"
      ]
     },
     "metadata": {},
     "output_type": "display_data"
    },
    {
     "name": "stdout",
     "output_type": "stream",
     "text": [
      "epoch: 12, LR: 0.01, train loss: 1682.3865966796875, train MSE: [958.661865234375, 4043.82275390625, 1726.9169921875, 0.14439551532268524]\n"
     ]
    },
    {
     "data": {
      "application/vnd.jupyter.widget-view+json": {
       "model_id": "",
       "version_major": 2,
       "version_minor": 0
      },
      "text/plain": [
       "epoch 12 validation data:   0%|          | 0/27 [00:00<?, ?it/s]"
      ]
     },
     "metadata": {},
     "output_type": "display_data"
    },
    {
     "name": "stdout",
     "output_type": "stream",
     "text": [
      "epoch: 12, validation loss: 1306.6318359375, validation MSE: [648.1227416992188, 3224.12353515625, 1354.207763671875, 0.072532519698143]\n",
      "EarlyStopping counter: 6 out of 13\n"
     ]
    },
    {
     "data": {
      "application/vnd.jupyter.widget-view+json": {
       "model_id": "",
       "version_major": 2,
       "version_minor": 0
      },
      "text/plain": [
       "epoch 13 training data:   0%|          | 0/116 [00:00<?, ?it/s]"
      ]
     },
     "metadata": {},
     "output_type": "display_data"
    },
    {
     "name": "stdout",
     "output_type": "stream",
     "text": [
      "epoch: 13, LR: 0.006, train loss: 1645.427490234375, train MSE: [953.0899047851562, 3978.76123046875, 1649.7413330078125, 0.11693118512630463]\n"
     ]
    },
    {
     "data": {
      "application/vnd.jupyter.widget-view+json": {
       "model_id": "",
       "version_major": 2,
       "version_minor": 0
      },
      "text/plain": [
       "epoch 13 validation data:   0%|          | 0/27 [00:00<?, ?it/s]"
      ]
     },
     "metadata": {},
     "output_type": "display_data"
    },
    {
     "name": "stdout",
     "output_type": "stream",
     "text": [
      "epoch: 13, validation loss: 1295.36181640625, validation MSE: [695.3027954101562, 3056.420166015625, 1429.6290283203125, 0.09489035606384277]\n",
      "EarlyStopping counter: 7 out of 13\n"
     ]
    },
    {
     "data": {
      "application/vnd.jupyter.widget-view+json": {
       "model_id": "",
       "version_major": 2,
       "version_minor": 0
      },
      "text/plain": [
       "epoch 14 training data:   0%|          | 0/116 [00:00<?, ?it/s]"
      ]
     },
     "metadata": {},
     "output_type": "display_data"
    },
    {
     "name": "stdout",
     "output_type": "stream",
     "text": [
      "epoch: 14, LR: 0.006, train loss: 1625.4053955078125, train MSE: [954.7317504882812, 3899.478759765625, 1647.27587890625, 0.13506615161895752]\n"
     ]
    },
    {
     "data": {
      "application/vnd.jupyter.widget-view+json": {
       "model_id": "",
       "version_major": 2,
       "version_minor": 0
      },
      "text/plain": [
       "epoch 14 validation data:   0%|          | 0/27 [00:00<?, ?it/s]"
      ]
     },
     "metadata": {},
     "output_type": "display_data"
    },
    {
     "name": "stdout",
     "output_type": "stream",
     "text": [
      "epoch: 14, validation loss: 1257.7913818359375, validation MSE: [682.1640014648438, 2971.344970703125, 1377.589599609375, 0.06669551134109497]\n",
      "EarlyStopping counter: 8 out of 13\n"
     ]
    },
    {
     "data": {
      "application/vnd.jupyter.widget-view+json": {
       "model_id": "",
       "version_major": 2,
       "version_minor": 0
      },
      "text/plain": [
       "epoch 15 training data:   0%|          | 0/116 [00:00<?, ?it/s]"
      ]
     },
     "metadata": {},
     "output_type": "display_data"
    },
    {
     "name": "stdout",
     "output_type": "stream",
     "text": [
      "epoch: 15, LR: 0.006, train loss: 1618.994873046875, train MSE: [955.1139526367188, 3868.917236328125, 1651.8179931640625, 0.1297910511493683]\n"
     ]
    },
    {
     "data": {
      "application/vnd.jupyter.widget-view+json": {
       "model_id": "",
       "version_major": 2,
       "version_minor": 0
      },
      "text/plain": [
       "epoch 15 validation data:   0%|          | 0/27 [00:00<?, ?it/s]"
      ]
     },
     "metadata": {},
     "output_type": "display_data"
    },
    {
     "name": "stdout",
     "output_type": "stream",
     "text": [
      "epoch: 15, validation loss: 1267.3302001953125, validation MSE: [700.2847290039062, 3012.2841796875, 1356.56103515625, 0.19087950885295868]\n",
      "EarlyStopping counter: 9 out of 13\n"
     ]
    },
    {
     "data": {
      "application/vnd.jupyter.widget-view+json": {
       "model_id": "",
       "version_major": 2,
       "version_minor": 0
      },
      "text/plain": [
       "epoch 16 training data:   0%|          | 0/116 [00:00<?, ?it/s]"
      ]
     },
     "metadata": {},
     "output_type": "display_data"
    },
    {
     "name": "stdout",
     "output_type": "stream",
     "text": [
      "epoch: 16, LR: 0.006, train loss: 1621.462158203125, train MSE: [954.248046875, 3875.5390625, 1655.9349365234375, 0.12669628858566284]\n"
     ]
    },
    {
     "data": {
      "application/vnd.jupyter.widget-view+json": {
       "model_id": "",
       "version_major": 2,
       "version_minor": 0
      },
      "text/plain": [
       "epoch 16 validation data:   0%|          | 0/27 [00:00<?, ?it/s]"
      ]
     },
     "metadata": {},
     "output_type": "display_data"
    },
    {
     "name": "stdout",
     "output_type": "stream",
     "text": [
      "epoch: 16, validation loss: 1272.2257080078125, validation MSE: [693.6165161132812, 3091.166015625, 1303.9974365234375, 0.12283606082201004]\n",
      "EarlyStopping counter: 10 out of 13\n"
     ]
    },
    {
     "data": {
      "application/vnd.jupyter.widget-view+json": {
       "model_id": "",
       "version_major": 2,
       "version_minor": 0
      },
      "text/plain": [
       "epoch 17 training data:   0%|          | 0/116 [00:00<?, ?it/s]"
      ]
     },
     "metadata": {},
     "output_type": "display_data"
    },
    {
     "name": "stdout",
     "output_type": "stream",
     "text": [
      "epoch: 17, LR: 0.006, train loss: 1601.8980712890625, train MSE: [954.397216796875, 3810.50146484375, 1642.5447998046875, 0.14878879487514496]\n"
     ]
    },
    {
     "data": {
      "application/vnd.jupyter.widget-view+json": {
       "model_id": "",
       "version_major": 2,
       "version_minor": 0
      },
      "text/plain": [
       "epoch 17 validation data:   0%|          | 0/27 [00:00<?, ?it/s]"
      ]
     },
     "metadata": {},
     "output_type": "display_data"
    },
    {
     "name": "stdout",
     "output_type": "stream",
     "text": [
      "epoch: 17, validation loss: 1271.6988525390625, validation MSE: [717.912353515625, 3036.130126953125, 1332.4716796875, 0.2807098627090454]\n",
      "EarlyStopping counter: 11 out of 13\n"
     ]
    },
    {
     "data": {
      "application/vnd.jupyter.widget-view+json": {
       "model_id": "",
       "version_major": 2,
       "version_minor": 0
      },
      "text/plain": [
       "epoch 18 training data:   0%|          | 0/116 [00:00<?, ?it/s]"
      ]
     },
     "metadata": {},
     "output_type": "display_data"
    },
    {
     "name": "stdout",
     "output_type": "stream",
     "text": [
      "epoch: 18, LR: 0.006, train loss: 1601.610595703125, train MSE: [955.5186157226562, 3815.363525390625, 1635.396240234375, 0.16337120532989502]\n"
     ]
    },
    {
     "data": {
      "application/vnd.jupyter.widget-view+json": {
       "model_id": "",
       "version_major": 2,
       "version_minor": 0
      },
      "text/plain": [
       "epoch 18 validation data:   0%|          | 0/27 [00:00<?, ?it/s]"
      ]
     },
     "metadata": {},
     "output_type": "display_data"
    },
    {
     "name": "stdout",
     "output_type": "stream",
     "text": [
      "epoch: 18, validation loss: 1261.474853515625, validation MSE: [709.9757690429688, 3020.994140625, 1314.5147705078125, 0.41387706995010376]\n",
      "EarlyStopping counter: 12 out of 13\n"
     ]
    },
    {
     "data": {
      "application/vnd.jupyter.widget-view+json": {
       "model_id": "",
       "version_major": 2,
       "version_minor": 0
      },
      "text/plain": [
       "epoch 19 training data:   0%|          | 0/116 [00:00<?, ?it/s]"
      ]
     },
     "metadata": {},
     "output_type": "display_data"
    },
    {
     "name": "stdout",
     "output_type": "stream",
     "text": [
      "epoch: 19, LR: 0.0036, train loss: 1575.36181640625, train MSE: [944.8683471679688, 3754.9970703125, 1601.481689453125, 0.1004665344953537]\n"
     ]
    },
    {
     "data": {
      "application/vnd.jupyter.widget-view+json": {
       "model_id": "",
       "version_major": 2,
       "version_minor": 0
      },
      "text/plain": [
       "epoch 19 validation data:   0%|          | 0/27 [00:00<?, ?it/s]"
      ]
     },
     "metadata": {},
     "output_type": "display_data"
    },
    {
     "name": "stdout",
     "output_type": "stream",
     "text": [
      "epoch: 19, validation loss: 1214.8646240234375, validation MSE: [645.1286010742188, 2953.661865234375, 1260.5650634765625, 0.10222142189741135]\n",
      "Validation loss decreased (1233.187744 --> 1214.864624).  Saving model ...\n"
     ]
    },
    {
     "data": {
      "application/vnd.jupyter.widget-view+json": {
       "model_id": "",
       "version_major": 2,
       "version_minor": 0
      },
      "text/plain": [
       "epoch 20 training data:   0%|          | 0/116 [00:00<?, ?it/s]"
      ]
     },
     "metadata": {},
     "output_type": "display_data"
    },
    {
     "name": "stdout",
     "output_type": "stream",
     "text": [
      "epoch: 20, LR: 0.0036, train loss: 1566.8211669921875, train MSE: [947.2327880859375, 3720.421630859375, 1599.5374755859375, 0.09280414879322052]\n"
     ]
    },
    {
     "data": {
      "application/vnd.jupyter.widget-view+json": {
       "model_id": "",
       "version_major": 2,
       "version_minor": 0
      },
      "text/plain": [
       "epoch 20 validation data:   0%|          | 0/27 [00:00<?, ?it/s]"
      ]
     },
     "metadata": {},
     "output_type": "display_data"
    },
    {
     "name": "stdout",
     "output_type": "stream",
     "text": [
      "epoch: 20, validation loss: 1210.374755859375, validation MSE: [644.8843994140625, 2959.163818359375, 1237.30615234375, 0.14462944865226746]\n",
      "Validation loss decreased (1214.864624 --> 1210.374756).  Saving model ...\n"
     ]
    },
    {
     "data": {
      "application/vnd.jupyter.widget-view+json": {
       "model_id": "",
       "version_major": 2,
       "version_minor": 0
      },
      "text/plain": [
       "epoch 21 training data:   0%|          | 0/116 [00:00<?, ?it/s]"
      ]
     },
     "metadata": {},
     "output_type": "display_data"
    },
    {
     "name": "stdout",
     "output_type": "stream",
     "text": [
      "epoch: 21, LR: 0.0036, train loss: 1561.4796142578125, train MSE: [947.2655639648438, 3702.5205078125, 1596.0389404296875, 0.09428135305643082]\n"
     ]
    },
    {
     "data": {
      "application/vnd.jupyter.widget-view+json": {
       "model_id": "",
       "version_major": 2,
       "version_minor": 0
      },
      "text/plain": [
       "epoch 21 validation data:   0%|          | 0/27 [00:00<?, ?it/s]"
      ]
     },
     "metadata": {},
     "output_type": "display_data"
    },
    {
     "name": "stdout",
     "output_type": "stream",
     "text": [
      "epoch: 21, validation loss: 1208.0177001953125, validation MSE: [641.0042114257812, 2954.034423828125, 1236.7763671875, 0.255556583404541]\n",
      "Validation loss decreased (1210.374756 --> 1208.017700).  Saving model ...\n"
     ]
    },
    {
     "data": {
      "application/vnd.jupyter.widget-view+json": {
       "model_id": "",
       "version_major": 2,
       "version_minor": 0
      },
      "text/plain": [
       "epoch 22 training data:   0%|          | 0/116 [00:00<?, ?it/s]"
      ]
     },
     "metadata": {},
     "output_type": "display_data"
    },
    {
     "name": "stdout",
     "output_type": "stream",
     "text": [
      "epoch: 22, LR: 0.0036, train loss: 1539.0662841796875, train MSE: [946.2610473632812, 3636.7744140625, 1573.130126953125, 0.09920032322406769]\n"
     ]
    },
    {
     "data": {
      "application/vnd.jupyter.widget-view+json": {
       "model_id": "",
       "version_major": 2,
       "version_minor": 0
      },
      "text/plain": [
       "epoch 22 validation data:   0%|          | 0/27 [00:00<?, ?it/s]"
      ]
     },
     "metadata": {},
     "output_type": "display_data"
    },
    {
     "name": "stdout",
     "output_type": "stream",
     "text": [
      "epoch: 22, validation loss: 1212.5400390625, validation MSE: [647.9447631835938, 2977.932861328125, 1224.1339111328125, 0.14856091141700745]\n",
      "EarlyStopping counter: 1 out of 13\n"
     ]
    },
    {
     "data": {
      "application/vnd.jupyter.widget-view+json": {
       "model_id": "",
       "version_major": 2,
       "version_minor": 0
      },
      "text/plain": [
       "epoch 23 training data:   0%|          | 0/116 [00:00<?, ?it/s]"
      ]
     },
     "metadata": {},
     "output_type": "display_data"
    },
    {
     "name": "stdout",
     "output_type": "stream",
     "text": [
      "epoch: 23, LR: 0.0036, train loss: 1531.276611328125, train MSE: [943.5814819335938, 3613.626953125, 1567.804931640625, 0.09291034191846848]\n"
     ]
    },
    {
     "data": {
      "application/vnd.jupyter.widget-view+json": {
       "model_id": "",
       "version_major": 2,
       "version_minor": 0
      },
      "text/plain": [
       "epoch 23 validation data:   0%|          | 0/27 [00:00<?, ?it/s]"
      ]
     },
     "metadata": {},
     "output_type": "display_data"
    },
    {
     "name": "stdout",
     "output_type": "stream",
     "text": [
      "epoch: 23, validation loss: 1236.26611328125, validation MSE: [644.763916015625, 2966.854248046875, 1333.2205810546875, 0.22485503554344177]\n",
      "EarlyStopping counter: 2 out of 13\n"
     ]
    },
    {
     "data": {
      "application/vnd.jupyter.widget-view+json": {
       "model_id": "",
       "version_major": 2,
       "version_minor": 0
      },
      "text/plain": [
       "epoch 24 training data:   0%|          | 0/116 [00:00<?, ?it/s]"
      ]
     },
     "metadata": {},
     "output_type": "display_data"
    },
    {
     "name": "stdout",
     "output_type": "stream",
     "text": [
      "epoch: 24, LR: 0.0036, train loss: 1539.755126953125, train MSE: [943.7759399414062, 3638.77880859375, 1576.36083984375, 0.10546642541885376]\n"
     ]
    },
    {
     "data": {
      "application/vnd.jupyter.widget-view+json": {
       "model_id": "",
       "version_major": 2,
       "version_minor": 0
      },
      "text/plain": [
       "epoch 24 validation data:   0%|          | 0/27 [00:00<?, ?it/s]"
      ]
     },
     "metadata": {},
     "output_type": "display_data"
    },
    {
     "name": "stdout",
     "output_type": "stream",
     "text": [
      "epoch: 24, validation loss: 1176.779541015625, validation MSE: [644.442138671875, 2816.679443359375, 1245.76025390625, 0.23619873821735382]\n",
      "Validation loss decreased (1208.017700 --> 1176.779541).  Saving model ...\n"
     ]
    },
    {
     "data": {
      "application/vnd.jupyter.widget-view+json": {
       "model_id": "",
       "version_major": 2,
       "version_minor": 0
      },
      "text/plain": [
       "epoch 25 training data:   0%|          | 0/116 [00:00<?, ?it/s]"
      ]
     },
     "metadata": {},
     "output_type": "display_data"
    },
    {
     "name": "stdout",
     "output_type": "stream",
     "text": [
      "epoch: 25, LR: 0.0036, train loss: 1524.4935302734375, train MSE: [943.5654907226562, 3579.71826171875, 1574.57568359375, 0.11524509638547897]\n"
     ]
    },
    {
     "data": {
      "application/vnd.jupyter.widget-view+json": {
       "model_id": "",
       "version_major": 2,
       "version_minor": 0
      },
      "text/plain": [
       "epoch 25 validation data:   0%|          | 0/27 [00:00<?, ?it/s]"
      ]
     },
     "metadata": {},
     "output_type": "display_data"
    },
    {
     "name": "stdout",
     "output_type": "stream",
     "text": [
      "epoch: 25, validation loss: 1222.13818359375, validation MSE: [644.1543579101562, 3036.573974609375, 1207.6334228515625, 0.19053614139556885]\n",
      "EarlyStopping counter: 1 out of 13\n"
     ]
    },
    {
     "data": {
      "application/vnd.jupyter.widget-view+json": {
       "model_id": "",
       "version_major": 2,
       "version_minor": 0
      },
      "text/plain": [
       "epoch 26 training data:   0%|          | 0/116 [00:00<?, ?it/s]"
      ]
     },
     "metadata": {},
     "output_type": "display_data"
    },
    {
     "name": "stdout",
     "output_type": "stream",
     "text": [
      "epoch: 26, LR: 0.0036, train loss: 1516.69873046875, train MSE: [944.6324462890625, 3550.722412109375, 1571.311279296875, 0.12813930213451385]\n"
     ]
    },
    {
     "data": {
      "application/vnd.jupyter.widget-view+json": {
       "model_id": "",
       "version_major": 2,
       "version_minor": 0
      },
      "text/plain": [
       "epoch 26 validation data:   0%|          | 0/27 [00:00<?, ?it/s]"
      ]
     },
     "metadata": {},
     "output_type": "display_data"
    },
    {
     "name": "stdout",
     "output_type": "stream",
     "text": [
      "epoch: 26, validation loss: 1247.9010009765625, validation MSE: [643.83642578125, 3027.88330078125, 1319.65966796875, 0.22417500615119934]\n",
      "EarlyStopping counter: 2 out of 13\n"
     ]
    },
    {
     "data": {
      "application/vnd.jupyter.widget-view+json": {
       "model_id": "",
       "version_major": 2,
       "version_minor": 0
      },
      "text/plain": [
       "epoch 27 training data:   0%|          | 0/116 [00:00<?, ?it/s]"
      ]
     },
     "metadata": {},
     "output_type": "display_data"
    },
    {
     "name": "stdout",
     "output_type": "stream",
     "text": [
      "epoch: 27, LR: 0.0036, train loss: 1528.19580078125, train MSE: [942.81640625, 3593.8857421875, 1575.9591064453125, 0.12215254455804825]\n"
     ]
    },
    {
     "data": {
      "application/vnd.jupyter.widget-view+json": {
       "model_id": "",
       "version_major": 2,
       "version_minor": 0
      },
      "text/plain": [
       "epoch 27 validation data:   0%|          | 0/27 [00:00<?, ?it/s]"
      ]
     },
     "metadata": {},
     "output_type": "display_data"
    },
    {
     "name": "stdout",
     "output_type": "stream",
     "text": [
      "epoch: 27, validation loss: 1228.6785888671875, validation MSE: [647.3056030273438, 2982.265625, 1285.02783203125, 0.11511284857988358]\n",
      "EarlyStopping counter: 3 out of 13\n"
     ]
    },
    {
     "data": {
      "application/vnd.jupyter.widget-view+json": {
       "model_id": "",
       "version_major": 2,
       "version_minor": 0
      },
      "text/plain": [
       "epoch 28 training data:   0%|          | 0/116 [00:00<?, ?it/s]"
      ]
     },
     "metadata": {},
     "output_type": "display_data"
    },
    {
     "name": "stdout",
     "output_type": "stream",
     "text": [
      "epoch: 28, LR: 0.0036, train loss: 1518.429443359375, train MSE: [944.4242553710938, 3547.797607421875, 1581.3646240234375, 0.13115482032299042]\n"
     ]
    },
    {
     "data": {
      "application/vnd.jupyter.widget-view+json": {
       "model_id": "",
       "version_major": 2,
       "version_minor": 0
      },
      "text/plain": [
       "epoch 28 validation data:   0%|          | 0/27 [00:00<?, ?it/s]"
      ]
     },
     "metadata": {},
     "output_type": "display_data"
    },
    {
     "name": "stdout",
     "output_type": "stream",
     "text": [
      "epoch: 28, validation loss: 1264.0406494140625, validation MSE: [647.4369506835938, 3136.57666015625, 1272.0565185546875, 0.09265852719545364]\n",
      "EarlyStopping counter: 4 out of 13\n"
     ]
    },
    {
     "data": {
      "application/vnd.jupyter.widget-view+json": {
       "model_id": "",
       "version_major": 2,
       "version_minor": 0
      },
      "text/plain": [
       "epoch 29 training data:   0%|          | 0/116 [00:00<?, ?it/s]"
      ]
     },
     "metadata": {},
     "output_type": "display_data"
    },
    {
     "name": "stdout",
     "output_type": "stream",
     "text": [
      "epoch: 29, LR: 0.0036, train loss: 1517.7779541015625, train MSE: [942.5704956054688, 3553.783935546875, 1574.630126953125, 0.12738581001758575]\n"
     ]
    },
    {
     "data": {
      "application/vnd.jupyter.widget-view+json": {
       "model_id": "",
       "version_major": 2,
       "version_minor": 0
      },
      "text/plain": [
       "epoch 29 validation data:   0%|          | 0/27 [00:00<?, ?it/s]"
      ]
     },
     "metadata": {},
     "output_type": "display_data"
    },
    {
     "name": "stdout",
     "output_type": "stream",
     "text": [
      "epoch: 29, validation loss: 1205.0123291015625, validation MSE: [638.5821533203125, 2913.140380859375, 1268.1932373046875, 0.13372772932052612]\n",
      "EarlyStopping counter: 5 out of 13\n"
     ]
    },
    {
     "data": {
      "application/vnd.jupyter.widget-view+json": {
       "model_id": "",
       "version_major": 2,
       "version_minor": 0
      },
      "text/plain": [
       "epoch 30 training data:   0%|          | 0/116 [00:00<?, ?it/s]"
      ]
     },
     "metadata": {},
     "output_type": "display_data"
    },
    {
     "name": "stdout",
     "output_type": "stream",
     "text": [
      "epoch: 30, LR: 0.0036, train loss: 1519.686767578125, train MSE: [943.5122680664062, 3572.549072265625, 1562.552490234375, 0.1338438093662262]\n"
     ]
    },
    {
     "data": {
      "application/vnd.jupyter.widget-view+json": {
       "model_id": "",
       "version_major": 2,
       "version_minor": 0
      },
      "text/plain": [
       "epoch 30 validation data:   0%|          | 0/27 [00:00<?, ?it/s]"
      ]
     },
     "metadata": {},
     "output_type": "display_data"
    },
    {
     "name": "stdout",
     "output_type": "stream",
     "text": [
      "epoch: 30, validation loss: 1258.16796875, validation MSE: [649.0469970703125, 3158.48291015625, 1225.0712890625, 0.0705132782459259]\n",
      "EarlyStopping counter: 6 out of 13\n"
     ]
    },
    {
     "data": {
      "application/vnd.jupyter.widget-view+json": {
       "model_id": "",
       "version_major": 2,
       "version_minor": 0
      },
      "text/plain": [
       "epoch 31 training data:   0%|          | 0/116 [00:00<?, ?it/s]"
      ]
     },
     "metadata": {},
     "output_type": "display_data"
    },
    {
     "name": "stdout",
     "output_type": "stream",
     "text": [
      "epoch: 31, LR: 0.00216, train loss: 1467.8880615234375, train MSE: [927.04931640625, 3397.9052734375, 1546.50146484375, 0.09613589942455292]\n"
     ]
    },
    {
     "data": {
      "application/vnd.jupyter.widget-view+json": {
       "model_id": "",
       "version_major": 2,
       "version_minor": 0
      },
      "text/plain": [
       "epoch 31 validation data:   0%|          | 0/27 [00:00<?, ?it/s]"
      ]
     },
     "metadata": {},
     "output_type": "display_data"
    },
    {
     "name": "stdout",
     "output_type": "stream",
     "text": [
      "epoch: 31, validation loss: 1180.77099609375, validation MSE: [632.7261962890625, 2846.048583984375, 1244.2471923828125, 0.06215718761086464]\n",
      "EarlyStopping counter: 7 out of 13\n"
     ]
    },
    {
     "data": {
      "application/vnd.jupyter.widget-view+json": {
       "model_id": "",
       "version_major": 2,
       "version_minor": 0
      },
      "text/plain": [
       "epoch 32 training data:   0%|          | 0/116 [00:00<?, ?it/s]"
      ]
     },
     "metadata": {},
     "output_type": "display_data"
    },
    {
     "name": "stdout",
     "output_type": "stream",
     "text": [
      "epoch: 32, LR: 0.00216, train loss: 1446.5904541015625, train MSE: [926.5738525390625, 3314.390625, 1545.309814453125, 0.08796954900026321]\n"
     ]
    },
    {
     "data": {
      "application/vnd.jupyter.widget-view+json": {
       "model_id": "",
       "version_major": 2,
       "version_minor": 0
      },
      "text/plain": [
       "epoch 32 validation data:   0%|          | 0/27 [00:00<?, ?it/s]"
      ]
     },
     "metadata": {},
     "output_type": "display_data"
    },
    {
     "name": "stdout",
     "output_type": "stream",
     "text": [
      "epoch: 32, validation loss: 1209.6669921875, validation MSE: [633.96484375, 2976.35205078125, 1228.284912109375, 0.06528722494840622]\n",
      "EarlyStopping counter: 8 out of 13\n"
     ]
    },
    {
     "data": {
      "application/vnd.jupyter.widget-view+json": {
       "model_id": "",
       "version_major": 2,
       "version_minor": 0
      },
      "text/plain": [
       "epoch 33 training data:   0%|          | 0/116 [00:00<?, ?it/s]"
      ]
     },
     "metadata": {},
     "output_type": "display_data"
    },
    {
     "name": "stdout",
     "output_type": "stream",
     "text": [
      "epoch: 33, LR: 0.00216, train loss: 1447.788330078125, train MSE: [926.1063842773438, 3325.3994140625, 1539.558349609375, 0.08918686211109161]\n"
     ]
    },
    {
     "data": {
      "application/vnd.jupyter.widget-view+json": {
       "model_id": "",
       "version_major": 2,
       "version_minor": 0
      },
      "text/plain": [
       "epoch 33 validation data:   0%|          | 0/27 [00:00<?, ?it/s]"
      ]
     },
     "metadata": {},
     "output_type": "display_data"
    },
    {
     "name": "stdout",
     "output_type": "stream",
     "text": [
      "epoch: 33, validation loss: 1181.302978515625, validation MSE: [633.7366943359375, 2868.570556640625, 1222.8385009765625, 0.065744549036026]\n",
      "EarlyStopping counter: 9 out of 13\n"
     ]
    },
    {
     "data": {
      "application/vnd.jupyter.widget-view+json": {
       "model_id": "",
       "version_major": 2,
       "version_minor": 0
      },
      "text/plain": [
       "epoch 34 training data:   0%|          | 0/116 [00:00<?, ?it/s]"
      ]
     },
     "metadata": {},
     "output_type": "display_data"
    },
    {
     "name": "stdout",
     "output_type": "stream",
     "text": [
      "epoch: 34, LR: 0.00216, train loss: 1437.3826904296875, train MSE: [924.728759765625, 3283.787109375, 1540.92578125, 0.08949101716279984]\n"
     ]
    },
    {
     "data": {
      "application/vnd.jupyter.widget-view+json": {
       "model_id": "",
       "version_major": 2,
       "version_minor": 0
      },
      "text/plain": [
       "epoch 34 validation data:   0%|          | 0/27 [00:00<?, ?it/s]"
      ]
     },
     "metadata": {},
     "output_type": "display_data"
    },
    {
     "name": "stdout",
     "output_type": "stream",
     "text": [
      "epoch: 34, validation loss: 1215.1727294921875, validation MSE: [637.7000732421875, 2993.485595703125, 1229.4263916015625, 0.07887981832027435]\n",
      "EarlyStopping counter: 10 out of 13\n"
     ]
    },
    {
     "data": {
      "application/vnd.jupyter.widget-view+json": {
       "model_id": "",
       "version_major": 2,
       "version_minor": 0
      },
      "text/plain": [
       "epoch 35 training data:   0%|          | 0/116 [00:00<?, ?it/s]"
      ]
     },
     "metadata": {},
     "output_type": "display_data"
    },
    {
     "name": "stdout",
     "output_type": "stream",
     "text": [
      "epoch: 35, LR: 0.00216, train loss: 1436.6070556640625, train MSE: [924.3012084960938, 3293.853759765625, 1528.1796875, 0.09299805015325546]\n"
     ]
    },
    {
     "data": {
      "application/vnd.jupyter.widget-view+json": {
       "model_id": "",
       "version_major": 2,
       "version_minor": 0
      },
      "text/plain": [
       "epoch 35 validation data:   0%|          | 0/27 [00:00<?, ?it/s]"
      ]
     },
     "metadata": {},
     "output_type": "display_data"
    },
    {
     "name": "stdout",
     "output_type": "stream",
     "text": [
      "epoch: 35, validation loss: 1227.00048828125, validation MSE: [637.0403442382812, 3017.318359375, 1253.5439453125, 0.09901741147041321]\n",
      "EarlyStopping counter: 11 out of 13\n"
     ]
    },
    {
     "data": {
      "application/vnd.jupyter.widget-view+json": {
       "model_id": "",
       "version_major": 2,
       "version_minor": 0
      },
      "text/plain": [
       "epoch 36 training data:   0%|          | 0/116 [00:00<?, ?it/s]"
      ]
     },
     "metadata": {},
     "output_type": "display_data"
    },
    {
     "name": "stdout",
     "output_type": "stream",
     "text": [
      "epoch: 36, LR: 0.00216, train loss: 1427.9488525390625, train MSE: [922.510009765625, 3258.1669921875, 1531.026611328125, 0.09096274524927139]\n"
     ]
    },
    {
     "data": {
      "application/vnd.jupyter.widget-view+json": {
       "model_id": "",
       "version_major": 2,
       "version_minor": 0
      },
      "text/plain": [
       "epoch 36 validation data:   0%|          | 0/27 [00:00<?, ?it/s]"
      ]
     },
     "metadata": {},
     "output_type": "display_data"
    },
    {
     "name": "stdout",
     "output_type": "stream",
     "text": [
      "epoch: 36, validation loss: 1212.686767578125, validation MSE: [642.8118286132812, 3002.41845703125, 1205.4127197265625, 0.10336905717849731]\n",
      "EarlyStopping counter: 12 out of 13\n"
     ]
    },
    {
     "data": {
      "application/vnd.jupyter.widget-view+json": {
       "model_id": "",
       "version_major": 2,
       "version_minor": 0
      },
      "text/plain": [
       "epoch 37 training data:   0%|          | 0/116 [00:00<?, ?it/s]"
      ]
     },
     "metadata": {},
     "output_type": "display_data"
    },
    {
     "name": "stdout",
     "output_type": "stream",
     "text": [
      "epoch: 37, LR: 0.001296, train loss: 1400.3787841796875, train MSE: [917.0611572265625, 3178.3466796875, 1506.0245361328125, 0.08271529525518417]\n"
     ]
    },
    {
     "data": {
      "application/vnd.jupyter.widget-view+json": {
       "model_id": "",
       "version_major": 2,
       "version_minor": 0
      },
      "text/plain": [
       "epoch 37 validation data:   0%|          | 0/27 [00:00<?, ?it/s]"
      ]
     },
     "metadata": {},
     "output_type": "display_data"
    },
    {
     "name": "stdout",
     "output_type": "stream",
     "text": [
      "epoch: 37, validation loss: 1162.282958984375, validation MSE: [640.4634399414062, 2815.673583984375, 1192.939697265625, 0.055120278149843216]\n",
      "Validation loss decreased (1176.779541 --> 1162.282959).  Saving model ...\n"
     ]
    },
    {
     "data": {
      "application/vnd.jupyter.widget-view+json": {
       "model_id": "",
       "version_major": 2,
       "version_minor": 0
      },
      "text/plain": [
       "epoch 38 training data:   0%|          | 0/116 [00:00<?, ?it/s]"
      ]
     },
     "metadata": {},
     "output_type": "display_data"
    },
    {
     "name": "stdout",
     "output_type": "stream",
     "text": [
      "epoch: 38, LR: 0.001296, train loss: 1365.41162109375, train MSE: [913.1866455078125, 3042.4169921875, 1505.957763671875, 0.08488581329584122]\n"
     ]
    },
    {
     "data": {
      "application/vnd.jupyter.widget-view+json": {
       "model_id": "",
       "version_major": 2,
       "version_minor": 0
      },
      "text/plain": [
       "epoch 38 validation data:   0%|          | 0/27 [00:00<?, ?it/s]"
      ]
     },
     "metadata": {},
     "output_type": "display_data"
    },
    {
     "name": "stdout",
     "output_type": "stream",
     "text": [
      "epoch: 38, validation loss: 1227.3118896484375, validation MSE: [638.8409423828125, 3054.301513671875, 1216.0462646484375, 0.05856690555810928]\n",
      "EarlyStopping counter: 1 out of 13\n"
     ]
    },
    {
     "data": {
      "application/vnd.jupyter.widget-view+json": {
       "model_id": "",
       "version_major": 2,
       "version_minor": 0
      },
      "text/plain": [
       "epoch 39 training data:   0%|          | 0/116 [00:00<?, ?it/s]"
      ]
     },
     "metadata": {},
     "output_type": "display_data"
    },
    {
     "name": "stdout",
     "output_type": "stream",
     "text": [
      "epoch: 39, LR: 0.001296, train loss: 1376.0379638671875, train MSE: [912.9325561523438, 3079.451416015625, 1511.6873779296875, 0.08042874932289124]\n"
     ]
    },
    {
     "data": {
      "application/vnd.jupyter.widget-view+json": {
       "model_id": "",
       "version_major": 2,
       "version_minor": 0
      },
      "text/plain": [
       "epoch 39 validation data:   0%|          | 0/27 [00:00<?, ?it/s]"
      ]
     },
     "metadata": {},
     "output_type": "display_data"
    },
    {
     "name": "stdout",
     "output_type": "stream",
     "text": [
      "epoch: 39, validation loss: 1183.7625732421875, validation MSE: [631.037353515625, 2887.265625, 1216.68994140625, 0.05734534561634064]\n",
      "EarlyStopping counter: 2 out of 13\n"
     ]
    },
    {
     "data": {
      "application/vnd.jupyter.widget-view+json": {
       "model_id": "",
       "version_major": 2,
       "version_minor": 0
      },
      "text/plain": [
       "epoch 40 training data:   0%|          | 0/116 [00:00<?, ?it/s]"
      ]
     },
     "metadata": {},
     "output_type": "display_data"
    },
    {
     "name": "stdout",
     "output_type": "stream",
     "text": [
      "epoch: 40, LR: 0.001296, train loss: 1356.2509765625, train MSE: [907.1267700195312, 3000.927001953125, 1516.8641357421875, 0.0857093557715416]\n"
     ]
    },
    {
     "data": {
      "application/vnd.jupyter.widget-view+json": {
       "model_id": "",
       "version_major": 2,
       "version_minor": 0
      },
      "text/plain": [
       "epoch 40 validation data:   0%|          | 0/27 [00:00<?, ?it/s]"
      ]
     },
     "metadata": {},
     "output_type": "display_data"
    },
    {
     "name": "stdout",
     "output_type": "stream",
     "text": [
      "epoch: 40, validation loss: 1180.17333984375, validation MSE: [631.0506591796875, 2876.3095703125, 1213.274169921875, 0.05861981585621834]\n",
      "EarlyStopping counter: 3 out of 13\n"
     ]
    },
    {
     "data": {
      "application/vnd.jupyter.widget-view+json": {
       "model_id": "",
       "version_major": 2,
       "version_minor": 0
      },
      "text/plain": [
       "epoch 41 training data:   0%|          | 0/116 [00:00<?, ?it/s]"
      ]
     },
     "metadata": {},
     "output_type": "display_data"
    },
    {
     "name": "stdout",
     "output_type": "stream",
     "text": [
      "epoch: 41, LR: 0.001296, train loss: 1346.0506591796875, train MSE: [910.5383911132812, 2983.97119140625, 1489.6046142578125, 0.08799061924219131]\n"
     ]
    },
    {
     "data": {
      "application/vnd.jupyter.widget-view+json": {
       "model_id": "",
       "version_major": 2,
       "version_minor": 0
      },
      "text/plain": [
       "epoch 41 validation data:   0%|          | 0/27 [00:00<?, ?it/s]"
      ]
     },
     "metadata": {},
     "output_type": "display_data"
    },
    {
     "name": "stdout",
     "output_type": "stream",
     "text": [
      "epoch: 41, validation loss: 1141.7879638671875, validation MSE: [637.3629760742188, 2740.353515625, 1189.37158203125, 0.06365299969911575]\n",
      "Validation loss decreased (1162.282959 --> 1141.787964).  Saving model ...\n"
     ]
    },
    {
     "data": {
      "application/vnd.jupyter.widget-view+json": {
       "model_id": "",
       "version_major": 2,
       "version_minor": 0
      },
      "text/plain": [
       "epoch 42 training data:   0%|          | 0/116 [00:00<?, ?it/s]"
      ]
     },
     "metadata": {},
     "output_type": "display_data"
    },
    {
     "name": "stdout",
     "output_type": "stream",
     "text": [
      "epoch: 42, LR: 0.001296, train loss: 1342.4979248046875, train MSE: [909.4381713867188, 2960.317138671875, 1500.148193359375, 0.08818485587835312]\n"
     ]
    },
    {
     "data": {
      "application/vnd.jupyter.widget-view+json": {
       "model_id": "",
       "version_major": 2,
       "version_minor": 0
      },
      "text/plain": [
       "epoch 42 validation data:   0%|          | 0/27 [00:00<?, ?it/s]"
      ]
     },
     "metadata": {},
     "output_type": "display_data"
    },
    {
     "name": "stdout",
     "output_type": "stream",
     "text": [
      "epoch: 42, validation loss: 1172.991943359375, validation MSE: [635.160888671875, 2826.812744140625, 1229.9342041015625, 0.05959722772240639]\n",
      "EarlyStopping counter: 1 out of 13\n"
     ]
    },
    {
     "data": {
      "application/vnd.jupyter.widget-view+json": {
       "model_id": "",
       "version_major": 2,
       "version_minor": 0
      },
      "text/plain": [
       "epoch 43 training data:   0%|          | 0/116 [00:00<?, ?it/s]"
      ]
     },
     "metadata": {},
     "output_type": "display_data"
    },
    {
     "name": "stdout",
     "output_type": "stream",
     "text": [
      "epoch: 43, LR: 0.001296, train loss: 1346.1160888671875, train MSE: [909.7984619140625, 2972.500732421875, 1502.0804443359375, 0.0843215063214302]\n"
     ]
    },
    {
     "data": {
      "application/vnd.jupyter.widget-view+json": {
       "model_id": "",
       "version_major": 2,
       "version_minor": 0
      },
      "text/plain": [
       "epoch 43 validation data:   0%|          | 0/27 [00:00<?, ?it/s]"
      ]
     },
     "metadata": {},
     "output_type": "display_data"
    },
    {
     "name": "stdout",
     "output_type": "stream",
     "text": [
      "epoch: 43, validation loss: 1188.4215087890625, validation MSE: [637.7713623046875, 2912.243408203125, 1203.6112060546875, 0.0601126104593277]\n",
      "EarlyStopping counter: 2 out of 13\n"
     ]
    },
    {
     "data": {
      "application/vnd.jupyter.widget-view+json": {
       "model_id": "",
       "version_major": 2,
       "version_minor": 0
      },
      "text/plain": [
       "epoch 44 training data:   0%|          | 0/116 [00:00<?, ?it/s]"
      ]
     },
     "metadata": {},
     "output_type": "display_data"
    },
    {
     "name": "stdout",
     "output_type": "stream",
     "text": [
      "epoch: 44, LR: 0.001296, train loss: 1348.8812255859375, train MSE: [903.7132568359375, 2987.296875, 1504.4256591796875, 0.08900421857833862]\n"
     ]
    },
    {
     "data": {
      "application/vnd.jupyter.widget-view+json": {
       "model_id": "",
       "version_major": 2,
       "version_minor": 0
      },
      "text/plain": [
       "epoch 44 validation data:   0%|          | 0/27 [00:00<?, ?it/s]"
      ]
     },
     "metadata": {},
     "output_type": "display_data"
    },
    {
     "name": "stdout",
     "output_type": "stream",
     "text": [
      "epoch: 44, validation loss: 1184.685546875, validation MSE: [639.3678588867188, 2893.473388671875, 1205.841796875, 0.059062544256448746]\n",
      "EarlyStopping counter: 3 out of 13\n"
     ]
    },
    {
     "data": {
      "application/vnd.jupyter.widget-view+json": {
       "model_id": "",
       "version_major": 2,
       "version_minor": 0
      },
      "text/plain": [
       "epoch 45 training data:   0%|          | 0/116 [00:00<?, ?it/s]"
      ]
     },
     "metadata": {},
     "output_type": "display_data"
    },
    {
     "name": "stdout",
     "output_type": "stream",
     "text": [
      "epoch: 45, LR: 0.001296, train loss: 1342.586181640625, train MSE: [901.7510375976562, 2970.973388671875, 1497.5322265625, 0.08810292184352875]\n"
     ]
    },
    {
     "data": {
      "application/vnd.jupyter.widget-view+json": {
       "model_id": "",
       "version_major": 2,
       "version_minor": 0
      },
      "text/plain": [
       "epoch 45 validation data:   0%|          | 0/27 [00:00<?, ?it/s]"
      ]
     },
     "metadata": {},
     "output_type": "display_data"
    },
    {
     "name": "stdout",
     "output_type": "stream",
     "text": [
      "epoch: 45, validation loss: 1155.296875, validation MSE: [632.646484375, 2794.171875, 1194.3074951171875, 0.061457447707653046]\n",
      "EarlyStopping counter: 4 out of 13\n"
     ]
    },
    {
     "data": {
      "application/vnd.jupyter.widget-view+json": {
       "model_id": "",
       "version_major": 2,
       "version_minor": 0
      },
      "text/plain": [
       "epoch 46 training data:   0%|          | 0/116 [00:00<?, ?it/s]"
      ]
     },
     "metadata": {},
     "output_type": "display_data"
    },
    {
     "name": "stdout",
     "output_type": "stream",
     "text": [
      "epoch: 46, LR: 0.001296, train loss: 1312.640869140625, train MSE: [902.83056640625, 2849.5166015625, 1498.127197265625, 0.08888589590787888]\n"
     ]
    },
    {
     "data": {
      "application/vnd.jupyter.widget-view+json": {
       "model_id": "",
       "version_major": 2,
       "version_minor": 0
      },
      "text/plain": [
       "epoch 46 validation data:   0%|          | 0/27 [00:00<?, ?it/s]"
      ]
     },
     "metadata": {},
     "output_type": "display_data"
    },
    {
     "name": "stdout",
     "output_type": "stream",
     "text": [
      "epoch: 46, validation loss: 1194.0074462890625, validation MSE: [646.35302734375, 2947.376708984375, 1182.2322998046875, 0.06783482432365417]\n",
      "EarlyStopping counter: 5 out of 13\n"
     ]
    },
    {
     "data": {
      "application/vnd.jupyter.widget-view+json": {
       "model_id": "",
       "version_major": 2,
       "version_minor": 0
      },
      "text/plain": [
       "epoch 47 training data:   0%|          | 0/116 [00:00<?, ?it/s]"
      ]
     },
     "metadata": {},
     "output_type": "display_data"
    },
    {
     "name": "stdout",
     "output_type": "stream",
     "text": [
      "epoch: 47, LR: 0.001296, train loss: 1332.895751953125, train MSE: [904.5687255859375, 2937.070068359375, 1489.85693359375, 0.08733968436717987]\n"
     ]
    },
    {
     "data": {
      "application/vnd.jupyter.widget-view+json": {
       "model_id": "",
       "version_major": 2,
       "version_minor": 0
      },
      "text/plain": [
       "epoch 47 validation data:   0%|          | 0/27 [00:00<?, ?it/s]"
      ]
     },
     "metadata": {},
     "output_type": "display_data"
    },
    {
     "name": "stdout",
     "output_type": "stream",
     "text": [
      "epoch: 47, validation loss: 1161.0670166015625, validation MSE: [636.1039428710938, 2846.7685546875, 1161.3353271484375, 0.059942007064819336]\n",
      "EarlyStopping counter: 6 out of 13\n"
     ]
    },
    {
     "data": {
      "application/vnd.jupyter.widget-view+json": {
       "model_id": "",
       "version_major": 2,
       "version_minor": 0
      },
      "text/plain": [
       "epoch 48 training data:   0%|          | 0/116 [00:00<?, ?it/s]"
      ]
     },
     "metadata": {},
     "output_type": "display_data"
    },
    {
     "name": "stdout",
     "output_type": "stream",
     "text": [
      "epoch: 48, LR: 0.0007776, train loss: 1297.99462890625, train MSE: [896.7935180664062, 2804.485107421875, 1490.619384765625, 0.08009321987628937]\n"
     ]
    },
    {
     "data": {
      "application/vnd.jupyter.widget-view+json": {
       "model_id": "",
       "version_major": 2,
       "version_minor": 0
      },
      "text/plain": [
       "epoch 48 validation data:   0%|          | 0/27 [00:00<?, ?it/s]"
      ]
     },
     "metadata": {},
     "output_type": "display_data"
    },
    {
     "name": "stdout",
     "output_type": "stream",
     "text": [
      "epoch: 48, validation loss: 1186.6014404296875, validation MSE: [651.0936279296875, 2902.701416015625, 1192.5491943359375, 0.06194457411766052]\n",
      "EarlyStopping counter: 7 out of 13\n"
     ]
    },
    {
     "data": {
      "application/vnd.jupyter.widget-view+json": {
       "model_id": "",
       "version_major": 2,
       "version_minor": 0
      },
      "text/plain": [
       "epoch 49 training data:   0%|          | 0/116 [00:00<?, ?it/s]"
      ]
     },
     "metadata": {},
     "output_type": "display_data"
    },
    {
     "name": "stdout",
     "output_type": "stream",
     "text": [
      "epoch: 49, LR: 0.0007776, train loss: 1272.67138671875, train MSE: [891.421875, 2722.471923828125, 1476.7071533203125, 0.0841834768652916]\n"
     ]
    },
    {
     "data": {
      "application/vnd.jupyter.widget-view+json": {
       "model_id": "",
       "version_major": 2,
       "version_minor": 0
      },
      "text/plain": [
       "epoch 49 validation data:   0%|          | 0/27 [00:00<?, ?it/s]"
      ]
     },
     "metadata": {},
     "output_type": "display_data"
    },
    {
     "name": "stdout",
     "output_type": "stream",
     "text": [
      "epoch: 49, validation loss: 1170.3775634765625, validation MSE: [635.7733154296875, 2874.254638671875, 1171.4166259765625, 0.06547893583774567]\n",
      "EarlyStopping counter: 8 out of 13\n"
     ]
    },
    {
     "data": {
      "application/vnd.jupyter.widget-view+json": {
       "model_id": "",
       "version_major": 2,
       "version_minor": 0
      },
      "text/plain": [
       "epoch 50 training data:   0%|          | 0/116 [00:00<?, ?it/s]"
      ]
     },
     "metadata": {},
     "output_type": "display_data"
    },
    {
     "name": "stdout",
     "output_type": "stream",
     "text": [
      "epoch: 50, LR: 0.0007776, train loss: 1281.3192138671875, train MSE: [894.0697021484375, 2761.20166015625, 1469.923095703125, 0.08182662725448608]\n"
     ]
    },
    {
     "data": {
      "application/vnd.jupyter.widget-view+json": {
       "model_id": "",
       "version_major": 2,
       "version_minor": 0
      },
      "text/plain": [
       "epoch 50 validation data:   0%|          | 0/27 [00:00<?, ?it/s]"
      ]
     },
     "metadata": {},
     "output_type": "display_data"
    },
    {
     "name": "stdout",
     "output_type": "stream",
     "text": [
      "epoch: 50, validation loss: 1161.4971923828125, validation MSE: [646.3600463867188, 2827.382568359375, 1172.180419921875, 0.06557844579219818]\n",
      "EarlyStopping counter: 9 out of 13\n"
     ]
    },
    {
     "data": {
      "application/vnd.jupyter.widget-view+json": {
       "model_id": "",
       "version_major": 2,
       "version_minor": 0
      },
      "text/plain": [
       "epoch 51 training data:   0%|          | 0/116 [00:00<?, ?it/s]"
      ]
     },
     "metadata": {},
     "output_type": "display_data"
    },
    {
     "name": "stdout",
     "output_type": "stream",
     "text": [
      "epoch: 51, LR: 0.0007776, train loss: 1262.30810546875, train MSE: [889.7395629882812, 2684.751708984375, 1474.65869140625, 0.0818992555141449]\n"
     ]
    },
    {
     "data": {
      "application/vnd.jupyter.widget-view+json": {
       "model_id": "",
       "version_major": 2,
       "version_minor": 0
      },
      "text/plain": [
       "epoch 51 validation data:   0%|          | 0/27 [00:00<?, ?it/s]"
      ]
     },
     "metadata": {},
     "output_type": "display_data"
    },
    {
     "name": "stdout",
     "output_type": "stream",
     "text": [
      "epoch: 51, validation loss: 1240.3712158203125, validation MSE: [648.4918823242188, 3134.5595703125, 1178.3643798828125, 0.06913141161203384]\n",
      "EarlyStopping counter: 10 out of 13\n"
     ]
    },
    {
     "data": {
      "application/vnd.jupyter.widget-view+json": {
       "model_id": "",
       "version_major": 2,
       "version_minor": 0
      },
      "text/plain": [
       "epoch 52 training data:   0%|          | 0/116 [00:00<?, ?it/s]"
      ]
     },
     "metadata": {},
     "output_type": "display_data"
    },
    {
     "name": "stdout",
     "output_type": "stream",
     "text": [
      "epoch: 52, LR: 0.0007776, train loss: 1263.2685546875, train MSE: [887.4588012695312, 2692.334228515625, 1473.19921875, 0.0823526531457901]\n"
     ]
    },
    {
     "data": {
      "application/vnd.jupyter.widget-view+json": {
       "model_id": "",
       "version_major": 2,
       "version_minor": 0
      },
      "text/plain": [
       "epoch 52 validation data:   0%|          | 0/27 [00:00<?, ?it/s]"
      ]
     },
     "metadata": {},
     "output_type": "display_data"
    },
    {
     "name": "stdout",
     "output_type": "stream",
     "text": [
      "epoch: 52, validation loss: 1261.4913330078125, validation MSE: [657.5938720703125, 3192.651123046875, 1195.6444091796875, 0.07607020437717438]\n",
      "EarlyStopping counter: 11 out of 13\n"
     ]
    },
    {
     "data": {
      "application/vnd.jupyter.widget-view+json": {
       "model_id": "",
       "version_major": 2,
       "version_minor": 0
      },
      "text/plain": [
       "epoch 53 training data:   0%|          | 0/116 [00:00<?, ?it/s]"
      ]
     },
     "metadata": {},
     "output_type": "display_data"
    },
    {
     "name": "stdout",
     "output_type": "stream",
     "text": [
      "epoch: 53, LR: 0.0007776, train loss: 1259.523193359375, train MSE: [893.2100830078125, 2672.269775390625, 1472.53271484375, 0.07972703129053116]\n"
     ]
    },
    {
     "data": {
      "application/vnd.jupyter.widget-view+json": {
       "model_id": "",
       "version_major": 2,
       "version_minor": 0
      },
      "text/plain": [
       "epoch 53 validation data:   0%|          | 0/27 [00:00<?, ?it/s]"
      ]
     },
     "metadata": {},
     "output_type": "display_data"
    },
    {
     "name": "stdout",
     "output_type": "stream",
     "text": [
      "epoch: 53, validation loss: 1176.9356689453125, validation MSE: [638.211669921875, 2830.864013671875, 1238.5938720703125, 0.07306890189647675]\n",
      "EarlyStopping counter: 12 out of 13\n"
     ]
    },
    {
     "data": {
      "application/vnd.jupyter.widget-view+json": {
       "model_id": "",
       "version_major": 2,
       "version_minor": 0
      },
      "text/plain": [
       "epoch 54 training data:   0%|          | 0/116 [00:00<?, ?it/s]"
      ]
     },
     "metadata": {},
     "output_type": "display_data"
    },
    {
     "name": "stdout",
     "output_type": "stream",
     "text": [
      "epoch: 54, LR: 0.00046656, train loss: 1257.0655517578125, train MSE: [884.8038940429688, 2666.169677734375, 1477.2105712890625, 0.07813002914190292]\n"
     ]
    },
    {
     "data": {
      "application/vnd.jupyter.widget-view+json": {
       "model_id": "",
       "version_major": 2,
       "version_minor": 0
      },
      "text/plain": [
       "epoch 54 validation data:   0%|          | 0/27 [00:00<?, ?it/s]"
      ]
     },
     "metadata": {},
     "output_type": "display_data"
    },
    {
     "name": "stdout",
     "output_type": "stream",
     "text": [
      "epoch: 54, validation loss: 1211.404296875, validation MSE: [653.6727905273438, 2987.217041015625, 1204.6622314453125, 0.06492744386196136]\n",
      "EarlyStopping counter: 13 out of 13\n",
      "Early stopping\n"
     ]
    }
   ],
   "source": [
    "for epoch in range(previous_epochs, EPOCHS+previous_epochs):\n",
    "    # TRAINING Part\n",
    "    model.train()\n",
    "    train_loss = []\n",
    "    mse_train_list = []\n",
    "    \n",
    "    bar = tqdm(train_dataloader, position=0, leave=False, desc=f'epoch {epoch} training data')\n",
    "    i = 0\n",
    "    for train_data in bar: # for each training step\n",
    "        i += 1\n",
    "        img_data_device = train_data['image'].to(device, dtype=torch.float)\n",
    "        stacked_gt_device = torch.stack((train_data['P'], train_data['K'], train_data['Mg'], train_data['pH'])).transpose(0,1).to(device, dtype=torch.float)\n",
    "        \n",
    "        output = model(img_data_device)\n",
    "        \n",
    "        loss = loss_func(output, stacked_gt_device)\n",
    "        optimizer.zero_grad()\n",
    "        loss.backward()\n",
    "        optimizer.step()\n",
    "        train_loss.append(loss)\n",
    "        \n",
    "        output_cpu = output.detach().cpu().numpy()\n",
    "        stacked_gt_cpu = stacked_gt_device.cpu().numpy()\n",
    "        \n",
    "        # Calculate MSE for each class\n",
    "        mse = np.mean((stacked_gt_cpu - output_cpu) ** 2, axis=0)\n",
    "        mse_train_list.append(mse)\n",
    "        \n",
    "        if i % 10 == 0: # log every 10 batches\n",
    "            train_log_dict = dict()\n",
    "            train_log_dict['batch_number'] = i\n",
    "            train_log_dict['epoch'] = epoch\n",
    "            train_log_dict['train_batch_loss'] = loss \n",
    "            train_log_dict['train_batch_MSE_P'] = mse[0]\n",
    "            train_log_dict['train_batch_MSE_K'] = mse[1]\n",
    "            train_log_dict['train_batch_MSE_Mg'] = mse[2]\n",
    "            train_log_dict['train_batch_MSE_pH'] = mse[3]\n",
    "            wandb.log(train_log_dict)\n",
    "    \n",
    "    avg_train_loss = torch.stack(train_loss).mean().item()\n",
    "    avg_train_mse = torch.as_tensor(np.array(mse_train_list)).mean(axis=0).numpy().tolist()\n",
    "    \n",
    "    print(f'epoch: {epoch}, LR: {optimizer.param_groups[0][\"lr\"]}, train loss: {avg_train_loss}, train MSE: {avg_train_mse}')\n",
    "    wandb.log({'epoch': epoch, 'average_train_loss':avg_train_loss, 'average_train_MSE_P': avg_train_mse[0], 'average_train_MSE_K': avg_train_mse[1],\n",
    "              'average_train_MSE_Mg': avg_train_mse[2], 'average_train_MSE_pH': avg_train_mse[3]})\n",
    "    \n",
    "    # VALIDATION Part\n",
    "    model.eval()\n",
    "    val_bar = tqdm(validation_dataloader, position=0, leave=False, desc=f'epoch {epoch} validation data')\n",
    "    with torch.no_grad():\n",
    "        val_loss = []\n",
    "        mse_val_list = []\n",
    "        for val_data in val_bar:\n",
    "            img_data_device = val_data['image'].to(device, dtype=torch.float)\n",
    "            stacked_gt_device = torch.stack((val_data['P'], val_data['K'], val_data['Mg'], val_data['pH'])).transpose(0,1).to(device, dtype=torch.float)\n",
    "            \n",
    "            output = model(img_data_device)\n",
    "            \n",
    "            loss = loss_func(output, stacked_gt_device)\n",
    "            val_loss.append(loss)\n",
    "            \n",
    "            output_cpu = output.detach().cpu().numpy()\n",
    "            stacked_gt_cpu = stacked_gt_device.cpu().numpy()\n",
    "\n",
    "            # Calculate MSE for each class\n",
    "            mse = np.mean((stacked_gt_cpu - output_cpu) ** 2, axis=0)\n",
    "            mse_val_list.append(mse)\n",
    "        \n",
    "        avg_val_loss = torch.stack(val_loss).mean().item()\n",
    "        avg_val_mse = torch.as_tensor(np.array(mse_val_list)).mean(axis=0).numpy().tolist()\n",
    "        \n",
    "        print(f'epoch: {epoch}, validation loss: {avg_val_loss}, validation MSE: {avg_val_mse}')\n",
    "        wandb.log({'epoch': epoch, 'average_val_loss': avg_val_loss, 'average_val_MSE_P': avg_val_mse[0], 'average_val_MSE_K': avg_val_mse[1], \n",
    "                   'average_val_MSE_Mh': avg_val_mse[2], 'average_val_MSE_pH': avg_val_mse[3]})\n",
    "        \n",
    "        scheduler.step(avg_val_loss)\n",
    "        # early_stopping needs the validation loss to check if it has decresed, \n",
    "        # and if it has, it will make a checkpoint of the current model\n",
    "        early_stopping(avg_val_loss, model)\n",
    "\n",
    "        if early_stopping.early_stop:\n",
    "            print(\"Early stopping\")\n",
    "            break\n"
   ]
  },
  {
   "cell_type": "code",
   "execution_count": 165,
   "id": "5aaf13cc-2e25-4bdf-822e-3d365964ca6e",
   "metadata": {},
   "outputs": [],
   "source": [
    "torch.save(model.state_dict(), os.path.join(saved_models_directory, model_name+f'_EPOCHS_{epoch}.pth'))"
   ]
  },
  {
   "cell_type": "code",
   "execution_count": 166,
   "id": "d6ffb3e2-5cb5-49c2-abfe-5ecaa530087b",
   "metadata": {
    "tags": []
   },
   "outputs": [],
   "source": [
    "# rename checkpoint.pth\n",
    "! mv saved_models/checkpoint_state_dict.pth saved_models/Proper_Data_checkpoint_state_dict_ResNet50_01_03_2022.pth"
   ]
  },
  {
   "cell_type": "code",
   "execution_count": 167,
   "id": "3e4dc5ea-7e3a-4ce5-93e6-e6baf9615149",
   "metadata": {},
   "outputs": [
    {
     "data": {
      "text/plain": [
       "<All keys matched successfully>"
      ]
     },
     "execution_count": 167,
     "metadata": {},
     "output_type": "execute_result"
    }
   ],
   "source": [
    "# load saved model\n",
    "modelLoad = ResNetCNN(False)\n",
    "modelLoad.load_state_dict(torch.load(os.path.join(saved_models_directory, 'Proper_Data_checkpoint_state_dict_ResNet50_01_03_2022.pth')))"
   ]
  },
  {
   "cell_type": "code",
   "execution_count": 168,
   "id": "c1c66db3-7fcf-4410-b51c-ae9706394be0",
   "metadata": {},
   "outputs": [],
   "source": [
    "modelLoad = modelLoad.to(device)"
   ]
  },
  {
   "cell_type": "markdown",
   "id": "9c40a5e8-364f-41fb-84bf-e46e17811f53",
   "metadata": {
    "tags": []
   },
   "source": [
    "### Predict test dataset"
   ]
  },
  {
   "cell_type": "code",
   "execution_count": 169,
   "id": "ead3cbb4-030b-4027-b3e3-6e90d52bb089",
   "metadata": {
    "collapsed": true,
    "jupyter": {
     "outputs_hidden": true
    },
    "tags": []
   },
   "outputs": [
    {
     "data": {
      "text/plain": [
       "ResNetCNN(\n",
       "  (resnet_model): ResNet(\n",
       "    (conv1): Conv2d(150, 64, kernel_size=(7, 7), stride=(2, 2), padding=(3, 3), bias=False)\n",
       "    (bn1): BatchNorm2d(64, eps=1e-05, momentum=0.1, affine=True, track_running_stats=True)\n",
       "    (relu): ReLU(inplace=True)\n",
       "    (maxpool): MaxPool2d(kernel_size=3, stride=2, padding=1, dilation=1, ceil_mode=False)\n",
       "    (layer1): Sequential(\n",
       "      (0): Bottleneck(\n",
       "        (conv1): Conv2d(64, 64, kernel_size=(1, 1), stride=(1, 1), bias=False)\n",
       "        (bn1): BatchNorm2d(64, eps=1e-05, momentum=0.1, affine=True, track_running_stats=True)\n",
       "        (conv2): Conv2d(64, 64, kernel_size=(3, 3), stride=(1, 1), padding=(1, 1), bias=False)\n",
       "        (bn2): BatchNorm2d(64, eps=1e-05, momentum=0.1, affine=True, track_running_stats=True)\n",
       "        (conv3): Conv2d(64, 256, kernel_size=(1, 1), stride=(1, 1), bias=False)\n",
       "        (bn3): BatchNorm2d(256, eps=1e-05, momentum=0.1, affine=True, track_running_stats=True)\n",
       "        (relu): ReLU(inplace=True)\n",
       "        (downsample): Sequential(\n",
       "          (0): Conv2d(64, 256, kernel_size=(1, 1), stride=(1, 1), bias=False)\n",
       "          (1): BatchNorm2d(256, eps=1e-05, momentum=0.1, affine=True, track_running_stats=True)\n",
       "        )\n",
       "      )\n",
       "      (1): Bottleneck(\n",
       "        (conv1): Conv2d(256, 64, kernel_size=(1, 1), stride=(1, 1), bias=False)\n",
       "        (bn1): BatchNorm2d(64, eps=1e-05, momentum=0.1, affine=True, track_running_stats=True)\n",
       "        (conv2): Conv2d(64, 64, kernel_size=(3, 3), stride=(1, 1), padding=(1, 1), bias=False)\n",
       "        (bn2): BatchNorm2d(64, eps=1e-05, momentum=0.1, affine=True, track_running_stats=True)\n",
       "        (conv3): Conv2d(64, 256, kernel_size=(1, 1), stride=(1, 1), bias=False)\n",
       "        (bn3): BatchNorm2d(256, eps=1e-05, momentum=0.1, affine=True, track_running_stats=True)\n",
       "        (relu): ReLU(inplace=True)\n",
       "      )\n",
       "      (2): Bottleneck(\n",
       "        (conv1): Conv2d(256, 64, kernel_size=(1, 1), stride=(1, 1), bias=False)\n",
       "        (bn1): BatchNorm2d(64, eps=1e-05, momentum=0.1, affine=True, track_running_stats=True)\n",
       "        (conv2): Conv2d(64, 64, kernel_size=(3, 3), stride=(1, 1), padding=(1, 1), bias=False)\n",
       "        (bn2): BatchNorm2d(64, eps=1e-05, momentum=0.1, affine=True, track_running_stats=True)\n",
       "        (conv3): Conv2d(64, 256, kernel_size=(1, 1), stride=(1, 1), bias=False)\n",
       "        (bn3): BatchNorm2d(256, eps=1e-05, momentum=0.1, affine=True, track_running_stats=True)\n",
       "        (relu): ReLU(inplace=True)\n",
       "      )\n",
       "    )\n",
       "    (layer2): Sequential(\n",
       "      (0): Bottleneck(\n",
       "        (conv1): Conv2d(256, 128, kernel_size=(1, 1), stride=(1, 1), bias=False)\n",
       "        (bn1): BatchNorm2d(128, eps=1e-05, momentum=0.1, affine=True, track_running_stats=True)\n",
       "        (conv2): Conv2d(128, 128, kernel_size=(3, 3), stride=(2, 2), padding=(1, 1), bias=False)\n",
       "        (bn2): BatchNorm2d(128, eps=1e-05, momentum=0.1, affine=True, track_running_stats=True)\n",
       "        (conv3): Conv2d(128, 512, kernel_size=(1, 1), stride=(1, 1), bias=False)\n",
       "        (bn3): BatchNorm2d(512, eps=1e-05, momentum=0.1, affine=True, track_running_stats=True)\n",
       "        (relu): ReLU(inplace=True)\n",
       "        (downsample): Sequential(\n",
       "          (0): Conv2d(256, 512, kernel_size=(1, 1), stride=(2, 2), bias=False)\n",
       "          (1): BatchNorm2d(512, eps=1e-05, momentum=0.1, affine=True, track_running_stats=True)\n",
       "        )\n",
       "      )\n",
       "      (1): Bottleneck(\n",
       "        (conv1): Conv2d(512, 128, kernel_size=(1, 1), stride=(1, 1), bias=False)\n",
       "        (bn1): BatchNorm2d(128, eps=1e-05, momentum=0.1, affine=True, track_running_stats=True)\n",
       "        (conv2): Conv2d(128, 128, kernel_size=(3, 3), stride=(1, 1), padding=(1, 1), bias=False)\n",
       "        (bn2): BatchNorm2d(128, eps=1e-05, momentum=0.1, affine=True, track_running_stats=True)\n",
       "        (conv3): Conv2d(128, 512, kernel_size=(1, 1), stride=(1, 1), bias=False)\n",
       "        (bn3): BatchNorm2d(512, eps=1e-05, momentum=0.1, affine=True, track_running_stats=True)\n",
       "        (relu): ReLU(inplace=True)\n",
       "      )\n",
       "      (2): Bottleneck(\n",
       "        (conv1): Conv2d(512, 128, kernel_size=(1, 1), stride=(1, 1), bias=False)\n",
       "        (bn1): BatchNorm2d(128, eps=1e-05, momentum=0.1, affine=True, track_running_stats=True)\n",
       "        (conv2): Conv2d(128, 128, kernel_size=(3, 3), stride=(1, 1), padding=(1, 1), bias=False)\n",
       "        (bn2): BatchNorm2d(128, eps=1e-05, momentum=0.1, affine=True, track_running_stats=True)\n",
       "        (conv3): Conv2d(128, 512, kernel_size=(1, 1), stride=(1, 1), bias=False)\n",
       "        (bn3): BatchNorm2d(512, eps=1e-05, momentum=0.1, affine=True, track_running_stats=True)\n",
       "        (relu): ReLU(inplace=True)\n",
       "      )\n",
       "      (3): Bottleneck(\n",
       "        (conv1): Conv2d(512, 128, kernel_size=(1, 1), stride=(1, 1), bias=False)\n",
       "        (bn1): BatchNorm2d(128, eps=1e-05, momentum=0.1, affine=True, track_running_stats=True)\n",
       "        (conv2): Conv2d(128, 128, kernel_size=(3, 3), stride=(1, 1), padding=(1, 1), bias=False)\n",
       "        (bn2): BatchNorm2d(128, eps=1e-05, momentum=0.1, affine=True, track_running_stats=True)\n",
       "        (conv3): Conv2d(128, 512, kernel_size=(1, 1), stride=(1, 1), bias=False)\n",
       "        (bn3): BatchNorm2d(512, eps=1e-05, momentum=0.1, affine=True, track_running_stats=True)\n",
       "        (relu): ReLU(inplace=True)\n",
       "      )\n",
       "    )\n",
       "    (layer3): Sequential(\n",
       "      (0): Bottleneck(\n",
       "        (conv1): Conv2d(512, 256, kernel_size=(1, 1), stride=(1, 1), bias=False)\n",
       "        (bn1): BatchNorm2d(256, eps=1e-05, momentum=0.1, affine=True, track_running_stats=True)\n",
       "        (conv2): Conv2d(256, 256, kernel_size=(3, 3), stride=(2, 2), padding=(1, 1), bias=False)\n",
       "        (bn2): BatchNorm2d(256, eps=1e-05, momentum=0.1, affine=True, track_running_stats=True)\n",
       "        (conv3): Conv2d(256, 1024, kernel_size=(1, 1), stride=(1, 1), bias=False)\n",
       "        (bn3): BatchNorm2d(1024, eps=1e-05, momentum=0.1, affine=True, track_running_stats=True)\n",
       "        (relu): ReLU(inplace=True)\n",
       "        (downsample): Sequential(\n",
       "          (0): Conv2d(512, 1024, kernel_size=(1, 1), stride=(2, 2), bias=False)\n",
       "          (1): BatchNorm2d(1024, eps=1e-05, momentum=0.1, affine=True, track_running_stats=True)\n",
       "        )\n",
       "      )\n",
       "      (1): Bottleneck(\n",
       "        (conv1): Conv2d(1024, 256, kernel_size=(1, 1), stride=(1, 1), bias=False)\n",
       "        (bn1): BatchNorm2d(256, eps=1e-05, momentum=0.1, affine=True, track_running_stats=True)\n",
       "        (conv2): Conv2d(256, 256, kernel_size=(3, 3), stride=(1, 1), padding=(1, 1), bias=False)\n",
       "        (bn2): BatchNorm2d(256, eps=1e-05, momentum=0.1, affine=True, track_running_stats=True)\n",
       "        (conv3): Conv2d(256, 1024, kernel_size=(1, 1), stride=(1, 1), bias=False)\n",
       "        (bn3): BatchNorm2d(1024, eps=1e-05, momentum=0.1, affine=True, track_running_stats=True)\n",
       "        (relu): ReLU(inplace=True)\n",
       "      )\n",
       "      (2): Bottleneck(\n",
       "        (conv1): Conv2d(1024, 256, kernel_size=(1, 1), stride=(1, 1), bias=False)\n",
       "        (bn1): BatchNorm2d(256, eps=1e-05, momentum=0.1, affine=True, track_running_stats=True)\n",
       "        (conv2): Conv2d(256, 256, kernel_size=(3, 3), stride=(1, 1), padding=(1, 1), bias=False)\n",
       "        (bn2): BatchNorm2d(256, eps=1e-05, momentum=0.1, affine=True, track_running_stats=True)\n",
       "        (conv3): Conv2d(256, 1024, kernel_size=(1, 1), stride=(1, 1), bias=False)\n",
       "        (bn3): BatchNorm2d(1024, eps=1e-05, momentum=0.1, affine=True, track_running_stats=True)\n",
       "        (relu): ReLU(inplace=True)\n",
       "      )\n",
       "      (3): Bottleneck(\n",
       "        (conv1): Conv2d(1024, 256, kernel_size=(1, 1), stride=(1, 1), bias=False)\n",
       "        (bn1): BatchNorm2d(256, eps=1e-05, momentum=0.1, affine=True, track_running_stats=True)\n",
       "        (conv2): Conv2d(256, 256, kernel_size=(3, 3), stride=(1, 1), padding=(1, 1), bias=False)\n",
       "        (bn2): BatchNorm2d(256, eps=1e-05, momentum=0.1, affine=True, track_running_stats=True)\n",
       "        (conv3): Conv2d(256, 1024, kernel_size=(1, 1), stride=(1, 1), bias=False)\n",
       "        (bn3): BatchNorm2d(1024, eps=1e-05, momentum=0.1, affine=True, track_running_stats=True)\n",
       "        (relu): ReLU(inplace=True)\n",
       "      )\n",
       "      (4): Bottleneck(\n",
       "        (conv1): Conv2d(1024, 256, kernel_size=(1, 1), stride=(1, 1), bias=False)\n",
       "        (bn1): BatchNorm2d(256, eps=1e-05, momentum=0.1, affine=True, track_running_stats=True)\n",
       "        (conv2): Conv2d(256, 256, kernel_size=(3, 3), stride=(1, 1), padding=(1, 1), bias=False)\n",
       "        (bn2): BatchNorm2d(256, eps=1e-05, momentum=0.1, affine=True, track_running_stats=True)\n",
       "        (conv3): Conv2d(256, 1024, kernel_size=(1, 1), stride=(1, 1), bias=False)\n",
       "        (bn3): BatchNorm2d(1024, eps=1e-05, momentum=0.1, affine=True, track_running_stats=True)\n",
       "        (relu): ReLU(inplace=True)\n",
       "      )\n",
       "      (5): Bottleneck(\n",
       "        (conv1): Conv2d(1024, 256, kernel_size=(1, 1), stride=(1, 1), bias=False)\n",
       "        (bn1): BatchNorm2d(256, eps=1e-05, momentum=0.1, affine=True, track_running_stats=True)\n",
       "        (conv2): Conv2d(256, 256, kernel_size=(3, 3), stride=(1, 1), padding=(1, 1), bias=False)\n",
       "        (bn2): BatchNorm2d(256, eps=1e-05, momentum=0.1, affine=True, track_running_stats=True)\n",
       "        (conv3): Conv2d(256, 1024, kernel_size=(1, 1), stride=(1, 1), bias=False)\n",
       "        (bn3): BatchNorm2d(1024, eps=1e-05, momentum=0.1, affine=True, track_running_stats=True)\n",
       "        (relu): ReLU(inplace=True)\n",
       "      )\n",
       "    )\n",
       "    (layer4): Sequential(\n",
       "      (0): Bottleneck(\n",
       "        (conv1): Conv2d(1024, 512, kernel_size=(1, 1), stride=(1, 1), bias=False)\n",
       "        (bn1): BatchNorm2d(512, eps=1e-05, momentum=0.1, affine=True, track_running_stats=True)\n",
       "        (conv2): Conv2d(512, 512, kernel_size=(3, 3), stride=(2, 2), padding=(1, 1), bias=False)\n",
       "        (bn2): BatchNorm2d(512, eps=1e-05, momentum=0.1, affine=True, track_running_stats=True)\n",
       "        (conv3): Conv2d(512, 2048, kernel_size=(1, 1), stride=(1, 1), bias=False)\n",
       "        (bn3): BatchNorm2d(2048, eps=1e-05, momentum=0.1, affine=True, track_running_stats=True)\n",
       "        (relu): ReLU(inplace=True)\n",
       "        (downsample): Sequential(\n",
       "          (0): Conv2d(1024, 2048, kernel_size=(1, 1), stride=(2, 2), bias=False)\n",
       "          (1): BatchNorm2d(2048, eps=1e-05, momentum=0.1, affine=True, track_running_stats=True)\n",
       "        )\n",
       "      )\n",
       "      (1): Bottleneck(\n",
       "        (conv1): Conv2d(2048, 512, kernel_size=(1, 1), stride=(1, 1), bias=False)\n",
       "        (bn1): BatchNorm2d(512, eps=1e-05, momentum=0.1, affine=True, track_running_stats=True)\n",
       "        (conv2): Conv2d(512, 512, kernel_size=(3, 3), stride=(1, 1), padding=(1, 1), bias=False)\n",
       "        (bn2): BatchNorm2d(512, eps=1e-05, momentum=0.1, affine=True, track_running_stats=True)\n",
       "        (conv3): Conv2d(512, 2048, kernel_size=(1, 1), stride=(1, 1), bias=False)\n",
       "        (bn3): BatchNorm2d(2048, eps=1e-05, momentum=0.1, affine=True, track_running_stats=True)\n",
       "        (relu): ReLU(inplace=True)\n",
       "      )\n",
       "      (2): Bottleneck(\n",
       "        (conv1): Conv2d(2048, 512, kernel_size=(1, 1), stride=(1, 1), bias=False)\n",
       "        (bn1): BatchNorm2d(512, eps=1e-05, momentum=0.1, affine=True, track_running_stats=True)\n",
       "        (conv2): Conv2d(512, 512, kernel_size=(3, 3), stride=(1, 1), padding=(1, 1), bias=False)\n",
       "        (bn2): BatchNorm2d(512, eps=1e-05, momentum=0.1, affine=True, track_running_stats=True)\n",
       "        (conv3): Conv2d(512, 2048, kernel_size=(1, 1), stride=(1, 1), bias=False)\n",
       "        (bn3): BatchNorm2d(2048, eps=1e-05, momentum=0.1, affine=True, track_running_stats=True)\n",
       "        (relu): ReLU(inplace=True)\n",
       "      )\n",
       "    )\n",
       "    (avgpool): AdaptiveAvgPool2d(output_size=(1, 1))\n",
       "    (fc): Linear(in_features=2048, out_features=4, bias=True)\n",
       "  )\n",
       ")"
      ]
     },
     "execution_count": 169,
     "metadata": {},
     "output_type": "execute_result"
    }
   ],
   "source": [
    "modelLoad.eval()"
   ]
  },
  {
   "cell_type": "code",
   "execution_count": 170,
   "id": "c9291a88-df06-4f13-a81a-f59bdd2370c6",
   "metadata": {},
   "outputs": [],
   "source": [
    "test_data = HyperViewDataset(None, os.path.join(test_data_directory), True, means, stds, train_transforms=False)"
   ]
  },
  {
   "cell_type": "code",
   "execution_count": 171,
   "id": "93e1aaa9-81d7-4f54-8932-b0c32781e550",
   "metadata": {},
   "outputs": [],
   "source": [
    "test_dataloader = DataLoader(test_data, batch_size=BATCH_SIZE, pin_memory=True, drop_last=False, num_workers=4)"
   ]
  },
  {
   "cell_type": "code",
   "execution_count": 172,
   "id": "67adb2b7-3add-4999-8ead-d5b5e9e34a54",
   "metadata": {},
   "outputs": [
    {
     "data": {
      "text/plain": [
       "1154"
      ]
     },
     "execution_count": 172,
     "metadata": {},
     "output_type": "execute_result"
    }
   ],
   "source": [
    "len(test_data)"
   ]
  },
  {
   "cell_type": "code",
   "execution_count": 173,
   "id": "38cc5f0a-cdd8-4c94-ad66-941f2cbee6fe",
   "metadata": {},
   "outputs": [
    {
     "data": {
      "application/vnd.jupyter.widget-view+json": {
       "model_id": "",
       "version_major": 2,
       "version_minor": 0
      },
      "text/plain": [
       "test data:   0%|          | 0/97 [00:00<?, ?it/s]"
      ]
     },
     "metadata": {},
     "output_type": "display_data"
    }
   ],
   "source": [
    "output_list = []\n",
    "bar = tqdm(test_dataloader, position=0, leave=False, desc=f'test data')\n",
    "for test_data in bar: # for each test step\n",
    "        img_data_device = test_data['image'].to(device, dtype=torch.float)\n",
    "        \n",
    "        output = modelLoad(img_data_device)\n",
    "        output_cpu = output.detach().cpu().numpy()\n",
    "        output_list.append(output_cpu)\n",
    "        "
   ]
  },
  {
   "cell_type": "code",
   "execution_count": 174,
   "id": "63aba28f-9c79-4a8d-89d5-b0fc7c1f5515",
   "metadata": {},
   "outputs": [
    {
     "data": {
      "text/html": [
       "<div>\n",
       "<style scoped>\n",
       "    .dataframe tbody tr th:only-of-type {\n",
       "        vertical-align: middle;\n",
       "    }\n",
       "\n",
       "    .dataframe tbody tr th {\n",
       "        vertical-align: top;\n",
       "    }\n",
       "\n",
       "    .dataframe thead th {\n",
       "        text-align: right;\n",
       "    }\n",
       "</style>\n",
       "<table border=\"1\" class=\"dataframe\">\n",
       "  <thead>\n",
       "    <tr style=\"text-align: right;\">\n",
       "      <th></th>\n",
       "      <th>P</th>\n",
       "      <th>K</th>\n",
       "      <th>Mg</th>\n",
       "      <th>pH</th>\n",
       "    </tr>\n",
       "  </thead>\n",
       "  <tbody>\n",
       "    <tr>\n",
       "      <th>0</th>\n",
       "      <td>68.398071</td>\n",
       "      <td>224.611435</td>\n",
       "      <td>169.509705</td>\n",
       "      <td>7.005970</td>\n",
       "    </tr>\n",
       "    <tr>\n",
       "      <th>1</th>\n",
       "      <td>68.576538</td>\n",
       "      <td>228.310730</td>\n",
       "      <td>172.012131</td>\n",
       "      <td>7.018211</td>\n",
       "    </tr>\n",
       "    <tr>\n",
       "      <th>2</th>\n",
       "      <td>68.291412</td>\n",
       "      <td>226.336548</td>\n",
       "      <td>171.499130</td>\n",
       "      <td>7.001803</td>\n",
       "    </tr>\n",
       "    <tr>\n",
       "      <th>3</th>\n",
       "      <td>68.157555</td>\n",
       "      <td>228.537262</td>\n",
       "      <td>174.187378</td>\n",
       "      <td>6.996294</td>\n",
       "    </tr>\n",
       "    <tr>\n",
       "      <th>4</th>\n",
       "      <td>68.600990</td>\n",
       "      <td>230.233856</td>\n",
       "      <td>173.244415</td>\n",
       "      <td>7.020438</td>\n",
       "    </tr>\n",
       "    <tr>\n",
       "      <th>...</th>\n",
       "      <td>...</td>\n",
       "      <td>...</td>\n",
       "      <td>...</td>\n",
       "      <td>...</td>\n",
       "    </tr>\n",
       "    <tr>\n",
       "      <th>1149</th>\n",
       "      <td>62.939968</td>\n",
       "      <td>181.073547</td>\n",
       "      <td>156.755661</td>\n",
       "      <td>6.829067</td>\n",
       "    </tr>\n",
       "    <tr>\n",
       "      <th>1150</th>\n",
       "      <td>63.825436</td>\n",
       "      <td>183.976730</td>\n",
       "      <td>152.502777</td>\n",
       "      <td>6.818033</td>\n",
       "    </tr>\n",
       "    <tr>\n",
       "      <th>1151</th>\n",
       "      <td>70.256897</td>\n",
       "      <td>242.273987</td>\n",
       "      <td>172.824997</td>\n",
       "      <td>6.913559</td>\n",
       "    </tr>\n",
       "    <tr>\n",
       "      <th>1152</th>\n",
       "      <td>60.318569</td>\n",
       "      <td>193.836655</td>\n",
       "      <td>176.919891</td>\n",
       "      <td>6.504015</td>\n",
       "    </tr>\n",
       "    <tr>\n",
       "      <th>1153</th>\n",
       "      <td>68.751999</td>\n",
       "      <td>234.888489</td>\n",
       "      <td>172.050400</td>\n",
       "      <td>6.741273</td>\n",
       "    </tr>\n",
       "  </tbody>\n",
       "</table>\n",
       "<p>1154 rows × 4 columns</p>\n",
       "</div>"
      ],
      "text/plain": [
       "              P           K          Mg        pH\n",
       "0     68.398071  224.611435  169.509705  7.005970\n",
       "1     68.576538  228.310730  172.012131  7.018211\n",
       "2     68.291412  226.336548  171.499130  7.001803\n",
       "3     68.157555  228.537262  174.187378  6.996294\n",
       "4     68.600990  230.233856  173.244415  7.020438\n",
       "...         ...         ...         ...       ...\n",
       "1149  62.939968  181.073547  156.755661  6.829067\n",
       "1150  63.825436  183.976730  152.502777  6.818033\n",
       "1151  70.256897  242.273987  172.824997  6.913559\n",
       "1152  60.318569  193.836655  176.919891  6.504015\n",
       "1153  68.751999  234.888489  172.050400  6.741273\n",
       "\n",
       "[1154 rows x 4 columns]"
      ]
     },
     "execution_count": 174,
     "metadata": {},
     "output_type": "execute_result"
    }
   ],
   "source": [
    "submission = pd.DataFrame(data = [item for sublist in output_list for item in sublist], columns=[\"P\", \"K\", \"Mg\", \"pH\"])\n",
    "submission"
   ]
  },
  {
   "cell_type": "code",
   "execution_count": 175,
   "id": "fd75c85f-8852-4b10-8bb5-88e56bbbd0ba",
   "metadata": {},
   "outputs": [],
   "source": [
    "submission.to_csv(os.path.join(submissions_directory, \"Proper_data_submission_02_03_2022_ResNet50_Checkpoint.csv\"), index_label=\"sample_index\")"
   ]
  },
  {
   "cell_type": "code",
   "execution_count": null,
   "id": "ea7546e7-bd9b-4b51-b2ae-2d00fdb30e51",
   "metadata": {},
   "outputs": [],
   "source": []
  }
 ],
 "metadata": {
  "kernelspec": {
   "display_name": "Python 3.7",
   "language": "python",
   "name": "python3"
  },
  "language_info": {
   "codemirror_mode": {
    "name": "ipython",
    "version": 3
   },
   "file_extension": ".py",
   "mimetype": "text/x-python",
   "name": "python",
   "nbconvert_exporter": "python",
   "pygments_lexer": "ipython3",
   "version": "3.7.12"
  }
 },
 "nbformat": 4,
 "nbformat_minor": 5
}
